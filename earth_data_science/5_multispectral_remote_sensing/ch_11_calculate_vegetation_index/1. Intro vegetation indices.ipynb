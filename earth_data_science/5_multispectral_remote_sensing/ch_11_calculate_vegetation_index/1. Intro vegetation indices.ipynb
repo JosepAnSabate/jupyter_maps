{
 "cells": [
  {
   "cell_type": "markdown",
   "id": "cc0206b9",
   "metadata": {},
   "source": [
    "## About Vegetation Indices\n",
    "A vegetation index is a single value that quantifies vegetation health or structure. The math associated with calculating a vegetation index is derived from the physics of light reflection and absorption across bands."
   ]
  },
  {
   "cell_type": "markdown",
   "id": "6e0b9d81",
   "metadata": {},
   "source": [
    "![ndvi](./img/ndvi.PNG)"
   ]
  },
  {
   "cell_type": "markdown",
   "id": "61c746e7",
   "metadata": {},
   "source": [
    "#### (NIR - Red) / (NIR + Red)"
   ]
  },
  {
   "cell_type": "markdown",
   "id": "423a3b4c",
   "metadata": {},
   "source": [
    "### Normalized Burn Ratio (NBR)\n",
    "The Normalized burn ratio (NBR) is used to identify burned areas. The formula is similar to a normalized difference vegetation index (NDVI), except that it uses near-infrared (NIR) and shortwave-infrared (SWIR) portions of the electromagnetic spectrum (Lopez, 1991; Key and Benson, 1995)."
   ]
  },
  {
   "cell_type": "markdown",
   "id": "4f07847a",
   "metadata": {},
   "source": [
    "![nbr](./img/nbr.PNG)"
   ]
  },
  {
   "cell_type": "markdown",
   "id": "6e45ace5",
   "metadata": {},
   "source": [
    "The NIR and SWIR parts of the electromagnetic spectrum are a powerful combination of bands to use for this index given vegetation reflects strongly in the NIR region of the electromagnetic spectrum and weakly in the SWIR. Alternatively, it has been shown that a fire scar which contains scarred woody vegetation and earth will reflect more strongly in the SWIR part of the electromagnetic spectrum and beyond (see figure below)."
   ]
  },
  {
   "cell_type": "markdown",
   "id": "32c8a49d",
   "metadata": {},
   "source": [
    "![ndvi](./img/spec.PNG)"
   ]
  },
  {
   "cell_type": "markdown",
   "id": "6b91a08c",
   "metadata": {},
   "source": [
    "Plants reflect strongly in the NIR portion of the spectrum but spectrun. reflect much less strongly in the SWIR portion which makes this combination powerful for identifying areas with standing dead stems (fire scarred wood / bark) and soil / earth. Source: US Forest Service"
   ]
  },
  {
   "cell_type": "markdown",
   "id": "776cc6a7",
   "metadata": {},
   "source": [
    "## NBR Bands\n",
    "The NBR index was originally developed for use with Landsat TM and ETM+ bands 4 and 7, but it will work with any multispectral sensor with a NIR band between 760 - 900 nm and a SWIR band between 2080 - 2350 nm. Thus this index can be used with both Landsat 8, MODIS and other multi (and hyper) spectral sensors."
   ]
  },
  {
   "cell_type": "markdown",
   "id": "c75ddd7f",
   "metadata": {},
   "source": [
    "## Difference NBR\n",
    "The Normalized Burn Ratio is most powerful as a tool to better understand fire extent and severity when used after calculating the difference between pre and post fire conditions. This difference is best measured using data collected immediately before the fire and then immediately after the fire. NBR is less effective if time has passed and vegetation regrowth / regeneration has begun after the fire. Once vegetation regeneration has begun, the fire scar will begin to reflect a stronger signal in the NIR portion of the spectrum because healthy plants reflect strongly in the NIR portion due to the properties of chlorophyll).\n",
    "\n",
    "For this reason, the NBR ratio works better in areas like the United States where plant regeneration is expected to occur more slowly. In areas like the tropics which are wet and characterized by rapid regrowth, NBR may be less effective.\n",
    "\n",
    "To calculate the difference NBR, you subtract the post-fire NBR raster from the pre-fire NBR raster as follows:"
   ]
  },
  {
   "cell_type": "markdown",
   "id": "06f147fe",
   "metadata": {},
   "source": [
    "![ndvi](./img/dnbr.jpg)"
   ]
  },
  {
   "cell_type": "markdown",
   "id": "cb48db3f",
   "metadata": {},
   "source": [
    "![ndvi](./img/dgr.PNG)"
   ]
  },
  {
   "cell_type": "markdown",
   "id": "621f6149",
   "metadata": {},
   "source": [
    "## NBR & Water - False Positives\n",
    "The NBR index can be a powerful tool to identify pixels that have a high likelyhood or being “burned”. However it is important to know that this index is also sensitive to water and thus sometimes, pixels that are classified as “high severity” may actually be water. Because of this, it is important to mask out areas of water PRIOR to performing any quantitative analysis on the difference NBR results."
   ]
  },
  {
   "cell_type": "code",
   "execution_count": null,
   "id": "7e228809",
   "metadata": {},
   "outputs": [],
   "source": []
  }
 ],
 "metadata": {
  "kernelspec": {
   "display_name": "Python 3",
   "language": "python",
   "name": "python3"
  },
  "language_info": {
   "codemirror_mode": {
    "name": "ipython",
    "version": 3
   },
   "file_extension": ".py",
   "mimetype": "text/x-python",
   "name": "python",
   "nbconvert_exporter": "python",
   "pygments_lexer": "ipython3",
   "version": "3.9.4"
  }
 },
 "nbformat": 4,
 "nbformat_minor": 5
}
