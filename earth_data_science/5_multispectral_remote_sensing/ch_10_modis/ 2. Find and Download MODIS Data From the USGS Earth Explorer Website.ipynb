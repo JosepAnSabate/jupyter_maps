{
 "cells": [
  {
   "cell_type": "markdown",
   "id": "c46f1802",
   "metadata": {},
   "source": [
    "## MODIS Products\n",
    "### Aqua and Terra\n",
    "MODIS, unlike Landsat satellites, is not just one satellite. MODIS consists of two seperate satellites with distinct missions. The appropriately named Aqua and Terra satellites both focus their data collection on their area of specialty, water and land respectively. For land based earth analytics projects, such as calculating NDVI or NBR, you should generally be getting your data from the Terra satellite, as it is the one that focuses on land based data collection."
   ]
  },
  {
   "cell_type": "markdown",
   "id": "8ca323a8",
   "metadata": {},
   "source": [
    "## Surface Reflectance Products\n",
    "You may notice that once we narrow our search down to just the surface reflectance products from MODIS,."
   ]
  },
  {
   "cell_type": "markdown",
   "id": "c86bc8d6",
   "metadata": {},
   "source": [
    "https://www.earthdatascience.org/courses/use-data-open-source-python/multispectral-remote-sensing/modis-data-in-python/download-modis-hdf4-data/"
   ]
  },
  {
   "cell_type": "code",
   "execution_count": null,
   "id": "97554d52",
   "metadata": {},
   "outputs": [],
   "source": []
  }
 ],
 "metadata": {
  "kernelspec": {
   "display_name": "Python 3",
   "language": "python",
   "name": "python3"
  },
  "language_info": {
   "codemirror_mode": {
    "name": "ipython",
    "version": 3
   },
   "file_extension": ".py",
   "mimetype": "text/x-python",
   "name": "python",
   "nbconvert_exporter": "python",
   "pygments_lexer": "ipython3",
   "version": "3.9.4"
  }
 },
 "nbformat": 4,
 "nbformat_minor": 5
}
