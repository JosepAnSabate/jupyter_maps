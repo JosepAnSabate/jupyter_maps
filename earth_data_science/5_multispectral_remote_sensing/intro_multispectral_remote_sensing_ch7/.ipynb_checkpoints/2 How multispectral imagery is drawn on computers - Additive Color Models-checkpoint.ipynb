{
 "cells": [
  {
   "cell_type": "markdown",
   "id": "173667f9",
   "metadata": {},
   "source": [
    "## 2. How multispectral imagery is drawn on computers - Additive Color Models"
   ]
  },
  {
   "cell_type": "markdown",
   "id": "f3c0f985",
   "metadata": {},
   "source": [
    "https://www.youtube.com/watch?v=hxJ7QbPbNkg"
   ]
  },
  {
   "cell_type": "markdown",
   "id": "60918cf2",
   "metadata": {},
   "source": [
    "https://www.youtube.com/watch?v=Er7CM_RNFZ4"
   ]
  },
  {
   "cell_type": "markdown",
   "id": "8da67053",
   "metadata": {},
   "source": [
    "https://www.youtube.com/watch?v=HzY4Q5fKxmU"
   ]
  },
  {
   "cell_type": "markdown",
   "id": "05f1001d",
   "metadata": {},
   "source": [
    "https://www.chem.purdue.edu/gchelp/cchem/RGBColors/body_rgbcolors.html"
   ]
  },
  {
   "cell_type": "code",
   "execution_count": null,
   "id": "0dd422e2",
   "metadata": {},
   "outputs": [],
   "source": []
  }
 ],
 "metadata": {
  "kernelspec": {
   "display_name": "Python 3",
   "language": "python",
   "name": "python3"
  },
  "language_info": {
   "codemirror_mode": {
    "name": "ipython",
    "version": 3
   },
   "file_extension": ".py",
   "mimetype": "text/x-python",
   "name": "python",
   "nbconvert_exporter": "python",
   "pygments_lexer": "ipython3",
   "version": "3.9.4"
  }
 },
 "nbformat": 4,
 "nbformat_minor": 5
}
