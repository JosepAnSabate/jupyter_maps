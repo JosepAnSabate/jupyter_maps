{
 "cells": [
  {
   "cell_type": "markdown",
   "id": "7b1e29b4",
   "metadata": {},
   "source": [
    "# Lesson 1. Introduction to Multispectral Remote Sensing Data in Python\n"
   ]
  },
  {
   "cell_type": "markdown",
   "id": "0126caf9",
   "metadata": {},
   "source": [
    "Often when you work with a multispectral dataset, the band information is reported as the center wavelength value. This value represents the center point value of the wavelengths represented in that band. Thus in a band spanning 800-850 nm, the center would be 825 nm."
   ]
  },
  {
   "cell_type": "markdown",
   "id": "51d6faf8",
   "metadata": {},
   "source": [
    "## Spectral Resolution\n",
    "The spectral resolution of a dataset that has more than one band, refers to the spectral width of each band in the dataset. In the image above, a band was defined as spanning 800-810 nm. The spectral width or spectral resolution of the band is thus 10 nm. "
   ]
  },
  {
   "cell_type": "markdown",
   "id": "2c494b81",
   "metadata": {},
   "source": [
    "## Spatial Resolution\n",
    "The spatial resolution of a raster represents the area on the ground that each pixel covers."
   ]
  },
  {
   "cell_type": "markdown",
   "id": "878e5fa8",
   "metadata": {},
   "source": [
    "### Introduction to Multi-Band Raster Data\n",
    "Earlier in this course, you worked with raster data derived from lidar remote sensing instruments. These rasters consisted of one layer or band and contained height values derived from lidar data. In this lesson, you will learn how to work with rasters containing multispectral imagery data stored within multiple bands (or layers).\n",
    "\n",
    "Just like you did with single band rasters, you will use the rasterio.open() function to open multi band raster data in Python.\n",
    "\n",
    "- To import multi-band raster data you will use the stack() function.\n",
    "- If your multi-band data are imagery that you wish to composite into a color image, you can use the earthpy plot_rgb() function to plot a 3 band raster image.\n"
   ]
  },
  {
   "cell_type": "markdown",
   "id": "94ae812b",
   "metadata": {},
   "source": [
    "**Multi or hyperspectral imagery:** image rasters that have 4 or more (multi-spectral) or more than 10-15 (hyperspectral) bands."
   ]
  },
  {
   "cell_type": "markdown",
   "id": "b3fbb48f",
   "metadata": {},
   "source": [
    "## NAIP: National Agricultural Imagery Program data (Airbone data)"
   ]
  },
  {
   "cell_type": "markdown",
   "id": "23e61275",
   "metadata": {},
   "source": [
    "NAIP imagery is available in the United States and typically has three bands - red, green and blue. However, sometimes, there is a 4th near-infrared band available. NAIP imagery typically is 1m spatial resolution, meaning that each pixel represents 1 meter on the Earth’s surface. NAIP data is often collected using a camera mounted on an **airplane** and is collected for a given geographic area every few years."
   ]
  },
  {
   "cell_type": "markdown",
   "id": "6f28c9c9",
   "metadata": {},
   "source": [
    "## Landsat 8\n",
    " The Landsat instrument collects data at 30 meter spatial resolution but also has 11 bands distributed across the electromagnetic spectrum compared to the 3 or 4 that NAIP imagery has. Landsat also has one panchromatic band that collects information across the visible portion of the spectrum at 15 m spatial resolution."
   ]
  },
  {
   "cell_type": "markdown",
   "id": "2c2672ea",
   "metadata": {},
   "source": [
    "![landsat](./img/landsat.png)"
   ]
  },
  {
   "cell_type": "markdown",
   "id": "2b929aa5",
   "metadata": {},
   "source": [
    "The bands for Landsat 7 (bottom) vs Landsat 8 (top). there are several other Landsat instruments that provide data - the most commonly used being Landsat 5 and 7. The specifications for each instrument are different. Source: USGS Landsat."
   ]
  },
  {
   "cell_type": "markdown",
   "id": "8f1c45ae",
   "metadata": {},
   "source": [
    "## MODIS\n",
    "The Moderate Resolution Imaging Spectrometer (MODIS) instrument is another satellite based instrument that continuously collects data over the Earth’s surface. MODIS collects spectral information at several spatial resolutions including 250m, 500m and 1000m. You will be working with the 500 m spatial resolution MODIS data in this class. MODIS has 36 bands however in class you will learn about only the first 7 bands."
   ]
  },
  {
   "cell_type": "markdown",
   "id": "fb8bee6e",
   "metadata": {},
   "source": [
    "![modis](./img/modis.png)"
   ]
  },
  {
   "cell_type": "code",
   "execution_count": null,
   "id": "efb47ded",
   "metadata": {},
   "outputs": [],
   "source": []
  }
 ],
 "metadata": {
  "kernelspec": {
   "display_name": "Python 3",
   "language": "python",
   "name": "python3"
  },
  "language_info": {
   "codemirror_mode": {
    "name": "ipython",
    "version": 3
   },
   "file_extension": ".py",
   "mimetype": "text/x-python",
   "name": "python",
   "nbconvert_exporter": "python",
   "pygments_lexer": "ipython3",
   "version": "3.9.4"
  }
 },
 "nbformat": 4,
 "nbformat_minor": 5
}
