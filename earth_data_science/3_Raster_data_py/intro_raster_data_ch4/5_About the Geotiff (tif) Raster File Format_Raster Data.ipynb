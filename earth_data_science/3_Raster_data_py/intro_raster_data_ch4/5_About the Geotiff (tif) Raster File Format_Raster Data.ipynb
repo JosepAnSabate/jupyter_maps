{
 "cells": [
  {
   "cell_type": "markdown",
   "id": "71d1cfe6",
   "metadata": {},
   "source": [
    "### Learning Objectives\n",
    "- Access metadata stored within a geotiff raster file via tif tags in Python.\n",
    "- Describe the difference between embedded metadata and non embedded metadata.\n",
    "- Use .meta to quickly view key spatial metadata attributes associated with a spatial file."
   ]
  },
  {
   "cell_type": "markdown",
   "id": "8f991910",
   "metadata": {},
   "source": [
    "## What is a GeoTIFF?\n",
    "A GeoTIFF is a standard .tif or image file format that includes additional spatial (georeferencing) information embedded in the .tif file as tags. These embedded tags are called tif tags. These tags can include the following raster metadata:\n",
    "\n",
    "Spatial Extent: What area does this dataset cover?\n",
    "Coordinate reference system: What spatial projection / coordinate reference system is used to store the data? Will it line up with other data?\n",
    "Resolution: The data appears to be in raster format. This means it is composed of pixels. What area on the ground does each pixel cover - i.e. What is its spatial resolution?\n",
    "nodata value\n",
    "How many layers are in the .tif file. (more on that later)"
   ]
  },
  {
   "cell_type": "markdown",
   "id": "d8ad5baa",
   "metadata": {},
   "source": [
    "#### Geotiffs in Python\n",
    "The rasterio package in Python allows us to both open geotiff files and also to directly access .tif tags programmatically. You can quickly view the spatial extent, coordinate reference system and resolution of your raster data.\n",
    "\n",
    "NOTE: not all GeoTIFFs contain tif tags!"
   ]
  },
  {
   "cell_type": "code",
   "execution_count": 1,
   "id": "600c46e8",
   "metadata": {},
   "outputs": [],
   "source": [
    "# Import necessary packages\n",
    "import os\n",
    "import rioxarray as rxr\n",
    "import earthpy as et\n",
    "\n",
    "# Get data and set working directory\n",
    "et.data.get_data(\"colorado-flood\")\n",
    "os.chdir(os.path.join(et.io.HOME,\n",
    "                      'earth-analytics',\n",
    "                      'data'))"
   ]
  },
  {
   "cell_type": "markdown",
   "id": "bfa38362",
   "metadata": {},
   "source": [
    "Next let’s open up a raster file in geotiff format (.tif)."
   ]
  },
  {
   "cell_type": "code",
   "execution_count": 4,
   "id": "3b801484",
   "metadata": {},
   "outputs": [
    {
     "data": {
      "text/plain": [
       "(472000.0, 4434000.0, 476000.0, 4436000.0)"
      ]
     },
     "execution_count": 4,
     "metadata": {},
     "output_type": "execute_result"
    }
   ],
   "source": [
    "# Define relative path to file\n",
    "lidar_dem_path = os.path.join(\"colorado-flood\",\n",
    "                              \"spatial\",\n",
    "                              \"boulder-leehill-rd\",\n",
    "                              \"pre-flood\",\n",
    "                              \"lidar\",\n",
    "                              \"pre_DTM.tif\")\n",
    "\n",
    "pre_lidar_dem = rxr.open_rasterio(lidar_dem_path,\n",
    "                                 masked=True)#masked (bool, optional) – If True, read the mask and set values to NaN. Defaults to False.\n",
    "pre_lidar_dem.rio.bounds()"
   ]
  },
  {
   "cell_type": "markdown",
   "id": "7fb529c3",
   "metadata": {},
   "source": [
    "Data Tip: Rioxarray wraps around much of the rasterio functionality. Read more about attributes associated with rasterio objects and how they map to gdal objects.\n",
    "\n"
   ]
  },
  {
   "cell_type": "markdown",
   "id": "8aca7440",
   "metadata": {},
   "source": [
    "You can view spatial attibutes associated with the raster file too. Below you explore viewing a general list of attributes and then specific attributes including number of bands and horizontal (x, y) resolution."
   ]
  },
  {
   "cell_type": "code",
   "execution_count": 6,
   "id": "59bb6452",
   "metadata": {},
   "outputs": [
    {
     "name": "stdout",
     "output_type": "stream",
     "text": [
      "The crs of your data is: EPSG:32613\n",
      "The nodatavalue of your data is: nan\n",
      "The shape of your data is: (1, 2000, 4000)\n",
      "The spatial resolution for your data is: (1.0, -1.0)\n",
      "The metadata for your data is: {'scale_factor': 1.0, 'add_offset': 0.0}\n"
     ]
    }
   ],
   "source": [
    "# View generate metadata associated with the raster file\n",
    "print(\"The crs of your data is:\", pre_lidar_dem.rio.crs)\n",
    "print(\"The nodatavalue of your data is:\", pre_lidar_dem.rio.nodata)\n",
    "print(\"The shape of your data is:\", pre_lidar_dem.shape)#no rio\n",
    "print(\"The spatial resolution for your data is:\", pre_lidar_dem.rio.resolution())\n",
    "print(\"The metadata for your data is:\", pre_lidar_dem.attrs)#no rio"
   ]
  },
  {
   "cell_type": "code",
   "execution_count": 7,
   "id": "aa3bbc73",
   "metadata": {},
   "outputs": [
    {
     "data": {
      "text/plain": [
       "(1.0, -1.0)"
      ]
     },
     "execution_count": 7,
     "metadata": {},
     "output_type": "execute_result"
    }
   ],
   "source": [
    "# What is the spatial resolution?\n",
    "pre_lidar_dem.rio.resolution()\n",
    "#1mx1xm"
   ]
  },
  {
   "cell_type": "markdown",
   "id": "477fb81e",
   "metadata": {},
   "source": [
    "The information returned from the various attributes called above includes:\n",
    "\n",
    "- x and y resolution\n",
    "- projection\n",
    "- data format (in this case your data are stored in float format which means they contain decimals)\n",
    "and more. You can also extract or view individual metadata attributes.\n",
    "\n"
   ]
  },
  {
   "cell_type": "code",
   "execution_count": 8,
   "id": "a227b18e",
   "metadata": {},
   "outputs": [
    {
     "name": "stdout",
     "output_type": "stream",
     "text": [
      "The CRS of this data is:  EPSG:32613\n",
      "The spatial extent of this data is:  (472000.0, 4434000.0, 476000.0, 4436000.0)\n"
     ]
    }
   ],
   "source": [
    "print(\"The CRS of this data is: \", pre_lidar_dem.rio.crs)\n",
    "print(\"The spatial extent of this data is: \",pre_lidar_dem.rio.bounds())"
   ]
  },
  {
   "cell_type": "markdown",
   "id": "345da733",
   "metadata": {},
   "source": [
    "If you extract metadata from your data, you can then perform tests on the data as you process it. For instance, you can ask the question:\n",
    "\n",
    "## Do both datasets have the same spatial extent?"
   ]
  },
  {
   "cell_type": "code",
   "execution_count": 11,
   "id": "81f88733",
   "metadata": {},
   "outputs": [],
   "source": [
    "# Define relative path to file\n",
    "lidar_dsm_path = os.path.join(\"colorado-flood\", \n",
    "                              \"spatial\",\n",
    "                              \"boulder-leehill-rd\", \n",
    "                              \"pre-flood\", \n",
    "                              \"lidar\",\n",
    "                              \"pre_DSM.tif\")\n",
    "\n",
    "# Open lidar dsm\n",
    "pre_lidar_dsm = rxr.open_rasterio(lidar_dsm_path)"
   ]
  },
  {
   "cell_type": "code",
   "execution_count": 12,
   "id": "c4d8717e",
   "metadata": {},
   "outputs": [
    {
     "name": "stdout",
     "output_type": "stream",
     "text": [
      "Both datasets cover the same spatial extent.\n"
     ]
    }
   ],
   "source": [
    "if pre_lidar_dem.rio.bounds() == pre_lidar_dsm.rio.bounds():\n",
    "    print(\"Both datasets cover the same spatial extent.\")"
   ]
  },
  {
   "cell_type": "markdown",
   "id": "5478bd73",
   "metadata": {},
   "source": [
    "## How about resolution? Do both datasets have the same horizontal (x and y) resolution?\n",
    "\n"
   ]
  },
  {
   "cell_type": "code",
   "execution_count": 13,
   "id": "7859ba83",
   "metadata": {},
   "outputs": [
    {
     "data": {
      "text/plain": [
       "True"
      ]
     },
     "execution_count": 13,
     "metadata": {},
     "output_type": "execute_result"
    }
   ],
   "source": [
    "# Do both layers have the same spatial resolution?\n",
    "pre_lidar_dem.rio.resolution() == pre_lidar_dsm.rio.resolution()"
   ]
  },
  {
   "cell_type": "markdown",
   "id": "c1c64990",
   "metadata": {},
   "source": [
    "## Extra Metadata with EPSG\n",
    "EPSG is short-hand way of specifying many CRS parameters at once. Each EPSG code correspondings to a Proj4 code. In rasterio, more metadata is available if you use Proj4 instead of EPSG.\n",
    "\n",
    "To see the Proj4 parameters for a given EPSG code, you can either look them up online or use the EPSG to Proj4 dictionary:\n",
    "https://www.spatialreference.org/ref/epsg/32613/"
   ]
  },
  {
   "cell_type": "code",
   "execution_count": 14,
   "id": "3f719f35",
   "metadata": {},
   "outputs": [
    {
     "data": {
      "text/plain": [
       "CRS.from_epsg(32613)"
      ]
     },
     "execution_count": 14,
     "metadata": {},
     "output_type": "execute_result"
    }
   ],
   "source": [
    "# Get crs of a crs object\n",
    "pre_lidar_dem.rio.crs"
   ]
  },
  {
   "cell_type": "markdown",
   "id": "172e56fd",
   "metadata": {},
   "source": [
    "You can use et.epsg lookup to get the proj4 string for an epsg code too. Earthpy is a python package build for you by your instructors. We are working on better documentation for it but for the time being you will find snippets of how to use it here."
   ]
  },
  {
   "cell_type": "code",
   "execution_count": 15,
   "id": "71fdc5dc",
   "metadata": {},
   "outputs": [
    {
     "data": {
      "text/plain": [
       "'+proj=utm +zone=13 +datum=WGS84 +units=m +no_defs'"
      ]
     },
     "execution_count": 15,
     "metadata": {},
     "output_type": "execute_result"
    }
   ],
   "source": [
    "et.epsg['32613']"
   ]
  },
  {
   "cell_type": "markdown",
   "id": "7be8fdf3",
   "metadata": {},
   "source": [
    "## Single Layer (or Band) vs Multi-Layer (Band Geotiffs)\n",
    "You will learn more about multi vs single band imagery when you work with RGB (color) imagery in later weeks of this course. However **geotiffs can also store more than one band or layer.** You can see if a raster object has more than one layer using the **.shape** attribute. The first dimension of the .shape output represents the number of bands."
   ]
  },
  {
   "cell_type": "code",
   "execution_count": 16,
   "id": "84165995",
   "metadata": {},
   "outputs": [
    {
     "name": "stdout",
     "output_type": "stream",
     "text": [
      "(1, 2000, 4000)\n"
     ]
    }
   ],
   "source": [
    "print(pre_lidar_dem.shape)"
   ]
  },
  {
   "cell_type": "markdown",
   "id": "8e931798",
   "metadata": {},
   "source": [
    "Another way to **see the number of bands** is to use the .rio.count attribute."
   ]
  },
  {
   "cell_type": "code",
   "execution_count": 17,
   "id": "43a2e581",
   "metadata": {},
   "outputs": [
    {
     "name": "stdout",
     "output_type": "stream",
     "text": [
      "Number of bands 1\n"
     ]
    }
   ],
   "source": [
    "# How many bands / layers does the object have?\n",
    "print(\"Number of bands\", pre_lidar_dem.rio.count)"
   ]
  },
  {
   "cell_type": "code",
   "execution_count": null,
   "id": "00005d71",
   "metadata": {},
   "outputs": [],
   "source": []
  }
 ],
 "metadata": {
  "kernelspec": {
   "display_name": "Python 3",
   "language": "python",
   "name": "python3"
  },
  "language_info": {
   "codemirror_mode": {
    "name": "ipython",
    "version": 3
   },
   "file_extension": ".py",
   "mimetype": "text/x-python",
   "name": "python",
   "nbconvert_exporter": "python",
   "pygments_lexer": "ipython3",
   "version": "3.9.4"
  }
 },
 "nbformat": 4,
 "nbformat_minor": 5
}
