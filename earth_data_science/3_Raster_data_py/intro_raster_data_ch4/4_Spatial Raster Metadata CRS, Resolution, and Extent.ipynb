{
 "cells": [
  {
   "cell_type": "markdown",
   "id": "770931ec",
   "metadata": {},
   "source": [
    "### Learning Objectives\n",
    "- Be able to define 3 spatial attributes of a raster dataset: extent, coordinate reference system and resolution.\n",
    "- Access spatial metadata of a raster dataset in Python."
   ]
  },
  {
   "cell_type": "markdown",
   "id": "816e5e99",
   "metadata": {},
   "source": [
    "On this page, you will learn about three important spatial attributes associated with raster data that in this lesson:\n",
    "\n",
    "- 1.coordinate reference systems (CRS),\n",
    "- 2.resolution, and\n",
    "- 3.spatial extent."
   ]
  },
  {
   "cell_type": "markdown",
   "id": "480e821d",
   "metadata": {},
   "source": [
    "## 1. Coordinate Reference System\n",
    "The Coordinate Reference System or CRS of a spatial object tells Python where the raster is located in geographic space. It also tells Python what mathematical method should be used to “flatten” or project the raster in geographic space."
   ]
  },
  {
   "cell_type": "markdown",
   "id": "911f8eb1",
   "metadata": {},
   "source": [
    "#### View Raster Coordinate Reference System (CRS) in Python\n",
    "You can view the CRS string associated with your Python object using thecrs() method."
   ]
  },
  {
   "cell_type": "code",
   "execution_count": 1,
   "id": "553e93fe",
   "metadata": {},
   "outputs": [],
   "source": [
    "# Import necessary packages\n",
    "import os\n",
    "\n",
    "import matplotlib.pyplot as plt\n",
    "import rioxarray as rxr\n",
    "import earthpy as et\n",
    "\n",
    "# Get data and set working directory\n",
    "et.data.get_data(\"colorado-flood\")\n",
    "os.chdir(os.path.join(et.io.HOME,\n",
    "                      'earth-analytics',\n",
    "                      'data'))"
   ]
  },
  {
   "cell_type": "markdown",
   "id": "dc44cb48",
   "metadata": {},
   "source": [
    "You can **explore the metadata of a raster object using rioxarray**. To begin, open up your data and view the CRS."
   ]
  },
  {
   "cell_type": "code",
   "execution_count": 13,
   "id": "3825c66c",
   "metadata": {},
   "outputs": [
    {
     "name": "stdout",
     "output_type": "stream",
     "text": [
      "The CRS of this data is: EPSG:32613\n"
     ]
    }
   ],
   "source": [
    "# Define relative path to file\n",
    "lidar_dem_path = os.path.join(\"colorado-flood\",\n",
    "                              \"spatial\",\n",
    "                              \"boulder-leehill-rd\",\n",
    "                              \"pre-flood\",\n",
    "                              \"lidar\",\n",
    "                              \"pre_DTM.tif\")\n",
    "\n",
    "# View crs of raster imported with rasterio\n",
    "lidar_dem = rxr.open_rasterio(lidar_dem_path, masked=True) #masked (bool, optional) – If True, read the mask and set values to NaN. Defaults to False.\n",
    "print(\"The CRS of this data is:\", lidar_dem.rio.crs) # .rio"
   ]
  },
  {
   "cell_type": "markdown",
   "id": "a6420040",
   "metadata": {},
   "source": [
    "You can assign this string to a Python object, too. The example below only shows the code example to set a crs for an object where it is missing and you know what the CRS should be. In this case your data already has a defined CRS so this step is not necessary."
   ]
  },
  {
   "cell_type": "code",
   "execution_count": 6,
   "id": "6c11b9c8",
   "metadata": {},
   "outputs": [],
   "source": [
    "a_crs = lidar_dem.rio.crs\n",
    "# Assign crs to myCRS object - this is just an example of how you would do that\n",
    "lidar_dem = lidar_dem.rio.set_crs(a_crs, inplace=True)"
   ]
  },
  {
   "cell_type": "markdown",
   "id": "5c1ef208",
   "metadata": {},
   "source": [
    "### Converting EPSG to Proj4 in Python\n",
    "A python package for this class called ‘earthpy’ contains a dictionary that will help you convert EPSG codes into a Proj4 string. This can be used with rasterio in order to determine the metadata for a given EPSG code. For example, if you wish to know the units of the EPSG code above, you can do the following:"
   ]
  },
  {
   "cell_type": "code",
   "execution_count": 7,
   "id": "d206606a",
   "metadata": {},
   "outputs": [
    {
     "name": "stdout",
     "output_type": "stream",
     "text": [
      "['29188', '26733', '24600', '32189', '4899', '29189', '26734', '7402', '26951', '29190']\n"
     ]
    }
   ],
   "source": [
    "# Each key of the dictionary is an EPSG code\n",
    "print(list(et.epsg.keys())[:10])"
   ]
  },
  {
   "cell_type": "markdown",
   "id": "50bfc3ea",
   "metadata": {},
   "source": [
    "You can convert to proj4 using earthpy:"
   ]
  },
  {
   "cell_type": "code",
   "execution_count": 8,
   "id": "85913002",
   "metadata": {},
   "outputs": [
    {
     "name": "stdout",
     "output_type": "stream",
     "text": [
      "+proj=utm +zone=13 +datum=WGS84 +units=m +no_defs\n"
     ]
    }
   ],
   "source": [
    "# Convert to project string using earthpy\n",
    "proj4 = et.epsg['32613']\n",
    "print(proj4)"
   ]
  },
  {
   "cell_type": "markdown",
   "id": "05b894f0",
   "metadata": {},
   "source": [
    "You’ll focus on the first few components of the CRS in this tutorial.\n",
    "\n",
    "- +proj=utm The projection of the dataset. Your data are in Universal Transverse Mercator (UTM).\n",
    "- +zone=18 The UTM projection divides up the world into zones, this element tells you which zone the data is in. Harvard Forest is in Zone 18.\n",
    "- +datum=WGS84 The datum was used to define the center point of the projection. Your raster uses the WGS84 datum.\n",
    "- +units=m This is the horizontal units that the data are in. Your units are meters."
   ]
  },
  {
   "cell_type": "markdown",
   "id": "79b34595",
   "metadata": {},
   "source": [
    "## Spatial Extent\n",
    "Next, you’ll learn about spatial extent of your raster data. The spatial extent of a raster or spatial object is the geographic area that the raster data covers."
   ]
  },
  {
   "cell_type": "markdown",
   "id": "b3a57856",
   "metadata": {},
   "source": [
    "![title](./img/extent.png)"
   ]
  },
  {
   "cell_type": "markdown",
   "id": "17d26ec9",
   "metadata": {},
   "source": [
    "The spatial extent of an Python spatial object represents the geographic “edge” or location that is the furthest north, south, east and west. In other words, extent represents the overall geographic coverage of the spatial object.\n",
    "\n",
    "You can access the spatial extent using the .bounds() attribute in rasterio."
   ]
  },
  {
   "cell_type": "code",
   "execution_count": 10,
   "id": "1569091c",
   "metadata": {},
   "outputs": [
    {
     "data": {
      "text/plain": [
       "(472000.0, 4434000.0, 476000.0, 4436000.0)"
      ]
     },
     "execution_count": 10,
     "metadata": {},
     "output_type": "execute_result"
    }
   ],
   "source": [
    "#Spatial extent\n",
    "lidar_dem.rio.bounds()"
   ]
  },
  {
   "cell_type": "markdown",
   "id": "c8790ea4",
   "metadata": {},
   "source": [
    "# Raster Spatial Resolution\n",
    "This resolution represents the area on the ground that each pixel covers. The units for your data are in meters as determined by the CRS above. In this case, your data resolution is 1 x 1. This means that each pixel represents a 1 x 1 meter area on the ground. You can view the resolution of your data using the .res function."
   ]
  },
  {
   "cell_type": "code",
   "execution_count": 11,
   "id": "92a55c19",
   "metadata": {},
   "outputs": [
    {
     "data": {
      "text/plain": [
       "(1.0, -1.0)"
      ]
     },
     "execution_count": 11,
     "metadata": {},
     "output_type": "execute_result"
    }
   ],
   "source": [
    "# What is the x and y resolution for your raster data?\n",
    "lidar_dem.rio.resolution()"
   ]
  },
  {
   "cell_type": "code",
   "execution_count": null,
   "id": "56b21dce",
   "metadata": {},
   "outputs": [],
   "source": []
  }
 ],
 "metadata": {
  "kernelspec": {
   "display_name": "Python 3",
   "language": "python",
   "name": "python3"
  },
  "language_info": {
   "codemirror_mode": {
    "name": "ipython",
    "version": 3
   },
   "file_extension": ".py",
   "mimetype": "text/x-python",
   "name": "python",
   "nbconvert_exporter": "python",
   "pygments_lexer": "ipython3",
   "version": "3.9.4"
  }
 },
 "nbformat": 4,
 "nbformat_minor": 5
}
