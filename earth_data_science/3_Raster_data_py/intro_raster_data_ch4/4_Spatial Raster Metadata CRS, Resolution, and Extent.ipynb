{
 "cells": [
  {
   "cell_type": "markdown",
   "id": "09612c95",
   "metadata": {},
   "source": [
    "### Learning Objectives\n",
    "- Be able to define 3 spatial attributes of a raster dataset: extent, coordinate reference system and resolution.\n",
    "- Access spatial metadata of a raster dataset in Python."
   ]
  },
  {
   "cell_type": "code",
   "execution_count": null,
   "id": "688217e5",
   "metadata": {},
   "outputs": [],
   "source": []
  }
 ],
 "metadata": {
  "kernelspec": {
   "display_name": "Python 3",
   "language": "python",
   "name": "python3"
  },
  "language_info": {
   "codemirror_mode": {
    "name": "ipython",
    "version": 3
   },
   "file_extension": ".py",
   "mimetype": "text/x-python",
   "name": "python",
   "nbconvert_exporter": "python",
   "pygments_lexer": "ipython3",
   "version": "3.9.4"
  }
 },
 "nbformat": 4,
 "nbformat_minor": 5
}
