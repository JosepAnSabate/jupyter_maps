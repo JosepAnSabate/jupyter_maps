{
 "cells": [
  {
   "cell_type": "markdown",
   "id": "aad16bdd",
   "metadata": {},
   "source": [
    "#  Subset Time Series By Dates Python Using Pandas"
   ]
  },
  {
   "cell_type": "markdown",
   "id": "a916960e",
   "metadata": {},
   "source": [
    "## Temporally Subset Data Using Pandas Dataframes"
   ]
  },
  {
   "cell_type": "markdown",
   "id": "c3245f1a",
   "metadata": {},
   "source": [
    "Pandas natively understands time operations if:\n",
    "\n",
    "- you tell it what column contains your time stamps (using the parameter parse_dates) and\n",
    "- you set the date column to be the index of the dataframe (using the parameter index_col)."
   ]
  },
  {
   "cell_type": "code",
   "execution_count": null,
   "id": "503baf42",
   "metadata": {},
   "outputs": [],
   "source": [
    "import os\n",
    "import matplotlib.pyplot as plt\n",
    "import seaborn as sns\n",
    "import pandas as pd\n",
    "import earthpy as et\n",
    "\n",
    "# Handle date time conversions between pandas and matplotlib\n",
    "from pandas.plotting import register_matplotlib_converters\n",
    "register_matplotlib_converters()\n",
    "\n",
    "# Use white grid plot background from seaborn\n",
    "sns.set(font_scale=1.5, style=\"whitegrid\")"
   ]
  },
  {
   "cell_type": "code",
   "execution_count": null,
   "id": "a77519e0",
   "metadata": {},
   "outputs": [],
   "source": []
  }
 ],
 "metadata": {
  "kernelspec": {
   "display_name": "Python 3",
   "language": "python",
   "name": "python3"
  },
  "language_info": {
   "codemirror_mode": {
    "name": "ipython",
    "version": 3
   },
   "file_extension": ".py",
   "mimetype": "text/x-python",
   "name": "python",
   "nbconvert_exporter": "python",
   "pygments_lexer": "ipython3",
   "version": "3.9.4"
  }
 },
 "nbformat": 4,
 "nbformat_minor": 5
}
