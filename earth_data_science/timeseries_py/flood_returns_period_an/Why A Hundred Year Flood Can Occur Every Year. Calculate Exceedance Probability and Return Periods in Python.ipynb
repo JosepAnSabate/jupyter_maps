{
 "cells": [
  {
   "cell_type": "markdown",
   "id": "c6e3b5c4",
   "metadata": {},
   "source": [
    "# Chapter 1.5 - Flood Return and Exceedance Probability Calculations In Python - Earth Data Science Applications"
   ]
  },
  {
   "cell_type": "markdown",
   "id": "b21a371d",
   "metadata": {},
   "source": [
    "In this chapter, you will learn how to calculate flood return periods and exceedance probability using Python.\n",
    "\n",
    "https://www.earthdatascience.org/courses/use-data-open-source-python/use-time-series-data-in-python/floods-return-period-and-probability/\n",
    "https://hydrofunctions.readthedocs.io/en/master/notebooks/Writing_Valid_Requests_for_NWIS.html"
   ]
  },
  {
   "cell_type": "markdown",
   "id": "26b09bdf",
   "metadata": {},
   "source": [
    "## Introduction to Flood Frequency Analysis\n",
    "\n",
    "You have have likey heard the term “100-year flood”. While you may think it means that it is the size of flood that occurs every 100 years, it actually refers to the flood magnitude that has a probability of exceedance of 1/100 in any given year (i.e., a 1% chance).\n",
    "    \n",
    "To begin, let’s define two terms:\n",
    "\n",
    "- 1.**Exceedance probability:** the probability of a given magnitude event or greater to occur.\n",
    "\n",
    "- 2.**Recurrence interval:** the average time of exceedance is the inverse of the exceedance probability."
   ]
  },
  {
   "cell_type": "markdown",
   "id": "79e877cc",
   "metadata": {},
   "source": [
    "**Important Considerations**\n",
    "\n",
    "The above definitions assume that flood events in the time series are independent (i.e., that event magnitudes are not correlated with each other in time) and that the process is stationary (i.e., that the probability distribution of events is not changing through time)."
   ]
  },
  {
   "cell_type": "markdown",
   "id": "3cfad97d",
   "metadata": {},
   "source": [
    "- In this project, we will be interpreting maximum annual floods. **How valid do you think the above assumptions are for annual maxima?**"
   ]
  },
  {
   "cell_type": "markdown",
   "id": "bc90a40d",
   "metadata": {},
   "source": [
    "Even though the phrase “recurrence interval” evokes the idea of regularity in the time between events, this is an important misconception (recall our assumption of independence). The 100-year flood is just as likely to occur after a year that already experienced a 100-yr flood as any other year."
   ]
  },
  {
   "cell_type": "markdown",
   "id": "6f12e3f0",
   "metadata": {},
   "source": [
    "- In this project, we will be asking you to construct and interpret plots of recurrence intervals. **Do you think the processes that drive floods are periodic? If so, over what timescales?**\n",
    "\n",
    "The content below comes from this USGS waterscience page. It provides an excellent overview of recurrence intervals and return periods."
   ]
  },
  {
   "cell_type": "markdown",
   "id": "987acedb",
   "metadata": {},
   "source": [
    "## What is a Recurrence Interval?"
   ]
  },
  {
   "cell_type": "markdown",
   "id": "b610bdf2",
   "metadata": {},
   "source": [
    "**Frequency analysis**, are used to estimate the probability of the occurrence of a given precipitation event. \n",
    "The recurrence interval is based on the probability that the given event will be equalled or exceeded in any given year.\n",
    "For example, assume there is a 1 in 50 chance that 6.60 inches of rain will fall in a certain area in a 24-hour period during any given year. Thus, a rainfall total of 6.60 inches in a consecutive 24-hour period is said to have a 50-year recurrence interval.\n",
    "Likewise, using a frequency analysis (Interagency Advisory Committee on Water Data, 1982) there is a 1 in 100 chance that a streamflow of 15,000 cubic feet per second (ft3/s) will occur during any year at a certain streamflow-measurement site. Thus, a peak flow of 15,000 ft3/s at the site is said to have a 100-year recurrence interval. Rainfall recurrence intervals are based on both the magnitude and the duration of a rainfall event, whereas streamflow recurrence intervals are based solely on the magnitude of the annual peak flow."
   ]
  },
  {
   "cell_type": "markdown",
   "id": "df8da70d",
   "metadata": {},
   "source": [
    "The effects of development (conversion of land from forested or agricultural uses to commercial, residential, or industrial uses) on peak flows is generally much greater for low-recurrence interval floods than for high-recurrence interval floods, such as 25- 50- or 100-year floods."
   ]
  },
  {
   "cell_type": "markdown",
   "id": "987277d4",
   "metadata": {},
   "source": [
    "## How Can We Have two “100-year floods” in less than two years?"
   ]
  },
  {
   "cell_type": "markdown",
   "id": "5a78a1dc",
   "metadata": {},
   "source": [
    " The term “100-year flood” is used in an attempt to simplify the definition of a flood that statistically has a 1-percent chance of occurring in any given year. "
   ]
  },
  {
   "cell_type": "markdown",
   "id": "e17e3823",
   "metadata": {},
   "source": [
    "## What is an Annual Exceedance Probability?"
   ]
  },
  {
   "cell_type": "markdown",
   "id": "fbfa1329",
   "metadata": {},
   "source": [
    "Percent chance of occurrence as an Annual Exceedance Probability or AEP. An AEP is always a fraction of one. So a 0.2 AEP flood has a 20% chance of occurring in any given year, and this corresponds to a 5-year recurrence-interval flood. However, AEP terminology reminds the observer that a rare flood does not reduce the chances of another rare flood within a short time period."
   ]
  },
  {
   "cell_type": "markdown",
   "id": "9f4d50e0",
   "metadata": {},
   "source": [
    "# Calculate Probability in Python"
   ]
  },
  {
   "cell_type": "markdown",
   "id": "496a219f",
   "metadata": {},
   "source": [
    "streamflow data to explore the probabilities of a different magnitude events (e.g., discharge is measured in cubic feet per second). To do this, you will want long historic records to make your statistical inferences more robust.\n",
    "\n",
    "\n",
    "You will use the hydrofunctions python package to access streamflow data via an API from the United States Geological Survey (USGS) National Water Information System (NWIS) website."
   ]
  },
  {
   "cell_type": "code",
   "execution_count": 1,
   "id": "05eab07f",
   "metadata": {},
   "outputs": [],
   "source": [
    "# Import packages\n",
    "import os\n",
    "import urllib\n",
    "import requests\n",
    "import math\n",
    "import matplotlib.pyplot as plt\n",
    "import seaborn as sns\n",
    "import pandas as pd\n",
    "import earthpy as et\n",
    "import hydrofunctions as hf\n",
    "\n",
    "# Date time conversion registration\n",
    "from pandas.plotting import register_matplotlib_converters\n",
    "register_matplotlib_converters()\n",
    "\n",
    "# Prettier plotting with seaborn\n",
    "sns.set(font_scale=1.5, style=\"whitegrid\")\n"
   ]
  },
  {
   "cell_type": "code",
   "execution_count": 2,
   "id": "d2e32c0f",
   "metadata": {},
   "outputs": [],
   "source": [
    "%matplotlib inline"
   ]
  },
  {
   "cell_type": "markdown",
   "id": "dede7581",
   "metadata": {},
   "source": [
    "## Find A Station of Interest"
   ]
  },
  {
   "cell_type": "code",
   "execution_count": 3,
   "id": "cfaab568",
   "metadata": {},
   "outputs": [
    {
     "data": {
      "text/html": [
       "<p>Use <a href=\"http://hydrocloud.org\" target=\"_blank\">HydroCloud.org</a> to find a stream gauge. Click on the dots to learn more about a site.</p><iframe src=http://hydrocloud.org/ width=700 height=400></iframe>"
      ],
      "text/plain": [
       "<IPython.core.display.HTML object>"
      ]
     },
     "execution_count": 3,
     "metadata": {},
     "output_type": "execute_result"
    }
   ],
   "source": [
    "# Create map of stations\n",
    "hf.draw_map()"
   ]
  },
  {
   "cell_type": "markdown",
   "id": "9f245a5b",
   "metadata": {},
   "source": [
    "You can get a list of all stations located in Colorado using the hf.NWIS().get_data() method."
   ]
  },
  {
   "cell_type": "code",
   "execution_count": 4,
   "id": "8bd73054",
   "metadata": {},
   "outputs": [],
   "source": [
    "# Request data for all stations in Colorado\n",
    "#PR = hf.NWIS(stateCd='CO')\n",
    "\n",
    "# List the names for the first 5 sites in Colorado, USA\n",
    "#PR.siteName[0:5]"
   ]
  },
  {
   "cell_type": "markdown",
   "id": "1d2432f5",
   "metadata": {},
   "source": [
    "# Download Stream Gage Data"
   ]
  },
  {
   "cell_type": "markdown",
   "id": "8fea91d0",
   "metadata": {},
   "source": [
    "You are now ready to grab some data from the NWIS API."
   ]
  },
  {
   "cell_type": "markdown",
   "id": "97d06b8d",
   "metadata": {},
   "source": [
    "**Mean Daily vs Instantaneous Stream Flow Data**\n",
    "There are two kinds of streamflow time-series data that the USGS provides online:\n",
    "\n",
    "- Mean daily streamflow: Mean daily streamflow is useful because it is a complete time series (except for days when the gage fails) and thus retains all recorded streamflow events over the period of record.\n",
    "- Annual maximum instantaneous streamflow: Instantaneous data is not averaged over the entire day, but instead reflects continuous variations in the flood hydrograph recorded by the stream gage. As such, annual maximum instantaneous streamflow data are useful because they retain the maximum values of discharge recorded in a given year."
   ]
  },
  {
   "cell_type": "markdown",
   "id": "4f54dd88",
   "metadata": {},
   "source": [
    "- How do you think flood frequencies characterized by these two different data types will compare?\n",
    "\n",
    "For this part of the lesson, you will download the mean daily discharge data. The code for this data in dv when using the hydrofunctions python package."
   ]
  },
  {
   "cell_type": "markdown",
   "id": "19d56147",
   "metadata": {},
   "source": [
    "#### Get Data Using Hydrofunctions API Interface for Python\n",
    "To begin define a start and end date that you’d like to download. Also define the site ID. Use USGS 06730500 as your selected site. This stream gage survived the 2013 flood event in Colorado. It also has a long record of measurement that will be helpful when calculating recurrence intervals and exceedance probability values below."
   ]
  },
  {
   "cell_type": "markdown",
   "id": "c43b76a4",
   "metadata": {},
   "source": [
    "## Station Selection"
   ]
  },
  {
   "cell_type": "markdown",
   "id": "793ef349",
   "metadata": {},
   "source": [
    "you will want to carefully examine the metadata for candidate stations to check for the time period of operation, record completeness, and other comments on gage operation that might impact your interpretation of statistical results"
   ]
  },
  {
   "cell_type": "markdown",
   "id": "4225c871",
   "metadata": {},
   "source": [
    "For this project, we followed the lead of scientists assessing the significance of the 2013 Colorado floods using methods similar to the ones introduced in this project (Yochum, 2015). "
   ]
  },
  {
   "cell_type": "code",
   "execution_count": 5,
   "id": "2e750d67",
   "metadata": {
    "scrolled": true
   },
   "outputs": [],
   "source": [
    "# Define the site number and start and end dates that you are interested in\n",
    "site = \"06730500\"\n",
    "start = '1946-05-10'\n",
    "end = '2018-08-29'\n"
   ]
  },
  {
   "cell_type": "markdown",
   "id": "2b372d58",
   "metadata": {},
   "source": [
    "#### View Site and Metadata Information\n",
    "You can explore the metadata for the site using the get_nwis() function. Below we request the metadata for the site and the **“dv” or Daily Value data**. Recall from above that dv is the mean daily value. **iv provides the instantaneous values.**\n",
    "\n",
    "You can also visit the USGS Site page to learn more about this USGS station.\n",
    "https://waterdata.usgs.gov/nwis/inventory/?site_no=06730500"
   ]
  },
  {
   "cell_type": "code",
   "execution_count": 6,
   "id": "f7c57a34",
   "metadata": {
    "scrolled": true
   },
   "outputs": [
    {
     "name": "stdout",
     "output_type": "stream",
     "text": [
      "Requested data from https://waterservices.usgs.gov/nwis/dv/?format=json%2C1.1&sites=06730500&startDT=1946-05-10&endDT=2018-08-29\n"
     ]
    },
    {
     "data": {
      "text/plain": [
       "USGS:06730500: BOULDER CREEK AT MOUTH NEAR LONGMONT, CO\n",
       "    00060: <Day>  Discharge, cubic feet per second \n",
       "Start: 1946-05-10 00:00:00+00:00\n",
       "End:   2018-08-29 00:00:00+00:00"
      ]
     },
     "execution_count": 6,
     "metadata": {},
     "output_type": "execute_result"
    }
   ],
   "source": [
    "# Request data for the site and time period\n",
    "longmont_resp = hf.NWIS(site, 'dv', start, end)\n",
    "\n",
    "longmont_resp"
   ]
  },
  {
   "cell_type": "markdown",
   "id": "cce99f29",
   "metadata": {},
   "source": [
    "Check that the request went smoothly:"
   ]
  },
  {
   "cell_type": "code",
   "execution_count": 7,
   "id": "6775897c",
   "metadata": {},
   "outputs": [
    {
     "data": {
      "text/plain": [
       "True"
      ]
     },
     "execution_count": 7,
     "metadata": {},
     "output_type": "execute_result"
    }
   ],
   "source": [
    "longmont_resp.ok"
   ]
  },
  {
   "cell_type": "code",
   "execution_count": 8,
   "id": "819ef20b",
   "metadata": {},
   "outputs": [
    {
     "data": {
      "text/html": [
       "<div>\n",
       "<style scoped>\n",
       "    .dataframe tbody tr th:only-of-type {\n",
       "        vertical-align: middle;\n",
       "    }\n",
       "\n",
       "    .dataframe tbody tr th {\n",
       "        vertical-align: top;\n",
       "    }\n",
       "\n",
       "    .dataframe thead th {\n",
       "        text-align: right;\n",
       "    }\n",
       "</style>\n",
       "<table border=\"1\" class=\"dataframe\">\n",
       "  <thead>\n",
       "    <tr style=\"text-align: right;\">\n",
       "      <th></th>\n",
       "      <th>USGS:06730500:00060:00003</th>\n",
       "    </tr>\n",
       "    <tr>\n",
       "      <th>datetimeUTC</th>\n",
       "      <th></th>\n",
       "    </tr>\n",
       "  </thead>\n",
       "  <tbody>\n",
       "    <tr>\n",
       "      <th>1946-05-10 00:00:00+00:00</th>\n",
       "      <td>16.0</td>\n",
       "    </tr>\n",
       "    <tr>\n",
       "      <th>1946-05-11 00:00:00+00:00</th>\n",
       "      <td>19.0</td>\n",
       "    </tr>\n",
       "    <tr>\n",
       "      <th>1946-05-12 00:00:00+00:00</th>\n",
       "      <td>9.0</td>\n",
       "    </tr>\n",
       "    <tr>\n",
       "      <th>1946-05-13 00:00:00+00:00</th>\n",
       "      <td>3.0</td>\n",
       "    </tr>\n",
       "    <tr>\n",
       "      <th>1946-05-14 00:00:00+00:00</th>\n",
       "      <td>7.8</td>\n",
       "    </tr>\n",
       "  </tbody>\n",
       "</table>\n",
       "</div>"
      ],
      "text/plain": [
       "                           USGS:06730500:00060:00003\n",
       "datetimeUTC                                         \n",
       "1946-05-10 00:00:00+00:00                       16.0\n",
       "1946-05-11 00:00:00+00:00                       19.0\n",
       "1946-05-12 00:00:00+00:00                        9.0\n",
       "1946-05-13 00:00:00+00:00                        3.0\n",
       "1946-05-14 00:00:00+00:00                        7.8"
      ]
     },
     "execution_count": 8,
     "metadata": {},
     "output_type": "execute_result"
    }
   ],
   "source": [
    "longmont_discharge = longmont_resp.df('discharge')\n",
    "longmont_discharge.head()"
   ]
  },
  {
   "cell_type": "markdown",
   "id": "dd7c35aa",
   "metadata": {},
   "source": [
    "Now, request the data. The data will be returned as a **pandas** dataframe"
   ]
  },
  {
   "cell_type": "code",
   "execution_count": 9,
   "id": "524d7b26",
   "metadata": {},
   "outputs": [
    {
     "data": {
      "text/html": [
       "<div>\n",
       "<style scoped>\n",
       "    .dataframe tbody tr th:only-of-type {\n",
       "        vertical-align: middle;\n",
       "    }\n",
       "\n",
       "    .dataframe tbody tr th {\n",
       "        vertical-align: top;\n",
       "    }\n",
       "\n",
       "    .dataframe thead th {\n",
       "        text-align: right;\n",
       "    }\n",
       "</style>\n",
       "<table border=\"1\" class=\"dataframe\">\n",
       "  <thead>\n",
       "    <tr style=\"text-align: right;\">\n",
       "      <th></th>\n",
       "      <th>discharge</th>\n",
       "    </tr>\n",
       "    <tr>\n",
       "      <th>datetimeUTC</th>\n",
       "      <th></th>\n",
       "    </tr>\n",
       "  </thead>\n",
       "  <tbody>\n",
       "    <tr>\n",
       "      <th>1946-05-10 00:00:00+00:00</th>\n",
       "      <td>16.0</td>\n",
       "    </tr>\n",
       "    <tr>\n",
       "      <th>1946-05-11 00:00:00+00:00</th>\n",
       "      <td>19.0</td>\n",
       "    </tr>\n",
       "    <tr>\n",
       "      <th>1946-05-12 00:00:00+00:00</th>\n",
       "      <td>9.0</td>\n",
       "    </tr>\n",
       "    <tr>\n",
       "      <th>1946-05-13 00:00:00+00:00</th>\n",
       "      <td>3.0</td>\n",
       "    </tr>\n",
       "    <tr>\n",
       "      <th>1946-05-14 00:00:00+00:00</th>\n",
       "      <td>7.8</td>\n",
       "    </tr>\n",
       "  </tbody>\n",
       "</table>\n",
       "</div>"
      ],
      "text/plain": [
       "                           discharge\n",
       "datetimeUTC                         \n",
       "1946-05-10 00:00:00+00:00       16.0\n",
       "1946-05-11 00:00:00+00:00       19.0\n",
       "1946-05-12 00:00:00+00:00        9.0\n",
       "1946-05-13 00:00:00+00:00        3.0\n",
       "1946-05-14 00:00:00+00:00        7.8"
      ]
     },
     "execution_count": 9,
     "metadata": {},
     "output_type": "execute_result"
    }
   ],
   "source": [
    "# Rename columns\n",
    "longmont_discharge.columns = [\"discharge\"]\n",
    "longmont_discharge.head()"
   ]
  },
  {
   "cell_type": "markdown",
   "id": "230c8d46",
   "metadata": {},
   "source": [
    "### Plot Your Data"
   ]
  },
  {
   "cell_type": "markdown",
   "id": "5a52cd3a",
   "metadata": {},
   "source": [
    "Next, plot the time series using matplotlib. What do you notice? There is an unfortunate gap in the data. The good news that while this gap may not work for some analyses, it is acceptable when you calculate a recurrence interval (based on our assumptions of independence and stationarity).\n",
    "\n",
    "Note that below I grab the site variable and add it to my plot title using the syntax:\n",
    "\n",
    "- ax.set_title(\"Stream Discharge - Station {} \\n 1946-2017\".format(site))"
   ]
  },
  {
   "cell_type": "markdown",
   "id": "3d74a021",
   "metadata": {},
   "source": [
    "Next, plot the time series using matplotlib. What do you notice? There is an unfortunate gap in the data. The good news that while this gap may not work for some analyses, it is acceptable when you calculate a recurrence interval (based on our assumptions of independence and stationarity).\n",
    "\n",
    "Note that below I grab the site variable and add it to my plot title using the syntax:\n",
    "\n",
    "ax.set_title(\"Stream Discharge - Station {} \\n 1946-2017\".format(site))"
   ]
  },
  {
   "cell_type": "code",
   "execution_count": 10,
   "id": "f52ff627",
   "metadata": {},
   "outputs": [
    {
     "data": {
      "image/png": "[encoded data removed]",
      "text/plain": [
       "<Figure size 792x432 with 1 Axes>"
      ]
     },
     "metadata": {
      "needs_background": "light"
     },
     "output_type": "display_data"
    }
   ],
   "source": [
    "# Plot using matplotlib\n",
    "fig, ax = plt.subplots(figsize=(11, 6))\n",
    "\n",
    "ax.scatter(x=longmont_discharge.index,\n",
    "           y=longmont_discharge[\"discharge\"],\n",
    "           marker=\"o\",\n",
    "           s=4,\n",
    "           color=\"purple\")\n",
    "\n",
    "ax.set(xlabel=\"Date\", ylabel=\"Discharge Value (CFS)\",\n",
    "       title=\"Stream Discharge - Station {} \\n {} to {}\".format(site, start, end))\n",
    "\n",
    "plt.show()"
   ]
  },
  {
   "cell_type": "markdown",
   "id": "9bf06625",
   "metadata": {},
   "source": [
    "## Annual Maxima\n",
    "Annual maxima refers to the biggest value that occured within each year. \n",
    "\n",
    "You can take the daily mean values to construct a series of the annual maximum value. This is done using pandas resample."
   ]
  },
  {
   "cell_type": "markdown",
   "id": "cbd19fb8",
   "metadata": {},
   "source": [
    "Note that you will compare the data that you download to the analysis of mean dailydata you do below. The instantaneous annual maxima data from the USGS is data collected every 5-30 minutes.\n",
    "\n",
    "The annual maxima that you derive below uses the mean daily value data that you downloaded above. Do you think you will get the same annual maxima each year?"
   ]
  },
  {
   "cell_type": "markdown",
   "id": "bbb5db5c",
   "metadata": {},
   "source": [
    "#### Add a Year Column to Your Data\n",
    "Note that below you will add a ‘year’ column to the longmont discharge data. While this step is not necessary for resampling. It will make your life easier when you plot the data later."
   ]
  },
  {
   "cell_type": "code",
   "execution_count": 11,
   "id": "ca5ce874",
   "metadata": {},
   "outputs": [
    {
     "data": {
      "text/html": [
       "<div>\n",
       "<style scoped>\n",
       "    .dataframe tbody tr th:only-of-type {\n",
       "        vertical-align: middle;\n",
       "    }\n",
       "\n",
       "    .dataframe tbody tr th {\n",
       "        vertical-align: top;\n",
       "    }\n",
       "\n",
       "    .dataframe thead th {\n",
       "        text-align: right;\n",
       "    }\n",
       "</style>\n",
       "<table border=\"1\" class=\"dataframe\">\n",
       "  <thead>\n",
       "    <tr style=\"text-align: right;\">\n",
       "      <th></th>\n",
       "      <th>discharge</th>\n",
       "      <th>year</th>\n",
       "    </tr>\n",
       "    <tr>\n",
       "      <th>datetimeUTC</th>\n",
       "      <th></th>\n",
       "      <th></th>\n",
       "    </tr>\n",
       "  </thead>\n",
       "  <tbody>\n",
       "    <tr>\n",
       "      <th>1946-01-01 00:00:00+00:00</th>\n",
       "      <td>99.000000</td>\n",
       "      <td>1946</td>\n",
       "    </tr>\n",
       "    <tr>\n",
       "      <th>1947-01-01 00:00:00+00:00</th>\n",
       "      <td>1930.000000</td>\n",
       "      <td>1947</td>\n",
       "    </tr>\n",
       "    <tr>\n",
       "      <th>1948-01-01 00:00:00+00:00</th>\n",
       "      <td>339.000000</td>\n",
       "      <td>1948</td>\n",
       "    </tr>\n",
       "    <tr>\n",
       "      <th>1949-01-01 00:00:00+00:00</th>\n",
       "      <td>2010.000000</td>\n",
       "      <td>1949</td>\n",
       "    </tr>\n",
       "    <tr>\n",
       "      <th>1950-01-01 00:00:00+00:00</th>\n",
       "      <td>63.594991</td>\n",
       "      <td>1950</td>\n",
       "    </tr>\n",
       "  </tbody>\n",
       "</table>\n",
       "</div>"
      ],
      "text/plain": [
       "                             discharge  year\n",
       "datetimeUTC                                 \n",
       "1946-01-01 00:00:00+00:00    99.000000  1946\n",
       "1947-01-01 00:00:00+00:00  1930.000000  1947\n",
       "1948-01-01 00:00:00+00:00   339.000000  1948\n",
       "1949-01-01 00:00:00+00:00  2010.000000  1949\n",
       "1950-01-01 00:00:00+00:00    63.594991  1950"
      ]
     },
     "execution_count": 11,
     "metadata": {},
     "output_type": "execute_result"
    }
   ],
   "source": [
    "# add a year column to your longmont discharge data\n",
    "longmont_discharge[\"year\"] = longmont_discharge.index.year\n",
    "\n",
    "# Calculate annual max by resampling\n",
    "longmont_discharge_annual_max = longmont_discharge.resample('AS').max()\n",
    "longmont_discharge_annual_max.head()"
   ]
  },
  {
   "cell_type": "markdown",
   "id": "47878c34",
   "metadata": {},
   "source": [
    "### Import USGS Annual Peak Max Data\n",
    "Next import the USGS annual maxima data."
   ]
  },
  {
   "cell_type": "code",
   "execution_count": 12,
   "id": "e586cfe1",
   "metadata": {},
   "outputs": [
    {
     "name": "stdout",
     "output_type": "stream",
     "text": [
      "Downloading from https://ndownloader.figshare.com/files/16371473\n",
      "Extracted output to C:\\Users\\34639\\earth-analytics\\data\\colorado-flood\\.\n"
     ]
    },
    {
     "data": {
      "text/plain": [
       "('data\\\\colorado-flood\\\\downloads\\\\annual-peak-flow.txt',\n",
       " <http.client.HTTPMessage at 0x1479675db80>)"
      ]
     },
     "execution_count": 12,
     "metadata": {},
     "output_type": "execute_result"
    }
   ],
   "source": [
    "# Get the data & set working director\n",
    "data = et.data.get_data('colorado-flood')\n",
    "os.chdir(os.path.join(et.io.HOME, 'earth-analytics'))\n",
    "\n",
    "# download usgs annual max data from figshare\n",
    "url = \"https://nwis.waterdata.usgs.gov/nwis/peak?site_no=06730500&agency_cd=USGS&format=rdb\"\n",
    "download_path = os.path.join(\"data\", \"colorado-flood\", \n",
    "                             \"downloads\", \"annual-peak-flow.txt\")\n",
    "\n",
    "urllib.request.urlretrieve(url, download_path)"
   ]
  },
  {
   "cell_type": "code",
   "execution_count": 13,
   "id": "c2587739",
   "metadata": {},
   "outputs": [],
   "source": [
    "# A function that counts the number of lines with a comment \n",
    "def count_the(file_url):\n",
    "    r = requests.get(file_url, stream=True)\n",
    "    file = r.text\n",
    "    count = 0\n",
    "    for line in file:\n",
    "        if line.startswith('#'):\n",
    "            count += 1\n",
    "    return count\n",
    "\n",
    "# Lines to skip\n",
    "line_to_skip = count_the(url)+1"
   ]
  },
  {
   "cell_type": "markdown",
   "id": "d379952c",
   "metadata": {},
   "source": [
    "The data that you are downloading are tab-delimited. When you import, be sure to specify\n",
    "\n",
    "    sep='\\t'\n",
    "\n",
    "to ensure that the data download properly. Notice that below the index_col for the data is not specified when the data are opened in pandas. This is because you will need to bring in 2 lines of data headers. In pandas, two header rows import as a multi-index element. In this particular case it is easier to specify the index after you have removed one line of this multi-index.\n",
    "\n",
    "Your pandas read_csv function will include 4 arguments as follows:\n",
    "\n",
    "- download_path: this is the path where you file is saved\n",
    "- header=[1,2]: this tells pandas to import two header lines - lines 1 and 2 after the skipped rows\n",
    "- sep='\\t': import the data as a tab delimited file\n",
    "- skiprows = 63: skip the first 63 rows of the data. IF you open the data in a text editor you will notice the entire top of the file is all metadata.\n",
    "- parse_dates = [2]: convert the second column in the data to a datetime format\n",
    "\n"
   ]
  },
  {
   "cell_type": "code",
   "execution_count": 14,
   "id": "3a7cda4d",
   "metadata": {},
   "outputs": [
    {
     "data": {
      "text/html": [
       "<div>\n",
       "<style scoped>\n",
       "    .dataframe tbody tr th:only-of-type {\n",
       "        vertical-align: middle;\n",
       "    }\n",
       "\n",
       "    .dataframe tbody tr th {\n",
       "        vertical-align: top;\n",
       "    }\n",
       "\n",
       "    .dataframe thead th {\n",
       "        text-align: right;\n",
       "    }\n",
       "</style>\n",
       "<table border=\"1\" class=\"dataframe\">\n",
       "  <thead>\n",
       "    <tr style=\"text-align: right;\">\n",
       "      <th></th>\n",
       "      <th>peak_va</th>\n",
       "    </tr>\n",
       "    <tr>\n",
       "      <th>peak_dt</th>\n",
       "      <th></th>\n",
       "    </tr>\n",
       "  </thead>\n",
       "  <tbody>\n",
       "    <tr>\n",
       "      <th>1927-07-29</th>\n",
       "      <td>407.0</td>\n",
       "    </tr>\n",
       "    <tr>\n",
       "      <th>1928-06-04</th>\n",
       "      <td>694.0</td>\n",
       "    </tr>\n",
       "    <tr>\n",
       "      <th>1929-07-23</th>\n",
       "      <td>530.0</td>\n",
       "    </tr>\n",
       "    <tr>\n",
       "      <th>1930-08-18</th>\n",
       "      <td>353.0</td>\n",
       "    </tr>\n",
       "    <tr>\n",
       "      <th>1931-05-29</th>\n",
       "      <td>369.0</td>\n",
       "    </tr>\n",
       "  </tbody>\n",
       "</table>\n",
       "</div>"
      ],
      "text/plain": [
       "            peak_va\n",
       "peak_dt            \n",
       "1927-07-29    407.0\n",
       "1928-06-04    694.0\n",
       "1929-07-23    530.0\n",
       "1930-08-18    353.0\n",
       "1931-05-29    369.0"
      ]
     },
     "execution_count": 14,
     "metadata": {},
     "output_type": "execute_result"
    }
   ],
   "source": [
    "# Open the data using pandas\n",
    "usgs_annual_max = pd.read_csv(download_path,\n",
    "                              skiprows=[line_to_skip],\n",
    "                              comment=\"#\",\n",
    "                              sep='\\t',\n",
    "                              usecols=[\"peak_dt\",\"peak_va\"],\n",
    "                              parse_dates=[\"peak_dt\"],\n",
    "                              index_col=\"peak_dt\")\n",
    "\n",
    "usgs_annual_max.head()"
   ]
  },
  {
   "cell_type": "markdown",
   "id": "3b1f12a5",
   "metadata": {},
   "source": [
    "Next, add a year column to your data for easy plotting and make sure that you have only one value per year as expected."
   ]
  },
  {
   "cell_type": "code",
   "execution_count": 16,
   "id": "451bacd2",
   "metadata": {},
   "outputs": [
    {
     "data": {
      "text/html": [
       "<div>\n",
       "<style scoped>\n",
       "    .dataframe tbody tr th:only-of-type {\n",
       "        vertical-align: middle;\n",
       "    }\n",
       "\n",
       "    .dataframe tbody tr th {\n",
       "        vertical-align: top;\n",
       "    }\n",
       "\n",
       "    .dataframe thead th {\n",
       "        text-align: right;\n",
       "    }\n",
       "</style>\n",
       "<table border=\"1\" class=\"dataframe\">\n",
       "  <thead>\n",
       "    <tr style=\"text-align: right;\">\n",
       "      <th></th>\n",
       "      <th>peak_va</th>\n",
       "      <th>year</th>\n",
       "    </tr>\n",
       "    <tr>\n",
       "      <th>peak_dt</th>\n",
       "      <th></th>\n",
       "      <th></th>\n",
       "    </tr>\n",
       "  </thead>\n",
       "  <tbody>\n",
       "    <tr>\n",
       "      <th>1947-10-15</th>\n",
       "      <td>721.0</td>\n",
       "      <td>1947</td>\n",
       "    </tr>\n",
       "    <tr>\n",
       "      <th>1993-10-18</th>\n",
       "      <td>497.0</td>\n",
       "      <td>1993</td>\n",
       "    </tr>\n",
       "  </tbody>\n",
       "</table>\n",
       "</div>"
      ],
      "text/plain": [
       "            peak_va  year\n",
       "peak_dt                  \n",
       "1947-10-15    721.0  1947\n",
       "1993-10-18    497.0  1993"
      ]
     },
     "execution_count": 16,
     "metadata": {},
     "output_type": "execute_result"
    }
   ],
   "source": [
    "# Add a year column to the data for easier plotting\n",
    "usgs_annual_max[\"year\"] = usgs_annual_max.index.year\n",
    "\n",
    "# Are there any years that have two entries?\n",
    "usgs_annual_max[usgs_annual_max.duplicated(subset=\"year\") == True]"
   ]
  },
  {
   "cell_type": "code",
   "execution_count": 17,
   "id": "c516636f",
   "metadata": {},
   "outputs": [
    {
     "data": {
      "text/html": [
       "<div>\n",
       "<style scoped>\n",
       "    .dataframe tbody tr th:only-of-type {\n",
       "        vertical-align: middle;\n",
       "    }\n",
       "\n",
       "    .dataframe tbody tr th {\n",
       "        vertical-align: top;\n",
       "    }\n",
       "\n",
       "    .dataframe thead th {\n",
       "        text-align: right;\n",
       "    }\n",
       "</style>\n",
       "<table border=\"1\" class=\"dataframe\">\n",
       "  <thead>\n",
       "    <tr style=\"text-align: right;\">\n",
       "      <th></th>\n",
       "      <th>peak_va</th>\n",
       "      <th>year</th>\n",
       "    </tr>\n",
       "    <tr>\n",
       "      <th>peak_dt</th>\n",
       "      <th></th>\n",
       "      <th></th>\n",
       "    </tr>\n",
       "  </thead>\n",
       "  <tbody>\n",
       "  </tbody>\n",
       "</table>\n",
       "</div>"
      ],
      "text/plain": [
       "Empty DataFrame\n",
       "Columns: [peak_va, year]\n",
       "Index: []"
      ]
     },
     "execution_count": 17,
     "metadata": {},
     "output_type": "execute_result"
    }
   ],
   "source": [
    "# Remove duplicate years - keep the max discharge value\n",
    "usgs_annual_max = usgs_annual_max.sort_values('peak_va', ascending=False).drop_duplicates('year').sort_index()\n",
    "\n",
    "# If this returns no results you have successfully removed duplicates!\n",
    "usgs_annual_max[usgs_annual_max.duplicated(subset=\"year\") == True]"
   ]
  },
  {
   "cell_type": "markdown",
   "id": "2d324737",
   "metadata": {},
   "source": [
    "Finally, you are ready to plot the USGS annual max with the calculated annual max derived from your daily mean data. Are they the same? Or Different?\n",
    "\n",
    "What could cause differences in these two different approaches to getting annual max values?"
   ]
  },
  {
   "cell_type": "code",
   "execution_count": 18,
   "id": "8451b4f8",
   "metadata": {},
   "outputs": [
    {
     "data": {
      "image/png": "[encoded data removed]",
      "text/plain": [
       "<Figure size 792x648 with 1 Axes>"
      ]
     },
     "metadata": {
      "needs_background": "light"
     },
     "output_type": "display_data"
    }
   ],
   "source": [
    "# Plot calculated vs USGS annual max flow values\n",
    "fig, ax = plt.subplots(figsize=(11, 9))\n",
    "\n",
    "ax.plot(usgs_annual_max[\"year\"],\n",
    "        usgs_annual_max[\"peak_va\"],\n",
    "        color=\"purple\",\n",
    "        linestyle=':',\n",
    "        marker='o',\n",
    "        label=\"Instantaneous Value\")\n",
    "\n",
    "ax.plot(longmont_discharge_annual_max[\"year\"],\n",
    "        longmont_discharge_annual_max[\"discharge\"],\n",
    "        color=\"lightgrey\",\n",
    "        linestyle=':',\n",
    "        marker='o', label=\"Mean Daily Value\")\n",
    "ax.legend()\n",
    "ax.set_title(\n",
    "    \"Annual Maxima - Downloaded Instantaneous vs. Derived Daily Peak Flows\")\n",
    "\n",
    "plt.show()"
   ]
  },
  {
   "cell_type": "markdown",
   "id": "519e71c6",
   "metadata": {},
   "source": [
    "## Optional - Difference Bar Plot\n",
    "To further more quickly explore differences between the USGS annual max data set and the annual max that you calculated using the mean daily value data, you can calculate a difference value between the USGS max value and your annual max calculated from daily mean data. You don’t need to do this for your homework however! It’s just setup for you to see what the differences look like."
   ]
  },
  {
   "cell_type": "code",
   "execution_count": 25,
   "id": "b6307b87",
   "metadata": {},
   "outputs": [],
   "source": [
    "# Merge the two pandas dataframes on the year column\n",
    "usgs_calculated = pd.merge(longmont_discharge_annual_max,\n",
    "                           usgs_annual_max,\n",
    "                           left_on=\"year\",\n",
    "                           right_on=\"year\")\n",
    "\n",
    "# Subtract usgs values from your calculated values\n",
    "usgs_calculated[\"diff\"] = usgs_calculated[\"peak_va\"] - usgs_calculated[\"discharge\"]"
   ]
  },
  {
   "cell_type": "markdown",
   "id": "6871ce97",
   "metadata": {},
   "source": [
    "Once you have calculated a difference column, create a barplot."
   ]
  },
  {
   "cell_type": "code",
   "execution_count": 26,
   "id": "6fc8e308",
   "metadata": {},
   "outputs": [
    {
     "data": {
      "image/png": "[encoded data removed]",
      "text/plain": [
       "<Figure size 792x432 with 1 Axes>"
      ]
     },
     "metadata": {
      "needs_background": "light"
     },
     "output_type": "display_data"
    }
   ],
   "source": [
    "# Plot difference\n",
    "fig, ax = plt.subplots(figsize=(11, 6))\n",
    "\n",
    "ax.bar(usgs_calculated[\"year\"],\n",
    "       usgs_calculated[\"diff\"],\n",
    "      color=\"purple\")\n",
    "\n",
    "ax.set_title(\n",
    "    \"Difference Plot of Annual Maxima \\nInstantaneous Minus Mean Daily\")\n",
    "\n",
    "plt.show()"
   ]
  },
  {
   "cell_type": "markdown",
   "id": "85c686a6",
   "metadata": {},
   "source": [
    "## Calculate Return Period\n",
    "Now that you have both datasets, you are ready to calculate the return period from each. You will calculate this value and the associated probability of each event size for both the USGS max annual flow data and for the max flow value that you derived from the mean daily data. To calculate return period you will do the following:\n",
    "\n",
    "- Sort your data from smallest to largest.\n",
    "- Calculate exceedance probabilities using the equation below where n is length of the record and i is the rank.\n",
    "- Calculate the inverse of the exceedance probabilities to determine return period in years.\n",
    "- Plot flood magnitudes against return time. It is common to plot these kinds of data on log-linear or log-log axes."
   ]
  },
  {
   "cell_type": "markdown",
   "id": "3c177c68",
   "metadata": {},
   "source": [
    "Exceedance probability equation:\n",
    "![title](Captura.JPG)"
   ]
  },
  {
   "cell_type": "markdown",
   "id": "1c50f4ad",
   "metadata": {},
   "source": [
    "where i is the rank order (smallest to largest) from 1 to n. Note that the limits of this equation vary from n/(n+1) ~ 1 for the smallest events and 1/(n+1) for the largest events (i.e., the largest events have a very small exceedance probability)."
   ]
  },
  {
   "cell_type": "markdown",
   "id": "7bffbe81",
   "metadata": {},
   "source": [
    " Data Tip: If you want to extrapolate beyond the observations that you have - for instance to predict what a 1000 year flood would be given only 100 years of data - then you would need to fit a model to the data.\n",
    "\n"
   ]
  },
  {
   "cell_type": "markdown",
   "id": "1061f38f",
   "metadata": {},
   "source": [
    "The steps that you will need to implement are below"
   ]
  },
  {
   "cell_type": "code",
   "execution_count": 30,
   "id": "ca25630c",
   "metadata": {},
   "outputs": [],
   "source": [
    "# Sort data smallest to largest\n",
    "longmont_discharge_sorted = longmont_discharge.sort_values(by=\"discharge\")\n",
    "\n",
    "# Count total obervations\n",
    "n = longmont_discharge_sorted.shape[0]\n",
    "\n",
    "# Add a numbered column 1 -> n to use in return calculation for rank\n",
    "longmont_discharge_sorted.insert(0, 'rank', range(1, 1 + n))\n",
    "\n",
    "# Calculate probability - note you may need to adjust this value based upon the time period of your data\n",
    "longmont_discharge_sorted[\"probability\"] = (\n",
    "    (n - longmont_discharge_sorted[\"rank\"] + 1) / (n + 1))\n",
    "\n",
    "longmont_discharge_sorted[\"return-years\"] = (\n",
    "    1 / longmont_discharge_sorted[\"probability\"])"
   ]
  },
  {
   "cell_type": "markdown",
   "id": "d8acc6f9",
   "metadata": {},
   "source": [
    "You will ultimately perform the steps above several times for both the discharge data and the precipitation data as a part of your homework. Turning these steps into a function will help you more efficiently process your data. An example of what this function could look like is below. For your homework, you will add documentation to this function."
   ]
  },
  {
   "cell_type": "code",
   "execution_count": 31,
   "id": "e108f149",
   "metadata": {},
   "outputs": [],
   "source": [
    "# Create a function from the workflow below\n",
    "\n",
    "# Add an argument for annual vs daily...\n",
    "\n",
    "\n",
    "def calculate_return(df, colname):\n",
    "    '''\n",
    "    Add Documentation Here\n",
    "\n",
    "\n",
    "    '''\n",
    "    # Sort data smallest to largest\n",
    "    sorted_data = df.sort_values(by=colname)\n",
    "    \n",
    "    # Count total obervations\n",
    "    n = sorted_data.shape[0]\n",
    "    \n",
    "    # Add a numbered column 1 -> n to use in return calculation for rank\n",
    "    sorted_data.insert(0, 'rank', range(1, 1 + n))\n",
    "    \n",
    "    # Calculate probability\n",
    "    sorted_data[\"probability\"] = (n - sorted_data[\"rank\"] + 1) / (n + 1)\n",
    "    \n",
    "    # Calculate return - data are daily to then divide by 365?\n",
    "    sorted_data[\"return-years\"] = (1 / sorted_data[\"probability\"])\n",
    "\n",
    "    return(sorted_data)"
   ]
  },
  {
   "cell_type": "markdown",
   "id": "04224a46",
   "metadata": {},
   "source": [
    "Once you have a function, you can calculate return period and probability on both datasets."
   ]
  },
  {
   "cell_type": "code",
   "execution_count": 32,
   "id": "fc5b6c30",
   "metadata": {},
   "outputs": [
    {
     "data": {
      "text/html": [
       "<div>\n",
       "<style scoped>\n",
       "    .dataframe tbody tr th:only-of-type {\n",
       "        vertical-align: middle;\n",
       "    }\n",
       "\n",
       "    .dataframe tbody tr th {\n",
       "        vertical-align: top;\n",
       "    }\n",
       "\n",
       "    .dataframe thead th {\n",
       "        text-align: right;\n",
       "    }\n",
       "</style>\n",
       "<table border=\"1\" class=\"dataframe\">\n",
       "  <thead>\n",
       "    <tr style=\"text-align: right;\">\n",
       "      <th></th>\n",
       "      <th>rank</th>\n",
       "      <th>discharge</th>\n",
       "      <th>year</th>\n",
       "      <th>probability</th>\n",
       "      <th>return-years</th>\n",
       "    </tr>\n",
       "    <tr>\n",
       "      <th>datetimeUTC</th>\n",
       "      <th></th>\n",
       "      <th></th>\n",
       "      <th></th>\n",
       "      <th></th>\n",
       "      <th></th>\n",
       "    </tr>\n",
       "  </thead>\n",
       "  <tbody>\n",
       "    <tr>\n",
       "      <th>2013-09-16 00:00:00+00:00</th>\n",
       "      <td>26406</td>\n",
       "      <td>3270.0</td>\n",
       "      <td>2013</td>\n",
       "      <td>0.06910</td>\n",
       "      <td>14.471781</td>\n",
       "    </tr>\n",
       "    <tr>\n",
       "      <th>2013-09-12 00:00:00+00:00</th>\n",
       "      <td>26407</td>\n",
       "      <td>3680.0</td>\n",
       "      <td>2013</td>\n",
       "      <td>0.05528</td>\n",
       "      <td>18.089726</td>\n",
       "    </tr>\n",
       "    <tr>\n",
       "      <th>2013-09-15 00:00:00+00:00</th>\n",
       "      <td>26408</td>\n",
       "      <td>3970.0</td>\n",
       "      <td>2013</td>\n",
       "      <td>0.04146</td>\n",
       "      <td>24.119635</td>\n",
       "    </tr>\n",
       "    <tr>\n",
       "      <th>2013-09-14 00:00:00+00:00</th>\n",
       "      <td>26409</td>\n",
       "      <td>4970.0</td>\n",
       "      <td>2013</td>\n",
       "      <td>0.02764</td>\n",
       "      <td>36.179452</td>\n",
       "    </tr>\n",
       "    <tr>\n",
       "      <th>2013-09-13 00:00:00+00:00</th>\n",
       "      <td>26410</td>\n",
       "      <td>8910.0</td>\n",
       "      <td>2013</td>\n",
       "      <td>0.01382</td>\n",
       "      <td>72.358904</td>\n",
       "    </tr>\n",
       "  </tbody>\n",
       "</table>\n",
       "</div>"
      ],
      "text/plain": [
       "                            rank  discharge  year  probability  return-years\n",
       "datetimeUTC                                                                 \n",
       "2013-09-16 00:00:00+00:00  26406     3270.0  2013      0.06910     14.471781\n",
       "2013-09-12 00:00:00+00:00  26407     3680.0  2013      0.05528     18.089726\n",
       "2013-09-15 00:00:00+00:00  26408     3970.0  2013      0.04146     24.119635\n",
       "2013-09-14 00:00:00+00:00  26409     4970.0  2013      0.02764     36.179452\n",
       "2013-09-13 00:00:00+00:00  26410     8910.0  2013      0.01382     72.358904"
      ]
     },
     "execution_count": 32,
     "metadata": {},
     "output_type": "execute_result"
    }
   ],
   "source": [
    "longmont_prob = calculate_return(longmont_discharge, \"discharge\")\n",
    "\n",
    "# Because these data are daily,\n",
    "# divide return period in days by 365 to get a return period in years\n",
    "longmont_prob[\"return-years\"] = longmont_prob[\"return-years\"] / 365\n",
    "longmont_prob[\"probability\"] = longmont_prob[\"probability\"] * 365\n",
    "longmont_prob.tail()"
   ]
  },
  {
   "cell_type": "code",
   "execution_count": 33,
   "id": "4d8926d2",
   "metadata": {},
   "outputs": [
    {
     "data": {
      "text/html": [
       "<div>\n",
       "<style scoped>\n",
       "    .dataframe tbody tr th:only-of-type {\n",
       "        vertical-align: middle;\n",
       "    }\n",
       "\n",
       "    .dataframe tbody tr th {\n",
       "        vertical-align: top;\n",
       "    }\n",
       "\n",
       "    .dataframe thead th {\n",
       "        text-align: right;\n",
       "    }\n",
       "</style>\n",
       "<table border=\"1\" class=\"dataframe\">\n",
       "  <thead>\n",
       "    <tr style=\"text-align: right;\">\n",
       "      <th></th>\n",
       "      <th>rank</th>\n",
       "      <th>peak_va</th>\n",
       "      <th>year</th>\n",
       "      <th>probability</th>\n",
       "      <th>return-years</th>\n",
       "    </tr>\n",
       "    <tr>\n",
       "      <th>peak_dt</th>\n",
       "      <th></th>\n",
       "      <th></th>\n",
       "      <th></th>\n",
       "      <th></th>\n",
       "      <th></th>\n",
       "    </tr>\n",
       "  </thead>\n",
       "  <tbody>\n",
       "    <tr>\n",
       "      <th>1954-01-14</th>\n",
       "      <td>1</td>\n",
       "      <td>26.0</td>\n",
       "      <td>1954</td>\n",
       "      <td>0.985294</td>\n",
       "      <td>1.014925</td>\n",
       "    </tr>\n",
       "    <tr>\n",
       "      <th>1932-07-13</th>\n",
       "      <td>2</td>\n",
       "      <td>128.0</td>\n",
       "      <td>1932</td>\n",
       "      <td>0.970588</td>\n",
       "      <td>1.030303</td>\n",
       "    </tr>\n",
       "    <tr>\n",
       "      <th>1940-07-03</th>\n",
       "      <td>3</td>\n",
       "      <td>174.0</td>\n",
       "      <td>1940</td>\n",
       "      <td>0.955882</td>\n",
       "      <td>1.046154</td>\n",
       "    </tr>\n",
       "    <tr>\n",
       "      <th>1946-07-19</th>\n",
       "      <td>4</td>\n",
       "      <td>178.0</td>\n",
       "      <td>1946</td>\n",
       "      <td>0.941176</td>\n",
       "      <td>1.062500</td>\n",
       "    </tr>\n",
       "    <tr>\n",
       "      <th>2002-05-24</th>\n",
       "      <td>5</td>\n",
       "      <td>238.0</td>\n",
       "      <td>2002</td>\n",
       "      <td>0.926471</td>\n",
       "      <td>1.079365</td>\n",
       "    </tr>\n",
       "  </tbody>\n",
       "</table>\n",
       "</div>"
      ],
      "text/plain": [
       "            rank  peak_va  year  probability  return-years\n",
       "peak_dt                                                   \n",
       "1954-01-14     1     26.0  1954     0.985294      1.014925\n",
       "1932-07-13     2    128.0  1932     0.970588      1.030303\n",
       "1940-07-03     3    174.0  1940     0.955882      1.046154\n",
       "1946-07-19     4    178.0  1946     0.941176      1.062500\n",
       "2002-05-24     5    238.0  2002     0.926471      1.079365"
      ]
     },
     "execution_count": 33,
     "metadata": {},
     "output_type": "execute_result"
    }
   ],
   "source": [
    "# Calculate the same thing using the USGS annual max data\n",
    "usgs_annual_prob = calculate_return(usgs_annual_max, \"peak_va\")\n",
    "usgs_annual_prob.head()"
   ]
  },
  {
   "cell_type": "markdown",
   "id": "d76b91b9",
   "metadata": {},
   "source": [
    "### Plot Event Probability\n",
    "Below, you plot Discharge on the x-axis and the probability that an event of that size will occur on the y-axis."
   ]
  },
  {
   "cell_type": "code",
   "execution_count": 34,
   "id": "289133b0",
   "metadata": {
    "scrolled": true
   },
   "outputs": [
    {
     "data": {
      "image/png": "[encoded data removed]",
      "text/plain": [
       "<Figure size 792x432 with 1 Axes>"
      ]
     },
     "metadata": {
      "needs_background": "light"
     },
     "output_type": "display_data"
    }
   ],
   "source": [
    "# Compare both datasets\n",
    "fig, ax = plt.subplots(figsize=(11, 6))\n",
    "\n",
    "usgs_annual_prob.plot.scatter(x=\"peak_va\",\n",
    "                              y=\"probability\",\n",
    "                              title=\"Probability \",\n",
    "                              ax=ax,\n",
    "                              color='purple',\n",
    "                              fontsize=16,\n",
    "                              logy=True,\n",
    "                              label=\"USGS Annual Max Calculated\")\n",
    "\n",
    "longmont_prob.plot.scatter(y=\"probability\",\n",
    "                           x=\"discharge\",\n",
    "                           title=\"Probability \",\n",
    "                           ax=ax,\n",
    "                           color='grey',\n",
    "                           fontsize=16,\n",
    "                           logy=True,\n",
    "                           label=\"Daily Mean Calculated\")\n",
    "ax.legend(frameon=True,\n",
    "          framealpha=1)\n",
    "\n",
    "ax.set_ylabel(\"Probability\")\n",
    "ax.set_xlabel(\"Discharge Value (CFS)\")\n",
    "ax.set_title(\n",
    "    \"Probability of Discharge Events \\n USGS Annual Max Data Compared to Daily Mean Calculated Annual Max\")\n",
    "\n",
    "plt.show()"
   ]
  },
  {
   "cell_type": "markdown",
   "id": "0203ec52",
   "metadata": {},
   "source": [
    "https://www.earthdatascience.org/courses/use-data-open-source-python/use-time-series-data-in-python/floods-return-period-and-probability/\n",
    "\n",
    "References\n",
    "Falcone, J. A. (2011). GAGES-II: Geospatial attributes of gages for evaluating streamflow. US Geological Survey.\n",
    "\n",
    "Lins, H. F. (2012). USGS hydro-climatic data network 2009 (HCDN-2009). US Geological Survey Fact Sheet, 3047(4).\n",
    "\n",
    "Yochum, S. E. (2015, April). Colorado Front Range Flood of 2013: Peak flows and flood frequencies. In Proceedings of the 3rd Joint Federal Interagency Conference on Sedimentation and Hydrologic Modeling, Reno, NV, USA (pp. 19-23)."
   ]
  },
  {
   "cell_type": "code",
   "execution_count": null,
   "id": "d6025954",
   "metadata": {},
   "outputs": [],
   "source": []
  }
 ],
 "metadata": {
  "kernelspec": {
   "display_name": "Python 3",
   "language": "python",
   "name": "python3"
  },
  "language_info": {
   "codemirror_mode": {
    "name": "ipython",
    "version": 3
   },
   "file_extension": ".py",
   "mimetype": "text/x-python",
   "name": "python",
   "nbconvert_exporter": "python",
   "pygments_lexer": "ipython3",
   "version": "3.9.4"
  }
 },
 "nbformat": 4,
 "nbformat_minor": 5
}
