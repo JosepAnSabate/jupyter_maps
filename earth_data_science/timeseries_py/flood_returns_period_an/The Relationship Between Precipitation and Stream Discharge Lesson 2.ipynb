{
 "cells": [
  {
   "cell_type": "markdown",
   "id": "5d07d4bc",
   "metadata": {},
   "source": [
    "## Introduction to Flood Frequency Analysis"
   ]
  },
  {
   "cell_type": "code",
   "execution_count": 15,
   "id": "bd39074a",
   "metadata": {},
   "outputs": [],
   "source": [
    "import os\n",
    "import urllib\n",
    "import math\n",
    "import matplotlib.pyplot as plt\n",
    "import seaborn as sns\n",
    "import pandas as pd\n",
    "import earthpy as et\n",
    "import hydrofunctions as hf\n",
    "\n",
    "# Date time conversion registration\n",
    "from pandas.plotting import register_matplotlib_converters\n",
    "register_matplotlib_converters()\n",
    "\n",
    "# Prettier plotting with seaborn\n",
    "sns.set(font_scale=1.5, style=\"whitegrid\")\n",
    "\n",
    "%matplotlib inline"
   ]
  },
  {
   "cell_type": "markdown",
   "id": "9cc89cfd",
   "metadata": {},
   "source": [
    "## Download Stream Gage Data"
   ]
  },
  {
   "cell_type": "markdown",
   "id": "1d8ebb2b",
   "metadata": {},
   "source": [
    "Picking up from the previous lesson…"
   ]
  },
  {
   "cell_type": "code",
   "execution_count": 16,
   "id": "8e158e7a",
   "metadata": {},
   "outputs": [],
   "source": [
    "# Define the site number and start and end dates that you are interested in\n",
    "site = \"06730500\"\n",
    "start = '1946-05-10'\n",
    "end = '2018-08-29'"
   ]
  },
  {
   "cell_type": "code",
   "execution_count": 17,
   "id": "718b5908",
   "metadata": {},
   "outputs": [
    {
     "name": "stdout",
     "output_type": "stream",
     "text": [
      "Requested data from https://waterservices.usgs.gov/nwis/dv/?format=json%2C1.1&sites=06730500&startDT=1946-05-10&endDT=2018-08-29\n"
     ]
    },
    {
     "data": {
      "text/plain": [
       "USGS:06730500: BOULDER CREEK AT MOUTH NEAR LONGMONT, CO\n",
       "    00060: <Day>  Discharge, cubic feet per second \n",
       "Start: 1946-05-10 00:00:00+00:00\n",
       "End:   2018-08-29 00:00:00+00:00"
      ]
     },
     "execution_count": 17,
     "metadata": {},
     "output_type": "execute_result"
    }
   ],
   "source": [
    "# Request data for the site and time period\n",
    "longmont_resp = hf.NWIS(site, 'dv', start, end)\n",
    "\n",
    "longmont_resp"
   ]
  },
  {
   "cell_type": "code",
   "execution_count": 18,
   "id": "f869c094",
   "metadata": {},
   "outputs": [
    {
     "data": {
      "text/plain": [
       "True"
      ]
     },
     "execution_count": 18,
     "metadata": {},
     "output_type": "execute_result"
    }
   ],
   "source": [
    "longmont_resp.ok"
   ]
  },
  {
   "cell_type": "code",
   "execution_count": 19,
   "id": "be5798ac",
   "metadata": {
    "scrolled": true
   },
   "outputs": [
    {
     "data": {
      "text/html": [
       "<div>\n",
       "<style scoped>\n",
       "    .dataframe tbody tr th:only-of-type {\n",
       "        vertical-align: middle;\n",
       "    }\n",
       "\n",
       "    .dataframe tbody tr th {\n",
       "        vertical-align: top;\n",
       "    }\n",
       "\n",
       "    .dataframe thead th {\n",
       "        text-align: right;\n",
       "    }\n",
       "</style>\n",
       "<table border=\"1\" class=\"dataframe\">\n",
       "  <thead>\n",
       "    <tr style=\"text-align: right;\">\n",
       "      <th></th>\n",
       "      <th>USGS:06730500:00060:00003</th>\n",
       "    </tr>\n",
       "    <tr>\n",
       "      <th>datetimeUTC</th>\n",
       "      <th></th>\n",
       "    </tr>\n",
       "  </thead>\n",
       "  <tbody>\n",
       "    <tr>\n",
       "      <th>1946-05-10 00:00:00+00:00</th>\n",
       "      <td>16.0</td>\n",
       "    </tr>\n",
       "    <tr>\n",
       "      <th>1946-05-11 00:00:00+00:00</th>\n",
       "      <td>19.0</td>\n",
       "    </tr>\n",
       "    <tr>\n",
       "      <th>1946-05-12 00:00:00+00:00</th>\n",
       "      <td>9.0</td>\n",
       "    </tr>\n",
       "    <tr>\n",
       "      <th>1946-05-13 00:00:00+00:00</th>\n",
       "      <td>3.0</td>\n",
       "    </tr>\n",
       "    <tr>\n",
       "      <th>1946-05-14 00:00:00+00:00</th>\n",
       "      <td>7.8</td>\n",
       "    </tr>\n",
       "  </tbody>\n",
       "</table>\n",
       "</div>"
      ],
      "text/plain": [
       "                           USGS:06730500:00060:00003\n",
       "datetimeUTC                                         \n",
       "1946-05-10 00:00:00+00:00                       16.0\n",
       "1946-05-11 00:00:00+00:00                       19.0\n",
       "1946-05-12 00:00:00+00:00                        9.0\n",
       "1946-05-13 00:00:00+00:00                        3.0\n",
       "1946-05-14 00:00:00+00:00                        7.8"
      ]
     },
     "execution_count": 19,
     "metadata": {},
     "output_type": "execute_result"
    }
   ],
   "source": [
    "longmont_discharge = longmont_resp.df('discharge')\n",
    "longmont_discharge.head()"
   ]
  },
  {
   "cell_type": "code",
   "execution_count": 22,
   "id": "05871282",
   "metadata": {},
   "outputs": [],
   "source": [
    "longmont_discharge.columns = ['discharge']"
   ]
  },
  {
   "cell_type": "markdown",
   "id": "6d73ec6b",
   "metadata": {},
   "source": [
    "## Calculate Cumulative Sum\n",
    "Next you will create a plot that shows both stream discharge the the total cumulative runnof that it represents over the time period of interest. This plot is useful as you will be able to compare this to a plot of precipitation that you create for your homework.\n",
    "\n",
    "Together - stream runoff and precipitation can be explored to better understand the mass balance of water in your watershed of interest. The total precipitation in the watershed minus the total runoff can be used to calculate how much water is being “lost” in the system to evapotranspiration. The steps are as follows:\n",
    "\n",
    "- Calculate the cumulative sum using the .cumsum() method in pandas.\n",
    "- Convert CFS (Cubic Feet per Second) to a more meaningful unit of runoff by\n",
    "        converting CFS to Cubic feet per day\n",
    "        divide this value by the total area in the watershed to get a volume of water per area"
   ]
  },
  {
   "cell_type": "markdown",
   "id": "2e52a5ba",
   "metadata": {},
   "source": [
    "USGS Site page has the area of the site drainage area: 447 square miles"
   ]
  },
  {
   "cell_type": "code",
   "execution_count": 23,
   "id": "70863f1c",
   "metadata": {},
   "outputs": [
    {
     "name": "stdout",
     "output_type": "stream",
     "text": [
      "The site drainage area in square km = 1157.72553\n"
     ]
    }
   ],
   "source": [
    "# Convert site drainage area to square km\n",
    "miles_km = 2.58999\n",
    "site_drainage = 447\n",
    "longmont_area = site_drainage * miles_km\n",
    "\n",
    "print(\"The site drainage area in square km =\", longmont_area)"
   ]
  },
  {
   "cell_type": "markdown",
   "id": "bb1a0819",
   "metadata": {},
   "source": [
    "Next you calculate the cumulative sum, convert that to cubic feet per day and then divide by the drainage area."
   ]
  },
  {
   "cell_type": "code",
   "execution_count": 24,
   "id": "da9e00f0",
   "metadata": {},
   "outputs": [
    {
     "data": {
      "text/plain": [
       "100027485.792"
      ]
     },
     "execution_count": 24,
     "metadata": {},
     "output_type": "execute_result"
    }
   ],
   "source": [
    "convert_to_cub_feet_day = (60*60*24)\n",
    "\n",
    "convert_to_runoff = convert_to_cub_feet_day*longmont_area\n",
    "convert_to_runoff"
   ]
  },
  {
   "cell_type": "code",
   "execution_count": 25,
   "id": "d8b74239",
   "metadata": {},
   "outputs": [
    {
     "data": {
      "text/html": [
       "<div>\n",
       "<style scoped>\n",
       "    .dataframe tbody tr th:only-of-type {\n",
       "        vertical-align: middle;\n",
       "    }\n",
       "\n",
       "    .dataframe tbody tr th {\n",
       "        vertical-align: top;\n",
       "    }\n",
       "\n",
       "    .dataframe thead th {\n",
       "        text-align: right;\n",
       "    }\n",
       "</style>\n",
       "<table border=\"1\" class=\"dataframe\">\n",
       "  <thead>\n",
       "    <tr style=\"text-align: right;\">\n",
       "      <th></th>\n",
       "      <th>discharge</th>\n",
       "      <th>cum-sum-vol</th>\n",
       "    </tr>\n",
       "    <tr>\n",
       "      <th>datetimeUTC</th>\n",
       "      <th></th>\n",
       "      <th></th>\n",
       "    </tr>\n",
       "  </thead>\n",
       "  <tbody>\n",
       "    <tr>\n",
       "      <th>1946-05-10 00:00:00+00:00</th>\n",
       "      <td>16.0</td>\n",
       "      <td>1.600440e+09</td>\n",
       "    </tr>\n",
       "    <tr>\n",
       "      <th>1946-05-11 00:00:00+00:00</th>\n",
       "      <td>19.0</td>\n",
       "      <td>3.500962e+09</td>\n",
       "    </tr>\n",
       "    <tr>\n",
       "      <th>1946-05-12 00:00:00+00:00</th>\n",
       "      <td>9.0</td>\n",
       "      <td>4.401209e+09</td>\n",
       "    </tr>\n",
       "    <tr>\n",
       "      <th>1946-05-13 00:00:00+00:00</th>\n",
       "      <td>3.0</td>\n",
       "      <td>4.701292e+09</td>\n",
       "    </tr>\n",
       "    <tr>\n",
       "      <th>1946-05-14 00:00:00+00:00</th>\n",
       "      <td>7.8</td>\n",
       "      <td>5.481506e+09</td>\n",
       "    </tr>\n",
       "  </tbody>\n",
       "</table>\n",
       "</div>"
      ],
      "text/plain": [
       "                           discharge   cum-sum-vol\n",
       "datetimeUTC                                       \n",
       "1946-05-10 00:00:00+00:00       16.0  1.600440e+09\n",
       "1946-05-11 00:00:00+00:00       19.0  3.500962e+09\n",
       "1946-05-12 00:00:00+00:00        9.0  4.401209e+09\n",
       "1946-05-13 00:00:00+00:00        3.0  4.701292e+09\n",
       "1946-05-14 00:00:00+00:00        7.8  5.481506e+09"
      ]
     },
     "execution_count": 25,
     "metadata": {},
     "output_type": "execute_result"
    }
   ],
   "source": [
    "# MAR - Mean Annual Runoff\n",
    "longmont_discharge[\"cum-sum-vol\"] = longmont_discharge[\n",
    "    'discharge'].cumsum()*convert_to_runoff\n",
    "\n",
    "longmont_discharge.head()"
   ]
  },
  {
   "cell_type": "markdown",
   "id": "b52156c3",
   "metadata": {},
   "source": [
    "## Plot Cumulative Sum of Runnof and Daily Mean Discharge Together\n",
    "Finally you can plot cumulative sum on top of your discharge values. This plot is an interesting way to to view increases and decreases in discharge as they occur over time.\n",
    "\n",
    "Creating this Plot\n",
    "Notice below you have two sets of data with different Y axes on the same plot. The key to making this work is this:\n",
    "\n",
    "ax2 = ax.twinx()\n",
    "\n",
    "Where you define a second axis but tell matplotlib to create that axis on the ax object in your figure."
   ]
  },
  {
   "cell_type": "code",
   "execution_count": 26,
   "id": "39d00542",
   "metadata": {},
   "outputs": [
    {
     "data": {
      "image/png": "[encoded data removed]",
      "text/plain": [
       "<Figure size 792x504 with 2 Axes>"
      ]
     },
     "metadata": {
      "needs_background": "light"
     },
     "output_type": "display_data"
    }
   ],
   "source": [
    "# Plot your data\n",
    "fig, ax = plt.subplots(figsize=(11,7))\n",
    "longmont_discharge[\"cum-sum-vol\"].plot(ax=ax, label = \"Cumulative Volume\")\n",
    "\n",
    "# Make the y-axis label, ticks and tick labels match the line color.\n",
    "ax.set_ylabel('Total Area Runoff', color='b')\n",
    "ax.tick_params('y', colors='b')\n",
    "\n",
    "ax2 = ax.twinx() # Create a new Axes with an invisible x-axis and an independent y-axis positioned opposite to the original\n",
    "\n",
    "ax2.scatter(x=longmont_discharge.index, \n",
    "        y=longmont_discharge[\"discharge\"], \n",
    "        marker=\"o\",\n",
    "        s=4, \n",
    "        color =\"purple\", label=\"Daily Mean\")\n",
    "\n",
    "ax2.set_ylabel('Stream Discharge (CFS)', color='purple')\n",
    "ax2.tick_params('y', colors='purple')\n",
    "ax2.set_ylim(0,10000)\n",
    "\n",
    "ax.set_title(\"Cumulative Sum & Daily Mean Discharge\")\n",
    "ax.legend()\n",
    "\n",
    "# Reposition the second legend so it renders under the first legend item\n",
    "ax2.legend(loc = \"upper left\", bbox_to_anchor=(0.0, 0.9))\n",
    "\n",
    "fig.tight_layout()\n",
    "\n",
    "plt.show()"
   ]
  },
  {
   "cell_type": "code",
   "execution_count": null,
   "id": "bbc0c0ad",
   "metadata": {},
   "outputs": [],
   "source": []
  }
 ],
 "metadata": {
  "kernelspec": {
   "display_name": "Python 3",
   "language": "python",
   "name": "python3"
  },
  "language_info": {
   "codemirror_mode": {
    "name": "ipython",
    "version": 3
   },
   "file_extension": ".py",
   "mimetype": "text/x-python",
   "name": "python",
   "nbconvert_exporter": "python",
   "pygments_lexer": "ipython3",
   "version": "3.9.4"
  }
 },
 "nbformat": 4,
 "nbformat_minor": 5
}
