{
 "cells": [
  {
   "cell_type": "code",
   "execution_count": 1,
   "id": "7dc60a44",
   "metadata": {},
   "outputs": [],
   "source": [
    "import pandas as pd\n",
    "import matplotlib.pyplot as plt\n",
    "import seaborn as sns\n",
    "\n",
    "# Date time conversion registration\n",
    "from pandas.plotting import register_matplotlib_converters\n",
    "register_matplotlib_converters()\n",
    "\n",
    "# Prettier plotting with seaborn\n",
    "sns.set(font_scale=1.5, style=\"whitegrid\")\n",
    "\n",
    "%matplotlib inline"
   ]
  },
  {
   "cell_type": "markdown",
   "id": "87c7e3d2",
   "metadata": {},
   "source": [
    "## Data: http://aca-web.gencat.cat/sdim21\n",
    "\n",
    "### Cabal Mitjà diari"
   ]
  },
  {
   "cell_type": "markdown",
   "id": "7ec3c598",
   "metadata": {},
   "source": [
    "# Francolí cabals 1960-2006"
   ]
  },
  {
   "cell_type": "code",
   "execution_count": 23,
   "id": "4d382025",
   "metadata": {},
   "outputs": [],
   "source": [
    "# index has to be uniques values\n",
    "df_c = pd.read_excel('C:/capes_sql/riuada/aca_c_1960_2006.xlsx',                                     \n",
    "                                    skiprows=[0,1,2,3,4,5,6],\n",
    "                                    parse_dates=['Data'],                                     \n",
    "                                     )\n",
    "df_c = df_c.drop(columns=['Unnamed: 0','Unnamed: 3','Unnamed: 5','Unnamed: 11']) "
   ]
  },
  {
   "cell_type": "code",
   "execution_count": 24,
   "id": "094e94ee",
   "metadata": {},
   "outputs": [],
   "source": [
    "#data as index\n",
    "df_c = df_c.set_index('Data')"
   ]
  },
  {
   "cell_type": "code",
   "execution_count": 4,
   "id": "ceb8ff5e",
   "metadata": {},
   "outputs": [
    {
     "data": {
      "text/html": [
       "<div>\n",
       "<style scoped>\n",
       "    .dataframe tbody tr th:only-of-type {\n",
       "        vertical-align: middle;\n",
       "    }\n",
       "\n",
       "    .dataframe tbody tr th {\n",
       "        vertical-align: top;\n",
       "    }\n",
       "\n",
       "    .dataframe thead th {\n",
       "        text-align: right;\n",
       "    }\n",
       "</style>\n",
       "<table border=\"1\" class=\"dataframe\">\n",
       "  <thead>\n",
       "    <tr style=\"text-align: right;\">\n",
       "      <th></th>\n",
       "      <th>Estació</th>\n",
       "      <th>Conca</th>\n",
       "      <th>UTM X</th>\n",
       "      <th>UTM Y</th>\n",
       "      <th>Variable</th>\n",
       "      <th>Mitjana</th>\n",
       "      <th>Unitat Mesura</th>\n",
       "    </tr>\n",
       "    <tr>\n",
       "      <th>Data</th>\n",
       "      <th></th>\n",
       "      <th></th>\n",
       "      <th></th>\n",
       "      <th></th>\n",
       "      <th></th>\n",
       "      <th></th>\n",
       "      <th></th>\n",
       "    </tr>\n",
       "  </thead>\n",
       "  <tbody>\n",
       "    <tr>\n",
       "      <th>2006-12-27</th>\n",
       "      <td>Aforament - Montblanc</td>\n",
       "      <td>EL FRANCOLÍ</td>\n",
       "      <td>347766</td>\n",
       "      <td>4580851</td>\n",
       "      <td>EA028_Montblanc_Cabal riu Francoli</td>\n",
       "      <td>0.1102</td>\n",
       "      <td>m³/s</td>\n",
       "    </tr>\n",
       "    <tr>\n",
       "      <th>2006-12-28</th>\n",
       "      <td>Aforament - Montblanc</td>\n",
       "      <td>EL FRANCOLÍ</td>\n",
       "      <td>347766</td>\n",
       "      <td>4580851</td>\n",
       "      <td>EA028_Montblanc_Cabal riu Francoli</td>\n",
       "      <td>0.1102</td>\n",
       "      <td>m³/s</td>\n",
       "    </tr>\n",
       "    <tr>\n",
       "      <th>2006-12-29</th>\n",
       "      <td>Aforament - Montblanc</td>\n",
       "      <td>EL FRANCOLÍ</td>\n",
       "      <td>347766</td>\n",
       "      <td>4580851</td>\n",
       "      <td>EA028_Montblanc_Cabal riu Francoli</td>\n",
       "      <td>0.1100</td>\n",
       "      <td>m³/s</td>\n",
       "    </tr>\n",
       "    <tr>\n",
       "      <th>2006-12-30</th>\n",
       "      <td>Aforament - Montblanc</td>\n",
       "      <td>EL FRANCOLÍ</td>\n",
       "      <td>347766</td>\n",
       "      <td>4580851</td>\n",
       "      <td>EA028_Montblanc_Cabal riu Francoli</td>\n",
       "      <td>0.1086</td>\n",
       "      <td>m³/s</td>\n",
       "    </tr>\n",
       "    <tr>\n",
       "      <th>2006-12-31</th>\n",
       "      <td>Aforament - Montblanc</td>\n",
       "      <td>EL FRANCOLÍ</td>\n",
       "      <td>347766</td>\n",
       "      <td>4580851</td>\n",
       "      <td>EA028_Montblanc_Cabal riu Francoli</td>\n",
       "      <td>0.1114</td>\n",
       "      <td>m³/s</td>\n",
       "    </tr>\n",
       "  </tbody>\n",
       "</table>\n",
       "</div>"
      ],
      "text/plain": [
       "                          Estació        Conca   UTM X    UTM Y  \\\n",
       "Data                                                              \n",
       "2006-12-27  Aforament - Montblanc  EL FRANCOLÍ  347766  4580851   \n",
       "2006-12-28  Aforament - Montblanc  EL FRANCOLÍ  347766  4580851   \n",
       "2006-12-29  Aforament - Montblanc  EL FRANCOLÍ  347766  4580851   \n",
       "2006-12-30  Aforament - Montblanc  EL FRANCOLÍ  347766  4580851   \n",
       "2006-12-31  Aforament - Montblanc  EL FRANCOLÍ  347766  4580851   \n",
       "\n",
       "                                      Variable  Mitjana Unitat Mesura  \n",
       "Data                                                                   \n",
       "2006-12-27  EA028_Montblanc_Cabal riu Francoli   0.1102          m³/s  \n",
       "2006-12-28  EA028_Montblanc_Cabal riu Francoli   0.1102          m³/s  \n",
       "2006-12-29  EA028_Montblanc_Cabal riu Francoli   0.1100          m³/s  \n",
       "2006-12-30  EA028_Montblanc_Cabal riu Francoli   0.1086          m³/s  \n",
       "2006-12-31  EA028_Montblanc_Cabal riu Francoli   0.1114          m³/s  "
      ]
     },
     "execution_count": 4,
     "metadata": {},
     "output_type": "execute_result"
    }
   ],
   "source": [
    "df_c.tail()"
   ]
  },
  {
   "cell_type": "markdown",
   "id": "446ec378",
   "metadata": {},
   "source": [
    "### Data avaluation"
   ]
  },
  {
   "cell_type": "code",
   "execution_count": 5,
   "id": "e4c3fb54",
   "metadata": {},
   "outputs": [
    {
     "name": "stdout",
     "output_type": "stream",
     "text": [
      "<class 'pandas.core.frame.DataFrame'>\n",
      "DatetimeIndex: 16610 entries, 1960-01-01 to 2006-12-31\n",
      "Data columns (total 7 columns):\n",
      " #   Column         Non-Null Count  Dtype  \n",
      "---  ------         --------------  -----  \n",
      " 0   Estació        16610 non-null  object \n",
      " 1   Conca          16610 non-null  object \n",
      " 2   UTM X          16610 non-null  int64  \n",
      " 3   UTM Y          16610 non-null  int64  \n",
      " 4   Variable       16610 non-null  object \n",
      " 5   Mitjana        16610 non-null  float64\n",
      " 6   Unitat Mesura  16610 non-null  object \n",
      "dtypes: float64(1), int64(2), object(4)\n",
      "memory usage: 1.0+ MB\n"
     ]
    }
   ],
   "source": [
    "df_c.info()"
   ]
  },
  {
   "cell_type": "code",
   "execution_count": 6,
   "id": "2a90dbf8",
   "metadata": {},
   "outputs": [
    {
     "data": {
      "text/html": [
       "<div>\n",
       "<style scoped>\n",
       "    .dataframe tbody tr th:only-of-type {\n",
       "        vertical-align: middle;\n",
       "    }\n",
       "\n",
       "    .dataframe tbody tr th {\n",
       "        vertical-align: top;\n",
       "    }\n",
       "\n",
       "    .dataframe thead th {\n",
       "        text-align: right;\n",
       "    }\n",
       "</style>\n",
       "<table border=\"1\" class=\"dataframe\">\n",
       "  <thead>\n",
       "    <tr style=\"text-align: right;\">\n",
       "      <th></th>\n",
       "      <th>UTM X</th>\n",
       "      <th>UTM Y</th>\n",
       "      <th>Mitjana</th>\n",
       "    </tr>\n",
       "  </thead>\n",
       "  <tbody>\n",
       "    <tr>\n",
       "      <th>count</th>\n",
       "      <td>16610.0</td>\n",
       "      <td>16610.0</td>\n",
       "      <td>16610.000000</td>\n",
       "    </tr>\n",
       "    <tr>\n",
       "      <th>mean</th>\n",
       "      <td>347766.0</td>\n",
       "      <td>4580851.0</td>\n",
       "      <td>0.604599</td>\n",
       "    </tr>\n",
       "    <tr>\n",
       "      <th>std</th>\n",
       "      <td>0.0</td>\n",
       "      <td>0.0</td>\n",
       "      <td>1.617294</td>\n",
       "    </tr>\n",
       "    <tr>\n",
       "      <th>min</th>\n",
       "      <td>347766.0</td>\n",
       "      <td>4580851.0</td>\n",
       "      <td>0.000000</td>\n",
       "    </tr>\n",
       "    <tr>\n",
       "      <th>25%</th>\n",
       "      <td>347766.0</td>\n",
       "      <td>4580851.0</td>\n",
       "      <td>0.090000</td>\n",
       "    </tr>\n",
       "    <tr>\n",
       "      <th>50%</th>\n",
       "      <td>347766.0</td>\n",
       "      <td>4580851.0</td>\n",
       "      <td>0.244500</td>\n",
       "    </tr>\n",
       "    <tr>\n",
       "      <th>75%</th>\n",
       "      <td>347766.0</td>\n",
       "      <td>4580851.0</td>\n",
       "      <td>0.661725</td>\n",
       "    </tr>\n",
       "    <tr>\n",
       "      <th>max</th>\n",
       "      <td>347766.0</td>\n",
       "      <td>4580851.0</td>\n",
       "      <td>119.810000</td>\n",
       "    </tr>\n",
       "  </tbody>\n",
       "</table>\n",
       "</div>"
      ],
      "text/plain": [
       "          UTM X      UTM Y       Mitjana\n",
       "count   16610.0    16610.0  16610.000000\n",
       "mean   347766.0  4580851.0      0.604599\n",
       "std         0.0        0.0      1.617294\n",
       "min    347766.0  4580851.0      0.000000\n",
       "25%    347766.0  4580851.0      0.090000\n",
       "50%    347766.0  4580851.0      0.244500\n",
       "75%    347766.0  4580851.0      0.661725\n",
       "max    347766.0  4580851.0    119.810000"
      ]
     },
     "execution_count": 6,
     "metadata": {},
     "output_type": "execute_result"
    }
   ],
   "source": [
    "df_c.describe()"
   ]
  },
  {
   "cell_type": "code",
   "execution_count": 7,
   "id": "c94202e9",
   "metadata": {},
   "outputs": [
    {
     "data": {
      "text/plain": [
       "Estació          16610\n",
       "Conca            16610\n",
       "UTM X            16610\n",
       "UTM Y            16610\n",
       "Variable         16610\n",
       "Mitjana          16610\n",
       "Unitat Mesura    16610\n",
       "dtype: int64"
      ]
     },
     "execution_count": 7,
     "metadata": {},
     "output_type": "execute_result"
    }
   ],
   "source": [
    "#count no null values\n",
    "df_c.dropna().count()"
   ]
  },
  {
   "cell_type": "code",
   "execution_count": 8,
   "id": "c00fa680",
   "metadata": {},
   "outputs": [
    {
     "data": {
      "text/plain": [
       "16610"
      ]
     },
     "execution_count": 8,
     "metadata": {},
     "output_type": "execute_result"
    }
   ],
   "source": [
    "#count values\n",
    "len(df_c)"
   ]
  },
  {
   "cell_type": "markdown",
   "id": "bd143832",
   "metadata": {},
   "source": [
    "## Plot the data"
   ]
  },
  {
   "cell_type": "code",
   "execution_count": 9,
   "id": "64226809",
   "metadata": {},
   "outputs": [
    {
     "data": {
      "image/png": "[encoded data removed]",
      "text/plain": [
       "<Figure size 792x432 with 1 Axes>"
      ]
     },
     "metadata": {
      "needs_background": "light"
     },
     "output_type": "display_data"
    }
   ],
   "source": [
    "# Plot using matplotlib\n",
    "fig, ax = plt.subplots(figsize=(11, 6))\n",
    "\n",
    "ax.scatter(x=df_c.index,\n",
    "           y=df_c[\"Mitjana\"],\n",
    "           marker=\"o\",# o points x x marks\n",
    "           s=15,#size markers\n",
    "           color=\"purple\",\n",
    "           )\n",
    "\n",
    "ax.set(xlabel=\"Date\", ylabel=\"Discharge Value (m3/s)\",\n",
    "       title=\"Mean Daily stream Discharge - Station Pont de la fusta \\n 1960-01-1 to 2006/12/31\")\n",
    "\n",
    "plt.show()"
   ]
  },
  {
   "cell_type": "markdown",
   "id": "538036b5",
   "metadata": {},
   "source": [
    "# Francolí cabals 2007- 2021"
   ]
  },
  {
   "cell_type": "code",
   "execution_count": 25,
   "id": "0b1d3943",
   "metadata": {},
   "outputs": [],
   "source": [
    "# index has to be uniques values\n",
    "df_c_2007 = pd.read_excel('C:/capes_sql/riuada/aca_c2006_2021.xlsx',                                     \n",
    "                                    skiprows=[0,1,2,3,4,5,6],\n",
    "                                    parse_dates=['Data'],                                     \n",
    "                                     )\n",
    "df_c_2007 = df_c_2007.drop(columns=['Unnamed: 0','Unnamed: 3','Unnamed: 5','Unnamed: 11']) \n",
    "#data as index\n",
    "\n",
    "df_c_2007 = df_c_2007.set_index('Data')"
   ]
  },
  {
   "cell_type": "code",
   "execution_count": 27,
   "id": "53fe5755",
   "metadata": {},
   "outputs": [
    {
     "data": {
      "text/html": [
       "<div>\n",
       "<style scoped>\n",
       "    .dataframe tbody tr th:only-of-type {\n",
       "        vertical-align: middle;\n",
       "    }\n",
       "\n",
       "    .dataframe tbody tr th {\n",
       "        vertical-align: top;\n",
       "    }\n",
       "\n",
       "    .dataframe thead th {\n",
       "        text-align: right;\n",
       "    }\n",
       "</style>\n",
       "<table border=\"1\" class=\"dataframe\">\n",
       "  <thead>\n",
       "    <tr style=\"text-align: right;\">\n",
       "      <th></th>\n",
       "      <th>Estació</th>\n",
       "      <th>Conca</th>\n",
       "      <th>UTM X</th>\n",
       "      <th>UTM Y</th>\n",
       "      <th>Variable</th>\n",
       "      <th>Mitjana</th>\n",
       "      <th>Unitat Mesura</th>\n",
       "    </tr>\n",
       "    <tr>\n",
       "      <th>Data</th>\n",
       "      <th></th>\n",
       "      <th></th>\n",
       "      <th></th>\n",
       "      <th></th>\n",
       "      <th></th>\n",
       "      <th></th>\n",
       "      <th></th>\n",
       "    </tr>\n",
       "  </thead>\n",
       "  <tbody>\n",
       "    <tr>\n",
       "      <th>2021-07-20</th>\n",
       "      <td>Aforament - Montblanc</td>\n",
       "      <td>EL FRANCOLÍ</td>\n",
       "      <td>347766</td>\n",
       "      <td>4580851</td>\n",
       "      <td>EA028_Montblanc_Cabal riu Francoli</td>\n",
       "      <td>0.039576</td>\n",
       "      <td>m³/s</td>\n",
       "    </tr>\n",
       "    <tr>\n",
       "      <th>2021-07-21</th>\n",
       "      <td>Aforament - Montblanc</td>\n",
       "      <td>EL FRANCOLÍ</td>\n",
       "      <td>347766</td>\n",
       "      <td>4580851</td>\n",
       "      <td>EA028_Montblanc_Cabal riu Francoli</td>\n",
       "      <td>0.040069</td>\n",
       "      <td>m³/s</td>\n",
       "    </tr>\n",
       "    <tr>\n",
       "      <th>2021-07-22</th>\n",
       "      <td>Aforament - Montblanc</td>\n",
       "      <td>EL FRANCOLÍ</td>\n",
       "      <td>347766</td>\n",
       "      <td>4580851</td>\n",
       "      <td>EA028_Montblanc_Cabal riu Francoli</td>\n",
       "      <td>0.038792</td>\n",
       "      <td>m³/s</td>\n",
       "    </tr>\n",
       "    <tr>\n",
       "      <th>2021-07-23</th>\n",
       "      <td>Aforament - Montblanc</td>\n",
       "      <td>EL FRANCOLÍ</td>\n",
       "      <td>347766</td>\n",
       "      <td>4580851</td>\n",
       "      <td>EA028_Montblanc_Cabal riu Francoli</td>\n",
       "      <td>0.035528</td>\n",
       "      <td>m³/s</td>\n",
       "    </tr>\n",
       "    <tr>\n",
       "      <th>2021-07-24</th>\n",
       "      <td>Aforament - Montblanc</td>\n",
       "      <td>EL FRANCOLÍ</td>\n",
       "      <td>347766</td>\n",
       "      <td>4580851</td>\n",
       "      <td>EA028_Montblanc_Cabal riu Francoli</td>\n",
       "      <td>0.040000</td>\n",
       "      <td>m³/s</td>\n",
       "    </tr>\n",
       "  </tbody>\n",
       "</table>\n",
       "</div>"
      ],
      "text/plain": [
       "                          Estació        Conca   UTM X    UTM Y  \\\n",
       "Data                                                              \n",
       "2021-07-20  Aforament - Montblanc  EL FRANCOLÍ  347766  4580851   \n",
       "2021-07-21  Aforament - Montblanc  EL FRANCOLÍ  347766  4580851   \n",
       "2021-07-22  Aforament - Montblanc  EL FRANCOLÍ  347766  4580851   \n",
       "2021-07-23  Aforament - Montblanc  EL FRANCOLÍ  347766  4580851   \n",
       "2021-07-24  Aforament - Montblanc  EL FRANCOLÍ  347766  4580851   \n",
       "\n",
       "                                      Variable   Mitjana Unitat Mesura  \n",
       "Data                                                                    \n",
       "2021-07-20  EA028_Montblanc_Cabal riu Francoli  0.039576          m³/s  \n",
       "2021-07-21  EA028_Montblanc_Cabal riu Francoli  0.040069          m³/s  \n",
       "2021-07-22  EA028_Montblanc_Cabal riu Francoli  0.038792          m³/s  \n",
       "2021-07-23  EA028_Montblanc_Cabal riu Francoli  0.035528          m³/s  \n",
       "2021-07-24  EA028_Montblanc_Cabal riu Francoli  0.040000          m³/s  "
      ]
     },
     "execution_count": 27,
     "metadata": {},
     "output_type": "execute_result"
    }
   ],
   "source": [
    "df_c_2007.tail()"
   ]
  },
  {
   "cell_type": "markdown",
   "id": "1a3a18f1",
   "metadata": {},
   "source": [
    "### Data avaluation"
   ]
  },
  {
   "cell_type": "code",
   "execution_count": 12,
   "id": "97dac6c7",
   "metadata": {},
   "outputs": [
    {
     "name": "stdout",
     "output_type": "stream",
     "text": [
      "<class 'pandas.core.frame.DataFrame'>\n",
      "DatetimeIndex: 4759 entries, 2007-01-01 to 2021-07-24\n",
      "Data columns (total 7 columns):\n",
      " #   Column         Non-Null Count  Dtype  \n",
      "---  ------         --------------  -----  \n",
      " 0   Estació        4759 non-null   object \n",
      " 1   Conca          4759 non-null   object \n",
      " 2   UTM X          4759 non-null   int64  \n",
      " 3   UTM Y          4759 non-null   int64  \n",
      " 4   Variable       4759 non-null   object \n",
      " 5   Mitjana        4759 non-null   float64\n",
      " 6   Unitat Mesura  4759 non-null   object \n",
      "dtypes: float64(1), int64(2), object(4)\n",
      "memory usage: 297.4+ KB\n"
     ]
    }
   ],
   "source": [
    "df_c_2007.info()"
   ]
  },
  {
   "cell_type": "code",
   "execution_count": 13,
   "id": "0787e952",
   "metadata": {},
   "outputs": [
    {
     "data": {
      "text/html": [
       "<div>\n",
       "<style scoped>\n",
       "    .dataframe tbody tr th:only-of-type {\n",
       "        vertical-align: middle;\n",
       "    }\n",
       "\n",
       "    .dataframe tbody tr th {\n",
       "        vertical-align: top;\n",
       "    }\n",
       "\n",
       "    .dataframe thead th {\n",
       "        text-align: right;\n",
       "    }\n",
       "</style>\n",
       "<table border=\"1\" class=\"dataframe\">\n",
       "  <thead>\n",
       "    <tr style=\"text-align: right;\">\n",
       "      <th></th>\n",
       "      <th>UTM X</th>\n",
       "      <th>UTM Y</th>\n",
       "      <th>Mitjana</th>\n",
       "    </tr>\n",
       "  </thead>\n",
       "  <tbody>\n",
       "    <tr>\n",
       "      <th>count</th>\n",
       "      <td>4759.0</td>\n",
       "      <td>4759.0</td>\n",
       "      <td>4759.000000</td>\n",
       "    </tr>\n",
       "    <tr>\n",
       "      <th>mean</th>\n",
       "      <td>347766.0</td>\n",
       "      <td>4580851.0</td>\n",
       "      <td>0.278076</td>\n",
       "    </tr>\n",
       "    <tr>\n",
       "      <th>std</th>\n",
       "      <td>0.0</td>\n",
       "      <td>0.0</td>\n",
       "      <td>0.545965</td>\n",
       "    </tr>\n",
       "    <tr>\n",
       "      <th>min</th>\n",
       "      <td>347766.0</td>\n",
       "      <td>4580851.0</td>\n",
       "      <td>0.000000</td>\n",
       "    </tr>\n",
       "    <tr>\n",
       "      <th>25%</th>\n",
       "      <td>347766.0</td>\n",
       "      <td>4580851.0</td>\n",
       "      <td>0.067000</td>\n",
       "    </tr>\n",
       "    <tr>\n",
       "      <th>50%</th>\n",
       "      <td>347766.0</td>\n",
       "      <td>4580851.0</td>\n",
       "      <td>0.138000</td>\n",
       "    </tr>\n",
       "    <tr>\n",
       "      <th>75%</th>\n",
       "      <td>347766.0</td>\n",
       "      <td>4580851.0</td>\n",
       "      <td>0.318651</td>\n",
       "    </tr>\n",
       "    <tr>\n",
       "      <th>max</th>\n",
       "      <td>347766.0</td>\n",
       "      <td>4580851.0</td>\n",
       "      <td>15.663038</td>\n",
       "    </tr>\n",
       "  </tbody>\n",
       "</table>\n",
       "</div>"
      ],
      "text/plain": [
       "          UTM X      UTM Y      Mitjana\n",
       "count    4759.0     4759.0  4759.000000\n",
       "mean   347766.0  4580851.0     0.278076\n",
       "std         0.0        0.0     0.545965\n",
       "min    347766.0  4580851.0     0.000000\n",
       "25%    347766.0  4580851.0     0.067000\n",
       "50%    347766.0  4580851.0     0.138000\n",
       "75%    347766.0  4580851.0     0.318651\n",
       "max    347766.0  4580851.0    15.663038"
      ]
     },
     "execution_count": 13,
     "metadata": {},
     "output_type": "execute_result"
    }
   ],
   "source": [
    "df_c_2007.describe()"
   ]
  },
  {
   "cell_type": "code",
   "execution_count": 14,
   "id": "bc2fcf55",
   "metadata": {},
   "outputs": [
    {
     "data": {
      "text/plain": [
       "Estació          4759\n",
       "Conca            4759\n",
       "UTM X            4759\n",
       "UTM Y            4759\n",
       "Variable         4759\n",
       "Mitjana          4759\n",
       "Unitat Mesura    4759\n",
       "dtype: int64"
      ]
     },
     "execution_count": 14,
     "metadata": {},
     "output_type": "execute_result"
    }
   ],
   "source": [
    "#count no null values\n",
    "df_c_2007.dropna().count()"
   ]
  },
  {
   "cell_type": "code",
   "execution_count": 15,
   "id": "c64c1afa",
   "metadata": {},
   "outputs": [
    {
     "data": {
      "text/plain": [
       "4759"
      ]
     },
     "execution_count": 15,
     "metadata": {},
     "output_type": "execute_result"
    }
   ],
   "source": [
    "#count values\n",
    "len(df_c_2007)"
   ]
  },
  {
   "cell_type": "markdown",
   "id": "9fa5a72f",
   "metadata": {},
   "source": [
    "## Plot the data"
   ]
  },
  {
   "cell_type": "code",
   "execution_count": 16,
   "id": "58e1fef8",
   "metadata": {},
   "outputs": [
    {
     "data": {
      "image/png": "[encoded data removed]",
      "text/plain": [
       "<Figure size 792x432 with 1 Axes>"
      ]
     },
     "metadata": {
      "needs_background": "light"
     },
     "output_type": "display_data"
    }
   ],
   "source": [
    "# Plot using matplotlib\n",
    "fig, ax = plt.subplots(figsize=(11, 6))\n",
    "\n",
    "ax.scatter(x=df_c_2007.index,\n",
    "           y=df_c_2007[\"Mitjana\"],\n",
    "           marker=\"o\",# o points x x marks\n",
    "           s=15,#size markers\n",
    "           color=\"purple\",\n",
    "           )\n",
    "\n",
    "ax.set(xlabel=\"Date\", ylabel=\"Discharge Value (m3/s)\",\n",
    "       title=\"Mean Daily stream Discharge - Station Pont de la fusta \\n 2010-01-31 to 2019/10/23\")\n",
    "\n",
    "plt.show()"
   ]
  },
  {
   "cell_type": "markdown",
   "id": "810f1847",
   "metadata": {},
   "source": [
    "# Concatenating"
   ]
  },
  {
   "cell_type": "code",
   "execution_count": 17,
   "id": "8e7e76a9",
   "metadata": {},
   "outputs": [
    {
     "data": {
      "text/html": [
       "<div>\n",
       "<style scoped>\n",
       "    .dataframe tbody tr th:only-of-type {\n",
       "        vertical-align: middle;\n",
       "    }\n",
       "\n",
       "    .dataframe tbody tr th {\n",
       "        vertical-align: top;\n",
       "    }\n",
       "\n",
       "    .dataframe thead th {\n",
       "        text-align: right;\n",
       "    }\n",
       "</style>\n",
       "<table border=\"1\" class=\"dataframe\">\n",
       "  <thead>\n",
       "    <tr style=\"text-align: right;\">\n",
       "      <th></th>\n",
       "      <th>Estació</th>\n",
       "      <th>Conca</th>\n",
       "      <th>UTM X</th>\n",
       "      <th>UTM Y</th>\n",
       "      <th>Variable</th>\n",
       "      <th>Mitjana</th>\n",
       "      <th>Unitat Mesura</th>\n",
       "    </tr>\n",
       "    <tr>\n",
       "      <th>Data</th>\n",
       "      <th></th>\n",
       "      <th></th>\n",
       "      <th></th>\n",
       "      <th></th>\n",
       "      <th></th>\n",
       "      <th></th>\n",
       "      <th></th>\n",
       "    </tr>\n",
       "  </thead>\n",
       "  <tbody>\n",
       "    <tr>\n",
       "      <th>1960-01-01</th>\n",
       "      <td>Aforament - Montblanc</td>\n",
       "      <td>EL FRANCOLÍ</td>\n",
       "      <td>347766</td>\n",
       "      <td>4580851</td>\n",
       "      <td>EA028_Montblanc_Cabal riu Francoli</td>\n",
       "      <td>1.284</td>\n",
       "      <td>m³/s</td>\n",
       "    </tr>\n",
       "    <tr>\n",
       "      <th>1960-01-02</th>\n",
       "      <td>Aforament - Montblanc</td>\n",
       "      <td>EL FRANCOLÍ</td>\n",
       "      <td>347766</td>\n",
       "      <td>4580851</td>\n",
       "      <td>EA028_Montblanc_Cabal riu Francoli</td>\n",
       "      <td>1.284</td>\n",
       "      <td>m³/s</td>\n",
       "    </tr>\n",
       "  </tbody>\n",
       "</table>\n",
       "</div>"
      ],
      "text/plain": [
       "                          Estació        Conca   UTM X    UTM Y  \\\n",
       "Data                                                              \n",
       "1960-01-01  Aforament - Montblanc  EL FRANCOLÍ  347766  4580851   \n",
       "1960-01-02  Aforament - Montblanc  EL FRANCOLÍ  347766  4580851   \n",
       "\n",
       "                                      Variable  Mitjana Unitat Mesura  \n",
       "Data                                                                   \n",
       "1960-01-01  EA028_Montblanc_Cabal riu Francoli    1.284          m³/s  \n",
       "1960-01-02  EA028_Montblanc_Cabal riu Francoli    1.284          m³/s  "
      ]
     },
     "execution_count": 17,
     "metadata": {},
     "output_type": "execute_result"
    }
   ],
   "source": [
    "df_c.head(2)"
   ]
  },
  {
   "cell_type": "code",
   "execution_count": 18,
   "id": "33208ab4",
   "metadata": {},
   "outputs": [
    {
     "data": {
      "text/html": [
       "<div>\n",
       "<style scoped>\n",
       "    .dataframe tbody tr th:only-of-type {\n",
       "        vertical-align: middle;\n",
       "    }\n",
       "\n",
       "    .dataframe tbody tr th {\n",
       "        vertical-align: top;\n",
       "    }\n",
       "\n",
       "    .dataframe thead th {\n",
       "        text-align: right;\n",
       "    }\n",
       "</style>\n",
       "<table border=\"1\" class=\"dataframe\">\n",
       "  <thead>\n",
       "    <tr style=\"text-align: right;\">\n",
       "      <th></th>\n",
       "      <th>Estació</th>\n",
       "      <th>Conca</th>\n",
       "      <th>UTM X</th>\n",
       "      <th>UTM Y</th>\n",
       "      <th>Variable</th>\n",
       "      <th>Mitjana</th>\n",
       "      <th>Unitat Mesura</th>\n",
       "    </tr>\n",
       "    <tr>\n",
       "      <th>Data</th>\n",
       "      <th></th>\n",
       "      <th></th>\n",
       "      <th></th>\n",
       "      <th></th>\n",
       "      <th></th>\n",
       "      <th></th>\n",
       "      <th></th>\n",
       "    </tr>\n",
       "  </thead>\n",
       "  <tbody>\n",
       "    <tr>\n",
       "      <th>2007-01-01</th>\n",
       "      <td>Aforament - Montblanc</td>\n",
       "      <td>EL FRANCOLÍ</td>\n",
       "      <td>347766</td>\n",
       "      <td>4580851</td>\n",
       "      <td>EA028_Montblanc_Cabal riu Francoli</td>\n",
       "      <td>0.249</td>\n",
       "      <td>m³/s</td>\n",
       "    </tr>\n",
       "    <tr>\n",
       "      <th>2007-01-02</th>\n",
       "      <td>Aforament - Montblanc</td>\n",
       "      <td>EL FRANCOLÍ</td>\n",
       "      <td>347766</td>\n",
       "      <td>4580851</td>\n",
       "      <td>EA028_Montblanc_Cabal riu Francoli</td>\n",
       "      <td>0.110</td>\n",
       "      <td>m³/s</td>\n",
       "    </tr>\n",
       "  </tbody>\n",
       "</table>\n",
       "</div>"
      ],
      "text/plain": [
       "                          Estació        Conca   UTM X    UTM Y  \\\n",
       "Data                                                              \n",
       "2007-01-01  Aforament - Montblanc  EL FRANCOLÍ  347766  4580851   \n",
       "2007-01-02  Aforament - Montblanc  EL FRANCOLÍ  347766  4580851   \n",
       "\n",
       "                                      Variable  Mitjana Unitat Mesura  \n",
       "Data                                                                   \n",
       "2007-01-01  EA028_Montblanc_Cabal riu Francoli    0.249          m³/s  \n",
       "2007-01-02  EA028_Montblanc_Cabal riu Francoli    0.110          m³/s  "
      ]
     },
     "execution_count": 18,
     "metadata": {},
     "output_type": "execute_result"
    }
   ],
   "source": [
    "df_c_2007.head(2)"
   ]
  },
  {
   "cell_type": "code",
   "execution_count": 19,
   "id": "d9e98990",
   "metadata": {},
   "outputs": [],
   "source": [
    "#concat()\n",
    "frames = [df_c, df_c_2007]\n",
    "df_c = pd.concat(frames)"
   ]
  },
  {
   "cell_type": "markdown",
   "id": "dffba890",
   "metadata": {},
   "source": [
    "# Plotting the concat data"
   ]
  },
  {
   "cell_type": "code",
   "execution_count": 20,
   "id": "d3ff7646",
   "metadata": {},
   "outputs": [
    {
     "data": {
      "image/png": "[encoded data removed]",
      "text/plain": [
       "<Figure size 792x432 with 1 Axes>"
      ]
     },
     "metadata": {
      "needs_background": "light"
     },
     "output_type": "display_data"
    }
   ],
   "source": [
    "# Plot using matplotlib\n",
    "fig, ax = plt.subplots(figsize=(11, 6))\n",
    "\n",
    "ax.scatter(x=df_c.index,\n",
    "           y=df_c[\"Mitjana\"],\n",
    "           marker=\"o\",# o points x x marks\n",
    "           s=15,#size markers\n",
    "           color=\"purple\",\n",
    "           )\n",
    "\n",
    "ax.set(xlabel=\"Date\", ylabel=\"Discharge Value (m3/s)\",\n",
    "       title=\"Mean Daily stream Discharge - Station Pont de la fusta \\n 1960-01-1 to 2021/12/31\")\n",
    "\n",
    "plt.show()"
   ]
  },
  {
   "cell_type": "markdown",
   "id": "01597669",
   "metadata": {},
   "source": [
    "## Annual Maxima\n",
    "Annual maxima refers to the biggest value that occured within each year. \n",
    "\n",
    "You can take the daily mean values to construct a series of the annual maximum value. This is done using pandas resample."
   ]
  },
  {
   "cell_type": "markdown",
   "id": "7ac735f6",
   "metadata": {},
   "source": [
    "#### Add a Year Column to Your Data\n",
    "Note that below you will add a ‘year’ column to the longmont discharge data. While this step is not necessary for resampling. It will make your life easier when you plot the data later."
   ]
  },
  {
   "cell_type": "code",
   "execution_count": 21,
   "id": "f4fef037",
   "metadata": {},
   "outputs": [
    {
     "data": {
      "text/html": [
       "<div>\n",
       "<style scoped>\n",
       "    .dataframe tbody tr th:only-of-type {\n",
       "        vertical-align: middle;\n",
       "    }\n",
       "\n",
       "    .dataframe tbody tr th {\n",
       "        vertical-align: top;\n",
       "    }\n",
       "\n",
       "    .dataframe thead th {\n",
       "        text-align: right;\n",
       "    }\n",
       "</style>\n",
       "<table border=\"1\" class=\"dataframe\">\n",
       "  <thead>\n",
       "    <tr style=\"text-align: right;\">\n",
       "      <th></th>\n",
       "      <th>Estació</th>\n",
       "      <th>Conca</th>\n",
       "      <th>UTM X</th>\n",
       "      <th>UTM Y</th>\n",
       "      <th>Variable</th>\n",
       "      <th>Unitat Mesura</th>\n",
       "      <th>year</th>\n",
       "      <th>Max</th>\n",
       "    </tr>\n",
       "    <tr>\n",
       "      <th>Data</th>\n",
       "      <th></th>\n",
       "      <th></th>\n",
       "      <th></th>\n",
       "      <th></th>\n",
       "      <th></th>\n",
       "      <th></th>\n",
       "      <th></th>\n",
       "      <th></th>\n",
       "    </tr>\n",
       "  </thead>\n",
       "  <tbody>\n",
       "    <tr>\n",
       "      <th>1960-01-01</th>\n",
       "      <td>Aforament - Montblanc</td>\n",
       "      <td>EL FRANCOLÍ</td>\n",
       "      <td>347766.0</td>\n",
       "      <td>4580851.0</td>\n",
       "      <td>EA028_Montblanc_Cabal riu Francoli</td>\n",
       "      <td>m³/s</td>\n",
       "      <td>1960.0</td>\n",
       "      <td>10.81</td>\n",
       "    </tr>\n",
       "    <tr>\n",
       "      <th>1961-01-01</th>\n",
       "      <td>Aforament - Montblanc</td>\n",
       "      <td>EL FRANCOLÍ</td>\n",
       "      <td>347766.0</td>\n",
       "      <td>4580851.0</td>\n",
       "      <td>EA028_Montblanc_Cabal riu Francoli</td>\n",
       "      <td>m³/s</td>\n",
       "      <td>1961.0</td>\n",
       "      <td>9.11</td>\n",
       "    </tr>\n",
       "    <tr>\n",
       "      <th>1962-01-01</th>\n",
       "      <td>Aforament - Montblanc</td>\n",
       "      <td>EL FRANCOLÍ</td>\n",
       "      <td>347766.0</td>\n",
       "      <td>4580851.0</td>\n",
       "      <td>EA028_Montblanc_Cabal riu Francoli</td>\n",
       "      <td>m³/s</td>\n",
       "      <td>1962.0</td>\n",
       "      <td>8.58</td>\n",
       "    </tr>\n",
       "    <tr>\n",
       "      <th>1963-01-01</th>\n",
       "      <td>Aforament - Montblanc</td>\n",
       "      <td>EL FRANCOLÍ</td>\n",
       "      <td>347766.0</td>\n",
       "      <td>4580851.0</td>\n",
       "      <td>EA028_Montblanc_Cabal riu Francoli</td>\n",
       "      <td>m³/s</td>\n",
       "      <td>1963.0</td>\n",
       "      <td>12.45</td>\n",
       "    </tr>\n",
       "    <tr>\n",
       "      <th>1964-01-01</th>\n",
       "      <td>Aforament - Montblanc</td>\n",
       "      <td>EL FRANCOLÍ</td>\n",
       "      <td>347766.0</td>\n",
       "      <td>4580851.0</td>\n",
       "      <td>EA028_Montblanc_Cabal riu Francoli</td>\n",
       "      <td>m³/s</td>\n",
       "      <td>1964.0</td>\n",
       "      <td>22.10</td>\n",
       "    </tr>\n",
       "  </tbody>\n",
       "</table>\n",
       "</div>"
      ],
      "text/plain": [
       "                          Estació        Conca     UTM X      UTM Y  \\\n",
       "Data                                                                  \n",
       "1960-01-01  Aforament - Montblanc  EL FRANCOLÍ  347766.0  4580851.0   \n",
       "1961-01-01  Aforament - Montblanc  EL FRANCOLÍ  347766.0  4580851.0   \n",
       "1962-01-01  Aforament - Montblanc  EL FRANCOLÍ  347766.0  4580851.0   \n",
       "1963-01-01  Aforament - Montblanc  EL FRANCOLÍ  347766.0  4580851.0   \n",
       "1964-01-01  Aforament - Montblanc  EL FRANCOLÍ  347766.0  4580851.0   \n",
       "\n",
       "                                      Variable Unitat Mesura    year    Max  \n",
       "Data                                                                         \n",
       "1960-01-01  EA028_Montblanc_Cabal riu Francoli          m³/s  1960.0  10.81  \n",
       "1961-01-01  EA028_Montblanc_Cabal riu Francoli          m³/s  1961.0   9.11  \n",
       "1962-01-01  EA028_Montblanc_Cabal riu Francoli          m³/s  1962.0   8.58  \n",
       "1963-01-01  EA028_Montblanc_Cabal riu Francoli          m³/s  1963.0  12.45  \n",
       "1964-01-01  EA028_Montblanc_Cabal riu Francoli          m³/s  1964.0  22.10  "
      ]
     },
     "execution_count": 21,
     "metadata": {},
     "output_type": "execute_result"
    }
   ],
   "source": [
    "# add a year column to your longmont discharge data\n",
    "df_c[\"year\"] = df_c.index.year\n",
    "df_c[\"Max\"]=df_c[\"Mitjana\"]\n",
    "df_c = df_c.drop(columns=[\"Mitjana\"])\n",
    "# Calculate annual max by resampling\n",
    "longmont_discharge_annual_max = df_c.resample('AS').max()\n",
    "longmont_discharge_annual_max.head()"
   ]
  },
  {
   "cell_type": "code",
   "execution_count": null,
   "id": "fce6fd24",
   "metadata": {},
   "outputs": [],
   "source": []
  }
 ],
 "metadata": {
  "kernelspec": {
   "display_name": "Python 3",
   "language": "python",
   "name": "python3"
  },
  "language_info": {
   "codemirror_mode": {
    "name": "ipython",
    "version": 3
   },
   "file_extension": ".py",
   "mimetype": "text/x-python",
   "name": "python",
   "nbconvert_exporter": "python",
   "pygments_lexer": "ipython3",
   "version": "3.9.4"
  }
 },
 "nbformat": 4,
 "nbformat_minor": 5
}
