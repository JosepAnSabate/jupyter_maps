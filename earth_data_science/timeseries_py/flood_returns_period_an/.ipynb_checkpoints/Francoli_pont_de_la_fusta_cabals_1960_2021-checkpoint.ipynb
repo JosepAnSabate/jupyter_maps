{
 "cells": [
  {
   "cell_type": "code",
   "execution_count": 1,
   "id": "b5f9516f",
   "metadata": {},
   "outputs": [],
   "source": [
    "import pandas as pd\n",
    "import matplotlib.pyplot as plt\n",
    "import seaborn as sns\n",
    "\n",
    "# Date time conversion registration\n",
    "from pandas.plotting import register_matplotlib_converters\n",
    "register_matplotlib_converters()\n",
    "\n",
    "# Prettier plotting with seaborn\n",
    "sns.set(font_scale=1.5, style=\"whitegrid\")\n",
    "\n",
    "%matplotlib inline"
   ]
  },
  {
   "cell_type": "markdown",
   "id": "14b7d64b",
   "metadata": {},
   "source": [
    "## Data: http://aca-web.gencat.cat/sdim21\n",
    "\n",
    "### Cabal Mitjà diari"
   ]
  },
  {
   "cell_type": "markdown",
   "id": "ed44ad62",
   "metadata": {},
   "source": [
    "# Francolí cabals 1960-2006"
   ]
  },
  {
   "cell_type": "code",
   "execution_count": 2,
   "id": "ef296dcd",
   "metadata": {},
   "outputs": [],
   "source": [
    "# index has to be uniques values\n",
    "df_c = pd.read_excel('C:/capes_sql/riuada/aca_c_1960_2006.xlsx',                                     \n",
    "                                    skiprows=[0,1,2,3,4,5,6],\n",
    "                                    parse_dates=['Data'],                                     \n",
    "                                     )\n",
    "df_c = df_c.drop(columns=['Unnamed: 0','Unnamed: 3','Unnamed: 5','Unnamed: 11']) "
   ]
  },
  {
   "cell_type": "code",
   "execution_count": 3,
   "id": "f7058ecb",
   "metadata": {},
   "outputs": [],
   "source": [
    "#data as index\n",
    "df_c = df_c.set_index('Data')"
   ]
  },
  {
   "cell_type": "code",
   "execution_count": 4,
   "id": "7f605983",
   "metadata": {},
   "outputs": [
    {
     "data": {
      "text/html": [
       "<div>\n",
       "<style scoped>\n",
       "    .dataframe tbody tr th:only-of-type {\n",
       "        vertical-align: middle;\n",
       "    }\n",
       "\n",
       "    .dataframe tbody tr th {\n",
       "        vertical-align: top;\n",
       "    }\n",
       "\n",
       "    .dataframe thead th {\n",
       "        text-align: right;\n",
       "    }\n",
       "</style>\n",
       "<table border=\"1\" class=\"dataframe\">\n",
       "  <thead>\n",
       "    <tr style=\"text-align: right;\">\n",
       "      <th></th>\n",
       "      <th>Estació</th>\n",
       "      <th>Conca</th>\n",
       "      <th>UTM X</th>\n",
       "      <th>UTM Y</th>\n",
       "      <th>Variable</th>\n",
       "      <th>Mitjana</th>\n",
       "      <th>Unitat Mesura</th>\n",
       "    </tr>\n",
       "    <tr>\n",
       "      <th>Data</th>\n",
       "      <th></th>\n",
       "      <th></th>\n",
       "      <th></th>\n",
       "      <th></th>\n",
       "      <th></th>\n",
       "      <th></th>\n",
       "      <th></th>\n",
       "    </tr>\n",
       "  </thead>\n",
       "  <tbody>\n",
       "    <tr>\n",
       "      <th>2006-12-27</th>\n",
       "      <td>Aforament - Montblanc</td>\n",
       "      <td>EL FRANCOLÍ</td>\n",
       "      <td>347766</td>\n",
       "      <td>4580851</td>\n",
       "      <td>EA028_Montblanc_Cabal riu Francoli</td>\n",
       "      <td>0.1102</td>\n",
       "      <td>m³/s</td>\n",
       "    </tr>\n",
       "    <tr>\n",
       "      <th>2006-12-28</th>\n",
       "      <td>Aforament - Montblanc</td>\n",
       "      <td>EL FRANCOLÍ</td>\n",
       "      <td>347766</td>\n",
       "      <td>4580851</td>\n",
       "      <td>EA028_Montblanc_Cabal riu Francoli</td>\n",
       "      <td>0.1102</td>\n",
       "      <td>m³/s</td>\n",
       "    </tr>\n",
       "    <tr>\n",
       "      <th>2006-12-29</th>\n",
       "      <td>Aforament - Montblanc</td>\n",
       "      <td>EL FRANCOLÍ</td>\n",
       "      <td>347766</td>\n",
       "      <td>4580851</td>\n",
       "      <td>EA028_Montblanc_Cabal riu Francoli</td>\n",
       "      <td>0.1100</td>\n",
       "      <td>m³/s</td>\n",
       "    </tr>\n",
       "    <tr>\n",
       "      <th>2006-12-30</th>\n",
       "      <td>Aforament - Montblanc</td>\n",
       "      <td>EL FRANCOLÍ</td>\n",
       "      <td>347766</td>\n",
       "      <td>4580851</td>\n",
       "      <td>EA028_Montblanc_Cabal riu Francoli</td>\n",
       "      <td>0.1086</td>\n",
       "      <td>m³/s</td>\n",
       "    </tr>\n",
       "    <tr>\n",
       "      <th>2006-12-31</th>\n",
       "      <td>Aforament - Montblanc</td>\n",
       "      <td>EL FRANCOLÍ</td>\n",
       "      <td>347766</td>\n",
       "      <td>4580851</td>\n",
       "      <td>EA028_Montblanc_Cabal riu Francoli</td>\n",
       "      <td>0.1114</td>\n",
       "      <td>m³/s</td>\n",
       "    </tr>\n",
       "  </tbody>\n",
       "</table>\n",
       "</div>"
      ],
      "text/plain": [
       "                          Estació        Conca   UTM X    UTM Y  \\\n",
       "Data                                                              \n",
       "2006-12-27  Aforament - Montblanc  EL FRANCOLÍ  347766  4580851   \n",
       "2006-12-28  Aforament - Montblanc  EL FRANCOLÍ  347766  4580851   \n",
       "2006-12-29  Aforament - Montblanc  EL FRANCOLÍ  347766  4580851   \n",
       "2006-12-30  Aforament - Montblanc  EL FRANCOLÍ  347766  4580851   \n",
       "2006-12-31  Aforament - Montblanc  EL FRANCOLÍ  347766  4580851   \n",
       "\n",
       "                                      Variable  Mitjana Unitat Mesura  \n",
       "Data                                                                   \n",
       "2006-12-27  EA028_Montblanc_Cabal riu Francoli   0.1102          m³/s  \n",
       "2006-12-28  EA028_Montblanc_Cabal riu Francoli   0.1102          m³/s  \n",
       "2006-12-29  EA028_Montblanc_Cabal riu Francoli   0.1100          m³/s  \n",
       "2006-12-30  EA028_Montblanc_Cabal riu Francoli   0.1086          m³/s  \n",
       "2006-12-31  EA028_Montblanc_Cabal riu Francoli   0.1114          m³/s  "
      ]
     },
     "execution_count": 4,
     "metadata": {},
     "output_type": "execute_result"
    }
   ],
   "source": [
    "df_c.tail()"
   ]
  },
  {
   "cell_type": "markdown",
   "id": "1193bb77",
   "metadata": {},
   "source": [
    "### Data avaluation"
   ]
  },
  {
   "cell_type": "code",
   "execution_count": 5,
   "id": "24077604",
   "metadata": {},
   "outputs": [
    {
     "name": "stdout",
     "output_type": "stream",
     "text": [
      "<class 'pandas.core.frame.DataFrame'>\n",
      "DatetimeIndex: 16610 entries, 1960-01-01 to 2006-12-31\n",
      "Data columns (total 7 columns):\n",
      " #   Column         Non-Null Count  Dtype  \n",
      "---  ------         --------------  -----  \n",
      " 0   Estació        16610 non-null  object \n",
      " 1   Conca          16610 non-null  object \n",
      " 2   UTM X          16610 non-null  int64  \n",
      " 3   UTM Y          16610 non-null  int64  \n",
      " 4   Variable       16610 non-null  object \n",
      " 5   Mitjana        16610 non-null  float64\n",
      " 6   Unitat Mesura  16610 non-null  object \n",
      "dtypes: float64(1), int64(2), object(4)\n",
      "memory usage: 1.0+ MB\n"
     ]
    }
   ],
   "source": [
    "df_c.info()"
   ]
  },
  {
   "cell_type": "code",
   "execution_count": 6,
   "id": "a2528284",
   "metadata": {},
   "outputs": [
    {
     "data": {
      "text/html": [
       "<div>\n",
       "<style scoped>\n",
       "    .dataframe tbody tr th:only-of-type {\n",
       "        vertical-align: middle;\n",
       "    }\n",
       "\n",
       "    .dataframe tbody tr th {\n",
       "        vertical-align: top;\n",
       "    }\n",
       "\n",
       "    .dataframe thead th {\n",
       "        text-align: right;\n",
       "    }\n",
       "</style>\n",
       "<table border=\"1\" class=\"dataframe\">\n",
       "  <thead>\n",
       "    <tr style=\"text-align: right;\">\n",
       "      <th></th>\n",
       "      <th>UTM X</th>\n",
       "      <th>UTM Y</th>\n",
       "      <th>Mitjana</th>\n",
       "    </tr>\n",
       "  </thead>\n",
       "  <tbody>\n",
       "    <tr>\n",
       "      <th>count</th>\n",
       "      <td>16610.0</td>\n",
       "      <td>16610.0</td>\n",
       "      <td>16610.000000</td>\n",
       "    </tr>\n",
       "    <tr>\n",
       "      <th>mean</th>\n",
       "      <td>347766.0</td>\n",
       "      <td>4580851.0</td>\n",
       "      <td>0.604599</td>\n",
       "    </tr>\n",
       "    <tr>\n",
       "      <th>std</th>\n",
       "      <td>0.0</td>\n",
       "      <td>0.0</td>\n",
       "      <td>1.617294</td>\n",
       "    </tr>\n",
       "    <tr>\n",
       "      <th>min</th>\n",
       "      <td>347766.0</td>\n",
       "      <td>4580851.0</td>\n",
       "      <td>0.000000</td>\n",
       "    </tr>\n",
       "    <tr>\n",
       "      <th>25%</th>\n",
       "      <td>347766.0</td>\n",
       "      <td>4580851.0</td>\n",
       "      <td>0.090000</td>\n",
       "    </tr>\n",
       "    <tr>\n",
       "      <th>50%</th>\n",
       "      <td>347766.0</td>\n",
       "      <td>4580851.0</td>\n",
       "      <td>0.244500</td>\n",
       "    </tr>\n",
       "    <tr>\n",
       "      <th>75%</th>\n",
       "      <td>347766.0</td>\n",
       "      <td>4580851.0</td>\n",
       "      <td>0.661725</td>\n",
       "    </tr>\n",
       "    <tr>\n",
       "      <th>max</th>\n",
       "      <td>347766.0</td>\n",
       "      <td>4580851.0</td>\n",
       "      <td>119.810000</td>\n",
       "    </tr>\n",
       "  </tbody>\n",
       "</table>\n",
       "</div>"
      ],
      "text/plain": [
       "          UTM X      UTM Y       Mitjana\n",
       "count   16610.0    16610.0  16610.000000\n",
       "mean   347766.0  4580851.0      0.604599\n",
       "std         0.0        0.0      1.617294\n",
       "min    347766.0  4580851.0      0.000000\n",
       "25%    347766.0  4580851.0      0.090000\n",
       "50%    347766.0  4580851.0      0.244500\n",
       "75%    347766.0  4580851.0      0.661725\n",
       "max    347766.0  4580851.0    119.810000"
      ]
     },
     "execution_count": 6,
     "metadata": {},
     "output_type": "execute_result"
    }
   ],
   "source": [
    "df_c.describe()"
   ]
  },
  {
   "cell_type": "code",
   "execution_count": 7,
   "id": "58c33d27",
   "metadata": {},
   "outputs": [
    {
     "data": {
      "text/plain": [
       "Estació          16610\n",
       "Conca            16610\n",
       "UTM X            16610\n",
       "UTM Y            16610\n",
       "Variable         16610\n",
       "Mitjana          16610\n",
       "Unitat Mesura    16610\n",
       "dtype: int64"
      ]
     },
     "execution_count": 7,
     "metadata": {},
     "output_type": "execute_result"
    }
   ],
   "source": [
    "#count no null values\n",
    "df_c.dropna().count()"
   ]
  },
  {
   "cell_type": "code",
   "execution_count": 8,
   "id": "7b71015f",
   "metadata": {},
   "outputs": [
    {
     "data": {
      "text/plain": [
       "16610"
      ]
     },
     "execution_count": 8,
     "metadata": {},
     "output_type": "execute_result"
    }
   ],
   "source": [
    "#count values\n",
    "len(df_c)"
   ]
  },
  {
   "cell_type": "markdown",
   "id": "081017f1",
   "metadata": {},
   "source": [
    "## Plot the data"
   ]
  },
  {
   "cell_type": "code",
   "execution_count": 9,
   "id": "cff2c4cc",
   "metadata": {},
   "outputs": [
    {
     "data": {
      "image/png": "[encoded data removed]",
      "text/plain": [
       "<Figure size 792x432 with 1 Axes>"
      ]
     },
     "metadata": {
      "needs_background": "light"
     },
     "output_type": "display_data"
    }
   ],
   "source": [
    "# Plot using matplotlib\n",
    "fig, ax = plt.subplots(figsize=(11, 6))\n",
    "\n",
    "ax.scatter(x=df_c.index,\n",
    "           y=df_c[\"Mitjana\"],\n",
    "           marker=\"o\",# o points x x marks\n",
    "           s=15,#size markers\n",
    "           color=\"purple\",\n",
    "           )\n",
    "\n",
    "ax.set(xlabel=\"Date\", ylabel=\"Discharge Value (m3/s)\",\n",
    "       title=\"Mean Daily stream Discharge - Station Pont de la fusta \\n 1960-01-1 to 2006/12/31\")\n",
    "\n",
    "plt.show()"
   ]
  },
  {
   "cell_type": "markdown",
   "id": "90036e47",
   "metadata": {},
   "source": [
    "# Francolí cabals 2007- 2021"
   ]
  },
  {
   "cell_type": "code",
   "execution_count": 10,
   "id": "31bce358",
   "metadata": {},
   "outputs": [],
   "source": [
    "# index has to be uniques values\n",
    "df_c_2007 = pd.read_excel('C:/capes_sql/riuada/aca_c2006_2021.xlsx',                                     \n",
    "                                    skiprows=[0,1,2,3,4,5,6],\n",
    "                                    parse_dates=['Data'],                                     \n",
    "                                     )\n",
    "df_c_2007 = df_c_2007.drop(columns=['Unnamed: 0','Unnamed: 3','Unnamed: 5','Unnamed: 11']) \n",
    "#data as index\n",
    "\n",
    "df_c_2007 = df_c_2007.set_index('Data')"
   ]
  },
  {
   "cell_type": "code",
   "execution_count": 11,
   "id": "e1450197",
   "metadata": {},
   "outputs": [
    {
     "data": {
      "text/html": [
       "<div>\n",
       "<style scoped>\n",
       "    .dataframe tbody tr th:only-of-type {\n",
       "        vertical-align: middle;\n",
       "    }\n",
       "\n",
       "    .dataframe tbody tr th {\n",
       "        vertical-align: top;\n",
       "    }\n",
       "\n",
       "    .dataframe thead th {\n",
       "        text-align: right;\n",
       "    }\n",
       "</style>\n",
       "<table border=\"1\" class=\"dataframe\">\n",
       "  <thead>\n",
       "    <tr style=\"text-align: right;\">\n",
       "      <th></th>\n",
       "      <th>Estació</th>\n",
       "      <th>Conca</th>\n",
       "      <th>UTM X</th>\n",
       "      <th>UTM Y</th>\n",
       "      <th>Variable</th>\n",
       "      <th>Mitjana</th>\n",
       "      <th>Unitat Mesura</th>\n",
       "    </tr>\n",
       "    <tr>\n",
       "      <th>Data</th>\n",
       "      <th></th>\n",
       "      <th></th>\n",
       "      <th></th>\n",
       "      <th></th>\n",
       "      <th></th>\n",
       "      <th></th>\n",
       "      <th></th>\n",
       "    </tr>\n",
       "  </thead>\n",
       "  <tbody>\n",
       "    <tr>\n",
       "      <th>2021-07-20</th>\n",
       "      <td>Aforament - Montblanc</td>\n",
       "      <td>EL FRANCOLÍ</td>\n",
       "      <td>347766</td>\n",
       "      <td>4580851</td>\n",
       "      <td>EA028_Montblanc_Cabal riu Francoli</td>\n",
       "      <td>0.039576</td>\n",
       "      <td>m³/s</td>\n",
       "    </tr>\n",
       "    <tr>\n",
       "      <th>2021-07-21</th>\n",
       "      <td>Aforament - Montblanc</td>\n",
       "      <td>EL FRANCOLÍ</td>\n",
       "      <td>347766</td>\n",
       "      <td>4580851</td>\n",
       "      <td>EA028_Montblanc_Cabal riu Francoli</td>\n",
       "      <td>0.040069</td>\n",
       "      <td>m³/s</td>\n",
       "    </tr>\n",
       "    <tr>\n",
       "      <th>2021-07-22</th>\n",
       "      <td>Aforament - Montblanc</td>\n",
       "      <td>EL FRANCOLÍ</td>\n",
       "      <td>347766</td>\n",
       "      <td>4580851</td>\n",
       "      <td>EA028_Montblanc_Cabal riu Francoli</td>\n",
       "      <td>0.038792</td>\n",
       "      <td>m³/s</td>\n",
       "    </tr>\n",
       "    <tr>\n",
       "      <th>2021-07-23</th>\n",
       "      <td>Aforament - Montblanc</td>\n",
       "      <td>EL FRANCOLÍ</td>\n",
       "      <td>347766</td>\n",
       "      <td>4580851</td>\n",
       "      <td>EA028_Montblanc_Cabal riu Francoli</td>\n",
       "      <td>0.035528</td>\n",
       "      <td>m³/s</td>\n",
       "    </tr>\n",
       "    <tr>\n",
       "      <th>2021-07-24</th>\n",
       "      <td>Aforament - Montblanc</td>\n",
       "      <td>EL FRANCOLÍ</td>\n",
       "      <td>347766</td>\n",
       "      <td>4580851</td>\n",
       "      <td>EA028_Montblanc_Cabal riu Francoli</td>\n",
       "      <td>0.040000</td>\n",
       "      <td>m³/s</td>\n",
       "    </tr>\n",
       "  </tbody>\n",
       "</table>\n",
       "</div>"
      ],
      "text/plain": [
       "                          Estació        Conca   UTM X    UTM Y  \\\n",
       "Data                                                              \n",
       "2021-07-20  Aforament - Montblanc  EL FRANCOLÍ  347766  4580851   \n",
       "2021-07-21  Aforament - Montblanc  EL FRANCOLÍ  347766  4580851   \n",
       "2021-07-22  Aforament - Montblanc  EL FRANCOLÍ  347766  4580851   \n",
       "2021-07-23  Aforament - Montblanc  EL FRANCOLÍ  347766  4580851   \n",
       "2021-07-24  Aforament - Montblanc  EL FRANCOLÍ  347766  4580851   \n",
       "\n",
       "                                      Variable   Mitjana Unitat Mesura  \n",
       "Data                                                                    \n",
       "2021-07-20  EA028_Montblanc_Cabal riu Francoli  0.039576          m³/s  \n",
       "2021-07-21  EA028_Montblanc_Cabal riu Francoli  0.040069          m³/s  \n",
       "2021-07-22  EA028_Montblanc_Cabal riu Francoli  0.038792          m³/s  \n",
       "2021-07-23  EA028_Montblanc_Cabal riu Francoli  0.035528          m³/s  \n",
       "2021-07-24  EA028_Montblanc_Cabal riu Francoli  0.040000          m³/s  "
      ]
     },
     "execution_count": 11,
     "metadata": {},
     "output_type": "execute_result"
    }
   ],
   "source": [
    "df_c_2007.tail()"
   ]
  },
  {
   "cell_type": "markdown",
   "id": "678fff39",
   "metadata": {},
   "source": [
    "### Data avaluation"
   ]
  },
  {
   "cell_type": "code",
   "execution_count": 12,
   "id": "ba77b6de",
   "metadata": {},
   "outputs": [
    {
     "name": "stdout",
     "output_type": "stream",
     "text": [
      "<class 'pandas.core.frame.DataFrame'>\n",
      "DatetimeIndex: 4759 entries, 2007-01-01 to 2021-07-24\n",
      "Data columns (total 7 columns):\n",
      " #   Column         Non-Null Count  Dtype  \n",
      "---  ------         --------------  -----  \n",
      " 0   Estació        4759 non-null   object \n",
      " 1   Conca          4759 non-null   object \n",
      " 2   UTM X          4759 non-null   int64  \n",
      " 3   UTM Y          4759 non-null   int64  \n",
      " 4   Variable       4759 non-null   object \n",
      " 5   Mitjana        4759 non-null   float64\n",
      " 6   Unitat Mesura  4759 non-null   object \n",
      "dtypes: float64(1), int64(2), object(4)\n",
      "memory usage: 297.4+ KB\n"
     ]
    }
   ],
   "source": [
    "df_c_2007.info()"
   ]
  },
  {
   "cell_type": "code",
   "execution_count": 13,
   "id": "676a7c8f",
   "metadata": {},
   "outputs": [
    {
     "data": {
      "text/html": [
       "<div>\n",
       "<style scoped>\n",
       "    .dataframe tbody tr th:only-of-type {\n",
       "        vertical-align: middle;\n",
       "    }\n",
       "\n",
       "    .dataframe tbody tr th {\n",
       "        vertical-align: top;\n",
       "    }\n",
       "\n",
       "    .dataframe thead th {\n",
       "        text-align: right;\n",
       "    }\n",
       "</style>\n",
       "<table border=\"1\" class=\"dataframe\">\n",
       "  <thead>\n",
       "    <tr style=\"text-align: right;\">\n",
       "      <th></th>\n",
       "      <th>UTM X</th>\n",
       "      <th>UTM Y</th>\n",
       "      <th>Mitjana</th>\n",
       "    </tr>\n",
       "  </thead>\n",
       "  <tbody>\n",
       "    <tr>\n",
       "      <th>count</th>\n",
       "      <td>4759.0</td>\n",
       "      <td>4759.0</td>\n",
       "      <td>4759.000000</td>\n",
       "    </tr>\n",
       "    <tr>\n",
       "      <th>mean</th>\n",
       "      <td>347766.0</td>\n",
       "      <td>4580851.0</td>\n",
       "      <td>0.278076</td>\n",
       "    </tr>\n",
       "    <tr>\n",
       "      <th>std</th>\n",
       "      <td>0.0</td>\n",
       "      <td>0.0</td>\n",
       "      <td>0.545965</td>\n",
       "    </tr>\n",
       "    <tr>\n",
       "      <th>min</th>\n",
       "      <td>347766.0</td>\n",
       "      <td>4580851.0</td>\n",
       "      <td>0.000000</td>\n",
       "    </tr>\n",
       "    <tr>\n",
       "      <th>25%</th>\n",
       "      <td>347766.0</td>\n",
       "      <td>4580851.0</td>\n",
       "      <td>0.067000</td>\n",
       "    </tr>\n",
       "    <tr>\n",
       "      <th>50%</th>\n",
       "      <td>347766.0</td>\n",
       "      <td>4580851.0</td>\n",
       "      <td>0.138000</td>\n",
       "    </tr>\n",
       "    <tr>\n",
       "      <th>75%</th>\n",
       "      <td>347766.0</td>\n",
       "      <td>4580851.0</td>\n",
       "      <td>0.318651</td>\n",
       "    </tr>\n",
       "    <tr>\n",
       "      <th>max</th>\n",
       "      <td>347766.0</td>\n",
       "      <td>4580851.0</td>\n",
       "      <td>15.663038</td>\n",
       "    </tr>\n",
       "  </tbody>\n",
       "</table>\n",
       "</div>"
      ],
      "text/plain": [
       "          UTM X      UTM Y      Mitjana\n",
       "count    4759.0     4759.0  4759.000000\n",
       "mean   347766.0  4580851.0     0.278076\n",
       "std         0.0        0.0     0.545965\n",
       "min    347766.0  4580851.0     0.000000\n",
       "25%    347766.0  4580851.0     0.067000\n",
       "50%    347766.0  4580851.0     0.138000\n",
       "75%    347766.0  4580851.0     0.318651\n",
       "max    347766.0  4580851.0    15.663038"
      ]
     },
     "execution_count": 13,
     "metadata": {},
     "output_type": "execute_result"
    }
   ],
   "source": [
    "df_c_2007.describe()"
   ]
  },
  {
   "cell_type": "code",
   "execution_count": 14,
   "id": "1fda2b8d",
   "metadata": {},
   "outputs": [
    {
     "data": {
      "text/plain": [
       "Estació          4759\n",
       "Conca            4759\n",
       "UTM X            4759\n",
       "UTM Y            4759\n",
       "Variable         4759\n",
       "Mitjana          4759\n",
       "Unitat Mesura    4759\n",
       "dtype: int64"
      ]
     },
     "execution_count": 14,
     "metadata": {},
     "output_type": "execute_result"
    }
   ],
   "source": [
    "#count no null values\n",
    "df_c_2007.dropna().count()"
   ]
  },
  {
   "cell_type": "code",
   "execution_count": 15,
   "id": "1d2d9cfa",
   "metadata": {},
   "outputs": [
    {
     "data": {
      "text/plain": [
       "4759"
      ]
     },
     "execution_count": 15,
     "metadata": {},
     "output_type": "execute_result"
    }
   ],
   "source": [
    "#count values\n",
    "len(df_c_2007)"
   ]
  },
  {
   "cell_type": "markdown",
   "id": "a691fb44",
   "metadata": {},
   "source": [
    "## Plot the data"
   ]
  },
  {
   "cell_type": "code",
   "execution_count": 16,
   "id": "960dfb36",
   "metadata": {},
   "outputs": [
    {
     "data": {
      "image/png": "[encoded data removed]",
      "text/plain": [
       "<Figure size 792x432 with 1 Axes>"
      ]
     },
     "metadata": {
      "needs_background": "light"
     },
     "output_type": "display_data"
    }
   ],
   "source": [
    "# Plot using matplotlib\n",
    "fig, ax = plt.subplots(figsize=(11, 6))\n",
    "\n",
    "ax.scatter(x=df_c_2007.index,\n",
    "           y=df_c_2007[\"Mitjana\"],\n",
    "           marker=\"o\",# o points x x marks\n",
    "           s=15,#size markers\n",
    "           color=\"purple\",\n",
    "           )\n",
    "\n",
    "ax.set(xlabel=\"Date\", ylabel=\"Discharge Value (m3/s)\",\n",
    "       title=\"Mean Daily stream Discharge - Station Pont de la fusta \\n 2010-01-31 to 2019/10/23\")\n",
    "\n",
    "plt.show()"
   ]
  },
  {
   "cell_type": "markdown",
   "id": "179ea8b7",
   "metadata": {},
   "source": [
    "# Concatenating"
   ]
  },
  {
   "cell_type": "code",
   "execution_count": 17,
   "id": "63686b85",
   "metadata": {},
   "outputs": [
    {
     "data": {
      "text/html": [
       "<div>\n",
       "<style scoped>\n",
       "    .dataframe tbody tr th:only-of-type {\n",
       "        vertical-align: middle;\n",
       "    }\n",
       "\n",
       "    .dataframe tbody tr th {\n",
       "        vertical-align: top;\n",
       "    }\n",
       "\n",
       "    .dataframe thead th {\n",
       "        text-align: right;\n",
       "    }\n",
       "</style>\n",
       "<table border=\"1\" class=\"dataframe\">\n",
       "  <thead>\n",
       "    <tr style=\"text-align: right;\">\n",
       "      <th></th>\n",
       "      <th>Estació</th>\n",
       "      <th>Conca</th>\n",
       "      <th>UTM X</th>\n",
       "      <th>UTM Y</th>\n",
       "      <th>Variable</th>\n",
       "      <th>Mitjana</th>\n",
       "      <th>Unitat Mesura</th>\n",
       "    </tr>\n",
       "    <tr>\n",
       "      <th>Data</th>\n",
       "      <th></th>\n",
       "      <th></th>\n",
       "      <th></th>\n",
       "      <th></th>\n",
       "      <th></th>\n",
       "      <th></th>\n",
       "      <th></th>\n",
       "    </tr>\n",
       "  </thead>\n",
       "  <tbody>\n",
       "    <tr>\n",
       "      <th>1960-01-01</th>\n",
       "      <td>Aforament - Montblanc</td>\n",
       "      <td>EL FRANCOLÍ</td>\n",
       "      <td>347766</td>\n",
       "      <td>4580851</td>\n",
       "      <td>EA028_Montblanc_Cabal riu Francoli</td>\n",
       "      <td>1.284</td>\n",
       "      <td>m³/s</td>\n",
       "    </tr>\n",
       "    <tr>\n",
       "      <th>1960-01-02</th>\n",
       "      <td>Aforament - Montblanc</td>\n",
       "      <td>EL FRANCOLÍ</td>\n",
       "      <td>347766</td>\n",
       "      <td>4580851</td>\n",
       "      <td>EA028_Montblanc_Cabal riu Francoli</td>\n",
       "      <td>1.284</td>\n",
       "      <td>m³/s</td>\n",
       "    </tr>\n",
       "  </tbody>\n",
       "</table>\n",
       "</div>"
      ],
      "text/plain": [
       "                          Estació        Conca   UTM X    UTM Y  \\\n",
       "Data                                                              \n",
       "1960-01-01  Aforament - Montblanc  EL FRANCOLÍ  347766  4580851   \n",
       "1960-01-02  Aforament - Montblanc  EL FRANCOLÍ  347766  4580851   \n",
       "\n",
       "                                      Variable  Mitjana Unitat Mesura  \n",
       "Data                                                                   \n",
       "1960-01-01  EA028_Montblanc_Cabal riu Francoli    1.284          m³/s  \n",
       "1960-01-02  EA028_Montblanc_Cabal riu Francoli    1.284          m³/s  "
      ]
     },
     "execution_count": 17,
     "metadata": {},
     "output_type": "execute_result"
    }
   ],
   "source": [
    "df_c.head(2)"
   ]
  },
  {
   "cell_type": "code",
   "execution_count": 18,
   "id": "57242535",
   "metadata": {},
   "outputs": [],
   "source": [
    "#concat()\n",
    "frames = [df_c, df_c_2007]\n",
    "df_c_d = pd.concat(frames)\n",
    "df_total=df_c_d"
   ]
  },
  {
   "cell_type": "code",
   "execution_count": 19,
   "id": "0bd7e6de",
   "metadata": {},
   "outputs": [
    {
     "data": {
      "text/html": [
       "<div>\n",
       "<style scoped>\n",
       "    .dataframe tbody tr th:only-of-type {\n",
       "        vertical-align: middle;\n",
       "    }\n",
       "\n",
       "    .dataframe tbody tr th {\n",
       "        vertical-align: top;\n",
       "    }\n",
       "\n",
       "    .dataframe thead th {\n",
       "        text-align: right;\n",
       "    }\n",
       "</style>\n",
       "<table border=\"1\" class=\"dataframe\">\n",
       "  <thead>\n",
       "    <tr style=\"text-align: right;\">\n",
       "      <th></th>\n",
       "      <th>Estació</th>\n",
       "      <th>Conca</th>\n",
       "      <th>UTM X</th>\n",
       "      <th>UTM Y</th>\n",
       "      <th>Variable</th>\n",
       "      <th>Mitjana</th>\n",
       "      <th>Unitat Mesura</th>\n",
       "    </tr>\n",
       "    <tr>\n",
       "      <th>Data</th>\n",
       "      <th></th>\n",
       "      <th></th>\n",
       "      <th></th>\n",
       "      <th></th>\n",
       "      <th></th>\n",
       "      <th></th>\n",
       "      <th></th>\n",
       "    </tr>\n",
       "  </thead>\n",
       "  <tbody>\n",
       "    <tr>\n",
       "      <th>1960-01-01</th>\n",
       "      <td>Aforament - Montblanc</td>\n",
       "      <td>EL FRANCOLÍ</td>\n",
       "      <td>347766</td>\n",
       "      <td>4580851</td>\n",
       "      <td>EA028_Montblanc_Cabal riu Francoli</td>\n",
       "      <td>1.284</td>\n",
       "      <td>m³/s</td>\n",
       "    </tr>\n",
       "    <tr>\n",
       "      <th>1960-01-02</th>\n",
       "      <td>Aforament - Montblanc</td>\n",
       "      <td>EL FRANCOLÍ</td>\n",
       "      <td>347766</td>\n",
       "      <td>4580851</td>\n",
       "      <td>EA028_Montblanc_Cabal riu Francoli</td>\n",
       "      <td>1.284</td>\n",
       "      <td>m³/s</td>\n",
       "    </tr>\n",
       "    <tr>\n",
       "      <th>1960-01-03</th>\n",
       "      <td>Aforament - Montblanc</td>\n",
       "      <td>EL FRANCOLÍ</td>\n",
       "      <td>347766</td>\n",
       "      <td>4580851</td>\n",
       "      <td>EA028_Montblanc_Cabal riu Francoli</td>\n",
       "      <td>1.284</td>\n",
       "      <td>m³/s</td>\n",
       "    </tr>\n",
       "    <tr>\n",
       "      <th>1960-01-04</th>\n",
       "      <td>Aforament - Montblanc</td>\n",
       "      <td>EL FRANCOLÍ</td>\n",
       "      <td>347766</td>\n",
       "      <td>4580851</td>\n",
       "      <td>EA028_Montblanc_Cabal riu Francoli</td>\n",
       "      <td>1.284</td>\n",
       "      <td>m³/s</td>\n",
       "    </tr>\n",
       "    <tr>\n",
       "      <th>1960-01-05</th>\n",
       "      <td>Aforament - Montblanc</td>\n",
       "      <td>EL FRANCOLÍ</td>\n",
       "      <td>347766</td>\n",
       "      <td>4580851</td>\n",
       "      <td>EA028_Montblanc_Cabal riu Francoli</td>\n",
       "      <td>1.284</td>\n",
       "      <td>m³/s</td>\n",
       "    </tr>\n",
       "  </tbody>\n",
       "</table>\n",
       "</div>"
      ],
      "text/plain": [
       "                          Estació        Conca   UTM X    UTM Y  \\\n",
       "Data                                                              \n",
       "1960-01-01  Aforament - Montblanc  EL FRANCOLÍ  347766  4580851   \n",
       "1960-01-02  Aforament - Montblanc  EL FRANCOLÍ  347766  4580851   \n",
       "1960-01-03  Aforament - Montblanc  EL FRANCOLÍ  347766  4580851   \n",
       "1960-01-04  Aforament - Montblanc  EL FRANCOLÍ  347766  4580851   \n",
       "1960-01-05  Aforament - Montblanc  EL FRANCOLÍ  347766  4580851   \n",
       "\n",
       "                                      Variable  Mitjana Unitat Mesura  \n",
       "Data                                                                   \n",
       "1960-01-01  EA028_Montblanc_Cabal riu Francoli    1.284          m³/s  \n",
       "1960-01-02  EA028_Montblanc_Cabal riu Francoli    1.284          m³/s  \n",
       "1960-01-03  EA028_Montblanc_Cabal riu Francoli    1.284          m³/s  \n",
       "1960-01-04  EA028_Montblanc_Cabal riu Francoli    1.284          m³/s  \n",
       "1960-01-05  EA028_Montblanc_Cabal riu Francoli    1.284          m³/s  "
      ]
     },
     "execution_count": 19,
     "metadata": {},
     "output_type": "execute_result"
    }
   ],
   "source": [
    "df_total.head()"
   ]
  },
  {
   "cell_type": "markdown",
   "id": "53c4a491",
   "metadata": {},
   "source": [
    "# Plotting the concat data"
   ]
  },
  {
   "cell_type": "code",
   "execution_count": 20,
   "id": "cccbc89e",
   "metadata": {},
   "outputs": [
    {
     "data": {
      "image/png": "[encoded data removed]",
      "text/plain": [
       "<Figure size 792x432 with 1 Axes>"
      ]
     },
     "metadata": {
      "needs_background": "light"
     },
     "output_type": "display_data"
    }
   ],
   "source": [
    "# Plot using matplotlib\n",
    "fig, ax = plt.subplots(figsize=(11, 6))\n",
    "\n",
    "ax.scatter(x=df_total.index,\n",
    "           y=df_total[\"Mitjana\"],\n",
    "           marker=\"o\",# o points x x marks\n",
    "           s=25,#size markers\n",
    "           color=\"purple\",\n",
    "           )\n",
    "\n",
    "ax.set(xlabel=\"Date\", ylabel=\"Discharge Value (m3/s)\",\n",
    "       title=\"Mean Daily stream Discharge - Station Pont de la fusta \\n 1960-01-1 to 2021/12/31\")\n",
    "\n",
    "plt.show()"
   ]
  },
  {
   "cell_type": "markdown",
   "id": "3d2436b6",
   "metadata": {},
   "source": [
    "## Annual Maxima\n",
    "Annual maxima refers to the biggest value that occured within each year. \n",
    "\n",
    "You can take the daily mean values to construct a series of the annual maximum value. This is done using pandas resample."
   ]
  },
  {
   "cell_type": "markdown",
   "id": "c4cb6994",
   "metadata": {},
   "source": [
    "#### Add a Year Column to Your Data\n",
    "Note that below you will add a ‘year’ column to the longmont discharge data. While this step is not necessary for resampling. It will make your life easier when you plot the data later."
   ]
  },
  {
   "cell_type": "code",
   "execution_count": 21,
   "id": "f85e8a6e",
   "metadata": {},
   "outputs": [
    {
     "data": {
      "text/html": [
       "<div>\n",
       "<style scoped>\n",
       "    .dataframe tbody tr th:only-of-type {\n",
       "        vertical-align: middle;\n",
       "    }\n",
       "\n",
       "    .dataframe tbody tr th {\n",
       "        vertical-align: top;\n",
       "    }\n",
       "\n",
       "    .dataframe thead th {\n",
       "        text-align: right;\n",
       "    }\n",
       "</style>\n",
       "<table border=\"1\" class=\"dataframe\">\n",
       "  <thead>\n",
       "    <tr style=\"text-align: right;\">\n",
       "      <th></th>\n",
       "      <th>Estació</th>\n",
       "      <th>Conca</th>\n",
       "      <th>UTM X</th>\n",
       "      <th>UTM Y</th>\n",
       "      <th>Variable</th>\n",
       "      <th>Mitjana</th>\n",
       "      <th>Unitat Mesura</th>\n",
       "      <th>year</th>\n",
       "      <th>Max</th>\n",
       "    </tr>\n",
       "    <tr>\n",
       "      <th>Data</th>\n",
       "      <th></th>\n",
       "      <th></th>\n",
       "      <th></th>\n",
       "      <th></th>\n",
       "      <th></th>\n",
       "      <th></th>\n",
       "      <th></th>\n",
       "      <th></th>\n",
       "      <th></th>\n",
       "    </tr>\n",
       "  </thead>\n",
       "  <tbody>\n",
       "    <tr>\n",
       "      <th>1960-01-01</th>\n",
       "      <td>Aforament - Montblanc</td>\n",
       "      <td>EL FRANCOLÍ</td>\n",
       "      <td>347766.0</td>\n",
       "      <td>4580851.0</td>\n",
       "      <td>EA028_Montblanc_Cabal riu Francoli</td>\n",
       "      <td>10.81</td>\n",
       "      <td>m³/s</td>\n",
       "      <td>1960.0</td>\n",
       "      <td>10.81</td>\n",
       "    </tr>\n",
       "    <tr>\n",
       "      <th>1961-01-01</th>\n",
       "      <td>Aforament - Montblanc</td>\n",
       "      <td>EL FRANCOLÍ</td>\n",
       "      <td>347766.0</td>\n",
       "      <td>4580851.0</td>\n",
       "      <td>EA028_Montblanc_Cabal riu Francoli</td>\n",
       "      <td>9.11</td>\n",
       "      <td>m³/s</td>\n",
       "      <td>1961.0</td>\n",
       "      <td>9.11</td>\n",
       "    </tr>\n",
       "    <tr>\n",
       "      <th>1962-01-01</th>\n",
       "      <td>Aforament - Montblanc</td>\n",
       "      <td>EL FRANCOLÍ</td>\n",
       "      <td>347766.0</td>\n",
       "      <td>4580851.0</td>\n",
       "      <td>EA028_Montblanc_Cabal riu Francoli</td>\n",
       "      <td>8.58</td>\n",
       "      <td>m³/s</td>\n",
       "      <td>1962.0</td>\n",
       "      <td>8.58</td>\n",
       "    </tr>\n",
       "    <tr>\n",
       "      <th>1963-01-01</th>\n",
       "      <td>Aforament - Montblanc</td>\n",
       "      <td>EL FRANCOLÍ</td>\n",
       "      <td>347766.0</td>\n",
       "      <td>4580851.0</td>\n",
       "      <td>EA028_Montblanc_Cabal riu Francoli</td>\n",
       "      <td>12.45</td>\n",
       "      <td>m³/s</td>\n",
       "      <td>1963.0</td>\n",
       "      <td>12.45</td>\n",
       "    </tr>\n",
       "    <tr>\n",
       "      <th>1964-01-01</th>\n",
       "      <td>Aforament - Montblanc</td>\n",
       "      <td>EL FRANCOLÍ</td>\n",
       "      <td>347766.0</td>\n",
       "      <td>4580851.0</td>\n",
       "      <td>EA028_Montblanc_Cabal riu Francoli</td>\n",
       "      <td>22.10</td>\n",
       "      <td>m³/s</td>\n",
       "      <td>1964.0</td>\n",
       "      <td>22.10</td>\n",
       "    </tr>\n",
       "  </tbody>\n",
       "</table>\n",
       "</div>"
      ],
      "text/plain": [
       "                          Estació        Conca     UTM X      UTM Y  \\\n",
       "Data                                                                  \n",
       "1960-01-01  Aforament - Montblanc  EL FRANCOLÍ  347766.0  4580851.0   \n",
       "1961-01-01  Aforament - Montblanc  EL FRANCOLÍ  347766.0  4580851.0   \n",
       "1962-01-01  Aforament - Montblanc  EL FRANCOLÍ  347766.0  4580851.0   \n",
       "1963-01-01  Aforament - Montblanc  EL FRANCOLÍ  347766.0  4580851.0   \n",
       "1964-01-01  Aforament - Montblanc  EL FRANCOLÍ  347766.0  4580851.0   \n",
       "\n",
       "                                      Variable  Mitjana Unitat Mesura    year  \\\n",
       "Data                                                                            \n",
       "1960-01-01  EA028_Montblanc_Cabal riu Francoli    10.81          m³/s  1960.0   \n",
       "1961-01-01  EA028_Montblanc_Cabal riu Francoli     9.11          m³/s  1961.0   \n",
       "1962-01-01  EA028_Montblanc_Cabal riu Francoli     8.58          m³/s  1962.0   \n",
       "1963-01-01  EA028_Montblanc_Cabal riu Francoli    12.45          m³/s  1963.0   \n",
       "1964-01-01  EA028_Montblanc_Cabal riu Francoli    22.10          m³/s  1964.0   \n",
       "\n",
       "              Max  \n",
       "Data               \n",
       "1960-01-01  10.81  \n",
       "1961-01-01   9.11  \n",
       "1962-01-01   8.58  \n",
       "1963-01-01  12.45  \n",
       "1964-01-01  22.10  "
      ]
     },
     "execution_count": 21,
     "metadata": {},
     "output_type": "execute_result"
    }
   ],
   "source": [
    "# add a year column to your longmont discharge data\n",
    "df_total[\"year\"] = df_total.index.year\n",
    "df_total[\"Max\"]=df_total[\"Mitjana\"]\n",
    "df_total = df_total.drop(columns=[\"Mitjana\"])\n",
    "# Calculate annual max by resampling\n",
    "longmont_discharge_annual_max = df_c_d.resample('AS').max()\n",
    "longmont_discharge_annual_max.head()"
   ]
  },
  {
   "cell_type": "code",
   "execution_count": 22,
   "id": "5716c02f",
   "metadata": {},
   "outputs": [
    {
     "data": {
      "image/png": "[encoded data removed]",
      "text/plain": [
       "<Figure size 792x648 with 1 Axes>"
      ]
     },
     "metadata": {
      "needs_background": "light"
     },
     "output_type": "display_data"
    }
   ],
   "source": [
    "# Plot calculated vs USGS annual max flow values\n",
    "fig, ax = plt.subplots(figsize=(11, 9))\n",
    "\n",
    "\n",
    "ax.plot(longmont_discharge_annual_max[\"year\"],\n",
    "        longmont_discharge_annual_max[\"Max\"],\n",
    "        color=\"green\",\n",
    "        linestyle=':',\n",
    "        marker='o',\n",
    "        label=\"Mean Daily Value\"\n",
    "       )\n",
    "ax.legend()\n",
    "ax.set_title(\n",
    "    \"Annual Maximum Derived from Daily Mean Peak Flows\")\n",
    "\n",
    "plt.show()"
   ]
  },
  {
   "cell_type": "markdown",
   "id": "9506a259",
   "metadata": {},
   "source": [
    "## Calculate Return Period\n",
    "Now that you have both datasets, you are ready to calculate the return period from each. You will calculate this value and the associated probability of each event size for both the USGS max annual flow data and for the max flow value that you derived from the mean daily data. To calculate return period you will do the following:\n",
    "\n",
    "- Sort your data from smallest to largest.\n",
    "- Calculate exceedance probabilities using the equation below where n is length of the record and i is the rank.\n",
    "- Calculate the inverse of the exceedance probabilities to determine return period in years.\n",
    "- Plot flood magnitudes against return time. It is common to plot these kinds of data on log-linear or log-log axes."
   ]
  },
  {
   "cell_type": "markdown",
   "id": "7ddd8e1a",
   "metadata": {},
   "source": [
    "Exceedance probability equation:\n",
    "![title](Captura.JPG)"
   ]
  },
  {
   "cell_type": "markdown",
   "id": "f7fa6040",
   "metadata": {},
   "source": [
    "Where i is the rank order (smallest to largest) from 1 to n. Note that the limits of this equation vary from n/(n+1) ~ 1 for the smallest events and 1/(n+1) for the largest events (i.e., the largest events have a very small exceedance probability)."
   ]
  },
  {
   "cell_type": "code",
   "execution_count": 23,
   "id": "e7cf942d",
   "metadata": {},
   "outputs": [
    {
     "data": {
      "text/html": [
       "<div>\n",
       "<style scoped>\n",
       "    .dataframe tbody tr th:only-of-type {\n",
       "        vertical-align: middle;\n",
       "    }\n",
       "\n",
       "    .dataframe tbody tr th {\n",
       "        vertical-align: top;\n",
       "    }\n",
       "\n",
       "    .dataframe thead th {\n",
       "        text-align: right;\n",
       "    }\n",
       "</style>\n",
       "<table border=\"1\" class=\"dataframe\">\n",
       "  <thead>\n",
       "    <tr style=\"text-align: right;\">\n",
       "      <th></th>\n",
       "      <th>Estació</th>\n",
       "      <th>Conca</th>\n",
       "      <th>UTM X</th>\n",
       "      <th>UTM Y</th>\n",
       "      <th>Variable</th>\n",
       "      <th>Mitjana</th>\n",
       "      <th>Unitat Mesura</th>\n",
       "      <th>year</th>\n",
       "      <th>Max</th>\n",
       "    </tr>\n",
       "    <tr>\n",
       "      <th>Data</th>\n",
       "      <th></th>\n",
       "      <th></th>\n",
       "      <th></th>\n",
       "      <th></th>\n",
       "      <th></th>\n",
       "      <th></th>\n",
       "      <th></th>\n",
       "      <th></th>\n",
       "      <th></th>\n",
       "    </tr>\n",
       "  </thead>\n",
       "  <tbody>\n",
       "    <tr>\n",
       "      <th>1960-01-01</th>\n",
       "      <td>Aforament - Montblanc</td>\n",
       "      <td>EL FRANCOLÍ</td>\n",
       "      <td>347766</td>\n",
       "      <td>4580851</td>\n",
       "      <td>EA028_Montblanc_Cabal riu Francoli</td>\n",
       "      <td>1.284</td>\n",
       "      <td>m³/s</td>\n",
       "      <td>1960</td>\n",
       "      <td>1.284</td>\n",
       "    </tr>\n",
       "    <tr>\n",
       "      <th>1960-01-02</th>\n",
       "      <td>Aforament - Montblanc</td>\n",
       "      <td>EL FRANCOLÍ</td>\n",
       "      <td>347766</td>\n",
       "      <td>4580851</td>\n",
       "      <td>EA028_Montblanc_Cabal riu Francoli</td>\n",
       "      <td>1.284</td>\n",
       "      <td>m³/s</td>\n",
       "      <td>1960</td>\n",
       "      <td>1.284</td>\n",
       "    </tr>\n",
       "    <tr>\n",
       "      <th>1960-01-03</th>\n",
       "      <td>Aforament - Montblanc</td>\n",
       "      <td>EL FRANCOLÍ</td>\n",
       "      <td>347766</td>\n",
       "      <td>4580851</td>\n",
       "      <td>EA028_Montblanc_Cabal riu Francoli</td>\n",
       "      <td>1.284</td>\n",
       "      <td>m³/s</td>\n",
       "      <td>1960</td>\n",
       "      <td>1.284</td>\n",
       "    </tr>\n",
       "    <tr>\n",
       "      <th>1960-01-04</th>\n",
       "      <td>Aforament - Montblanc</td>\n",
       "      <td>EL FRANCOLÍ</td>\n",
       "      <td>347766</td>\n",
       "      <td>4580851</td>\n",
       "      <td>EA028_Montblanc_Cabal riu Francoli</td>\n",
       "      <td>1.284</td>\n",
       "      <td>m³/s</td>\n",
       "      <td>1960</td>\n",
       "      <td>1.284</td>\n",
       "    </tr>\n",
       "    <tr>\n",
       "      <th>1960-01-05</th>\n",
       "      <td>Aforament - Montblanc</td>\n",
       "      <td>EL FRANCOLÍ</td>\n",
       "      <td>347766</td>\n",
       "      <td>4580851</td>\n",
       "      <td>EA028_Montblanc_Cabal riu Francoli</td>\n",
       "      <td>1.284</td>\n",
       "      <td>m³/s</td>\n",
       "      <td>1960</td>\n",
       "      <td>1.284</td>\n",
       "    </tr>\n",
       "  </tbody>\n",
       "</table>\n",
       "</div>"
      ],
      "text/plain": [
       "                          Estació        Conca   UTM X    UTM Y  \\\n",
       "Data                                                              \n",
       "1960-01-01  Aforament - Montblanc  EL FRANCOLÍ  347766  4580851   \n",
       "1960-01-02  Aforament - Montblanc  EL FRANCOLÍ  347766  4580851   \n",
       "1960-01-03  Aforament - Montblanc  EL FRANCOLÍ  347766  4580851   \n",
       "1960-01-04  Aforament - Montblanc  EL FRANCOLÍ  347766  4580851   \n",
       "1960-01-05  Aforament - Montblanc  EL FRANCOLÍ  347766  4580851   \n",
       "\n",
       "                                      Variable  Mitjana Unitat Mesura  year  \\\n",
       "Data                                                                          \n",
       "1960-01-01  EA028_Montblanc_Cabal riu Francoli    1.284          m³/s  1960   \n",
       "1960-01-02  EA028_Montblanc_Cabal riu Francoli    1.284          m³/s  1960   \n",
       "1960-01-03  EA028_Montblanc_Cabal riu Francoli    1.284          m³/s  1960   \n",
       "1960-01-04  EA028_Montblanc_Cabal riu Francoli    1.284          m³/s  1960   \n",
       "1960-01-05  EA028_Montblanc_Cabal riu Francoli    1.284          m³/s  1960   \n",
       "\n",
       "              Max  \n",
       "Data               \n",
       "1960-01-01  1.284  \n",
       "1960-01-02  1.284  \n",
       "1960-01-03  1.284  \n",
       "1960-01-04  1.284  \n",
       "1960-01-05  1.284  "
      ]
     },
     "execution_count": 23,
     "metadata": {},
     "output_type": "execute_result"
    }
   ],
   "source": [
    "df_c_d.head()"
   ]
  },
  {
   "cell_type": "markdown",
   "id": "ede51709",
   "metadata": {},
   "source": [
    "Data Tip: If you want to extrapolate beyond the observations that you have - for instance to predict what a 1000 year flood would be given only 100 years of data - then you would need to fit a model to the data."
   ]
  },
  {
   "cell_type": "code",
   "execution_count": 24,
   "id": "f50411bb",
   "metadata": {},
   "outputs": [],
   "source": [
    "# Sort data smallest to largest\n",
    "longmont_discharge_sorted = df_c_d.sort_values(by=\"Mitjana\")\n",
    "\n",
    "# Count total obervations\n",
    "n = longmont_discharge_sorted.shape[0]\n",
    "\n",
    "# Add a numbered column 1 -> n to use in return calculation for rank\n",
    "longmont_discharge_sorted.insert(0, 'rank', range(1, 1 + n))\n",
    "\n",
    "# Calculate probability - note you may need to adjust this value based upon the time period of your data\n",
    "longmont_discharge_sorted[\"probability\"] = (\n",
    "    (n - longmont_discharge_sorted[\"rank\"] + 1) / (n + 1))\n",
    "\n",
    "longmont_discharge_sorted[\"return-years\"] = (\n",
    "    1 / longmont_discharge_sorted[\"probability\"])"
   ]
  },
  {
   "cell_type": "code",
   "execution_count": 25,
   "id": "3e7810ba",
   "metadata": {},
   "outputs": [],
   "source": [
    "# Create a function from the workflow below\n",
    "\n",
    "# Add an argument for annual vs daily...\n",
    "\n",
    "\n",
    "def calculate_return(df, colname):\n",
    "    '''\n",
    "    Add Documentation Here\n",
    "\n",
    "\n",
    "    '''\n",
    "    # Sort data smallest to largest\n",
    "    sorted_data = df.sort_values(by=colname)\n",
    "    \n",
    "    # Count total obervations\n",
    "    n = sorted_data.shape[0]\n",
    "    \n",
    "    # Add a numbered column 1 -> n to use in return calculation for rank\n",
    "    sorted_data.insert(0, 'rank', range(1, 1 + n))\n",
    "    \n",
    "    # Calculate probability\n",
    "    sorted_data[\"probability\"] = (n - sorted_data[\"rank\"] + 1) / (n + 1)\n",
    "    \n",
    "    # Calculate return - data are daily to then divide by 365?\n",
    "    sorted_data[\"return-years\"] = (1 / sorted_data[\"probability\"])\n",
    "\n",
    "    return(sorted_data)"
   ]
  },
  {
   "cell_type": "markdown",
   "id": "501cf089",
   "metadata": {},
   "source": [
    "Once you have a function, you can calculate return period and probability."
   ]
  },
  {
   "cell_type": "code",
   "execution_count": 26,
   "id": "828ea485",
   "metadata": {
    "scrolled": true
   },
   "outputs": [
    {
     "data": {
      "text/html": [
       "<div>\n",
       "<style scoped>\n",
       "    .dataframe tbody tr th:only-of-type {\n",
       "        vertical-align: middle;\n",
       "    }\n",
       "\n",
       "    .dataframe tbody tr th {\n",
       "        vertical-align: top;\n",
       "    }\n",
       "\n",
       "    .dataframe thead th {\n",
       "        text-align: right;\n",
       "    }\n",
       "</style>\n",
       "<table border=\"1\" class=\"dataframe\">\n",
       "  <thead>\n",
       "    <tr style=\"text-align: right;\">\n",
       "      <th></th>\n",
       "      <th>rank</th>\n",
       "      <th>Estació</th>\n",
       "      <th>Conca</th>\n",
       "      <th>UTM X</th>\n",
       "      <th>UTM Y</th>\n",
       "      <th>Variable</th>\n",
       "      <th>Mitjana</th>\n",
       "      <th>Unitat Mesura</th>\n",
       "      <th>year</th>\n",
       "      <th>Max</th>\n",
       "      <th>probability</th>\n",
       "      <th>return-years</th>\n",
       "    </tr>\n",
       "    <tr>\n",
       "      <th>Data</th>\n",
       "      <th></th>\n",
       "      <th></th>\n",
       "      <th></th>\n",
       "      <th></th>\n",
       "      <th></th>\n",
       "      <th></th>\n",
       "      <th></th>\n",
       "      <th></th>\n",
       "      <th></th>\n",
       "      <th></th>\n",
       "      <th></th>\n",
       "      <th></th>\n",
       "    </tr>\n",
       "  </thead>\n",
       "  <tbody>\n",
       "    <tr>\n",
       "      <th>1964-08-12</th>\n",
       "      <td>21365</td>\n",
       "      <td>Aforament - Montblanc</td>\n",
       "      <td>EL FRANCOLÍ</td>\n",
       "      <td>347766</td>\n",
       "      <td>4580851</td>\n",
       "      <td>EA028_Montblanc_Cabal riu Francoli</td>\n",
       "      <td>22.1000</td>\n",
       "      <td>m³/s</td>\n",
       "      <td>1964</td>\n",
       "      <td>22.1000</td>\n",
       "      <td>0.08540</td>\n",
       "      <td>11.709589</td>\n",
       "    </tr>\n",
       "    <tr>\n",
       "      <th>1965-10-15</th>\n",
       "      <td>21366</td>\n",
       "      <td>Aforament - Montblanc</td>\n",
       "      <td>EL FRANCOLÍ</td>\n",
       "      <td>347766</td>\n",
       "      <td>4580851</td>\n",
       "      <td>EA028_Montblanc_Cabal riu Francoli</td>\n",
       "      <td>26.5800</td>\n",
       "      <td>m³/s</td>\n",
       "      <td>1965</td>\n",
       "      <td>26.5800</td>\n",
       "      <td>0.06832</td>\n",
       "      <td>14.636986</td>\n",
       "    </tr>\n",
       "    <tr>\n",
       "      <th>1994-10-10</th>\n",
       "      <td>21367</td>\n",
       "      <td>Aforament - Montblanc</td>\n",
       "      <td>EL FRANCOLÍ</td>\n",
       "      <td>347766</td>\n",
       "      <td>4580851</td>\n",
       "      <td>EA028_Montblanc_Cabal riu Francoli</td>\n",
       "      <td>49.8227</td>\n",
       "      <td>m³/s</td>\n",
       "      <td>1994</td>\n",
       "      <td>49.8227</td>\n",
       "      <td>0.05124</td>\n",
       "      <td>19.515982</td>\n",
       "    </tr>\n",
       "    <tr>\n",
       "      <th>1984-09-29</th>\n",
       "      <td>21368</td>\n",
       "      <td>Aforament - Montblanc</td>\n",
       "      <td>EL FRANCOLÍ</td>\n",
       "      <td>347766</td>\n",
       "      <td>4580851</td>\n",
       "      <td>EA028_Montblanc_Cabal riu Francoli</td>\n",
       "      <td>90.0000</td>\n",
       "      <td>m³/s</td>\n",
       "      <td>1984</td>\n",
       "      <td>90.0000</td>\n",
       "      <td>0.03416</td>\n",
       "      <td>29.273973</td>\n",
       "    </tr>\n",
       "    <tr>\n",
       "      <th>1970-10-11</th>\n",
       "      <td>21369</td>\n",
       "      <td>Aforament - Montblanc</td>\n",
       "      <td>EL FRANCOLÍ</td>\n",
       "      <td>347766</td>\n",
       "      <td>4580851</td>\n",
       "      <td>EA028_Montblanc_Cabal riu Francoli</td>\n",
       "      <td>119.8100</td>\n",
       "      <td>m³/s</td>\n",
       "      <td>1970</td>\n",
       "      <td>119.8100</td>\n",
       "      <td>0.01708</td>\n",
       "      <td>58.547945</td>\n",
       "    </tr>\n",
       "  </tbody>\n",
       "</table>\n",
       "</div>"
      ],
      "text/plain": [
       "             rank                Estació        Conca   UTM X    UTM Y  \\\n",
       "Data                                                                     \n",
       "1964-08-12  21365  Aforament - Montblanc  EL FRANCOLÍ  347766  4580851   \n",
       "1965-10-15  21366  Aforament - Montblanc  EL FRANCOLÍ  347766  4580851   \n",
       "1994-10-10  21367  Aforament - Montblanc  EL FRANCOLÍ  347766  4580851   \n",
       "1984-09-29  21368  Aforament - Montblanc  EL FRANCOLÍ  347766  4580851   \n",
       "1970-10-11  21369  Aforament - Montblanc  EL FRANCOLÍ  347766  4580851   \n",
       "\n",
       "                                      Variable   Mitjana Unitat Mesura  year  \\\n",
       "Data                                                                           \n",
       "1964-08-12  EA028_Montblanc_Cabal riu Francoli   22.1000          m³/s  1964   \n",
       "1965-10-15  EA028_Montblanc_Cabal riu Francoli   26.5800          m³/s  1965   \n",
       "1994-10-10  EA028_Montblanc_Cabal riu Francoli   49.8227          m³/s  1994   \n",
       "1984-09-29  EA028_Montblanc_Cabal riu Francoli   90.0000          m³/s  1984   \n",
       "1970-10-11  EA028_Montblanc_Cabal riu Francoli  119.8100          m³/s  1970   \n",
       "\n",
       "                 Max  probability  return-years  \n",
       "Data                                             \n",
       "1964-08-12   22.1000      0.08540     11.709589  \n",
       "1965-10-15   26.5800      0.06832     14.636986  \n",
       "1994-10-10   49.8227      0.05124     19.515982  \n",
       "1984-09-29   90.0000      0.03416     29.273973  \n",
       "1970-10-11  119.8100      0.01708     58.547945  "
      ]
     },
     "execution_count": 26,
     "metadata": {},
     "output_type": "execute_result"
    }
   ],
   "source": [
    "longmont_prob = calculate_return(df_c_d, \"Mitjana\")\n",
    "\n",
    "# Because these data are daily,\n",
    "# divide return period in days by 365 to get a return period in years\n",
    "longmont_prob[\"return-years\"] = longmont_prob[\"return-years\"] / 365\n",
    "longmont_prob[\"probability\"] = longmont_prob[\"probability\"] * 365\n",
    "longmont_prob.tail()"
   ]
  },
  {
   "cell_type": "markdown",
   "id": "54b72c2c",
   "metadata": {},
   "source": [
    "# Plot Event Probability"
   ]
  },
  {
   "cell_type": "code",
   "execution_count": 32,
   "id": "e003855d",
   "metadata": {
    "scrolled": true
   },
   "outputs": [
    {
     "data": {
      "image/png": "[encoded data removed]",
      "text/plain": [
       "<Figure size 792x432 with 1 Axes>"
      ]
     },
     "metadata": {
      "needs_background": "light"
     },
     "output_type": "display_data"
    }
   ],
   "source": [
    "# Compare both datasets\n",
    "fig, ax = plt.subplots(figsize=(11, 6))\n",
    "\n",
    "longmont_prob.plot.scatter(y=\"probability\",\n",
    "                           x=\"Mitjana\",\n",
    "                           title=\"Probability \",\n",
    "                           ax=ax,\n",
    "                           color='grey',\n",
    "                           fontsize=16,\n",
    "                           logy=True,\n",
    "                           label=\"Daily Mean Calculated\")\n",
    "ax.legend(frameon=True,\n",
    "          framealpha=1)\n",
    "\n",
    "ax.set_ylabel(\"Probability\")\n",
    "ax.set_xlabel(\"Discharge Value (M3/s)\")\n",
    "ax.set_title(\n",
    "    \"Probability of Discharge Events \\n  Annual Max Data Compared to Daily Mean Calculated Annual Max\")\n",
    "\n",
    "plt.ylim( ymin = 0.01)\n",
    "plt.show()"
   ]
  },
  {
   "cell_type": "markdown",
   "id": "1fbae450",
   "metadata": {},
   "source": [
    "## Plot Stream Discharge Return Period\n",
    "And then you plot steram dicharge vs return period. This plot shows you the frequency in years that you can expect an event of any magnitude to occur upon."
   ]
  },
  {
   "cell_type": "code",
   "execution_count": 31,
   "id": "36d47df1",
   "metadata": {},
   "outputs": [
    {
     "data": {
      "image/png": "[encoded data removed]",
      "text/plain": [
       "<Figure size 792x432 with 1 Axes>"
      ]
     },
     "metadata": {
      "needs_background": "light"
     },
     "output_type": "display_data"
    }
   ],
   "source": [
    "fig, ax = plt.subplots(figsize=(11, 6))\n",
    "\n",
    "longmont_prob.plot.scatter(y=\"Mitjana\",\n",
    "                           x=\"return-years\",\n",
    "                          \n",
    "                           ax=ax,\n",
    "                           color='purple',\n",
    "                           fontsize=16,\n",
    "                           label=\"Daily Mean Calculated\")\n",
    "\n",
    "\n",
    "ax.legend(frameon=True,\n",
    "          framealpha=1)\n",
    "\n",
    "ax.set_xlabel(\"Return Period (Years)\")\n",
    "ax.set_ylabel(\"Discharge Value (M3/s)\")\n",
    "\n",
    "plt.show()"
   ]
  },
  {
   "cell_type": "code",
   "execution_count": null,
   "id": "59b04dc8",
   "metadata": {},
   "outputs": [],
   "source": []
  }
 ],
 "metadata": {
  "kernelspec": {
   "display_name": "Python 3",
   "language": "python",
   "name": "python3"
  },
  "language_info": {
   "codemirror_mode": {
    "name": "ipython",
    "version": 3
   },
   "file_extension": ".py",
   "mimetype": "text/x-python",
   "name": "python",
   "nbconvert_exporter": "python",
   "pygments_lexer": "ipython3",
   "version": "3.9.4"
  }
 },
 "nbformat": 4,
 "nbformat_minor": 5
}
