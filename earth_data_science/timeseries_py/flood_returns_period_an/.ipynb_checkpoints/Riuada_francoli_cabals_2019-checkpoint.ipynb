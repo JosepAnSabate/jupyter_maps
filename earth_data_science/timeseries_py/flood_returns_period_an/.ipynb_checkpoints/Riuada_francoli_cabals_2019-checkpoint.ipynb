{
 "cells": [
  {
   "cell_type": "code",
   "execution_count": 1,
   "id": "ac49ff67",
   "metadata": {
    "scrolled": true
   },
   "outputs": [
    {
     "name": "stdout",
     "output_type": "stream",
     "text": [
      "Requirement already satisfied: xlrd in c:\\users\\34639\\anaconda3\\envs\\geo_env\\lib\\site-packages (2.0.1)\n"
     ]
    }
   ],
   "source": [
    "! pip install xlrd"
   ]
  },
  {
   "cell_type": "code",
   "execution_count": 35,
   "id": "d5b73974",
   "metadata": {},
   "outputs": [],
   "source": [
    "import pandas as pd\n",
    "import matplotlib.pyplot as plt\n",
    "import seaborn as sns\n",
    "\n",
    "# Date time conversion registration\n",
    "from pandas.plotting import register_matplotlib_converters\n",
    "register_matplotlib_converters()\n",
    "\n",
    "# Prettier plotting with seaborn\n",
    "sns.set(font_scale=1.5, style=\"whitegrid\")\n",
    "\n",
    "%matplotlib inline"
   ]
  },
  {
   "cell_type": "markdown",
   "id": "c6fc16e3",
   "metadata": {},
   "source": [
    "## Read xlsx"
   ]
  },
  {
   "cell_type": "code",
   "execution_count": 36,
   "id": "a97d3d66",
   "metadata": {
    "scrolled": true
   },
   "outputs": [],
   "source": [
    "# index has to be uniques values\n",
    "df_c = pd.read_excel('C:/capes_sql/riuada/aca_riuada.xlsx',                                     \n",
    "                                    skiprows=[0,1,2,3,4,5,6],\n",
    "                                    parse_dates=['Data'],                                     \n",
    "                                     )\n",
    "df_c = df_c.drop(columns=['Unnamed: 0','Unnamed: 3','Unnamed: 5','Unnamed: 11','Unnamed: 12', 'Unnamed: 13', 'Unnamed: 14','Unnamed: 15', 'Unnamed: 16', 'Unnamed: 17','Unnamed: 18','Unnamed: 19','Unnamed: 20','Unnamed: 21','Unnamed: 22','Unnamed: 23','Unnamed: 24','Unnamed: 25'])                  "
   ]
  },
  {
   "cell_type": "code",
   "execution_count": 37,
   "id": "fdd7492b",
   "metadata": {},
   "outputs": [
    {
     "data": {
      "text/html": [
       "<div>\n",
       "<style scoped>\n",
       "    .dataframe tbody tr th:only-of-type {\n",
       "        vertical-align: middle;\n",
       "    }\n",
       "\n",
       "    .dataframe tbody tr th {\n",
       "        vertical-align: top;\n",
       "    }\n",
       "\n",
       "    .dataframe thead th {\n",
       "        text-align: right;\n",
       "    }\n",
       "</style>\n",
       "<table border=\"1\" class=\"dataframe\">\n",
       "  <thead>\n",
       "    <tr style=\"text-align: right;\">\n",
       "      <th></th>\n",
       "      <th>Data</th>\n",
       "      <th>Estació</th>\n",
       "      <th>Conca</th>\n",
       "      <th>UTM X</th>\n",
       "      <th>UTM Y</th>\n",
       "      <th>Variable</th>\n",
       "      <th>Mitjana</th>\n",
       "      <th>Unitat Mesura</th>\n",
       "    </tr>\n",
       "  </thead>\n",
       "  <tbody>\n",
       "    <tr>\n",
       "      <th>0</th>\n",
       "      <td>2019-07-31</td>\n",
       "      <td>Aforament - Montblanc</td>\n",
       "      <td>EL FRANCOLÍ</td>\n",
       "      <td>347766</td>\n",
       "      <td>4580851</td>\n",
       "      <td>EA028_Montblanc_Cabal riu Francoli</td>\n",
       "      <td>0.0526</td>\n",
       "      <td>m³/s</td>\n",
       "    </tr>\n",
       "    <tr>\n",
       "      <th>1</th>\n",
       "      <td>2019-07-31</td>\n",
       "      <td>Aforament - Montblanc</td>\n",
       "      <td>EL FRANCOLÍ</td>\n",
       "      <td>347766</td>\n",
       "      <td>4580851</td>\n",
       "      <td>EA028_Montblanc_Nivell riu Francoli</td>\n",
       "      <td>0.0452</td>\n",
       "      <td>m</td>\n",
       "    </tr>\n",
       "    <tr>\n",
       "      <th>2</th>\n",
       "      <td>2019-08-01</td>\n",
       "      <td>Aforament - Montblanc</td>\n",
       "      <td>EL FRANCOLÍ</td>\n",
       "      <td>347766</td>\n",
       "      <td>4580851</td>\n",
       "      <td>EA028_Montblanc_Cabal riu Francoli</td>\n",
       "      <td>0.0553</td>\n",
       "      <td>m³/s</td>\n",
       "    </tr>\n",
       "  </tbody>\n",
       "</table>\n",
       "</div>"
      ],
      "text/plain": [
       "        Data                Estació        Conca   UTM X    UTM Y  \\\n",
       "0 2019-07-31  Aforament - Montblanc  EL FRANCOLÍ  347766  4580851   \n",
       "1 2019-07-31  Aforament - Montblanc  EL FRANCOLÍ  347766  4580851   \n",
       "2 2019-08-01  Aforament - Montblanc  EL FRANCOLÍ  347766  4580851   \n",
       "\n",
       "                              Variable  Mitjana Unitat Mesura  \n",
       "0   EA028_Montblanc_Cabal riu Francoli   0.0526          m³/s  \n",
       "1  EA028_Montblanc_Nivell riu Francoli   0.0452             m  \n",
       "2   EA028_Montblanc_Cabal riu Francoli   0.0553          m³/s  "
      ]
     },
     "execution_count": 37,
     "metadata": {},
     "output_type": "execute_result"
    }
   ],
   "source": [
    "df_c.head(3)"
   ]
  },
  {
   "cell_type": "markdown",
   "id": "956c589b",
   "metadata": {},
   "source": [
    "### Drop height values"
   ]
  },
  {
   "cell_type": "code",
   "execution_count": 38,
   "id": "89cad757",
   "metadata": {},
   "outputs": [],
   "source": [
    "# get names of indexes for which\n",
    "height = df_c[ df_c['Unitat Mesura'] == 'm' ].index"
   ]
  },
  {
   "cell_type": "code",
   "execution_count": 39,
   "id": "6a9f0000",
   "metadata": {},
   "outputs": [
    {
     "data": {
      "text/html": [
       "<div>\n",
       "<style scoped>\n",
       "    .dataframe tbody tr th:only-of-type {\n",
       "        vertical-align: middle;\n",
       "    }\n",
       "\n",
       "    .dataframe tbody tr th {\n",
       "        vertical-align: top;\n",
       "    }\n",
       "\n",
       "    .dataframe thead th {\n",
       "        text-align: right;\n",
       "    }\n",
       "</style>\n",
       "<table border=\"1\" class=\"dataframe\">\n",
       "  <thead>\n",
       "    <tr style=\"text-align: right;\">\n",
       "      <th></th>\n",
       "      <th>Data</th>\n",
       "      <th>Estació</th>\n",
       "      <th>Conca</th>\n",
       "      <th>UTM X</th>\n",
       "      <th>UTM Y</th>\n",
       "      <th>Variable</th>\n",
       "      <th>Mitjana</th>\n",
       "      <th>Unitat Mesura</th>\n",
       "    </tr>\n",
       "  </thead>\n",
       "  <tbody>\n",
       "    <tr>\n",
       "      <th>160</th>\n",
       "      <td>2019-10-19</td>\n",
       "      <td>Aforament - Montblanc</td>\n",
       "      <td>EL FRANCOLÍ</td>\n",
       "      <td>347766</td>\n",
       "      <td>4580851</td>\n",
       "      <td>EA028_Montblanc_Cabal riu Francoli</td>\n",
       "      <td>0.037600</td>\n",
       "      <td>m³/s</td>\n",
       "    </tr>\n",
       "    <tr>\n",
       "      <th>162</th>\n",
       "      <td>2019-10-20</td>\n",
       "      <td>Aforament - Montblanc</td>\n",
       "      <td>EL FRANCOLÍ</td>\n",
       "      <td>347766</td>\n",
       "      <td>4580851</td>\n",
       "      <td>EA028_Montblanc_Cabal riu Francoli</td>\n",
       "      <td>0.064600</td>\n",
       "      <td>m³/s</td>\n",
       "    </tr>\n",
       "    <tr>\n",
       "      <th>164</th>\n",
       "      <td>2019-10-21</td>\n",
       "      <td>Aforament - Montblanc</td>\n",
       "      <td>EL FRANCOLÍ</td>\n",
       "      <td>347766</td>\n",
       "      <td>4580851</td>\n",
       "      <td>EA028_Montblanc_Cabal riu Francoli</td>\n",
       "      <td>0.064417</td>\n",
       "      <td>m³/s</td>\n",
       "    </tr>\n",
       "    <tr>\n",
       "      <th>166</th>\n",
       "      <td>2019-10-22</td>\n",
       "      <td>Aforament - Montblanc</td>\n",
       "      <td>EL FRANCOLÍ</td>\n",
       "      <td>347766</td>\n",
       "      <td>4580851</td>\n",
       "      <td>EA028_Montblanc_Cabal riu Francoli</td>\n",
       "      <td>1.252800</td>\n",
       "      <td>m³/s</td>\n",
       "    </tr>\n",
       "    <tr>\n",
       "      <th>168</th>\n",
       "      <td>2019-10-23</td>\n",
       "      <td>Aforament - Montblanc</td>\n",
       "      <td>EL FRANCOLÍ</td>\n",
       "      <td>347766</td>\n",
       "      <td>4580851</td>\n",
       "      <td>EA028_Montblanc_Cabal riu Francoli</td>\n",
       "      <td>0.000000</td>\n",
       "      <td>m³/s</td>\n",
       "    </tr>\n",
       "  </tbody>\n",
       "</table>\n",
       "</div>"
      ],
      "text/plain": [
       "          Data                Estació        Conca   UTM X    UTM Y  \\\n",
       "160 2019-10-19  Aforament - Montblanc  EL FRANCOLÍ  347766  4580851   \n",
       "162 2019-10-20  Aforament - Montblanc  EL FRANCOLÍ  347766  4580851   \n",
       "164 2019-10-21  Aforament - Montblanc  EL FRANCOLÍ  347766  4580851   \n",
       "166 2019-10-22  Aforament - Montblanc  EL FRANCOLÍ  347766  4580851   \n",
       "168 2019-10-23  Aforament - Montblanc  EL FRANCOLÍ  347766  4580851   \n",
       "\n",
       "                               Variable   Mitjana Unitat Mesura  \n",
       "160  EA028_Montblanc_Cabal riu Francoli  0.037600          m³/s  \n",
       "162  EA028_Montblanc_Cabal riu Francoli  0.064600          m³/s  \n",
       "164  EA028_Montblanc_Cabal riu Francoli  0.064417          m³/s  \n",
       "166  EA028_Montblanc_Cabal riu Francoli  1.252800          m³/s  \n",
       "168  EA028_Montblanc_Cabal riu Francoli  0.000000          m³/s  "
      ]
     },
     "execution_count": 39,
     "metadata": {},
     "output_type": "execute_result"
    }
   ],
   "source": [
    "df_c.drop(height, inplace = True)\n",
    "df_c.tail()"
   ]
  },
  {
   "cell_type": "code",
   "execution_count": 40,
   "id": "56d80aaf",
   "metadata": {},
   "outputs": [
    {
     "name": "stdout",
     "output_type": "stream",
     "text": [
      "<class 'pandas.core.frame.DataFrame'>\n",
      "Int64Index: 85 entries, 0 to 168\n",
      "Data columns (total 8 columns):\n",
      " #   Column         Non-Null Count  Dtype         \n",
      "---  ------         --------------  -----         \n",
      " 0   Data           85 non-null     datetime64[ns]\n",
      " 1   Estació        85 non-null     object        \n",
      " 2   Conca          85 non-null     object        \n",
      " 3   UTM X          85 non-null     int64         \n",
      " 4   UTM Y          85 non-null     int64         \n",
      " 5   Variable       85 non-null     object        \n",
      " 6   Mitjana        85 non-null     float64       \n",
      " 7   Unitat Mesura  85 non-null     object        \n",
      "dtypes: datetime64[ns](1), float64(1), int64(2), object(4)\n",
      "memory usage: 6.0+ KB\n"
     ]
    }
   ],
   "source": [
    "df_c.info()"
   ]
  },
  {
   "cell_type": "code",
   "execution_count": 41,
   "id": "5cd09c2d",
   "metadata": {},
   "outputs": [
    {
     "data": {
      "text/html": [
       "<div>\n",
       "<style scoped>\n",
       "    .dataframe tbody tr th:only-of-type {\n",
       "        vertical-align: middle;\n",
       "    }\n",
       "\n",
       "    .dataframe tbody tr th {\n",
       "        vertical-align: top;\n",
       "    }\n",
       "\n",
       "    .dataframe thead th {\n",
       "        text-align: right;\n",
       "    }\n",
       "</style>\n",
       "<table border=\"1\" class=\"dataframe\">\n",
       "  <thead>\n",
       "    <tr style=\"text-align: right;\">\n",
       "      <th></th>\n",
       "      <th>UTM X</th>\n",
       "      <th>UTM Y</th>\n",
       "      <th>Mitjana</th>\n",
       "    </tr>\n",
       "  </thead>\n",
       "  <tbody>\n",
       "    <tr>\n",
       "      <th>count</th>\n",
       "      <td>85.0</td>\n",
       "      <td>85.0</td>\n",
       "      <td>85.000000</td>\n",
       "    </tr>\n",
       "    <tr>\n",
       "      <th>mean</th>\n",
       "      <td>347766.0</td>\n",
       "      <td>4580851.0</td>\n",
       "      <td>0.069892</td>\n",
       "    </tr>\n",
       "    <tr>\n",
       "      <th>std</th>\n",
       "      <td>0.0</td>\n",
       "      <td>0.0</td>\n",
       "      <td>0.131768</td>\n",
       "    </tr>\n",
       "    <tr>\n",
       "      <th>min</th>\n",
       "      <td>347766.0</td>\n",
       "      <td>4580851.0</td>\n",
       "      <td>0.000000</td>\n",
       "    </tr>\n",
       "    <tr>\n",
       "      <th>25%</th>\n",
       "      <td>347766.0</td>\n",
       "      <td>4580851.0</td>\n",
       "      <td>0.047600</td>\n",
       "    </tr>\n",
       "    <tr>\n",
       "      <th>50%</th>\n",
       "      <td>347766.0</td>\n",
       "      <td>4580851.0</td>\n",
       "      <td>0.054200</td>\n",
       "    </tr>\n",
       "    <tr>\n",
       "      <th>75%</th>\n",
       "      <td>347766.0</td>\n",
       "      <td>4580851.0</td>\n",
       "      <td>0.058900</td>\n",
       "    </tr>\n",
       "    <tr>\n",
       "      <th>max</th>\n",
       "      <td>347766.0</td>\n",
       "      <td>4580851.0</td>\n",
       "      <td>1.252800</td>\n",
       "    </tr>\n",
       "  </tbody>\n",
       "</table>\n",
       "</div>"
      ],
      "text/plain": [
       "          UTM X      UTM Y    Mitjana\n",
       "count      85.0       85.0  85.000000\n",
       "mean   347766.0  4580851.0   0.069892\n",
       "std         0.0        0.0   0.131768\n",
       "min    347766.0  4580851.0   0.000000\n",
       "25%    347766.0  4580851.0   0.047600\n",
       "50%    347766.0  4580851.0   0.054200\n",
       "75%    347766.0  4580851.0   0.058900\n",
       "max    347766.0  4580851.0   1.252800"
      ]
     },
     "execution_count": 41,
     "metadata": {},
     "output_type": "execute_result"
    }
   ],
   "source": [
    "df_c.describe()"
   ]
  },
  {
   "cell_type": "code",
   "execution_count": 42,
   "id": "8b602e93",
   "metadata": {},
   "outputs": [
    {
     "data": {
      "text/plain": [
       "Data             85\n",
       "Estació          85\n",
       "Conca            85\n",
       "UTM X            85\n",
       "UTM Y            85\n",
       "Variable         85\n",
       "Mitjana          85\n",
       "Unitat Mesura    85\n",
       "dtype: int64"
      ]
     },
     "execution_count": 42,
     "metadata": {},
     "output_type": "execute_result"
    }
   ],
   "source": [
    "#count no null values\n",
    "df_c.dropna().count()"
   ]
  },
  {
   "cell_type": "code",
   "execution_count": 43,
   "id": "a6aeafce",
   "metadata": {},
   "outputs": [
    {
     "data": {
      "text/plain": [
       "85"
      ]
     },
     "execution_count": 43,
     "metadata": {},
     "output_type": "execute_result"
    }
   ],
   "source": [
    "#count values\n",
    "len(df_c)"
   ]
  },
  {
   "cell_type": "code",
   "execution_count": 44,
   "id": "9d421608",
   "metadata": {},
   "outputs": [
    {
     "data": {
      "text/html": [
       "<div>\n",
       "<style scoped>\n",
       "    .dataframe tbody tr th:only-of-type {\n",
       "        vertical-align: middle;\n",
       "    }\n",
       "\n",
       "    .dataframe tbody tr th {\n",
       "        vertical-align: top;\n",
       "    }\n",
       "\n",
       "    .dataframe thead th {\n",
       "        text-align: right;\n",
       "    }\n",
       "</style>\n",
       "<table border=\"1\" class=\"dataframe\">\n",
       "  <thead>\n",
       "    <tr style=\"text-align: right;\">\n",
       "      <th></th>\n",
       "      <th>Estació</th>\n",
       "      <th>Conca</th>\n",
       "      <th>UTM X</th>\n",
       "      <th>UTM Y</th>\n",
       "      <th>Variable</th>\n",
       "      <th>Mitjana</th>\n",
       "      <th>Unitat Mesura</th>\n",
       "    </tr>\n",
       "    <tr>\n",
       "      <th>Data</th>\n",
       "      <th></th>\n",
       "      <th></th>\n",
       "      <th></th>\n",
       "      <th></th>\n",
       "      <th></th>\n",
       "      <th></th>\n",
       "      <th></th>\n",
       "    </tr>\n",
       "  </thead>\n",
       "  <tbody>\n",
       "    <tr>\n",
       "      <th>2019-07-31</th>\n",
       "      <td>Aforament - Montblanc</td>\n",
       "      <td>EL FRANCOLÍ</td>\n",
       "      <td>347766</td>\n",
       "      <td>4580851</td>\n",
       "      <td>EA028_Montblanc_Cabal riu Francoli</td>\n",
       "      <td>0.0526</td>\n",
       "      <td>m³/s</td>\n",
       "    </tr>\n",
       "    <tr>\n",
       "      <th>2019-08-01</th>\n",
       "      <td>Aforament - Montblanc</td>\n",
       "      <td>EL FRANCOLÍ</td>\n",
       "      <td>347766</td>\n",
       "      <td>4580851</td>\n",
       "      <td>EA028_Montblanc_Cabal riu Francoli</td>\n",
       "      <td>0.0553</td>\n",
       "      <td>m³/s</td>\n",
       "    </tr>\n",
       "  </tbody>\n",
       "</table>\n",
       "</div>"
      ],
      "text/plain": [
       "                          Estació        Conca   UTM X    UTM Y  \\\n",
       "Data                                                              \n",
       "2019-07-31  Aforament - Montblanc  EL FRANCOLÍ  347766  4580851   \n",
       "2019-08-01  Aforament - Montblanc  EL FRANCOLÍ  347766  4580851   \n",
       "\n",
       "                                      Variable  Mitjana Unitat Mesura  \n",
       "Data                                                                   \n",
       "2019-07-31  EA028_Montblanc_Cabal riu Francoli   0.0526          m³/s  \n",
       "2019-08-01  EA028_Montblanc_Cabal riu Francoli   0.0553          m³/s  "
      ]
     },
     "execution_count": 44,
     "metadata": {},
     "output_type": "execute_result"
    }
   ],
   "source": [
    "#data as index\n",
    "df_c = df_c.set_index('Data')\n",
    "df_c.head(2)"
   ]
  },
  {
   "cell_type": "markdown",
   "id": "6fd72ec7",
   "metadata": {},
   "source": [
    "## Plot the data"
   ]
  },
  {
   "cell_type": "code",
   "execution_count": 45,
   "id": "c84aabe2",
   "metadata": {},
   "outputs": [
    {
     "data": {
      "image/png": "[encoded data removed]",
      "text/plain": [
       "<Figure size 792x432 with 1 Axes>"
      ]
     },
     "metadata": {
      "needs_background": "light"
     },
     "output_type": "display_data"
    }
   ],
   "source": [
    "# Plot using matplotlib\n",
    "fig, ax = plt.subplots(figsize=(11, 6))\n",
    "\n",
    "ax.scatter(x=df_c.index,\n",
    "           y=df_c[\"Mitjana\"],\n",
    "           marker=\"o\",# o points x x marks\n",
    "           s=15,#size markers\n",
    "           color=\"purple\",\n",
    "           )\n",
    "\n",
    "ax.set(xlabel=\"Date\", ylabel=\"Discharge Value (m3/s)\",\n",
    "       title=\"Mean Daily stream Discharge - Station Pont de la fusta \\n 2019-07-31 to 2019/10/23\")\n",
    "\n",
    "plt.show()"
   ]
  },
  {
   "cell_type": "code",
   "execution_count": null,
   "id": "cb112740",
   "metadata": {},
   "outputs": [],
   "source": []
  }
 ],
 "metadata": {
  "kernelspec": {
   "display_name": "Python 3",
   "language": "python",
   "name": "python3"
  },
  "language_info": {
   "codemirror_mode": {
    "name": "ipython",
    "version": 3
   },
   "file_extension": ".py",
   "mimetype": "text/x-python",
   "name": "python",
   "nbconvert_exporter": "python",
   "pygments_lexer": "ipython3",
   "version": "3.9.4"
  }
 },
 "nbformat": 4,
 "nbformat_minor": 5
}
