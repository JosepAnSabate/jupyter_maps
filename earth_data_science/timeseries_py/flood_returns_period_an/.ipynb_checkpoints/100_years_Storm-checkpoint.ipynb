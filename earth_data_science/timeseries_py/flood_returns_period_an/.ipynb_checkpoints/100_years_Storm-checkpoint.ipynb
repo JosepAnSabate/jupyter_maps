{
 "cells": [
  {
   "cell_type": "markdown",
   "id": "b035b1bd",
   "metadata": {},
   "source": [
    "**Does a 100-year storm always cause a 100-year flood?**\n",
    "\n",
    "No. Several factors can independently influence the cause-and-effect relation between rainfall and streamflow.\n",
    "\n",
    "Extent of rainfall in the watershed: When rainfall data are collected at a point within a stream basin, it is highly unlikely that this same amount of rainfall occurred uniformly throughout the entire basin. During intensely localized storms, rainfall amounts throughout the basin can differ greatly from the rainfall amount measured at the location of the rain gage. Some parts of the basin may even remain dry, supplying no additional runoff to the streamflow and lessening the impact of the storm."
   ]
  },
  {
   "cell_type": "markdown",
   "id": "aa420cc4",
   "metadata": {},
   "source": [
    "Soil saturation before the storm: Existing conditions prior to the storm can influence the amount of stormwater runoff into the stream system. Dry soil allows greater infiltration of rainfall and reduces the amount of runoff entering the stream. Conversely, soil that is already wet from previous rains has a lower capacity for infiltration, allowing more runoff to enter the stream.\n",
    "\n",
    "Relation between the size of the watershed and duration of the storm: Another factor to consider is the relation between the duration of the storm and the size of the stream basin in which the storm occurs. For example, a 100-year storm of 30-minutes duration in a 1-square-mile (mi2) basin will have a more significant effect on streamflow than the same storm in a 50-mi2 basin. Generally, streams with larger drainage areas require storms of longer duration for a significant increase in streamflow to occur. These and other factors determine whether or not a 100-year storm will produce a 100-year flood."
   ]
  },
  {
   "cell_type": "code",
   "execution_count": null,
   "id": "065b2b0d",
   "metadata": {},
   "outputs": [],
   "source": []
  }
 ],
 "metadata": {
  "kernelspec": {
   "display_name": "Python 3",
   "language": "python",
   "name": "python3"
  },
  "language_info": {
   "codemirror_mode": {
    "name": "ipython",
    "version": 3
   },
   "file_extension": ".py",
   "mimetype": "text/x-python",
   "name": "python",
   "nbconvert_exporter": "python",
   "pygments_lexer": "ipython3",
   "version": "3.9.4"
  }
 },
 "nbformat": 4,
 "nbformat_minor": 5
}
