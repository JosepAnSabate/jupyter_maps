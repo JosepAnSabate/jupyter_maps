{
 "cells": [
  {
   "cell_type": "markdown",
   "id": "b50f7eb5",
   "metadata": {},
   "source": [
    "Periodo de retorno:  probabilidad de que se presente un caudal\n",
    "de avenida igual o superior en un determinado año, es decir, la probabilidad de que se\n",
    "supere el caudal en un año. Por ejemplo, para un periodo de retorno de 100 años, esa\n",
    "probabilidad F(x) = 1/T = 1/100 = 0.01 = 1%. Es decir, existe un 1% de probabilidad\n",
    "de que un año se supere ese valor de caudal y un 99% de probabilidad de que no se\n",
    "supere."
   ]
  },
  {
   "cell_type": "code",
   "execution_count": 2,
   "id": "80ed0da6",
   "metadata": {},
   "outputs": [],
   "source": [
    "import pandas as pd\n",
    "import matplotlib.pyplot as plt\n",
    "import seaborn as sns\n",
    "\n",
    "# Date time conversion registration\n",
    "from pandas.plotting import register_matplotlib_converters\n",
    "register_matplotlib_converters()\n",
    "\n",
    "# Prettier plotting with seaborn\n",
    "sns.set(font_scale=1.5, style=\"whitegrid\")\n",
    "\n",
    "%matplotlib inline"
   ]
  },
  {
   "cell_type": "markdown",
   "id": "9c5d004c",
   "metadata": {},
   "source": [
    "## Data: http://aca-web.gencat.cat/sdim21\n",
    "\n",
    "### Cabal Mitjà diari"
   ]
  },
  {
   "cell_type": "markdown",
   "id": "28ea8b94",
   "metadata": {},
   "source": [
    "# Francolí cabals 1960-2006"
   ]
  },
  {
   "cell_type": "code",
   "execution_count": 3,
   "id": "03030096",
   "metadata": {},
   "outputs": [],
   "source": [
    "# index has to be uniques values\n",
    "df_c = pd.read_excel('C:/capes_sql/riuada/aca_tarragona_1960_2006.xlsx',                                     \n",
    "                                    skiprows=[0,1,2,3,4,5,6],\n",
    "                                    parse_dates=['Data'],                                     \n",
    "                                     )\n",
    "df_c = df_c.drop(columns=['Unnamed: 0','Unnamed: 3','Unnamed: 5','Unnamed: 11']) "
   ]
  },
  {
   "cell_type": "code",
   "execution_count": 4,
   "id": "5f08ca8d",
   "metadata": {},
   "outputs": [],
   "source": [
    "#data as index\n",
    "df_c = df_c.set_index('Data')"
   ]
  },
  {
   "cell_type": "code",
   "execution_count": 5,
   "id": "2625482b",
   "metadata": {},
   "outputs": [
    {
     "data": {
      "text/html": [
       "<div>\n",
       "<style scoped>\n",
       "    .dataframe tbody tr th:only-of-type {\n",
       "        vertical-align: middle;\n",
       "    }\n",
       "\n",
       "    .dataframe tbody tr th {\n",
       "        vertical-align: top;\n",
       "    }\n",
       "\n",
       "    .dataframe thead th {\n",
       "        text-align: right;\n",
       "    }\n",
       "</style>\n",
       "<table border=\"1\" class=\"dataframe\">\n",
       "  <thead>\n",
       "    <tr style=\"text-align: right;\">\n",
       "      <th></th>\n",
       "      <th>Estació</th>\n",
       "      <th>Conca</th>\n",
       "      <th>UTM X</th>\n",
       "      <th>UTM Y</th>\n",
       "      <th>Variable</th>\n",
       "      <th>Mitjana</th>\n",
       "      <th>Unitat Mesura</th>\n",
       "    </tr>\n",
       "    <tr>\n",
       "      <th>Data</th>\n",
       "      <th></th>\n",
       "      <th></th>\n",
       "      <th></th>\n",
       "      <th></th>\n",
       "      <th></th>\n",
       "      <th></th>\n",
       "      <th></th>\n",
       "    </tr>\n",
       "  </thead>\n",
       "  <tbody>\n",
       "    <tr>\n",
       "      <th>2006-12-27</th>\n",
       "      <td>Aforament - Tarragona</td>\n",
       "      <td>EL FRANCOLÍ</td>\n",
       "      <td>351999</td>\n",
       "      <td>4556773</td>\n",
       "      <td>EA079_Tarragona_Cabal riu Francoli</td>\n",
       "      <td>0.2443</td>\n",
       "      <td>m³/s</td>\n",
       "    </tr>\n",
       "    <tr>\n",
       "      <th>2006-12-28</th>\n",
       "      <td>Aforament - Tarragona</td>\n",
       "      <td>EL FRANCOLÍ</td>\n",
       "      <td>351999</td>\n",
       "      <td>4556773</td>\n",
       "      <td>EA079_Tarragona_Cabal riu Francoli</td>\n",
       "      <td>0.2460</td>\n",
       "      <td>m³/s</td>\n",
       "    </tr>\n",
       "    <tr>\n",
       "      <th>2006-12-29</th>\n",
       "      <td>Aforament - Tarragona</td>\n",
       "      <td>EL FRANCOLÍ</td>\n",
       "      <td>351999</td>\n",
       "      <td>4556773</td>\n",
       "      <td>EA079_Tarragona_Cabal riu Francoli</td>\n",
       "      <td>0.2188</td>\n",
       "      <td>m³/s</td>\n",
       "    </tr>\n",
       "    <tr>\n",
       "      <th>2006-12-30</th>\n",
       "      <td>Aforament - Tarragona</td>\n",
       "      <td>EL FRANCOLÍ</td>\n",
       "      <td>351999</td>\n",
       "      <td>4556773</td>\n",
       "      <td>EA079_Tarragona_Cabal riu Francoli</td>\n",
       "      <td>0.1831</td>\n",
       "      <td>m³/s</td>\n",
       "    </tr>\n",
       "    <tr>\n",
       "      <th>2006-12-31</th>\n",
       "      <td>Aforament - Tarragona</td>\n",
       "      <td>EL FRANCOLÍ</td>\n",
       "      <td>351999</td>\n",
       "      <td>4556773</td>\n",
       "      <td>EA079_Tarragona_Cabal riu Francoli</td>\n",
       "      <td>0.1731</td>\n",
       "      <td>m³/s</td>\n",
       "    </tr>\n",
       "  </tbody>\n",
       "</table>\n",
       "</div>"
      ],
      "text/plain": [
       "                          Estació        Conca   UTM X    UTM Y  \\\n",
       "Data                                                              \n",
       "2006-12-27  Aforament - Tarragona  EL FRANCOLÍ  351999  4556773   \n",
       "2006-12-28  Aforament - Tarragona  EL FRANCOLÍ  351999  4556773   \n",
       "2006-12-29  Aforament - Tarragona  EL FRANCOLÍ  351999  4556773   \n",
       "2006-12-30  Aforament - Tarragona  EL FRANCOLÍ  351999  4556773   \n",
       "2006-12-31  Aforament - Tarragona  EL FRANCOLÍ  351999  4556773   \n",
       "\n",
       "                                      Variable  Mitjana Unitat Mesura  \n",
       "Data                                                                   \n",
       "2006-12-27  EA079_Tarragona_Cabal riu Francoli   0.2443          m³/s  \n",
       "2006-12-28  EA079_Tarragona_Cabal riu Francoli   0.2460          m³/s  \n",
       "2006-12-29  EA079_Tarragona_Cabal riu Francoli   0.2188          m³/s  \n",
       "2006-12-30  EA079_Tarragona_Cabal riu Francoli   0.1831          m³/s  \n",
       "2006-12-31  EA079_Tarragona_Cabal riu Francoli   0.1731          m³/s  "
      ]
     },
     "execution_count": 5,
     "metadata": {},
     "output_type": "execute_result"
    }
   ],
   "source": [
    "df_c.tail()"
   ]
  },
  {
   "cell_type": "markdown",
   "id": "22264086",
   "metadata": {},
   "source": [
    "### Data avaluation"
   ]
  },
  {
   "cell_type": "code",
   "execution_count": 6,
   "id": "7d55ad64",
   "metadata": {},
   "outputs": [
    {
     "data": {
      "text/plain": [
       "Estació          11778\n",
       "Conca            11778\n",
       "UTM X            11778\n",
       "UTM Y            11778\n",
       "Variable         11778\n",
       "Mitjana          11778\n",
       "Unitat Mesura    11778\n",
       "dtype: int64"
      ]
     },
     "execution_count": 6,
     "metadata": {},
     "output_type": "execute_result"
    }
   ],
   "source": [
    "#count no null values\n",
    "df_c.dropna().count()"
   ]
  },
  {
   "cell_type": "code",
   "execution_count": 7,
   "id": "62aca6d0",
   "metadata": {},
   "outputs": [
    {
     "data": {
      "text/plain": [
       "11778"
      ]
     },
     "execution_count": 7,
     "metadata": {},
     "output_type": "execute_result"
    }
   ],
   "source": [
    "#count values\n",
    "len(df_c)"
   ]
  },
  {
   "cell_type": "markdown",
   "id": "fec9d98b",
   "metadata": {},
   "source": [
    "## Plot the data"
   ]
  },
  {
   "cell_type": "code",
   "execution_count": 8,
   "id": "8189f539",
   "metadata": {},
   "outputs": [
    {
     "data": {
      "image/png": "[encoded data removed]",
      "text/plain": [
       "<Figure size 792x432 with 1 Axes>"
      ]
     },
     "metadata": {
      "needs_background": "light"
     },
     "output_type": "display_data"
    }
   ],
   "source": [
    "# Plot using matplotlib\n",
    "fig, ax = plt.subplots(figsize=(11, 6))\n",
    "\n",
    "ax.scatter(x=df_c.index,\n",
    "           y=df_c[\"Mitjana\"],\n",
    "           marker=\"o\",# o points x x marks\n",
    "           s=15,#size markers\n",
    "           color=\"purple\",\n",
    "           )\n",
    "\n",
    "ax.set(xlabel=\"Date\", ylabel=\"Discharge Value (m3/s)\",\n",
    "       title=\"Mean Daily stream Discharge - Station Pont de la fusta \\n 1960-01-1 to 2006/12/31\")\n",
    "\n",
    "plt.show()"
   ]
  },
  {
   "cell_type": "markdown",
   "id": "5d40f342",
   "metadata": {},
   "source": [
    "# Francolí cabals 2007- 2021"
   ]
  },
  {
   "cell_type": "code",
   "execution_count": 16,
   "id": "86518cb7",
   "metadata": {},
   "outputs": [],
   "source": [
    "# index has to be uniques values\n",
    "df_c_2007 = pd.read_excel('C:/capes_sql/riuada/aca_tarragona_2006_2021.xlsx',                                     \n",
    "                                    skiprows=[0,1,2,3,4,5,6],\n",
    "                                    parse_dates=['Data'],                                     \n",
    "                                     )\n",
    "df_c_2007 = df_c_2007.drop(columns=['Unnamed: 0','Unnamed: 3','Unnamed: 5','Unnamed: 11']) \n",
    "#data as index\n",
    "\n",
    "df_c_2007 = df_c_2007.set_index('Data')"
   ]
  },
  {
   "cell_type": "code",
   "execution_count": 17,
   "id": "6a177e06",
   "metadata": {},
   "outputs": [
    {
     "data": {
      "text/html": [
       "<div>\n",
       "<style scoped>\n",
       "    .dataframe tbody tr th:only-of-type {\n",
       "        vertical-align: middle;\n",
       "    }\n",
       "\n",
       "    .dataframe tbody tr th {\n",
       "        vertical-align: top;\n",
       "    }\n",
       "\n",
       "    .dataframe thead th {\n",
       "        text-align: right;\n",
       "    }\n",
       "</style>\n",
       "<table border=\"1\" class=\"dataframe\">\n",
       "  <thead>\n",
       "    <tr style=\"text-align: right;\">\n",
       "      <th></th>\n",
       "      <th>Estació</th>\n",
       "      <th>Conca</th>\n",
       "      <th>UTM X</th>\n",
       "      <th>UTM Y</th>\n",
       "      <th>Variable</th>\n",
       "      <th>Mitjana</th>\n",
       "      <th>Unitat Mesura</th>\n",
       "    </tr>\n",
       "    <tr>\n",
       "      <th>Data</th>\n",
       "      <th></th>\n",
       "      <th></th>\n",
       "      <th></th>\n",
       "      <th></th>\n",
       "      <th></th>\n",
       "      <th></th>\n",
       "      <th></th>\n",
       "    </tr>\n",
       "  </thead>\n",
       "  <tbody>\n",
       "    <tr>\n",
       "      <th>2021-07-20</th>\n",
       "      <td>Aforament - Tarragona</td>\n",
       "      <td>EL FRANCOLÍ</td>\n",
       "      <td>351999</td>\n",
       "      <td>4556773</td>\n",
       "      <td>EA079_Tarragona_Cabal riu Francoli</td>\n",
       "      <td>0.0</td>\n",
       "      <td>m³/s</td>\n",
       "    </tr>\n",
       "    <tr>\n",
       "      <th>2021-07-21</th>\n",
       "      <td>Aforament - Tarragona</td>\n",
       "      <td>EL FRANCOLÍ</td>\n",
       "      <td>351999</td>\n",
       "      <td>4556773</td>\n",
       "      <td>EA079_Tarragona_Cabal riu Francoli</td>\n",
       "      <td>0.0</td>\n",
       "      <td>m³/s</td>\n",
       "    </tr>\n",
       "    <tr>\n",
       "      <th>2021-07-22</th>\n",
       "      <td>Aforament - Tarragona</td>\n",
       "      <td>EL FRANCOLÍ</td>\n",
       "      <td>351999</td>\n",
       "      <td>4556773</td>\n",
       "      <td>EA079_Tarragona_Cabal riu Francoli</td>\n",
       "      <td>0.0</td>\n",
       "      <td>m³/s</td>\n",
       "    </tr>\n",
       "    <tr>\n",
       "      <th>2021-07-23</th>\n",
       "      <td>Aforament - Tarragona</td>\n",
       "      <td>EL FRANCOLÍ</td>\n",
       "      <td>351999</td>\n",
       "      <td>4556773</td>\n",
       "      <td>EA079_Tarragona_Cabal riu Francoli</td>\n",
       "      <td>0.0</td>\n",
       "      <td>m³/s</td>\n",
       "    </tr>\n",
       "    <tr>\n",
       "      <th>2021-07-24</th>\n",
       "      <td>Aforament - Tarragona</td>\n",
       "      <td>EL FRANCOLÍ</td>\n",
       "      <td>351999</td>\n",
       "      <td>4556773</td>\n",
       "      <td>EA079_Tarragona_Cabal riu Francoli</td>\n",
       "      <td>0.0</td>\n",
       "      <td>m³/s</td>\n",
       "    </tr>\n",
       "  </tbody>\n",
       "</table>\n",
       "</div>"
      ],
      "text/plain": [
       "                          Estació        Conca   UTM X    UTM Y  \\\n",
       "Data                                                              \n",
       "2021-07-20  Aforament - Tarragona  EL FRANCOLÍ  351999  4556773   \n",
       "2021-07-21  Aforament - Tarragona  EL FRANCOLÍ  351999  4556773   \n",
       "2021-07-22  Aforament - Tarragona  EL FRANCOLÍ  351999  4556773   \n",
       "2021-07-23  Aforament - Tarragona  EL FRANCOLÍ  351999  4556773   \n",
       "2021-07-24  Aforament - Tarragona  EL FRANCOLÍ  351999  4556773   \n",
       "\n",
       "                                      Variable  Mitjana Unitat Mesura  \n",
       "Data                                                                   \n",
       "2021-07-20  EA079_Tarragona_Cabal riu Francoli      0.0          m³/s  \n",
       "2021-07-21  EA079_Tarragona_Cabal riu Francoli      0.0          m³/s  \n",
       "2021-07-22  EA079_Tarragona_Cabal riu Francoli      0.0          m³/s  \n",
       "2021-07-23  EA079_Tarragona_Cabal riu Francoli      0.0          m³/s  \n",
       "2021-07-24  EA079_Tarragona_Cabal riu Francoli      0.0          m³/s  "
      ]
     },
     "execution_count": 17,
     "metadata": {},
     "output_type": "execute_result"
    }
   ],
   "source": [
    "df_c_2007.tail()"
   ]
  },
  {
   "cell_type": "markdown",
   "id": "f3a5215d",
   "metadata": {},
   "source": [
    "### Data avaluation"
   ]
  },
  {
   "cell_type": "code",
   "execution_count": 18,
   "id": "8de876df",
   "metadata": {},
   "outputs": [
    {
     "name": "stdout",
     "output_type": "stream",
     "text": [
      "<class 'pandas.core.frame.DataFrame'>\n",
      "DatetimeIndex: 4430 entries, 2007-01-01 to 2021-07-24\n",
      "Data columns (total 7 columns):\n",
      " #   Column         Non-Null Count  Dtype  \n",
      "---  ------         --------------  -----  \n",
      " 0   Estació        4430 non-null   object \n",
      " 1   Conca          4430 non-null   object \n",
      " 2   UTM X          4430 non-null   int64  \n",
      " 3   UTM Y          4430 non-null   int64  \n",
      " 4   Variable       4430 non-null   object \n",
      " 5   Mitjana        4430 non-null   float64\n",
      " 6   Unitat Mesura  4430 non-null   object \n",
      "dtypes: float64(1), int64(2), object(4)\n",
      "memory usage: 276.9+ KB\n"
     ]
    }
   ],
   "source": [
    "df_c_2007.info()"
   ]
  },
  {
   "cell_type": "code",
   "execution_count": 19,
   "id": "b1acb51e",
   "metadata": {},
   "outputs": [
    {
     "data": {
      "text/plain": [
       "4430"
      ]
     },
     "execution_count": 19,
     "metadata": {},
     "output_type": "execute_result"
    }
   ],
   "source": [
    "#count values\n",
    "len(df_c_2007)"
   ]
  },
  {
   "cell_type": "markdown",
   "id": "1b8fffb5",
   "metadata": {},
   "source": [
    "## Plot the data"
   ]
  },
  {
   "cell_type": "code",
   "execution_count": 20,
   "id": "52f91f37",
   "metadata": {},
   "outputs": [
    {
     "data": {
      "image/png": "[encoded data removed]",
      "text/plain": [
       "<Figure size 792x432 with 1 Axes>"
      ]
     },
     "metadata": {
      "needs_background": "light"
     },
     "output_type": "display_data"
    }
   ],
   "source": [
    "# Plot using matplotlib\n",
    "fig, ax = plt.subplots(figsize=(11, 6))\n",
    "\n",
    "ax.scatter(x=df_c_2007.index,\n",
    "           y=df_c_2007[\"Mitjana\"],\n",
    "           marker=\"o\",# o points x x marks\n",
    "           s=15,#size markers\n",
    "           color=\"purple\",\n",
    "           )\n",
    "\n",
    "ax.set(xlabel=\"Date\", ylabel=\"Discharge Value (m3/s)\",\n",
    "       title=\"Mean Daily stream Discharge - Station Pont de la fusta \\n 2010-01-31 to 2019/10/23\")\n",
    "\n",
    "plt.show()"
   ]
  },
  {
   "cell_type": "markdown",
   "id": "262637db",
   "metadata": {},
   "source": [
    "# Concatenating"
   ]
  },
  {
   "cell_type": "code",
   "execution_count": 21,
   "id": "85195a3b",
   "metadata": {},
   "outputs": [
    {
     "data": {
      "text/html": [
       "<div>\n",
       "<style scoped>\n",
       "    .dataframe tbody tr th:only-of-type {\n",
       "        vertical-align: middle;\n",
       "    }\n",
       "\n",
       "    .dataframe tbody tr th {\n",
       "        vertical-align: top;\n",
       "    }\n",
       "\n",
       "    .dataframe thead th {\n",
       "        text-align: right;\n",
       "    }\n",
       "</style>\n",
       "<table border=\"1\" class=\"dataframe\">\n",
       "  <thead>\n",
       "    <tr style=\"text-align: right;\">\n",
       "      <th></th>\n",
       "      <th>Estació</th>\n",
       "      <th>Conca</th>\n",
       "      <th>UTM X</th>\n",
       "      <th>UTM Y</th>\n",
       "      <th>Variable</th>\n",
       "      <th>Mitjana</th>\n",
       "      <th>Unitat Mesura</th>\n",
       "    </tr>\n",
       "    <tr>\n",
       "      <th>Data</th>\n",
       "      <th></th>\n",
       "      <th></th>\n",
       "      <th></th>\n",
       "      <th></th>\n",
       "      <th></th>\n",
       "      <th></th>\n",
       "      <th></th>\n",
       "    </tr>\n",
       "  </thead>\n",
       "  <tbody>\n",
       "    <tr>\n",
       "      <th>1974-10-01</th>\n",
       "      <td>Aforament - Tarragona</td>\n",
       "      <td>EL FRANCOLÍ</td>\n",
       "      <td>351999</td>\n",
       "      <td>4556773</td>\n",
       "      <td>EA079_Tarragona_Cabal riu Francoli</td>\n",
       "      <td>0.38</td>\n",
       "      <td>m³/s</td>\n",
       "    </tr>\n",
       "    <tr>\n",
       "      <th>1974-10-02</th>\n",
       "      <td>Aforament - Tarragona</td>\n",
       "      <td>EL FRANCOLÍ</td>\n",
       "      <td>351999</td>\n",
       "      <td>4556773</td>\n",
       "      <td>EA079_Tarragona_Cabal riu Francoli</td>\n",
       "      <td>0.38</td>\n",
       "      <td>m³/s</td>\n",
       "    </tr>\n",
       "  </tbody>\n",
       "</table>\n",
       "</div>"
      ],
      "text/plain": [
       "                          Estació        Conca   UTM X    UTM Y  \\\n",
       "Data                                                              \n",
       "1974-10-01  Aforament - Tarragona  EL FRANCOLÍ  351999  4556773   \n",
       "1974-10-02  Aforament - Tarragona  EL FRANCOLÍ  351999  4556773   \n",
       "\n",
       "                                      Variable  Mitjana Unitat Mesura  \n",
       "Data                                                                   \n",
       "1974-10-01  EA079_Tarragona_Cabal riu Francoli     0.38          m³/s  \n",
       "1974-10-02  EA079_Tarragona_Cabal riu Francoli     0.38          m³/s  "
      ]
     },
     "execution_count": 21,
     "metadata": {},
     "output_type": "execute_result"
    }
   ],
   "source": [
    "df_c.head(2)"
   ]
  },
  {
   "cell_type": "code",
   "execution_count": 22,
   "id": "d6967102",
   "metadata": {},
   "outputs": [],
   "source": [
    "#concat()\n",
    "frames = [df_c, df_c_2007]\n",
    "df_c_d = pd.concat(frames)\n",
    "df_total=df_c_d"
   ]
  },
  {
   "cell_type": "code",
   "execution_count": 23,
   "id": "fec85b6b",
   "metadata": {},
   "outputs": [
    {
     "data": {
      "text/html": [
       "<div>\n",
       "<style scoped>\n",
       "    .dataframe tbody tr th:only-of-type {\n",
       "        vertical-align: middle;\n",
       "    }\n",
       "\n",
       "    .dataframe tbody tr th {\n",
       "        vertical-align: top;\n",
       "    }\n",
       "\n",
       "    .dataframe thead th {\n",
       "        text-align: right;\n",
       "    }\n",
       "</style>\n",
       "<table border=\"1\" class=\"dataframe\">\n",
       "  <thead>\n",
       "    <tr style=\"text-align: right;\">\n",
       "      <th></th>\n",
       "      <th>Estació</th>\n",
       "      <th>Conca</th>\n",
       "      <th>UTM X</th>\n",
       "      <th>UTM Y</th>\n",
       "      <th>Variable</th>\n",
       "      <th>Mitjana</th>\n",
       "      <th>Unitat Mesura</th>\n",
       "    </tr>\n",
       "    <tr>\n",
       "      <th>Data</th>\n",
       "      <th></th>\n",
       "      <th></th>\n",
       "      <th></th>\n",
       "      <th></th>\n",
       "      <th></th>\n",
       "      <th></th>\n",
       "      <th></th>\n",
       "    </tr>\n",
       "  </thead>\n",
       "  <tbody>\n",
       "    <tr>\n",
       "      <th>2021-07-20</th>\n",
       "      <td>Aforament - Tarragona</td>\n",
       "      <td>EL FRANCOLÍ</td>\n",
       "      <td>351999</td>\n",
       "      <td>4556773</td>\n",
       "      <td>EA079_Tarragona_Cabal riu Francoli</td>\n",
       "      <td>0.0</td>\n",
       "      <td>m³/s</td>\n",
       "    </tr>\n",
       "    <tr>\n",
       "      <th>2021-07-21</th>\n",
       "      <td>Aforament - Tarragona</td>\n",
       "      <td>EL FRANCOLÍ</td>\n",
       "      <td>351999</td>\n",
       "      <td>4556773</td>\n",
       "      <td>EA079_Tarragona_Cabal riu Francoli</td>\n",
       "      <td>0.0</td>\n",
       "      <td>m³/s</td>\n",
       "    </tr>\n",
       "    <tr>\n",
       "      <th>2021-07-22</th>\n",
       "      <td>Aforament - Tarragona</td>\n",
       "      <td>EL FRANCOLÍ</td>\n",
       "      <td>351999</td>\n",
       "      <td>4556773</td>\n",
       "      <td>EA079_Tarragona_Cabal riu Francoli</td>\n",
       "      <td>0.0</td>\n",
       "      <td>m³/s</td>\n",
       "    </tr>\n",
       "    <tr>\n",
       "      <th>2021-07-23</th>\n",
       "      <td>Aforament - Tarragona</td>\n",
       "      <td>EL FRANCOLÍ</td>\n",
       "      <td>351999</td>\n",
       "      <td>4556773</td>\n",
       "      <td>EA079_Tarragona_Cabal riu Francoli</td>\n",
       "      <td>0.0</td>\n",
       "      <td>m³/s</td>\n",
       "    </tr>\n",
       "    <tr>\n",
       "      <th>2021-07-24</th>\n",
       "      <td>Aforament - Tarragona</td>\n",
       "      <td>EL FRANCOLÍ</td>\n",
       "      <td>351999</td>\n",
       "      <td>4556773</td>\n",
       "      <td>EA079_Tarragona_Cabal riu Francoli</td>\n",
       "      <td>0.0</td>\n",
       "      <td>m³/s</td>\n",
       "    </tr>\n",
       "  </tbody>\n",
       "</table>\n",
       "</div>"
      ],
      "text/plain": [
       "                          Estació        Conca   UTM X    UTM Y  \\\n",
       "Data                                                              \n",
       "2021-07-20  Aforament - Tarragona  EL FRANCOLÍ  351999  4556773   \n",
       "2021-07-21  Aforament - Tarragona  EL FRANCOLÍ  351999  4556773   \n",
       "2021-07-22  Aforament - Tarragona  EL FRANCOLÍ  351999  4556773   \n",
       "2021-07-23  Aforament - Tarragona  EL FRANCOLÍ  351999  4556773   \n",
       "2021-07-24  Aforament - Tarragona  EL FRANCOLÍ  351999  4556773   \n",
       "\n",
       "                                      Variable  Mitjana Unitat Mesura  \n",
       "Data                                                                   \n",
       "2021-07-20  EA079_Tarragona_Cabal riu Francoli      0.0          m³/s  \n",
       "2021-07-21  EA079_Tarragona_Cabal riu Francoli      0.0          m³/s  \n",
       "2021-07-22  EA079_Tarragona_Cabal riu Francoli      0.0          m³/s  \n",
       "2021-07-23  EA079_Tarragona_Cabal riu Francoli      0.0          m³/s  \n",
       "2021-07-24  EA079_Tarragona_Cabal riu Francoli      0.0          m³/s  "
      ]
     },
     "execution_count": 23,
     "metadata": {},
     "output_type": "execute_result"
    }
   ],
   "source": [
    "df_total.tail()"
   ]
  },
  {
   "cell_type": "markdown",
   "id": "0a644f28",
   "metadata": {},
   "source": [
    "# Plotting the concat data"
   ]
  },
  {
   "cell_type": "code",
   "execution_count": 24,
   "id": "22fb0c81",
   "metadata": {},
   "outputs": [
    {
     "data": {
      "image/png": "[encoded data removed]",
      "text/plain": [
       "<Figure size 792x432 with 1 Axes>"
      ]
     },
     "metadata": {
      "needs_background": "light"
     },
     "output_type": "display_data"
    }
   ],
   "source": [
    "# Plot using matplotlib\n",
    "fig, ax = plt.subplots(figsize=(11, 6))\n",
    "\n",
    "ax.scatter(x=df_total.index,\n",
    "           y=df_total[\"Mitjana\"],\n",
    "           marker=\"o\",# o points x x marks\n",
    "           s=25,#size markers\n",
    "           color=\"purple\",\n",
    "           )\n",
    "\n",
    "ax.set(xlabel=\"Date\", ylabel=\"Discharge Value (m3/s)\",\n",
    "       title=\"Mean Daily stream Discharge - Station Pont de La Riba \\n 1960-01-1 to 2021/12/31\")\n",
    "\n",
    "plt.show()"
   ]
  },
  {
   "cell_type": "markdown",
   "id": "94ac67ac",
   "metadata": {},
   "source": [
    "## Annual Maxima\n",
    "Annual maxima refers to the biggest value that occured within each year. \n",
    "\n",
    "You can take the daily mean values to construct a series of the annual maximum value. This is done using pandas resample."
   ]
  },
  {
   "cell_type": "markdown",
   "id": "5d984873",
   "metadata": {},
   "source": [
    "#### Add a Year Column to Your Data\n",
    "Note that below you will add a ‘year’ column to the longmont discharge data. While this step is not necessary for resampling. It will make your life easier when you plot the data later."
   ]
  },
  {
   "cell_type": "code",
   "execution_count": 25,
   "id": "984ee688",
   "metadata": {},
   "outputs": [
    {
     "data": {
      "text/html": [
       "<div>\n",
       "<style scoped>\n",
       "    .dataframe tbody tr th:only-of-type {\n",
       "        vertical-align: middle;\n",
       "    }\n",
       "\n",
       "    .dataframe tbody tr th {\n",
       "        vertical-align: top;\n",
       "    }\n",
       "\n",
       "    .dataframe thead th {\n",
       "        text-align: right;\n",
       "    }\n",
       "</style>\n",
       "<table border=\"1\" class=\"dataframe\">\n",
       "  <thead>\n",
       "    <tr style=\"text-align: right;\">\n",
       "      <th></th>\n",
       "      <th>Estació</th>\n",
       "      <th>Conca</th>\n",
       "      <th>UTM X</th>\n",
       "      <th>UTM Y</th>\n",
       "      <th>Variable</th>\n",
       "      <th>Mitjana</th>\n",
       "      <th>Unitat Mesura</th>\n",
       "      <th>year</th>\n",
       "      <th>Max</th>\n",
       "    </tr>\n",
       "    <tr>\n",
       "      <th>Data</th>\n",
       "      <th></th>\n",
       "      <th></th>\n",
       "      <th></th>\n",
       "      <th></th>\n",
       "      <th></th>\n",
       "      <th></th>\n",
       "      <th></th>\n",
       "      <th></th>\n",
       "      <th></th>\n",
       "    </tr>\n",
       "  </thead>\n",
       "  <tbody>\n",
       "    <tr>\n",
       "      <th>1974-01-01</th>\n",
       "      <td>Aforament - Tarragona</td>\n",
       "      <td>EL FRANCOLÍ</td>\n",
       "      <td>351999.0</td>\n",
       "      <td>4556773.0</td>\n",
       "      <td>EA079_Tarragona_Cabal riu Francoli</td>\n",
       "      <td>1.700</td>\n",
       "      <td>m³/s</td>\n",
       "      <td>1974.0</td>\n",
       "      <td>1.700</td>\n",
       "    </tr>\n",
       "    <tr>\n",
       "      <th>1975-01-01</th>\n",
       "      <td>Aforament - Tarragona</td>\n",
       "      <td>EL FRANCOLÍ</td>\n",
       "      <td>351999.0</td>\n",
       "      <td>4556773.0</td>\n",
       "      <td>EA079_Tarragona_Cabal riu Francoli</td>\n",
       "      <td>46.010</td>\n",
       "      <td>m³/s</td>\n",
       "      <td>1975.0</td>\n",
       "      <td>46.010</td>\n",
       "    </tr>\n",
       "    <tr>\n",
       "      <th>1976-01-01</th>\n",
       "      <td>Aforament - Tarragona</td>\n",
       "      <td>EL FRANCOLÍ</td>\n",
       "      <td>351999.0</td>\n",
       "      <td>4556773.0</td>\n",
       "      <td>EA079_Tarragona_Cabal riu Francoli</td>\n",
       "      <td>53.000</td>\n",
       "      <td>m³/s</td>\n",
       "      <td>1976.0</td>\n",
       "      <td>53.000</td>\n",
       "    </tr>\n",
       "    <tr>\n",
       "      <th>1977-01-01</th>\n",
       "      <td>Aforament - Tarragona</td>\n",
       "      <td>EL FRANCOLÍ</td>\n",
       "      <td>351999.0</td>\n",
       "      <td>4556773.0</td>\n",
       "      <td>EA079_Tarragona_Cabal riu Francoli</td>\n",
       "      <td>58.000</td>\n",
       "      <td>m³/s</td>\n",
       "      <td>1977.0</td>\n",
       "      <td>58.000</td>\n",
       "    </tr>\n",
       "    <tr>\n",
       "      <th>1978-01-01</th>\n",
       "      <td>Aforament - Tarragona</td>\n",
       "      <td>EL FRANCOLÍ</td>\n",
       "      <td>351999.0</td>\n",
       "      <td>4556773.0</td>\n",
       "      <td>EA079_Tarragona_Cabal riu Francoli</td>\n",
       "      <td>8.056</td>\n",
       "      <td>m³/s</td>\n",
       "      <td>1978.0</td>\n",
       "      <td>8.056</td>\n",
       "    </tr>\n",
       "  </tbody>\n",
       "</table>\n",
       "</div>"
      ],
      "text/plain": [
       "                          Estació        Conca     UTM X      UTM Y  \\\n",
       "Data                                                                  \n",
       "1974-01-01  Aforament - Tarragona  EL FRANCOLÍ  351999.0  4556773.0   \n",
       "1975-01-01  Aforament - Tarragona  EL FRANCOLÍ  351999.0  4556773.0   \n",
       "1976-01-01  Aforament - Tarragona  EL FRANCOLÍ  351999.0  4556773.0   \n",
       "1977-01-01  Aforament - Tarragona  EL FRANCOLÍ  351999.0  4556773.0   \n",
       "1978-01-01  Aforament - Tarragona  EL FRANCOLÍ  351999.0  4556773.0   \n",
       "\n",
       "                                      Variable  Mitjana Unitat Mesura    year  \\\n",
       "Data                                                                            \n",
       "1974-01-01  EA079_Tarragona_Cabal riu Francoli    1.700          m³/s  1974.0   \n",
       "1975-01-01  EA079_Tarragona_Cabal riu Francoli   46.010          m³/s  1975.0   \n",
       "1976-01-01  EA079_Tarragona_Cabal riu Francoli   53.000          m³/s  1976.0   \n",
       "1977-01-01  EA079_Tarragona_Cabal riu Francoli   58.000          m³/s  1977.0   \n",
       "1978-01-01  EA079_Tarragona_Cabal riu Francoli    8.056          m³/s  1978.0   \n",
       "\n",
       "               Max  \n",
       "Data                \n",
       "1974-01-01   1.700  \n",
       "1975-01-01  46.010  \n",
       "1976-01-01  53.000  \n",
       "1977-01-01  58.000  \n",
       "1978-01-01   8.056  "
      ]
     },
     "execution_count": 25,
     "metadata": {},
     "output_type": "execute_result"
    }
   ],
   "source": [
    "# add a year column to your longmont discharge data\n",
    "df_total[\"year\"] = df_total.index.year\n",
    "df_total[\"Max\"]=df_total[\"Mitjana\"]\n",
    "df_total = df_total.drop(columns=[\"Mitjana\"])\n",
    "# Calculate annual max by resampling\n",
    "longmont_discharge_annual_max = df_c_d.resample('AS').max()\n",
    "longmont_discharge_annual_max.head()"
   ]
  },
  {
   "cell_type": "code",
   "execution_count": 35,
   "id": "6475cae6",
   "metadata": {},
   "outputs": [
    {
     "data": {
      "image/png": "[encoded data removed]",
      "text/plain": [
       "<Figure size 792x648 with 1 Axes>"
      ]
     },
     "metadata": {
      "needs_background": "light"
     },
     "output_type": "display_data"
    }
   ],
   "source": [
    "# Plot calculated vs USGS annual max flow values\n",
    "fig, ax = plt.subplots(figsize=(11, 9))\n",
    "\n",
    "\n",
    "ax.plot(longmont_discharge_annual_max[\"year\"],\n",
    "        longmont_discharge_annual_max[\"Max\"],\n",
    "        color=\"green\",\n",
    "        linestyle=':',\n",
    "        marker='o',\n",
    "        label=\"Mean Daily Value\"\n",
    "       )\n",
    "ax.legend()\n",
    "ax.set_title(\n",
    "    \"Annual Maximum Derived from Daily Mean Peak Flows (m3/s)\")\n",
    "\n",
    "plt.show()"
   ]
  },
  {
   "cell_type": "markdown",
   "id": "276f366c",
   "metadata": {},
   "source": [
    "## Calculate Return Period\n",
    "Now that you have both datasets, you are ready to calculate the return period from each. You will calculate this value and the associated probability of each event size for both the USGS max annual flow data and for the max flow value that you derived from the mean daily data. To calculate return period you will do the following:\n",
    "\n",
    "- Sort your data from smallest to largest.\n",
    "- Calculate exceedance probabilities using the equation below where n is length of the record and i is the rank.\n",
    "- Calculate the inverse of the exceedance probabilities to determine return period in years.\n",
    "- Plot flood magnitudes against return time. It is common to plot these kinds of data on log-linear or log-log axes."
   ]
  },
  {
   "cell_type": "markdown",
   "id": "a80b9f1b",
   "metadata": {},
   "source": []
  },
  {
   "cell_type": "markdown",
   "id": "b3f1bed4",
   "metadata": {},
   "source": [
    "Exceedance probability equation:\n",
    "![title](Captura.JPG)"
   ]
  },
  {
   "cell_type": "markdown",
   "id": "a33923a8",
   "metadata": {},
   "source": [
    "Where i is the rank order (smallest to largest) from 1 to n. Note that the limits of this equation vary from n/(n+1) ~ 1 for the smallest events and 1/(n+1) for the largest events (i.e., the largest events have a very small exceedance probability)."
   ]
  },
  {
   "cell_type": "code",
   "execution_count": 27,
   "id": "08ececd7",
   "metadata": {},
   "outputs": [
    {
     "data": {
      "text/html": [
       "<div>\n",
       "<style scoped>\n",
       "    .dataframe tbody tr th:only-of-type {\n",
       "        vertical-align: middle;\n",
       "    }\n",
       "\n",
       "    .dataframe tbody tr th {\n",
       "        vertical-align: top;\n",
       "    }\n",
       "\n",
       "    .dataframe thead th {\n",
       "        text-align: right;\n",
       "    }\n",
       "</style>\n",
       "<table border=\"1\" class=\"dataframe\">\n",
       "  <thead>\n",
       "    <tr style=\"text-align: right;\">\n",
       "      <th></th>\n",
       "      <th>Estació</th>\n",
       "      <th>Conca</th>\n",
       "      <th>UTM X</th>\n",
       "      <th>UTM Y</th>\n",
       "      <th>Variable</th>\n",
       "      <th>Mitjana</th>\n",
       "      <th>Unitat Mesura</th>\n",
       "      <th>year</th>\n",
       "      <th>Max</th>\n",
       "    </tr>\n",
       "    <tr>\n",
       "      <th>Data</th>\n",
       "      <th></th>\n",
       "      <th></th>\n",
       "      <th></th>\n",
       "      <th></th>\n",
       "      <th></th>\n",
       "      <th></th>\n",
       "      <th></th>\n",
       "      <th></th>\n",
       "      <th></th>\n",
       "    </tr>\n",
       "  </thead>\n",
       "  <tbody>\n",
       "    <tr>\n",
       "      <th>2021-07-20</th>\n",
       "      <td>Aforament - Tarragona</td>\n",
       "      <td>EL FRANCOLÍ</td>\n",
       "      <td>351999</td>\n",
       "      <td>4556773</td>\n",
       "      <td>EA079_Tarragona_Cabal riu Francoli</td>\n",
       "      <td>0.0</td>\n",
       "      <td>m³/s</td>\n",
       "      <td>2021</td>\n",
       "      <td>0.0</td>\n",
       "    </tr>\n",
       "    <tr>\n",
       "      <th>2021-07-21</th>\n",
       "      <td>Aforament - Tarragona</td>\n",
       "      <td>EL FRANCOLÍ</td>\n",
       "      <td>351999</td>\n",
       "      <td>4556773</td>\n",
       "      <td>EA079_Tarragona_Cabal riu Francoli</td>\n",
       "      <td>0.0</td>\n",
       "      <td>m³/s</td>\n",
       "      <td>2021</td>\n",
       "      <td>0.0</td>\n",
       "    </tr>\n",
       "    <tr>\n",
       "      <th>2021-07-22</th>\n",
       "      <td>Aforament - Tarragona</td>\n",
       "      <td>EL FRANCOLÍ</td>\n",
       "      <td>351999</td>\n",
       "      <td>4556773</td>\n",
       "      <td>EA079_Tarragona_Cabal riu Francoli</td>\n",
       "      <td>0.0</td>\n",
       "      <td>m³/s</td>\n",
       "      <td>2021</td>\n",
       "      <td>0.0</td>\n",
       "    </tr>\n",
       "    <tr>\n",
       "      <th>2021-07-23</th>\n",
       "      <td>Aforament - Tarragona</td>\n",
       "      <td>EL FRANCOLÍ</td>\n",
       "      <td>351999</td>\n",
       "      <td>4556773</td>\n",
       "      <td>EA079_Tarragona_Cabal riu Francoli</td>\n",
       "      <td>0.0</td>\n",
       "      <td>m³/s</td>\n",
       "      <td>2021</td>\n",
       "      <td>0.0</td>\n",
       "    </tr>\n",
       "    <tr>\n",
       "      <th>2021-07-24</th>\n",
       "      <td>Aforament - Tarragona</td>\n",
       "      <td>EL FRANCOLÍ</td>\n",
       "      <td>351999</td>\n",
       "      <td>4556773</td>\n",
       "      <td>EA079_Tarragona_Cabal riu Francoli</td>\n",
       "      <td>0.0</td>\n",
       "      <td>m³/s</td>\n",
       "      <td>2021</td>\n",
       "      <td>0.0</td>\n",
       "    </tr>\n",
       "  </tbody>\n",
       "</table>\n",
       "</div>"
      ],
      "text/plain": [
       "                          Estació        Conca   UTM X    UTM Y  \\\n",
       "Data                                                              \n",
       "2021-07-20  Aforament - Tarragona  EL FRANCOLÍ  351999  4556773   \n",
       "2021-07-21  Aforament - Tarragona  EL FRANCOLÍ  351999  4556773   \n",
       "2021-07-22  Aforament - Tarragona  EL FRANCOLÍ  351999  4556773   \n",
       "2021-07-23  Aforament - Tarragona  EL FRANCOLÍ  351999  4556773   \n",
       "2021-07-24  Aforament - Tarragona  EL FRANCOLÍ  351999  4556773   \n",
       "\n",
       "                                      Variable  Mitjana Unitat Mesura  year  \\\n",
       "Data                                                                          \n",
       "2021-07-20  EA079_Tarragona_Cabal riu Francoli      0.0          m³/s  2021   \n",
       "2021-07-21  EA079_Tarragona_Cabal riu Francoli      0.0          m³/s  2021   \n",
       "2021-07-22  EA079_Tarragona_Cabal riu Francoli      0.0          m³/s  2021   \n",
       "2021-07-23  EA079_Tarragona_Cabal riu Francoli      0.0          m³/s  2021   \n",
       "2021-07-24  EA079_Tarragona_Cabal riu Francoli      0.0          m³/s  2021   \n",
       "\n",
       "            Max  \n",
       "Data             \n",
       "2021-07-20  0.0  \n",
       "2021-07-21  0.0  \n",
       "2021-07-22  0.0  \n",
       "2021-07-23  0.0  \n",
       "2021-07-24  0.0  "
      ]
     },
     "execution_count": 27,
     "metadata": {},
     "output_type": "execute_result"
    }
   ],
   "source": [
    "df_c_d.tail()"
   ]
  },
  {
   "cell_type": "markdown",
   "id": "9862f71d",
   "metadata": {},
   "source": [
    "Data Tip: If you want to extrapolate beyond the observations that you have - for instance to predict what a 1000 year flood would be given only 100 years of data - then you would need to fit a model to the data."
   ]
  },
  {
   "cell_type": "code",
   "execution_count": 28,
   "id": "4977d5e4",
   "metadata": {},
   "outputs": [],
   "source": [
    "# Sort data smallest to largest\n",
    "longmont_discharge_sorted = df_c_d.sort_values(by=\"Mitjana\")\n",
    "\n",
    "# Count total obervations\n",
    "n = longmont_discharge_sorted.shape[0]\n",
    "\n",
    "# Add a numbered column 1 -> n to use in return calculation for rank\n",
    "longmont_discharge_sorted.insert(0, 'rank', range(1, 1 + n))\n",
    "\n",
    "# Calculate probability - note you may need to adjust this value based upon the time period of your data\n",
    "longmont_discharge_sorted[\"probability\"] = (\n",
    "    (n - longmont_discharge_sorted[\"rank\"] + 1) / (n + 1))\n",
    "\n",
    "longmont_discharge_sorted[\"return-years\"] = (\n",
    "    1 / longmont_discharge_sorted[\"probability\"])"
   ]
  },
  {
   "cell_type": "code",
   "execution_count": 29,
   "id": "e0d2c9fd",
   "metadata": {},
   "outputs": [],
   "source": [
    "# Create a function from the workflow below\n",
    "\n",
    "# Add an argument for annual vs daily...\n",
    "\n",
    "\n",
    "def calculate_return(df, colname):\n",
    "    '''\n",
    "    Add Documentation Here\n",
    "\n",
    "\n",
    "    '''\n",
    "    # Sort data smallest to largest\n",
    "    sorted_data = df.sort_values(by=colname)\n",
    "    \n",
    "    # Count total obervations\n",
    "    n = sorted_data.shape[0]\n",
    "    \n",
    "    # Add a numbered column 1 -> n to use in return calculation for rank\n",
    "    sorted_data.insert(0, 'rank', range(1, 1 + n))\n",
    "    \n",
    "    # Calculate probability\n",
    "    sorted_data[\"probability\"] = (n - sorted_data[\"rank\"] + 1) / (n + 1)\n",
    "    \n",
    "    # Calculate return - data are daily to then divide by 365?\n",
    "    sorted_data[\"return-years\"] = (1 / sorted_data[\"probability\"])\n",
    "\n",
    "    return(sorted_data)"
   ]
  },
  {
   "cell_type": "markdown",
   "id": "5dbf1fa5",
   "metadata": {},
   "source": [
    "Once you have a function, you can calculate return period and probability."
   ]
  },
  {
   "cell_type": "code",
   "execution_count": 30,
   "id": "b8cffe84",
   "metadata": {},
   "outputs": [
    {
     "data": {
      "text/html": [
       "<div>\n",
       "<style scoped>\n",
       "    .dataframe tbody tr th:only-of-type {\n",
       "        vertical-align: middle;\n",
       "    }\n",
       "\n",
       "    .dataframe tbody tr th {\n",
       "        vertical-align: top;\n",
       "    }\n",
       "\n",
       "    .dataframe thead th {\n",
       "        text-align: right;\n",
       "    }\n",
       "</style>\n",
       "<table border=\"1\" class=\"dataframe\">\n",
       "  <thead>\n",
       "    <tr style=\"text-align: right;\">\n",
       "      <th></th>\n",
       "      <th>rank</th>\n",
       "      <th>Estació</th>\n",
       "      <th>Conca</th>\n",
       "      <th>UTM X</th>\n",
       "      <th>UTM Y</th>\n",
       "      <th>Variable</th>\n",
       "      <th>Mitjana</th>\n",
       "      <th>Unitat Mesura</th>\n",
       "      <th>year</th>\n",
       "      <th>Max</th>\n",
       "      <th>probability</th>\n",
       "      <th>return-years</th>\n",
       "    </tr>\n",
       "    <tr>\n",
       "      <th>Data</th>\n",
       "      <th></th>\n",
       "      <th></th>\n",
       "      <th></th>\n",
       "      <th></th>\n",
       "      <th></th>\n",
       "      <th></th>\n",
       "      <th></th>\n",
       "      <th></th>\n",
       "      <th></th>\n",
       "      <th></th>\n",
       "      <th></th>\n",
       "      <th></th>\n",
       "    </tr>\n",
       "  </thead>\n",
       "  <tbody>\n",
       "    <tr>\n",
       "      <th>2019-10-23</th>\n",
       "      <td>16204</td>\n",
       "      <td>Aforament - Tarragona</td>\n",
       "      <td>EL FRANCOLÍ</td>\n",
       "      <td>351999</td>\n",
       "      <td>4556773</td>\n",
       "      <td>EA079_Tarragona_Cabal riu Francoli</td>\n",
       "      <td>71.687153</td>\n",
       "      <td>m³/s</td>\n",
       "      <td>2019</td>\n",
       "      <td>71.687153</td>\n",
       "      <td>0.112592</td>\n",
       "      <td>8.881644</td>\n",
       "    </tr>\n",
       "    <tr>\n",
       "      <th>1994-10-12</th>\n",
       "      <td>16205</td>\n",
       "      <td>Aforament - Tarragona</td>\n",
       "      <td>EL FRANCOLÍ</td>\n",
       "      <td>351999</td>\n",
       "      <td>4556773</td>\n",
       "      <td>EA079_Tarragona_Cabal riu Francoli</td>\n",
       "      <td>72.621600</td>\n",
       "      <td>m³/s</td>\n",
       "      <td>1994</td>\n",
       "      <td>72.621600</td>\n",
       "      <td>0.090073</td>\n",
       "      <td>11.102055</td>\n",
       "    </tr>\n",
       "    <tr>\n",
       "      <th>1984-09-29</th>\n",
       "      <td>16206</td>\n",
       "      <td>Aforament - Tarragona</td>\n",
       "      <td>EL FRANCOLÍ</td>\n",
       "      <td>351999</td>\n",
       "      <td>4556773</td>\n",
       "      <td>EA079_Tarragona_Cabal riu Francoli</td>\n",
       "      <td>77.600000</td>\n",
       "      <td>m³/s</td>\n",
       "      <td>1984</td>\n",
       "      <td>77.600000</td>\n",
       "      <td>0.067555</td>\n",
       "      <td>14.802740</td>\n",
       "    </tr>\n",
       "    <tr>\n",
       "      <th>1994-10-11</th>\n",
       "      <td>16207</td>\n",
       "      <td>Aforament - Tarragona</td>\n",
       "      <td>EL FRANCOLÍ</td>\n",
       "      <td>351999</td>\n",
       "      <td>4556773</td>\n",
       "      <td>EA079_Tarragona_Cabal riu Francoli</td>\n",
       "      <td>201.806700</td>\n",
       "      <td>m³/s</td>\n",
       "      <td>1994</td>\n",
       "      <td>201.806700</td>\n",
       "      <td>0.045037</td>\n",
       "      <td>22.204110</td>\n",
       "    </tr>\n",
       "    <tr>\n",
       "      <th>1994-10-10</th>\n",
       "      <td>16208</td>\n",
       "      <td>Aforament - Tarragona</td>\n",
       "      <td>EL FRANCOLÍ</td>\n",
       "      <td>351999</td>\n",
       "      <td>4556773</td>\n",
       "      <td>EA079_Tarragona_Cabal riu Francoli</td>\n",
       "      <td>297.151100</td>\n",
       "      <td>m³/s</td>\n",
       "      <td>1994</td>\n",
       "      <td>297.151100</td>\n",
       "      <td>0.022518</td>\n",
       "      <td>44.408219</td>\n",
       "    </tr>\n",
       "  </tbody>\n",
       "</table>\n",
       "</div>"
      ],
      "text/plain": [
       "             rank                Estació        Conca   UTM X    UTM Y  \\\n",
       "Data                                                                     \n",
       "2019-10-23  16204  Aforament - Tarragona  EL FRANCOLÍ  351999  4556773   \n",
       "1994-10-12  16205  Aforament - Tarragona  EL FRANCOLÍ  351999  4556773   \n",
       "1984-09-29  16206  Aforament - Tarragona  EL FRANCOLÍ  351999  4556773   \n",
       "1994-10-11  16207  Aforament - Tarragona  EL FRANCOLÍ  351999  4556773   \n",
       "1994-10-10  16208  Aforament - Tarragona  EL FRANCOLÍ  351999  4556773   \n",
       "\n",
       "                                      Variable     Mitjana Unitat Mesura  \\\n",
       "Data                                                                       \n",
       "2019-10-23  EA079_Tarragona_Cabal riu Francoli   71.687153          m³/s   \n",
       "1994-10-12  EA079_Tarragona_Cabal riu Francoli   72.621600          m³/s   \n",
       "1984-09-29  EA079_Tarragona_Cabal riu Francoli   77.600000          m³/s   \n",
       "1994-10-11  EA079_Tarragona_Cabal riu Francoli  201.806700          m³/s   \n",
       "1994-10-10  EA079_Tarragona_Cabal riu Francoli  297.151100          m³/s   \n",
       "\n",
       "            year         Max  probability  return-years  \n",
       "Data                                                     \n",
       "2019-10-23  2019   71.687153     0.112592      8.881644  \n",
       "1994-10-12  1994   72.621600     0.090073     11.102055  \n",
       "1984-09-29  1984   77.600000     0.067555     14.802740  \n",
       "1994-10-11  1994  201.806700     0.045037     22.204110  \n",
       "1994-10-10  1994  297.151100     0.022518     44.408219  "
      ]
     },
     "execution_count": 30,
     "metadata": {},
     "output_type": "execute_result"
    }
   ],
   "source": [
    "longmont_prob = calculate_return(df_c_d, \"Mitjana\")\n",
    "\n",
    "# Because these data are daily,\n",
    "# divide return period in days by 365 to get a return period in years\n",
    "longmont_prob[\"return-years\"] = longmont_prob[\"return-years\"] / 365\n",
    "longmont_prob[\"probability\"] = longmont_prob[\"probability\"] * 365\n",
    "longmont_prob.tail()"
   ]
  },
  {
   "cell_type": "markdown",
   "id": "8f759a26",
   "metadata": {},
   "source": [
    "# Plot Event Probability"
   ]
  },
  {
   "cell_type": "markdown",
   "id": "d27347c6",
   "metadata": {},
   "source": [
    "## Plot Stream Discharge Return Period\n",
    "And then you plot steram dicharge vs return period. This plot shows you the frequency in years that you can expect an event of any magnitude to occur upon."
   ]
  },
  {
   "cell_type": "code",
   "execution_count": 36,
   "id": "a7f61da1",
   "metadata": {},
   "outputs": [
    {
     "data": {
      "image/png": "[encoded data removed]",
      "text/plain": [
       "<Figure size 792x432 with 1 Axes>"
      ]
     },
     "metadata": {
      "needs_background": "light"
     },
     "output_type": "display_data"
    }
   ],
   "source": [
    "# Compare both datasets\n",
    "fig, ax = plt.subplots(figsize=(11, 6))\n",
    "\n",
    "longmont_prob.plot.scatter(y=\"probability\",\n",
    "                           x=\"Mitjana\",\n",
    "                           title=\"Probability \",\n",
    "                           ax=ax,\n",
    "                           color='grey',\n",
    "                           fontsize=16,\n",
    "                           logy=True,\n",
    "                           label=\"Daily Mean Calculated\")\n",
    "ax.legend(frameon=True,\n",
    "          framealpha=1)\n",
    "\n",
    "ax.set_ylabel(\"Probability\")\n",
    "ax.set_xlabel(\"Discharge Value (M3/s)\")\n",
    "ax.set_title(\n",
    "    \"Probability of Discharge Events \\n  Annual Max Data Compared to Daily Mean Calculated Annual Max\")\n",
    "plt.ylim( ymin = 0.01)\n",
    "plt.show()"
   ]
  },
  {
   "cell_type": "markdown",
   "id": "079b45bf",
   "metadata": {},
   "source": [
    "## Plot Stream Discharge Return Period\n",
    "And then you plot steram dicharge vs return period. This plot shows you the frequency in years that you can expect an event of any magnitude to occur upon."
   ]
  },
  {
   "cell_type": "code",
   "execution_count": 33,
   "id": "ab7c73fe",
   "metadata": {},
   "outputs": [
    {
     "data": {
      "image/png": "[encoded data removed]",
      "text/plain": [
       "<Figure size 792x432 with 1 Axes>"
      ]
     },
     "metadata": {
      "needs_background": "light"
     },
     "output_type": "display_data"
    }
   ],
   "source": [
    "fig, ax = plt.subplots(figsize=(11, 6))\n",
    "\n",
    "longmont_prob.plot.scatter(y=\"Mitjana\",\n",
    "                           x=\"return-years\",\n",
    "                           title=\"Return Period (Years)\",\n",
    "                           ax=ax,\n",
    "                           color='purple',\n",
    "                           fontsize=16,\n",
    "                           label=\"Daily Mean Calculated\")\n",
    "\n",
    "\n",
    "ax.legend(frameon=True,\n",
    "          framealpha=1)\n",
    "\n",
    "ax.set_xlabel(\"Return Period (Years)\")\n",
    "ax.set_ylabel(\"Discharge Value (CFS)\")\n",
    "\n",
    "plt.show()"
   ]
  },
  {
   "cell_type": "code",
   "execution_count": null,
   "id": "c6e67fab",
   "metadata": {},
   "outputs": [],
   "source": []
  }
 ],
 "metadata": {
  "kernelspec": {
   "display_name": "Python 3",
   "language": "python",
   "name": "python3"
  },
  "language_info": {
   "codemirror_mode": {
    "name": "ipython",
    "version": 3
   },
   "file_extension": ".py",
   "mimetype": "text/x-python",
   "name": "python",
   "nbconvert_exporter": "python",
   "pygments_lexer": "ipython3",
   "version": "3.9.4"
  }
 },
 "nbformat": 4,
 "nbformat_minor": 5
}
