{
 "cells": [
  {
   "cell_type": "markdown",
   "id": "7f7fe7f0",
   "metadata": {},
   "source": [
    "# Chapter 1.5 - Flood Return and Exceedance Probability Calculations In Python - Earth Data Science Applications"
   ]
  },
  {
   "cell_type": "markdown",
   "id": "e22ed380",
   "metadata": {},
   "source": [
    "In this chapter, you will learn how to calculate flood return periods and exceedance probability using Python.\n",
    "\n",
    "https://www.earthdatascience.org/courses/use-data-open-source-python/use-time-series-data-in-python/floods-return-period-and-probability/"
   ]
  },
  {
   "cell_type": "markdown",
   "id": "e136bfbb",
   "metadata": {},
   "source": [
    "## Introduction to Flood Frequency Analysis\n",
    "\n",
    "You have have likey heard the term “100-year flood”. While you may think it means that it is the size of flood that occurs every 100 years, it actually refers to the flood magnitude that has a probability of exceedance of 1/100 in any given year (i.e., a 1% chance).\n",
    "    \n",
    "To begin, let’s define two terms:\n",
    "\n",
    "- 1.**Exceedance probability:** the probability of a given magnitude event or greater to occur.\n",
    "\n",
    "- 2.**Recurrence interval:** the average time of exceedance is the inverse of the exceedance probability."
   ]
  },
  {
   "cell_type": "markdown",
   "id": "af6d0d3d",
   "metadata": {},
   "source": [
    "**Important Considerations**\n",
    "\n",
    "The above definitions assume that flood events in the time series are independent (i.e., that event magnitudes are not correlated with each other in time) and that the process is stationary (i.e., that the probability distribution of events is not changing through time)."
   ]
  },
  {
   "cell_type": "markdown",
   "id": "226d10bb",
   "metadata": {},
   "source": [
    "- In this project, we will be interpreting maximum annual floods. **How valid do you think the above assumptions are for annual maxima?**"
   ]
  },
  {
   "cell_type": "markdown",
   "id": "940fb05a",
   "metadata": {},
   "source": [
    "Even though the phrase “recurrence interval” evokes the idea of regularity in the time between events, this is an important misconception (recall our assumption of independence). The 100-year flood is just as likely to occur after a year that already experienced a 100-yr flood as any other year."
   ]
  },
  {
   "cell_type": "markdown",
   "id": "28e78212",
   "metadata": {},
   "source": [
    "- In this project, we will be asking you to construct and interpret plots of recurrence intervals. **Do you think the processes that drive floods are periodic? If so, over what timescales?**\n",
    "\n",
    "The content below comes from this USGS waterscience page. It provides an excellent overview of recurrence intervals and return periods."
   ]
  },
  {
   "cell_type": "markdown",
   "id": "97b1f24a",
   "metadata": {},
   "source": [
    "## What is a Recurrence Interval?"
   ]
  },
  {
   "cell_type": "markdown",
   "id": "0af9a6a3",
   "metadata": {},
   "source": [
    "**Frequency analysis**, are used to estimate the probability of the occurrence of a given precipitation event. \n",
    "The recurrence interval is based on the probability that the given event will be equalled or exceeded in any given year.\n",
    "For example, assume there is a 1 in 50 chance that 6.60 inches of rain will fall in a certain area in a 24-hour period during any given year. Thus, a rainfall total of 6.60 inches in a consecutive 24-hour period is said to have a 50-year recurrence interval.\n",
    "Likewise, using a frequency analysis (Interagency Advisory Committee on Water Data, 1982) there is a 1 in 100 chance that a streamflow of 15,000 cubic feet per second (ft3/s) will occur during any year at a certain streamflow-measurement site. Thus, a peak flow of 15,000 ft3/s at the site is said to have a 100-year recurrence interval. Rainfall recurrence intervals are based on both the magnitude and the duration of a rainfall event, whereas streamflow recurrence intervals are based solely on the magnitude of the annual peak flow."
   ]
  },
  {
   "cell_type": "markdown",
   "id": "dcd0a689",
   "metadata": {},
   "source": [
    "The effects of development (conversion of land from forested or agricultural uses to commercial, residential, or industrial uses) on peak flows is generally much greater for low-recurrence interval floods than for high-recurrence interval floods, such as 25- 50- or 100-year floods."
   ]
  },
  {
   "cell_type": "markdown",
   "id": "da23b204",
   "metadata": {},
   "source": [
    "## How Can We Have two “100-year floods” in less than two years?"
   ]
  },
  {
   "cell_type": "markdown",
   "id": "3db67bfa",
   "metadata": {},
   "source": [
    " The term “100-year flood” is used in an attempt to simplify the definition of a flood that statistically has a 1-percent chance of occurring in any given year. "
   ]
  },
  {
   "cell_type": "markdown",
   "id": "97b71b9d",
   "metadata": {},
   "source": [
    "## What is an Annual Exceedance Probability?"
   ]
  },
  {
   "cell_type": "markdown",
   "id": "6ab75ddc",
   "metadata": {},
   "source": [
    "Percent chance of occurrence as an Annual Exceedance Probability or AEP. An AEP is always a fraction of one. So a 0.2 AEP flood has a 20% chance of occurring in any given year, and this corresponds to a 5-year recurrence-interval flood. However, AEP terminology reminds the observer that a rare flood does not reduce the chances of another rare flood within a short time period."
   ]
  },
  {
   "cell_type": "markdown",
   "id": "b4f59e9a",
   "metadata": {},
   "source": [
    "# Calculate Probability in Python"
   ]
  },
  {
   "cell_type": "markdown",
   "id": "0c8af052",
   "metadata": {},
   "source": [
    "streamflow data to explore the probabilities of a different magnitude events (e.g., discharge is measured in cubic feet per second). To do this, you will want long historic records to make your statistical inferences more robust.\n",
    "\n",
    "\n",
    "You will use the hydrofunctions python package to access streamflow data via an API from the United States Geological Survey (USGS) National Water Information System (NWIS) website."
   ]
  },
  {
   "cell_type": "code",
   "execution_count": 1,
   "id": "fa4dca32",
   "metadata": {},
   "outputs": [],
   "source": [
    "# Import packages\n",
    "import os\n",
    "import urllib\n",
    "import requests\n",
    "import math\n",
    "import matplotlib.pyplot as plt\n",
    "import seaborn as sns\n",
    "import pandas as pd\n",
    "import earthpy as et\n",
    "import hydrofunctions as hf\n",
    "\n",
    "# Date time conversion registration\n",
    "from pandas.plotting import register_matplotlib_converters\n",
    "register_matplotlib_converters()\n",
    "\n",
    "# Prettier plotting with seaborn\n",
    "sns.set(font_scale=1.5, style=\"whitegrid\")\n"
   ]
  },
  {
   "cell_type": "code",
   "execution_count": 2,
   "id": "c3927fdf",
   "metadata": {},
   "outputs": [],
   "source": [
    "%matplotlib inline"
   ]
  },
  {
   "cell_type": "markdown",
   "id": "8442c662",
   "metadata": {},
   "source": [
    "## Find A Station of Interest"
   ]
  },
  {
   "cell_type": "code",
   "execution_count": 3,
   "id": "9ea33b5d",
   "metadata": {},
   "outputs": [
    {
     "data": {
      "text/html": [
       "<p>Use <a href=\"http://hydrocloud.org\" target=\"_blank\">HydroCloud.org</a> to find a stream gauge. Click on the dots to learn more about a site.</p><iframe src=http://hydrocloud.org/ width=700 height=400></iframe>"
      ],
      "text/plain": [
       "<IPython.core.display.HTML object>"
      ]
     },
     "execution_count": 3,
     "metadata": {},
     "output_type": "execute_result"
    }
   ],
   "source": [
    "# Create map of stations\n",
    "hf.draw_map()"
   ]
  },
  {
   "cell_type": "markdown",
   "id": "a90aec9e",
   "metadata": {},
   "source": [
    "You can get a list of all stations located in Colorado using the hf.NWIS().get_data() method."
   ]
  },
  {
   "cell_type": "code",
   "execution_count": 4,
   "id": "6c7155fc",
   "metadata": {},
   "outputs": [],
   "source": [
    "# Request data for all stations in Colorado\n",
    "#PR = hf.NWIS(stateCd='CO')\n",
    "\n",
    "# List the names for the first 5 sites in Colorado, USA\n",
    "#PR.siteName[0:5]"
   ]
  },
  {
   "cell_type": "markdown",
   "id": "a9b99531",
   "metadata": {},
   "source": [
    "# Download Stream Gage Data"
   ]
  },
  {
   "cell_type": "markdown",
   "id": "ebcfa460",
   "metadata": {},
   "source": [
    "You are now ready to grab some data from the NWIS API."
   ]
  },
  {
   "cell_type": "markdown",
   "id": "2fd3805e",
   "metadata": {},
   "source": [
    "**Mean Daily vs Instantaneous Stream Flow Data**\n",
    "There are two kinds of streamflow time-series data that the USGS provides online:\n",
    "\n",
    "- Mean daily streamflow: Mean daily streamflow is useful because it is a complete time series (except for days when the gage fails) and thus retains all recorded streamflow events over the period of record.\n",
    "- Annual maximum instantaneous streamflow: Instantaneous data is not averaged over the entire day, but instead reflects continuous variations in the flood hydrograph recorded by the stream gage. As such, annual maximum instantaneous streamflow data are useful because they retain the maximum values of discharge recorded in a given year."
   ]
  },
  {
   "cell_type": "markdown",
   "id": "6919880c",
   "metadata": {},
   "source": [
    "- How do you think flood frequencies characterized by these two different data types will compare?\n",
    "\n",
    "For this part of the lesson, you will download the mean daily discharge data. The code for this data in dv when using the hydrofunctions python package."
   ]
  },
  {
   "cell_type": "markdown",
   "id": "717d8479",
   "metadata": {},
   "source": [
    "#### Get Data Using Hydrofunctions API Interface for Python\n",
    "To begin define a start and end date that you’d like to download. Also define the site ID. Use USGS 06730500 as your selected site. This stream gage survived the 2013 flood event in Colorado. It also has a long record of measurement that will be helpful when calculating recurrence intervals and exceedance probability values below."
   ]
  },
  {
   "cell_type": "markdown",
   "id": "b6f2b665",
   "metadata": {},
   "source": [
    "## Station Selection"
   ]
  },
  {
   "cell_type": "markdown",
   "id": "3552be6b",
   "metadata": {},
   "source": [
    "you will want to carefully examine the metadata for candidate stations to check for the time period of operation, record completeness, and other comments on gage operation that might impact your interpretation of statistical results"
   ]
  },
  {
   "cell_type": "markdown",
   "id": "58387dbf",
   "metadata": {},
   "source": [
    "For this project, we followed the lead of scientists assessing the significance of the 2013 Colorado floods using methods similar to the ones introduced in this project (Yochum, 2015). "
   ]
  },
  {
   "cell_type": "code",
   "execution_count": 5,
   "id": "3e5a8ded",
   "metadata": {
    "scrolled": true
   },
   "outputs": [],
   "source": [
    "# Define the site number and start and end dates that you are interested in\n",
    "site = \"06730500\"\n",
    "start = '1946-05-10'\n",
    "end = '2018-08-29'\n"
   ]
  },
  {
   "cell_type": "markdown",
   "id": "ed2c64ad",
   "metadata": {},
   "source": [
    "#### View Site and Metadata Information\n",
    "You can explore the metadata for the site using the get_nwis() function. Below we request the metadata for the site and the **“dv” or Daily Value data**. Recall from above that dv is the mean daily value. **iv provides the instantaneous values.**\n",
    "\n",
    "You can also visit the USGS Site page to learn more about this USGS station.\n",
    "https://waterdata.usgs.gov/nwis/inventory/?site_no=06730500"
   ]
  },
  {
   "cell_type": "code",
   "execution_count": 6,
   "id": "087e2e65",
   "metadata": {
    "scrolled": true
   },
   "outputs": [
    {
     "name": "stdout",
     "output_type": "stream",
     "text": [
      "Requested data from https://waterservices.usgs.gov/nwis/dv/?format=json%2C1.1&sites=06730500&startDT=1946-05-10&endDT=2018-08-29\n"
     ]
    },
    {
     "data": {
      "text/plain": [
       "USGS:06730500: BOULDER CREEK AT MOUTH NEAR LONGMONT, CO\n",
       "    00060: <Day>  Discharge, cubic feet per second \n",
       "Start: 1946-05-10 00:00:00+00:00\n",
       "End:   2018-08-29 00:00:00+00:00"
      ]
     },
     "execution_count": 6,
     "metadata": {},
     "output_type": "execute_result"
    }
   ],
   "source": [
    "# Request data for the site and time period\n",
    "longmont_resp = hf.NWIS(site, 'dv', start, end)\n",
    "\n",
    "longmont_resp"
   ]
  },
  {
   "cell_type": "markdown",
   "id": "966b3020",
   "metadata": {},
   "source": [
    "Check that the request went smoothly:"
   ]
  },
  {
   "cell_type": "code",
   "execution_count": 7,
   "id": "b38df96c",
   "metadata": {},
   "outputs": [
    {
     "data": {
      "text/plain": [
       "True"
      ]
     },
     "execution_count": 7,
     "metadata": {},
     "output_type": "execute_result"
    }
   ],
   "source": [
    "longmont_resp.ok"
   ]
  },
  {
   "cell_type": "code",
   "execution_count": 8,
   "id": "a9174e6b",
   "metadata": {},
   "outputs": [
    {
     "data": {
      "text/html": [
       "<div>\n",
       "<style scoped>\n",
       "    .dataframe tbody tr th:only-of-type {\n",
       "        vertical-align: middle;\n",
       "    }\n",
       "\n",
       "    .dataframe tbody tr th {\n",
       "        vertical-align: top;\n",
       "    }\n",
       "\n",
       "    .dataframe thead th {\n",
       "        text-align: right;\n",
       "    }\n",
       "</style>\n",
       "<table border=\"1\" class=\"dataframe\">\n",
       "  <thead>\n",
       "    <tr style=\"text-align: right;\">\n",
       "      <th></th>\n",
       "      <th>USGS:06730500:00060:00003</th>\n",
       "    </tr>\n",
       "    <tr>\n",
       "      <th>datetimeUTC</th>\n",
       "      <th></th>\n",
       "    </tr>\n",
       "  </thead>\n",
       "  <tbody>\n",
       "    <tr>\n",
       "      <th>1946-05-10 00:00:00+00:00</th>\n",
       "      <td>16.0</td>\n",
       "    </tr>\n",
       "    <tr>\n",
       "      <th>1946-05-11 00:00:00+00:00</th>\n",
       "      <td>19.0</td>\n",
       "    </tr>\n",
       "    <tr>\n",
       "      <th>1946-05-12 00:00:00+00:00</th>\n",
       "      <td>9.0</td>\n",
       "    </tr>\n",
       "    <tr>\n",
       "      <th>1946-05-13 00:00:00+00:00</th>\n",
       "      <td>3.0</td>\n",
       "    </tr>\n",
       "    <tr>\n",
       "      <th>1946-05-14 00:00:00+00:00</th>\n",
       "      <td>7.8</td>\n",
       "    </tr>\n",
       "  </tbody>\n",
       "</table>\n",
       "</div>"
      ],
      "text/plain": [
       "                           USGS:06730500:00060:00003\n",
       "datetimeUTC                                         \n",
       "1946-05-10 00:00:00+00:00                       16.0\n",
       "1946-05-11 00:00:00+00:00                       19.0\n",
       "1946-05-12 00:00:00+00:00                        9.0\n",
       "1946-05-13 00:00:00+00:00                        3.0\n",
       "1946-05-14 00:00:00+00:00                        7.8"
      ]
     },
     "execution_count": 8,
     "metadata": {},
     "output_type": "execute_result"
    }
   ],
   "source": [
    "longmont_discharge = longmont_resp.df('discharge')\n",
    "longmont_discharge.head()"
   ]
  },
  {
   "cell_type": "markdown",
   "id": "286ae910",
   "metadata": {},
   "source": [
    "Now, request the data. The data will be returned as a **pandas** dataframe"
   ]
  },
  {
   "cell_type": "code",
   "execution_count": 9,
   "id": "17d736a2",
   "metadata": {},
   "outputs": [
    {
     "data": {
      "text/html": [
       "<div>\n",
       "<style scoped>\n",
       "    .dataframe tbody tr th:only-of-type {\n",
       "        vertical-align: middle;\n",
       "    }\n",
       "\n",
       "    .dataframe tbody tr th {\n",
       "        vertical-align: top;\n",
       "    }\n",
       "\n",
       "    .dataframe thead th {\n",
       "        text-align: right;\n",
       "    }\n",
       "</style>\n",
       "<table border=\"1\" class=\"dataframe\">\n",
       "  <thead>\n",
       "    <tr style=\"text-align: right;\">\n",
       "      <th></th>\n",
       "      <th>discharge</th>\n",
       "    </tr>\n",
       "    <tr>\n",
       "      <th>datetimeUTC</th>\n",
       "      <th></th>\n",
       "    </tr>\n",
       "  </thead>\n",
       "  <tbody>\n",
       "    <tr>\n",
       "      <th>1946-05-10 00:00:00+00:00</th>\n",
       "      <td>16.0</td>\n",
       "    </tr>\n",
       "    <tr>\n",
       "      <th>1946-05-11 00:00:00+00:00</th>\n",
       "      <td>19.0</td>\n",
       "    </tr>\n",
       "    <tr>\n",
       "      <th>1946-05-12 00:00:00+00:00</th>\n",
       "      <td>9.0</td>\n",
       "    </tr>\n",
       "    <tr>\n",
       "      <th>1946-05-13 00:00:00+00:00</th>\n",
       "      <td>3.0</td>\n",
       "    </tr>\n",
       "    <tr>\n",
       "      <th>1946-05-14 00:00:00+00:00</th>\n",
       "      <td>7.8</td>\n",
       "    </tr>\n",
       "  </tbody>\n",
       "</table>\n",
       "</div>"
      ],
      "text/plain": [
       "                           discharge\n",
       "datetimeUTC                         \n",
       "1946-05-10 00:00:00+00:00       16.0\n",
       "1946-05-11 00:00:00+00:00       19.0\n",
       "1946-05-12 00:00:00+00:00        9.0\n",
       "1946-05-13 00:00:00+00:00        3.0\n",
       "1946-05-14 00:00:00+00:00        7.8"
      ]
     },
     "execution_count": 9,
     "metadata": {},
     "output_type": "execute_result"
    }
   ],
   "source": [
    "# Rename columns\n",
    "longmont_discharge.columns = [\"discharge\"]\n",
    "longmont_discharge.head()"
   ]
  },
  {
   "cell_type": "markdown",
   "id": "2bcc3e81",
   "metadata": {},
   "source": [
    "### Plot Your Data"
   ]
  },
  {
   "cell_type": "markdown",
   "id": "a7ca88aa",
   "metadata": {},
   "source": [
    "Next, plot the time series using matplotlib. What do you notice? There is an unfortunate gap in the data. The good news that while this gap may not work for some analyses, it is acceptable when you calculate a recurrence interval (based on our assumptions of independence and stationarity).\n",
    "\n",
    "Note that below I grab the site variable and add it to my plot title using the syntax:\n",
    "\n",
    "- ax.set_title(\"Stream Discharge - Station {} \\n 1946-2017\".format(site))"
   ]
  },
  {
   "cell_type": "markdown",
   "id": "cca64368",
   "metadata": {},
   "source": [
    "Next, plot the time series using matplotlib. What do you notice? There is an unfortunate gap in the data. The good news that while this gap may not work for some analyses, it is acceptable when you calculate a recurrence interval (based on our assumptions of independence and stationarity).\n",
    "\n",
    "Note that below I grab the site variable and add it to my plot title using the syntax:\n",
    "\n",
    "ax.set_title(\"Stream Discharge - Station {} \\n 1946-2017\".format(site))"
   ]
  },
  {
   "cell_type": "code",
   "execution_count": 10,
   "id": "7570e540",
   "metadata": {},
   "outputs": [
    {
     "data": {
      "image/png": "[encoded data removed]",
      "text/plain": [
       "<Figure size 792x432 with 1 Axes>"
      ]
     },
     "metadata": {
      "needs_background": "light"
     },
     "output_type": "display_data"
    }
   ],
   "source": [
    "# Plot using matplotlib\n",
    "fig, ax = plt.subplots(figsize=(11, 6))\n",
    "\n",
    "ax.scatter(x=longmont_discharge.index,\n",
    "           y=longmont_discharge[\"discharge\"],\n",
    "           marker=\"o\",\n",
    "           s=4,\n",
    "           color=\"purple\")\n",
    "\n",
    "ax.set(xlabel=\"Date\", ylabel=\"Discharge Value (CFS)\",\n",
    "       title=\"Stream Discharge - Station {} \\n {} to {}\".format(site, start, end))\n",
    "\n",
    "plt.show()"
   ]
  },
  {
   "cell_type": "markdown",
   "id": "ae742dde",
   "metadata": {},
   "source": [
    "## Annual Maxima\n",
    "Annual maxima refers to the biggest value that occured within each year. \n",
    "\n",
    "You can take the daily mean values to construct a series of the annual maximum value. This is done using pandas resample."
   ]
  },
  {
   "cell_type": "markdown",
   "id": "3d928fb4",
   "metadata": {},
   "source": [
    "Note that you will compare the data that you download to the analysis of mean dailydata you do below. The instantaneous annual maxima data from the USGS is data collected every 5-30 minutes.\n",
    "\n",
    "The annual maxima that you derive below uses the mean daily value data that you downloaded above. Do you think you will get the same annual maxima each year?"
   ]
  },
  {
   "cell_type": "markdown",
   "id": "bc7b2360",
   "metadata": {},
   "source": [
    "#### Add a Year Column to Your Data\n",
    "Note that below you will add a ‘year’ column to the longmont discharge data. While this step is not necessary for resampling. It will make your life easier when you plot the data later."
   ]
  },
  {
   "cell_type": "code",
   "execution_count": 11,
   "id": "68a3e5dd",
   "metadata": {},
   "outputs": [
    {
     "data": {
      "text/html": [
       "<div>\n",
       "<style scoped>\n",
       "    .dataframe tbody tr th:only-of-type {\n",
       "        vertical-align: middle;\n",
       "    }\n",
       "\n",
       "    .dataframe tbody tr th {\n",
       "        vertical-align: top;\n",
       "    }\n",
       "\n",
       "    .dataframe thead th {\n",
       "        text-align: right;\n",
       "    }\n",
       "</style>\n",
       "<table border=\"1\" class=\"dataframe\">\n",
       "  <thead>\n",
       "    <tr style=\"text-align: right;\">\n",
       "      <th></th>\n",
       "      <th>discharge</th>\n",
       "      <th>year</th>\n",
       "    </tr>\n",
       "    <tr>\n",
       "      <th>datetimeUTC</th>\n",
       "      <th></th>\n",
       "      <th></th>\n",
       "    </tr>\n",
       "  </thead>\n",
       "  <tbody>\n",
       "    <tr>\n",
       "      <th>1946-01-01 00:00:00+00:00</th>\n",
       "      <td>99.000000</td>\n",
       "      <td>1946</td>\n",
       "    </tr>\n",
       "    <tr>\n",
       "      <th>1947-01-01 00:00:00+00:00</th>\n",
       "      <td>1930.000000</td>\n",
       "      <td>1947</td>\n",
       "    </tr>\n",
       "    <tr>\n",
       "      <th>1948-01-01 00:00:00+00:00</th>\n",
       "      <td>339.000000</td>\n",
       "      <td>1948</td>\n",
       "    </tr>\n",
       "    <tr>\n",
       "      <th>1949-01-01 00:00:00+00:00</th>\n",
       "      <td>2010.000000</td>\n",
       "      <td>1949</td>\n",
       "    </tr>\n",
       "    <tr>\n",
       "      <th>1950-01-01 00:00:00+00:00</th>\n",
       "      <td>63.594991</td>\n",
       "      <td>1950</td>\n",
       "    </tr>\n",
       "  </tbody>\n",
       "</table>\n",
       "</div>"
      ],
      "text/plain": [
       "                             discharge  year\n",
       "datetimeUTC                                 \n",
       "1946-01-01 00:00:00+00:00    99.000000  1946\n",
       "1947-01-01 00:00:00+00:00  1930.000000  1947\n",
       "1948-01-01 00:00:00+00:00   339.000000  1948\n",
       "1949-01-01 00:00:00+00:00  2010.000000  1949\n",
       "1950-01-01 00:00:00+00:00    63.594991  1950"
      ]
     },
     "execution_count": 11,
     "metadata": {},
     "output_type": "execute_result"
    }
   ],
   "source": [
    "# add a year column to your longmont discharge data\n",
    "longmont_discharge[\"year\"] = longmont_discharge.index.year\n",
    "\n",
    "# Calculate annual max by resampling\n",
    "longmont_discharge_annual_max = longmont_discharge.resample('AS').max()\n",
    "longmont_discharge_annual_max.head()"
   ]
  },
  {
   "cell_type": "markdown",
   "id": "062a202a",
   "metadata": {},
   "source": [
    "### Import USGS Annual Peak Max Data\n",
    "Next import the USGS annual maxima data."
   ]
  },
  {
   "cell_type": "code",
   "execution_count": 12,
   "id": "52dd40a7",
   "metadata": {},
   "outputs": [
    {
     "name": "stdout",
     "output_type": "stream",
     "text": [
      "Downloading from https://ndownloader.figshare.com/files/16371473\n",
      "Extracted output to C:\\Users\\34639\\earth-analytics\\data\\colorado-flood\\.\n"
     ]
    },
    {
     "data": {
      "text/plain": [
       "('data\\\\colorado-flood\\\\downloads\\\\annual-peak-flow.txt',\n",
       " <http.client.HTTPMessage at 0x1479675db80>)"
      ]
     },
     "execution_count": 12,
     "metadata": {},
     "output_type": "execute_result"
    }
   ],
   "source": [
    "# Get the data & set working director\n",
    "data = et.data.get_data('colorado-flood')\n",
    "os.chdir(os.path.join(et.io.HOME, 'earth-analytics'))\n",
    "\n",
    "# download usgs annual max data from figshare\n",
    "url = \"https://nwis.waterdata.usgs.gov/nwis/peak?site_no=06730500&agency_cd=USGS&format=rdb\"\n",
    "download_path = os.path.join(\"data\", \"colorado-flood\", \n",
    "                             \"downloads\", \"annual-peak-flow.txt\")\n",
    "\n",
    "urllib.request.urlretrieve(url, download_path)"
   ]
  },
  {
   "cell_type": "code",
   "execution_count": 13,
   "id": "dff46eae",
   "metadata": {},
   "outputs": [],
   "source": [
    "# A function that counts the number of lines with a comment \n",
    "def count_the(file_url):\n",
    "    r = requests.get(file_url, stream=True)\n",
    "    file = r.text\n",
    "    count = 0\n",
    "    for line in file:\n",
    "        if line.startswith('#'):\n",
    "            count += 1\n",
    "    return count\n",
    "\n",
    "# Lines to skip\n",
    "line_to_skip = count_the(url)+1"
   ]
  },
  {
   "cell_type": "markdown",
   "id": "86bfe2f3",
   "metadata": {},
   "source": [
    "The data that you are downloading are tab-delimited. When you import, be sure to specify\n",
    "\n",
    "    sep='\\t'\n",
    "\n",
    "to ensure that the data download properly. Notice that below the index_col for the data is not specified when the data are opened in pandas. This is because you will need to bring in 2 lines of data headers. In pandas, two header rows import as a multi-index element. In this particular case it is easier to specify the index after you have removed one line of this multi-index.\n",
    "\n",
    "Your pandas read_csv function will include 4 arguments as follows:\n",
    "\n",
    "- download_path: this is the path where you file is saved\n",
    "- header=[1,2]: this tells pandas to import two header lines - lines 1 and 2 after the skipped rows\n",
    "- sep='\\t': import the data as a tab delimited file\n",
    "- skiprows = 63: skip the first 63 rows of the data. IF you open the data in a text editor you will notice the entire top of the file is all metadata.\n",
    "- parse_dates = [2]: convert the second column in the data to a datetime format\n",
    "\n"
   ]
  },
  {
   "cell_type": "code",
   "execution_count": 14,
   "id": "549713da",
   "metadata": {},
   "outputs": [
    {
     "data": {
      "text/html": [
       "<div>\n",
       "<style scoped>\n",
       "    .dataframe tbody tr th:only-of-type {\n",
       "        vertical-align: middle;\n",
       "    }\n",
       "\n",
       "    .dataframe tbody tr th {\n",
       "        vertical-align: top;\n",
       "    }\n",
       "\n",
       "    .dataframe thead th {\n",
       "        text-align: right;\n",
       "    }\n",
       "</style>\n",
       "<table border=\"1\" class=\"dataframe\">\n",
       "  <thead>\n",
       "    <tr style=\"text-align: right;\">\n",
       "      <th></th>\n",
       "      <th>peak_va</th>\n",
       "    </tr>\n",
       "    <tr>\n",
       "      <th>peak_dt</th>\n",
       "      <th></th>\n",
       "    </tr>\n",
       "  </thead>\n",
       "  <tbody>\n",
       "    <tr>\n",
       "      <th>1927-07-29</th>\n",
       "      <td>407.0</td>\n",
       "    </tr>\n",
       "    <tr>\n",
       "      <th>1928-06-04</th>\n",
       "      <td>694.0</td>\n",
       "    </tr>\n",
       "    <tr>\n",
       "      <th>1929-07-23</th>\n",
       "      <td>530.0</td>\n",
       "    </tr>\n",
       "    <tr>\n",
       "      <th>1930-08-18</th>\n",
       "      <td>353.0</td>\n",
       "    </tr>\n",
       "    <tr>\n",
       "      <th>1931-05-29</th>\n",
       "      <td>369.0</td>\n",
       "    </tr>\n",
       "  </tbody>\n",
       "</table>\n",
       "</div>"
      ],
      "text/plain": [
       "            peak_va\n",
       "peak_dt            \n",
       "1927-07-29    407.0\n",
       "1928-06-04    694.0\n",
       "1929-07-23    530.0\n",
       "1930-08-18    353.0\n",
       "1931-05-29    369.0"
      ]
     },
     "execution_count": 14,
     "metadata": {},
     "output_type": "execute_result"
    }
   ],
   "source": [
    "# Open the data using pandas\n",
    "usgs_annual_max = pd.read_csv(download_path,\n",
    "                              skiprows=[line_to_skip],\n",
    "                              comment=\"#\",\n",
    "                              sep='\\t',\n",
    "                              usecols=[\"peak_dt\",\"peak_va\"],\n",
    "                              parse_dates=[\"peak_dt\"],\n",
    "                              index_col=\"peak_dt\")\n",
    "\n",
    "usgs_annual_max.head()"
   ]
  },
  {
   "cell_type": "markdown",
   "id": "c3595012",
   "metadata": {},
   "source": [
    "Next, add a year column to your data for easy plotting and make sure that you have only one value per year as expected."
   ]
  },
  {
   "cell_type": "code",
   "execution_count": null,
   "id": "6c26cc94",
   "metadata": {},
   "outputs": [],
   "source": []
  }
 ],
 "metadata": {
  "kernelspec": {
   "display_name": "Python 3",
   "language": "python",
   "name": "python3"
  },
  "language_info": {
   "codemirror_mode": {
    "name": "ipython",
    "version": 3
   },
   "file_extension": ".py",
   "mimetype": "text/x-python",
   "name": "python",
   "nbconvert_exporter": "python",
   "pygments_lexer": "ipython3",
   "version": "3.9.4"
  }
 },
 "nbformat": 4,
 "nbformat_minor": 5
}
