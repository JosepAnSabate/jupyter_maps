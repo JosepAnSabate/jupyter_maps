{
 "cells": [
  {
   "cell_type": "code",
   "execution_count": 22,
   "id": "67f59311",
   "metadata": {},
   "outputs": [],
   "source": [
    "import pandas as pd\n",
    "import matplotlib.pyplot as plt\n",
    "import seaborn as sns"
   ]
  },
  {
   "cell_type": "code",
   "execution_count": 24,
   "id": "04ca5728",
   "metadata": {},
   "outputs": [],
   "source": [
    "# Date time conversion registration\n",
    "from pandas.plotting import register_matplotlib_converters\n",
    "register_matplotlib_converters()\n",
    "\n",
    "# Prettier plotting with seaborn\n",
    "sns.set(font_scale=1.5, style=\"whitegrid\")\n",
    "\n",
    "%matplotlib inline"
   ]
  },
  {
   "cell_type": "code",
   "execution_count": 25,
   "id": "f0974e6d",
   "metadata": {},
   "outputs": [],
   "source": [
    "# index has to be uniques values\n",
    "df_c = pd.read_excel('C:/capes_sql/riuada/aca_cabals_2010_2019.xlsx',                                     \n",
    "                                    skiprows=[0,1,2,3,4,5,6],\n",
    "                                    parse_dates=['Data'],                                     \n",
    "                                     )\n",
    "df_c = df_c.drop(columns=['Unnamed: 0','Unnamed: 3','Unnamed: 5','Unnamed: 11']) "
   ]
  },
  {
   "cell_type": "code",
   "execution_count": 26,
   "id": "e7462a7f",
   "metadata": {},
   "outputs": [
    {
     "data": {
      "text/html": [
       "<div>\n",
       "<style scoped>\n",
       "    .dataframe tbody tr th:only-of-type {\n",
       "        vertical-align: middle;\n",
       "    }\n",
       "\n",
       "    .dataframe tbody tr th {\n",
       "        vertical-align: top;\n",
       "    }\n",
       "\n",
       "    .dataframe thead th {\n",
       "        text-align: right;\n",
       "    }\n",
       "</style>\n",
       "<table border=\"1\" class=\"dataframe\">\n",
       "  <thead>\n",
       "    <tr style=\"text-align: right;\">\n",
       "      <th></th>\n",
       "      <th>Data</th>\n",
       "      <th>Estació</th>\n",
       "      <th>Conca</th>\n",
       "      <th>UTM X</th>\n",
       "      <th>UTM Y</th>\n",
       "      <th>Variable</th>\n",
       "      <th>Mitjana</th>\n",
       "      <th>Unitat Mesura</th>\n",
       "    </tr>\n",
       "  </thead>\n",
       "  <tbody>\n",
       "    <tr>\n",
       "      <th>0</th>\n",
       "      <td>2010-01-01</td>\n",
       "      <td>Aforament - Montblanc</td>\n",
       "      <td>EL FRANCOLÍ</td>\n",
       "      <td>347766</td>\n",
       "      <td>4580851</td>\n",
       "      <td>EA028_Montblanc_Cabal riu Francoli</td>\n",
       "      <td>0.130181</td>\n",
       "      <td>m³/s</td>\n",
       "    </tr>\n",
       "    <tr>\n",
       "      <th>1</th>\n",
       "      <td>2010-01-01</td>\n",
       "      <td>Aforament - Montblanc</td>\n",
       "      <td>EL FRANCOLÍ</td>\n",
       "      <td>347766</td>\n",
       "      <td>4580851</td>\n",
       "      <td>EA028_Montblanc_Nivell riu Francoli</td>\n",
       "      <td>0.105094</td>\n",
       "      <td>m</td>\n",
       "    </tr>\n",
       "    <tr>\n",
       "      <th>2</th>\n",
       "      <td>2010-01-02</td>\n",
       "      <td>Aforament - Montblanc</td>\n",
       "      <td>EL FRANCOLÍ</td>\n",
       "      <td>347766</td>\n",
       "      <td>4580851</td>\n",
       "      <td>EA028_Montblanc_Cabal riu Francoli</td>\n",
       "      <td>0.130000</td>\n",
       "      <td>m³/s</td>\n",
       "    </tr>\n",
       "  </tbody>\n",
       "</table>\n",
       "</div>"
      ],
      "text/plain": [
       "        Data                Estació        Conca   UTM X    UTM Y  \\\n",
       "0 2010-01-01  Aforament - Montblanc  EL FRANCOLÍ  347766  4580851   \n",
       "1 2010-01-01  Aforament - Montblanc  EL FRANCOLÍ  347766  4580851   \n",
       "2 2010-01-02  Aforament - Montblanc  EL FRANCOLÍ  347766  4580851   \n",
       "\n",
       "                              Variable   Mitjana Unitat Mesura  \n",
       "0   EA028_Montblanc_Cabal riu Francoli  0.130181          m³/s  \n",
       "1  EA028_Montblanc_Nivell riu Francoli  0.105094             m  \n",
       "2   EA028_Montblanc_Cabal riu Francoli  0.130000          m³/s  "
      ]
     },
     "execution_count": 26,
     "metadata": {},
     "output_type": "execute_result"
    }
   ],
   "source": [
    "df_c.head(3)"
   ]
  },
  {
   "cell_type": "markdown",
   "id": "42122aab",
   "metadata": {},
   "source": [
    "### Drop height values          "
   ]
  },
  {
   "cell_type": "code",
   "execution_count": 27,
   "id": "7cadaaa6",
   "metadata": {},
   "outputs": [],
   "source": [
    "# get names of indexes for which\n",
    "height = df_c[ df_c['Unitat Mesura'] == 'm' ].index"
   ]
  },
  {
   "cell_type": "code",
   "execution_count": 28,
   "id": "928b958b",
   "metadata": {},
   "outputs": [
    {
     "data": {
      "text/html": [
       "<div>\n",
       "<style scoped>\n",
       "    .dataframe tbody tr th:only-of-type {\n",
       "        vertical-align: middle;\n",
       "    }\n",
       "\n",
       "    .dataframe tbody tr th {\n",
       "        vertical-align: top;\n",
       "    }\n",
       "\n",
       "    .dataframe thead th {\n",
       "        text-align: right;\n",
       "    }\n",
       "</style>\n",
       "<table border=\"1\" class=\"dataframe\">\n",
       "  <thead>\n",
       "    <tr style=\"text-align: right;\">\n",
       "      <th></th>\n",
       "      <th>Data</th>\n",
       "      <th>Estació</th>\n",
       "      <th>Conca</th>\n",
       "      <th>UTM X</th>\n",
       "      <th>UTM Y</th>\n",
       "      <th>Variable</th>\n",
       "      <th>Mitjana</th>\n",
       "      <th>Unitat Mesura</th>\n",
       "    </tr>\n",
       "  </thead>\n",
       "  <tbody>\n",
       "    <tr>\n",
       "      <th>6593</th>\n",
       "      <td>2019-10-19</td>\n",
       "      <td>Aforament - Montblanc</td>\n",
       "      <td>EL FRANCOLÍ</td>\n",
       "      <td>347766</td>\n",
       "      <td>4580851</td>\n",
       "      <td>EA028_Montblanc_Cabal riu Francoli</td>\n",
       "      <td>0.037600</td>\n",
       "      <td>m³/s</td>\n",
       "    </tr>\n",
       "    <tr>\n",
       "      <th>6595</th>\n",
       "      <td>2019-10-20</td>\n",
       "      <td>Aforament - Montblanc</td>\n",
       "      <td>EL FRANCOLÍ</td>\n",
       "      <td>347766</td>\n",
       "      <td>4580851</td>\n",
       "      <td>EA028_Montblanc_Cabal riu Francoli</td>\n",
       "      <td>0.064600</td>\n",
       "      <td>m³/s</td>\n",
       "    </tr>\n",
       "    <tr>\n",
       "      <th>6597</th>\n",
       "      <td>2019-10-21</td>\n",
       "      <td>Aforament - Montblanc</td>\n",
       "      <td>EL FRANCOLÍ</td>\n",
       "      <td>347766</td>\n",
       "      <td>4580851</td>\n",
       "      <td>EA028_Montblanc_Cabal riu Francoli</td>\n",
       "      <td>0.064417</td>\n",
       "      <td>m³/s</td>\n",
       "    </tr>\n",
       "    <tr>\n",
       "      <th>6599</th>\n",
       "      <td>2019-10-22</td>\n",
       "      <td>Aforament - Montblanc</td>\n",
       "      <td>EL FRANCOLÍ</td>\n",
       "      <td>347766</td>\n",
       "      <td>4580851</td>\n",
       "      <td>EA028_Montblanc_Cabal riu Francoli</td>\n",
       "      <td>1.252800</td>\n",
       "      <td>m³/s</td>\n",
       "    </tr>\n",
       "    <tr>\n",
       "      <th>6601</th>\n",
       "      <td>2019-10-23</td>\n",
       "      <td>Aforament - Montblanc</td>\n",
       "      <td>EL FRANCOLÍ</td>\n",
       "      <td>347766</td>\n",
       "      <td>4580851</td>\n",
       "      <td>EA028_Montblanc_Cabal riu Francoli</td>\n",
       "      <td>0.000000</td>\n",
       "      <td>m³/s</td>\n",
       "    </tr>\n",
       "  </tbody>\n",
       "</table>\n",
       "</div>"
      ],
      "text/plain": [
       "           Data                Estació        Conca   UTM X    UTM Y  \\\n",
       "6593 2019-10-19  Aforament - Montblanc  EL FRANCOLÍ  347766  4580851   \n",
       "6595 2019-10-20  Aforament - Montblanc  EL FRANCOLÍ  347766  4580851   \n",
       "6597 2019-10-21  Aforament - Montblanc  EL FRANCOLÍ  347766  4580851   \n",
       "6599 2019-10-22  Aforament - Montblanc  EL FRANCOLÍ  347766  4580851   \n",
       "6601 2019-10-23  Aforament - Montblanc  EL FRANCOLÍ  347766  4580851   \n",
       "\n",
       "                                Variable   Mitjana Unitat Mesura  \n",
       "6593  EA028_Montblanc_Cabal riu Francoli  0.037600          m³/s  \n",
       "6595  EA028_Montblanc_Cabal riu Francoli  0.064600          m³/s  \n",
       "6597  EA028_Montblanc_Cabal riu Francoli  0.064417          m³/s  \n",
       "6599  EA028_Montblanc_Cabal riu Francoli  1.252800          m³/s  \n",
       "6601  EA028_Montblanc_Cabal riu Francoli  0.000000          m³/s  "
      ]
     },
     "execution_count": 28,
     "metadata": {},
     "output_type": "execute_result"
    }
   ],
   "source": [
    "df_c.drop(height, inplace = True)\n",
    "df_c.tail()"
   ]
  },
  {
   "cell_type": "markdown",
   "id": "cc5e8f6b",
   "metadata": {},
   "source": [
    "### Data avaluation"
   ]
  },
  {
   "cell_type": "code",
   "execution_count": 29,
   "id": "6ce7bb23",
   "metadata": {},
   "outputs": [
    {
     "name": "stdout",
     "output_type": "stream",
     "text": [
      "<class 'pandas.core.frame.DataFrame'>\n",
      "Int64Index: 3302 entries, 0 to 6601\n",
      "Data columns (total 8 columns):\n",
      " #   Column         Non-Null Count  Dtype         \n",
      "---  ------         --------------  -----         \n",
      " 0   Data           3302 non-null   datetime64[ns]\n",
      " 1   Estació        3302 non-null   object        \n",
      " 2   Conca          3302 non-null   object        \n",
      " 3   UTM X          3302 non-null   int64         \n",
      " 4   UTM Y          3302 non-null   int64         \n",
      " 5   Variable       3302 non-null   object        \n",
      " 6   Mitjana        3302 non-null   float64       \n",
      " 7   Unitat Mesura  3302 non-null   object        \n",
      "dtypes: datetime64[ns](1), float64(1), int64(2), object(4)\n",
      "memory usage: 232.2+ KB\n"
     ]
    }
   ],
   "source": [
    "df_c.info()"
   ]
  },
  {
   "cell_type": "code",
   "execution_count": 30,
   "id": "33df6344",
   "metadata": {},
   "outputs": [
    {
     "data": {
      "text/html": [
       "<div>\n",
       "<style scoped>\n",
       "    .dataframe tbody tr th:only-of-type {\n",
       "        vertical-align: middle;\n",
       "    }\n",
       "\n",
       "    .dataframe tbody tr th {\n",
       "        vertical-align: top;\n",
       "    }\n",
       "\n",
       "    .dataframe thead th {\n",
       "        text-align: right;\n",
       "    }\n",
       "</style>\n",
       "<table border=\"1\" class=\"dataframe\">\n",
       "  <thead>\n",
       "    <tr style=\"text-align: right;\">\n",
       "      <th></th>\n",
       "      <th>UTM X</th>\n",
       "      <th>UTM Y</th>\n",
       "      <th>Mitjana</th>\n",
       "    </tr>\n",
       "  </thead>\n",
       "  <tbody>\n",
       "    <tr>\n",
       "      <th>count</th>\n",
       "      <td>3302.0</td>\n",
       "      <td>3302.0</td>\n",
       "      <td>3302.000000</td>\n",
       "    </tr>\n",
       "    <tr>\n",
       "      <th>mean</th>\n",
       "      <td>347766.0</td>\n",
       "      <td>4580851.0</td>\n",
       "      <td>0.293488</td>\n",
       "    </tr>\n",
       "    <tr>\n",
       "      <th>std</th>\n",
       "      <td>0.0</td>\n",
       "      <td>0.0</td>\n",
       "      <td>0.579239</td>\n",
       "    </tr>\n",
       "    <tr>\n",
       "      <th>min</th>\n",
       "      <td>347766.0</td>\n",
       "      <td>4580851.0</td>\n",
       "      <td>0.000000</td>\n",
       "    </tr>\n",
       "    <tr>\n",
       "      <th>25%</th>\n",
       "      <td>347766.0</td>\n",
       "      <td>4580851.0</td>\n",
       "      <td>0.070115</td>\n",
       "    </tr>\n",
       "    <tr>\n",
       "      <th>50%</th>\n",
       "      <td>347766.0</td>\n",
       "      <td>4580851.0</td>\n",
       "      <td>0.143259</td>\n",
       "    </tr>\n",
       "    <tr>\n",
       "      <th>75%</th>\n",
       "      <td>347766.0</td>\n",
       "      <td>4580851.0</td>\n",
       "      <td>0.334146</td>\n",
       "    </tr>\n",
       "    <tr>\n",
       "      <th>max</th>\n",
       "      <td>347766.0</td>\n",
       "      <td>4580851.0</td>\n",
       "      <td>15.663038</td>\n",
       "    </tr>\n",
       "  </tbody>\n",
       "</table>\n",
       "</div>"
      ],
      "text/plain": [
       "          UTM X      UTM Y      Mitjana\n",
       "count    3302.0     3302.0  3302.000000\n",
       "mean   347766.0  4580851.0     0.293488\n",
       "std         0.0        0.0     0.579239\n",
       "min    347766.0  4580851.0     0.000000\n",
       "25%    347766.0  4580851.0     0.070115\n",
       "50%    347766.0  4580851.0     0.143259\n",
       "75%    347766.0  4580851.0     0.334146\n",
       "max    347766.0  4580851.0    15.663038"
      ]
     },
     "execution_count": 30,
     "metadata": {},
     "output_type": "execute_result"
    }
   ],
   "source": [
    "df_c.describe()"
   ]
  },
  {
   "cell_type": "code",
   "execution_count": 31,
   "id": "a9662357",
   "metadata": {},
   "outputs": [
    {
     "data": {
      "text/plain": [
       "Data             3302\n",
       "Estació          3302\n",
       "Conca            3302\n",
       "UTM X            3302\n",
       "UTM Y            3302\n",
       "Variable         3302\n",
       "Mitjana          3302\n",
       "Unitat Mesura    3302\n",
       "dtype: int64"
      ]
     },
     "execution_count": 31,
     "metadata": {},
     "output_type": "execute_result"
    }
   ],
   "source": [
    "#count no null values\n",
    "df_c.dropna().count()"
   ]
  },
  {
   "cell_type": "code",
   "execution_count": 32,
   "id": "1d9d5b6e",
   "metadata": {},
   "outputs": [
    {
     "data": {
      "text/plain": [
       "3302"
      ]
     },
     "execution_count": 32,
     "metadata": {},
     "output_type": "execute_result"
    }
   ],
   "source": [
    "#count values\n",
    "len(df_c)"
   ]
  },
  {
   "cell_type": "code",
   "execution_count": 33,
   "id": "9e7d80e4",
   "metadata": {},
   "outputs": [
    {
     "data": {
      "text/html": [
       "<div>\n",
       "<style scoped>\n",
       "    .dataframe tbody tr th:only-of-type {\n",
       "        vertical-align: middle;\n",
       "    }\n",
       "\n",
       "    .dataframe tbody tr th {\n",
       "        vertical-align: top;\n",
       "    }\n",
       "\n",
       "    .dataframe thead th {\n",
       "        text-align: right;\n",
       "    }\n",
       "</style>\n",
       "<table border=\"1\" class=\"dataframe\">\n",
       "  <thead>\n",
       "    <tr style=\"text-align: right;\">\n",
       "      <th></th>\n",
       "      <th>Estació</th>\n",
       "      <th>Conca</th>\n",
       "      <th>UTM X</th>\n",
       "      <th>UTM Y</th>\n",
       "      <th>Variable</th>\n",
       "      <th>Mitjana</th>\n",
       "      <th>Unitat Mesura</th>\n",
       "    </tr>\n",
       "    <tr>\n",
       "      <th>Data</th>\n",
       "      <th></th>\n",
       "      <th></th>\n",
       "      <th></th>\n",
       "      <th></th>\n",
       "      <th></th>\n",
       "      <th></th>\n",
       "      <th></th>\n",
       "    </tr>\n",
       "  </thead>\n",
       "  <tbody>\n",
       "    <tr>\n",
       "      <th>2010-01-01</th>\n",
       "      <td>Aforament - Montblanc</td>\n",
       "      <td>EL FRANCOLÍ</td>\n",
       "      <td>347766</td>\n",
       "      <td>4580851</td>\n",
       "      <td>EA028_Montblanc_Cabal riu Francoli</td>\n",
       "      <td>0.130181</td>\n",
       "      <td>m³/s</td>\n",
       "    </tr>\n",
       "    <tr>\n",
       "      <th>2010-01-02</th>\n",
       "      <td>Aforament - Montblanc</td>\n",
       "      <td>EL FRANCOLÍ</td>\n",
       "      <td>347766</td>\n",
       "      <td>4580851</td>\n",
       "      <td>EA028_Montblanc_Cabal riu Francoli</td>\n",
       "      <td>0.130000</td>\n",
       "      <td>m³/s</td>\n",
       "    </tr>\n",
       "  </tbody>\n",
       "</table>\n",
       "</div>"
      ],
      "text/plain": [
       "                          Estació        Conca   UTM X    UTM Y  \\\n",
       "Data                                                              \n",
       "2010-01-01  Aforament - Montblanc  EL FRANCOLÍ  347766  4580851   \n",
       "2010-01-02  Aforament - Montblanc  EL FRANCOLÍ  347766  4580851   \n",
       "\n",
       "                                      Variable   Mitjana Unitat Mesura  \n",
       "Data                                                                    \n",
       "2010-01-01  EA028_Montblanc_Cabal riu Francoli  0.130181          m³/s  \n",
       "2010-01-02  EA028_Montblanc_Cabal riu Francoli  0.130000          m³/s  "
      ]
     },
     "execution_count": 33,
     "metadata": {},
     "output_type": "execute_result"
    }
   ],
   "source": [
    "#data as index\n",
    "df_c = df_c.set_index('Data')\n",
    "df_c.head(2)"
   ]
  },
  {
   "cell_type": "markdown",
   "id": "d3e5b27b",
   "metadata": {},
   "source": [
    "## Plot the data"
   ]
  },
  {
   "cell_type": "code",
   "execution_count": 35,
   "id": "00497d08",
   "metadata": {},
   "outputs": [
    {
     "data": {
      "image/png": "[encoded data removed]",
      "text/plain": [
       "<Figure size 792x432 with 1 Axes>"
      ]
     },
     "metadata": {
      "needs_background": "light"
     },
     "output_type": "display_data"
    }
   ],
   "source": [
    "# Plot using matplotlib\n",
    "fig, ax = plt.subplots(figsize=(11, 6))\n",
    "\n",
    "ax.scatter(x=df_c.index,\n",
    "           y=df_c[\"Mitjana\"],\n",
    "           marker=\"o\",# o points x x marks\n",
    "           s=15,#size markers\n",
    "           color=\"purple\",\n",
    "           )\n",
    "\n",
    "ax.set(xlabel=\"Date\", ylabel=\"Discharge Value (m3/s)\",\n",
    "       title=\"Mean Daily stream Discharge - Station Pont de la fusta \\n 2010-01-31 to 2019/10/23\")\n",
    "\n",
    "plt.show()"
   ]
  },
  {
   "cell_type": "code",
   "execution_count": null,
   "id": "e7149946",
   "metadata": {},
   "outputs": [],
   "source": []
  }
 ],
 "metadata": {
  "kernelspec": {
   "display_name": "Python 3",
   "language": "python",
   "name": "python3"
  },
  "language_info": {
   "codemirror_mode": {
    "name": "ipython",
    "version": 3
   },
   "file_extension": ".py",
   "mimetype": "text/x-python",
   "name": "python",
   "nbconvert_exporter": "python",
   "pygments_lexer": "ipython3",
   "version": "3.9.4"
  }
 },
 "nbformat": 4,
 "nbformat_minor": 5
}
