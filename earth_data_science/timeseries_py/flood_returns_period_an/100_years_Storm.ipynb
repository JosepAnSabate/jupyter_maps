{
 "cells": [
  {
   "cell_type": "markdown",
   "id": "b035b1bd",
   "metadata": {},
   "source": [
    "**Does a 100-year storm always cause a 100-year flood?**\n",
    "\n",
    "No. Several factors can independently influence the cause-and-effect relation between rainfall and streamflow.\n",
    "\n",
    "Extent of rainfall in the watershed: When rainfall data are collected at a point within a stream basin, it is highly unlikely that this same amount of rainfall occurred uniformly throughout the entire basin. During intensely localized storms, rainfall amounts throughout the basin can differ greatly from the rainfall amount measured at the location of the rain gage. Some parts of the basin may even remain dry, supplying no additional runoff to the streamflow and lessening the impact of the storm."
   ]
  },
  {
   "cell_type": "markdown",
   "id": "aa420cc4",
   "metadata": {},
   "source": [
    "Soil saturation before the storm: Existing conditions prior to the storm can influence the amount of stormwater runoff into the stream system. Dry soil allows greater infiltration of rainfall and reduces the amount of runoff entering the stream. Conversely, soil that is already wet from previous rains has a lower capacity for infiltration, allowing more runoff to enter the stream.\n",
    "\n",
    "Relation between the size of the watershed and duration of the storm: Another factor to consider is the relation between the duration of the storm and the size of the stream basin in which the storm occurs. For example, a 100-year storm of 30-minutes duration in a 1-square-mile (mi2) basin will have a more significant effect on streamflow than the same storm in a 50-mi2 basin. Generally, streams with larger drainage areas require storms of longer duration for a significant increase in streamflow to occur. These and other factors determine whether or not a 100-year storm will produce a 100-year flood."
   ]
  },
  {
   "cell_type": "code",
   "execution_count": 7,
   "id": "76aecdc1",
   "metadata": {},
   "outputs": [],
   "source": [
    "import pandas as pd\n",
    "import matplotlib.pyplot as plt\n",
    "import seaborn as sns\n",
    "\n",
    "# Date time conversion registration\n",
    "from pandas.plotting import register_matplotlib_converters\n",
    "register_matplotlib_converters()\n",
    "\n",
    "# Prettier plotting with seaborn\n",
    "sns.set(font_scale=1.5, style=\"whitegrid\")\n",
    "\n",
    "%matplotlib inline"
   ]
  },
  {
   "cell_type": "code",
   "execution_count": 5,
   "id": "065b2b0d",
   "metadata": {},
   "outputs": [
    {
     "data": {
      "text/html": [
       "<div>\n",
       "<style scoped>\n",
       "    .dataframe tbody tr th:only-of-type {\n",
       "        vertical-align: middle;\n",
       "    }\n",
       "\n",
       "    .dataframe tbody tr th {\n",
       "        vertical-align: top;\n",
       "    }\n",
       "\n",
       "    .dataframe thead th {\n",
       "        text-align: right;\n",
       "    }\n",
       "</style>\n",
       "<table border=\"1\" class=\"dataframe\">\n",
       "  <thead>\n",
       "    <tr style=\"text-align: right;\">\n",
       "      <th></th>\n",
       "      <th>STATION</th>\n",
       "      <th>STATION_NAME</th>\n",
       "      <th>ELEVATION</th>\n",
       "      <th>LATITUDE</th>\n",
       "      <th>LONGITUDE</th>\n",
       "      <th>HPCP</th>\n",
       "      <th>Measurement Flag</th>\n",
       "      <th>Quality Flag</th>\n",
       "    </tr>\n",
       "    <tr>\n",
       "      <th>DATE</th>\n",
       "      <th></th>\n",
       "      <th></th>\n",
       "      <th></th>\n",
       "      <th></th>\n",
       "      <th></th>\n",
       "      <th></th>\n",
       "      <th></th>\n",
       "      <th></th>\n",
       "    </tr>\n",
       "  </thead>\n",
       "  <tbody>\n",
       "    <tr>\n",
       "      <th>1948-08-01 01:00:00</th>\n",
       "      <td>COOP:050843</td>\n",
       "      <td>BOULDER 2 CO US</td>\n",
       "      <td>unknown</td>\n",
       "      <td>unknown</td>\n",
       "      <td>unknown</td>\n",
       "      <td>0.00</td>\n",
       "      <td>g</td>\n",
       "      <td></td>\n",
       "    </tr>\n",
       "    <tr>\n",
       "      <th>1948-08-02 15:00:00</th>\n",
       "      <td>COOP:050843</td>\n",
       "      <td>BOULDER 2 CO US</td>\n",
       "      <td>unknown</td>\n",
       "      <td>unknown</td>\n",
       "      <td>unknown</td>\n",
       "      <td>0.05</td>\n",
       "      <td></td>\n",
       "      <td></td>\n",
       "    </tr>\n",
       "    <tr>\n",
       "      <th>1948-08-03 09:00:00</th>\n",
       "      <td>COOP:050843</td>\n",
       "      <td>BOULDER 2 CO US</td>\n",
       "      <td>unknown</td>\n",
       "      <td>unknown</td>\n",
       "      <td>unknown</td>\n",
       "      <td>0.01</td>\n",
       "      <td></td>\n",
       "      <td></td>\n",
       "    </tr>\n",
       "    <tr>\n",
       "      <th>1948-08-03 14:00:00</th>\n",
       "      <td>COOP:050843</td>\n",
       "      <td>BOULDER 2 CO US</td>\n",
       "      <td>unknown</td>\n",
       "      <td>unknown</td>\n",
       "      <td>unknown</td>\n",
       "      <td>0.03</td>\n",
       "      <td></td>\n",
       "      <td></td>\n",
       "    </tr>\n",
       "    <tr>\n",
       "      <th>1948-08-03 15:00:00</th>\n",
       "      <td>COOP:050843</td>\n",
       "      <td>BOULDER 2 CO US</td>\n",
       "      <td>unknown</td>\n",
       "      <td>unknown</td>\n",
       "      <td>unknown</td>\n",
       "      <td>0.03</td>\n",
       "      <td></td>\n",
       "      <td></td>\n",
       "    </tr>\n",
       "  </tbody>\n",
       "</table>\n",
       "</div>"
      ],
      "text/plain": [
       "                         STATION     STATION_NAME ELEVATION LATITUDE  \\\n",
       "DATE                                                                   \n",
       "1948-08-01 01:00:00  COOP:050843  BOULDER 2 CO US   unknown  unknown   \n",
       "1948-08-02 15:00:00  COOP:050843  BOULDER 2 CO US   unknown  unknown   \n",
       "1948-08-03 09:00:00  COOP:050843  BOULDER 2 CO US   unknown  unknown   \n",
       "1948-08-03 14:00:00  COOP:050843  BOULDER 2 CO US   unknown  unknown   \n",
       "1948-08-03 15:00:00  COOP:050843  BOULDER 2 CO US   unknown  unknown   \n",
       "\n",
       "                    LONGITUDE  HPCP Measurement Flag Quality Flag  \n",
       "DATE                                                               \n",
       "1948-08-01 01:00:00   unknown  0.00                g               \n",
       "1948-08-02 15:00:00   unknown  0.05                                \n",
       "1948-08-03 09:00:00   unknown  0.01                                \n",
       "1948-08-03 14:00:00   unknown  0.03                                \n",
       "1948-08-03 15:00:00   unknown  0.03                                "
      ]
     },
     "execution_count": 5,
     "metadata": {},
     "output_type": "execute_result"
    }
   ],
   "source": [
    "# Import data using datetime and no data value\n",
    "precip_daily_1948_2013 = pd.read_csv('C:\\capes_sql\\colorado-flood\\precipitation/805333-precip-daily-1948-2013.csv',\n",
    "                                     parse_dates=['DATE'],\n",
    "                                     index_col= ['DATE'],\n",
    "                                     na_values=['999.99'],\n",
    "                                    sep=',')\n",
    "\n",
    "precip_daily_1948_2013.head()"
   ]
  },
  {
   "cell_type": "code",
   "execution_count": 10,
   "id": "a66d9132",
   "metadata": {},
   "outputs": [
    {
     "data": {
      "image/png": "[encoded data removed]",
      "text/plain": [
       "<Figure size 720x720 with 1 Axes>"
      ]
     },
     "metadata": {
      "needs_background": "light"
     },
     "output_type": "display_data"
    }
   ],
   "source": [
    "# Create figure and plot space\n",
    "fig, ax = plt.subplots(figsize=(10, 10))\n",
    "\n",
    "# Add x-axis and y-axis\n",
    "ax.plot(precip_daily_1948_2013.index.values, #lineal = plot\n",
    "           precip_daily_1948_2013['HPCP'],\n",
    "           color='purple')\n",
    "\n",
    "# Set title and labels for axes\n",
    "ax.set(xlabel=\"Date\",\n",
    "       ylabel=\"Hundredths of inches or tenths of millimeters (HPCP)\",\n",
    "       title=\"Daily precipitation \\n 1984-2013\")\n",
    "\n",
    "\n",
    "plt.show()"
   ]
  },
  {
   "cell_type": "markdown",
   "id": "44de3a77",
   "metadata": {},
   "source": [
    "# Annual Maxima"
   ]
  },
  {
   "cell_type": "markdown",
   "id": "9326f754",
   "metadata": {},
   "source": [
    "You can take the daily mean values to construct a series of the annual maximum value. This is done using pandas resample"
   ]
  },
  {
   "cell_type": "code",
   "execution_count": 15,
   "id": "ffc624c6",
   "metadata": {},
   "outputs": [
    {
     "data": {
      "text/html": [
       "<div>\n",
       "<style scoped>\n",
       "    .dataframe tbody tr th:only-of-type {\n",
       "        vertical-align: middle;\n",
       "    }\n",
       "\n",
       "    .dataframe tbody tr th {\n",
       "        vertical-align: top;\n",
       "    }\n",
       "\n",
       "    .dataframe thead th {\n",
       "        text-align: right;\n",
       "    }\n",
       "</style>\n",
       "<table border=\"1\" class=\"dataframe\">\n",
       "  <thead>\n",
       "    <tr style=\"text-align: right;\">\n",
       "      <th></th>\n",
       "      <th>STATION</th>\n",
       "      <th>STATION_NAME</th>\n",
       "      <th>ELEVATION</th>\n",
       "      <th>LATITUDE</th>\n",
       "      <th>LONGITUDE</th>\n",
       "      <th>HPCP</th>\n",
       "      <th>Measurement Flag</th>\n",
       "      <th>Quality Flag</th>\n",
       "      <th>year</th>\n",
       "    </tr>\n",
       "    <tr>\n",
       "      <th>DATE</th>\n",
       "      <th></th>\n",
       "      <th></th>\n",
       "      <th></th>\n",
       "      <th></th>\n",
       "      <th></th>\n",
       "      <th></th>\n",
       "      <th></th>\n",
       "      <th></th>\n",
       "      <th></th>\n",
       "    </tr>\n",
       "  </thead>\n",
       "  <tbody>\n",
       "    <tr>\n",
       "      <th>1948-01-01</th>\n",
       "      <td>COOP:050843</td>\n",
       "      <td>BOULDER 2 CO US</td>\n",
       "      <td>unknown</td>\n",
       "      <td>unknown</td>\n",
       "      <td>unknown</td>\n",
       "      <td>0.55</td>\n",
       "      <td>g</td>\n",
       "      <td></td>\n",
       "      <td>1948</td>\n",
       "    </tr>\n",
       "    <tr>\n",
       "      <th>1949-01-01</th>\n",
       "      <td>COOP:050843</td>\n",
       "      <td>BOULDER 2 CO US</td>\n",
       "      <td>unknown</td>\n",
       "      <td>unknown</td>\n",
       "      <td>unknown</td>\n",
       "      <td>0.63</td>\n",
       "      <td>g</td>\n",
       "      <td></td>\n",
       "      <td>1949</td>\n",
       "    </tr>\n",
       "    <tr>\n",
       "      <th>1950-01-01</th>\n",
       "      <td>COOP:050843</td>\n",
       "      <td>BOULDER 2 CO US</td>\n",
       "      <td>unknown</td>\n",
       "      <td>unknown</td>\n",
       "      <td>unknown</td>\n",
       "      <td>2.00</td>\n",
       "      <td>g</td>\n",
       "      <td></td>\n",
       "      <td>1950</td>\n",
       "    </tr>\n",
       "    <tr>\n",
       "      <th>1951-01-01</th>\n",
       "      <td>COOP:050843</td>\n",
       "      <td>BOULDER 2 CO US</td>\n",
       "      <td>unknown</td>\n",
       "      <td>unknown</td>\n",
       "      <td>unknown</td>\n",
       "      <td>1.66</td>\n",
       "      <td>g</td>\n",
       "      <td></td>\n",
       "      <td>1951</td>\n",
       "    </tr>\n",
       "    <tr>\n",
       "      <th>1952-01-01</th>\n",
       "      <td>COOP:050843</td>\n",
       "      <td>BOULDER 2 CO US</td>\n",
       "      <td>unknown</td>\n",
       "      <td>unknown</td>\n",
       "      <td>unknown</td>\n",
       "      <td>1.81</td>\n",
       "      <td>g</td>\n",
       "      <td></td>\n",
       "      <td>1952</td>\n",
       "    </tr>\n",
       "  </tbody>\n",
       "</table>\n",
       "</div>"
      ],
      "text/plain": [
       "                STATION     STATION_NAME ELEVATION LATITUDE LONGITUDE  HPCP  \\\n",
       "DATE                                                                          \n",
       "1948-01-01  COOP:050843  BOULDER 2 CO US   unknown  unknown   unknown  0.55   \n",
       "1949-01-01  COOP:050843  BOULDER 2 CO US   unknown  unknown   unknown  0.63   \n",
       "1950-01-01  COOP:050843  BOULDER 2 CO US   unknown  unknown   unknown  2.00   \n",
       "1951-01-01  COOP:050843  BOULDER 2 CO US   unknown  unknown   unknown  1.66   \n",
       "1952-01-01  COOP:050843  BOULDER 2 CO US   unknown  unknown   unknown  1.81   \n",
       "\n",
       "           Measurement Flag Quality Flag  year  \n",
       "DATE                                            \n",
       "1948-01-01                g               1948  \n",
       "1949-01-01                g               1949  \n",
       "1950-01-01                g               1950  \n",
       "1951-01-01                g               1951  \n",
       "1952-01-01                g               1952  "
      ]
     },
     "execution_count": 15,
     "metadata": {},
     "output_type": "execute_result"
    }
   ],
   "source": [
    "# add a year column to your longmont discharge data\n",
    "precip_daily_1948_2013[\"year\"] = precip_daily_1948_2013.index.year\n",
    "\n",
    "# Calculate annual max by resampling\n",
    "precip_daily_1948_2013_annual_max = precip_daily_1948_2013.resample('AS').max()\n",
    "precip_daily_1948_2013_annual_max.head()"
   ]
  },
  {
   "cell_type": "code",
   "execution_count": 16,
   "id": "6dc47f57",
   "metadata": {},
   "outputs": [
    {
     "data": {
      "image/png": "[encoded data removed]",
      "text/plain": [
       "<Figure size 792x432 with 1 Axes>"
      ]
     },
     "metadata": {
      "needs_background": "light"
     },
     "output_type": "display_data"
    }
   ],
   "source": [
    "# Plot difference\n",
    "fig, ax = plt.subplots(figsize=(11, 6))\n",
    "\n",
    "ax.bar(precip_daily_1948_2013_annual_max[\"year\"],\n",
    "       precip_daily_1948_2013_annual_max[\"HPCP\"],\n",
    "      color=\"purple\")\n",
    "\n",
    "ax.set_title(\n",
    "    \"Plot of Annual Maxima Daily Precipitation\")\n",
    "\n",
    "plt.show()"
   ]
  },
  {
   "cell_type": "markdown",
   "id": "eb09bb82",
   "metadata": {},
   "source": [
    "## Calculate Return Period"
   ]
  },
  {
   "cell_type": "markdown",
   "id": "b9f5ad76",
   "metadata": {},
   "source": [
    "- Sort your data from smallest to largest.\n",
    "- Calculate exceedance probabilities using the equation below where n is length of the record and i is the rank.\n",
    "- Calculate the inverse of the exceedance probabilities to determine return period in years.\n",
    "- Plot flood magnitudes against return time. It is common to plot these kinds of data on log-linear or log-log axes."
   ]
  },
  {
   "cell_type": "markdown",
   "id": "130d442d",
   "metadata": {},
   "source": [
    "Exceedance probability equation:\n",
    "![title](Captura.JPG)"
   ]
  },
  {
   "cell_type": "markdown",
   "id": "52bb6e48",
   "metadata": {},
   "source": [
    "where i is the rank order (smallest to largest) from 1 to n. Note that the limits of this equation vary from n/(n+1) ~ 1 for the smallest events and 1/(n+1) for the largest events (i.e., the largest events have a very small exceedance probability)."
   ]
  },
  {
   "cell_type": "code",
   "execution_count": 20,
   "id": "3aeb05d6",
   "metadata": {},
   "outputs": [],
   "source": [
    "# Sort data smallest to largest\n",
    "precip_daily_1948_2013_sorted = precip_daily_1948_2013.sort_values(by=\"HPCP\")\n",
    "\n",
    "# Count total obervations\n",
    "n = precip_daily_1948_2013_sorted.shape[0]\n",
    "\n",
    "# Add a numbered column 1 -> n to use in return calculation for rank\n",
    "precip_daily_1948_2013_sorted.insert(0, 'rank', range(1, 1 + n))\n",
    "\n",
    "# Calculate probability - note you may need to adjust this value based upon the time period of your data\n",
    "precip_daily_1948_2013_sorted[\"probability\"] = (\n",
    "    (n - precip_daily_1948_2013_sorted[\"rank\"] + 1) / (n + 1))\n",
    "\n",
    "precip_daily_1948_2013_sorted[\"return-years\"] = (\n",
    "    1 / precip_daily_1948_2013_sorted[\"probability\"])"
   ]
  },
  {
   "cell_type": "code",
   "execution_count": 21,
   "id": "ca4067b1",
   "metadata": {},
   "outputs": [],
   "source": [
    "# Create a function from the workflow below\n",
    "\n",
    "# Add an argument for annual vs daily...\n",
    "\n",
    "\n",
    "def calculate_return(df, colname):\n",
    "    '''\n",
    "    Add Documentation Here\n",
    "\n",
    "\n",
    "    '''\n",
    "    # Sort data smallest to largest\n",
    "    sorted_data = df.sort_values(by=colname)\n",
    "    \n",
    "    # Count total obervations\n",
    "    n = sorted_data.shape[0]\n",
    "    \n",
    "    # Add a numbered column 1 -> n to use in return calculation for rank\n",
    "    sorted_data.insert(0, 'rank', range(1, 1 + n))\n",
    "    \n",
    "    # Calculate probability\n",
    "    sorted_data[\"probability\"] = (n - sorted_data[\"rank\"] + 1) / (n + 1)\n",
    "    \n",
    "    # Calculate return - data are daily to then divide by 365?\n",
    "    sorted_data[\"return-years\"] = (1 / sorted_data[\"probability\"])\n",
    "\n",
    "    return(sorted_data)"
   ]
  },
  {
   "cell_type": "markdown",
   "id": "01d84014",
   "metadata": {},
   "source": [
    "Once you have a function, you can calculate return period and probability on both datasets."
   ]
  },
  {
   "cell_type": "code",
   "execution_count": 23,
   "id": "626b70a1",
   "metadata": {},
   "outputs": [
    {
     "data": {
      "text/html": [
       "<div>\n",
       "<style scoped>\n",
       "    .dataframe tbody tr th:only-of-type {\n",
       "        vertical-align: middle;\n",
       "    }\n",
       "\n",
       "    .dataframe tbody tr th {\n",
       "        vertical-align: top;\n",
       "    }\n",
       "\n",
       "    .dataframe thead th {\n",
       "        text-align: right;\n",
       "    }\n",
       "</style>\n",
       "<table border=\"1\" class=\"dataframe\">\n",
       "  <thead>\n",
       "    <tr style=\"text-align: right;\">\n",
       "      <th></th>\n",
       "      <th>rank</th>\n",
       "      <th>STATION</th>\n",
       "      <th>STATION_NAME</th>\n",
       "      <th>ELEVATION</th>\n",
       "      <th>LATITUDE</th>\n",
       "      <th>LONGITUDE</th>\n",
       "      <th>HPCP</th>\n",
       "      <th>Measurement Flag</th>\n",
       "      <th>Quality Flag</th>\n",
       "      <th>year</th>\n",
       "      <th>probability</th>\n",
       "      <th>return-years</th>\n",
       "    </tr>\n",
       "    <tr>\n",
       "      <th>DATE</th>\n",
       "      <th></th>\n",
       "      <th></th>\n",
       "      <th></th>\n",
       "      <th></th>\n",
       "      <th></th>\n",
       "      <th></th>\n",
       "      <th></th>\n",
       "      <th></th>\n",
       "      <th></th>\n",
       "      <th></th>\n",
       "      <th></th>\n",
       "      <th></th>\n",
       "    </tr>\n",
       "  </thead>\n",
       "  <tbody>\n",
       "    <tr>\n",
       "      <th>2012-04-01 00:00:00</th>\n",
       "      <td>14472</td>\n",
       "      <td>COOP:050843</td>\n",
       "      <td>BOULDER 2 CO US</td>\n",
       "      <td>1650.5</td>\n",
       "      <td>40.0338</td>\n",
       "      <td>-105.2811</td>\n",
       "      <td>NaN</td>\n",
       "      <td>]</td>\n",
       "      <td></td>\n",
       "      <td>2012</td>\n",
       "      <td>0.126062</td>\n",
       "      <td>7.932603</td>\n",
       "    </tr>\n",
       "    <tr>\n",
       "      <th>2013-12-22 01:00:00</th>\n",
       "      <td>14473</td>\n",
       "      <td>COOP:050843</td>\n",
       "      <td>BOULDER 2 CO US</td>\n",
       "      <td>1650.5</td>\n",
       "      <td>40.0338</td>\n",
       "      <td>-105.2811</td>\n",
       "      <td>NaN</td>\n",
       "      <td>[</td>\n",
       "      <td></td>\n",
       "      <td>2013</td>\n",
       "      <td>0.100850</td>\n",
       "      <td>9.915753</td>\n",
       "    </tr>\n",
       "    <tr>\n",
       "      <th>2013-12-23 00:00:00</th>\n",
       "      <td>14474</td>\n",
       "      <td>COOP:050843</td>\n",
       "      <td>BOULDER 2 CO US</td>\n",
       "      <td>1650.5</td>\n",
       "      <td>40.0338</td>\n",
       "      <td>-105.2811</td>\n",
       "      <td>NaN</td>\n",
       "      <td>]</td>\n",
       "      <td></td>\n",
       "      <td>2013</td>\n",
       "      <td>0.075637</td>\n",
       "      <td>13.221005</td>\n",
       "    </tr>\n",
       "    <tr>\n",
       "      <th>2013-12-29 01:00:00</th>\n",
       "      <td>14475</td>\n",
       "      <td>COOP:050843</td>\n",
       "      <td>BOULDER 2 CO US</td>\n",
       "      <td>1650.5</td>\n",
       "      <td>40.0338</td>\n",
       "      <td>-105.2811</td>\n",
       "      <td>NaN</td>\n",
       "      <td>[</td>\n",
       "      <td></td>\n",
       "      <td>2013</td>\n",
       "      <td>0.050425</td>\n",
       "      <td>19.831507</td>\n",
       "    </tr>\n",
       "    <tr>\n",
       "      <th>2013-12-31 00:00:00</th>\n",
       "      <td>14476</td>\n",
       "      <td>COOP:050843</td>\n",
       "      <td>BOULDER 2 CO US</td>\n",
       "      <td>1650.5</td>\n",
       "      <td>40.0338</td>\n",
       "      <td>-105.2811</td>\n",
       "      <td>NaN</td>\n",
       "      <td>]</td>\n",
       "      <td></td>\n",
       "      <td>2013</td>\n",
       "      <td>0.025212</td>\n",
       "      <td>39.663014</td>\n",
       "    </tr>\n",
       "  </tbody>\n",
       "</table>\n",
       "</div>"
      ],
      "text/plain": [
       "                      rank      STATION     STATION_NAME ELEVATION LATITUDE  \\\n",
       "DATE                                                                          \n",
       "2012-04-01 00:00:00  14472  COOP:050843  BOULDER 2 CO US    1650.5  40.0338   \n",
       "2013-12-22 01:00:00  14473  COOP:050843  BOULDER 2 CO US    1650.5  40.0338   \n",
       "2013-12-23 00:00:00  14474  COOP:050843  BOULDER 2 CO US    1650.5  40.0338   \n",
       "2013-12-29 01:00:00  14475  COOP:050843  BOULDER 2 CO US    1650.5  40.0338   \n",
       "2013-12-31 00:00:00  14476  COOP:050843  BOULDER 2 CO US    1650.5  40.0338   \n",
       "\n",
       "                     LONGITUDE  HPCP Measurement Flag Quality Flag  year  \\\n",
       "DATE                                                                       \n",
       "2012-04-01 00:00:00  -105.2811   NaN                ]               2012   \n",
       "2013-12-22 01:00:00  -105.2811   NaN                [               2013   \n",
       "2013-12-23 00:00:00  -105.2811   NaN                ]               2013   \n",
       "2013-12-29 01:00:00  -105.2811   NaN                [               2013   \n",
       "2013-12-31 00:00:00  -105.2811   NaN                ]               2013   \n",
       "\n",
       "                     probability  return-years  \n",
       "DATE                                            \n",
       "2012-04-01 00:00:00     0.126062      7.932603  \n",
       "2013-12-22 01:00:00     0.100850      9.915753  \n",
       "2013-12-23 00:00:00     0.075637     13.221005  \n",
       "2013-12-29 01:00:00     0.050425     19.831507  \n",
       "2013-12-31 00:00:00     0.025212     39.663014  "
      ]
     },
     "execution_count": 23,
     "metadata": {},
     "output_type": "execute_result"
    }
   ],
   "source": [
    "longmont_prob = calculate_return(precip_daily_1948_2013, \"HPCP\")\n",
    "\n",
    "# Because these data are daily,\n",
    "# divide return period in days by 365 to get a return period in years\n",
    "longmont_prob[\"return-years\"] = longmont_prob[\"return-years\"] / 365\n",
    "longmont_prob[\"probability\"] = longmont_prob[\"probability\"] * 365\n",
    "longmont_prob.tail()"
   ]
  },
  {
   "cell_type": "code",
   "execution_count": 32,
   "id": "b3146110",
   "metadata": {},
   "outputs": [
    {
     "data": {
      "image/png": "[encoded data removed]",
      "text/plain": [
       "<Figure size 792x432 with 1 Axes>"
      ]
     },
     "metadata": {
      "needs_background": "light"
     },
     "output_type": "display_data"
    }
   ],
   "source": [
    "# Compare both datasets\n",
    "fig, ax = plt.subplots(figsize=(11, 6))\n",
    "\n",
    "\n",
    "longmont_prob.plot.scatter(y=\"probability\",\n",
    "                           x=\"HPCP\",\n",
    "                           title=\"Probability \",\n",
    "                           ax=ax,\n",
    "                           color='grey',\n",
    "                           fontsize=16,\n",
    "                           logy=True,\n",
    "                           label=\"Daily Precipitation Calculated\")\n",
    "ax.legend(frameon=True,\n",
    "          framealpha=1)\n",
    "\n",
    "ax.set_ylabel(\"Probability\")\n",
    "ax.set_xlabel(\"Precipitation(HPCP)\")\n",
    "ax.set_title(\n",
    "    \"Probability of Precipitation Events\")\n",
    "plt.ylim( ymin = 0.1)\n",
    "plt.show()"
   ]
  },
  {
   "cell_type": "markdown",
   "id": "18b42eda",
   "metadata": {},
   "source": [
    "# Plot Precipitation Discharge Return Period"
   ]
  },
  {
   "cell_type": "code",
   "execution_count": 33,
   "id": "3f1d1c99",
   "metadata": {},
   "outputs": [
    {
     "data": {
      "image/png": "[encoded data removed]",
      "text/plain": [
       "<Figure size 792x432 with 1 Axes>"
      ]
     },
     "metadata": {
      "needs_background": "light"
     },
     "output_type": "display_data"
    }
   ],
   "source": [
    "fig, ax = plt.subplots(figsize=(11, 6))\n",
    "\n",
    "longmont_prob.plot.scatter(y=\"HPCP\",\n",
    "                           x=\"return-years\",\n",
    "                          \n",
    "                           ax=ax,\n",
    "                           color='purple',\n",
    "                           fontsize=16,\n",
    "                           label=\"Daily Precipitation Calculated\")\n",
    "\n",
    "\n",
    "ax.legend(frameon=True,\n",
    "          framealpha=1)\n",
    "\n",
    "ax.set_xlabel(\"Return Period (Years)\")\n",
    "ax.set_ylabel(\"Precipitation(HPCP)\")\n",
    "\n",
    "plt.show()"
   ]
  },
  {
   "cell_type": "code",
   "execution_count": null,
   "id": "827f42c6",
   "metadata": {},
   "outputs": [],
   "source": []
  }
 ],
 "metadata": {
  "kernelspec": {
   "display_name": "Python 3",
   "language": "python",
   "name": "python3"
  },
  "language_info": {
   "codemirror_mode": {
    "name": "ipython",
    "version": 3
   },
   "file_extension": ".py",
   "mimetype": "text/x-python",
   "name": "python",
   "nbconvert_exporter": "python",
   "pygments_lexer": "ipython3",
   "version": "3.9.4"
  }
 },
 "nbformat": 4,
 "nbformat_minor": 5
}
