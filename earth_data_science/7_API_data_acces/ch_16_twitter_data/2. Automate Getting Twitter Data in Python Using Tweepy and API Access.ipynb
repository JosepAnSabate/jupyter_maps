{
 "cells": [
  {
   "cell_type": "markdown",
   "id": "22f49b85",
   "metadata": {},
   "source": [
    "## 2. Automate Getting Twitter Data in Python Using Tweepy and API Access"
   ]
  },
  {
   "cell_type": "markdown",
   "id": "7878e70b",
   "metadata": {},
   "source": [
    "After completing this tutorial, you will be able to:\n",
    "\n",
    "- Connect to the twitter RESTful API to access twitter data with Python.\n",
    "- Generate custom queries that download tweet data into Python using Tweepy.\n",
    "- Access tweet metadata including users in Python using Tweepy."
   ]
  },
  {
   "cell_type": "markdown",
   "id": "34201a48",
   "metadata": {},
   "source": [
    "In this lesson, you will explore analyzing social media data accessed from Twitter using Python. You will use the Twitter RESTful API to access data about both Twitter users and what they are tweeting about."
   ]
  },
  {
   "cell_type": "markdown",
   "id": "67fb5280",
   "metadata": {},
   "source": [
    "## Getting Started\n",
    "To get started, you’ll need to do the following things:\n",
    "\n",
    "- 1.Set up a Twitter account if you don’t have one already.\n",
    "- 2.Using your Twitter account, you will need to apply for Developer Access and then create an application that will generate the API credentials that you will use to access Twitter from Python.\n",
    "- 3.Import the tweepy package.\n",
    "\n",
    "Once you’ve done these things, you are ready to begin querying Twitter’s API to see what you can learn about tweets!"
   ]
  },
  {
   "cell_type": "markdown",
   "id": "ec083a1e",
   "metadata": {},
   "source": [
    "## Access Twitter API in Python\n",
    "Once you have your Twitter app set-up, you are ready to access tweets in Python. Begin by importing the necessary Python libraries."
   ]
  },
  {
   "cell_type": "code",
   "execution_count": 5,
   "id": "d1ec45d8",
   "metadata": {},
   "outputs": [
    {
     "name": "stdout",
     "output_type": "stream",
     "text": [
      "Collecting tweepy\n",
      "  Downloading tweepy-3.10.0-py2.py3-none-any.whl (30 kB)\n",
      "Requirement already satisfied: six>=1.10.0 in c:\\users\\34639\\anaconda3\\envs\\geo_env\\lib\\site-packages (from tweepy) (1.16.0)\n",
      "Requirement already satisfied: requests[socks]>=2.11.1 in c:\\users\\34639\\anaconda3\\envs\\geo_env\\lib\\site-packages (from tweepy) (2.25.1)\n",
      "Collecting requests-oauthlib>=0.7.0\n",
      "  Using cached requests_oauthlib-1.3.0-py2.py3-none-any.whl (23 kB)\n",
      "Collecting oauthlib>=3.0.0\n",
      "  Using cached oauthlib-3.1.1-py2.py3-none-any.whl (146 kB)\n",
      "Requirement already satisfied: chardet<5,>=3.0.2 in c:\\users\\34639\\anaconda3\\envs\\geo_env\\lib\\site-packages (from requests[socks]>=2.11.1->tweepy) (4.0.0)\n",
      "Requirement already satisfied: certifi>=2017.4.17 in c:\\users\\34639\\anaconda3\\envs\\geo_env\\lib\\site-packages (from requests[socks]>=2.11.1->tweepy) (2021.5.30)\n",
      "Requirement already satisfied: urllib3<1.27,>=1.21.1 in c:\\users\\34639\\anaconda3\\envs\\geo_env\\lib\\site-packages (from requests[socks]>=2.11.1->tweepy) (1.26.5)\n",
      "Requirement already satisfied: idna<3,>=2.5 in c:\\users\\34639\\anaconda3\\envs\\geo_env\\lib\\site-packages (from requests[socks]>=2.11.1->tweepy) (2.10)\n",
      "Requirement already satisfied: PySocks!=1.5.7,>=1.5.6 in c:\\users\\34639\\anaconda3\\envs\\geo_env\\lib\\site-packages (from requests[socks]>=2.11.1->tweepy) (1.7.1)\n",
      "Installing collected packages: oauthlib, requests-oauthlib, tweepy\n",
      "Successfully installed oauthlib-3.1.1 requests-oauthlib-1.3.0 tweepy-3.10.0\n"
     ]
    }
   ],
   "source": [
    "!pip install tweepy"
   ]
  },
  {
   "cell_type": "code",
   "execution_count": 6,
   "id": "41b5f193",
   "metadata": {},
   "outputs": [],
   "source": [
    "import os\n",
    "import tweepy as tw\n",
    "import pandas as pd"
   ]
  },
  {
   "cell_type": "markdown",
   "id": "897df4ae",
   "metadata": {},
   "source": [
    "To **access the Twitter API**, you will need 4 things from the your Twitter App page. These keys are located in your Twitter app settings in the Keys and Access Tokens tab.\n",
    "\n",
    "- consumer key\n",
    "- consumer seceret key\n",
    "- access token key\n",
    "- access token secret key\n",
    "\n",
    "Do not share these with anyone else because these values are specific to your app.\n",
    "\n",
    "First you will need define your keys"
   ]
  },
  {
   "cell_type": "code",
   "execution_count": 3,
   "id": "81655de1",
   "metadata": {},
   "outputs": [],
   "source": [
    "consumer_key= 'yourkeyhere'\n",
    "consumer_secret= 'yourkeyhere'\n",
    "access_token= 'yourkeyhere'\n",
    "access_token_secret= 'yourkeyhere'"
   ]
  },
  {
   "cell_type": "code",
   "execution_count": null,
   "id": "75c2a02b",
   "metadata": {},
   "outputs": [],
   "source": [
    "auth = tw.OAuthHandler(consumer_key, consumer_secret)\n",
    "auth.set_access_token(access_token, access_token_secret)\n",
    "api = tw.API(auth, wait_on_rate_limit=True)"
   ]
  }
 ],
 "metadata": {
  "kernelspec": {
   "display_name": "Python 3 (ipykernel)",
   "language": "python",
   "name": "python3"
  },
  "language_info": {
   "codemirror_mode": {
    "name": "ipython",
    "version": 3
   },
   "file_extension": ".py",
   "mimetype": "text/x-python",
   "name": "python",
   "nbconvert_exporter": "python",
   "pygments_lexer": "ipython3",
   "version": "3.8.10"
  }
 },
 "nbformat": 4,
 "nbformat_minor": 5
}
