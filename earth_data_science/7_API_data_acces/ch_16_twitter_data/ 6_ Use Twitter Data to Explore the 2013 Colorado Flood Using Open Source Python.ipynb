{
 "cells": [
  {
   "cell_type": "markdown",
   "id": "f52148e9",
   "metadata": {},
   "source": [
    "After completing this tutorial, you will be able to:\n",
    "\n",
    "- Learn how to process a JSON file with twitter data in Python"
   ]
  },
  {
   "cell_type": "markdown",
   "id": "1e1c389b",
   "metadata": {},
   "source": [
    "## Process a JSON File with Twitter Data in Python\n",
    "In the previous lessons, you accessed twitter data using the Twitter API and Tweepy. In this lesson you will process a json file that contains twitter data in it. This will give you experience with using complex JSON files in Open Source Python.\n",
    "\n",
    "As always, you need to load a suite of libraries first."
   ]
  },
  {
   "cell_type": "code",
   "execution_count": 1,
   "id": "74dbc970",
   "metadata": {},
   "outputs": [
    {
     "name": "stdout",
     "output_type": "stream",
     "text": [
      "Requirement already satisfied: textblob in c:\\users\\34639\\anaconda3\\envs\\geo_env\\lib\\site-packages (0.15.3)\n",
      "Requirement already satisfied: nltk>=3.1 in c:\\users\\34639\\anaconda3\\envs\\geo_env\\lib\\site-packages (from textblob) (3.6.2)\n",
      "Requirement already satisfied: tqdm in c:\\users\\34639\\anaconda3\\envs\\geo_env\\lib\\site-packages (from nltk>=3.1->textblob) (4.61.1)\n",
      "Requirement already satisfied: regex in c:\\users\\34639\\anaconda3\\envs\\geo_env\\lib\\site-packages (from nltk>=3.1->textblob) (2021.8.3)\n",
      "Requirement already satisfied: click in c:\\users\\34639\\anaconda3\\envs\\geo_env\\lib\\site-packages (from nltk>=3.1->textblob) (7.1.2)\n",
      "Requirement already satisfied: joblib in c:\\users\\34639\\anaconda3\\envs\\geo_env\\lib\\site-packages (from nltk>=3.1->textblob) (1.0.1)\n"
     ]
    }
   ],
   "source": [
    "!pip install textblob"
   ]
  },
  {
   "cell_type": "code",
   "execution_count": 2,
   "id": "e264efb2",
   "metadata": {},
   "outputs": [],
   "source": [
    "import os\n",
    "import pandas as pd\n",
    "import matplotlib.pyplot as plt\n",
    "import seaborn as sns\n",
    "import itertools\n",
    "import collections\n",
    "\n",
    "import json\n",
    "import tweepy as tw"
   ]
  },
  {
   "cell_type": "code",
   "execution_count": 3,
   "id": "42cde51b",
   "metadata": {},
   "outputs": [],
   "source": [
    "import nltk\n",
    "from nltk.corpus import stopwords\n",
    "from nltk import bigrams\n",
    "import re\n",
    "from textblob import TextBlob\n",
    "import networkx\n",
    "import networkx as nx\n",
    "import earthpy as et\n",
    "\n",
    "import warnings\n",
    "warnings.filterwarnings(\"ignore\")\n",
    "\n",
    "sns.set(font_scale=1.5)\n",
    "sns.set_style(\"whitegrid\")\n",
    "\n",
    "# Get the already collected twitter data in JSON format\n",
    "et.data.get_data('twitter-flood')\n",
    "\n",
    "# Set working directory\n",
    "os.chdir(os.path.join(et.io.HOME, 'earth-analytics', 'data'))"
   ]
  },
  {
   "cell_type": "markdown",
   "id": "5b655ff2",
   "metadata": {},
   "source": [
    "The data in this lesson were collected during the 2013 Colorado Flood event. To begin, you create a path to open the data.\n",
    "\n"
   ]
  },
  {
   "cell_type": "code",
   "execution_count": 4,
   "id": "852e9c0c",
   "metadata": {},
   "outputs": [
    {
     "data": {
      "text/plain": [
       "'twitter-flood\\\\boulder_flood_geolocated_tweets.json'"
      ]
     },
     "execution_count": 4,
     "metadata": {},
     "output_type": "execute_result"
    }
   ],
   "source": [
    "flood_tweets_path = os.path.join(\"twitter-flood\", \n",
    "                                 \"boulder_flood_geolocated_tweets.json\")\n",
    "flood_tweets_path"
   ]
  },
  {
   "cell_type": "markdown",
   "id": "c8115892",
   "metadata": {},
   "source": [
    "Next, you open the json file. You will have to create a for loop given the size and complexity of the file. This loop will iterate through each tweet and add it to a list. You can then use that list to process your data."
   ]
  },
  {
   "cell_type": "code",
   "execution_count": 7,
   "id": "058eae78",
   "metadata": {},
   "outputs": [
    {
     "ename": "UnicodeDecodeError",
     "evalue": "'charmap' codec can't decode byte 0x8f in position 1144: character maps to <undefined>",
     "output_type": "error",
     "traceback": [
      "\u001b[1;31m---------------------------------------------------------------------------\u001b[0m",
      "\u001b[1;31mUnicodeDecodeError\u001b[0m                        Traceback (most recent call last)",
      "\u001b[1;32m~\\AppData\\Local\\Temp/ipykernel_12328/4263581393.py\u001b[0m in \u001b[0;36m<module>\u001b[1;34m\u001b[0m\n\u001b[0;32m      1\u001b[0m \u001b[1;31m# Loop through each tweet in the JSON file and append it to a list\u001b[0m\u001b[1;33m\u001b[0m\u001b[1;33m\u001b[0m\u001b[1;33m\u001b[0m\u001b[0m\n\u001b[0;32m      2\u001b[0m \u001b[0mflood_tweets\u001b[0m \u001b[1;33m=\u001b[0m \u001b[1;33m[\u001b[0m\u001b[1;33m]\u001b[0m\u001b[1;33m\u001b[0m\u001b[1;33m\u001b[0m\u001b[0m\n\u001b[1;32m----> 3\u001b[1;33m \u001b[1;32mfor\u001b[0m \u001b[0mline\u001b[0m \u001b[1;32min\u001b[0m \u001b[0mopen\u001b[0m\u001b[1;33m(\u001b[0m\u001b[0mflood_tweets_path\u001b[0m\u001b[1;33m,\u001b[0m \u001b[1;34m'r'\u001b[0m\u001b[1;33m)\u001b[0m\u001b[1;33m:\u001b[0m\u001b[1;33m\u001b[0m\u001b[1;33m\u001b[0m\u001b[0m\n\u001b[0m\u001b[0;32m      4\u001b[0m     \u001b[0mflood_tweets\u001b[0m\u001b[1;33m.\u001b[0m\u001b[0mappend\u001b[0m\u001b[1;33m(\u001b[0m\u001b[0mjson\u001b[0m\u001b[1;33m.\u001b[0m\u001b[0mloads\u001b[0m\u001b[1;33m(\u001b[0m\u001b[0mline\u001b[0m\u001b[1;33m)\u001b[0m\u001b[1;33m)\u001b[0m\u001b[1;33m\u001b[0m\u001b[1;33m\u001b[0m\u001b[0m\n\u001b[0;32m      5\u001b[0m \u001b[1;33m\u001b[0m\u001b[0m\n",
      "\u001b[1;32m~\\anaconda3\\envs\\geo_env\\lib\\encodings\\cp1252.py\u001b[0m in \u001b[0;36mdecode\u001b[1;34m(self, input, final)\u001b[0m\n\u001b[0;32m     21\u001b[0m \u001b[1;32mclass\u001b[0m \u001b[0mIncrementalDecoder\u001b[0m\u001b[1;33m(\u001b[0m\u001b[0mcodecs\u001b[0m\u001b[1;33m.\u001b[0m\u001b[0mIncrementalDecoder\u001b[0m\u001b[1;33m)\u001b[0m\u001b[1;33m:\u001b[0m\u001b[1;33m\u001b[0m\u001b[1;33m\u001b[0m\u001b[0m\n\u001b[0;32m     22\u001b[0m     \u001b[1;32mdef\u001b[0m \u001b[0mdecode\u001b[0m\u001b[1;33m(\u001b[0m\u001b[0mself\u001b[0m\u001b[1;33m,\u001b[0m \u001b[0minput\u001b[0m\u001b[1;33m,\u001b[0m \u001b[0mfinal\u001b[0m\u001b[1;33m=\u001b[0m\u001b[1;32mFalse\u001b[0m\u001b[1;33m)\u001b[0m\u001b[1;33m:\u001b[0m\u001b[1;33m\u001b[0m\u001b[1;33m\u001b[0m\u001b[0m\n\u001b[1;32m---> 23\u001b[1;33m         \u001b[1;32mreturn\u001b[0m \u001b[0mcodecs\u001b[0m\u001b[1;33m.\u001b[0m\u001b[0mcharmap_decode\u001b[0m\u001b[1;33m(\u001b[0m\u001b[0minput\u001b[0m\u001b[1;33m,\u001b[0m\u001b[0mself\u001b[0m\u001b[1;33m.\u001b[0m\u001b[0merrors\u001b[0m\u001b[1;33m,\u001b[0m\u001b[0mdecoding_table\u001b[0m\u001b[1;33m)\u001b[0m\u001b[1;33m[\u001b[0m\u001b[1;36m0\u001b[0m\u001b[1;33m]\u001b[0m\u001b[1;33m\u001b[0m\u001b[1;33m\u001b[0m\u001b[0m\n\u001b[0m\u001b[0;32m     24\u001b[0m \u001b[1;33m\u001b[0m\u001b[0m\n\u001b[0;32m     25\u001b[0m \u001b[1;32mclass\u001b[0m \u001b[0mStreamWriter\u001b[0m\u001b[1;33m(\u001b[0m\u001b[0mCodec\u001b[0m\u001b[1;33m,\u001b[0m\u001b[0mcodecs\u001b[0m\u001b[1;33m.\u001b[0m\u001b[0mStreamWriter\u001b[0m\u001b[1;33m)\u001b[0m\u001b[1;33m:\u001b[0m\u001b[1;33m\u001b[0m\u001b[1;33m\u001b[0m\u001b[0m\n",
      "\u001b[1;31mUnicodeDecodeError\u001b[0m: 'charmap' codec can't decode byte 0x8f in position 1144: character maps to <undefined>"
     ]
    }
   ],
   "source": [
    "# Loop through each tweet in the JSON file and append it to a list\n",
    "flood_tweets = []\n",
    "for line in open(flood_tweets_path, 'r'):\n",
    "    flood_tweets.append(json.loads(line))\n",
    "    "
   ]
  },
  {
   "cell_type": "code",
   "execution_count": 9,
   "id": "dfe4846d",
   "metadata": {},
   "outputs": [
    {
     "data": {
      "text/plain": [
       "{'created_at': 'Mon Dec 30 23:02:29 +0000 2013',\n",
       " 'id': 417792838428925952,\n",
       " 'id_str': '417792838428925952',\n",
       " 'text': \"We're looking for the two who came to help a cyclist after a hit-and-run at 30th/Baseline ~11pm Dec 23rd #Boulder #CO http://t.co/zyk3FkB4og\",\n",
       " 'truncated': False,\n",
       " 'entities': {'hashtags': [{'text': 'Boulder', 'indices': [105, 113]},\n",
       "   {'text': 'CO', 'indices': [114, 117]}],\n",
       "  'symbols': [],\n",
       "  'user_mentions': [],\n",
       "  'urls': [{'url': 'http://t.co/zyk3FkB4og',\n",
       "    'expanded_url': 'http://jpaxonreyes.tumblr.com/post/71026926143/hit-and-run-in-boulder',\n",
       "    'display_url': 'jpaxonreyes.tumblr.com/post/710269261â€¦',\n",
       "    'indices': [118, 140]}]},\n",
       " 'source': '<a href=\"http://www.tweetcaster.com\" rel=\"nofollow\">TweetCaster for Android</a>',\n",
       " 'in_reply_to_status_id': None,\n",
       " 'in_reply_to_status_id_str': None,\n",
       " 'in_reply_to_user_id': None,\n",
       " 'in_reply_to_user_id_str': None,\n",
       " 'in_reply_to_screen_name': None,\n",
       " 'user': {'id': 27020339,\n",
       "  'id_str': '27020339',\n",
       "  'name': 'J. Paxon Reyes',\n",
       "  'screen_name': 'jpreyes',\n",
       "  'location': 'Lincoln, Nebraska',\n",
       "  'description': 'Graduate student at the University of Nebraska - Lincoln.',\n",
       "  'url': 'http://t.co/u0aaW84Avc',\n",
       "  'entities': {'url': {'urls': [{'url': 'http://t.co/u0aaW84Avc',\n",
       "      'expanded_url': 'http://flickr.com/people/jpaxonreyes',\n",
       "      'display_url': 'flickr.com/people/jpaxonrâ€¦',\n",
       "      'indices': [0, 22]}]},\n",
       "   'description': {'urls': []}},\n",
       "  'protected': False,\n",
       "  'followers_count': 530,\n",
       "  'friends_count': 525,\n",
       "  'listed_count': 20,\n",
       "  'created_at': 'Fri Mar 27 14:59:23 +0000 2009',\n",
       "  'favourites_count': 934,\n",
       "  'utc_offset': -21600,\n",
       "  'time_zone': 'Central Time (US & Canada)',\n",
       "  'geo_enabled': True,\n",
       "  'verified': False,\n",
       "  'statuses_count': 8220,\n",
       "  'lang': 'en',\n",
       "  'contributors_enabled': False,\n",
       "  'is_translator': False,\n",
       "  'is_translation_enabled': False,\n",
       "  'profile_background_color': 'FFFFFF',\n",
       "  'profile_background_image_url': 'http://pbs.twimg.com/profile_background_images/340771307/DSC_0618.jpg',\n",
       "  'profile_background_image_url_https': 'https://pbs.twimg.com/profile_background_images/340771307/DSC_0618.jpg',\n",
       "  'profile_background_tile': False,\n",
       "  'profile_image_url': 'http://pbs.twimg.com/profile_images/703184656733057025/MGWdgTyY_normal.jpg',\n",
       "  'profile_image_url_https': 'https://pbs.twimg.com/profile_images/703184656733057025/MGWdgTyY_normal.jpg',\n",
       "  'profile_banner_url': 'https://pbs.twimg.com/profile_banners/27020339/1402505068',\n",
       "  'profile_link_color': 'FF3300',\n",
       "  'profile_sidebar_border_color': '279DA3',\n",
       "  'profile_sidebar_fill_color': 'E0E0E0',\n",
       "  'profile_text_color': '333333',\n",
       "  'profile_use_background_image': True,\n",
       "  'has_extended_profile': False,\n",
       "  'default_profile': False,\n",
       "  'default_profile_image': False,\n",
       "  'following': False,\n",
       "  'follow_request_sent': False,\n",
       "  'notifications': False,\n",
       "  'translator_type': 'none'},\n",
       " 'geo': None,\n",
       " 'coordinates': None,\n",
       " 'place': None,\n",
       " 'contributors': None,\n",
       " 'is_quote_status': False,\n",
       " 'retweet_count': 0,\n",
       " 'favorite_count': 0,\n",
       " 'favorited': False,\n",
       " 'retweeted': False,\n",
       " 'possibly_sensitive': False,\n",
       " 'lang': 'en'}"
      ]
     },
     "execution_count": 9,
     "metadata": {},
     "output_type": "execute_result"
    }
   ],
   "source": [
    "# View a single tweet in your list.\n",
    "flood_tweets[3]"
   ]
  },
  {
   "cell_type": "markdown",
   "id": "30407fea",
   "metadata": {},
   "source": [
    "## Json Stored as Python Dictionaries\n",
    "The data extracted from your json file are returned in Python as a dictionary."
   ]
  },
  {
   "cell_type": "code",
   "execution_count": 11,
   "id": "9c13e3ae",
   "metadata": {},
   "outputs": [
    {
     "data": {
      "text/plain": [
       "list"
      ]
     },
     "execution_count": 11,
     "metadata": {},
     "output_type": "execute_result"
    }
   ],
   "source": [
    "type(flood_tweets)"
   ]
  },
  {
   "cell_type": "code",
   "execution_count": 10,
   "id": "74b64a34",
   "metadata": {
    "scrolled": true
   },
   "outputs": [
    {
     "data": {
      "text/plain": [
       "dict"
      ]
     },
     "execution_count": 10,
     "metadata": {},
     "output_type": "execute_result"
    }
   ],
   "source": [
    "type(flood_tweets[1])"
   ]
  },
  {
   "cell_type": "markdown",
   "id": "2ac420a0",
   "metadata": {},
   "source": [
    "A dictionary is a hierarchical Python data a format that allows you to store nested information. You can access elements of the dictionary using keys"
   ]
  },
  {
   "cell_type": "code",
   "execution_count": 12,
   "id": "1301b1f3",
   "metadata": {},
   "outputs": [
    {
     "data": {
      "text/plain": [
       "dict_keys(['created_at', 'id', 'id_str', 'text', 'truncated', 'entities', 'source', 'in_reply_to_status_id', 'in_reply_to_status_id_str', 'in_reply_to_user_id', 'in_reply_to_user_id_str', 'in_reply_to_screen_name', 'user', 'geo', 'coordinates', 'place', 'contributors', 'is_quote_status', 'retweet_count', 'favorite_count', 'favorited', 'retweeted', 'lang'])"
      ]
     },
     "execution_count": 12,
     "metadata": {},
     "output_type": "execute_result"
    }
   ],
   "source": [
    "a_single_tweet = flood_tweets[1]\n",
    "a_single_tweet.keys()"
   ]
  },
  {
   "cell_type": "markdown",
   "id": "afbf99f0",
   "metadata": {},
   "source": [
    "You can access a single key using the [\"key-here\"] syntax."
   ]
  },
  {
   "cell_type": "code",
   "execution_count": 16,
   "id": "fc2ebad2",
   "metadata": {},
   "outputs": [
    {
     "data": {
      "text/plain": [
       "'Tue Dec 31 18:49:31 +0000 2013'"
      ]
     },
     "execution_count": 16,
     "metadata": {},
     "output_type": "execute_result"
    }
   ],
   "source": [
    "# View the created at time stamp in the dictionary\n",
    "a_single_tweet[\"created_at\"]"
   ]
  },
  {
   "cell_type": "markdown",
   "id": "9b2ba6c3",
   "metadata": {},
   "source": [
    "Nested keys can be accessed with multiple square brackets. Above you select the hashtags from the tweet. Notice that the indices or locations of the hashtag within the tweet text are included with this dictionary element. Also notice that you can access each index individually if you want."
   ]
  },
  {
   "cell_type": "code",
   "execution_count": 17,
   "id": "3a91f429",
   "metadata": {},
   "outputs": [
    {
     "data": {
      "text/plain": [
       "[{'text': 'snow', 'indices': [108, 113]},\n",
       " {'text': 'COwx', 'indices': [114, 119]},\n",
       " {'text': 'weather', 'indices': [120, 128]},\n",
       " {'text': 'Denver', 'indices': [129, 136]}]"
      ]
     },
     "execution_count": 17,
     "metadata": {},
     "output_type": "execute_result"
    }
   ],
   "source": [
    "a_single_tweet[\"entities\"][\"hashtags\"]"
   ]
  },
  {
   "cell_type": "code",
   "execution_count": 18,
   "id": "757f4557",
   "metadata": {},
   "outputs": [
    {
     "data": {
      "text/plain": [
       "'COwx'"
      ]
     },
     "execution_count": 18,
     "metadata": {},
     "output_type": "execute_result"
    }
   ],
   "source": [
    "# Get the second item in the list and it's associated hashtag\n",
    "a_single_tweet[\"entities\"][\"hashtags\"][1][\"text\"]"
   ]
  },
  {
   "cell_type": "markdown",
   "id": "8b2875fc",
   "metadata": {},
   "source": [
    "## Text Parsing of Twitter Data\n",
    "Using what you have learned in the previous lessons, you will clean up the data by:\n",
    "\n",
    "- removing URL’s\n",
    "- removing stop words and\n",
    "- removing additional words that may be throwing off your word counts\n",
    "\n",
    "To begin remove url’s from your tweets."
   ]
  },
  {
   "cell_type": "code",
   "execution_count": 19,
   "id": "342afdc1",
   "metadata": {},
   "outputs": [],
   "source": [
    "def remove_url_punctuation(txt):\n",
    "    \"\"\"Replace URLs found in a text string with nothing \n",
    "    (i.e. it will remove the URL from the string).\n",
    "\n",
    "    Parameters\n",
    "    ----------\n",
    "    txt : string\n",
    "        A text string that you want to parse and remove urls.\n",
    "\n",
    "    Returns\n",
    "    -------\n",
    "    The same txt string with url's removed.\n",
    "    \"\"\"\n",
    "    url_pattern = re.compile(r'https?://\\S+|www\\.\\S+')\n",
    "    no_url = url_pattern.sub(r'', txt)\n",
    "    \n",
    "    punct_pattern = re.compile(r'[^\\w\\s]')\n",
    "    no_punct = punct_pattern.sub(r'', no_url)\n",
    "    \n",
    "    # Clean up punctuation (including pound signs)\n",
    "    return no_punct"
   ]
  },
  {
   "cell_type": "code",
   "execution_count": 20,
   "id": "bd21741d",
   "metadata": {},
   "outputs": [
    {
     "data": {
      "text/plain": [
       "'Story of my life! ðŸ˜‚ #boulder http://t.co/ZMfNKEl0xD'"
      ]
     },
     "execution_count": 20,
     "metadata": {},
     "output_type": "execute_result"
    }
   ],
   "source": [
    "# Create a custom search term and define the number of tweets\n",
    "flood_tweets[2][\"text\"]"
   ]
  },
  {
   "cell_type": "code",
   "execution_count": 21,
   "id": "ba81042f",
   "metadata": {},
   "outputs": [
    {
     "data": {
      "text/plain": [
       "'Story of my life ðŸ boulder '"
      ]
     },
     "execution_count": 21,
     "metadata": {},
     "output_type": "execute_result"
    }
   ],
   "source": [
    "# Remove URLs\n",
    "tweets_no_urls = [remove_url_punctuation(atweet[\"text\"]) for atweet in flood_tweets]\n",
    "tweets_no_urls[2]"
   ]
  },
  {
   "cell_type": "code",
   "execution_count": 22,
   "id": "2962b8e0",
   "metadata": {},
   "outputs": [
    {
     "data": {
      "text/plain": [
       "['story', 'of', 'my', 'life', 'ðÿ', 'boulder']"
      ]
     },
     "execution_count": 22,
     "metadata": {},
     "output_type": "execute_result"
    }
   ],
   "source": [
    "# Create a list of lists containing lowercase words for each tweet\n",
    "words_in_tweet = [tweet.lower().split() for tweet in tweets_no_urls]\n",
    "words_in_tweet[2]"
   ]
  },
  {
   "cell_type": "code",
   "execution_count": 26,
   "id": "16944bc2",
   "metadata": {},
   "outputs": [
    {
     "data": {
      "text/plain": [
       "[('boulder', 4),\n",
       " ('a', 3),\n",
       " ('of', 3),\n",
       " ('the', 2),\n",
       " ('to', 2),\n",
       " ('new', 2),\n",
       " ('year', 2),\n",
       " ('boom', 1),\n",
       " ('bitch', 1),\n",
       " ('get', 1),\n",
       " ('out', 1),\n",
       " ('way', 1),\n",
       " ('drunk', 1),\n",
       " ('islands', 1),\n",
       " ('girlsnight', 1)]"
      ]
     },
     "execution_count": 26,
     "metadata": {},
     "output_type": "execute_result"
    }
   ],
   "source": [
    "# List of all words across tweets\n",
    "all_words_no_urls = list(itertools.chain(*words_in_tweet))\n",
    "\n",
    "# Count each word across all tweets - notice there are still stop words\n",
    "counts_no_urls = collections.Counter(all_words_no_urls)\n",
    "counts_no_urls.most_common(15)"
   ]
  },
  {
   "cell_type": "code",
   "execution_count": 27,
   "id": "867e75e4",
   "metadata": {},
   "outputs": [
    {
     "name": "stderr",
     "output_type": "stream",
     "text": [
      "[nltk_data] Downloading package stopwords to\n",
      "[nltk_data]     C:\\Users\\34639\\AppData\\Roaming\\nltk_data...\n",
      "[nltk_data]   Unzipping corpora\\stopwords.zip.\n"
     ]
    },
    {
     "data": {
      "text/plain": [
       "['story', 'life', 'ðÿ', 'boulder']"
      ]
     },
     "execution_count": 27,
     "metadata": {},
     "output_type": "execute_result"
    }
   ],
   "source": [
    "# Remove stop words and any other words you want to clean up\n",
    "nltk.download('stopwords')\n",
    "stop_words = set(stopwords.words('english'))\n",
    "\n",
    "# Remove stop words from each tweet list of words\n",
    "tweets_nsw = [[word for word in tweet_words if not word in stop_words]\n",
    "              for tweet_words in words_in_tweet]\n",
    "\n",
    "# Remove collection and other twitter related words (rt = retweet on twitter)\n",
    "collection_words = ['rt']\n",
    "tweets_nsw_nc = [[w for w in word if not w in collection_words]\n",
    "                 for word in tweets_nsw]\n",
    "\n",
    "tweets_nsw_nc[2]"
   ]
  },
  {
   "cell_type": "code",
   "execution_count": 28,
   "id": "f21cbff8",
   "metadata": {},
   "outputs": [
    {
     "data": {
      "text/html": [
       "<div>\n",
       "<style scoped>\n",
       "    .dataframe tbody tr th:only-of-type {\n",
       "        vertical-align: middle;\n",
       "    }\n",
       "\n",
       "    .dataframe tbody tr th {\n",
       "        vertical-align: top;\n",
       "    }\n",
       "\n",
       "    .dataframe thead th {\n",
       "        text-align: right;\n",
       "    }\n",
       "</style>\n",
       "<table border=\"1\" class=\"dataframe\">\n",
       "  <thead>\n",
       "    <tr style=\"text-align: right;\">\n",
       "      <th></th>\n",
       "      <th>words</th>\n",
       "      <th>count</th>\n",
       "    </tr>\n",
       "  </thead>\n",
       "  <tbody>\n",
       "    <tr>\n",
       "      <th>0</th>\n",
       "      <td>boulder</td>\n",
       "      <td>4</td>\n",
       "    </tr>\n",
       "    <tr>\n",
       "      <th>1</th>\n",
       "      <td>new</td>\n",
       "      <td>2</td>\n",
       "    </tr>\n",
       "    <tr>\n",
       "      <th>2</th>\n",
       "      <td>year</td>\n",
       "      <td>2</td>\n",
       "    </tr>\n",
       "    <tr>\n",
       "      <th>3</th>\n",
       "      <td>boom</td>\n",
       "      <td>1</td>\n",
       "    </tr>\n",
       "    <tr>\n",
       "      <th>4</th>\n",
       "      <td>bitch</td>\n",
       "      <td>1</td>\n",
       "    </tr>\n",
       "    <tr>\n",
       "      <th>5</th>\n",
       "      <td>get</td>\n",
       "      <td>1</td>\n",
       "    </tr>\n",
       "    <tr>\n",
       "      <th>6</th>\n",
       "      <td>way</td>\n",
       "      <td>1</td>\n",
       "    </tr>\n",
       "    <tr>\n",
       "      <th>7</th>\n",
       "      <td>drunk</td>\n",
       "      <td>1</td>\n",
       "    </tr>\n",
       "    <tr>\n",
       "      <th>8</th>\n",
       "      <td>islands</td>\n",
       "      <td>1</td>\n",
       "    </tr>\n",
       "    <tr>\n",
       "      <th>9</th>\n",
       "      <td>girlsnight</td>\n",
       "      <td>1</td>\n",
       "    </tr>\n",
       "    <tr>\n",
       "      <th>10</th>\n",
       "      <td>bjs</td>\n",
       "      <td>1</td>\n",
       "    </tr>\n",
       "    <tr>\n",
       "      <th>11</th>\n",
       "      <td>hookah</td>\n",
       "      <td>1</td>\n",
       "    </tr>\n",
       "    <tr>\n",
       "      <th>12</th>\n",
       "      <td>zephyrs</td>\n",
       "      <td>1</td>\n",
       "    </tr>\n",
       "    <tr>\n",
       "      <th>13</th>\n",
       "      <td>marinesâ</td>\n",
       "      <td>1</td>\n",
       "    </tr>\n",
       "    <tr>\n",
       "      <th>14</th>\n",
       "      <td>weatherdude17</td>\n",
       "      <td>1</td>\n",
       "    </tr>\n",
       "  </tbody>\n",
       "</table>\n",
       "</div>"
      ],
      "text/plain": [
       "            words  count\n",
       "0         boulder      4\n",
       "1             new      2\n",
       "2            year      2\n",
       "3            boom      1\n",
       "4           bitch      1\n",
       "5             get      1\n",
       "6             way      1\n",
       "7           drunk      1\n",
       "8         islands      1\n",
       "9      girlsnight      1\n",
       "10            bjs      1\n",
       "11         hookah      1\n",
       "12        zephyrs      1\n",
       "13       marinesâ      1\n",
       "14  weatherdude17      1"
      ]
     },
     "execution_count": 28,
     "metadata": {},
     "output_type": "execute_result"
    }
   ],
   "source": [
    "# Process for word counts\n",
    "all_words_nsw = list(itertools.chain(*tweets_nsw_nc))\n",
    "\n",
    "counts_nsw = collections.Counter(all_words_nsw)\n",
    "\n",
    "clean_tweets_nsw = pd.DataFrame(counts_nsw.most_common(15),\n",
    "                             columns=['words', 'count'])\n",
    "clean_tweets_nsw"
   ]
  },
  {
   "cell_type": "code",
   "execution_count": 29,
   "id": "10ff0a9c",
   "metadata": {},
   "outputs": [
    {
     "data": {
      "image/png": "[encoded data removed]",
      "text/plain": [
       "<Figure size 576x576 with 1 Axes>"
      ]
     },
     "metadata": {},
     "output_type": "display_data"
    }
   ],
   "source": [
    "fig, ax = plt.subplots(figsize=(8, 8))\n",
    "\n",
    "# Plot horizontal bar graph\n",
    "clean_tweets_nsw.sort_values(by='count').plot.barh(x='words',\n",
    "                      y='count',\n",
    "                      ax=ax,\n",
    "                      color=\"purple\")\n",
    "\n",
    "ax.set_title(\"Common Words Found in Tweets (Without Stop Words)\")\n",
    "\n",
    "plt.show()"
   ]
  },
  {
   "cell_type": "markdown",
   "id": "c8b8e7df",
   "metadata": {},
   "source": [
    "Horizontal bar graph showing most common words found in tweets (without stop words)."
   ]
  },
  {
   "cell_type": "markdown",
   "id": "2cf727f2",
   "metadata": {},
   "source": [
    "## Collection of Words – Bigrams"
   ]
  },
  {
   "cell_type": "code",
   "execution_count": 30,
   "id": "a8c29ef6",
   "metadata": {},
   "outputs": [
    {
     "data": {
      "text/plain": [
       "[(('boom', 'bitch'), 1),\n",
       " (('bitch', 'get'), 1),\n",
       " (('get', 'way'), 1),\n",
       " (('way', 'drunk'), 1),\n",
       " (('drunk', 'islands'), 1),\n",
       " (('islands', 'girlsnight'), 1),\n",
       " (('girlsnight', 'bjs'), 1),\n",
       " (('bjs', 'hookah'), 1),\n",
       " (('hookah', 'zephyrs'), 1),\n",
       " (('zephyrs', 'boulder'), 1),\n",
       " (('boulder', 'marinesâ'), 1),\n",
       " (('weatherdude17', 'revved'), 1),\n",
       " (('revved', 'yet'), 1),\n",
       " (('yet', 'due'), 1),\n",
       " (('due', 'model'), 1),\n",
       " (('model', 'inconsistency'), 1),\n",
       " (('inconsistency', 'id'), 1),\n",
       " (('id', 'say'), 1),\n",
       " (('say', '02'), 1),\n",
       " (('02', 'w'), 1)]"
      ]
     },
     "execution_count": 30,
     "metadata": {},
     "output_type": "execute_result"
    }
   ],
   "source": [
    "# Create list of lists containing bigrams in tweets\n",
    "terms_bigram = [list(bigrams(tweet)) for tweet in tweets_nsw_nc]\n",
    "\n",
    "# Flatten list of bigrams in clean tweets\n",
    "coupled_words = list(itertools.chain(*terms_bigram))\n",
    "\n",
    "# Create counter of words in clean bigrams\n",
    "bigram_counts = collections.Counter(coupled_words)\n",
    "\n",
    "bigram_counts.most_common(20)"
   ]
  },
  {
   "cell_type": "code",
   "execution_count": 31,
   "id": "5ad8b7d1",
   "metadata": {},
   "outputs": [],
   "source": [
    "# Create a network plot of grouped terms\n",
    "bigram_df = pd.DataFrame(bigram_counts.most_common(20),\n",
    "                             columns=['bigram', 'count'])\n",
    "\n",
    "# Create dictionary of bigrams and their counts\n",
    "d = bigram_df.set_index('bigram').T.to_dict('records')\n",
    "\n",
    "# Create network plot \n",
    "G = nx.Graph()\n",
    "\n",
    "# Create connections between nodes\n",
    "for k, v in d[0].items():\n",
    "    G.add_edge(k[0], k[1], weight=(v * 10))\n"
   ]
  },
  {
   "cell_type": "raw",
   "id": "d816397b",
   "metadata": {},
   "source": [
    "fig, ax = plt.subplots(figsize=(12, 8))\n",
    "\n",
    "pos = nx.spring_layout(G, k=5.5)\n",
    "# Plot networks\n",
    "nx.draw_networkx(G, pos,\n",
    "                 font_size=16,\n",
    "                 width=3,\n",
    "                 edge_color='grey',\n",
    "                 node_color='purple',\n",
    "                 with_labels = False,\n",
    "                 ax=ax)\n",
    "\n",
    "# Create offset labels\n",
    "for key, value in pos.items():\n",
    "    x, y = value[0]+.135, value[1]+.05\n",
    "    ax.text(x, y,\n",
    "            s=key,\n",
    "            bbox=dict(facecolor='red', alpha=0.25),\n",
    "            horizontalalignment='center', fontsize=14)\n",
    "    \n",
    "plt.show()"
   ]
  },
  {
   "cell_type": "markdown",
   "id": "fe57974a",
   "metadata": {},
   "source": [
    "## Analyze Sentiments in Tweets\n",
    "You can use the Python package textblob to calculate the polarity values of individual tweets. For this analysis you may want to include emojiis as they represent sentiment. This step has not been included below.\n",
    "\n",
    "Begin by creating textblob objects, which assigns polarity values to the tweets. You can identify the polarity value using the attribute .polarity of texblob object."
   ]
  },
  {
   "cell_type": "code",
   "execution_count": 35,
   "id": "1f2f8e57",
   "metadata": {},
   "outputs": [
    {
     "data": {
      "text/plain": [
       "(-0.5, TextBlob(\"Story of my life ðŸ boulder \"))"
      ]
     },
     "execution_count": 35,
     "metadata": {},
     "output_type": "execute_result"
    }
   ],
   "source": [
    "# Create textblob objects of the tweets\n",
    "sentiment_objects = [TextBlob(tweet) for tweet in tweets_no_urls]\n",
    "\n",
    "sentiment_objects[0].polarity, sentiment_objects[2]"
   ]
  },
  {
   "cell_type": "markdown",
   "id": "7b2bfb31",
   "metadata": {},
   "source": [
    "You can apply list comprehension to create a list of the polarity values and text for each tweet, and then create a Pandas Dataframe from the list."
   ]
  },
  {
   "cell_type": "code",
   "execution_count": 37,
   "id": "795075d6",
   "metadata": {},
   "outputs": [
    {
     "data": {
      "text/plain": [
       "[[0.0, 'Story of my life ðŸ boulder '],\n",
       " [0.0,\n",
       "  'Were looking for the two who came to help a cyclist after a hitandrun at 30thBaseline 11pm Dec 23rd Boulder CO '],\n",
       " [0.3575757575757576,\n",
       "  'Happy New Year Boulder  What are some of your New Years resolutions this year']]"
      ]
     },
     "execution_count": 37,
     "metadata": {},
     "output_type": "execute_result"
    }
   ],
   "source": [
    "# Create list of polarity values and tweet text\n",
    "sentiment_values = [[tweet.sentiment.polarity, str(tweet)] for tweet in sentiment_objects]\n",
    "\n",
    "sentiment_values[2:8]"
   ]
  },
  {
   "cell_type": "code",
   "execution_count": 38,
   "id": "906fdf6c",
   "metadata": {},
   "outputs": [
    {
     "data": {
      "text/html": [
       "<div>\n",
       "<style scoped>\n",
       "    .dataframe tbody tr th:only-of-type {\n",
       "        vertical-align: middle;\n",
       "    }\n",
       "\n",
       "    .dataframe tbody tr th {\n",
       "        vertical-align: top;\n",
       "    }\n",
       "\n",
       "    .dataframe thead th {\n",
       "        text-align: right;\n",
       "    }\n",
       "</style>\n",
       "<table border=\"1\" class=\"dataframe\">\n",
       "  <thead>\n",
       "    <tr style=\"text-align: right;\">\n",
       "      <th></th>\n",
       "      <th>polarity</th>\n",
       "      <th>tweet</th>\n",
       "    </tr>\n",
       "  </thead>\n",
       "  <tbody>\n",
       "    <tr>\n",
       "      <th>0</th>\n",
       "      <td>-0.500000</td>\n",
       "      <td>Boom bitch get out the way drunk islands girls...</td>\n",
       "    </tr>\n",
       "    <tr>\n",
       "      <th>1</th>\n",
       "      <td>0.020833</td>\n",
       "      <td>WeatherDude17 Not that revved up yet due to mo...</td>\n",
       "    </tr>\n",
       "    <tr>\n",
       "      <th>2</th>\n",
       "      <td>0.000000</td>\n",
       "      <td>Story of my life ðŸ boulder</td>\n",
       "    </tr>\n",
       "    <tr>\n",
       "      <th>3</th>\n",
       "      <td>0.000000</td>\n",
       "      <td>Were looking for the two who came to help a cy...</td>\n",
       "    </tr>\n",
       "    <tr>\n",
       "      <th>4</th>\n",
       "      <td>0.357576</td>\n",
       "      <td>Happy New Year Boulder  What are some of your ...</td>\n",
       "    </tr>\n",
       "  </tbody>\n",
       "</table>\n",
       "</div>"
      ],
      "text/plain": [
       "   polarity                                              tweet\n",
       "0 -0.500000  Boom bitch get out the way drunk islands girls...\n",
       "1  0.020833  WeatherDude17 Not that revved up yet due to mo...\n",
       "2  0.000000                       Story of my life ðŸ boulder \n",
       "3  0.000000  Were looking for the two who came to help a cy...\n",
       "4  0.357576  Happy New Year Boulder  What are some of your ..."
      ]
     },
     "execution_count": 38,
     "metadata": {},
     "output_type": "execute_result"
    }
   ],
   "source": [
    "# Create dataframe containing the polarity value and tweet text\n",
    "sentiment_df = pd.DataFrame(sentiment_values, columns=[\"polarity\", \"tweet\"])\n",
    "\n",
    "sentiment_df.tail()"
   ]
  },
  {
   "cell_type": "markdown",
   "id": "35c8ba1b",
   "metadata": {},
   "source": [
    "These polarity values can be plotted in a histogram, which can help to highlight in the overall sentiment (i.e. more positivity or negativity) toward the subject."
   ]
  },
  {
   "cell_type": "code",
   "execution_count": 39,
   "id": "dfe02623",
   "metadata": {},
   "outputs": [
    {
     "data": {
      "image/png": "[encoded data removed]",
      "text/plain": [
       "<Figure size 576x432 with 1 Axes>"
      ]
     },
     "metadata": {},
     "output_type": "display_data"
    }
   ],
   "source": [
    "fig, ax = plt.subplots(figsize=(8, 6))\n",
    "\n",
    "# Plot histogram of the polarity values\n",
    "sentiment_df.hist(bins=[-1, -0.75, -0.5, -0.25, 0.25, 0.5, 0.75, 1],\n",
    "             ax=ax,\n",
    "             color=\"purple\")\n",
    "\n",
    "plt.title(\"Sentiments from Tweets on Climate Change\")\n",
    "plt.show()"
   ]
  },
  {
   "cell_type": "markdown",
   "id": "4b416e7c",
   "metadata": {},
   "source": [
    "To better understand the distribution of positive vs negative sentiment, you can remove the polarity values that are equal to 0."
   ]
  },
  {
   "cell_type": "code",
   "execution_count": 40,
   "id": "6a512f02",
   "metadata": {},
   "outputs": [],
   "source": [
    "# Remove polarity values equal to zero\n",
    "sentiment_df = sentiment_df[sentiment_df.polarity != 0]"
   ]
  },
  {
   "cell_type": "code",
   "execution_count": 41,
   "id": "611ac641",
   "metadata": {},
   "outputs": [
    {
     "data": {
      "image/png": "[encoded data removed]",
      "text/plain": [
       "<Figure size 576x432 with 1 Axes>"
      ]
     },
     "metadata": {},
     "output_type": "display_data"
    }
   ],
   "source": [
    "fig, ax = plt.subplots(figsize=(8, 6))\n",
    "\n",
    "# Plot histogram with break at zero\n",
    "sentiment_df.hist(bins=[-1, -0.75, -0.5, -0.25, 0.0, 0.25, 0.5, 0.75, 1],\n",
    "             ax=ax,\n",
    "             color=\"purple\")\n",
    "\n",
    "plt.title(\"Sentiments from Tweets From the 2013 Colorado Flood\")\n",
    "plt.show()"
   ]
  },
  {
   "cell_type": "code",
   "execution_count": null,
   "id": "f7534a83",
   "metadata": {},
   "outputs": [],
   "source": []
  }
 ],
 "metadata": {
  "kernelspec": {
   "display_name": "Python 3 (ipykernel)",
   "language": "python",
   "name": "python3"
  },
  "language_info": {
   "codemirror_mode": {
    "name": "ipython",
    "version": 3
   },
   "file_extension": ".py",
   "mimetype": "text/x-python",
   "name": "python",
   "nbconvert_exporter": "python",
   "pygments_lexer": "ipython3",
   "version": "3.8.10"
  }
 },
 "nbformat": 4,
 "nbformat_minor": 5
}
