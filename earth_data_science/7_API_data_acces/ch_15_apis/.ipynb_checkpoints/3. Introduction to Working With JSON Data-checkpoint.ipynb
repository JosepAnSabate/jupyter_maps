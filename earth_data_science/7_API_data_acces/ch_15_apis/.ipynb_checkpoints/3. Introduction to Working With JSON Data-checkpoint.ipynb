{
 "cells": [
  {
   "cell_type": "markdown",
   "id": "cc64ec5b",
   "metadata": {},
   "source": [
    "After completing this tutorial, you will be able to:\n",
    "\n",
    "- **Create and convert JSON objects** using Python"
   ]
  },
  {
   "cell_type": "markdown",
   "id": "d36c69c4",
   "metadata": {},
   "source": [
    "## In this lesson, you will use the json and Pandas libraries to create and convert JSON objects."
   ]
  },
  {
   "cell_type": "markdown",
   "id": "de5eb0f7",
   "metadata": {},
   "source": [
    "### Python Dictionary to JSON\n",
    "Using the Python json library, you can **convert a Python dictionary to a JSON string using the json.dumps()** function.\n",
    "\n",
    "Begin by creating the Python dictionary that will be converted to JSON."
   ]
  },
  {
   "cell_type": "code",
   "execution_count": 1,
   "id": "cd828db7",
   "metadata": {},
   "outputs": [],
   "source": [
    "import json\n",
    "import pandas as pd"
   ]
  },
  {
   "cell_type": "code",
   "execution_count": 2,
   "id": "06062152",
   "metadata": {},
   "outputs": [
    {
     "data": {
      "text/plain": [
       "{'name': 'Chaya', 'age': 12, 'city': 'Boulder', 'type': 'Canine'}"
      ]
     },
     "execution_count": 2,
     "metadata": {},
     "output_type": "execute_result"
    }
   ],
   "source": [
    "# Create and populate the dictionary\n",
    "dict = {}\n",
    "dict[\"name\"] = \"Chaya\"\n",
    "dict[\"age\"] = 12\n",
    "dict[\"city\"] = \"Boulder\"\n",
    "dict[\"type\"] = \"Canine\"\n",
    "\n",
    "dict"
   ]
  },
  {
   "cell_type": "markdown",
   "id": "74c5291e",
   "metadata": {},
   "source": [
    "Notice below that the Python dictionary and the JSON string look very similiar, **but that the JSON string is enclosed with quotes ''**."
   ]
  },
  {
   "cell_type": "code",
   "execution_count": 3,
   "id": "abe20a9a",
   "metadata": {},
   "outputs": [
    {
     "data": {
      "text/plain": [
       "'{\"name\": \"Chaya\", \"age\": 12, \"city\": \"Boulder\", \"type\": \"Canine\"}'"
      ]
     },
     "execution_count": 3,
     "metadata": {},
     "output_type": "execute_result"
    }
   ],
   "source": [
    "json_example = json.dumps(dict, ensure_ascii=False) #  convert a Python dictionary to a JSON string using the json.dumps()\n",
    "\n",
    "json_example"
   ]
  },
  {
   "cell_type": "markdown",
   "id": "191a7629",
   "metadata": {},
   "source": [
    "Recall that you use type() to check the object type, and notice that the **JSON is of type str**."
   ]
  },
  {
   "cell_type": "code",
   "execution_count": 4,
   "id": "47003b6b",
   "metadata": {},
   "outputs": [
    {
     "data": {
      "text/plain": [
       "str"
      ]
     },
     "execution_count": 4,
     "metadata": {},
     "output_type": "execute_result"
    }
   ],
   "source": [
    "type(json_example)"
   ]
  },
  {
   "cell_type": "markdown",
   "id": "ab4180e5",
   "metadata": {},
   "source": [
    "### JSON to Python Dictionary\n",
    "You can also manually define JSON by enclosing the JSON with quotes ''."
   ]
  },
  {
   "cell_type": "code",
   "execution_count": 5,
   "id": "c9a92055",
   "metadata": {},
   "outputs": [
    {
     "data": {
      "text/plain": [
       "str"
      ]
     },
     "execution_count": 5,
     "metadata": {},
     "output_type": "execute_result"
    }
   ],
   "source": [
    "json_sample =  '{ \"name\":\"Chaya\", \"age\":12, \"city\":\"Boulder\", \"type\":\"Canine\" }'\n",
    "\n",
    "type(json_sample)"
   ]
  },
  {
   "cell_type": "markdown",
   "id": "4fd7bb86",
   "metadata": {},
   "source": [
    "Using the **json.loads() function, a JSON string can be converted to a dictionary.**"
   ]
  },
  {
   "cell_type": "code",
   "execution_count": 6,
   "id": "08667270",
   "metadata": {},
   "outputs": [
    {
     "data": {
      "text/plain": [
       "{'name': 'Chaya', 'age': 12, 'city': 'Boulder', 'type': 'Canine'}"
      ]
     },
     "execution_count": 6,
     "metadata": {},
     "output_type": "execute_result"
    }
   ],
   "source": [
    "# Load JSON into dictionary\n",
    "data_sample = json.loads(json_sample)  #json.loads() function, a JSON string can be converted to a dictionary.\n",
    "\n",
    "data_sample"
   ]
  },
  {
   "cell_type": "markdown",
   "id": "27c5455a",
   "metadata": {},
   "source": [
    "You can check the type again to see that it has been converted to a Python dictionary."
   ]
  },
  {
   "cell_type": "code",
   "execution_count": 8,
   "id": "5fbac95b",
   "metadata": {},
   "outputs": [
    {
     "data": {
      "text/plain": [
       "dict"
      ]
     },
     "execution_count": 8,
     "metadata": {},
     "output_type": "execute_result"
    }
   ],
   "source": [
    "type(data_sample)"
   ]
  },
  {
   "cell_type": "markdown",
   "id": "3e718a7f",
   "metadata": {},
   "source": [
    "Recall that you can call any key of a Python dictionary and see the associated values."
   ]
  },
  {
   "cell_type": "code",
   "execution_count": 9,
   "id": "edb922c4",
   "metadata": {},
   "outputs": [
    {
     "data": {
      "text/plain": [
       "'Chaya'"
      ]
     },
     "execution_count": 9,
     "metadata": {},
     "output_type": "execute_result"
    }
   ],
   "source": [
    "data_sample[\"name\"]"
   ]
  },
  {
   "cell_type": "code",
   "execution_count": 10,
   "id": "2369657e",
   "metadata": {},
   "outputs": [
    {
     "data": {
      "text/plain": [
       "'Boulder'"
      ]
     },
     "execution_count": 10,
     "metadata": {},
     "output_type": "execute_result"
    }
   ],
   "source": [
    "data_sample[\"city\"]"
   ]
  },
  {
   "cell_type": "markdown",
   "id": "dd7e778c",
   "metadata": {},
   "source": [
    "## Python Dictionary to Pandas Dataframe\n",
    "If desired, you can use the **from_dict()** function from Pandas to **read the dictionary into a Pandas Dataframe.**"
   ]
  },
  {
   "cell_type": "code",
   "execution_count": 11,
   "id": "e168f539",
   "metadata": {},
   "outputs": [
    {
     "data": {
      "text/html": [
       "<div>\n",
       "<style scoped>\n",
       "    .dataframe tbody tr th:only-of-type {\n",
       "        vertical-align: middle;\n",
       "    }\n",
       "\n",
       "    .dataframe tbody tr th {\n",
       "        vertical-align: top;\n",
       "    }\n",
       "\n",
       "    .dataframe thead th {\n",
       "        text-align: right;\n",
       "    }\n",
       "</style>\n",
       "<table border=\"1\" class=\"dataframe\">\n",
       "  <thead>\n",
       "    <tr style=\"text-align: right;\">\n",
       "      <th></th>\n",
       "      <th>0</th>\n",
       "    </tr>\n",
       "  </thead>\n",
       "  <tbody>\n",
       "    <tr>\n",
       "      <th>name</th>\n",
       "      <td>Chaya</td>\n",
       "    </tr>\n",
       "    <tr>\n",
       "      <th>age</th>\n",
       "      <td>12</td>\n",
       "    </tr>\n",
       "    <tr>\n",
       "      <th>city</th>\n",
       "      <td>Boulder</td>\n",
       "    </tr>\n",
       "    <tr>\n",
       "      <th>type</th>\n",
       "      <td>Canine</td>\n",
       "    </tr>\n",
       "  </tbody>\n",
       "</table>\n",
       "</div>"
      ],
      "text/plain": [
       "            0\n",
       "name    Chaya\n",
       "age        12\n",
       "city  Boulder\n",
       "type   Canine"
      ]
     },
     "execution_count": 11,
     "metadata": {},
     "output_type": "execute_result"
    }
   ],
   "source": [
    "df = pd.DataFrame.from_dict(data_sample, orient='index')\n",
    "df"
   ]
  },
  {
   "cell_type": "markdown",
   "id": "01c9c5e7",
   "metadata": {},
   "source": [
    "## Pandas Dataframe to JSON\n",
    "Conversely, you can also convert a Pandas Dataframe to JSON using the Pandas method **to_json().**"
   ]
  },
  {
   "cell_type": "code",
   "execution_count": 12,
   "id": "2271992a",
   "metadata": {},
   "outputs": [
    {
     "data": {
      "text/plain": [
       "str"
      ]
     },
     "execution_count": 12,
     "metadata": {},
     "output_type": "execute_result"
    }
   ],
   "source": [
    "sample_json = df.to_json(orient='split')\n",
    "\n",
    "type(sample_json)"
   ]
  },
  {
   "cell_type": "code",
   "execution_count": 13,
   "id": "aa275972",
   "metadata": {},
   "outputs": [
    {
     "data": {
      "text/plain": [
       "'{\"columns\":[0],\"index\":[\"name\",\"age\",\"city\",\"type\"],\"data\":[[\"Chaya\"],[12],[\"Boulder\"],[\"Canine\"]]}'"
      ]
     },
     "execution_count": 13,
     "metadata": {},
     "output_type": "execute_result"
    }
   ],
   "source": [
    "sample_json"
   ]
  },
  {
   "cell_type": "code",
   "execution_count": null,
   "id": "9d1fa20e",
   "metadata": {},
   "outputs": [],
   "source": []
  }
 ],
 "metadata": {
  "kernelspec": {
   "display_name": "Python 3",
   "language": "python",
   "name": "python3"
  },
  "language_info": {
   "codemirror_mode": {
    "name": "ipython",
    "version": 3
   },
   "file_extension": ".py",
   "mimetype": "text/x-python",
   "name": "python",
   "nbconvert_exporter": "python",
   "pygments_lexer": "ipython3",
   "version": "3.9.4"
  }
 },
 "nbformat": 4,
 "nbformat_minor": 5
}
