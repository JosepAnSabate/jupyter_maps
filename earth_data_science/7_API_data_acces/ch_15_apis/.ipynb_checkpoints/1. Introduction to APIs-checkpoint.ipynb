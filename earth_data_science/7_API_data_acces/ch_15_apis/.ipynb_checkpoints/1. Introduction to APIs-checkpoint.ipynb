{
 "cells": [
  {
   "cell_type": "markdown",
   "id": "8dda0f60",
   "metadata": {},
   "source": [
    "## Introduction to API Data Access in Open Source Python"
   ]
  },
  {
   "cell_type": "markdown",
   "id": "04224716",
   "metadata": {},
   "source": [
    "After completing this section of the textbook, you will be able to:\n",
    "\n",
    "- Explain what the JSON and GeoJSON data formats are\n",
    "- Access data programatically using Python\n",
    "- Use the Twitter API to access twitter data\n",
    "- Apply basic natural langauge processing techniques to twitter data"
   ]
  },
  {
   "cell_type": "markdown",
   "id": "846fcd73",
   "metadata": {},
   "source": [
    "## 1. Introduction to APIs"
   ]
  },
  {
   "cell_type": "markdown",
   "id": "e5e6470f",
   "metadata": {},
   "source": [
    " These methods include downloading text files directly from a website onto your computer and into Python, reading in data stored in text format from a website into a Pandas DataFrame, and **accessing subsets of particular data using REST API calls in Python.**"
   ]
  },
  {
   "cell_type": "markdown",
   "id": "8af2d453",
   "metadata": {},
   "source": [
    "After completing this tutorial, you will be able to:\n",
    "\n",
    "- Describe the difference between human and machine readable data structures.\n",
    "- Describe the difference between data returned using an API compared to downloading a text file directly.\n",
    "- Describe 2-3 components of a RESTful API call.\n",
    "\n",
    "List different ways to access data programmatically in Python."
   ]
  },
  {
   "cell_type": "markdown",
   "id": "ad2b3bcb",
   "metadata": {},
   "source": [
    "## Access Data Programmatically\n",
    "This week, you will learn how to programmatically access data using:\n",
    "\n",
    "- 1.Direct downloads / import of data.\n",
    "- 2.Applied Programming Interfaces (APIs).\n",
    "Up until this point, you have been downloading data from a website (in the case of this course, Figshare) independently."
   ]
  },
  {
   "cell_type": "markdown",
   "id": "bd188fcf",
   "metadata": {},
   "source": [
    "You can automate the data download process using Python. Automation is particularly useful when:\n",
    "\n",
    "- You want to download lots of data or particular subsets of data to support an analysis.\n",
    "- There are programmatic ways to access and query the data online."
   ]
  },
  {
   "cell_type": "markdown",
   "id": "05e35774",
   "metadata": {},
   "source": [
    "In short - by linking data access and download to your analysis - you are not only reminding your future selves of your process - you are also reminding your future self where (and how) you got the data in the first place! Similarly, this allows your workflow to be easily reproduced by others."
   ]
  },
  {
   "cell_type": "markdown",
   "id": "1cb7527c",
   "metadata": {},
   "source": [
    "## Three Ways to Access Data\n",
    "You can break up programmatic data access into three general categories:\n",
    "\n",
    "- 1.Data that you download by calling a specific URL and using the Pandas function read_table, which takes in a url.\n",
    "- 2.Data that you directly import into Python using the Pandas function read_csv.\n",
    "- 3.Data that you download using an API, which makes a request to a data repository and returns requested data."
   ]
  },
  {
   "cell_type": "markdown",
   "id": "fe5177f9",
   "metadata": {},
   "source": [
    "### Two Key Formats\n",
    "The data that you access programmatically may be returned in one of two main formats:\n",
    "\n",
    "- **1.Tabular Human-readable file:** Files that are tabular, including **CSV** files (Comma Separated Values) and even spreadsheets (Microsoft **Excel**, etc.). These files are organized into columns and rows and are “flat” in structure rather than hierarchical.\n",
    "\n",
    "- **2.Structured Machine-readable files:** Files that can be **stored in a text format but are hierarchical and structured in some way that optimizes machine readability**. **JSON** files are an example of structured machine-readable files."
   ]
  },
  {
   "cell_type": "markdown",
   "id": "1798b219",
   "metadata": {},
   "source": [
    "### Download Files Programmatically\n",
    "#### Pandas function read_csv()"
   ]
  },
  {
   "cell_type": "markdown",
   "id": "de49dc0f",
   "metadata": {},
   "source": [
    "Note that you can use the read_csv() function from Pandas to import data directly into Python by providing a URL to the CSV file (e.g. **read_csv(URL)**).\n",
    "\n"
   ]
  },
  {
   "cell_type": "markdown",
   "id": "54683234",
   "metadata": {},
   "source": [
    "Below is an example of directly importing data into Python using read_csv(). The data are average annual temperature in Canada from the World Bank."
   ]
  },
  {
   "cell_type": "code",
   "execution_count": 3,
   "id": "11c9d111",
   "metadata": {},
   "outputs": [],
   "source": [
    "import matplotlib.pyplot as plt\n",
    "import pandas as pd"
   ]
  },
  {
   "cell_type": "code",
   "execution_count": 4,
   "id": "a15b0960",
   "metadata": {},
   "outputs": [
    {
     "data": {
      "text/html": [
       "<div>\n",
       "<style scoped>\n",
       "    .dataframe tbody tr th:only-of-type {\n",
       "        vertical-align: middle;\n",
       "    }\n",
       "\n",
       "    .dataframe tbody tr th {\n",
       "        vertical-align: top;\n",
       "    }\n",
       "\n",
       "    .dataframe thead th {\n",
       "        text-align: right;\n",
       "    }\n",
       "</style>\n",
       "<table border=\"1\" class=\"dataframe\">\n",
       "  <thead>\n",
       "    <tr style=\"text-align: right;\">\n",
       "      <th></th>\n",
       "      <th>year</th>\n",
       "      <th>data</th>\n",
       "    </tr>\n",
       "  </thead>\n",
       "  <tbody>\n",
       "    <tr>\n",
       "      <th>0</th>\n",
       "      <td>1901</td>\n",
       "      <td>-7.672419</td>\n",
       "    </tr>\n",
       "    <tr>\n",
       "      <th>1</th>\n",
       "      <td>1902</td>\n",
       "      <td>-7.862711</td>\n",
       "    </tr>\n",
       "    <tr>\n",
       "      <th>2</th>\n",
       "      <td>1903</td>\n",
       "      <td>-7.910783</td>\n",
       "    </tr>\n",
       "    <tr>\n",
       "      <th>3</th>\n",
       "      <td>1904</td>\n",
       "      <td>-8.155729</td>\n",
       "    </tr>\n",
       "    <tr>\n",
       "      <th>4</th>\n",
       "      <td>1905</td>\n",
       "      <td>-7.547311</td>\n",
       "    </tr>\n",
       "  </tbody>\n",
       "</table>\n",
       "</div>"
      ],
      "text/plain": [
       "   year      data\n",
       "0  1901 -7.672419\n",
       "1  1902 -7.862711\n",
       "2  1903 -7.910783\n",
       "3  1904 -8.155729\n",
       "4  1905 -7.547311"
      ]
     },
     "execution_count": 4,
     "metadata": {},
     "output_type": "execute_result"
    }
   ],
   "source": [
    "url = \"http://climatedataapi.worldbank.org/climateweb/rest/v1/country/cru/tas/year/CAN.csv\"\n",
    "df = pd.read_csv(url)\n",
    "\n",
    "df.head()"
   ]
  },
  {
   "cell_type": "markdown",
   "id": "5b19d877",
   "metadata": {},
   "source": [
    "Human Readable Data\n",
    "Notice that the data that you downloaded above using are **tabular and thus human-readable.** The data are organized into a tabular structure with **rows and columns** that you can quickly understand. "
   ]
  },
  {
   "cell_type": "markdown",
   "id": "394805ee",
   "metadata": {},
   "source": [
    "## What is an API?\n",
    "An API (Application Programming Interface) is an interface that sits on top of a computer based system and simplifies certain tasks, such as extracting subsets of data from a large repository or database.\n",
    "\n",
    "### Using Web-APIs\n",
    "Web APIs allow you to access data available via an internet web interface.\n",
    "\n",
    "Often you can access data from web APIs using a URL that contains sets of parameters that specifies the type and particular subset of data that you are interested in.\n",
    "\n",
    "If you have worked with a database such as Microsoft SQL Server or PostgreSQL, or if you’ve ever queried data from a GIS system like ArcGIS, then you can compare the set of parameters associated with a URL string to a SQL query.\n",
    "\n",
    "- Web APIs are a way to strip away all the extraneous visual interface that you don’t care about and get the data that you want."
   ]
  },
  {
   "cell_type": "markdown",
   "id": "48fe775b",
   "metadata": {},
   "source": [
    "#### Why You Use Web APIs\n",
    "Among other things, APIs allow us to:\n",
    "\n",
    "- Get information that would be time-consuming to get otherwise.\n",
    "- Get information that you can’t get otherwise.\n",
    "- Automate an analytical workflows that require continuously updated data.\n",
    "- Access data using a more direct interface."
   ]
  },
  {
   "cell_type": "markdown",
   "id": "03decfe3",
   "metadata": {},
   "source": [
    "### Three Parts of an API Request\n",
    "When we talk about APIs, it is important to understand two key components: the request and the response. The third part listed below is the intermediate step where the request is PROCESSED by the remote server.\n",
    "\n",
    "- 1.Data **REQUEST:** You try to access a URL in your browser that specifies a particular subset of data.\n",
    "- 2.**Data processing**: A web server somewhere uses that url to query a specified dataset.\n",
    "- 3.Data **RESPONSE**: That web server then sends you back some content."
   ]
  },
  {
   "cell_type": "markdown",
   "id": "49130210",
   "metadata": {},
   "source": [
    "### API Endpoints\n",
    "When we talk about an endpoint, we are referring to a datasource available through an API. These data may be census data, geospatial base maps, water quality or any type of data that has been made available through the API."
   ]
  },
  {
   "cell_type": "markdown",
   "id": "9644d7ea",
   "metadata": {},
   "source": [
    "## RESTful Web APIs\n",
    "There are many different types of web APIs. One of the most common types is a REST, or RESTful, API. A RESTful API is a web API that uses URL arguments to specify what information you want returned through the API.\n",
    "\n",
    "To put this all into perspective, **next, you will explore a RESTful API interface example.**\n",
    "\n"
   ]
  },
  {
   "cell_type": "markdown",
   "id": "5e64ea86",
   "metadata": {},
   "source": [
    "#### Colorado Population Projection Data\n",
    "The Colorado Information Marketplace is a data warehouse that provides access to a wide range of Colorado-specific open datasets available via a **REST**ful API called the Socrata Open Data API (SODA).\n",
    "https://data.colorado.gov/ \n",
    "\n"
   ]
  },
  {
   "cell_type": "markdown",
   "id": "2746331e",
   "metadata": {},
   "source": [
    "One endpoint contains Colorado Population Projection data. If you click on the link:\n",
    "    \n",
    "https://data.colorado.gov/resource/tv8u-hswn.json\n",
    "\n",
    "you will see data returned in a JSON format.\n",
    "\n"
   ]
  },
  {
   "cell_type": "markdown",
   "id": "3be4e244",
   "metadata": {},
   "source": [
    "**JSON** is a **structured, machine readable format**. You will learn more about it in the next lesson."
   ]
  },
  {
   "cell_type": "markdown",
   "id": "3ed17e23",
   "metadata": {},
   "source": [
    "#### Population Data Request and Response\n",
    "The CO population project data contain projected population estimates for males and females for every county in Colorado for every year from 1990 to 2040 for multiple age groups.\n",
    "\n",
    "Phew! In the previous sentence, you just specified all of the variables stored within these data. These variables can be used to query the data! This is your data **request.**"
   ]
  },
  {
   "cell_type": "markdown",
   "id": "88b51fae",
   "metadata": {},
   "source": [
    "https://data.colorado.gov/resource/tv8u-hswn.json"
   ]
  },
  {
   "cell_type": "markdown",
   "id": "99f4bd85",
   "metadata": {},
   "source": [
    "Notice that the **response** in this case is returned in JSON format."
   ]
  },
  {
   "cell_type": "code",
   "execution_count": 7,
   "id": "1e90be53",
   "metadata": {
    "collapsed": true
   },
   "outputs": [
    {
     "data": {
      "text/plain": [
       "[{'age': '0',\n",
       "  'county': 'Adams',\n",
       "  'femalepopulation': '2404.00',\n",
       "  'fipscode': '1',\n",
       "  'malepopulation': '2354.00',\n",
       "  'totalpopulation': '4758',\n",
       "  'year': '1990'},\n",
       " {'age': '1',\n",
       "  'county': 'Adams',\n",
       "  'femalepopulation': '2375.00',\n",
       "  'fipscode': '1',\n",
       "  'malepopulation': '2345.00',\n",
       "  'totalpopulation': '4720',\n",
       "  'year': '1990'},\n",
       " {'age': '2',\n",
       "  'county': 'Adams',\n",
       "  'femalepopulation': '2219.00',\n",
       "  'fipscode': '1',\n",
       "  'malepopulation': '2413.00',\n",
       "  'totalpopulation': '4632',\n",
       "  'year': '1990'},\n",
       " {'age': '3',\n",
       "  'county': 'Adams',\n",
       "  'femalepopulation': '2261.00',\n",
       "  'fipscode': '1',\n",
       "  'malepopulation': '2321.00',\n",
       "  'totalpopulation': '4582',\n",
       "  'year': '1990'},\n",
       " {'age': '4',\n",
       "  'county': 'Adams',\n",
       "  'femalepopulation': '2302.00',\n",
       "  'fipscode': '1',\n",
       "  'malepopulation': '2433.00',\n",
       "  'totalpopulation': '4735',\n",
       "  'year': '1990'},\n",
       " Ellipsis]"
      ]
     },
     "execution_count": 7,
     "metadata": {},
     "output_type": "execute_result"
    }
   ],
   "source": [
    "[{\"age\":\"0\",\"county\":\"Adams\",\"femalepopulation\":\"2404.00\",\"fipscode\":\"1\",\"malepopulation\":\"2354.00\",\"totalpopulation\":\"4758\",\"year\":\"1990\"}\n",
    ",{\"age\":\"1\",\"county\":\"Adams\",\"femalepopulation\":\"2375.00\",\"fipscode\":\"1\",\"malepopulation\":\"2345.00\",\"totalpopulation\":\"4720\",\"year\":\"1990\"}\n",
    ",{\"age\":\"2\",\"county\":\"Adams\",\"femalepopulation\":\"2219.00\",\"fipscode\":\"1\",\"malepopulation\":\"2413.00\",\"totalpopulation\":\"4632\",\"year\":\"1990\"}\n",
    ",{\"age\":\"3\",\"county\":\"Adams\",\"femalepopulation\":\"2261.00\",\"fipscode\":\"1\",\"malepopulation\":\"2321.00\",\"totalpopulation\":\"4582\",\"year\":\"1990\"}\n",
    ",{\"age\":\"4\",\"county\":\"Adams\",\"femalepopulation\":\"2302.00\",\"fipscode\":\"1\",\"malepopulation\":\"2433.00\",\"totalpopulation\":\"4735\",\"year\":\"1990\"},\n",
    "...\n",
    "]"
   ]
  },
  {
   "cell_type": "markdown",
   "id": "2e5945cf",
   "metadata": {},
   "source": [
    "### URL Parameters\n",
    "Using **URL** parameters, you can define a more specific request to limit what data you get back in response to your **API request**. For example, you can **query the data to only return data for Boulder County, Colorado using the RESTful call.**"
   ]
  },
  {
   "cell_type": "markdown",
   "id": "dec57466",
   "metadata": {},
   "source": [
    "Data Tip: Note the ?&county=Boulder part of the url below. That is an important part of the API request that tells the API to only return a subset of the data - where county = Boulder. \n",
    "\n",
    "https://data.colorado.gov/resource/tv8u-hswn.json?&county=Boulder"
   ]
  },
  {
   "cell_type": "markdown",
   "id": "e7a5d134",
   "metadata": {},
   "source": [
    "Notice that when you visit the URL above and in turn request the data for Boulder County, you see that now the **response is filtered to only include Boulder County data.**"
   ]
  },
  {
   "cell_type": "code",
   "execution_count": 8,
   "id": "7451feb1",
   "metadata": {
    "collapsed": true
   },
   "outputs": [
    {
     "data": {
      "text/plain": [
       "[{'age': '66',\n",
       "  'county': 'Boulder',\n",
       "  'femalepopulation': '649',\n",
       "  'fipscode': '13',\n",
       "  'malepopulation': '596',\n",
       "  'totalpopulation': '1245',\n",
       "  'year': '1997'},\n",
       " {'age': '78',\n",
       "  'county': 'Boulder',\n",
       "  'femalepopulation': '427',\n",
       "  'fipscode': '13',\n",
       "  'malepopulation': '258',\n",
       "  'totalpopulation': '685',\n",
       "  'year': '1992'},\n",
       " {'age': '85',\n",
       "  'county': 'Boulder',\n",
       "  'femalepopulation': '265',\n",
       "  'fipscode': '13',\n",
       "  'malepopulation': '110',\n",
       "  'totalpopulation': '375',\n",
       "  'year': '1991'},\n",
       " {'age': '74',\n",
       "  'county': 'Boulder',\n",
       "  'femalepopulation': '516',\n",
       "  'fipscode': '13',\n",
       "  'malepopulation': '373',\n",
       "  'totalpopulation': '889',\n",
       "  'year': '1996'},\n",
       " Ellipsis]"
      ]
     },
     "execution_count": 8,
     "metadata": {},
     "output_type": "execute_result"
    }
   ],
   "source": [
    "[{\"age\":\"66\",\"county\":\"Boulder\",\"femalepopulation\":\"649\",\"fipscode\":\"13\",\"malepopulation\":\"596\",\"totalpopulation\":\"1245\",\"year\":\"1997\"}\n",
    ",{\"age\":\"78\",\"county\":\"Boulder\",\"femalepopulation\":\"427\",\"fipscode\":\"13\",\"malepopulation\":\"258\",\"totalpopulation\":\"685\",\"year\":\"1992\"}\n",
    ",{\"age\":\"85\",\"county\":\"Boulder\",\"femalepopulation\":\"265\",\"fipscode\":\"13\",\"malepopulation\":\"110\",\"totalpopulation\":\"375\",\"year\":\"1991\"}\n",
    ",{\"age\":\"74\",\"county\":\"Boulder\",\"femalepopulation\":\"516\",\"fipscode\":\"13\",\"malepopulation\":\"373\",\"totalpopulation\":\"889\",\"year\":\"1996\"},\n",
    "...\n",
    "]"
   ]
  },
  {
   "cell_type": "markdown",
   "id": "026a923a",
   "metadata": {},
   "source": [
    "https://dev.socrata.com/foundry/data.colorado.gov/tv8u-hswn"
   ]
  },
  {
   "cell_type": "markdown",
   "id": "c4411b4b",
   "metadata": {},
   "source": [
    "## Using the SODA RESTful API\n",
    "The **SODA RESTful API also allows us to specify more complex ‘queries’**. Here’s the API URL for population projections for females who live in Boulder that are between the ages of 20–40 for the years 2016–2025:\n",
    "\n",
    "https://data.colorado.gov/resource/tv8u-hswn.json?$where=age between 20 and 40 and year between 2016 and 2025&county=Boulder&$select=year,age,femalepopulation"
   ]
  },
  {
   "cell_type": "raw",
   "id": "f98df8f5",
   "metadata": {},
   "source": [
    "[{\"age\":\"32\",\"femalepopulation\":\"2007\",\"year\":\"2024\"}\n",
    ",{\"age\":\"35\",\"femalepopulation\":\"1950\",\"year\":\"2016\"}\n",
    ",{\"age\":\"37\",\"femalepopulation\":\"2039\",\"year\":\"2019\"}\n",
    ",{\"age\":\"30\",\"femalepopulation\":\"2087\",\"year\":\"2025\"}\n",
    ",{\"age\":\"26\",\"femalepopulation\":\"1985\",\"year\":\"2019\"}\n",
    ",{\"age\":\"22\",\"femalepopulation\":\"3207\",\"year\":\"2016\"}\n",
    "...\n",
    "]"
   ]
  },
  {
   "cell_type": "markdown",
   "id": "bf200a8d",
   "metadata": {},
   "source": [
    "https://data.colorado.gov/resource/tv8u-hswn.json?$where=age%20between%2020%20and%2040%20and%20year%20between%202016%20and%202025&county=Boulder&$select=year,age,femalepopulation "
   ]
  },
  {
   "cell_type": "markdown",
   "id": "9ae884fc",
   "metadata": {},
   "source": [
    "### Breaking Down an API String\n",
    "Notice that the colorado.data.gov API URL above, starts with data.colorado.gov but then has various parameters attached to the end of the URL that specify the particular type of information that you are looking for.\n",
    "\n",
    "A few of the parameters that you can see in the url are listed below:\n",
    "\n",
    "- The Data set itself: /tv8u-hswn.json\n",
    "- AGE: where=age between 20 and 40\n",
    "- YEAR: year between 2016 and 2025\n",
    "- COUNTY: county=Boulder\n",
    "- Columns to get: select=year,age,femalepopulation"
   ]
  },
  {
   "cell_type": "markdown",
   "id": "1b734f91",
   "metadata": {},
   "source": [
    "### JSON Structured Text Format API Response\n",
    "The response data that are returned from this API are in a text format, structured using JSON."
   ]
  },
  {
   "cell_type": "code",
   "execution_count": 10,
   "id": "5b6d0a03",
   "metadata": {},
   "outputs": [
    {
     "ename": "SyntaxError",
     "evalue": "invalid syntax (<ipython-input-10-89f53f53cdd9>, line 1)",
     "output_type": "error",
     "traceback": [
      "\u001b[1;36m  File \u001b[1;32m\"<ipython-input-10-89f53f53cdd9>\"\u001b[1;36m, line \u001b[1;32m1\u001b[0m\n\u001b[1;33m    [external link text](http://url_here)\u001b[0m\n\u001b[1;37m              ^\u001b[0m\n\u001b[1;31mSyntaxError\u001b[0m\u001b[1;31m:\u001b[0m invalid syntax\n"
     ]
    }
   ],
   "source": [
    "[external link text](http://url_here)"
   ]
  },
  {
   "cell_type": "markdown",
   "id": "283d9529",
   "metadata": {},
   "source": [
    "Many APIs allow you to specify the file format that you want to be returned. Learn more about how this works with the CO data warehouse [here](https://dev.socrata.com/docs/formats/index.html#,)."
   ]
  },
  {
   "cell_type": "markdown",
   "id": "5007ef9c",
   "metadata": {},
   "source": [
    "- JSON format\n",
    "- GeoJSON format\n",
    "- XML format\n",
    "- CSV format"
   ]
  },
  {
   "cell_type": "markdown",
   "id": "76edc420",
   "metadata": {},
   "source": [
    "Here is a different application of the same type of API. Here, the website developers [ have built a tabular viewer that we can use to look at and interact with the population data. ](https://data.colorado.gov/Demographics/Population-Colorado/eeah-cmy8)"
   ]
  },
  {
   "cell_type": "markdown",
   "id": "cc24dc39",
   "metadata": {},
   "source": [
    "These data are the same data that you can download using the REST API url string above. However, the developers have wrapped the API in a cool interface that allows us to view the data directly, online.\n",
    "\n",
    "You will work with these data in R directly in the following lessons, but for now just notice how the API access works in this case.\n",
    "\n",
    "- Data REQUEST: You try to access a URL in your browser.\n",
    "- Data processing: A web server somewhere uses that url to query a specified dataset.\n",
    "- Data RESPONSE: That web server then sends you back some content."
   ]
  },
  {
   "cell_type": "markdown",
   "id": "afdf7077",
   "metadata": {},
   "source": [
    "## Open JSON API Data Directly Using Pandas in Python"
   ]
  },
  {
   "cell_type": "markdown",
   "id": "61afc480",
   "metadata": {},
   "source": [
    "You can quickly open the JSON-formatted data using **read_json in Pandas**. **However, notice that there are spaces in between some of the words in the URL. These spaces will yield an error. To address the spaces, you can replace them with the ascii value %20 using string.replace().** The code below fixes the url so you can open the data using Pandas.\n",
    "\n"
   ]
  },
  {
   "cell_type": "code",
   "execution_count": 11,
   "id": "71a62b3a",
   "metadata": {},
   "outputs": [
    {
     "data": {
      "text/plain": [
       "'https://data.colorado.gov/resource/tv8u-hswn.json?$where=age%20between%2020%20and%2025%20and%20year%20between%202020%20and%202025&county=Boulder&$select=year,age,femalepopulation'"
      ]
     },
     "execution_count": 11,
     "metadata": {},
     "output_type": "execute_result"
    }
   ],
   "source": [
    "url = \"https://data.colorado.gov/resource/tv8u-hswn.json?$where=age between 20 and 25 and year between 2020 and 2025&county=Boulder&$select=year,age,femalepopulation\"\n",
    "url = url.replace(\" \", \"%20\")\n",
    "url"
   ]
  },
  {
   "cell_type": "code",
   "execution_count": 12,
   "id": "ccdda563",
   "metadata": {},
   "outputs": [
    {
     "data": {
      "text/html": [
       "<div>\n",
       "<style scoped>\n",
       "    .dataframe tbody tr th:only-of-type {\n",
       "        vertical-align: middle;\n",
       "    }\n",
       "\n",
       "    .dataframe tbody tr th {\n",
       "        vertical-align: top;\n",
       "    }\n",
       "\n",
       "    .dataframe thead th {\n",
       "        text-align: right;\n",
       "    }\n",
       "</style>\n",
       "<table border=\"1\" class=\"dataframe\">\n",
       "  <thead>\n",
       "    <tr style=\"text-align: right;\">\n",
       "      <th></th>\n",
       "      <th>year</th>\n",
       "      <th>age</th>\n",
       "      <th>femalepopulation</th>\n",
       "    </tr>\n",
       "  </thead>\n",
       "  <tbody>\n",
       "    <tr>\n",
       "      <th>0</th>\n",
       "      <td>2025</td>\n",
       "      <td>20</td>\n",
       "      <td>3960</td>\n",
       "    </tr>\n",
       "    <tr>\n",
       "      <th>1</th>\n",
       "      <td>2023</td>\n",
       "      <td>23</td>\n",
       "      <td>2673</td>\n",
       "    </tr>\n",
       "    <tr>\n",
       "      <th>2</th>\n",
       "      <td>2024</td>\n",
       "      <td>22</td>\n",
       "      <td>3361</td>\n",
       "    </tr>\n",
       "    <tr>\n",
       "      <th>3</th>\n",
       "      <td>2020</td>\n",
       "      <td>21</td>\n",
       "      <td>3649</td>\n",
       "    </tr>\n",
       "    <tr>\n",
       "      <th>4</th>\n",
       "      <td>2021</td>\n",
       "      <td>24</td>\n",
       "      <td>2215</td>\n",
       "    </tr>\n",
       "  </tbody>\n",
       "</table>\n",
       "</div>"
      ],
      "text/plain": [
       "   year  age  femalepopulation\n",
       "0  2025   20              3960\n",
       "1  2023   23              2673\n",
       "2  2024   22              3361\n",
       "3  2020   21              3649\n",
       "4  2021   24              2215"
      ]
     },
     "execution_count": 12,
     "metadata": {},
     "output_type": "execute_result"
    }
   ],
   "source": [
    "dem_data_20_25_female = pd.read_json(url)\n",
    "\n",
    "dem_data_20_25_female.head()"
   ]
  },
  {
   "cell_type": "code",
   "execution_count": 13,
   "id": "fa6cd463",
   "metadata": {},
   "outputs": [
    {
     "data": {
      "text/html": [
       "<div>\n",
       "<style scoped>\n",
       "    .dataframe tbody tr th:only-of-type {\n",
       "        vertical-align: middle;\n",
       "    }\n",
       "\n",
       "    .dataframe tbody tr th {\n",
       "        vertical-align: top;\n",
       "    }\n",
       "\n",
       "    .dataframe thead th {\n",
       "        text-align: right;\n",
       "    }\n",
       "</style>\n",
       "<table border=\"1\" class=\"dataframe\">\n",
       "  <thead>\n",
       "    <tr style=\"text-align: right;\">\n",
       "      <th></th>\n",
       "      <th>age</th>\n",
       "      <th>femalepopulation</th>\n",
       "    </tr>\n",
       "    <tr>\n",
       "      <th>year</th>\n",
       "      <th></th>\n",
       "      <th></th>\n",
       "    </tr>\n",
       "  </thead>\n",
       "  <tbody>\n",
       "    <tr>\n",
       "      <th>2025</th>\n",
       "      <td>20</td>\n",
       "      <td>3960</td>\n",
       "    </tr>\n",
       "    <tr>\n",
       "      <th>2023</th>\n",
       "      <td>23</td>\n",
       "      <td>2673</td>\n",
       "    </tr>\n",
       "    <tr>\n",
       "      <th>2024</th>\n",
       "      <td>22</td>\n",
       "      <td>3361</td>\n",
       "    </tr>\n",
       "    <tr>\n",
       "      <th>2020</th>\n",
       "      <td>21</td>\n",
       "      <td>3649</td>\n",
       "    </tr>\n",
       "    <tr>\n",
       "      <th>2021</th>\n",
       "      <td>24</td>\n",
       "      <td>2215</td>\n",
       "    </tr>\n",
       "  </tbody>\n",
       "</table>\n",
       "</div>"
      ],
      "text/plain": [
       "      age  femalepopulation\n",
       "year                       \n",
       "2025   20              3960\n",
       "2023   23              2673\n",
       "2024   22              3361\n",
       "2020   21              3649\n",
       "2021   24              2215"
      ]
     },
     "execution_count": 13,
     "metadata": {},
     "output_type": "execute_result"
    }
   ],
   "source": [
    "# set year as index\n",
    "dem_data_20_25_female = dem_data_20_25_female.set_index(\"year\")\n",
    "dem_data_20_25_female.head()"
   ]
  },
  {
   "cell_type": "code",
   "execution_count": 14,
   "id": "6f1691b4",
   "metadata": {},
   "outputs": [
    {
     "data": {
      "text/html": [
       "<div>\n",
       "<style scoped>\n",
       "    .dataframe tbody tr th:only-of-type {\n",
       "        vertical-align: middle;\n",
       "    }\n",
       "\n",
       "    .dataframe tbody tr th {\n",
       "        vertical-align: top;\n",
       "    }\n",
       "\n",
       "    .dataframe thead th {\n",
       "        text-align: right;\n",
       "    }\n",
       "</style>\n",
       "<table border=\"1\" class=\"dataframe\">\n",
       "  <thead>\n",
       "    <tr style=\"text-align: right;\">\n",
       "      <th>age</th>\n",
       "      <th>20</th>\n",
       "      <th>21</th>\n",
       "      <th>22</th>\n",
       "      <th>23</th>\n",
       "      <th>24</th>\n",
       "      <th>25</th>\n",
       "    </tr>\n",
       "    <tr>\n",
       "      <th>year</th>\n",
       "      <th></th>\n",
       "      <th></th>\n",
       "      <th></th>\n",
       "      <th></th>\n",
       "      <th></th>\n",
       "      <th></th>\n",
       "    </tr>\n",
       "  </thead>\n",
       "  <tbody>\n",
       "    <tr>\n",
       "      <th>2020</th>\n",
       "      <td>3831</td>\n",
       "      <td>3649</td>\n",
       "      <td>3290</td>\n",
       "      <td>2608</td>\n",
       "      <td>2263</td>\n",
       "      <td>2247</td>\n",
       "    </tr>\n",
       "    <tr>\n",
       "      <th>2021</th>\n",
       "      <td>3869</td>\n",
       "      <td>3666</td>\n",
       "      <td>3237</td>\n",
       "      <td>2705</td>\n",
       "      <td>2215</td>\n",
       "      <td>2265</td>\n",
       "    </tr>\n",
       "    <tr>\n",
       "      <th>2022</th>\n",
       "      <td>3924</td>\n",
       "      <td>3705</td>\n",
       "      <td>3255</td>\n",
       "      <td>2653</td>\n",
       "      <td>2314</td>\n",
       "      <td>2218</td>\n",
       "    </tr>\n",
       "    <tr>\n",
       "      <th>2023</th>\n",
       "      <td>3897</td>\n",
       "      <td>3761</td>\n",
       "      <td>3295</td>\n",
       "      <td>2673</td>\n",
       "      <td>2264</td>\n",
       "      <td>2319</td>\n",
       "    </tr>\n",
       "    <tr>\n",
       "      <th>2024</th>\n",
       "      <td>3937</td>\n",
       "      <td>3743</td>\n",
       "      <td>3361</td>\n",
       "      <td>2723</td>\n",
       "      <td>2294</td>\n",
       "      <td>2281</td>\n",
       "    </tr>\n",
       "  </tbody>\n",
       "</table>\n",
       "</div>"
      ],
      "text/plain": [
       "age     20    21    22    23    24    25\n",
       "year                                    \n",
       "2020  3831  3649  3290  2608  2263  2247\n",
       "2021  3869  3666  3237  2705  2215  2265\n",
       "2022  3924  3705  3255  2653  2314  2218\n",
       "2023  3897  3761  3295  2673  2264  2319\n",
       "2024  3937  3743  3361  2723  2294  2281"
      ]
     },
     "execution_count": 14,
     "metadata": {},
     "output_type": "execute_result"
    }
   ],
   "source": [
    "# Pivot the data for stacked plotting\n",
    "dem_data_20_25_female_pivot = dem_data_20_25_female.pivot_table('femalepopulation', ['year'], \"age\")\n",
    "dem_data_20_25_female_pivot.head()"
   ]
  },
  {
   "cell_type": "code",
   "execution_count": 15,
   "id": "81b11cea",
   "metadata": {},
   "outputs": [
    {
     "data": {
      "image/png": "[encoded data removed]",
      "text/plain": [
       "<Figure size 432x288 with 1 Axes>"
      ]
     },
     "metadata": {
      "needs_background": "light"
     },
     "output_type": "display_data"
    }
   ],
   "source": [
    "# Plot the data\n",
    "my_colors = [\"teal\",\n",
    "             \"aqua\",\n",
    "             \"darkturquoise\",\n",
    "             \"powderblue\",\n",
    "             \"aliceblue\", \n",
    "             \"lightgrey\"]\n",
    "\n",
    "f, ax = plt.subplots()\n",
    "dem_data_20_25_female_pivot.plot.bar(stacked=True, # un damunt de laltre\n",
    "                                     color=my_colors, # list \n",
    "                                     ax=ax).legend(loc='upper right',\n",
    "                                                   bbox_to_anchor=(1.2, 1.0))\n",
    "ax.set(title=\"Female Population in Boulder, CO by Year\")\n",
    "\n",
    "plt.show()"
   ]
  },
  {
   "cell_type": "code",
   "execution_count": 20,
   "id": "7fa3e0c6",
   "metadata": {},
   "outputs": [
    {
     "data": {
      "application/vnd.plotly.v1+json": {
       "config": {
        "plotlyServerURL": "https://plot.ly"
       },
       "data": [
        {
         "alignmentgroup": "True",
         "hovertemplate": "age=20<br>year=%{x}<br>value=%{y}<extra></extra>",
         "legendgroup": "20",
         "marker": {
          "color": "#636efa",
          "pattern": {
           "shape": ""
          }
         },
         "name": "20",
         "offsetgroup": "20",
         "orientation": "v",
         "showlegend": true,
         "textposition": "auto",
         "type": "bar",
         "x": [
          2020,
          2021,
          2022,
          2023,
          2024,
          2025
         ],
         "xaxis": "x",
         "y": [
          3831,
          3869,
          3924,
          3897,
          3937,
          3960
         ],
         "yaxis": "y"
        },
        {
         "alignmentgroup": "True",
         "hovertemplate": "age=21<br>year=%{x}<br>value=%{y}<extra></extra>",
         "legendgroup": "21",
         "marker": {
          "color": "#EF553B",
          "pattern": {
           "shape": ""
          }
         },
         "name": "21",
         "offsetgroup": "21",
         "orientation": "v",
         "showlegend": true,
         "textposition": "auto",
         "type": "bar",
         "x": [
          2020,
          2021,
          2022,
          2023,
          2024,
          2025
         ],
         "xaxis": "x",
         "y": [
          3649,
          3666,
          3705,
          3761,
          3743,
          3785
         ],
         "yaxis": "y"
        },
        {
         "alignmentgroup": "True",
         "hovertemplate": "age=22<br>year=%{x}<br>value=%{y}<extra></extra>",
         "legendgroup": "22",
         "marker": {
          "color": "#00cc96",
          "pattern": {
           "shape": ""
          }
         },
         "name": "22",
         "offsetgroup": "22",
         "orientation": "v",
         "showlegend": true,
         "textposition": "auto",
         "type": "bar",
         "x": [
          2020,
          2021,
          2022,
          2023,
          2024,
          2025
         ],
         "xaxis": "x",
         "y": [
          3290,
          3237,
          3255,
          3295,
          3361,
          3345
         ],
         "yaxis": "y"
        },
        {
         "alignmentgroup": "True",
         "hovertemplate": "age=23<br>year=%{x}<br>value=%{y}<extra></extra>",
         "legendgroup": "23",
         "marker": {
          "color": "#ab63fa",
          "pattern": {
           "shape": ""
          }
         },
         "name": "23",
         "offsetgroup": "23",
         "orientation": "v",
         "showlegend": true,
         "textposition": "auto",
         "type": "bar",
         "x": [
          2020,
          2021,
          2022,
          2023,
          2024,
          2025
         ],
         "xaxis": "x",
         "y": [
          2608,
          2705,
          2653,
          2673,
          2723,
          2791
         ],
         "yaxis": "y"
        },
        {
         "alignmentgroup": "True",
         "hovertemplate": "age=24<br>year=%{x}<br>value=%{y}<extra></extra>",
         "legendgroup": "24",
         "marker": {
          "color": "#FFA15A",
          "pattern": {
           "shape": ""
          }
         },
         "name": "24",
         "offsetgroup": "24",
         "orientation": "v",
         "showlegend": true,
         "textposition": "auto",
         "type": "bar",
         "x": [
          2020,
          2021,
          2022,
          2023,
          2024,
          2025
         ],
         "xaxis": "x",
         "y": [
          2263,
          2215,
          2314,
          2264,
          2294,
          2346
         ],
         "yaxis": "y"
        },
        {
         "alignmentgroup": "True",
         "hovertemplate": "age=25<br>year=%{x}<br>value=%{y}<extra></extra>",
         "legendgroup": "25",
         "marker": {
          "color": "#19d3f3",
          "pattern": {
           "shape": ""
          }
         },
         "name": "25",
         "offsetgroup": "25",
         "orientation": "v",
         "showlegend": true,
         "textposition": "auto",
         "type": "bar",
         "x": [
          2020,
          2021,
          2022,
          2023,
          2024,
          2025
         ],
         "xaxis": "x",
         "y": [
          2247,
          2265,
          2218,
          2319,
          2281,
          2313
         ],
         "yaxis": "y"
        }
       ],
       "layout": {
        "barmode": "relative",
        "legend": {
         "title": {
          "text": "age"
         },
         "tracegroupgap": 0
        },
        "template": {
         "data": {
          "bar": [
           {
            "error_x": {
             "color": "#2a3f5f"
            },
            "error_y": {
             "color": "#2a3f5f"
            },
            "marker": {
             "line": {
              "color": "#E5ECF6",
              "width": 0.5
             },
             "pattern": {
              "fillmode": "overlay",
              "size": 10,
              "solidity": 0.2
             }
            },
            "type": "bar"
           }
          ],
          "barpolar": [
           {
            "marker": {
             "line": {
              "color": "#E5ECF6",
              "width": 0.5
             },
             "pattern": {
              "fillmode": "overlay",
              "size": 10,
              "solidity": 0.2
             }
            },
            "type": "barpolar"
           }
          ],
          "carpet": [
           {
            "aaxis": {
             "endlinecolor": "#2a3f5f",
             "gridcolor": "white",
             "linecolor": "white",
             "minorgridcolor": "white",
             "startlinecolor": "#2a3f5f"
            },
            "baxis": {
             "endlinecolor": "#2a3f5f",
             "gridcolor": "white",
             "linecolor": "white",
             "minorgridcolor": "white",
             "startlinecolor": "#2a3f5f"
            },
            "type": "carpet"
           }
          ],
          "choropleth": [
           {
            "colorbar": {
             "outlinewidth": 0,
             "ticks": ""
            },
            "type": "choropleth"
           }
          ],
          "contour": [
           {
            "colorbar": {
             "outlinewidth": 0,
             "ticks": ""
            },
            "colorscale": [
             [
              0,
              "#0d0887"
             ],
             [
              0.1111111111111111,
              "#46039f"
             ],
             [
              0.2222222222222222,
              "#7201a8"
             ],
             [
              0.3333333333333333,
              "#9c179e"
             ],
             [
              0.4444444444444444,
              "#bd3786"
             ],
             [
              0.5555555555555556,
              "#d8576b"
             ],
             [
              0.6666666666666666,
              "#ed7953"
             ],
             [
              0.7777777777777778,
              "#fb9f3a"
             ],
             [
              0.8888888888888888,
              "#fdca26"
             ],
             [
              1,
              "#f0f921"
             ]
            ],
            "type": "contour"
           }
          ],
          "contourcarpet": [
           {
            "colorbar": {
             "outlinewidth": 0,
             "ticks": ""
            },
            "type": "contourcarpet"
           }
          ],
          "heatmap": [
           {
            "colorbar": {
             "outlinewidth": 0,
             "ticks": ""
            },
            "colorscale": [
             [
              0,
              "#0d0887"
             ],
             [
              0.1111111111111111,
              "#46039f"
             ],
             [
              0.2222222222222222,
              "#7201a8"
             ],
             [
              0.3333333333333333,
              "#9c179e"
             ],
             [
              0.4444444444444444,
              "#bd3786"
             ],
             [
              0.5555555555555556,
              "#d8576b"
             ],
             [
              0.6666666666666666,
              "#ed7953"
             ],
             [
              0.7777777777777778,
              "#fb9f3a"
             ],
             [
              0.8888888888888888,
              "#fdca26"
             ],
             [
              1,
              "#f0f921"
             ]
            ],
            "type": "heatmap"
           }
          ],
          "heatmapgl": [
           {
            "colorbar": {
             "outlinewidth": 0,
             "ticks": ""
            },
            "colorscale": [
             [
              0,
              "#0d0887"
             ],
             [
              0.1111111111111111,
              "#46039f"
             ],
             [
              0.2222222222222222,
              "#7201a8"
             ],
             [
              0.3333333333333333,
              "#9c179e"
             ],
             [
              0.4444444444444444,
              "#bd3786"
             ],
             [
              0.5555555555555556,
              "#d8576b"
             ],
             [
              0.6666666666666666,
              "#ed7953"
             ],
             [
              0.7777777777777778,
              "#fb9f3a"
             ],
             [
              0.8888888888888888,
              "#fdca26"
             ],
             [
              1,
              "#f0f921"
             ]
            ],
            "type": "heatmapgl"
           }
          ],
          "histogram": [
           {
            "marker": {
             "pattern": {
              "fillmode": "overlay",
              "size": 10,
              "solidity": 0.2
             }
            },
            "type": "histogram"
           }
          ],
          "histogram2d": [
           {
            "colorbar": {
             "outlinewidth": 0,
             "ticks": ""
            },
            "colorscale": [
             [
              0,
              "#0d0887"
             ],
             [
              0.1111111111111111,
              "#46039f"
             ],
             [
              0.2222222222222222,
              "#7201a8"
             ],
             [
              0.3333333333333333,
              "#9c179e"
             ],
             [
              0.4444444444444444,
              "#bd3786"
             ],
             [
              0.5555555555555556,
              "#d8576b"
             ],
             [
              0.6666666666666666,
              "#ed7953"
             ],
             [
              0.7777777777777778,
              "#fb9f3a"
             ],
             [
              0.8888888888888888,
              "#fdca26"
             ],
             [
              1,
              "#f0f921"
             ]
            ],
            "type": "histogram2d"
           }
          ],
          "histogram2dcontour": [
           {
            "colorbar": {
             "outlinewidth": 0,
             "ticks": ""
            },
            "colorscale": [
             [
              0,
              "#0d0887"
             ],
             [
              0.1111111111111111,
              "#46039f"
             ],
             [
              0.2222222222222222,
              "#7201a8"
             ],
             [
              0.3333333333333333,
              "#9c179e"
             ],
             [
              0.4444444444444444,
              "#bd3786"
             ],
             [
              0.5555555555555556,
              "#d8576b"
             ],
             [
              0.6666666666666666,
              "#ed7953"
             ],
             [
              0.7777777777777778,
              "#fb9f3a"
             ],
             [
              0.8888888888888888,
              "#fdca26"
             ],
             [
              1,
              "#f0f921"
             ]
            ],
            "type": "histogram2dcontour"
           }
          ],
          "mesh3d": [
           {
            "colorbar": {
             "outlinewidth": 0,
             "ticks": ""
            },
            "type": "mesh3d"
           }
          ],
          "parcoords": [
           {
            "line": {
             "colorbar": {
              "outlinewidth": 0,
              "ticks": ""
             }
            },
            "type": "parcoords"
           }
          ],
          "pie": [
           {
            "automargin": true,
            "type": "pie"
           }
          ],
          "scatter": [
           {
            "marker": {
             "colorbar": {
              "outlinewidth": 0,
              "ticks": ""
             }
            },
            "type": "scatter"
           }
          ],
          "scatter3d": [
           {
            "line": {
             "colorbar": {
              "outlinewidth": 0,
              "ticks": ""
             }
            },
            "marker": {
             "colorbar": {
              "outlinewidth": 0,
              "ticks": ""
             }
            },
            "type": "scatter3d"
           }
          ],
          "scattercarpet": [
           {
            "marker": {
             "colorbar": {
              "outlinewidth": 0,
              "ticks": ""
             }
            },
            "type": "scattercarpet"
           }
          ],
          "scattergeo": [
           {
            "marker": {
             "colorbar": {
              "outlinewidth": 0,
              "ticks": ""
             }
            },
            "type": "scattergeo"
           }
          ],
          "scattergl": [
           {
            "marker": {
             "colorbar": {
              "outlinewidth": 0,
              "ticks": ""
             }
            },
            "type": "scattergl"
           }
          ],
          "scattermapbox": [
           {
            "marker": {
             "colorbar": {
              "outlinewidth": 0,
              "ticks": ""
             }
            },
            "type": "scattermapbox"
           }
          ],
          "scatterpolar": [
           {
            "marker": {
             "colorbar": {
              "outlinewidth": 0,
              "ticks": ""
             }
            },
            "type": "scatterpolar"
           }
          ],
          "scatterpolargl": [
           {
            "marker": {
             "colorbar": {
              "outlinewidth": 0,
              "ticks": ""
             }
            },
            "type": "scatterpolargl"
           }
          ],
          "scatterternary": [
           {
            "marker": {
             "colorbar": {
              "outlinewidth": 0,
              "ticks": ""
             }
            },
            "type": "scatterternary"
           }
          ],
          "surface": [
           {
            "colorbar": {
             "outlinewidth": 0,
             "ticks": ""
            },
            "colorscale": [
             [
              0,
              "#0d0887"
             ],
             [
              0.1111111111111111,
              "#46039f"
             ],
             [
              0.2222222222222222,
              "#7201a8"
             ],
             [
              0.3333333333333333,
              "#9c179e"
             ],
             [
              0.4444444444444444,
              "#bd3786"
             ],
             [
              0.5555555555555556,
              "#d8576b"
             ],
             [
              0.6666666666666666,
              "#ed7953"
             ],
             [
              0.7777777777777778,
              "#fb9f3a"
             ],
             [
              0.8888888888888888,
              "#fdca26"
             ],
             [
              1,
              "#f0f921"
             ]
            ],
            "type": "surface"
           }
          ],
          "table": [
           {
            "cells": {
             "fill": {
              "color": "#EBF0F8"
             },
             "line": {
              "color": "white"
             }
            },
            "header": {
             "fill": {
              "color": "#C8D4E3"
             },
             "line": {
              "color": "white"
             }
            },
            "type": "table"
           }
          ]
         },
         "layout": {
          "annotationdefaults": {
           "arrowcolor": "#2a3f5f",
           "arrowhead": 0,
           "arrowwidth": 1
          },
          "autotypenumbers": "strict",
          "coloraxis": {
           "colorbar": {
            "outlinewidth": 0,
            "ticks": ""
           }
          },
          "colorscale": {
           "diverging": [
            [
             0,
             "#8e0152"
            ],
            [
             0.1,
             "#c51b7d"
            ],
            [
             0.2,
             "#de77ae"
            ],
            [
             0.3,
             "#f1b6da"
            ],
            [
             0.4,
             "#fde0ef"
            ],
            [
             0.5,
             "#f7f7f7"
            ],
            [
             0.6,
             "#e6f5d0"
            ],
            [
             0.7,
             "#b8e186"
            ],
            [
             0.8,
             "#7fbc41"
            ],
            [
             0.9,
             "#4d9221"
            ],
            [
             1,
             "#276419"
            ]
           ],
           "sequential": [
            [
             0,
             "#0d0887"
            ],
            [
             0.1111111111111111,
             "#46039f"
            ],
            [
             0.2222222222222222,
             "#7201a8"
            ],
            [
             0.3333333333333333,
             "#9c179e"
            ],
            [
             0.4444444444444444,
             "#bd3786"
            ],
            [
             0.5555555555555556,
             "#d8576b"
            ],
            [
             0.6666666666666666,
             "#ed7953"
            ],
            [
             0.7777777777777778,
             "#fb9f3a"
            ],
            [
             0.8888888888888888,
             "#fdca26"
            ],
            [
             1,
             "#f0f921"
            ]
           ],
           "sequentialminus": [
            [
             0,
             "#0d0887"
            ],
            [
             0.1111111111111111,
             "#46039f"
            ],
            [
             0.2222222222222222,
             "#7201a8"
            ],
            [
             0.3333333333333333,
             "#9c179e"
            ],
            [
             0.4444444444444444,
             "#bd3786"
            ],
            [
             0.5555555555555556,
             "#d8576b"
            ],
            [
             0.6666666666666666,
             "#ed7953"
            ],
            [
             0.7777777777777778,
             "#fb9f3a"
            ],
            [
             0.8888888888888888,
             "#fdca26"
            ],
            [
             1,
             "#f0f921"
            ]
           ]
          },
          "colorway": [
           "#636efa",
           "#EF553B",
           "#00cc96",
           "#ab63fa",
           "#FFA15A",
           "#19d3f3",
           "#FF6692",
           "#B6E880",
           "#FF97FF",
           "#FECB52"
          ],
          "font": {
           "color": "#2a3f5f"
          },
          "geo": {
           "bgcolor": "white",
           "lakecolor": "white",
           "landcolor": "#E5ECF6",
           "showlakes": true,
           "showland": true,
           "subunitcolor": "white"
          },
          "hoverlabel": {
           "align": "left"
          },
          "hovermode": "closest",
          "mapbox": {
           "style": "light"
          },
          "paper_bgcolor": "white",
          "plot_bgcolor": "#E5ECF6",
          "polar": {
           "angularaxis": {
            "gridcolor": "white",
            "linecolor": "white",
            "ticks": ""
           },
           "bgcolor": "#E5ECF6",
           "radialaxis": {
            "gridcolor": "white",
            "linecolor": "white",
            "ticks": ""
           }
          },
          "scene": {
           "xaxis": {
            "backgroundcolor": "#E5ECF6",
            "gridcolor": "white",
            "gridwidth": 2,
            "linecolor": "white",
            "showbackground": true,
            "ticks": "",
            "zerolinecolor": "white"
           },
           "yaxis": {
            "backgroundcolor": "#E5ECF6",
            "gridcolor": "white",
            "gridwidth": 2,
            "linecolor": "white",
            "showbackground": true,
            "ticks": "",
            "zerolinecolor": "white"
           },
           "zaxis": {
            "backgroundcolor": "#E5ECF6",
            "gridcolor": "white",
            "gridwidth": 2,
            "linecolor": "white",
            "showbackground": true,
            "ticks": "",
            "zerolinecolor": "white"
           }
          },
          "shapedefaults": {
           "line": {
            "color": "#2a3f5f"
           }
          },
          "ternary": {
           "aaxis": {
            "gridcolor": "white",
            "linecolor": "white",
            "ticks": ""
           },
           "baxis": {
            "gridcolor": "white",
            "linecolor": "white",
            "ticks": ""
           },
           "bgcolor": "#E5ECF6",
           "caxis": {
            "gridcolor": "white",
            "linecolor": "white",
            "ticks": ""
           }
          },
          "title": {
           "x": 0.05
          },
          "xaxis": {
           "automargin": true,
           "gridcolor": "white",
           "linecolor": "white",
           "ticks": "",
           "title": {
            "standoff": 15
           },
           "zerolinecolor": "white",
           "zerolinewidth": 2
          },
          "yaxis": {
           "automargin": true,
           "gridcolor": "white",
           "linecolor": "white",
           "ticks": "",
           "title": {
            "standoff": 15
           },
           "zerolinecolor": "white",
           "zerolinewidth": 2
          }
         }
        },
        "title": {
         "text": "Female Population in Boulder, CO by Year"
        },
        "xaxis": {
         "anchor": "y",
         "domain": [
          0,
          1
         ],
         "title": {
          "text": "year"
         }
        },
        "yaxis": {
         "anchor": "x",
         "domain": [
          0,
          1
         ],
         "title": {
          "text": "value"
         }
        }
       }
      },
      "text/html": [
       "<div>                            <div id=\"0a91b93a-191a-4d71-bf1e-2b20df88e2d2\" class=\"plotly-graph-div\" style=\"height:525px; width:100%;\"></div>            <script type=\"text/javascript\">                require([\"plotly\"], function(Plotly) {                    window.PLOTLYENV=window.PLOTLYENV || {};                                    if (document.getElementById(\"0a91b93a-191a-4d71-bf1e-2b20df88e2d2\")) {                    Plotly.newPlot(                        \"0a91b93a-191a-4d71-bf1e-2b20df88e2d2\",                        [{\"alignmentgroup\":\"True\",\"hovertemplate\":\"age=20<br>year=%{x}<br>value=%{y}<extra></extra>\",\"legendgroup\":\"20\",\"marker\":{\"color\":\"#636efa\",\"pattern\":{\"shape\":\"\"}},\"name\":\"20\",\"offsetgroup\":\"20\",\"orientation\":\"v\",\"showlegend\":true,\"textposition\":\"auto\",\"type\":\"bar\",\"x\":[2020,2021,2022,2023,2024,2025],\"xaxis\":\"x\",\"y\":[3831,3869,3924,3897,3937,3960],\"yaxis\":\"y\"},{\"alignmentgroup\":\"True\",\"hovertemplate\":\"age=21<br>year=%{x}<br>value=%{y}<extra></extra>\",\"legendgroup\":\"21\",\"marker\":{\"color\":\"#EF553B\",\"pattern\":{\"shape\":\"\"}},\"name\":\"21\",\"offsetgroup\":\"21\",\"orientation\":\"v\",\"showlegend\":true,\"textposition\":\"auto\",\"type\":\"bar\",\"x\":[2020,2021,2022,2023,2024,2025],\"xaxis\":\"x\",\"y\":[3649,3666,3705,3761,3743,3785],\"yaxis\":\"y\"},{\"alignmentgroup\":\"True\",\"hovertemplate\":\"age=22<br>year=%{x}<br>value=%{y}<extra></extra>\",\"legendgroup\":\"22\",\"marker\":{\"color\":\"#00cc96\",\"pattern\":{\"shape\":\"\"}},\"name\":\"22\",\"offsetgroup\":\"22\",\"orientation\":\"v\",\"showlegend\":true,\"textposition\":\"auto\",\"type\":\"bar\",\"x\":[2020,2021,2022,2023,2024,2025],\"xaxis\":\"x\",\"y\":[3290,3237,3255,3295,3361,3345],\"yaxis\":\"y\"},{\"alignmentgroup\":\"True\",\"hovertemplate\":\"age=23<br>year=%{x}<br>value=%{y}<extra></extra>\",\"legendgroup\":\"23\",\"marker\":{\"color\":\"#ab63fa\",\"pattern\":{\"shape\":\"\"}},\"name\":\"23\",\"offsetgroup\":\"23\",\"orientation\":\"v\",\"showlegend\":true,\"textposition\":\"auto\",\"type\":\"bar\",\"x\":[2020,2021,2022,2023,2024,2025],\"xaxis\":\"x\",\"y\":[2608,2705,2653,2673,2723,2791],\"yaxis\":\"y\"},{\"alignmentgroup\":\"True\",\"hovertemplate\":\"age=24<br>year=%{x}<br>value=%{y}<extra></extra>\",\"legendgroup\":\"24\",\"marker\":{\"color\":\"#FFA15A\",\"pattern\":{\"shape\":\"\"}},\"name\":\"24\",\"offsetgroup\":\"24\",\"orientation\":\"v\",\"showlegend\":true,\"textposition\":\"auto\",\"type\":\"bar\",\"x\":[2020,2021,2022,2023,2024,2025],\"xaxis\":\"x\",\"y\":[2263,2215,2314,2264,2294,2346],\"yaxis\":\"y\"},{\"alignmentgroup\":\"True\",\"hovertemplate\":\"age=25<br>year=%{x}<br>value=%{y}<extra></extra>\",\"legendgroup\":\"25\",\"marker\":{\"color\":\"#19d3f3\",\"pattern\":{\"shape\":\"\"}},\"name\":\"25\",\"offsetgroup\":\"25\",\"orientation\":\"v\",\"showlegend\":true,\"textposition\":\"auto\",\"type\":\"bar\",\"x\":[2020,2021,2022,2023,2024,2025],\"xaxis\":\"x\",\"y\":[2247,2265,2218,2319,2281,2313],\"yaxis\":\"y\"}],                        {\"barmode\":\"relative\",\"legend\":{\"title\":{\"text\":\"age\"},\"tracegroupgap\":0},\"template\":{\"data\":{\"bar\":[{\"error_x\":{\"color\":\"#2a3f5f\"},\"error_y\":{\"color\":\"#2a3f5f\"},\"marker\":{\"line\":{\"color\":\"#E5ECF6\",\"width\":0.5},\"pattern\":{\"fillmode\":\"overlay\",\"size\":10,\"solidity\":0.2}},\"type\":\"bar\"}],\"barpolar\":[{\"marker\":{\"line\":{\"color\":\"#E5ECF6\",\"width\":0.5},\"pattern\":{\"fillmode\":\"overlay\",\"size\":10,\"solidity\":0.2}},\"type\":\"barpolar\"}],\"carpet\":[{\"aaxis\":{\"endlinecolor\":\"#2a3f5f\",\"gridcolor\":\"white\",\"linecolor\":\"white\",\"minorgridcolor\":\"white\",\"startlinecolor\":\"#2a3f5f\"},\"baxis\":{\"endlinecolor\":\"#2a3f5f\",\"gridcolor\":\"white\",\"linecolor\":\"white\",\"minorgridcolor\":\"white\",\"startlinecolor\":\"#2a3f5f\"},\"type\":\"carpet\"}],\"choropleth\":[{\"colorbar\":{\"outlinewidth\":0,\"ticks\":\"\"},\"type\":\"choropleth\"}],\"contour\":[{\"colorbar\":{\"outlinewidth\":0,\"ticks\":\"\"},\"colorscale\":[[0.0,\"#0d0887\"],[0.1111111111111111,\"#46039f\"],[0.2222222222222222,\"#7201a8\"],[0.3333333333333333,\"#9c179e\"],[0.4444444444444444,\"#bd3786\"],[0.5555555555555556,\"#d8576b\"],[0.6666666666666666,\"#ed7953\"],[0.7777777777777778,\"#fb9f3a\"],[0.8888888888888888,\"#fdca26\"],[1.0,\"#f0f921\"]],\"type\":\"contour\"}],\"contourcarpet\":[{\"colorbar\":{\"outlinewidth\":0,\"ticks\":\"\"},\"type\":\"contourcarpet\"}],\"heatmap\":[{\"colorbar\":{\"outlinewidth\":0,\"ticks\":\"\"},\"colorscale\":[[0.0,\"#0d0887\"],[0.1111111111111111,\"#46039f\"],[0.2222222222222222,\"#7201a8\"],[0.3333333333333333,\"#9c179e\"],[0.4444444444444444,\"#bd3786\"],[0.5555555555555556,\"#d8576b\"],[0.6666666666666666,\"#ed7953\"],[0.7777777777777778,\"#fb9f3a\"],[0.8888888888888888,\"#fdca26\"],[1.0,\"#f0f921\"]],\"type\":\"heatmap\"}],\"heatmapgl\":[{\"colorbar\":{\"outlinewidth\":0,\"ticks\":\"\"},\"colorscale\":[[0.0,\"#0d0887\"],[0.1111111111111111,\"#46039f\"],[0.2222222222222222,\"#7201a8\"],[0.3333333333333333,\"#9c179e\"],[0.4444444444444444,\"#bd3786\"],[0.5555555555555556,\"#d8576b\"],[0.6666666666666666,\"#ed7953\"],[0.7777777777777778,\"#fb9f3a\"],[0.8888888888888888,\"#fdca26\"],[1.0,\"#f0f921\"]],\"type\":\"heatmapgl\"}],\"histogram\":[{\"marker\":{\"pattern\":{\"fillmode\":\"overlay\",\"size\":10,\"solidity\":0.2}},\"type\":\"histogram\"}],\"histogram2d\":[{\"colorbar\":{\"outlinewidth\":0,\"ticks\":\"\"},\"colorscale\":[[0.0,\"#0d0887\"],[0.1111111111111111,\"#46039f\"],[0.2222222222222222,\"#7201a8\"],[0.3333333333333333,\"#9c179e\"],[0.4444444444444444,\"#bd3786\"],[0.5555555555555556,\"#d8576b\"],[0.6666666666666666,\"#ed7953\"],[0.7777777777777778,\"#fb9f3a\"],[0.8888888888888888,\"#fdca26\"],[1.0,\"#f0f921\"]],\"type\":\"histogram2d\"}],\"histogram2dcontour\":[{\"colorbar\":{\"outlinewidth\":0,\"ticks\":\"\"},\"colorscale\":[[0.0,\"#0d0887\"],[0.1111111111111111,\"#46039f\"],[0.2222222222222222,\"#7201a8\"],[0.3333333333333333,\"#9c179e\"],[0.4444444444444444,\"#bd3786\"],[0.5555555555555556,\"#d8576b\"],[0.6666666666666666,\"#ed7953\"],[0.7777777777777778,\"#fb9f3a\"],[0.8888888888888888,\"#fdca26\"],[1.0,\"#f0f921\"]],\"type\":\"histogram2dcontour\"}],\"mesh3d\":[{\"colorbar\":{\"outlinewidth\":0,\"ticks\":\"\"},\"type\":\"mesh3d\"}],\"parcoords\":[{\"line\":{\"colorbar\":{\"outlinewidth\":0,\"ticks\":\"\"}},\"type\":\"parcoords\"}],\"pie\":[{\"automargin\":true,\"type\":\"pie\"}],\"scatter\":[{\"marker\":{\"colorbar\":{\"outlinewidth\":0,\"ticks\":\"\"}},\"type\":\"scatter\"}],\"scatter3d\":[{\"line\":{\"colorbar\":{\"outlinewidth\":0,\"ticks\":\"\"}},\"marker\":{\"colorbar\":{\"outlinewidth\":0,\"ticks\":\"\"}},\"type\":\"scatter3d\"}],\"scattercarpet\":[{\"marker\":{\"colorbar\":{\"outlinewidth\":0,\"ticks\":\"\"}},\"type\":\"scattercarpet\"}],\"scattergeo\":[{\"marker\":{\"colorbar\":{\"outlinewidth\":0,\"ticks\":\"\"}},\"type\":\"scattergeo\"}],\"scattergl\":[{\"marker\":{\"colorbar\":{\"outlinewidth\":0,\"ticks\":\"\"}},\"type\":\"scattergl\"}],\"scattermapbox\":[{\"marker\":{\"colorbar\":{\"outlinewidth\":0,\"ticks\":\"\"}},\"type\":\"scattermapbox\"}],\"scatterpolar\":[{\"marker\":{\"colorbar\":{\"outlinewidth\":0,\"ticks\":\"\"}},\"type\":\"scatterpolar\"}],\"scatterpolargl\":[{\"marker\":{\"colorbar\":{\"outlinewidth\":0,\"ticks\":\"\"}},\"type\":\"scatterpolargl\"}],\"scatterternary\":[{\"marker\":{\"colorbar\":{\"outlinewidth\":0,\"ticks\":\"\"}},\"type\":\"scatterternary\"}],\"surface\":[{\"colorbar\":{\"outlinewidth\":0,\"ticks\":\"\"},\"colorscale\":[[0.0,\"#0d0887\"],[0.1111111111111111,\"#46039f\"],[0.2222222222222222,\"#7201a8\"],[0.3333333333333333,\"#9c179e\"],[0.4444444444444444,\"#bd3786\"],[0.5555555555555556,\"#d8576b\"],[0.6666666666666666,\"#ed7953\"],[0.7777777777777778,\"#fb9f3a\"],[0.8888888888888888,\"#fdca26\"],[1.0,\"#f0f921\"]],\"type\":\"surface\"}],\"table\":[{\"cells\":{\"fill\":{\"color\":\"#EBF0F8\"},\"line\":{\"color\":\"white\"}},\"header\":{\"fill\":{\"color\":\"#C8D4E3\"},\"line\":{\"color\":\"white\"}},\"type\":\"table\"}]},\"layout\":{\"annotationdefaults\":{\"arrowcolor\":\"#2a3f5f\",\"arrowhead\":0,\"arrowwidth\":1},\"autotypenumbers\":\"strict\",\"coloraxis\":{\"colorbar\":{\"outlinewidth\":0,\"ticks\":\"\"}},\"colorscale\":{\"diverging\":[[0,\"#8e0152\"],[0.1,\"#c51b7d\"],[0.2,\"#de77ae\"],[0.3,\"#f1b6da\"],[0.4,\"#fde0ef\"],[0.5,\"#f7f7f7\"],[0.6,\"#e6f5d0\"],[0.7,\"#b8e186\"],[0.8,\"#7fbc41\"],[0.9,\"#4d9221\"],[1,\"#276419\"]],\"sequential\":[[0.0,\"#0d0887\"],[0.1111111111111111,\"#46039f\"],[0.2222222222222222,\"#7201a8\"],[0.3333333333333333,\"#9c179e\"],[0.4444444444444444,\"#bd3786\"],[0.5555555555555556,\"#d8576b\"],[0.6666666666666666,\"#ed7953\"],[0.7777777777777778,\"#fb9f3a\"],[0.8888888888888888,\"#fdca26\"],[1.0,\"#f0f921\"]],\"sequentialminus\":[[0.0,\"#0d0887\"],[0.1111111111111111,\"#46039f\"],[0.2222222222222222,\"#7201a8\"],[0.3333333333333333,\"#9c179e\"],[0.4444444444444444,\"#bd3786\"],[0.5555555555555556,\"#d8576b\"],[0.6666666666666666,\"#ed7953\"],[0.7777777777777778,\"#fb9f3a\"],[0.8888888888888888,\"#fdca26\"],[1.0,\"#f0f921\"]]},\"colorway\":[\"#636efa\",\"#EF553B\",\"#00cc96\",\"#ab63fa\",\"#FFA15A\",\"#19d3f3\",\"#FF6692\",\"#B6E880\",\"#FF97FF\",\"#FECB52\"],\"font\":{\"color\":\"#2a3f5f\"},\"geo\":{\"bgcolor\":\"white\",\"lakecolor\":\"white\",\"landcolor\":\"#E5ECF6\",\"showlakes\":true,\"showland\":true,\"subunitcolor\":\"white\"},\"hoverlabel\":{\"align\":\"left\"},\"hovermode\":\"closest\",\"mapbox\":{\"style\":\"light\"},\"paper_bgcolor\":\"white\",\"plot_bgcolor\":\"#E5ECF6\",\"polar\":{\"angularaxis\":{\"gridcolor\":\"white\",\"linecolor\":\"white\",\"ticks\":\"\"},\"bgcolor\":\"#E5ECF6\",\"radialaxis\":{\"gridcolor\":\"white\",\"linecolor\":\"white\",\"ticks\":\"\"}},\"scene\":{\"xaxis\":{\"backgroundcolor\":\"#E5ECF6\",\"gridcolor\":\"white\",\"gridwidth\":2,\"linecolor\":\"white\",\"showbackground\":true,\"ticks\":\"\",\"zerolinecolor\":\"white\"},\"yaxis\":{\"backgroundcolor\":\"#E5ECF6\",\"gridcolor\":\"white\",\"gridwidth\":2,\"linecolor\":\"white\",\"showbackground\":true,\"ticks\":\"\",\"zerolinecolor\":\"white\"},\"zaxis\":{\"backgroundcolor\":\"#E5ECF6\",\"gridcolor\":\"white\",\"gridwidth\":2,\"linecolor\":\"white\",\"showbackground\":true,\"ticks\":\"\",\"zerolinecolor\":\"white\"}},\"shapedefaults\":{\"line\":{\"color\":\"#2a3f5f\"}},\"ternary\":{\"aaxis\":{\"gridcolor\":\"white\",\"linecolor\":\"white\",\"ticks\":\"\"},\"baxis\":{\"gridcolor\":\"white\",\"linecolor\":\"white\",\"ticks\":\"\"},\"bgcolor\":\"#E5ECF6\",\"caxis\":{\"gridcolor\":\"white\",\"linecolor\":\"white\",\"ticks\":\"\"}},\"title\":{\"x\":0.05},\"xaxis\":{\"automargin\":true,\"gridcolor\":\"white\",\"linecolor\":\"white\",\"ticks\":\"\",\"title\":{\"standoff\":15},\"zerolinecolor\":\"white\",\"zerolinewidth\":2},\"yaxis\":{\"automargin\":true,\"gridcolor\":\"white\",\"linecolor\":\"white\",\"ticks\":\"\",\"title\":{\"standoff\":15},\"zerolinecolor\":\"white\",\"zerolinewidth\":2}}},\"title\":{\"text\":\"Female Population in Boulder, CO by Year\"},\"xaxis\":{\"anchor\":\"y\",\"domain\":[0.0,1.0],\"title\":{\"text\":\"year\"}},\"yaxis\":{\"anchor\":\"x\",\"domain\":[0.0,1.0],\"title\":{\"text\":\"value\"}}},                        {\"responsive\": true}                    ).then(function(){\n",
       "                            \n",
       "var gd = document.getElementById('0a91b93a-191a-4d71-bf1e-2b20df88e2d2');\n",
       "var x = new MutationObserver(function (mutations, observer) {{\n",
       "        var display = window.getComputedStyle(gd).display;\n",
       "        if (!display || display === 'none') {{\n",
       "            console.log([gd, 'removed!']);\n",
       "            Plotly.purge(gd);\n",
       "            observer.disconnect();\n",
       "        }}\n",
       "}});\n",
       "\n",
       "// Listen for the removal of the full notebook cells\n",
       "var notebookContainer = gd.closest('#notebook-container');\n",
       "if (notebookContainer) {{\n",
       "    x.observe(notebookContainer, {childList: true});\n",
       "}}\n",
       "\n",
       "// Listen for the clearing of the current output cell\n",
       "var outputEl = gd.closest('.output');\n",
       "if (outputEl) {{\n",
       "    x.observe(outputEl, {childList: true});\n",
       "}}\n",
       "\n",
       "                        })                };                });            </script>        </div>"
      ]
     },
     "metadata": {},
     "output_type": "display_data"
    }
   ],
   "source": [
    "# plotly \n",
    "pd.options.plotting.backend = \"plotly\"\n",
    "\n",
    "\n",
    "\n",
    "dem_data_20_25_female_pivot.plot.bar(title=\"Female Population in Boulder, CO by Year\")"
   ]
  },
  {
   "cell_type": "markdown",
   "id": "a99d1735",
   "metadata": {},
   "source": [
    "https://plotly.com/python/pandas-backend/#introduction"
   ]
  },
  {
   "cell_type": "code",
   "execution_count": null,
   "id": "1b13c263",
   "metadata": {},
   "outputs": [],
   "source": []
  }
 ],
 "metadata": {
  "kernelspec": {
   "display_name": "Python 3",
   "language": "python",
   "name": "python3"
  },
  "language_info": {
   "codemirror_mode": {
    "name": "ipython",
    "version": 3
   },
   "file_extension": ".py",
   "mimetype": "text/x-python",
   "name": "python",
   "nbconvert_exporter": "python",
   "pygments_lexer": "ipython3",
   "version": "3.9.4"
  }
 },
 "nbformat": 4,
 "nbformat_minor": 5
}
