{
 "cells": [
  {
   "cell_type": "code",
   "execution_count": 3,
   "id": "714aabd2",
   "metadata": {},
   "outputs": [],
   "source": [
    "import geopandas"
   ]
  },
  {
   "cell_type": "code",
   "execution_count": 11,
   "id": "2518d63b",
   "metadata": {},
   "outputs": [],
   "source": [
    "path = f\"C:/Users/34639/wa/jupyter/earth_data_science/7_API_data_acces/ch_15_apis/espluga/lim_adm.geojson\""
   ]
  },
  {
   "cell_type": "code",
   "execution_count": 42,
   "id": "20fab938",
   "metadata": {
    "scrolled": true
   },
   "outputs": [
    {
     "data": {
      "text/html": [
       "<div>\n",
       "<style scoped>\n",
       "    .dataframe tbody tr th:only-of-type {\n",
       "        vertical-align: middle;\n",
       "    }\n",
       "\n",
       "    .dataframe tbody tr th {\n",
       "        vertical-align: top;\n",
       "    }\n",
       "\n",
       "    .dataframe thead th {\n",
       "        text-align: right;\n",
       "    }\n",
       "</style>\n",
       "<table border=\"1\" class=\"dataframe\">\n",
       "  <thead>\n",
       "    <tr style=\"text-align: right;\">\n",
       "      <th></th>\n",
       "      <th>codi_ine_6</th>\n",
       "      <th>provincia1</th>\n",
       "      <th>codi_costa</th>\n",
       "      <th>codi_ptgc_</th>\n",
       "      <th>comarca1</th>\n",
       "      <th>id</th>\n",
       "      <th>nom_muni</th>\n",
       "      <th>municipi</th>\n",
       "      <th>codi_cadas</th>\n",
       "      <th>codi_aft</th>\n",
       "      <th>_feature_id</th>\n",
       "      <th>codi_ptgc</th>\n",
       "      <th>cap_muni</th>\n",
       "      <th>codiine</th>\n",
       "      <th>geometry</th>\n",
       "    </tr>\n",
       "  </thead>\n",
       "  <tbody>\n",
       "    <tr>\n",
       "      <th>0</th>\n",
       "      <td>0.0</td>\n",
       "      <td></td>\n",
       "      <td>0.0</td>\n",
       "      <td></td>\n",
       "      <td></td>\n",
       "      <td>301.0</td>\n",
       "      <td>Puig-reig</td>\n",
       "      <td>081751</td>\n",
       "      <td></td>\n",
       "      <td></td>\n",
       "      <td>4</td>\n",
       "      <td></td>\n",
       "      <td>Puig-reig</td>\n",
       "      <td>08175</td>\n",
       "      <td>MULTIPOLYGON (((1.86341 41.91648, 1.86089 41.9...</td>\n",
       "    </tr>\n",
       "  </tbody>\n",
       "</table>\n",
       "</div>"
      ],
      "text/plain": [
       "  codi_ine_6 provincia1 codi_costa codi_ptgc_ comarca1     id   nom_muni  \\\n",
       "0        0.0                   0.0                      301.0  Puig-reig   \n",
       "\n",
       "  municipi codi_cadas codi_aft _feature_id codi_ptgc   cap_muni codiine  \\\n",
       "0   081751                               4            Puig-reig   08175   \n",
       "\n",
       "                                            geometry  \n",
       "0  MULTIPOLYGON (((1.86341 41.91648, 1.86089 41.9...  "
      ]
     },
     "execution_count": 42,
     "metadata": {},
     "output_type": "execute_result"
    }
   ],
   "source": [
    "gdf = geopandas.GeoDataFrame.from_file(path)\n",
    "gdf.head(1)  "
   ]
  },
  {
   "cell_type": "code",
   "execution_count": 43,
   "id": "5846bde4",
   "metadata": {},
   "outputs": [],
   "source": [
    "# Pandas Select rows by condition and String Operations\n",
    "gdf = gdf[gdf[\"nom_muni\"].str.contains('Francolí',case=False)]"
   ]
  },
  {
   "cell_type": "code",
   "execution_count": 44,
   "id": "11e0c349",
   "metadata": {},
   "outputs": [
    {
     "data": {
      "text/html": [
       "<div>\n",
       "<style scoped>\n",
       "    .dataframe tbody tr th:only-of-type {\n",
       "        vertical-align: middle;\n",
       "    }\n",
       "\n",
       "    .dataframe tbody tr th {\n",
       "        vertical-align: top;\n",
       "    }\n",
       "\n",
       "    .dataframe thead th {\n",
       "        text-align: right;\n",
       "    }\n",
       "</style>\n",
       "<table border=\"1\" class=\"dataframe\">\n",
       "  <thead>\n",
       "    <tr style=\"text-align: right;\">\n",
       "      <th></th>\n",
       "      <th>codi_ine_6</th>\n",
       "      <th>provincia1</th>\n",
       "      <th>codi_costa</th>\n",
       "      <th>codi_ptgc_</th>\n",
       "      <th>comarca1</th>\n",
       "      <th>id</th>\n",
       "      <th>nom_muni</th>\n",
       "      <th>municipi</th>\n",
       "      <th>codi_cadas</th>\n",
       "      <th>codi_aft</th>\n",
       "      <th>_feature_id</th>\n",
       "      <th>codi_ptgc</th>\n",
       "      <th>cap_muni</th>\n",
       "      <th>codiine</th>\n",
       "      <th>geometry</th>\n",
       "    </tr>\n",
       "  </thead>\n",
       "  <tbody>\n",
       "    <tr>\n",
       "      <th>606</th>\n",
       "      <td>0.0</td>\n",
       "      <td></td>\n",
       "      <td>0.0</td>\n",
       "      <td></td>\n",
       "      <td></td>\n",
       "      <td>701.0</td>\n",
       "      <td>l'Espluga de Francolí</td>\n",
       "      <td>430542</td>\n",
       "      <td></td>\n",
       "      <td></td>\n",
       "      <td>532</td>\n",
       "      <td></td>\n",
       "      <td>l'Espluga de Francolí</td>\n",
       "      <td>43054</td>\n",
       "      <td>MULTIPOLYGON (((1.14850 41.41852, 1.14738 41.4...</td>\n",
       "    </tr>\n",
       "  </tbody>\n",
       "</table>\n",
       "</div>"
      ],
      "text/plain": [
       "    codi_ine_6 provincia1 codi_costa codi_ptgc_ comarca1     id  \\\n",
       "606        0.0                   0.0                      701.0   \n",
       "\n",
       "                  nom_muni municipi codi_cadas codi_aft _feature_id codi_ptgc  \\\n",
       "606  l'Espluga de Francolí   430542                             532             \n",
       "\n",
       "                  cap_muni codiine  \\\n",
       "606  l'Espluga de Francolí   43054   \n",
       "\n",
       "                                              geometry  \n",
       "606  MULTIPOLYGON (((1.14850 41.41852, 1.14738 41.4...  "
      ]
     },
     "execution_count": 44,
     "metadata": {},
     "output_type": "execute_result"
    }
   ],
   "source": [
    "gdf"
   ]
  },
  {
   "cell_type": "code",
   "execution_count": 45,
   "id": "41c1e0f9",
   "metadata": {},
   "outputs": [
    {
     "data": {
      "text/plain": [
       "<AxesSubplot:>"
      ]
     },
     "execution_count": 45,
     "metadata": {},
     "output_type": "execute_result"
    },
    {
     "data": {
      "image/png": "[encoded data removed]",
      "text/plain": [
       "<Figure size 432x288 with 1 Axes>"
      ]
     },
     "metadata": {
      "needs_background": "light"
     },
     "output_type": "display_data"
    }
   ],
   "source": [
    "gdf.plot()"
   ]
  },
  {
   "cell_type": "code",
   "execution_count": 46,
   "id": "0f54c965",
   "metadata": {},
   "outputs": [],
   "source": [
    "import os\n",
    "import numpy as np\n",
    "import matplotlib.pyplot as plt\n",
    "import seaborn as sns\n",
    "import geopandas as gpd\n",
    "import earthpy as et\n",
    "\n",
    "# Setting plotting style for the notebook\n",
    "sns.set_style(\"white\")\n",
    "sns.set(font_scale=1.5)"
   ]
  },
  {
   "cell_type": "code",
   "execution_count": 48,
   "id": "a3849aae",
   "metadata": {},
   "outputs": [
    {
     "data": {
      "image/png": "[encoded data removed]",
      "text/plain": [
       "<Figure size 864x504 with 1 Axes>"
      ]
     },
     "metadata": {},
     "output_type": "display_data"
    }
   ],
   "source": [
    "# Plot data \n",
    "fig, ax = plt.subplots(figsize = (12,7))\n",
    "gdf.plot(ax=ax, \n",
    "         alpha=1, \n",
    "         edgecolor=\"black\",\n",
    "         color = \"white\",\n",
    "         linewidth=4)\n",
    "\n",
    "\n",
    "\n",
    "ax.set_axis_off()\n",
    "plt.show()"
   ]
  },
  {
   "cell_type": "markdown",
   "id": "48872024",
   "metadata": {},
   "source": [
    "## Writing to Shapefile:"
   ]
  },
  {
   "cell_type": "code",
   "execution_count": 51,
   "id": "40fd65e4",
   "metadata": {},
   "outputs": [
    {
     "name": "stderr",
     "output_type": "stream",
     "text": [
      "C:\\Users\\34639\\AppData\\Local\\Temp/ipykernel_5736/2292551272.py:1: UserWarning: Column names longer than 10 characters will be truncated when saved to ESRI Shapefile.\n",
      "  gdf.to_file(\"./outputs/espluga.shp\")\n"
     ]
    }
   ],
   "source": [
    "gdf.to_file(\"./outputs/espluga.shp\")"
   ]
  },
  {
   "cell_type": "markdown",
   "id": "3cb459b4",
   "metadata": {},
   "source": [
    "## Writing to GeoJSON:\n"
   ]
  },
  {
   "cell_type": "code",
   "execution_count": 53,
   "id": "a4a34457",
   "metadata": {},
   "outputs": [],
   "source": [
    "gdf.to_file(\"./outputs/espluga.geojson\", driver='GeoJSON')"
   ]
  },
  {
   "cell_type": "code",
   "execution_count": null,
   "id": "3142db65",
   "metadata": {},
   "outputs": [],
   "source": []
  }
 ],
 "metadata": {
  "kernelspec": {
   "display_name": "Python 3 (ipykernel)",
   "language": "python",
   "name": "python3"
  },
  "language_info": {
   "codemirror_mode": {
    "name": "ipython",
    "version": 3
   },
   "file_extension": ".py",
   "mimetype": "text/x-python",
   "name": "python",
   "nbconvert_exporter": "python",
   "pygments_lexer": "ipython3",
   "version": "3.8.10"
  }
 },
 "nbformat": 4,
 "nbformat_minor": 5
}
