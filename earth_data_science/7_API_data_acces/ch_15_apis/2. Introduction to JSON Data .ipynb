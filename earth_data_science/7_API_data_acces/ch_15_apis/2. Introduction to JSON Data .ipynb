{
 "cells": [
  {
   "cell_type": "markdown",
   "id": "7db01dd0",
   "metadata": {},
   "source": [
    "After completing this tutorial, you will be able to:\n",
    "\n",
    "- Describe the key structure elements of a JSON data structure: name/value pairs.\n",
    "- Identify the components of the hierarchical JSON data structures including: objects, arrays and data elements.\n",
    "- List some of the core data types that a JSON data structure can store including: boolean, numeric and string."
   ]
  },
  {
   "cell_type": "markdown",
   "id": "0717a3ed",
   "metadata": {},
   "source": [
    "In this lesson, you will explore the machine readable JSON data structure. Machine readable data structures are more efficient - particularly for larger data that contain hierarchical structures."
   ]
  },
  {
   "cell_type": "markdown",
   "id": "77a3b4d4",
   "metadata": {},
   "source": [
    "## Review\n",
    "Remember that in the first lesson in this module, you learned about **RESTful APIs**. You explored the concept of a request and then a subsequent response. The request to an RESTful API is composed of a URL and the associated parameters required to access a particular subset of the data that you wish to access.\n",
    "\n",
    "When you send the request, the web API returns one of the following:\n",
    "\n",
    "- 1.The data that you requested or\n",
    "- 2.A failed to return message which tells us that something was wrong with your request."
   ]
  },
  {
   "cell_type": "markdown",
   "id": "866a5255",
   "metadata": {},
   "source": [
    "## About JSON\n",
    "Before going any further, revisit the JavaScript Object Notation or JSON data structure that you learned about in the introductory lesson in this module. JSON is an ideal format for larger data that have a **hierarchical structured relationship.**"
   ]
  },
  {
   "cell_type": "markdown",
   "id": "38b8d03a",
   "metadata": {},
   "source": [
    "In Python, JSON data is similar to a dictonary because it has keys (i.e. names) and values, but it is encoded as a string."
   ]
  },
  {
   "cell_type": "markdown",
   "id": "fefeccc9",
   "metadata": {},
   "source": [
    "The Python **library json** is helpful to **convert data from lists or dictonaries into JSON strings** and JSON strings into lists or dictonaries. **Pandas** can also be used to **convert JSON data (via a Python dictionary) into a Pandas DataFrame.**"
   ]
  },
  {
   "cell_type": "markdown",
   "id": "2f9f0cbc",
   "metadata": {},
   "source": [
    "The structure of a **JSON object** is as follows:\n",
    "\n",
    "- The data are in name/value pairs using colons **:**.\n",
    "- Data objects are separated by commas.\n",
    "- Curly braces {} hold the objects.\n",
    "- Square brackets [] can be used to indicate an array that contains a group of objects.\n",
    "- Each data element is enclosed with quotes \"\" if it is a character, or without quotes if it is a numeric value.\n",
    "\n",
    "Example of a name/value pair using a colon:\n",
    "\n"
   ]
  },
  {
   "cell_type": "raw",
   "id": "5b0b368a",
   "metadata": {},
   "source": [
    "{ \"name\":\"Chaya\" }"
   ]
  },
  {
   "cell_type": "markdown",
   "id": "91dfb0f5",
   "metadata": {},
   "source": [
    "Example of objects separated by commas:"
   ]
  },
  {
   "cell_type": "raw",
   "id": "bb1dc2cd",
   "metadata": {},
   "source": [
    "{ \"name\":\"Chaya\", \"age\":12, \"city\":\"Boulder\", \"type\":\"Canine\" }"
   ]
  },
  {
   "cell_type": "markdown",
   "id": "69a69c50",
   "metadata": {},
   "source": [
    "Notice that the data above are structured. Thus, each element contains a particular object name (name, age, city, etc) and values are associated with these names. This is similar to column headings in a CSV file.\n",
    "\n",
    "However, the JSON structure can also be nested using square brackets to indicate an array that contains a group of objects, like this:"
   ]
  },
  {
   "cell_type": "raw",
   "id": "efa5d910",
   "metadata": {},
   "source": [
    "{\"students\":[\n",
    "    { \"firstName\":\"Serena\", \"lastName\":\"Williams\" },\n",
    "    { \"firstName\":\"Boe\", \"lastName\":\"Diddly\" },\n",
    "    { \"firstName\":\"Al\", \"lastName\":\"Gore\" }\n",
    "]}"
   ]
  },
  {
   "cell_type": "markdown",
   "id": "6f38ade4",
   "metadata": {},
   "source": [
    "The ability to store nested or **hierarchical** data within a text file structure makes JSON a powerful format to use as you are working with larger datasets.\n",
    "\n"
   ]
  },
  {
   "cell_type": "markdown",
   "id": "87312883",
   "metadata": {},
   "source": [
    "Data Tip: The GeoJSON data structure is a powerful data structure that supports spatial data. **GeoJSON** can be used to create maps just like shapefiles can. This format is often used for web mapping applications like **Leaflet** (which you will learn about later in this module)."
   ]
  },
  {
   "cell_type": "markdown",
   "id": "20792468",
   "metadata": {},
   "source": [
    "SON Data Structures\n",
    "JSON can store any of the following data types:\n",
    "\n",
    "- strings\n",
    "- numbers\n",
    "- objects (JSON object)\n",
    "- arrays\n",
    "- booleans (TRUE / FALSE)\n",
    "- null\n",
    "\n",
    "Note that in the example below, the word “Chaya”, which is the value associated with “name”, is in quotes \"\". This specifies that “Chaya” is a string (characters rather than numeric)."
   ]
  },
  {
   "cell_type": "raw",
   "id": "cc5a917a",
   "metadata": {},
   "source": [
    " { \"name\":\"Chaya\" }"
   ]
  },
  {
   "cell_type": "markdown",
   "id": "df46d197",
   "metadata": {},
   "source": [
    "In this example, the value 12, associated with “age”, is not in quotes. This specifies that this value is a number or of type numeric.\n",
    "\n"
   ]
  },
  {
   "cell_type": "raw",
   "id": "a105336e",
   "metadata": {},
   "source": [
    "{ \"name\":\"Chaya\", \"age\":12, \"city\":\"Boulder\", \"type\":\"Canine\" }"
   ]
  },
  {
   "cell_type": "markdown",
   "id": "090b2b39",
   "metadata": {},
   "source": [
    "In the next lesson, you will work with JSON structured data, accessed via a RESTful API. A snippet of the data that you will work with is below. Notice that the **JSON is enclosed in brackets [] to indicate an array containing a group of objects.**"
   ]
  },
  {
   "cell_type": "raw",
   "id": "d153e61e",
   "metadata": {},
   "source": [
    "[{\"age\":\"0\",\"county\":\"Adams\",\"datatype\":\"Estimate\",\"femalepopulation\":\"2404\",\"fipscode\":\"1\",\"malepopulation\":\"2354\",\"totalpopulation\":\"4758\",\"year\":\"1990\"}\n",
    ",{\"age\":\"1\",\"county\":\"Adams\",\"datatype\":\"Estimate\",\"femalepopulation\":\"2375\",\"fipscode\":\"1\",\"malepopulation\":\"2345\",\"totalpopulation\":\"4720\",\"year\":\"1990\"}\n",
    ",{\"age\":\"2\",\"county\":\"Adams\",\"datatype\":\"Estimate\",\"femalepopulation\":\"2219\",\"fipscode\":\"1\",\"malepopulation\":\"2413\",\"totalpopulation\":\"4632\",\"year\":\"1990\"}]"
   ]
  },
  {
   "cell_type": "code",
   "execution_count": null,
   "id": "9f8a9a12",
   "metadata": {},
   "outputs": [],
   "source": []
  }
 ],
 "metadata": {
  "kernelspec": {
   "display_name": "Python 3 (ipykernel)",
   "language": "python",
   "name": "python3"
  },
  "language_info": {
   "codemirror_mode": {
    "name": "ipython",
    "version": 3
   },
   "file_extension": ".py",
   "mimetype": "text/x-python",
   "name": "python",
   "nbconvert_exporter": "python",
   "pygments_lexer": "ipython3",
   "version": "3.8.10"
  }
 },
 "nbformat": 4,
 "nbformat_minor": 5
}
