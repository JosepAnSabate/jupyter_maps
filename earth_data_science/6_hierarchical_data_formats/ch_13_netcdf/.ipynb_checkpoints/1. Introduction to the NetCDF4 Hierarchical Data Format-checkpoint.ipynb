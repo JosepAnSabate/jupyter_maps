{
 "cells": [
  {
   "cell_type": "markdown",
   "id": "6cf8b023",
   "metadata": {},
   "source": [
    "After completing this chapter, you will be able to:\n",
    "\n",
    "- Describe the netcdf data format as it is used to store climate data\n",
    "- Define the characteristics of MACAv2 and CMIP5 data.\n",
    "- Explain what downscaling is."
   ]
  },
  {
   "cell_type": "markdown",
   "id": "4161f2db",
   "metadata": {},
   "source": [
    "NetCDF (network Common Data Form) is a hierarchical data format similar to hdf4 and hdf5. It is what is known as a “self-describing” data structure which means that metadata, or descriptions of the data, are included in the file itself and can be parsed programmatically, meaning that they can be accessed using code to build automated and reproducible workflows.\n",
    "\n",
    "The NetCDF format can store data with multiple dimensions. It can also **store different types of data through arrays that can contain geospatial imagery, rasters, terrain data, climate data, and text**. These arrays support metadata, making the netCDF format highly flexible. NetCDF was developed and is supported by UCAR who maintains standards and software that support the use of the format."
   ]
  },
  {
   "cell_type": "markdown",
   "id": "3824ffc2",
   "metadata": {},
   "source": [
    "### NetCDF4 Format for Climate Data\n",
    "The hierarchical and flexible nature of netcdf files supports storing data in many different ways. This flexibility is nice, however, similar to hdf5 data formats, it can be challenging when communities make different decisions about how and where they store data in a netCDF file. The netCDF4 data standard is used broadly by the climate science community to store climate data. Climate data are:\n",
    "\n",
    "- often delivered in a time series format (months and years of historic or future projected data).\n",
    "- spatial in nature, covering regions such as the United States or even the world.\n",
    "- driven by models which require documentation making the self describing aspect of netCDF files useful."
   ]
  },
  {
   "cell_type": "markdown",
   "id": "6ec45684",
   "metadata": {},
   "source": [
    "The netCDF4 format supports data stored in an **array format**. "
   ]
  },
  {
   "cell_type": "markdown",
   "id": "17a3c5b6",
   "metadata": {},
   "source": [
    "#### NetCDF is Self Describing\n",
    "One of the biggest benefits of working with a data type like netCDF is that it is self-describing. This means that all of the metadata needed to work with the data is often contained within the netCDF file (the .nc file) itself.\n",
    "\n"
   ]
  },
  {
   "cell_type": "markdown",
   "id": "7d180b65",
   "metadata": {},
   "source": [
    "![](./img/hdf.jpg)"
   ]
  },
  {
   "cell_type": "markdown",
   "id": "ed399596",
   "metadata": {},
   "source": [
    "### Tools to Work With NetCDF Data\n",
    "Python also has several open source tools that are useful for processing netcdf files including:\n",
    "\n",
    "- **Xarray:** one of the most common tools used to process netcdf data. Xarray knows how to open netcdf 4 files automatically giving you access to the data and metadata in spatial formats.\n",
    "- **rioxarray:** a wrapper that adds spatial functionality such as reproject and export to geotiff to xarray objects.\n",
    "- **Regionmask:** regionmask builds on top of xarray to support spatial subsetting and AOIs for xarray objects."
   ]
  },
  {
   "cell_type": "code",
   "execution_count": null,
   "id": "2cc30a0b",
   "metadata": {},
   "outputs": [],
   "source": []
  }
 ],
 "metadata": {
  "kernelspec": {
   "display_name": "Python 3",
   "language": "python",
   "name": "python3"
  },
  "language_info": {
   "codemirror_mode": {
    "name": "ipython",
    "version": 3
   },
   "file_extension": ".py",
   "mimetype": "text/x-python",
   "name": "python",
   "nbconvert_exporter": "python",
   "pygments_lexer": "ipython3",
   "version": "3.9.4"
  }
 },
 "nbformat": 4,
 "nbformat_minor": 5
}
