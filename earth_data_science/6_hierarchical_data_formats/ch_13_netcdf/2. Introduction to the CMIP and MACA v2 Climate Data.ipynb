{
 "cells": [
  {
   "cell_type": "markdown",
   "id": "b4057859",
   "metadata": {},
   "source": [
    "After completing this chapter, you will be able to:\n",
    "\n",
    "- Define the characteristics of MACAv2 and CMIP5 data.\n",
    "- Explain what downscaling is."
   ]
  },
  {
   "cell_type": "markdown",
   "id": "de4b2c3a",
   "metadata": {},
   "source": [
    "## About Climate Data: What is CMIP5 data?\n",
    "The Climate Model Intercomparison Project, better known as CMIP, is a framework for analyzing and comparing Global Climate Models (GCMs) to better understand climate change occuring now and into the future. GCMs are a type of climate models that simulate the global and regional scale climate processes that include the general circulation of atmosphere and oceans and its interaction with the land, radiative fluxes, cloud processes, and land surface processes that include hydrology and biological feedbacks. CMIP5, phase 5 of the project, is the current and most extensive CMIP, drawing data from over 40 GCMs from countries around the world."
   ]
  },
  {
   "cell_type": "markdown",
   "id": "24ea3402",
   "metadata": {},
   "source": [
    "## What is MACA v2 Metdata?\n",
    "The CMIP models are global and thus cover the entire world. Due to this global coverage they are delivered at a coarse resolution ranging from 100-300km.\n",
    "\n",
    "Multivariate Adaptive Constructed Analogs **(MACA) is a statistical method for downscaling GCM data** from its coarse format to a higher spatial resolution for the Continental United States (CONUS). "
   ]
  },
  {
   "cell_type": "markdown",
   "id": "87d326b4",
   "metadata": {},
   "source": [
    "### About Downscaling Data - Creating Higher Resolution Climate Data For the United States Using Lower Resolution Global Data"
   ]
  },
  {
   "cell_type": "markdown",
   "id": "d408267d",
   "metadata": {},
   "source": [
    "Downscaling refers to the process of taking climate projections data produced at a large scale, with bigger pixels covering larger areas (100-300 km), and increasing its spatial resolution so that the pixels are smaller and cover smaller areas (1-50 km). "
   ]
  },
  {
   "cell_type": "markdown",
   "id": "f62a03e3",
   "metadata": {},
   "source": [
    "Downscaling allows us to have future climate projections available at a much finer spatial scale and more representative of a region’s climate and therefore more applicable for regional-scale applications. For example, it is more appropriate for discerning projected hydrological changes at a watershed scale as opposed to taking those projections directly from a GCM output. Overall, downscaling makes the data more useful on a local and regional level, which is important because adaptation strategies are generally identified and implemented on regional and local scales. This allows resource managers to identify vulnerable areas and prioritize adaptation efforts there."
   ]
  },
  {
   "cell_type": "markdown",
   "id": "a28c0d96",
   "metadata": {},
   "source": [
    "![data](./img/data.jpg)"
   ]
  },
  {
   "cell_type": "markdown",
   "id": "37e5d15f",
   "metadata": {},
   "source": [
    "An example of the downscaling process, converting coarse data to a higher resolution. Source: Databasin.org."
   ]
  },
  {
   "cell_type": "markdown",
   "id": "c7401bd1",
   "metadata": {},
   "source": [
    "Downscaling however comes with its challenges. There are many different processing and statistical approaches that can be used to downscale GCM data, each of which produce different levels and types of uncertainty. The MACA downscaling method uses a constructed analog approach that is a more advanced form of statistical downscaling and has been getting greater acceptability and usability in the user community. "
   ]
  },
  {
   "cell_type": "markdown",
   "id": "05c677ff",
   "metadata": {},
   "source": [
    "## What Formats Are MACA v2 Data In?\n",
    "- Tabular (txt and csv) - Learn how to work with txt and csv data in this lesson.\n",
    "- GeoTIFF - Learn how to work with geotiff data in this lesson.\n",
    "- netCDF - Get more detail on the netCDF documentation from UCAR here."
   ]
  },
  {
   "cell_type": "markdown",
   "id": "d913a862",
   "metadata": {},
   "source": [
    "# How do you get MACA v2 data?\n",
    "There are several different options for downloading MACA v2 data including the:\n",
    "\n",
    "Directly from MACA v2 through a: Catalog Data portal USGS GeoData Portal Climate Futures Toolbox (CFT), an R tool created by CU Boulder Earth Lab Climate Mapper Tool, a tool from the Climate Toolbox"
   ]
  },
  {
   "cell_type": "markdown",
   "id": "2759eee9",
   "metadata": {},
   "source": [
    "## The Climate Toolbox\n",
    "The Climate Toolbox is a collection of approximately 20 web-based tools that allow the user to visualize past and future projected climate, agriculture, wildfire, and hydrological data for the United States. It is maintained by the University of California, Merced in collaboration with government organizations including the USDA, NOAA, and the USGS."
   ]
  },
  {
   "cell_type": "markdown",
   "id": "fe6476d5",
   "metadata": {},
   "source": [
    "#### The Climate Toolbox Climate Mapper Tool\n",
    "The Climate Mapper Tool allows you to map climate data extracted from MACA v2 Metdata, display current conditions, forecasts, and future projections for the U.S. The data includes variables related to climate, agriculture, wildfire, and hydrology. The tool aims to help scientists and decision-makers visualize climate information in a straightforward and easy-to-use way."
   ]
  },
  {
   "cell_type": "code",
   "execution_count": null,
   "id": "8289117c",
   "metadata": {},
   "outputs": [],
   "source": []
  }
 ],
 "metadata": {
  "kernelspec": {
   "display_name": "Python 3",
   "language": "python",
   "name": "python3"
  },
  "language_info": {
   "codemirror_mode": {
    "name": "ipython",
    "version": 3
   },
   "file_extension": ".py",
   "mimetype": "text/x-python",
   "name": "python",
   "nbconvert_exporter": "python",
   "pygments_lexer": "ipython3",
   "version": "3.9.4"
  }
 },
 "nbformat": 4,
 "nbformat_minor": 5
}
