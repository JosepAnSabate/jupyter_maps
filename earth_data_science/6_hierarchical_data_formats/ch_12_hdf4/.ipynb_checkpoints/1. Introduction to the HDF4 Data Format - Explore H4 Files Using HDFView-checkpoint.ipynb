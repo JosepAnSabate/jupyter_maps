{
 "cells": [
  {
   "cell_type": "markdown",
   "id": "28b267a4",
   "metadata": {},
   "source": [
    "In this chapter, you will learn how to work with **MODIS** remote sensing data stored in the **HDF4** file format using open source Python."
   ]
  },
  {
   "cell_type": "markdown",
   "id": "db0885d5",
   "metadata": {},
   "source": [
    "After completing this chapter, you will be able to:\n",
    "\n",
    "- Explain how data are structured and stored in HDF4 files.\n",
    "- Explore HDF4 files (and their metadata) in a free HDF viewer.\n",
    "- Open and process HDF4 files in Python."
   ]
  },
  {
   "cell_type": "markdown",
   "id": "84f3910f",
   "metadata": {},
   "source": [
    "HDF4 is an older hierarchical data format as compared to HDF5, which is the latest version promoted by the HDF Group, the publisher of the libraries and standards for these formats. While the transition to HDF5 has occurred for many remote sensing products, HDF4 is still the primary data format that is adapted for MODIS data products published by NASA."
   ]
  },
  {
   "cell_type": "markdown",
   "id": "74bf666c",
   "metadata": {},
   "source": [
    "## HDF4 EOS Format for MODIS\n",
    "HDF4-EOS files are composed of a directory containing data objects (what we might think of as individual files in a computer directory). Each data object is listed as an individual entry in the directory, which allows the data object to be linked with related metadata.\n",
    "\n",
    "Related data objects can be grouped into datasets consisting of multiple data objects (what we might think of subdirectories to organize files within a computer directory)."
   ]
  },
  {
   "cell_type": "markdown",
   "id": "362903d6",
   "metadata": {},
   "source": [
    "#### Download and Install HDF Viewer\n"
   ]
  },
  {
   "cell_type": "markdown",
   "id": "b2804dcf",
   "metadata": {},
   "source": [
    "https://www.earthdatascience.org/courses/use-data-open-source-python/hierarchical-data-formats-hdf/intro-to-hdf4/"
   ]
  },
  {
   "cell_type": "code",
   "execution_count": null,
   "id": "20a137d1",
   "metadata": {},
   "outputs": [],
   "source": []
  }
 ],
 "metadata": {
  "kernelspec": {
   "display_name": "Python 3",
   "language": "python",
   "name": "python3"
  },
  "language_info": {
   "codemirror_mode": {
    "name": "ipython",
    "version": 3
   },
   "file_extension": ".py",
   "mimetype": "text/x-python",
   "name": "python",
   "nbconvert_exporter": "python",
   "pygments_lexer": "ipython3",
   "version": "3.9.4"
  }
 },
 "nbformat": 4,
 "nbformat_minor": 5
}
