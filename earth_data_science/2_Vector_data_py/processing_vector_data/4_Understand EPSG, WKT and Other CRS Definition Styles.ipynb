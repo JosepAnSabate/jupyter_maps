{
 "cells": [
  {
   "cell_type": "markdown",
   "id": "6e147aa4",
   "metadata": {},
   "source": [
    "Learning Objectives\n",
    "\n",
    "- dentify the proj4 vs EPSG vs WKT crs format when presented with all three formats.\n",
    "- Look up a CRS definition in proj4, EPSG or WKT formats using spatialreference.org."
   ]
  },
  {
   "cell_type": "markdown",
   "id": "98b3ecfe",
   "metadata": {},
   "source": [
    "## Coordinate Reference System Formats\n",
    "There are numerous formats that are used to document a CRS. Three common formats include:\n",
    "\n",
    "- proj.4\n",
    "- EPSG\n",
    "- Well-known Text (WKT) formats."
   ]
  },
  {
   "cell_type": "markdown",
   "id": "6d193340",
   "metadata": {},
   "source": [
    "Look up CRS strings is Spatialreference.org. You can use the search on the site to find an EPSG code. "
   ]
  },
  {
   "cell_type": "markdown",
   "id": "b9d18b7a",
   "metadata": {},
   "source": [
    "#### PROJ or PROJ.4 strings\n",
    "PROJ.4 strings are a compact way to identify a spatial or coordinate reference system. PROJ.4 strings are one of the formats that Geopandas can accept. However, note that many libraries are moving towards the more concise EPSG format.\n",
    "\n",
    "Using the PROJ.4 syntax, you specify the complete set of parameters including the ellipse, datum, projection units and projection definition that define a particular CRS."
   ]
  },
  {
   "cell_type": "markdown",
   "id": "80039eac",
   "metadata": {},
   "source": [
    "- +proj=utm +zone=11 +datum=WGS84 +units=m +no_defs +ellps=WGS84 +towgs84=0,0,0\n",
    "\n"
   ]
  },
  {
   "cell_type": "markdown",
   "id": "4576f4c3",
   "metadata": {},
   "source": [
    "If there is no S, then you can assume it’s a northern projection."
   ]
  },
  {
   "cell_type": "markdown",
   "id": "f173fdd0",
   "metadata": {},
   "source": [
    "#### Geographic (lat / long) Proj.4 String\n",
    "\n",
    "Next, look at another CRS definition.\n",
    "\n",
    "- +proj=longlat +datum=WGS84 +no_defs +ellps=WGS84 +towgs84=0,0,0"
   ]
  },
  {
   "cell_type": "markdown",
   "id": "2a1ead8c",
   "metadata": {},
   "source": [
    "## EPSG codes\n",
    "The EPSG codes are 4-5 digit numbers that represent CRSs definitions. The acronym EPSG, comes from the, now defunct, European Petroleum Survey Group. Each code is a four-five digit number which represents a particular CRS definition."
   ]
  },
  {
   "cell_type": "code",
   "execution_count": 1,
   "id": "69e7bdc9",
   "metadata": {},
   "outputs": [],
   "source": [
    "import os\n",
    "import numpy as np\n",
    "import matplotlib.pyplot as plt\n",
    "import pandas as pd\n",
    "import geopandas as gpd\n",
    "from shapely.geometry import Point\n",
    "import earthpy as et\n",
    "\n",
    "# Set working dir & get data\n",
    "data = et.data.get_data('spatial-vector-lidar')\n",
    "os.chdir(os.path.join(et.io.HOME, 'earth-analytics'))"
   ]
  },
  {
   "cell_type": "code",
   "execution_count": 2,
   "id": "1c66ba8c",
   "metadata": {},
   "outputs": [
    {
     "data": {
      "text/plain": [
       "<Geographic 2D CRS: EPSG:4326>\n",
       "Name: WGS 84\n",
       "Axis Info [ellipsoidal]:\n",
       "- Lat[north]: Geodetic latitude (degree)\n",
       "- Lon[east]: Geodetic longitude (degree)\n",
       "Area of Use:\n",
       "- name: World.\n",
       "- bounds: (-180.0, -90.0, 180.0, 90.0)\n",
       "Datum: World Geodetic System 1984\n",
       "- Ellipsoid: WGS 84\n",
       "- Prime Meridian: Greenwich"
      ]
     },
     "execution_count": 2,
     "metadata": {},
     "output_type": "execute_result"
    }
   ],
   "source": [
    "# Import world boundary shapefile\n",
    "worldBound_path = os.path.join(\"data\", \"spatial-vector-lidar\", \"global\", \n",
    "                               \"ne_110m_land\", \"ne_110m_land.shp\")\n",
    "worldBound = gpd.read_file(worldBound_path)\n",
    "\n",
    "worldBound.crs"
   ]
  },
  {
   "cell_type": "markdown",
   "id": "2a696622",
   "metadata": {},
   "source": [
    "Notice that the CRS returned above, consists of two parts:\n",
    "\n",
    "- ‘init’ which tells python that a CRS definition (ie EPSG code) will be provided and\n",
    "- the epsg code itself epsg: 4326"
   ]
  },
  {
   "cell_type": "markdown",
   "id": "030f228e",
   "metadata": {},
   "source": [
    "### How to Create a CRS Object in Python\n",
    "You often need to define the CRS for a spatial object. For example in the previous lessons, you created new spatial point layers, and had to define the CRS that the point x,y locations were in.\n",
    "\n",
    "To do this you completed the following steps:\n",
    "\n",
    "- 1.You manually created an array for a single point (x,y).\n",
    "- 2.You turned that x,y point into a shapely points object\n",
    "- 3.Finally convert that point object to a pandas GeoDataFrame"
   ]
  },
  {
   "cell_type": "code",
   "execution_count": 5,
   "id": "376ffa11",
   "metadata": {},
   "outputs": [
    {
     "name": "stderr",
     "output_type": "stream",
     "text": [
      "C:\\Users\\34639\\anaconda3\\envs\\geo_env\\lib\\site-packages\\pyproj\\crs\\crs.py:68: FutureWarning: '+init=<authority>:<code>' syntax is deprecated. '<authority>:<code>' is the preferred initialization method. When making the change, be mindful of axis order changes: https://pyproj4.github.io/pyproj/stable/gotchas.html#axis-order-changes-in-proj-6\n",
      "  return _prepare_from_string(\" \".join(pjargs))\n"
     ]
    },
    {
     "data": {
      "text/plain": [
       "<Projected CRS: EPSG:2957>\n",
       "Name: NAD83(CSRS) / UTM zone 13N\n",
       "Axis Info [cartesian]:\n",
       "- E[east]: Easting (metre)\n",
       "- N[north]: Northing (metre)\n",
       "Area of Use:\n",
       "- name: Canada between 108°W and 102°W onshore and offshore - Northwest Territories, Nunavut, Saskatchewan.\n",
       "- bounds: (-108.0, 48.99, -102.0, 84.0)\n",
       "Coordinate Operation:\n",
       "- name: UTM zone 13N\n",
       "- method: Transverse Mercator\n",
       "Datum: NAD83 Canadian Spatial Reference System\n",
       "- Ellipsoid: GRS 1980\n",
       "- Prime Meridian: Greenwich"
      ]
     },
     "execution_count": 5,
     "metadata": {},
     "output_type": "execute_result"
    }
   ],
   "source": [
    "# Create a numpy array with x,y location of Boulder\n",
    "boulder_xy = np.array([[476911.31, 4429455.35]])\n",
    "\n",
    "# Create shapely point object\n",
    "boulder_xy_pt = [Point(xy) for xy in boulder_xy]\n",
    "\n",
    "# Convert to spatial dataframe - geodataframe -- assign the CRS using epsg code\n",
    "boulder_loc = gpd.GeoDataFrame(boulder_xy_pt,\n",
    "                               columns=['geometry'],\n",
    "                               crs={'init': 'epsg:2957'})\n",
    "\n",
    "# View crs of new spatial points object\n",
    "boulder_loc.crs"
   ]
  },
  {
   "cell_type": "markdown",
   "id": "1192aa5b",
   "metadata": {},
   "source": [
    "#### WKT or Well-known Text\n",
    "It’s useful to recognize this format given many tools - including ESRI’s ArcMap and ENVI use this format. Well-known Text (WKT) is a for compact machine- and human-readable representation of geometric objects. It defines elements of coordinate reference system (CRS) definitions using a combination of brackets [] and elements separated by commas (,).\n",
    "\n",
    "Here is an example of WKT for WGS84 geographic:\n",
    "\n",
    "- GEOGCS[\"GCS_WGS_1984\",DATUM[\"D_WGS_1984\",SPHEROID[\"WGS_1984\",6378137,298.257223563]],PRIMEM[\"Greenwich\",0],UNIT[\"Degree\",0.017453292519943295]]"
   ]
  },
  {
   "cell_type": "markdown",
   "id": "3ca894ea",
   "metadata": {},
   "source": [
    "### Practice Your GeoPandas Dataframes Skills: Import Line & Polygon Shapefiles\n",
    "Import the data/week5/california/madera-county-roads/tl_2013_06039_roads and data/week5/california/SJER/vector_data/SJER_crop.shp shapefiles into Python.\n",
    "\n",
    "Call the roads object sjer_roads and the crop layer sjer_crop_extent.\n",
    "\n",
    "Answer the following questions:\n",
    "\n",
    "- What type of Python spatial object is created when you import each layer?\n",
    "\n",
    "geopandas.geodataframe.GeoDataFrame\n",
    "- What is the CRS and extent for each object?\n",
    "\n",
    "EPSG:32611\n",
    "- Do the files contain, points, lines or polygons?\n",
    " \n",
    " polygons\n",
    "- How many spatial objects are in each file?\n",
    "\n",
    "1"
   ]
  },
  {
   "cell_type": "code",
   "execution_count": 7,
   "id": "d5617d52",
   "metadata": {},
   "outputs": [],
   "source": [
    "crop = gpd.read_file('C:/capes_sql/colorado-flood/spatial-vector-lidar/california/neon-sjer-site/vector_data/SJER_crop.shp')"
   ]
  },
  {
   "cell_type": "code",
   "execution_count": 8,
   "id": "b708cc05",
   "metadata": {},
   "outputs": [
    {
     "name": "stdout",
     "output_type": "stream",
     "text": [
      "<class 'geopandas.geodataframe.GeoDataFrame'>\n",
      "RangeIndex: 1 entries, 0 to 0\n",
      "Data columns (total 2 columns):\n",
      " #   Column    Non-Null Count  Dtype   \n",
      "---  ------    --------------  -----   \n",
      " 0   Id        1 non-null      int64   \n",
      " 1   geometry  1 non-null      geometry\n",
      "dtypes: geometry(1), int64(1)\n",
      "memory usage: 144.0 bytes\n"
     ]
    }
   ],
   "source": [
    "crop.info()"
   ]
  },
  {
   "cell_type": "code",
   "execution_count": 9,
   "id": "af7348ac",
   "metadata": {},
   "outputs": [
    {
     "data": {
      "text/plain": [
       "<Projected CRS: EPSG:32611>\n",
       "Name: WGS 84 / UTM zone 11N\n",
       "Axis Info [cartesian]:\n",
       "- E[east]: Easting (metre)\n",
       "- N[north]: Northing (metre)\n",
       "Area of Use:\n",
       "- name: Between 120°W and 114°W, northern hemisphere between equator and 84°N, onshore and offshore. Canada - Alberta; British Columbia (BC); Northwest Territories (NWT); Nunavut. Mexico. United States (USA).\n",
       "- bounds: (-120.0, 0.0, -114.0, 84.0)\n",
       "Coordinate Operation:\n",
       "- name: UTM zone 11N\n",
       "- method: Transverse Mercator\n",
       "Datum: World Geodetic System 1984\n",
       "- Ellipsoid: WGS 84\n",
       "- Prime Meridian: Greenwich"
      ]
     },
     "execution_count": 9,
     "metadata": {},
     "output_type": "execute_result"
    }
   ],
   "source": [
    "crop.crs"
   ]
  },
  {
   "cell_type": "code",
   "execution_count": 10,
   "id": "2586a2c2",
   "metadata": {},
   "outputs": [
    {
     "data": {
      "text/html": [
       "<div>\n",
       "<style scoped>\n",
       "    .dataframe tbody tr th:only-of-type {\n",
       "        vertical-align: middle;\n",
       "    }\n",
       "\n",
       "    .dataframe tbody tr th {\n",
       "        vertical-align: top;\n",
       "    }\n",
       "\n",
       "    .dataframe thead th {\n",
       "        text-align: right;\n",
       "    }\n",
       "</style>\n",
       "<table border=\"1\" class=\"dataframe\">\n",
       "  <thead>\n",
       "    <tr style=\"text-align: right;\">\n",
       "      <th></th>\n",
       "      <th>Id</th>\n",
       "      <th>geometry</th>\n",
       "    </tr>\n",
       "  </thead>\n",
       "  <tbody>\n",
       "    <tr>\n",
       "      <th>0</th>\n",
       "      <td>0</td>\n",
       "      <td>POLYGON ((254570.567 4112361.920, 258867.409 4...</td>\n",
       "    </tr>\n",
       "  </tbody>\n",
       "</table>\n",
       "</div>"
      ],
      "text/plain": [
       "   Id                                           geometry\n",
       "0   0  POLYGON ((254570.567 4112361.920, 258867.409 4..."
      ]
     },
     "execution_count": 10,
     "metadata": {},
     "output_type": "execute_result"
    }
   ],
   "source": [
    "crop.head()"
   ]
  }
 ],
 "metadata": {
  "kernelspec": {
   "display_name": "Python 3 (ipykernel)",
   "language": "python",
   "name": "python3"
  },
  "language_info": {
   "codemirror_mode": {
    "name": "ipython",
    "version": 3
   },
   "file_extension": ".py",
   "mimetype": "text/x-python",
   "name": "python",
   "nbconvert_exporter": "python",
   "pygments_lexer": "ipython3",
   "version": "3.8.10"
  }
 },
 "nbformat": 4,
 "nbformat_minor": 5
}
