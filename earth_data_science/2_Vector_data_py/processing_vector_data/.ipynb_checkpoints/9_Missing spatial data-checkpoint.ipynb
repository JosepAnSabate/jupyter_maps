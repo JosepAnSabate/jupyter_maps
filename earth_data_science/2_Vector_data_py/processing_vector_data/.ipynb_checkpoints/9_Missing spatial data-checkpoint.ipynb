{
 "cells": [
  {
   "cell_type": "markdown",
   "id": "d4fb15c5",
   "metadata": {},
   "source": [
    "###  Learning Objectives\n",
    "- Work with data sets that have missing data.\n",
    "- Replace missing data values"
   ]
  },
  {
   "cell_type": "markdown",
   "id": "24612c2a",
   "metadata": {},
   "source": [
    "This lesson covers how to rename and clean up attribute data using **geopandas.**"
   ]
  },
  {
   "cell_type": "code",
   "execution_count": 1,
   "id": "facc1c6f",
   "metadata": {},
   "outputs": [],
   "source": [
    "import os\n",
    "import numpy as np\n",
    "import pandas as pd\n",
    "import geopandas as gpd\n",
    "import earthpy as et \n",
    "\n",
    "# Set working dir & get data\n",
    "data = et.data.get_data('spatial-vector-lidar')\n",
    "os.chdir(os.path.join(et.io.HOME, 'earth-analytics'))"
   ]
  },
  {
   "cell_type": "code",
   "execution_count": 2,
   "id": "a3871941",
   "metadata": {},
   "outputs": [
    {
     "data": {
      "text/plain": [
       "geopandas.geodataframe.GeoDataFrame"
      ]
     },
     "execution_count": 2,
     "metadata": {},
     "output_type": "execute_result"
    }
   ],
   "source": [
    "# Import roads shapefile\n",
    "sjer_roads_path = os.path.join(\"data\", \"spatial-vector-lidar\", \"california\", \n",
    "                               \"madera-county-roads\", \"tl_2013_06039_roads.shp\")\n",
    "sjer_roads = gpd.read_file(sjer_roads_path)\n",
    "\n",
    "type(sjer_roads)"
   ]
  },
  {
   "cell_type": "markdown",
   "id": "5c06f9c7",
   "metadata": {},
   "source": [
    "## Explore Data Values\n",
    "There are several ways to use pandas to explore your data and determine if you have any missing values.\n",
    "\n",
    "- To find the number of missing values per column in a DataFrame you can run dfname.is_null().sum()\n",
    "- Look at the unique values for a specific column of a DataFrame dfname['column'].unique()"
   ]
  },
  {
   "cell_type": "code",
   "execution_count": 4,
   "id": "031a4488",
   "metadata": {},
   "outputs": [
    {
     "data": {
      "text/plain": [
       "LINEARID       0\n",
       "FULLNAME    5149\n",
       "RTTYP       5149\n",
       "MTFCC          0\n",
       "geometry       0\n",
       "dtype: int64"
      ]
     },
     "execution_count": 4,
     "metadata": {},
     "output_type": "execute_result"
    }
   ],
   "source": [
    "# e number of missing values per column\n",
    "sjer_roads.isnull().sum()"
   ]
  },
  {
   "cell_type": "markdown",
   "id": "9fb9a130",
   "metadata": {},
   "source": [
    "Based on this method there are no NaN or None type obejcts as values in the geodataframe. Double check the unique values in the road type column."
   ]
  },
  {
   "cell_type": "code",
   "execution_count": 5,
   "id": "6405d46c",
   "metadata": {},
   "outputs": [
    {
     "name": "stdout",
     "output_type": "stream",
     "text": [
      "<class 'pandas.core.series.Series'>\n",
      "['M' None 'S' 'C']\n"
     ]
    }
   ],
   "source": [
    "# View data type \n",
    "print(type(sjer_roads['RTTYP']))\n",
    "\n",
    "# View unique attributes for each road in the data\n",
    "print(sjer_roads['RTTYP'].unique())"
   ]
  },
  {
   "cell_type": "markdown",
   "id": "49674243",
   "metadata": {},
   "source": [
    "## Replacing Values\n",
    "- If the value you want to replace is a Nan or Nonetype you can use dfname.loc[dfname['column'].isnull(), 'column' = 'newvaluu'\n",
    "\n",
    "- Or you can use the pandas .fillna() method and .fullna takes in the value that you want to replace."
   ]
  },
  {
   "cell_type": "markdown",
   "id": "d7a0113e",
   "metadata": {},
   "source": [
    "There are several ways to deal with this issue. One is to use the .replace method to replace all instances of None in the attribute data with some new value. In this case, you will use - ‘Unknown’."
   ]
  },
  {
   "cell_type": "code",
   "execution_count": 7,
   "id": "8abe42ba",
   "metadata": {},
   "outputs": [
    {
     "name": "stdout",
     "output_type": "stream",
     "text": [
      "['M' 'Unknown' 'S' 'C']\n"
     ]
    }
   ],
   "source": [
    "# Map each value to a new value \n",
    "sjer_roads[\"RTTYP\"] = sjer_roads[\"RTTYP\"].fillna(\"Unknown\")\n",
    "\n",
    "print(sjer_roads['RTTYP'].unique())\n"
   ]
  },
  {
   "cell_type": "markdown",
   "id": "2ec3bd6f",
   "metadata": {},
   "source": [
    "Alternatively you can use the .isnull() function to select all attribute cells with a value equal to null and set those to ‘Unknown’.\n",
    "\n",
    "If the value you want to change is not NaN or a Nonetype then you will have to specify the origina value that you want to change, as shown below."
   ]
  },
  {
   "cell_type": "code",
   "execution_count": 8,
   "id": "e6c4f9e5",
   "metadata": {},
   "outputs": [
    {
     "data": {
      "text/html": [
       "<div>\n",
       "<style scoped>\n",
       "    .dataframe tbody tr th:only-of-type {\n",
       "        vertical-align: middle;\n",
       "    }\n",
       "\n",
       "    .dataframe tbody tr th {\n",
       "        vertical-align: top;\n",
       "    }\n",
       "\n",
       "    .dataframe thead th {\n",
       "        text-align: right;\n",
       "    }\n",
       "</style>\n",
       "<table border=\"1\" class=\"dataframe\">\n",
       "  <thead>\n",
       "    <tr style=\"text-align: right;\">\n",
       "      <th></th>\n",
       "      <th>LINEARID</th>\n",
       "      <th>FULLNAME</th>\n",
       "      <th>RTTYP</th>\n",
       "      <th>MTFCC</th>\n",
       "      <th>geometry</th>\n",
       "    </tr>\n",
       "  </thead>\n",
       "  <tbody>\n",
       "    <tr>\n",
       "      <th>0</th>\n",
       "      <td>110454239066</td>\n",
       "      <td>N 14th St</td>\n",
       "      <td>M</td>\n",
       "      <td>S1400</td>\n",
       "      <td>LINESTRING (-120.27227 37.11615, -120.27244 37...</td>\n",
       "    </tr>\n",
       "    <tr>\n",
       "      <th>1</th>\n",
       "      <td>110454239052</td>\n",
       "      <td>N 11th St</td>\n",
       "      <td>M</td>\n",
       "      <td>S1400</td>\n",
       "      <td>LINESTRING (-120.26788 37.11667, -120.26807 37...</td>\n",
       "    </tr>\n",
       "    <tr>\n",
       "      <th>2</th>\n",
       "      <td>110454239056</td>\n",
       "      <td>N 12th St</td>\n",
       "      <td>M</td>\n",
       "      <td>S1400</td>\n",
       "      <td>LINESTRING (-120.27053 37.11749, -120.27045 37...</td>\n",
       "    </tr>\n",
       "    <tr>\n",
       "      <th>3</th>\n",
       "      <td>110454239047</td>\n",
       "      <td>N 10th St</td>\n",
       "      <td>M</td>\n",
       "      <td>S1400</td>\n",
       "      <td>LINESTRING (-120.26703 37.11735, -120.26721 37...</td>\n",
       "    </tr>\n",
       "    <tr>\n",
       "      <th>4</th>\n",
       "      <td>110454243091</td>\n",
       "      <td>N Westberry Blvd</td>\n",
       "      <td>M</td>\n",
       "      <td>S1400</td>\n",
       "      <td>LINESTRING (-120.10122 36.96524, -120.10123 36...</td>\n",
       "    </tr>\n",
       "  </tbody>\n",
       "</table>\n",
       "</div>"
      ],
      "text/plain": [
       "       LINEARID          FULLNAME RTTYP  MTFCC  \\\n",
       "0  110454239066         N 14th St     M  S1400   \n",
       "1  110454239052         N 11th St     M  S1400   \n",
       "2  110454239056         N 12th St     M  S1400   \n",
       "3  110454239047         N 10th St     M  S1400   \n",
       "4  110454243091  N Westberry Blvd     M  S1400   \n",
       "\n",
       "                                            geometry  \n",
       "0  LINESTRING (-120.27227 37.11615, -120.27244 37...  \n",
       "1  LINESTRING (-120.26788 37.11667, -120.26807 37...  \n",
       "2  LINESTRING (-120.27053 37.11749, -120.27045 37...  \n",
       "3  LINESTRING (-120.26703 37.11735, -120.26721 37...  \n",
       "4  LINESTRING (-120.10122 36.96524, -120.10123 36...  "
      ]
     },
     "execution_count": 8,
     "metadata": {},
     "output_type": "execute_result"
    }
   ],
   "source": [
    "sjer_roads.head()"
   ]
  },
  {
   "cell_type": "markdown",
   "id": "01b47c90",
   "metadata": {},
   "source": [
    "## Removing Values\n",
    "In some specific instances you will want to remove NaN values from your DataFrame, to do this you can use the pandas **.dropna** function, note that this function will remove all rows from the dataframe that have a Nan value in any of the columns."
   ]
  },
  {
   "cell_type": "code",
   "execution_count": null,
   "id": "42a05819",
   "metadata": {},
   "outputs": [],
   "source": []
  }
 ],
 "metadata": {
  "kernelspec": {
   "display_name": "Python 3",
   "language": "python",
   "name": "python3"
  },
  "language_info": {
   "codemirror_mode": {
    "name": "ipython",
    "version": 3
   },
   "file_extension": ".py",
   "mimetype": "text/x-python",
   "name": "python",
   "nbconvert_exporter": "python",
   "pygments_lexer": "ipython3",
   "version": "3.9.4"
  }
 },
 "nbformat": 4,
 "nbformat_minor": 5
}
