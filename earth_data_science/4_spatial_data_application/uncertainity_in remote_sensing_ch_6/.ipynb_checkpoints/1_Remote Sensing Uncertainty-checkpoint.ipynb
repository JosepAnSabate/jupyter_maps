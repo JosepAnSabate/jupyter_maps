{
 "cells": [
  {
   "cell_type": "markdown",
   "id": "2902b66c",
   "metadata": {},
   "source": [
    "# Lesson 1. Compare Lidar With Human Measured Tree Heights - Remote Sensing Uncertainty"
   ]
  },
  {
   "cell_type": "markdown",
   "id": "3b2f413e",
   "metadata": {},
   "source": [
    "After completing this chapter, you will be able to:\n",
    "\n",
    "- List and describe at least 3 sources of uncertainty / error associated with remote sensing data.\n",
    "- Interpret a scatter plot that compares remote sensing values with field measured values to determine how “well” the two metrics compare.\n",
    "- Use the rasterstats.zonal_stats() function to extract raster pixel values using a vector extent or set of extents.\n",
    "- Create a scatter plot with a one to one line in Python using matplotlib.\n",
    "- Merge two dataframes in Python.\n",
    "- Perform a basic least squares linear regression analysis on two variables of interest in Python.\n",
    "- Analyze regression outputs to determine the strength of the relatonship between two variables.\n",
    "- Define R-squared and p-value as it relates to regression."
   ]
  },
  {
   "cell_type": "markdown",
   "id": "e91962e3",
   "metadata": {},
   "source": [
    "## Uncertainty\n",
    "Uncertainty: Uncertainty quantifies the range of values within which the value of the measure falls within - within a specified level of confidence. The uncertainty quantitatively indicates the “quality” of your measurement. It answers the question: “how well does the result represent the value of the quantity being measured?”\n",
    "\n",
    "#### Tree Height Measurement Example\n",
    "So for example let’s pretend that we measured the height of a tree 10 times. Each time our tree height measurement may be slightly different"
   ]
  },
  {
   "cell_type": "markdown",
   "id": "8512ba4c",
   "metadata": {},
   "source": [
    "##  Measurement Accuracy\n",
    "Measurement **accuracy is a concept that relates to whether there is bias in measurements**, i.e. whether the expected value of our observations is close to the true value. For low accuracy measurements, we may collect many observations, and the mean of those observations may not provide a good measure of the truth (e.g., the height of the tree). For high accuracy measurements, the mean of many observations would provide a good measure of the true value. This is different from **precision, which typically refers to the variation among observations.** "
   ]
  },
  {
   "cell_type": "markdown",
   "id": "cd8380ed",
   "metadata": {},
   "source": [
    "![acuracy](./img/accuracy-precision.png)"
   ]
  },
  {
   "cell_type": "markdown",
   "id": "f586e1d3",
   "metadata": {},
   "source": [
    "## Systematic vs random error\n",
    "**Systematic Error**: a systematic error is one that tends to shift all measurements in a systematic way.\n",
    "    \n",
    "**Random Error: is a component of the total error which, in the course of a number of measurements, varies in an unpredictable way.** It is not possible to correct for random error. Random errors can occur for a variety of reasons such as:\n",
    "\n",
    "- Lack of equipment sensitivity. An instrument may not be able to respond to or indicate a change in some quantity that is too small or the observer may not be able to discern the change.\n",
    "- Noise in the measurement. Noise is extraneous disturbances that are unpredictable or random and cannot be completely accounted for.\n",
    "- Imprecise definition. It is difficult to exactly define the dimensions of a object. For example, it is difficult to determine the ends of a crack with measuring its length. Two people may likely pick two different starting and ending points.    "
   ]
  },
  {
   "cell_type": "markdown",
   "id": "5d9d8b86",
   "metadata": {},
   "source": [
    "## Use Lidar to Estimate Tree Height\n",
    "Lidar data can be used estimate tree height because it is an efficient way to measure large areas of trees (forests) quantitatively. However, you can process the lidar data in many different ways to estimate height. Which method most closely represents the actual heights of the trees on the ground?"
   ]
  },
  {
   "cell_type": "markdown",
   "id": "e4ff60c0",
   "metadata": {},
   "source": [
    "![lidar](./img/treelines.png)"
   ]
  },
  {
   "cell_type": "markdown",
   "id": "60c587a6",
   "metadata": {},
   "source": [
    "## Study Area Plots\n",
    "At this study site, we have both lidar data - specifically a canopy height model that was processed by NEON (National Ecological Observatory Network). We also have some “ground truth” data. That is we have measured tree height values collected at a set of field site plots by technicians at NEON. We will call these measured values in situ measurements."
   ]
  },
  {
   "cell_type": "markdown",
   "id": "3574e1d8",
   "metadata": {},
   "source": [
    "### Compare Lidar Derived Height to In Situ Measurements\n",
    "We can compare maximum tree height values at each plot to the maximum pixel value in our CHM for each plot. To do this, we define the geographic boundary of our plot using a polygon - in the case below we use a circle as the boundary. We then extract the raster cell values for each circle and calculate the max value for all of the pixels that fall within the plot area.\n",
    "\n",
    "Then, we calculate the max height of our measured plot tree height data.\n",
    "\n",
    "Finally we compare the two using a scatter plot to see how closely the data relate. Do they follow a 1:1 line? Do the data diverge from a 1:1 relationship?"
   ]
  },
  {
   "cell_type": "markdown",
   "id": "261f21ea",
   "metadata": {},
   "source": [
    "![uncert](./img/uncert.png)"
   ]
  },
  {
   "cell_type": "code",
   "execution_count": null,
   "id": "f5f43c4c",
   "metadata": {},
   "outputs": [],
   "source": []
  }
 ],
 "metadata": {
  "kernelspec": {
   "display_name": "Python 3",
   "language": "python",
   "name": "python3"
  },
  "language_info": {
   "codemirror_mode": {
    "name": "ipython",
    "version": 3
   },
   "file_extension": ".py",
   "mimetype": "text/x-python",
   "name": "python",
   "nbconvert_exporter": "python",
   "pygments_lexer": "ipython3",
   "version": "3.9.4"
  }
 },
 "nbformat": 4,
 "nbformat_minor": 5
}
