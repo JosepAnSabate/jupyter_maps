{
 "cells": [
  {
   "cell_type": "markdown",
   "id": "488d4c9b",
   "metadata": {},
   "source": [
    "How to design and automate data workflows as well as how to contribute to open source Python projects."
   ]
  },
  {
   "cell_type": "markdown",
   "id": "eee0ff56",
   "metadata": {},
   "source": [
    "After completing this section of the textbook, you will be able to:\n",
    "\n",
    "- List the key steps in designing data workflows.\n",
    "- Approach a coding task with a modular, systematic approach.\n",
    "- Write pseudocode for a data workflow.\n",
    "- Automate a data workflow."
   ]
  },
  {
   "cell_type": "markdown",
   "id": "af50dddd",
   "metadata": {},
   "source": [
    "## 1. How Do You Design and Automate a Data Workflow"
   ]
  },
  {
   "cell_type": "markdown",
   "id": "21bc6e22",
   "metadata": {},
   "source": [
    "After completing this chapter, you will be able to:\n",
    "\n",
    "- List the key steps in designing data workflows.\n",
    "- Approach a coding task with a modular, systematic approach.\n",
    "- Write pseudocode for a data workflow.\n",
    "- Identify aspects of a workflow that can be modularized (i.e. ideal for functions) and tested."
   ]
  },
  {
   "cell_type": "markdown",
   "id": "877c42ff",
   "metadata": {},
   "source": [
    "## 1. Identify the Problem, Challenge or Question\n",
    "To begin you need to clarify the question(s) or challenge(s) that you need to address."
   ]
  },
  {
   "cell_type": "markdown",
   "id": "1a551053",
   "metadata": {},
   "source": [
    "In this chapter, we will use the example of calculating a time series of normalized difference vegetation index (NDVI) to investigate ecological processes and changes."
   ]
  },
  {
   "cell_type": "markdown",
   "id": "995e4d6e",
   "metadata": {},
   "source": [
    "### What is a Normalized Difference Vegetation Index (NDVI) Time Series?"
   ]
  },
  {
   "cell_type": "markdown",
   "id": "5772c9af",
   "metadata": {},
   "source": [
    "NDVI can also be used to understand seasonality "
   ]
  },
  {
   "cell_type": "markdown",
   "id": "c1fb7ba5",
   "metadata": {},
   "source": [
    "### Why are Changes in Seasonality and Changes in Climate Important?\n",
    "Changes in seasonality can be important indicators of ecological change. For example, if green-up begins earlier, such that fruit or seed resources become available sooner than average, animals that forage on the fruits in the spring must either migrate earlier to use these resources, or miss out on them if they do not adjust migration behavior. This phenomenon is referred to as a phenological mismatch."
   ]
  },
  {
   "cell_type": "markdown",
   "id": "6904d583",
   "metadata": {},
   "source": [
    "![img](./img/season.jpg)"
   ]
  },
  {
   "cell_type": "markdown",
   "id": "cee0f785",
   "metadata": {},
   "source": [
    "This image shows the changes in the date of first bloom for the common lilac (syringa vulgaris) across the U.S. The data was collected by Project Budburst, a citizen science initiative that tracks plant species responses to climate change. Source: [American Scientist.](https://www.americanscientist.org/article/citizen-science-takes-root)"
   ]
  },
  {
   "cell_type": "markdown",
   "id": "5e32a57f",
   "metadata": {},
   "source": [
    "![img](./img/bird.jpg)"
   ]
  },
  {
   "cell_type": "markdown",
   "id": "0d5dcb9e",
   "metadata": {},
   "source": [
    "The maps in this image show the geographic variation in the mean shift in arrival date per ⁰C change in minimum spring temperature (MAD, days/⁰C) for four bird species. The graphs in the image depict changes in minimum spring temperature and arrival date over time for one example region (denoted with arrow). Source: [The Nature Conservancy.](https://blog.nature.org/science/explainer/climate-change-already-changing-seasons-phenology-citizen-science/)"
   ]
  },
  {
   "cell_type": "markdown",
   "id": "0d2a054c",
   "metadata": {},
   "source": [
    "![img](./img/greenup.jpg)"
   ]
  },
  {
   "cell_type": "markdown",
   "id": "caffd84c",
   "metadata": {},
   "source": [
    "This map conveys how the date of spring greenup is shifting throughout North America. Source: [Wired.](https://www.wired.com/2007/11/greenup-of-the-planet-is-not-black-and-white-2/)"
   ]
  },
  {
   "cell_type": "markdown",
   "id": "1d8d38a4",
   "metadata": {},
   "source": [
    "## 2. Identify the Data Needed to Address the Question or Challenge"
   ]
  },
  {
   "cell_type": "markdown",
   "id": "f4318180",
   "metadata": {},
   "source": [
    "For our challenge of calculating a NDVI time series, the goal is to create a time series of NDVI for a study area across a year."
   ]
  },
  {
   "cell_type": "markdown",
   "id": "416a1938",
   "metadata": {},
   "source": [
    "What data do you select for your analysis? Consider temporal frequency of data collection and spatial resolution.\n",
    "\n",
    "For example, NAIP is collected every other year, so it is unlikely to provide good information on seasonality.\n",
    "\n",
    "In contrast, MODIS and Landsat may be more useful, because they are collected on daily and bi-monthly frequencies, respectively.\n",
    "\n",
    "In terms of resolution, MODIS pixels could be too large depending on the size of your study site. Perhaps Landsat has an ideal combination of temporal frequency, resolution and spatial coverage."
   ]
  },
  {
   "cell_type": "markdown",
   "id": "836733a7",
   "metadata": {},
   "source": [
    "## 3. Design Your Workflow\n",
    "Next it is time to design the workflow to create the output(s) that will address your question or challenge.\n",
    "\n",
    "To use the NDVI time series to understand seasonality, it can be helpful to create a plot that shows the NDVI values for each month for a site. In addition, you may want to produce some output files (e.g. CSV files) that you can share with others who may be interested in creating their own visualizations.\n",
    "\n",
    "For the NDVI time series challenge, you will design a workflow that has two outputs:\n",
    "\n",
    "A plot of average NDVI (for each Landsat image) for 2 sites over a year.\n",
    "A CSV file containing the average NDVI values (for each Landsat image) for both sites.\n",
    "Once you know your outputs, you can work backwards to determine the data and steps needed to create your final output(s).\n",
    "\n",
    "The design process can feel difficult, so it can be helpful to begin the design of the workflow using words (not code), a process known as pseudocoding. With pseudocode, you list out the inputs and outputs of the workflows and then identify the analytical steps needed to create the outputs from the inputs.\n",
    "\n",
    "The next lesson in this chapter walks you through the pseudocoding process, so that you can use this method to easily design data workflows and more toward automating these workflows."
   ]
  },
  {
   "cell_type": "markdown",
   "id": "732bfb81",
   "metadata": {},
   "source": [
    "## 4. Implement Your Workflow\n",
    "Once you have designed your workflow (using pseudocode first!), it is time to implement. This is where you can put all of your programming skills to the test.\n",
    "\n",
    "Try to write code that is clear, efficient, well documented and expressive. Remember that you never know when you may have to re-run or re-use an analysis, and you never know when someone else might need to use your code, too.\n",
    "\n",
    "Thus, your aim should be to write code that is readable, reproducible, and efficient. Be sure to:\n",
    "\n",
    "Use clear, expressive names for objects, files, etc. Ask yourself if someone reading your code could guess what is contained in that object or file based on the name.\n",
    "Use reproducible paths for input data and writing outputs (e.g. use os.path.join() to define paths, include code to create needed directories, etc).\n",
    "Writing custom functions for repetitive tasks in your workflows.\n",
    "Including checks (i.e. tests) in your code to ensure that it is doing what you think is!\n",
    "These topics will be reviewed more later in this chapter."
   ]
  },
  {
   "cell_type": "code",
   "execution_count": null,
   "id": "19e28220",
   "metadata": {},
   "outputs": [],
   "source": []
  }
 ],
 "metadata": {
  "kernelspec": {
   "display_name": "Python 3 (ipykernel)",
   "language": "python",
   "name": "python3"
  },
  "language_info": {
   "codemirror_mode": {
    "name": "ipython",
    "version": 3
   },
   "file_extension": ".py",
   "mimetype": "text/x-python",
   "name": "python",
   "nbconvert_exporter": "python",
   "pygments_lexer": "ipython3",
   "version": "3.8.10"
  }
 },
 "nbformat": 4,
 "nbformat_minor": 5
}
