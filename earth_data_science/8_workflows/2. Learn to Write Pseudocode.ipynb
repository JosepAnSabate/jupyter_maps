{
 "cells": [
  {
   "cell_type": "markdown",
   "id": "1e759b2c",
   "metadata": {},
   "source": [
    "- Be able to approach a coding task with a modular, systematic approach.\n",
    "- Be able to write pseudocode."
   ]
  },
  {
   "cell_type": "markdown",
   "id": "9030fb50",
   "metadata": {},
   "source": [
    "## Design an Efficient Data Workflow Using Pseudocode\n",
    "You have now identified your challenge - to calculate and plot average normalized difference vegetation index (NDVI) for every Landsat scene (individually) across one year for two study locations:\n",
    "\n",
    "San Joaquin Experimental Range (SJER) in Southern California, United States\n",
    "Harvard Forest (HARV) in the Eastern United States\n",
    "You have been given Landsat 8 data and a study area boundary for each site. Your next step is to write out the steps that you need to follow to get to your end goal plot.\n",
    "\n",
    "You know you will need to do the following:\n",
    "\n",
    "Open the data.\n",
    "Calculate NDVI.\n",
    "Save NDVI values to pandas dataframe with the associated date and site name for plotting.\n",
    "Begin your process by pseudocoding - or writing out steps in plain English - everything that you will need to do in order to get to your end goal. The steps below will walk you through beginning this process of writing pseudocode."
   ]
  },
  {
   "cell_type": "markdown",
   "id": "da9c628d",
   "metadata": {},
   "source": [
    "## Begin With the Workflow for One Landsat Scene\n",
    "\n",
    "- Get a list of the data files for one Landsat scene.\n",
    "\n",
    "Recall that Landsat 8 data is provided as a series of GeoTIFF files - one for each band (e.g. red, near-infrared) and one with the quality assurance information (e.g. cloud cover and shadows).\n",
    "\n",
    "Each Landsat scene (i.e. set of bands for a specific location) is organized into its own directory (e.g. LC080130302017011201T1-SC20181023151858) that contains all of the bands for that scene that were taken on a specific date."
   ]
  },
  {
   "cell_type": "raw",
   "id": "2129cc2b",
   "metadata": {},
   "source": [
    "# Steps required to get data for one Landsat scene for a site\n",
    "1. Get a list of GeoTIFF files in the directory for that scene.\n",
    "2. Subset the list to just the files required to calculate NDVI.\n",
    "3. Sort the list(!) so that the bands are in the right order."
   ]
  },
  {
   "cell_type": "markdown",
   "id": "fd24642d",
   "metadata": {},
   "source": [
    "- 1.Open and crop the data for one Landsat scene.\n",
    "\n",
    "Now that you have the steps to get the data for one Landsat scene, you can expand your pseudocode steps to include opening and cropping the data to the site boundary."
   ]
  },
  {
   "cell_type": "raw",
   "id": "7011445c",
   "metadata": {},
   "source": [
    "# Steps required to process one Landsat scene for a site\n",
    "1. Get a list of GeoTIFF files in the directory for that scene.\n",
    "2. Subset the list to just the files required to calculate NDVI.\n",
    "3. Sort the list(!) so that the bands are in the right order.\n",
    "4. Open and crop the bands needed to calculate NDVI."
   ]
  },
  {
   "cell_type": "markdown",
   "id": "1ceedc07",
   "metadata": {},
   "source": [
    "- 2.Calculate NDVI for one Landsat scene.\n",
    "\n",
    "Last, you can expand your pseudocode to include using the bands that you opened and cropped to calculate NDVI."
   ]
  },
  {
   "cell_type": "raw",
   "id": "9492225a",
   "metadata": {},
   "source": [
    "# Steps required to process one Landsat scene for a site\n",
    "1. Get a list of GeoTIFF files in the directory for that scene.\n",
    "2. Subset the list to just the files required to calculate NDVI.\n",
    "3. Sort the list(!) so that the bands are in the right order.\n",
    "4. Open and crop the bands needed to calculate NDVI.\n",
    "5. Calculate average NDVI for that scene."
   ]
  },
  {
   "cell_type": "markdown",
   "id": "6c57f759",
   "metadata": {},
   "source": [
    "## Expand Workflow to Include All Landsat Scenes for a Site\n",
    "You have now identified the steps required to process a single Landsat scene (band). Those steps now need to be repeated across all of the scenes for each site for a year."
   ]
  },
  {
   "cell_type": "raw",
   "id": "7b75f75c",
   "metadata": {},
   "source": [
    "# Steps required to process all Landsat scenes for a site \n",
    "1. Get a list of all directories for the Landsat scenes for the site. \n",
    "2. For each directory, use the steps outlined previously for one site to calculate NDVI for the data in that directory. (Grab the date associated with the NDVI calculation.)\n",
    "3. Save NDVI values and the date for that directory - which represents the day that Landsat scene was collected (there are some steps here that you need to flesh out as well) - to a list or dataframe that contains average NDVI for each scene at this site.\n"
   ]
  },
  {
   "cell_type": "markdown",
   "id": "d8b239a5",
   "metadata": {},
   "source": [
    "OK - now you are ready to put the workflow for a single site together. Of course, remember there are some sub steps that have not been fleshed out just yet, but start with the basics and build from there."
   ]
  },
  {
   "cell_type": "raw",
   "id": "2c488a1b",
   "metadata": {},
   "source": [
    "# Steps required to process all Landsat scenes for a site \n",
    "1. Get a list of all directories for the Landsat scenes for the site. \n",
    "2. For each directory, use the steps outlined previously for one site to calculate NDVI for the data in that directory. (Grab the date associated with the NDVI calculation.)\n",
    "    # Steps required to process one Landsat scene for a site\n",
    "    1. Get a list of GeoTIFF files in the directory for that scene.\n",
    "    2. Subset the list to just the files required to calculate NDVI.\n",
    "    3. Sort the list(!) so that the bands are in the right order.\n",
    "    4. Open and crop the bands needed to calculate NDVI.\n",
    "    5. Calculate average NDVI for that scene.\n",
    "3. Save NDVI values and the date for that directory - which represents the day that Landsat scene was collected (there are some steps here that you need to flesh out as well) - to a list or dataframe that contains average NDVI for each scene at this site."
   ]
  },
  {
   "cell_type": "markdown",
   "id": "836e1af2",
   "metadata": {},
   "source": [
    "## Add Multiple Sites Worth of Data to Your Workflow\n",
    "Above you begin to think about the steps associated with creating a workflow for:\n",
    "\n",
    "- A single Landsat scene.\n",
    "- A set of Landsat scenes for a particular site.\n",
    "\n",
    "But you want to do this for two or more sites. You are not sure if you will have more than two sites but in this case you want to design a workflow that allows for two or more sites. Add an additional layer to your pseudo code."
   ]
  },
  {
   "cell_type": "raw",
   "id": "0c23909e",
   "metadata": {},
   "source": [
    "# Modular workflow for many sites\n",
    "1. Get list of all directories and associated site names.\n",
    "2. Open each site directory, get Landsat scenes, and calculate mean NDVI for each scene for that site.\n",
    "3. Capture results (including mean NDVI, date, and site name) to a list or dataframe.\n",
    "4. Export dataframe with mean NDVI values to csv. (i.e. a “data product” output that you can share with others)\n",
    "\n",
    "# Create your plot!"
   ]
  },
  {
   "cell_type": "markdown",
   "id": "8ed4b319",
   "metadata": {},
   "source": [
    "In this example, an assumption is made that your data are nicely organized into a single directory for each site. "
   ]
  },
  {
   "cell_type": "markdown",
   "id": "55836c62",
   "metadata": {},
   "source": [
    "You have now designed a workflow using pseudocode to process several sites worth of landsat data.\n",
    "\n",
    "Of course, the pseudocode above is just beginning. For each of the steps above, you need to flesh out how you can accomplish each task.\n",
    "\n",
    "The next lesson in this chapter focuses on data workflow best practices that can help you implement your workflow efficiently and effectively."
   ]
  }
 ],
 "metadata": {
  "kernelspec": {
   "display_name": "Python 3 (ipykernel)",
   "language": "python",
   "name": "python3"
  },
  "language_info": {
   "codemirror_mode": {
    "name": "ipython",
    "version": 3
   },
   "file_extension": ".py",
   "mimetype": "text/x-python",
   "name": "python",
   "nbconvert_exporter": "python",
   "pygments_lexer": "ipython3",
   "version": "3.8.10"
  }
 },
 "nbformat": 4,
 "nbformat_minor": 5
}
