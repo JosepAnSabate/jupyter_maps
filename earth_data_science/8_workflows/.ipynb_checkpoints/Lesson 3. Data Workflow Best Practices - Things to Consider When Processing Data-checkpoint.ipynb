{
 "cells": [
  {
   "cell_type": "markdown",
   "id": "3eb14d40",
   "metadata": {},
   "source": [
    "## Lesson 3. Data Workflow Best Practices - Things to Consider When Processing Data"
   ]
  },
  {
   "cell_type": "markdown",
   "id": "e02d7ae5",
   "metadata": {},
   "source": [
    "- List best practices for implementing data workflows.\n",
    "- Be able to identify aspects of a workflow that can be modularized (i.e. ideal for functions) and be tested"
   ]
  },
  {
   "cell_type": "markdown",
   "id": "9ed1a3fc",
   "metadata": {},
   "source": [
    "## Consider the data workflow best practices discussed below."
   ]
  },
  {
   "cell_type": "markdown",
   "id": "1909537a",
   "metadata": {},
   "source": [
    "### Do Not Modify the Raw Data\n",
    "Typically you do not want to modify the raw data, so that you can always reproduce your output from the same inputs. In some cases, this is less important, e.g., when you are not tasked with curating the raw data. For example you could redownload the landsat data provided in this class.\n",
    "\n",
    "In other cases, this is extremely important - you wouldn’t want to recollect a summers worth of field collected data because you accidentally modified the original spreadsheet.\n",
    "\n",
    "A good rule of thumb is to create an “outputs” directory where you store outputs. An outputs directory is helpful because:\n",
    "\n",
    "You can always delete and recreate the outputs without worrying about deleting your original data.\n",
    "An outputs directory is expressive and reminds anyone looking at your project (including you in the future - i.e. your future self!) where the output products are - they don’t have to dig for the data.\n"
   ]
  },
  {
   "cell_type": "markdown",
   "id": "b0e9ce0d",
   "metadata": {},
   "source": [
    "### Create Expressive Intermediate File Names and Outputs"
   ]
  },
  {
   "cell_type": "raw",
   "id": "4634ffcb",
   "metadata": {},
   "source": [
    "### Less than ideal name\n",
    "data.csv\n",
    "# OK Name\n",
    "ndvi.csv\n",
    "# More expressive name\n",
    "all-sites-ndvi.csv"
   ]
  },
  {
   "cell_type": "markdown",
   "id": "72d386ee",
   "metadata": {},
   "source": [
    "### Write Modular Code\n",
    "As you are working on your pseudo code, consider the parts of your analysis that are well suited for functions.\n",
    "\n",
    "Writing custom functions for repetitive tasks in your workflows can help your workflow to be more efficient and easier to follow and implement.\n",
    "\n",
    "Ideally, a Python function will have 1-3 inputs and will produce 1-2 outputs.\n",
    "\n",
    "Keep functions small and focused. A function should do one thing well.\n",
    "\n",
    "You can then combine many functions into a wrapper function to automate and make for a nicely crafted program."
   ]
  },
  {
   "cell_type": "markdown",
   "id": "973aee56",
   "metadata": {},
   "source": [
    "#### Functions - What Are They Again?\n",
    "A function is a unit of code that executes a specific, outlined task on command, using sets of input parameters to specify how the task is performed.\n",
    "\n",
    "input parameter(s) –> function does something –> output result(s)\n",
    "Useful for organizing and executing generalizable code that you need to run frequently:\n",
    "\n",
    "- importing data\n",
    "- aggregating or summarizing data\n",
    "- calculating indices such as normalized difference vegetation index, NDVI\n",
    "- plotting data\n",
    "\n",
    "You can use existing functions from commonly used packages (i.e. geopandas.read_file() or rasterio.open()) or write your own functions when one does not already exist."
   ]
  },
  {
   "cell_type": "markdown",
   "id": "a22b353d",
   "metadata": {},
   "source": [
    "#### Review of Key Components of Python Functions\n",
    "\n",
    "- 1.def keyword\n",
    "- 2.Function name\n",
    "- 3.Input parameters/arguments\n",
    "- 4.Docstring (that identifies parameters and returns)\n",
    "- 5.return statement"
   ]
  },
  {
   "cell_type": "code",
   "execution_count": 1,
   "id": "c6de15eb",
   "metadata": {},
   "outputs": [],
   "source": [
    "# Example of a simple function\n",
    "def add_five(x):\n",
    "    \"\"\"Add the numeric value 5 to an input value.\n",
    "    \n",
    "    Parameters\n",
    "    ----------\n",
    "    x : int or float\n",
    "            \n",
    "    Returns\n",
    "    ----------\n",
    "    int or float\n",
    "        Input data with value increased by 5.\n",
    "    \"\"\"\n",
    "    \n",
    "    return (x + 5)"
   ]
  },
  {
   "cell_type": "code",
   "execution_count": 2,
   "id": "908800a5",
   "metadata": {},
   "outputs": [
    {
     "data": {
      "text/plain": [
       "8"
      ]
     },
     "execution_count": 2,
     "metadata": {},
     "output_type": "execute_result"
    }
   ],
   "source": [
    "# How do we call a Python function again?\n",
    "add_five(3)"
   ]
  },
  {
   "cell_type": "markdown",
   "id": "43f58447",
   "metadata": {},
   "source": [
    "#### Review of Benefits of Using and Writing Functions\n",
    "- Reusability (e.g. by yourself or others)\n",
    "- Fewer variables (e.g. temporary variables not needed outside of the function are not stored)\n",
    "- Documentation/Reproducibility (e.g. for yourself or others)\n",
    "- Easier updates to code (i.e. update only the function definition)\n",
    "- Testing (e.g. include checks and tests on inputs and outputs directly within function)\n",
    "- Modularity (i.e. stand-alone units of code that can executed independently and asynchronously)\n",
    "\n",
    "Sometimes you may need to write custom functions to:\n",
    "\n",
    "- complete tasks that do not already have published functions\n",
    "- combine existing functions into one function for a specific task"
   ]
  },
  {
   "cell_type": "markdown",
   "id": "0cd7110a",
   "metadata": {},
   "source": [
    "### How Can We Generalize This For Broader Use?\n",
    "There are other indices that can be calculated using the same formula:"
   ]
  },
  {
   "cell_type": "raw",
   "id": "26602f92",
   "metadata": {},
   "source": [
    "# Normalized Burn Ratio (NBR)\n",
    "(near_infrared - shortwave_infrared) / (near_infrared + shortwave_infrared)"
   ]
  },
  {
   "cell_type": "markdown",
   "id": "947401bc",
   "metadata": {},
   "source": [
    "For example:"
   ]
  },
  {
   "cell_type": "raw",
   "id": "f97cbb0c",
   "metadata": {},
   "source": [
    "(b1 - b2) / (b1 + b2)"
   ]
  },
  {
   "cell_type": "code",
   "execution_count": 4,
   "id": "29d695af",
   "metadata": {},
   "outputs": [],
   "source": [
    "def normalized_diff(b1, b2):\n",
    "    \"\"\"Calculate the normalized difference of two arrays of same shape.\n",
    "    Math will be calculated (b1-b2) / (b1+b2). \n",
    "    \n",
    "    Parameters\n",
    "    ----------\n",
    "    b1, b2 : numpy arrays\n",
    "        Two numpy arrays of same shape.\n",
    "    \n",
    "    Returns\n",
    "    ----------\n",
    "    n_diff : numpy array\n",
    "        The element-wise result of (b1-b2) / (b1+b2) calculation. \n",
    "    \"\"\"\n",
    "    n_diff = (b1 - b2) / (b1 + b2)\n",
    "        \n",
    "    return n_diff"
   ]
  },
  {
   "cell_type": "markdown",
   "id": "e06b0fdb",
   "metadata": {},
   "source": [
    "### Expand Code to Add Checks and Tests\n",
    "By including checks (i.e. tests) in your code, you can be more confident that your code is doing what you think is!\n",
    "\n"
   ]
  },
  {
   "cell_type": "markdown",
   "id": "0ec5ac4d",
   "metadata": {},
   "source": [
    "#### Specific Reasons to Check Your Code\n",
    "- Check that inputs are of correct type/format (e.g. both arrays are two-dimensional)\n",
    "- Check that necessary preqrequisites have been executed or exist (e.g. a directory named output)\n",
    "- Test assumptions of code (e.g. is it actually doing what you think it is?)\n",
    "- Identify points of failure (e.g. where is the code failing - input data, processing/analysis, writing out data?)\n",
    "- Identify something about the function that you did not consider (e.g. function is applicable to additional data types, function needs additional code to handle special circumstances)\n"
   ]
  },
  {
   "cell_type": "markdown",
   "id": "cd150dbd",
   "metadata": {},
   "source": [
    "#### How Can You Check Your Code?\n",
    "There are many different ways to start checking your code. You can begin with conditional statements and work toward more complex checks using try/except and exception handling (which are introduced below)."
   ]
  },
  {
   "cell_type": "markdown",
   "id": "41c35240",
   "metadata": {},
   "source": [
    "#### Conditional Statements\n",
    "This is frequently referred to as “asking permission” before code can execute."
   ]
  },
  {
   "cell_type": "raw",
   "id": "313f9140",
   "metadata": {},
   "source": [
    "if condition_1:\n",
    "    action_1\n",
    "elif condition_2:\n",
    "    action_2\n",
    "else: \n",
    "    action_3"
   ]
  },
  {
   "cell_type": "markdown",
   "id": "c462b882",
   "metadata": {},
   "source": [
    "Thinking about the norm_diff function: what is a condition that we might want to check for the code to run successfully?\n",
    "\n",
    "Take a look at the equation again, and think about what the intended inputs are for b1 and b2 (“arrays of same shape”)."
   ]
  },
  {
   "cell_type": "code",
   "execution_count": 5,
   "id": "ebff617e",
   "metadata": {},
   "outputs": [
    {
     "data": {
      "text/plain": [
       "3"
      ]
     },
     "execution_count": 5,
     "metadata": {},
     "output_type": "execute_result"
    }
   ],
   "source": [
    "import numpy as np \n",
    "\n",
    "# Create numpy array inputs for function\n",
    "nir_band = np.array([[6, 7, 8, 9, 10], [16, 17, 18, 19, 20]])\n",
    "red_band = np.array([[1, 2, 3, 4, 5], [11, 12, 13, 14, 15]])\n",
    "\n",
    "# Create three dimensional numpy array for testing\n",
    "nir_band_3d = np.array([[[6, 7, 8, 9, 10], [16, 17, 18, 19, 20]]])\n",
    "nir_band_3d.ndim"
   ]
  },
  {
   "cell_type": "code",
   "execution_count": 6,
   "id": "413027c5",
   "metadata": {},
   "outputs": [
    {
     "name": "stdout",
     "output_type": "stream",
     "text": [
      "Input arrays are not of same shape\n"
     ]
    }
   ],
   "source": [
    "# Note that the if/else is used when calling the function\n",
    "if nir_band_3d.shape == red_band.shape:\n",
    "    ndvi = normalized_diff(b1=nir_band_3d, b2=red_band)\n",
    "    print(ndvi)\n",
    "else:\n",
    "    print(\"Input arrays are not of same shape\")"
   ]
  },
  {
   "cell_type": "markdown",
   "id": "0375152d",
   "metadata": {},
   "source": [
    "### Try and except\n",
    "These statements allow the a code block to try to execute first, and then do something else if the code is not executed successfully.\n",
    "\n",
    "This is often referred to as “asking for forgiveness, rather than permission”."
   ]
  },
  {
   "cell_type": "markdown",
   "id": "2d86923f",
   "metadata": {},
   "source": [
    "The Try and Except code block can be used to add tests and checks your code. Source: Real Python \n",
    "    https://files.realpython.com/media/try_except_else_finally.a7fac6c36c55.png\n",
    "     "
   ]
  },
  {
   "cell_type": "code",
   "execution_count": 8,
   "id": "dc1e6b28",
   "metadata": {},
   "outputs": [
    {
     "name": "stdout",
     "output_type": "stream",
     "text": [
      "Division by zero not allowed!\n"
     ]
    }
   ],
   "source": [
    "# Example of asking for permission\n",
    "x = 5\n",
    "y = 0\n",
    "\n",
    "if y != 0:\n",
    "    print(x/y)\n",
    "else:\n",
    "    print(\"Division by zero not allowed!\")"
   ]
  },
  {
   "cell_type": "code",
   "execution_count": 9,
   "id": "28ea7f03",
   "metadata": {},
   "outputs": [
    {
     "name": "stdout",
     "output_type": "stream",
     "text": [
      "Division by zero not allowed!\n"
     ]
    }
   ],
   "source": [
    "# Instead, ask for forgiveness\n",
    "try:\n",
    "    print(x/y)\n",
    "except:\n",
    "    print(\"Division by zero not allowed!\")"
   ]
  },
  {
   "cell_type": "code",
   "execution_count": 10,
   "id": "cd645f2c",
   "metadata": {},
   "outputs": [
    {
     "name": "stdout",
     "output_type": "stream",
     "text": [
      "Input arrays are not of same shape\n"
     ]
    }
   ],
   "source": [
    "# In this example, try/except is used when calling the function\n",
    "try:\n",
    "    ndvi = calc_indices.norm_diff(b1=nir_band_3d, b2=red_band)\n",
    "    print(ndvi)\n",
    "except:\n",
    "    print(\"Input arrays are not of same shape\")"
   ]
  },
  {
   "cell_type": "markdown",
   "id": "f5bb4aea",
   "metadata": {},
   "source": [
    "After this try/except, if you try to print ndvi, you will see the following error because it was not created by the code."
   ]
  },
  {
   "cell_type": "raw",
   "id": "719b7ae7",
   "metadata": {},
   "source": [
    "---------------------------------------------------------------------------\n",
    "NameError                                 Traceback (most recent call last)\n",
    "<ipython-input-8-24938b8c9bd5> in <module>\n",
    "      6     print(\"Input arrays are not of same shape\")\n",
    "      7 \n",
    "----> 8 print(ndvi.ndim)\n",
    "\n",
    "NameError: name 'ndvi' is not defined"
   ]
  },
  {
   "cell_type": "markdown",
   "id": "bded71bf",
   "metadata": {},
   "source": [
    "#### Caveat: Do you see anything potential issues with try and except statements?"
   ]
  },
  {
   "cell_type": "code",
   "execution_count": 11,
   "id": "78cadadc",
   "metadata": {},
   "outputs": [
    {
     "name": "stdout",
     "output_type": "stream",
     "text": [
      "Directory created!\n"
     ]
    }
   ],
   "source": [
    "import os\n",
    "import earthpy as et\n",
    "\n",
    "# Another example of try and except\n",
    "directory = os.path.join(et.io.HOME, \"earth-analytics\", \"test\")\n",
    "\n",
    "# Create folder if it does not exist\n",
    "try:\n",
    "    os.makedirs(directory)\n",
    "    print(\"Directory created!\")\n",
    "except:\n",
    "    print(\"Directory already exists!\")"
   ]
  },
  {
   "cell_type": "markdown",
   "id": "4434cdc1",
   "metadata": {},
   "source": [
    "#### Caveat: How would you know that a failure to make a new directory was due to it already existing?\n",
    "\n",
    "Is it possible that something else could cause a new directory to not get created?\n",
    "\n",
    "#### Exception Handling\n",
    "Also commonly referred to as error handling, exceptions are used to check for specific types of errors that can occur when running code.\n",
    "\n",
    "Though it is more common to use exception handling when writing code that you want to publish as packages or libraries or when you are writing applications for end users, it is useful to know about these, so that you are familiar with them when you receive exception messages by others’ code."
   ]
  },
  {
   "cell_type": "markdown",
   "id": "28a35f82",
   "metadata": {},
   "source": [
    "### Commonly Used Exceptions"
   ]
  },
  {
   "cell_type": "markdown",
   "id": "173bc494",
   "metadata": {},
   "source": [
    "![img](./img/except.png)"
   ]
  },
  {
   "cell_type": "markdown",
   "id": "aad20e61",
   "metadata": {},
   "source": [
    "https://www.datacamp.com/community/tutorials/exception-handling-python "
   ]
  },
  {
   "cell_type": "markdown",
   "id": "2b83a107",
   "metadata": {},
   "source": [
    "![img](./img/capt.PNG)"
   ]
  },
  {
   "cell_type": "code",
   "execution_count": 13,
   "id": "cc6fc241",
   "metadata": {},
   "outputs": [
    {
     "name": "stdout",
     "output_type": "stream",
     "text": [
      "Directory already exists!\n"
     ]
    }
   ],
   "source": [
    "# Same try and except with exception FileExistsError\n",
    "directory = os.path.join(et.io.HOME, \"earth-analytics\", \"test\")\n",
    "\n",
    "try:\n",
    "    os.makedirs(directory)\n",
    "    print(\"Directory created!\")\n",
    "except FileExistsError:\n",
    "    print(\"Directory already exists!\")\n",
    "    \n",
    "    # Uncomment line below to have the except do nothing (e.g. no print statement)\n",
    "    #pass  "
   ]
  },
  {
   "cell_type": "code",
   "execution_count": 14,
   "id": "10811272",
   "metadata": {},
   "outputs": [],
   "source": [
    "# You could also explore error handling in your function definitions\n",
    "\n",
    "# Example of ValueError\n",
    "def normalized_diff(b1, b2):\n",
    "    \"\"\"Calculate the normalized difference of two arrays of same shape.\n",
    "    Math will be calculated (b1-b2) / (b1+b2). \n",
    "    \n",
    "    Parameters\n",
    "    ----------\n",
    "    b1, b2 : numpy arrays\n",
    "        Two numpy arrays of same shape.\n",
    "    \n",
    "    Returns\n",
    "    ----------\n",
    "    n_diff : numpy array\n",
    "        The element-wise result of (b1-b2) / (b1+b2) calculation. \n",
    "    \"\"\"\n",
    "    if not (b1.shape == b2.shape):\n",
    "        raise ValueError(\"Inputs arrays should have the same dimensions\")\n",
    "        \n",
    "    n_diff = (b1 - b2) / (b1 + b2)\n",
    "        \n",
    "    return n_diff"
   ]
  },
  {
   "cell_type": "markdown",
   "id": "f3746804",
   "metadata": {},
   "source": [
    "Now if you try to run the following code:"
   ]
  },
  {
   "cell_type": "code",
   "execution_count": 17,
   "id": "3fa6a3e9",
   "metadata": {},
   "outputs": [
    {
     "ename": "ValueError",
     "evalue": "Inputs arrays should have the same dimensions",
     "output_type": "error",
     "traceback": [
      "\u001b[1;31m---------------------------------------------------------------------------\u001b[0m",
      "\u001b[1;31mValueError\u001b[0m                                Traceback (most recent call last)",
      "\u001b[1;32m~\\AppData\\Local\\Temp/ipykernel_19184/3117414898.py\u001b[0m in \u001b[0;36m<module>\u001b[1;34m\u001b[0m\n\u001b[1;32m----> 1\u001b[1;33m \u001b[0mndvi\u001b[0m \u001b[1;33m=\u001b[0m \u001b[0mnormalized_diff\u001b[0m\u001b[1;33m(\u001b[0m\u001b[0mb1\u001b[0m\u001b[1;33m=\u001b[0m\u001b[0mnir_band_3d\u001b[0m\u001b[1;33m,\u001b[0m \u001b[0mb2\u001b[0m\u001b[1;33m=\u001b[0m\u001b[0mred_band\u001b[0m\u001b[1;33m)\u001b[0m\u001b[1;33m\u001b[0m\u001b[1;33m\u001b[0m\u001b[0m\n\u001b[0m",
      "\u001b[1;32m~\\AppData\\Local\\Temp/ipykernel_19184/515592433.py\u001b[0m in \u001b[0;36mnormalized_diff\u001b[1;34m(b1, b2)\u001b[0m\n\u001b[0;32m     17\u001b[0m     \"\"\"\n\u001b[0;32m     18\u001b[0m     \u001b[1;32mif\u001b[0m \u001b[1;32mnot\u001b[0m \u001b[1;33m(\u001b[0m\u001b[0mb1\u001b[0m\u001b[1;33m.\u001b[0m\u001b[0mshape\u001b[0m \u001b[1;33m==\u001b[0m \u001b[0mb2\u001b[0m\u001b[1;33m.\u001b[0m\u001b[0mshape\u001b[0m\u001b[1;33m)\u001b[0m\u001b[1;33m:\u001b[0m\u001b[1;33m\u001b[0m\u001b[1;33m\u001b[0m\u001b[0m\n\u001b[1;32m---> 19\u001b[1;33m         \u001b[1;32mraise\u001b[0m \u001b[0mValueError\u001b[0m\u001b[1;33m(\u001b[0m\u001b[1;34m\"Inputs arrays should have the same dimensions\"\u001b[0m\u001b[1;33m)\u001b[0m\u001b[1;33m\u001b[0m\u001b[1;33m\u001b[0m\u001b[0m\n\u001b[0m\u001b[0;32m     20\u001b[0m \u001b[1;33m\u001b[0m\u001b[0m\n\u001b[0;32m     21\u001b[0m     \u001b[0mn_diff\u001b[0m \u001b[1;33m=\u001b[0m \u001b[1;33m(\u001b[0m\u001b[0mb1\u001b[0m \u001b[1;33m-\u001b[0m \u001b[0mb2\u001b[0m\u001b[1;33m)\u001b[0m \u001b[1;33m/\u001b[0m \u001b[1;33m(\u001b[0m\u001b[0mb1\u001b[0m \u001b[1;33m+\u001b[0m \u001b[0mb2\u001b[0m\u001b[1;33m)\u001b[0m\u001b[1;33m\u001b[0m\u001b[1;33m\u001b[0m\u001b[0m\n",
      "\u001b[1;31mValueError\u001b[0m: Inputs arrays should have the same dimensions"
     ]
    }
   ],
   "source": [
    "ndvi = normalized_diff(b1=nir_band_3d, b2=red_band)"
   ]
  },
  {
   "cell_type": "markdown",
   "id": "5140f2cd",
   "metadata": {},
   "source": [
    "You will see the following ValueError that can help you (and others) understand why the function did not execute successfully."
   ]
  },
  {
   "cell_type": "markdown",
   "id": "b96b74b3",
   "metadata": {},
   "source": [
    "### Old Fashioned Trial and Error\n",
    "Maybe the code is executing just fine, but maybe you are not getting the output in the most optimal format.\n",
    "\n",
    "It may not be clear to you until you run the function many times with different inputs."
   ]
  },
  {
   "cell_type": "code",
   "execution_count": 18,
   "id": "56dddf32",
   "metadata": {},
   "outputs": [],
   "source": [
    "# Create numpy array inputs for function\n",
    "# Note that we are creating a zero in the numerator with -15\n",
    "nir_band = np.array([[6, 7, 8, 9, 10], [16, 17, 18, 19, -15]])\n",
    "red_band = np.array([[1, 2, 3, 4, 5], [11, 12, 13, 14, 15]])"
   ]
  },
  {
   "cell_type": "code",
   "execution_count": 19,
   "id": "8e314d09",
   "metadata": {},
   "outputs": [
    {
     "name": "stdout",
     "output_type": "stream",
     "text": [
      "[[0.71428571 0.55555556 0.45454545 0.38461538 0.33333333]\n",
      " [0.18518519 0.17241379 0.16129032 0.15151515       -inf]]\n"
     ]
    },
    {
     "name": "stderr",
     "output_type": "stream",
     "text": [
      "C:\\Users\\34639\\AppData\\Local\\Temp/ipykernel_19184/515592433.py:21: RuntimeWarning: divide by zero encountered in true_divide\n",
      "  n_diff = (b1 - b2) / (b1 + b2)\n"
     ]
    }
   ],
   "source": [
    "# Produces infinity values due to divide by zero\n",
    "ndvi = normalized_diff(b1=nir_band, b2=red_band)\n",
    "print(ndvi)"
   ]
  },
  {
   "cell_type": "markdown",
   "id": "3c0700c0",
   "metadata": {},
   "source": [
    "### What if we would rather have the output be a masked numpy array if there are any infinite values or nan values?"
   ]
  },
  {
   "cell_type": "code",
   "execution_count": 20,
   "id": "aaf548bc",
   "metadata": {},
   "outputs": [],
   "source": [
    "# Function definition in the earthpy package:\n",
    "# https://github.com/earthlab/earthpy/blob/master/earthpy/spatial.py#L62\n",
    "import warnings\n",
    "\n",
    "def normalized_diff(b1, b2):\n",
    "    \"\"\"Take two numpy arrays and calculate the normalized difference.\n",
    "    Math will be calculated (b1-b2) / (b1+b2). The arrays must be of the\n",
    "    same shape.\n",
    "    \n",
    "    Parameters\n",
    "    ----------\n",
    "    b1, b2 : numpy arrays\n",
    "        Two numpy arrays that will be used to calculate the normalized difference.\n",
    "        Math will be calculated (b1-b2) / (b1+b2).\n",
    "   \n",
    "   Returns\n",
    "    ----------\n",
    "    n_diff : numpy array\n",
    "        The element-wise result of (b1-b2) / (b1+b2) calculation. Inf values are set\n",
    "        to nan. Array returned as masked if result includes nan values.\n",
    "    \"\"\"\n",
    "    if not (b1.shape == b2.shape):\n",
    "        raise ValueError(\"Both arrays should have the same dimensions\")\n",
    "\n",
    "    n_diff = (b1 - b2) / (b1 + b2)\n",
    "\n",
    "    # Set inf values to nan and provide custom warning\n",
    "    if np.isinf(n_diff).any():\n",
    "        warnings.warn(\n",
    "            \"Divide by zero produced infinity values that will be replaced with nan values\",\n",
    "            Warning)\n",
    "        n_diff[np.isinf(n_diff)] = np.nan\n",
    "\n",
    "    # Mask invalid values\n",
    "    if np.isnan(n_diff).any():\n",
    "        n_diff = np.ma.masked_invalid(n_diff)\n",
    "\n",
    "    return n_diff"
   ]
  },
  {
   "cell_type": "code",
   "execution_count": 21,
   "id": "1d383e88",
   "metadata": {},
   "outputs": [
    {
     "name": "stdout",
     "output_type": "stream",
     "text": [
      "[[0.7142857142857143 0.5555555555555556 0.45454545454545453\n",
      "  0.38461538461538464 0.3333333333333333]\n",
      " [0.18518518518518517 0.1724137931034483 0.16129032258064516\n",
      "  0.15151515151515152 --]]\n"
     ]
    },
    {
     "name": "stderr",
     "output_type": "stream",
     "text": [
      "C:\\Users\\34639\\AppData\\Local\\Temp/ipykernel_19184/2005663987.py:25: RuntimeWarning: divide by zero encountered in true_divide\n",
      "  n_diff = (b1 - b2) / (b1 + b2)\n",
      "C:\\Users\\34639\\AppData\\Local\\Temp/ipykernel_19184/2005663987.py:29: Warning: Divide by zero produced infinity values that will be replaced with nan values\n",
      "  warnings.warn(\n"
     ]
    }
   ],
   "source": [
    "ndvi = normalized_diff(b1=nir_band, b2=red_band)\n",
    "print(ndvi)"
   ]
  },
  {
   "cell_type": "markdown",
   "id": "28478ea0",
   "metadata": {},
   "source": [
    "There is now a warning provided by the function to explain that the division by zero resulted in values that are replaced with nan values.\n",
    "\n",
    "There are many ways to include tests and checks in your code, so explore the resources below to learn different ways to incorporate them into your workflows.\n",
    "\n"
   ]
  },
  {
   "cell_type": "code",
   "execution_count": null,
   "id": "be95d752",
   "metadata": {},
   "outputs": [],
   "source": []
  }
 ],
 "metadata": {
  "kernelspec": {
   "display_name": "Python 3 (ipykernel)",
   "language": "python",
   "name": "python3"
  },
  "language_info": {
   "codemirror_mode": {
    "name": "ipython",
    "version": 3
   },
   "file_extension": ".py",
   "mimetype": "text/x-python",
   "name": "python",
   "nbconvert_exporter": "python",
   "pygments_lexer": "ipython3",
   "version": "3.8.10"
  }
 },
 "nbformat": 4,
 "nbformat_minor": 5
}
