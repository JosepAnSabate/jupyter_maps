{
 "cells": [
  {
   "cell_type": "markdown",
   "id": "022cda16",
   "metadata": {},
   "source": [
    "A **pull request** is a way that you or a colleague can suggest code changes to a repository.\n",
    "\n",
    "A pull request allows:\n",
    "\n",
    "- Your collaborators to see exactly what items were changed line by line in the code.\n",
    "- A group of people working on the code to view, review and comment on the code line by line.\n",
    "- You to document changes to your project which can also be clearly linked to issues that describe the need for those changes (see below).\n",
    "\n",
    "The pull request is a great way to ensure that everyone is on the same page with your edits before the changes are merged or combined into the designated repository.\n",
    "\n",
    "Pull Requests are specific to the GitHub website."
   ]
  },
  {
   "cell_type": "markdown",
   "id": "af2fd282",
   "metadata": {},
   "source": [
    "#### GitHub Issues\n",
    "Issues in GitHub are ways to document and discuss changes needed in a repository. Issues are also ideal for managing changes in a project.\n",
    "\n",
    "Issues are normally text (and code) that describe something that needs to be addressed in the repository. An issue could be related to something that needs to be fixed in your code or text."
   ]
  },
  {
   "cell_type": "markdown",
   "id": "4f9d883f",
   "metadata": {},
   "source": [
    "#### GitHub Project Milestones\n",
    "There are other project management tools within GitHub that you can use to manage your project as it becomes more complex, including milestones and even Trello like project boards.\n",
    "\n",
    "If you are working on a large project, you can create milestones which can be used to group sets of related issues together. Milestones can have deadlines associated with them."
   ]
  },
  {
   "cell_type": "markdown",
   "id": "59032b8b",
   "metadata": {},
   "source": [
    "####  GitHub Project Management Tools\n",
    "You can also use GitHub to manage an entire project or set of projects. You can setup boards similar to a tool like Trello to manage pull requests and milestones, who is working on what and associated deadlines."
   ]
  },
  {
   "cell_type": "markdown",
   "id": "c6251520",
   "metadata": {},
   "source": [
    "# 2. How To Create A Pull Request on Github: Propose Changes to GitHub Repositories"
   ]
  },
  {
   "cell_type": "markdown",
   "id": "c94a9c01",
   "metadata": {},
   "source": [
    "A pull request (referred to as a PR) is a way for you to suggest changes to a repository that are visible and can be easily reviewed.\n",
    "\n",
    "Pull requests are specific to GitHub and can be implemented in two ways:\n",
    "\n",
    "- You submit changes to another repository based upon changes that you made to a fork (i.e. copy owned by you) of that repository.\n",
    "- You submit changes to an existing repository using a branch (i.e. a copy of the main branch of repository)."
   ]
  },
  {
   "cell_type": "markdown",
   "id": "83f9386b",
   "metadata": {},
   "source": [
    "There are two key terms that you should know to set this up in Github:\n",
    "\n",
    "- Base: Base is the repository that will be updated. Changes will be added to this repository via the pull request. Following the example above, the base repo is your colleague’s repo.\n",
    "- Head: Head is the repository containing the changes that will be added to the base. Following the example above, this is your repository (your fork of your colleague’s repo).\n",
    "One way to remember the difference between head and base is that the “head” is ahead of the “base”. Ahead means that there are changes in the head repo that the base repo does NOT have.\n",
    "\n",
    "So, you need to add the changes from the head (your forked repo) to the base (your colleague’s repo).\n",
    "\n",
    "When you begin a pull request, the head and base will auto-populate. It may look something like this:\n",
    "\n",
    "- base fork: your-colleagues-username/project-name\n",
    "- head fork: your-username/project-name"
   ]
  },
  {
   "cell_type": "markdown",
   "id": "518c1fbf",
   "metadata": {},
   "source": [
    "# 3. Sync a GitHub Repo: How To Ensure Your GitHub Fork Is Up To Date"
   ]
  },
  {
   "cell_type": "markdown",
   "id": "43f1a0b7",
   "metadata": {},
   "source": [
    "- Update your local clone of your forked repository (repo) using git pull."
   ]
  },
  {
   "cell_type": "markdown",
   "id": "dac8d95f",
   "metadata": {},
   "source": [
    "When you are collaborating with others on a project, there are often changes being made to the repo that you (and others) are contributing to. It is important keep your fork up to date or in sync with those changes as you work. Keeping your fork in sync with the central repo will reduce the risk of merge conflicts (a topic that you will learn more about in a later chapter)."
   ]
  },
  {
   "cell_type": "markdown",
   "id": "f3079498",
   "metadata": {},
   "source": [
    "#### Syncing Your GitHub Repo Reduces the Chances of a Merge Conflict\n",
    "A merge conflict occurs when two people edit the same line in a file. Git does not know how to resolve the conflict (i.e. which changes to keep and which to remove).\n",
    "\n",
    "When git does not know how to resolve a conflict, it will ask you to manually fix the conflict. If you sync your files regularly, you will ultimately reduce the risk of a merge conflict."
   ]
  },
  {
   "cell_type": "markdown",
   "id": "377567a2",
   "metadata": {},
   "source": [
    "Update or sync your repo with the central repo (e.g. your colleague’s repo):\n",
    "    \n",
    "You can manually set or pull down changes from the central repo to your clone locally. This can be done in the Terminal. When you update your local clone, you will then need to push the changes or commits back up to your fork on GitHub.com."
   ]
  },
  {
   "cell_type": "markdown",
   "id": "8c029b96",
   "metadata": {},
   "source": [
    "# Lesson 4. Track, Manage and Discuss Project Changes and Updates Using GitHub Issues"
   ]
  },
  {
   "cell_type": "markdown",
   "id": "8c41e85b",
   "metadata": {},
   "source": [
    "Issues in GitHub are text based descriptions of things that need to be addressed, changed or worked in a project or GitHub repo. GitHub issues can help you manage a collaborative project that you are working on with others. All that you need to create an issue on GitHub is a GitHub login."
   ]
  },
  {
   "cell_type": "markdown",
   "id": "2b5e9119",
   "metadata": {},
   "source": [
    "GitHub issues can be used to identify and track:\n",
    "\n",
    "- Bugs or problems with code in your repo. For example this thing doesn’t work as expected.\n",
    "- Things that are missing in your repo. For example perhaps something isn’t documented correctly.\n",
    "- Enhancements or new functionality that is needed in the code.\n",
    "- Documentation updates.\n",
    "- General questions and discussion points that need to be considered by all collaborators"
   ]
  },
  {
   "cell_type": "markdown",
   "id": "34091fa2",
   "metadata": {},
   "source": [
    "#### Mention Specific People Using @github-username-here\n",
    "The last important note is that when possible, it is best to mention the collaborator that you wish to respond to your issue in the text. You can do that by using @github-username in the text. This mention will draw more attention to the issue that you submitted and is in turn more likely to be responded to."
   ]
  },
  {
   "cell_type": "markdown",
   "id": "271e54e8",
   "metadata": {},
   "source": [
    "# Lesson 5. An Example of a Github Collaborative Workflow for Team Science"
   ]
  },
  {
   "cell_type": "markdown",
   "id": "27e09bd9",
   "metadata": {},
   "source": [
    "In the last lessons you have learned about:\n",
    "\n",
    "- GitHub issues as they are used to track and discussion changes to code in a GitHub repo\n",
    "- GitHub pull requests as they are used to submit changes to a repo that have been discussed in an issue\n",
    "- GitHub mentions to notify collaborators who you want to review an issue or pull request"
   ]
  },
  {
   "cell_type": "markdown",
   "id": "7bdd67e6",
   "metadata": {},
   "source": [
    "#### An Example Workflow\n",
    "In the scenario laid out below, you are collaborating with 5 other colleagues who live in different parts of the country or world on a code base to process some spatial data. The code base lives in a repo on GitHub.com. You do not own the main repo so you will be working off of a fork of the main repo.\n",
    "\n",
    "The main repository is called:\n",
    "\n",
    "https://github.com/main-repo/spatial-data-project\n",
    "\n",
    "To begin, you look at the code and try it out for the project. You realize that there is a bug in the code where the output data that it processed isn’t in the correct format. You know how to fix this issue but want the OK from your collaborators before you submit any change.\n",
    "\n",
    "- Step 1. You submit an ISSUE to the repo that states the problem and how you proposed to fix it. You also MENTION two collaborators who will likely have feedback on your proposed change."
   ]
  },
  {
   "cell_type": "markdown",
   "id": "309eb784",
   "metadata": {},
   "source": [
    "After you submit your issue, two of your collaborators respond. Both agree that this is a problem and one suggests a way that you could approach making the fix to the code base. They suggest that you submit a PULL REQUEST to address the change to the code.\n",
    "\n",
    "- Step 2. Fork and Clone: Now that you have the OK from your collaborators to submit a change to the code, your work begins. You: FORK the repo into your account - making a copy of the repo that you own and can make changes to directly. You then CLONE the repo to your local computer so you can more easily work on the code.\n"
   ]
  },
  {
   "cell_type": "markdown",
   "id": "cbd81dff",
   "metadata": {},
   "source": [
    "Your forked repo url is called:\n",
    "\n",
    "https://github.com/your-user-name/spatial-data-project\n",
    "\n",
    "- Step 3: Modify the code locally on your computer. As you are working locally, you add and commit changes to the code. Once you are happy with your changes. You use git push to push the changes back to your forked repo.\n",
    "\n",
    "- Step 4: Submit a pull request: When you are happy with the changes you’ve made, you can submit a Pull Request back to the main repo. IMPORTANT: in your pull request be sure to 1. mention the original issue where the changes were discussed and 2. to MENTION the collaborators who you want to review the PR.\n",
    "\n",
    "Remember that this pull request will be made to this main repo:\n",
    "\n",
    "https://github.com/main-repo/spatial-data-project\n",
    "\n",
    "from your forked repo\n",
    "\n",
    "https://github.com/your-user-name/spatial-data-project"
   ]
  },
  {
   "cell_type": "markdown",
   "id": "88c130aa",
   "metadata": {},
   "source": [
    "- Step 5: Review your own pull request: Once you have opened up your pull request, you want to closely review your own work. Make sure that the changes that you can see on Github for each file are exactly what you wish to submit to the main repo. This step is important yet often overlooked. If you see any extra files or changes that you did not intend to submit, CLEAN THOSE UP before MENTIONing your collaborators for a review! You don’t want to waste anyones time reviewing files that are incorrect!\n",
    "\n",
    "- Step 6: Feedback on your PR Your collaborators will likely have some feedback and changes that they want on your PR. They will likely leave you some line by line feedback with specific things that should be changed. At that point you will need to go back to your local clone, and make changes as they suggest."
   ]
  },
  {
   "cell_type": "markdown",
   "id": "fea17c6f",
   "metadata": {},
   "source": [
    " Data Tip: sometimes collaborators will make suggested changes to your code directly in the Pull Request. If that happens, you may need to accept those changes and then do a Reverse Pull Request to update your forked repo from the main repo.\n",
    "\n",
    "- Step 7: Add More Changes to your PR After you have worked on the changes locally, you will follow the same git add, commit and push. steps that you followed to submit the original Pull Request. The big difference is that because you already have a PR open, any change that you make to your fork, will automatically be added to your open pull request! Thus, you do NOT need to submit a new pull request!\n",
    "Steps 6 and 7 may take a few rounds of iterations until everyone is happy with the changes."
   ]
  },
  {
   "cell_type": "markdown",
   "id": "2830a7c1",
   "metadata": {},
   "source": [
    "- Step 8: Your PR is Merged into the Main Repo: After all of your hard work, your PR is accepted and approved! The owners of the main-repo will merge your Pull Request into the main code base!\n",
    "Once your code is merged, your work is done!"
   ]
  },
  {
   "cell_type": "markdown",
   "id": "518f624d",
   "metadata": {},
   "source": [
    "Data Tip: When you are working collaboratively on a repo using forks, it is important to always make sure that your fork is synced with the main repository. This means that you will want to submit a reverse Pull Request to update your fork, and then pull down those changes locally using git pull."
   ]
  },
  {
   "cell_type": "markdown",
   "id": "a50de354",
   "metadata": {},
   "source": [
    "# Lesson 6. Practice Forking a GitHub Repository and Submitting Pull Requests"
   ]
  },
  {
   "cell_type": "markdown",
   "id": "c0f946e0",
   "metadata": {},
   "source": [
    "After completing this lesson, you will be able to:\n",
    "\n",
    "- Explain the relationship between a forked repository (head) and the original repository (base).\n",
    "- Submit a pull request of changes to a repository on GitHub.com."
   ]
  },
  {
   "cell_type": "markdown",
   "id": "72539ac2",
   "metadata": {},
   "source": [
    "#### Step 1: Fork and Clone The GitHub Repo To Make a Copy That You Own"
   ]
  },
  {
   "cell_type": "markdown",
   "id": "0a0b925c",
   "metadata": {},
   "source": [
    "Step 1: Fork and Clone The GitHub Repo To Make a Copy That You Own\n",
    "To begin, fork the Earth Lab Education Hometowns GitHub repository. Remember that this step only needs to be done once. When you create this fork, you then have full ownership of the fork in your user account. Full ownership means that you can make direct changes to the fork without submitting a Pull Request.\n",
    "\n",
    "After you have forked the repo, clone it so that you have a copy locally to work with on your computer.\n",
    "\n",
    "https://github.com/earthlab-education/ea-bootcamp-hometowns"
   ]
  },
  {
   "cell_type": "markdown",
   "id": "1ac68c2b",
   "metadata": {},
   "source": [
    "#### Step 2: Create a Jupyter Notebook For The Town that You Live In"
   ]
  },
  {
   "cell_type": "markdown",
   "id": "1a354fcb",
   "metadata": {},
   "source": [
    "#### 3: Submit a Pull Request To the earthlab-education/ea-bootcamp-hometowns repo"
   ]
  },
  {
   "cell_type": "markdown",
   "id": "d70c5642",
   "metadata": {},
   "source": [
    "Once you have made the changes, use git add and git commit to commit the changes locally. Use git push to push those changes up to your fork. And finally, submit a pull request from your fork to this repository, with the following included in the message of your pull request:\n",
    "\n",
    "- notify the owner of the repository (your instructor) that you have addressed the issue using @github-username\n",
    "- reference the issue number using Fixes #issue-number (e.g. the issue number is above in the title of this issue) - If you are working online, you may not have an issue with your name on it! just submit the PR without mentioning an issue or a github user."
   ]
  },
  {
   "cell_type": "code",
   "execution_count": null,
   "id": "3f874116",
   "metadata": {},
   "outputs": [],
   "source": []
  }
 ],
 "metadata": {
  "kernelspec": {
   "display_name": "Python 3",
   "language": "python",
   "name": "python3"
  },
  "language_info": {
   "codemirror_mode": {
    "name": "ipython",
    "version": 3
   },
   "file_extension": ".py",
   "mimetype": "text/x-python",
   "name": "python",
   "nbconvert_exporter": "python",
   "pygments_lexer": "ipython3",
   "version": "3.9.4"
  }
 },
 "nbformat": 4,
 "nbformat_minor": 5
}
