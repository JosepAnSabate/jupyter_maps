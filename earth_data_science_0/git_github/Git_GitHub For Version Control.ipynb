{
 "cells": [
  {
   "cell_type": "markdown",
   "id": "b31f32a1",
   "metadata": {},
   "source": [
    "## What is Version Control?\n",
    "A version control system maintains a record of changes to code and other content. It also allows us to revert changes to a previous point in time.\n",
    "\n"
   ]
  },
  {
   "cell_type": "markdown",
   "id": "d35bd24e",
   "metadata": {},
   "source": [
    "#### Git and GitHub - A Distributed Version Control Model\n",
    "Git uses a distributed version control model. This means that there can be many copies (or forks/branches in GitHub world) of the repository. When working locally, git is the program that you will use to keep track of changes to your repository.\n",
    "\n",
    "GitHub.com is a location on the internet (a cloud web server) that acts as a remote location for your repository. GitHub provides a backup of your work that can be retrieved if your local copy is lost (e.g. if your computer falls off a pier). GitHub also allows you to share your work and collaborate with others on projects."
   ]
  },
  {
   "cell_type": "markdown",
   "id": "8bf91a16",
   "metadata": {},
   "source": [
    "## How Git and GitHub Support Version Control\n",
    "Due to the functionality that each tool provides, you can use git and GitHub together in the same workflow to:\n",
    "\n",
    "- keep track of changes to your code locally using git.\n",
    "- synchronizing code between different versions (i.e. either your own versions or others’ versions).\n",
    "- test changes to code without losing the original.\n",
    "- revert back to older version of code, if needed.\n",
    "- back-up your files on the cloud (GitHub.com).\n",
    "- share your files on GitHub.com and collaborate with others."
   ]
  },
  {
   "cell_type": "markdown",
   "id": "23b68631",
   "metadata": {},
   "source": [
    "## Copy (Fork) and Download (Clone) GitHub Repositories"
   ]
  },
  {
   "cell_type": "code",
   "execution_count": null,
   "id": "707e9fa6",
   "metadata": {},
   "outputs": [],
   "source": []
  }
 ],
 "metadata": {
  "kernelspec": {
   "display_name": "Python 3",
   "language": "python",
   "name": "python3"
  },
  "language_info": {
   "codemirror_mode": {
    "name": "ipython",
    "version": 3
   },
   "file_extension": ".py",
   "mimetype": "text/x-python",
   "name": "python",
   "nbconvert_exporter": "python",
   "pygments_lexer": "ipython3",
   "version": "3.9.4"
  }
 },
 "nbformat": 4,
 "nbformat_minor": 5
}
