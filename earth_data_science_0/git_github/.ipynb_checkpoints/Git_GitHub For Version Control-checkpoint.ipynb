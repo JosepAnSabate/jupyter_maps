{
 "cells": [
  {
   "cell_type": "markdown",
   "id": "73d9b8d8",
   "metadata": {},
   "source": [
    "## What is Version Control?\n",
    "A version control system maintains a record of changes to code and other content. It also allows us to revert changes to a previous point in time.\n",
    "\n"
   ]
  },
  {
   "cell_type": "markdown",
   "id": "e62771a0",
   "metadata": {},
   "source": [
    "#### Git and GitHub - A Distributed Version Control Model\n",
    "Git uses a distributed version control model. This means that there can be many copies (or forks/branches in GitHub world) of the repository. When working locally, git is the program that you will use to keep track of changes to your repository.\n",
    "\n",
    "GitHub.com is a location on the internet (a cloud web server) that acts as a remote location for your repository. GitHub provides a backup of your work that can be retrieved if your local copy is lost (e.g. if your computer falls off a pier). GitHub also allows you to share your work and collaborate with others on projects."
   ]
  },
  {
   "cell_type": "markdown",
   "id": "523779a1",
   "metadata": {},
   "source": [
    "## How Git and GitHub Support Version Control\n",
    "Due to the functionality that each tool provides, you can use git and GitHub together in the same workflow to:\n",
    "\n",
    "- keep track of changes to your code locally using git.\n",
    "- synchronizing code between different versions (i.e. either your own versions or others’ versions).\n",
    "- test changes to code without losing the original.\n",
    "- revert back to older version of code, if needed.\n",
    "- back-up your files on the cloud (GitHub.com).\n",
    "- share your files on GitHub.com and collaborate with others."
   ]
  },
  {
   "cell_type": "markdown",
   "id": "8f35978f",
   "metadata": {},
   "source": [
    "## Copy (Fork) and Download (Clone) GitHub Repositories"
   ]
  },
  {
   "cell_type": "markdown",
   "id": "6dfde4cf",
   "metadata": {},
   "source": [
    "In essence, a repository is a directory for a specific project that is identified as a repository by git and GitHub because it contains a subdirectory called .git."
   ]
  },
  {
   "cell_type": "markdown",
   "id": "6132b9c8",
   "metadata": {},
   "source": [
    "- .gitignore file: This file can be used to list the files that you do not want git to track (i.e. monitor via version control)."
   ]
  },
  {
   "cell_type": "markdown",
   "id": "241688d8",
   "metadata": {},
   "source": [
    "### Create a Copy of Other Users’ Files on GitHub.com (Fork a Repo)\n",
    "Using GitHub.com, you can make a copy of a GitHub repository (also known as a repo) owned by another user or organization (a task referred to as forking a repository). This means that you do not have to fork a repository that you already own. Instead, other users can fork your repository if they would like a copy to work with, and your original files will not be modified!"
   ]
  },
  {
   "cell_type": "markdown",
   "id": "36c571cb",
   "metadata": {},
   "source": [
    "you can suggest changes to the original repository, which can be reviewed by the owner of that repository."
   ]
  },
  {
   "cell_type": "markdown",
   "id": "327ecde3",
   "metadata": {},
   "source": [
    "## Copy Files From GitHub.com to Your Computer (git clone)"
   ]
  },
  {
   "cell_type": "markdown",
   "id": "05694101",
   "metadata": {},
   "source": [
    "To work locally with a GitHub repository (including forked repos), you need to create a local copy of that repository on your computer (a task referred to as cloning a repo). You can clone GitHub repositories that you own or that are owned by others (e.g. repositories that you have forked to your GitHub account).\n",
    "\n",
    "In either case, cloning allows you to create a local copy of a GitHub repository, so that you can work with the files locally on your computer. Cloning a repository to your computer is a great way to work on your files locally, while still having a copy of your files on the cloud on GitHub.com. "
   ]
  },
  {
   "cell_type": "markdown",
   "id": "7767467a",
   "metadata": {},
   "source": [
    "#### Run the Git Clone Command in the Terminal\n",
    "Now that you have the URL for a repository that you want to copy locally, you can use the terminal to run the git clone command followed by the URL that you copied:\n",
    "\n",
    "git clone https://github.com/your-username/practice-git-skillz"
   ]
  },
  {
   "cell_type": "markdown",
   "id": "fc627c77",
   "metadata": {},
   "source": [
    "git remote -v"
   ]
  },
  {
   "cell_type": "markdown",
   "id": "2b0df2f0",
   "metadata": {},
   "source": [
    "##### Set Up an SSH Connection to GitHub (recommended)\n",
    "SSH, which stands for Secure SHell, is an alternative way of authenticating with GitHub from your computer. While SSH setup involves more steps, once it is set up you never have to authenticate your connection to GitHub again. This is because you will have a Key stored locally on your computer that can be authenticated against a key stored on your GitHub account.\n",
    "\n",
    "Setting up SSH involves two steps:\n",
    "\n",
    "creating the key itself locally on your computer, and\n",
    "adding the key to your GitHub account.\n",
    "Below you will find two GitHub tutorials that walk you through all of the steps needed to setup SSH on your computer.\n",
    "\n",
    "Step 1: Generate Your SSH Key Locally\n",
    "Use this link to find step by step instructions for generating your SSH key.\n",
    "\n",
    "Make sure to follow the instructions all the way to the end of the page where you add your SSH key to your SSH agent. NOTE: Around step 4 the instructions tell you to set up a passphrase for your SSH connection. While you can do this if you like, it is an optional step. SSH is already very secure, so if you decide you don’t want an SSH passphrase, you can just hit return on the empty passphrase line.\n",
    "\n",
    "Step 2: Add Your SSH Key To Your GitHub Account\n",
    "After you’ve generated your key and added it to your agent, you need to add the key to your GitHub account.This link provides step by step instructions on adding the SSH key to your account. The instructions vary slightly from operating system to operating system, so be sure you are using the instructions for the operating system running on your computer (MAC, Windows or Linux)."
   ]
  },
  {
   "cell_type": "markdown",
   "id": "5ef3a118",
   "metadata": {},
   "source": [
    "# 4. Get Started with Git Commands for Version Control"
   ]
  },
  {
   "cell_type": "markdown",
   "id": "ec9db6d8",
   "metadata": {},
   "source": [
    "After completing this page, you will be able to:\n",
    "\n",
    "- Use git to add and commit changed files to version control.\n",
    "- Use git to push changed files from your local computer to the repository on Github.com.\n",
    "- Use git to pull changed file from your repo to your local computer"
   ]
  },
  {
   "cell_type": "markdown",
   "id": "a9ad462f",
   "metadata": {},
   "source": [
    "- git add changed files to version control tracking.\n",
    "- git commit the changed files to create a unique snapshot of the local repository.\n",
    "- git push those changed files from the local copy of a repository to the cloud (GitHub.com).\n"
   ]
  },
  {
   "cell_type": "markdown",
   "id": "12c9adb2",
   "metadata": {},
   "source": [
    "git status"
   ]
  },
  {
   "cell_type": "markdown",
   "id": "f59f34e0",
   "metadata": {},
   "source": [
    "git log"
   ]
  },
  {
   "cell_type": "markdown",
   "id": "e94cff4d",
   "metadata": {},
   "source": [
    "# Lesson 5. Undo Local Changes With Git"
   ]
  },
  {
   "cell_type": "markdown",
   "id": "7a10534b",
   "metadata": {},
   "source": [
    "#### After completing this page, you will be able to:\n",
    "\n",
    "- Undo changes before they’ve been staged (i.e. you have not yet run git add to add or stage them).\n",
    "- Undo changes after they’ve been staged with git add (but before you run git commit) .\n",
    "- Undo changes after they’ve been committed to the local repository (but before you have run git push to send your files to Github.com)."
   ]
  },
  {
   "cell_type": "markdown",
   "id": "57a0ef59",
   "metadata": {},
   "source": [
    "### Undoing Changes (Before git add)\n",
    "If you have changed a file but have not yet run git add, you can undo changes by running git checkout. You can specify a specific file using:\n",
    "\n",
    "**git checkout** filename.ipynb"
   ]
  },
  {
   "cell_type": "markdown",
   "id": "a4263e08",
   "metadata": {},
   "source": [
    "Or you can undo all changes (including all changes that have not been committed!) with:\n",
    "\n",
    "**git checkout  .**"
   ]
  },
  {
   "cell_type": "markdown",
   "id": "311b05d3",
   "metadata": {},
   "source": [
    "## Unstage Changes (After git add, Before git commit)"
   ]
  },
  {
   "cell_type": "markdown",
   "id": "bfca1c63",
   "metadata": {},
   "source": [
    "git reset HEAD README.md"
   ]
  },
  {
   "cell_type": "markdown",
   "id": "8b028bc9",
   "metadata": {},
   "source": [
    "Git reset is essentially the opposite of the command git add. It will undo the git add to remove the changed file from version control, and then you can git checkout to undo the changes from the file."
   ]
  },
  {
   "cell_type": "markdown",
   "id": "2cb50c44",
   "metadata": {},
   "source": [
    "# Undo Commit (After git commit, Before git push)"
   ]
  },
  {
   "cell_type": "markdown",
   "id": "6db14da7",
   "metadata": {},
   "source": [
    "If you have committed changes to a file (i.e. you have run both git add and git commit), and want to undo those changes, then you can use git reset HEAD~ to undo your commit."
   ]
  },
  {
   "cell_type": "code",
   "execution_count": 4,
   "id": "db71ed79",
   "metadata": {},
   "outputs": [
    {
     "ename": "SyntaxError",
     "evalue": "invalid syntax (<ipython-input-4-a86d8eaeca25>, line 2)",
     "output_type": "error",
     "traceback": [
      "\u001b[1;36m  File \u001b[1;32m\"<ipython-input-4-a86d8eaeca25>\"\u001b[1;36m, line \u001b[1;32m2\u001b[0m\n\u001b[1;33m    $ echo 'Even more changes.' >> README.md\u001b[0m\n\u001b[1;37m    ^\u001b[0m\n\u001b[1;31mSyntaxError\u001b[0m\u001b[1;31m:\u001b[0m invalid syntax\n"
     ]
    }
   ],
   "source": [
    "# Comment in bash; modify the README file\n",
    "$ echo 'Even more changes.' >> README.md\n",
    "\n",
    "$ git commit -m 'Update description in README.md'\n",
    "\n",
    "$ git status"
   ]
  },
  {
   "cell_type": "code",
   "execution_count": 5,
   "id": "0d02e804",
   "metadata": {},
   "outputs": [
    {
     "ename": "SyntaxError",
     "evalue": "invalid syntax (<ipython-input-5-d7edae5c99e1>, line 1)",
     "output_type": "error",
     "traceback": [
      "\u001b[1;36m  File \u001b[1;32m\"<ipython-input-5-d7edae5c99e1>\"\u001b[1;36m, line \u001b[1;32m1\u001b[0m\n\u001b[1;33m    $ git reset HEAD~\u001b[0m\n\u001b[1;37m    ^\u001b[0m\n\u001b[1;31mSyntaxError\u001b[0m\u001b[1;31m:\u001b[0m invalid syntax\n"
     ]
    }
   ],
   "source": [
    "$ git reset HEAD~"
   ]
  },
  {
   "cell_type": "code",
   "execution_count": null,
   "id": "b4aef92a",
   "metadata": {},
   "outputs": [],
   "source": []
  }
 ],
 "metadata": {
  "kernelspec": {
   "display_name": "Python 3",
   "language": "python",
   "name": "python3"
  },
  "language_info": {
   "codemirror_mode": {
    "name": "ipython",
    "version": 3
   },
   "file_extension": ".py",
   "mimetype": "text/x-python",
   "name": "python",
   "nbconvert_exporter": "python",
   "pygments_lexer": "ipython3",
   "version": "3.9.4"
  }
 },
 "nbformat": 4,
 "nbformat_minor": 5
}
