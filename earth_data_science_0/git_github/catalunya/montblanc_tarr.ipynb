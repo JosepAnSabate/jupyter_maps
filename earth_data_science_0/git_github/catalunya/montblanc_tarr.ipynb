{
 "cells": [
  {
   "cell_type": "markdown",
   "id": "eaaedf98",
   "metadata": {},
   "source": [
    "## Montblanc\n",
    "---"
   ]
  },
  {
   "cell_type": "markdown",
   "id": "f40ea18e",
   "metadata": {},
   "source": [
    "### Latitude and Longitude\n",
    "#### 41.373202N, 1.176567E"
   ]
  },
  {
   "cell_type": "markdown",
   "id": "df6f85d9",
   "metadata": {},
   "source": [
    "### Population\n",
    "#### 7379 "
   ]
  },
  {
   "cell_type": "markdown",
   "id": "3257e09c",
   "metadata": {},
   "source": [
    "One of Montblanc's landmarks more characteristic is the medieval wall that surrounds much of the old village."
   ]
  },
  {
   "cell_type": "markdown",
   "id": "5c2a5a43",
   "metadata": {},
   "source": [
    "![Muralla de Montblanc](https://larutadelcister.info/sites/default/files/styles/800x/public/MONTBLANC.MURALLES_0.jpg?itok=eMfpeost)\n"
   ]
  },
  {
   "cell_type": "code",
   "execution_count": null,
   "id": "8d0d5d0a",
   "metadata": {},
   "outputs": [],
   "source": []
  }
 ],
 "metadata": {
  "kernelspec": {
   "display_name": "Python 3",
   "language": "python",
   "name": "python3"
  },
  "language_info": {
   "codemirror_mode": {
    "name": "ipython",
    "version": 3
   },
   "file_extension": ".py",
   "mimetype": "text/x-python",
   "name": "python",
   "nbconvert_exporter": "python",
   "pygments_lexer": "ipython3",
   "version": "3.9.4"
  }
 },
 "nbformat": 4,
 "nbformat_minor": 5
}
