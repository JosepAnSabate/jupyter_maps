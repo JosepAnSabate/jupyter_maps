{
 "cells": [
  {
   "cell_type": "markdown",
   "id": "ba5e3970",
   "metadata": {},
   "source": [
    "Object-Oriented: Python is most often used in an object-oriented way, which allows data to be stored as objects that have unique characteristics and functionality. "
   ]
  },
  {
   "cell_type": "markdown",
   "id": "2e0574a1",
   "metadata": {},
   "source": [
    "#### Write Scripts That Can Run in the terminal\n",
    "Alternatively, a more efficient approach to using the terminal with Python is to write Python scripts. These script files have a .py extension. You can then call the script at the terminal using:\n",
    "\n",
    "$ # Execute a python script named myscript.py at the command line\n",
    "\n",
    "$ python myscript.py"
   ]
  },
  {
   "cell_type": "markdown",
   "id": "77af2533",
   "metadata": {},
   "source": [
    "#### What are Variables in Python?\n",
    "A variable in programming is used to store information that you want to re-use in your code. Examples of things that you may wish to save in your code include:\n",
    "\n",
    "- numeric values\n",
    "- filenames\n",
    "- paths\n",
    "- or even larger datasets such as a remote sensing image or a terrain model"
   ]
  },
  {
   "cell_type": "code",
   "execution_count": 1,
   "id": "4511981f",
   "metadata": {},
   "outputs": [
    {
     "data": {
      "text/plain": [
       "5"
      ]
     },
     "execution_count": 1,
     "metadata": {},
     "output_type": "execute_result"
    }
   ],
   "source": [
    "# Try it out\n",
    "my_variable = 5\n",
    "\n",
    "my_variable"
   ]
  },
  {
   "cell_type": "markdown",
   "id": "c838bd2d",
   "metadata": {},
   "source": [
    "### About Data Types in Python\n",
    "Python data types are important to understand when coding. Below you will learn more about the different types of variables that you can store including:\n",
    "\n",
    "- Numbers (integers and floats)\n",
    "- Strings (letters / characters and words)"
   ]
  },
  {
   "cell_type": "markdown",
   "id": "57d9ff6d",
   "metadata": {},
   "source": [
    "#### Numeric Variables in Python\n",
    "In Python, you can create variables to store numeric values such as integers (int) which represent whole numbers and floating point numbers which represent decimal values (float)."
   ]
  },
  {
   "cell_type": "code",
   "execution_count": 2,
   "id": "e936bb8b",
   "metadata": {},
   "outputs": [
    {
     "data": {
      "text/plain": [
       "int"
      ]
     },
     "execution_count": 2,
     "metadata": {},
     "output_type": "execute_result"
    }
   ],
   "source": [
    "type(my_variable)"
   ]
  },
  {
   "cell_type": "code",
   "execution_count": 3,
   "id": "64311e7a",
   "metadata": {},
   "outputs": [
    {
     "data": {
      "text/plain": [
       "20.23"
      ]
     },
     "execution_count": 3,
     "metadata": {},
     "output_type": "execute_result"
    }
   ],
   "source": [
    "boulder_precip_float = 20.23\n",
    "\n",
    "boulder_precip_float"
   ]
  },
  {
   "cell_type": "markdown",
   "id": "151c5e11",
   "metadata": {},
   "source": [
    "##### Check Variable Type"
   ]
  },
  {
   "cell_type": "code",
   "execution_count": 4,
   "id": "14538fd0",
   "metadata": {},
   "outputs": [
    {
     "data": {
      "text/plain": [
       "float"
      ]
     },
     "execution_count": 4,
     "metadata": {},
     "output_type": "execute_result"
    }
   ],
   "source": [
    "type(boulder_precip_float)"
   ]
  },
  {
   "cell_type": "markdown",
   "id": "eb79af13",
   "metadata": {},
   "source": [
    "#### How to Store Text Variables: Strings in Python\n",
    "To create a variable containing a text string (str), you use quotation marks (\"\") around the value. For example:\n",
    "\n",
    "variable_name = \"text\""
   ]
  },
  {
   "cell_type": "code",
   "execution_count": 5,
   "id": "8097f068",
   "metadata": {},
   "outputs": [
    {
     "data": {
      "text/plain": [
       "'Boulder, CO is the home of the University of Colorado, Boulder campus.'"
      ]
     },
     "execution_count": 5,
     "metadata": {},
     "output_type": "execute_result"
    }
   ],
   "source": [
    "city_description = \"Boulder, CO is the home of the University of Colorado, Boulder campus.\"\n",
    "\n",
    "city_description"
   ]
  },
  {
   "cell_type": "code",
   "execution_count": 6,
   "id": "b967d5da",
   "metadata": {},
   "outputs": [
    {
     "name": "stdout",
     "output_type": "stream",
     "text": [
      "75 75.0\n"
     ]
    }
   ],
   "source": [
    "# Run the code below - what does the float() function do? \n",
    "a = 75\n",
    "b = float(a)\n",
    "print(a, b)"
   ]
  },
  {
   "cell_type": "code",
   "execution_count": 8,
   "id": "a7664d42",
   "metadata": {},
   "outputs": [],
   "source": [
    "a = 5\n",
    "b = 3\n",
    "c = a/b"
   ]
  },
  {
   "cell_type": "code",
   "execution_count": 10,
   "id": "12a528f9",
   "metadata": {},
   "outputs": [
    {
     "data": {
      "text/plain": [
       "float"
      ]
     },
     "execution_count": 10,
     "metadata": {},
     "output_type": "execute_result"
    }
   ],
   "source": [
    "type(c)"
   ]
  },
  {
   "cell_type": "markdown",
   "id": "0fd0cf85",
   "metadata": {},
   "source": [
    "## Lists in Python\n"
   ]
  },
  {
   "cell_type": "code",
   "execution_count": 11,
   "id": "eae6f65f",
   "metadata": {},
   "outputs": [
    {
     "data": {
      "text/plain": [
       "[1, 0.7, 'January']"
      ]
     },
     "execution_count": 11,
     "metadata": {},
     "output_type": "execute_result"
    }
   ],
   "source": [
    "jan = 0.70\n",
    "\n",
    "boulder_avg_precip = [1, jan, \"January\"]\n",
    "\n",
    "boulder_avg_precip"
   ]
  },
  {
   "cell_type": "code",
   "execution_count": 12,
   "id": "50dbc0e2",
   "metadata": {},
   "outputs": [
    {
     "data": {
      "text/plain": [
       "0.7"
      ]
     },
     "execution_count": 12,
     "metadata": {},
     "output_type": "execute_result"
    }
   ],
   "source": [
    "boulder_avg_precip[1]"
   ]
  },
  {
   "cell_type": "code",
   "execution_count": 13,
   "id": "31f2b9b1",
   "metadata": {},
   "outputs": [
    {
     "data": {
      "text/plain": [
       "['January', 'February', 'March']"
      ]
     },
     "execution_count": 13,
     "metadata": {},
     "output_type": "execute_result"
    }
   ],
   "source": [
    "months = [\"January\", \"February\", \"March\"]\n",
    "\n",
    "months"
   ]
  },
  {
   "cell_type": "code",
   "execution_count": 14,
   "id": "46879794",
   "metadata": {},
   "outputs": [
    {
     "data": {
      "text/plain": [
       "list"
      ]
     },
     "execution_count": 14,
     "metadata": {},
     "output_type": "execute_result"
    }
   ],
   "source": [
    "type(months)"
   ]
  },
  {
   "cell_type": "code",
   "execution_count": 15,
   "id": "0f6d533b",
   "metadata": {},
   "outputs": [
    {
     "name": "stdout",
     "output_type": "stream",
     "text": [
      "The length of the months list is: 3\n"
     ]
    }
   ],
   "source": [
    "print(\"The length of the months list is:\", len(months))"
   ]
  },
  {
   "cell_type": "markdown",
   "id": "d3ee8c52",
   "metadata": {},
   "source": [
    "#### Update Items in Python Lists"
   ]
  },
  {
   "cell_type": "code",
   "execution_count": 16,
   "id": "3fd472a5",
   "metadata": {},
   "outputs": [
    {
     "data": {
      "text/plain": [
       "['January', 'Feb', 'March']"
      ]
     },
     "execution_count": 16,
     "metadata": {},
     "output_type": "execute_result"
    }
   ],
   "source": [
    "months[1] = \"Feb\"\n",
    "\n",
    "months"
   ]
  },
  {
   "cell_type": "markdown",
   "id": "82bf7302",
   "metadata": {},
   "source": [
    "#### Insert Items into Lists\n"
   ]
  },
  {
   "cell_type": "code",
   "execution_count": 22,
   "id": "c02c6312",
   "metadata": {},
   "outputs": [
    {
     "data": {
      "text/plain": [
       "'February'"
      ]
     },
     "execution_count": 22,
     "metadata": {},
     "output_type": "execute_result"
    }
   ],
   "source": [
    "# Month list missing the first value for January\n",
    "months = [\"February\"]\n",
    "\n",
    "# Check index value at 0\n",
    "months[0]"
   ]
  },
  {
   "cell_type": "code",
   "execution_count": 23,
   "id": "1f3cdebd",
   "metadata": {},
   "outputs": [
    {
     "data": {
      "text/plain": [
       "['January', 'February']"
      ]
     },
     "execution_count": 23,
     "metadata": {},
     "output_type": "execute_result"
    }
   ],
   "source": [
    "# Modify list to add January at the beginning\n",
    "months.insert(0, \"January\")\n",
    "\n",
    "months"
   ]
  },
  {
   "cell_type": "markdown",
   "id": "64784c78",
   "metadata": {},
   "source": [
    "#### Append an Item to a Python List\n",
    "To add an item to the **end of a list**, you can use the .append()"
   ]
  },
  {
   "cell_type": "code",
   "execution_count": 24,
   "id": "2bea3d17",
   "metadata": {},
   "outputs": [
    {
     "data": {
      "text/plain": [
       "['January', 'February', 'March']"
      ]
     },
     "execution_count": 24,
     "metadata": {},
     "output_type": "execute_result"
    }
   ],
   "source": [
    "months.append(\"March\")\n",
    "\n",
    "months"
   ]
  },
  {
   "cell_type": "markdown",
   "id": "a9cad64c",
   "metadata": {},
   "source": [
    "####  Delete Items From a Python List"
   ]
  },
  {
   "cell_type": "code",
   "execution_count": 20,
   "id": "50c69b2e",
   "metadata": {},
   "outputs": [
    {
     "data": {
      "text/plain": [
       "['January', 'February']"
      ]
     },
     "execution_count": 20,
     "metadata": {},
     "output_type": "execute_result"
    }
   ],
   "source": [
    "del months[2]\n",
    "\n",
    "months"
   ]
  },
  {
   "cell_type": "code",
   "execution_count": 21,
   "id": "df69bcc6",
   "metadata": {},
   "outputs": [
    {
     "data": {
      "text/plain": [
       "['January', 'February', 'March']"
      ]
     },
     "execution_count": 21,
     "metadata": {},
     "output_type": "execute_result"
    }
   ],
   "source": [
    "months.append(\"March\")\n",
    "\n",
    "months"
   ]
  },
  {
   "cell_type": "markdown",
   "id": "f52ae0cd",
   "metadata": {},
   "source": [
    "#### Add Items to List\n",
    "You can also add items to a list using the addition operation +.\n",
    "\n",
    "For example, you can add items to the beginning of a list using the following syntax:\n",
    "\n",
    "listname = [value] + listname"
   ]
  },
  {
   "cell_type": "markdown",
   "id": "228a6612",
   "metadata": {},
   "source": [
    "##### inici"
   ]
  },
  {
   "cell_type": "code",
   "execution_count": 26,
   "id": "d55b3e78",
   "metadata": {},
   "outputs": [
    {
     "data": {
      "text/plain": [
       "[-9999, 'January', 'February', 'March']"
      ]
     },
     "execution_count": 26,
     "metadata": {},
     "output_type": "execute_result"
    }
   ],
   "source": [
    "additemslist = [-9999] + months\n",
    "\n",
    "additemslist"
   ]
  },
  {
   "cell_type": "markdown",
   "id": "d02891ca",
   "metadata": {},
   "source": [
    "#####  final"
   ]
  },
  {
   "cell_type": "code",
   "execution_count": 29,
   "id": "41f3a2c8",
   "metadata": {},
   "outputs": [
    {
     "data": {
      "text/plain": [
       "[-9999, 'January', 'February', 'March', 'xxx']"
      ]
     },
     "execution_count": 29,
     "metadata": {},
     "output_type": "execute_result"
    }
   ],
   "source": [
    "additemslist += ['xxx']\n",
    "\n",
    "additemslist"
   ]
  },
  {
   "cell_type": "markdown",
   "id": "83e55339",
   "metadata": {},
   "source": [
    "#### Create a List of Lists"
   ]
  },
  {
   "cell_type": "code",
   "execution_count": 27,
   "id": "541180b0",
   "metadata": {},
   "outputs": [
    {
     "data": {
      "text/plain": [
       "[[1, 2, 3], [8, 9, 10]]"
      ]
     },
     "execution_count": 27,
     "metadata": {},
     "output_type": "execute_result"
    }
   ],
   "source": [
    "list_of_lists = [[1,2,3], [8,9,10]]\n",
    "list_of_lists"
   ]
  },
  {
   "cell_type": "code",
   "execution_count": 28,
   "id": "244810a1",
   "metadata": {},
   "outputs": [
    {
     "data": {
      "text/plain": [
       "2"
      ]
     },
     "execution_count": 28,
     "metadata": {},
     "output_type": "execute_result"
    }
   ],
   "source": [
    "# The syntax for accessing the second item in the first sublist is as follows:\n",
    "list_of_lists[0][1]"
   ]
  },
  {
   "cell_type": "markdown",
   "id": "3061151a",
   "metadata": {},
   "source": [
    "# 4. Basic Operators in Python "
   ]
  },
  {
   "cell_type": "markdown",
   "id": "be699689",
   "metadata": {},
   "source": [
    "#### Arithmetic Operators In Python\n",
    "In Python, there are many arithmetic operations that can be completed, including operators for:\n",
    "\n",
    "- addition (+)\n",
    "- subtraction (-)\n",
    "- multiplication (*)\n",
    "- division (/)\n",
    "- exponents (**)\n"
   ]
  },
  {
   "cell_type": "code",
   "execution_count": 30,
   "id": "dee32a75",
   "metadata": {},
   "outputs": [
    {
     "data": {
      "text/plain": [
       "17.779999999999998"
      ]
     },
     "execution_count": 30,
     "metadata": {},
     "output_type": "execute_result"
    }
   ],
   "source": [
    "jan_precip = 0.70\n",
    "inches_to_mm = 25.4\n",
    "\n",
    "jan_precip *= inches_to_mm\n",
    "\n",
    "jan_precip"
   ]
  },
  {
   "cell_type": "code",
   "execution_count": 31,
   "id": "93f53fbb",
   "metadata": {},
   "outputs": [
    {
     "data": {
      "text/plain": [
       "['January', 'February']"
      ]
     },
     "execution_count": 31,
     "metadata": {},
     "output_type": "execute_result"
    }
   ],
   "source": [
    "months = [\"January\", \"February\"]\n",
    "\n",
    "months"
   ]
  },
  {
   "cell_type": "code",
   "execution_count": 32,
   "id": "f83f1509",
   "metadata": {},
   "outputs": [
    {
     "data": {
      "text/plain": [
       "['January', 'February', 'March', 'April']"
      ]
     },
     "execution_count": 32,
     "metadata": {},
     "output_type": "execute_result"
    }
   ],
   "source": [
    "months += [\"March\", \"April\"]\n",
    "\n",
    "months"
   ]
  },
  {
   "cell_type": "markdown",
   "id": "2fe90de4",
   "metadata": {},
   "source": [
    "#### Relational Operators in Python\n",
    "- equal (==)\n",
    "- not equal (!=)\n",
    "- greater than (>)\n",
    "- greater than or equal (>=)\n",
    "- less than (<)\n",
    "- less than or equal (<=)\n"
   ]
  },
  {
   "cell_type": "code",
   "execution_count": 35,
   "id": "3a4ff205",
   "metadata": {},
   "outputs": [
    {
     "data": {
      "text/plain": [
       "True"
      ]
     },
     "execution_count": 35,
     "metadata": {},
     "output_type": "execute_result"
    }
   ],
   "source": [
    "3 < 4"
   ]
  },
  {
   "cell_type": "code",
   "execution_count": 36,
   "id": "87aef4f1",
   "metadata": {},
   "outputs": [
    {
     "data": {
      "text/plain": [
       "True"
      ]
     },
     "execution_count": 36,
     "metadata": {},
     "output_type": "execute_result"
    }
   ],
   "source": [
    "3 == 3"
   ]
  },
  {
   "cell_type": "code",
   "execution_count": 37,
   "id": "b9a6bcba",
   "metadata": {},
   "outputs": [
    {
     "data": {
      "text/plain": [
       "True"
      ]
     },
     "execution_count": 37,
     "metadata": {},
     "output_type": "execute_result"
    }
   ],
   "source": [
    "3 != 4"
   ]
  },
  {
   "cell_type": "code",
   "execution_count": 38,
   "id": "1d2541f2",
   "metadata": {},
   "outputs": [
    {
     "data": {
      "text/plain": [
       "True"
      ]
     },
     "execution_count": 38,
     "metadata": {},
     "output_type": "execute_result"
    }
   ],
   "source": [
    "is_greater = (3 > 2)\n",
    "\n",
    "is_greater\n"
   ]
  },
  {
   "cell_type": "code",
   "execution_count": 40,
   "id": "86e0705c",
   "metadata": {},
   "outputs": [],
   "source": [
    "#rainfall = 3\n",
    "\n",
    "#if rainfall > 2:\n",
    "    # Perform some calculation "
   ]
  },
  {
   "cell_type": "markdown",
   "id": "b4258d1d",
   "metadata": {},
   "source": [
    "#### Membership Operators in Python\n",
    "A membership operator, such as **in**, will **check if one item contains another item**. This can be useful with strings, lists, or other data storage objects that you will learn about in later lessons, such as dataframes."
   ]
  },
  {
   "cell_type": "code",
   "execution_count": 41,
   "id": "d3e7d762",
   "metadata": {},
   "outputs": [
    {
     "data": {
      "text/plain": [
       "True"
      ]
     },
     "execution_count": 41,
     "metadata": {},
     "output_type": "execute_result"
    }
   ],
   "source": [
    "precip = \"Precipitation\"\n",
    "\n",
    "# Are the characters `Precip` in the object called precip?\n",
    "\"Precip\" in precip"
   ]
  },
  {
   "cell_type": "code",
   "execution_count": 42,
   "id": "3cfa9f49",
   "metadata": {},
   "outputs": [
    {
     "data": {
      "text/plain": [
       "True"
      ]
     },
     "execution_count": 42,
     "metadata": {},
     "output_type": "execute_result"
    }
   ],
   "source": [
    "temp_1 = [70, 68, 74]\n",
    "\n",
    "68 in temp_1"
   ]
  },
  {
   "cell_type": "code",
   "execution_count": null,
   "id": "91d6d721",
   "metadata": {},
   "outputs": [],
   "source": []
  }
 ],
 "metadata": {
  "kernelspec": {
   "display_name": "Python 3",
   "language": "python",
   "name": "python3"
  },
  "language_info": {
   "codemirror_mode": {
    "name": "ipython",
    "version": 3
   },
   "file_extension": ".py",
   "mimetype": "text/x-python",
   "name": "python",
   "nbconvert_exporter": "python",
   "pygments_lexer": "ipython3",
   "version": "3.9.4"
  }
 },
 "nbformat": 4,
 "nbformat_minor": 5
}
