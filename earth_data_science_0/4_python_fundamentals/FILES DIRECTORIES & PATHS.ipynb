{
 "cells": [
  {
   "cell_type": "markdown",
   "id": "af1a389b",
   "metadata": {},
   "source": [
    "# Lesson 1. Working Directories, Absolute and Relative Paths and Other Science Project Management Terms Defined"
   ]
  },
  {
   "cell_type": "markdown",
   "id": "ca968bd1",
   "metadata": {},
   "source": [
    "After completing this chapter, you will be able to:\n",
    "\n",
    "- Define a computer directory and list the primary types of directories.\n",
    "- Explain the difference between relative and absolute paths.\n",
    "- Check and set your working directory in Python using the os package."
   ]
  },
  {
   "cell_type": "markdown",
   "id": "84286a10",
   "metadata": {},
   "source": [
    "A directory refers to a folder on a computer that has relationships to other folders. The term “directory” considers the relationship between that folder and the folders within and around it. Directories are hierarchical which means that they can exist within other folders as well as have folders exist within them."
   ]
  },
  {
   "cell_type": "markdown",
   "id": "7537e37f",
   "metadata": {},
   "source": [
    "## What Is a Parent Directory\n",
    "The term “parent” directory is used to describe the preceding directory in which a subdirectory is created. A parent directory can have many subdirectories; thus, many subdirectories can share the same parent directory. This also means that parent directories can also be subdirectories of a parent directory above them in the hierarchy."
   ]
  },
  {
   "cell_type": "markdown",
   "id": "1c43e6ad",
   "metadata": {},
   "source": [
    "### What Is the Home Directory?\n",
    "The home directory on a computer is a directory defined by your operating system. The home directory is the primary directory for your user account on your computer. Your files are by default stored in your home directory.\n",
    "\n",
    "On Windows, the home directory is typically C:\\Users\\your-username."
   ]
  },
  {
   "cell_type": "markdown",
   "id": "c106304a",
   "metadata": {},
   "source": [
    "### What Is A Working Directory?\n",
    "While the terminal will open in your home directory by default, you can change the working directory of the terminal to a different location within your computer’s file structure.\n",
    "\n",
    "The working directory refers to the directory (or location) on your computer that a the tool assumes is the starting place for all paths that you construct or try to access."
   ]
  },
  {
   "cell_type": "markdown",
   "id": "0c74ea66",
   "metadata": {},
   "source": [
    "### Working Directories and Relative vs Absolute Paths in Python"
   ]
  },
  {
   "cell_type": "markdown",
   "id": "723b0728",
   "metadata": {},
   "source": [
    "When set correctly, working directories help the programming language to find files when you create paths."
   ]
  },
  {
   "cell_type": "markdown",
   "id": "b02775a8",
   "metadata": {},
   "source": [
    "Within Python, you can define (or set) the working directory of your choice. Then, you can create paths that are relative to that working directory, or create absolute paths, which means they begin at the home directory of your computer and provide the full path to the file that you wish to open."
   ]
  },
  {
   "cell_type": "markdown",
   "id": "f142f125",
   "metadata": {},
   "source": [
    "##### Relative Paths\n",
    "A relative path is the path that (as the name sounds) is relative to the working directory location on your computer.\n",
    "\n",
    "If the working directory is earth-analytics, then Python knows to start looking for your files in the earth-analytics directory.\n",
    "\n",
    "Following the example above, if you set the working directory to the earth-analytics directory, then the relative path to access streams.csv would be:\n",
    "\n",
    "data/field-sites/california/colorado/streams.csv"
   ]
  },
  {
   "cell_type": "markdown",
   "id": "9c2d18be",
   "metadata": {},
   "source": [
    "**Data Tip The default working directory in any Jupyter Notebook file is the directory in which it is saved. However, you can change the working directory in your code!**"
   ]
  },
  {
   "cell_type": "markdown",
   "id": "03ecfa25",
   "metadata": {},
   "source": [
    "#### Absolute Paths\n",
    "An absolute path is a path that contains the entire path to the file or directory that you need to access. This path will begin at the home directory of your computer and will end with the file or directory that you wish to access."
   ]
  },
  {
   "cell_type": "markdown",
   "id": "22787225",
   "metadata": {},
   "source": [
    "# Lesson 2. Write Code That Will Work On Any Computer: Introduction to Using the OS Python Package to Set Up Working Directories and Construct File Paths"
   ]
  },
  {
   "cell_type": "markdown",
   "id": "9ff22403",
   "metadata": {},
   "source": [
    "Learning Objectives\n",
    "\n",
    "- Use the earthpy attribute et.io.HOME to find the home directory on any computer.\n",
    "- Use os.path.join() to create paths that will work on Windows, Mac and Linux.\n",
    "- Use os.path.exists() to ensure a file path exists.\n",
    "- nSet your working directory in Python using os.chdir()."
   ]
  },
  {
   "cell_type": "code",
   "execution_count": 5,
   "id": "20bc8cbe",
   "metadata": {},
   "outputs": [],
   "source": [
    "# Import necessary packages\n",
    "import os\n",
    "\n",
    "import earthpy as et"
   ]
  },
  {
   "cell_type": "markdown",
   "id": "8ff15826",
   "metadata": {},
   "source": [
    "Ensuring that your code can run on multiple machines makes it easier to:\n",
    "\n",
    "- set things up in the rare case that your machine dies.\n",
    "- move your workflow to a cloud environment or high performance computing infrastructure.\n",
    "- share your project and collaborate with others."
   ]
  },
  {
   "cell_type": "markdown",
   "id": "cc9d9ef6",
   "metadata": {},
   "source": [
    "### Build Directory Paths that Work Across Operating Systems Using os.path.join"
   ]
  },
  {
   "cell_type": "code",
   "execution_count": 7,
   "id": "fc770bbd",
   "metadata": {},
   "outputs": [
    {
     "data": {
      "text/plain": [
       "'earth-analytics\\\\data'"
      ]
     },
     "execution_count": 7,
     "metadata": {},
     "output_type": "execute_result"
    }
   ],
   "source": [
    "# Direction and number of slashes are handled by the function\n",
    "os.path.join(\"earth-analytics\", \"data\")"
   ]
  },
  {
   "cell_type": "markdown",
   "id": "adc01d39",
   "metadata": {},
   "source": [
    "Constructing a path using the join() function will save you time when you (or others!) move your code to another computer, as you will not have to manually create or fix paths."
   ]
  },
  {
   "cell_type": "code",
   "execution_count": 8,
   "id": "bc3e40de",
   "metadata": {},
   "outputs": [
    {
     "data": {
      "text/plain": [
       "False"
      ]
     },
     "execution_count": 8,
     "metadata": {},
     "output_type": "execute_result"
    }
   ],
   "source": [
    "# Check that a directory exists on your computer\n",
    "my_path = os.path.join(\"earth-analytics\", \"data\")\n",
    "\n",
    "# Boolean output (True or False)\n",
    "os.path.exists(my_path)"
   ]
  },
  {
   "cell_type": "markdown",
   "id": "9004a305",
   "metadata": {},
   "source": [
    "In the example above, you have created a path. However, that path may or may not already exist on your computer.\n",
    "\n",
    "If Python cannot find the directory, there are several issues to consider:\n",
    "\n",
    "- Your working directory may not be set properly, so that it can find the relative path.\n",
    "- You have a misspelling in you path. Or, the case (e.g. upper, lower) is incorrect.\n",
    "- The directory has not been created on your computer."
   ]
  },
  {
   "cell_type": "code",
   "execution_count": 10,
   "id": "6b44760a",
   "metadata": {},
   "outputs": [
    {
     "data": {
      "text/plain": [
       "'C:\\\\Users\\\\34639\\\\wa\\\\jupyter\\\\earth_data_science_0\\\\4_python_fundamentals'"
      ]
     },
     "execution_count": 10,
     "metadata": {},
     "output_type": "execute_result"
    }
   ],
   "source": [
    "os.getcwd()# Check Your Current Working Directory"
   ]
  },
  {
   "cell_type": "code",
   "execution_count": 11,
   "id": "1efde63b",
   "metadata": {},
   "outputs": [
    {
     "data": {
      "text/plain": [
       "'C:\\\\Users\\\\34639'"
      ]
     },
     "execution_count": 11,
     "metadata": {},
     "output_type": "execute_result"
    }
   ],
   "source": [
    "# Find your home directory\n",
    "et.io.HOME"
   ]
  },
  {
   "cell_type": "markdown",
   "id": "4a370ef3",
   "metadata": {},
   "source": [
    "### Construct a Path to the earth-analytics Directory in Your Home Directory\n",
    "Now you will implement some useful tricks to construct the path to the earth-analytics directory within your home directory using et.io.HOME and os.path.join."
   ]
  },
  {
   "cell_type": "code",
   "execution_count": 12,
   "id": "5276deff",
   "metadata": {},
   "outputs": [
    {
     "data": {
      "text/plain": [
       "'C:\\\\Users\\\\34639\\\\earth-analytics'"
      ]
     },
     "execution_count": 12,
     "metadata": {},
     "output_type": "execute_result"
    }
   ],
   "source": [
    "# Create a path to the home/earth-analytics directory on your computer\n",
    "os.path.join(et.io.HOME, \"earth-analytics\")"
   ]
  },
  {
   "cell_type": "code",
   "execution_count": 13,
   "id": "a216eb91",
   "metadata": {},
   "outputs": [
    {
     "data": {
      "text/plain": [
       "True"
      ]
     },
     "execution_count": 13,
     "metadata": {},
     "output_type": "execute_result"
    }
   ],
   "source": [
    "my_ea_path = os.path.join(et.io.HOME, \"earth-analytics\")\n",
    "\n",
    "# Does the path exist?\n",
    "os.path.exists(my_ea_path)"
   ]
  },
  {
   "cell_type": "markdown",
   "id": "2b1d6ff6",
   "metadata": {},
   "source": [
    "### Set Your Working Directory to home/earth-analytics\n",
    "Now that you have the basics of good project structure out of the way, you can get your project directory set up.\n",
    "\n",
    "By now, you have already created the earth-analytics directory (in your home directory) where you will store data and files used in the textbook.\n",
    "\n",
    "You will now set that project directory as your working directory in Python using the following syntax, which provides the output of os.path.join as input into the the os.chdir function:\n",
    "\n",
    "- os.chdir(os.path.join(et.io.HOME, 'earth-analytics'))"
   ]
  },
  {
   "cell_type": "markdown",
   "id": "3a0191ed",
   "metadata": {},
   "source": [
    "Breaking the above commands down, you are doing the following.\n",
    "\n",
    "- os.chdir(): remember from above that this function changes the working directory. However, you need to tell Python the path of the working directory that you want to use.\n",
    "- os.path.join(): this function combines strings or path variables into a full path that will work on any operating system.\n",
    "- et.io.HOME: this attribute provides the path for the home directory on your (or any) computer."
   ]
  },
  {
   "cell_type": "markdown",
   "id": "0d49e148",
   "metadata": {},
   "source": [
    "Combing the three commands above in a nested structure will:\n",
    "\n",
    "- create the path for the home/earth-analytics directory and\n",
    "-  change the working directory to that path.\n"
   ]
  },
  {
   "cell_type": "code",
   "execution_count": 14,
   "id": "ab0d2dc3",
   "metadata": {},
   "outputs": [
    {
     "data": {
      "text/plain": [
       "'C:\\\\Users\\\\34639\\\\wa\\\\jupyter\\\\earth_data_science_0\\\\4_python_fundamentals'"
      ]
     },
     "execution_count": 14,
     "metadata": {},
     "output_type": "execute_result"
    }
   ],
   "source": [
    "# Check the current working directory\n",
    "os.getcwd()"
   ]
  },
  {
   "cell_type": "code",
   "execution_count": 15,
   "id": "cade5ed9",
   "metadata": {},
   "outputs": [
    {
     "data": {
      "text/plain": [
       "'C:\\\\Users\\\\34639'"
      ]
     },
     "execution_count": 15,
     "metadata": {},
     "output_type": "execute_result"
    }
   ],
   "source": [
    "# Find the path to your home directory\n",
    "et.io.HOME"
   ]
  },
  {
   "cell_type": "code",
   "execution_count": 16,
   "id": "ff369001",
   "metadata": {},
   "outputs": [
    {
     "data": {
      "text/plain": [
       "'C:\\\\Users\\\\34639\\\\earth-analytics'"
      ]
     },
     "execution_count": 16,
     "metadata": {},
     "output_type": "execute_result"
    }
   ],
   "source": [
    "# Create a path to earth-analytics that will work on any computer\n",
    "os.path.join(et.io.HOME, 'earth-analytics')"
   ]
  },
  {
   "cell_type": "code",
   "execution_count": 17,
   "id": "420f36bf",
   "metadata": {},
   "outputs": [],
   "source": [
    "# Change the directory to that path\n",
    "os.chdir(os.path.join(et.io.HOME, 'earth-analytics'))"
   ]
  },
  {
   "cell_type": "code",
   "execution_count": 18,
   "id": "76d4db66",
   "metadata": {},
   "outputs": [
    {
     "data": {
      "text/plain": [
       "'C:\\\\Users\\\\34639\\\\earth-analytics'"
      ]
     },
     "execution_count": 18,
     "metadata": {},
     "output_type": "execute_result"
    }
   ],
   "source": [
    "# Check the current working directory again\n",
    "os.getcwd()"
   ]
  },
  {
   "cell_type": "markdown",
   "id": "1f6e3485",
   "metadata": {},
   "source": [
    "# Lesson 3. Use the OS and Glob Python Packages to Manipulate File Paths"
   ]
  },
  {
   "cell_type": "markdown",
   "id": "4e4c2cd3",
   "metadata": {},
   "source": [
    "Learning Objectives\n",
    "\n",
    "- Use **earthpy** to download files from a URL (internet address).\n",
    "- Use **glo**b to get customized lists of files or directories.\n",
    "- Use various functions in the **os** package to manipulate file paths."
   ]
  },
  {
   "cell_type": "markdown",
   "id": "b7de6ba2",
   "metadata": {},
   "source": [
    "### os, glob, and earthpy "
   ]
  },
  {
   "cell_type": "markdown",
   "id": "9bf599ee",
   "metadata": {},
   "source": [
    "### Download Files Using EarthPy\n",
    "You can use the function data.get_data() from the earthpy package to download data from online sources such as the Figshare.com data repository."
   ]
  },
  {
   "cell_type": "code",
   "execution_count": 19,
   "id": "351ddf80",
   "metadata": {},
   "outputs": [],
   "source": [
    "# Import necessary packages\n",
    "import os\n",
    "from glob import glob\n",
    "\n",
    "import earthpy as et"
   ]
  },
  {
   "cell_type": "markdown",
   "id": "cb8fb285",
   "metadata": {},
   "source": [
    "To use the function et.data.get_data(), you can provide a parameter value for the url, which you define by providing a text string of the URL (internet address) for the dataset."
   ]
  },
  {
   "cell_type": "code",
   "execution_count": 20,
   "id": "2910b994",
   "metadata": {},
   "outputs": [
    {
     "name": "stdout",
     "output_type": "stream",
     "text": [
      "Downloading from https://ndownloader.figshare.com/files/21894528\n",
      "Extracted output to C:\\Users\\34639\\earth-analytics\\data\\earthpy-downloads\\avg-monthly-temp-fahr\n"
     ]
    },
    {
     "data": {
      "text/plain": [
       "'C:\\\\Users\\\\34639\\\\earth-analytics\\\\data\\\\earthpy-downloads\\\\avg-monthly-temp-fahr'"
      ]
     },
     "execution_count": 20,
     "metadata": {},
     "output_type": "execute_result"
    }
   ],
   "source": [
    "# Download data on average monthly temp for two California sites\n",
    "file_url = \"https://ndownloader.figshare.com/files/21894528\"\n",
    "et.data.get_data(url = file_url)"
   ]
  },
  {
   "cell_type": "markdown",
   "id": "8fa4763e",
   "metadata": {},
   "source": [
    "By default, et.data.get_data() will download files to earth-analytics/data/earthpy-downloads under your home directory, and it will create the necessary directories if they do not already exist.\n",
    "\n",
    "With this information, you can set the working directory to your earth-analytics directory and then create a relative path to the downloaded data directory."
   ]
  },
  {
   "cell_type": "code",
   "execution_count": 21,
   "id": "fed9974e",
   "metadata": {},
   "outputs": [],
   "source": [
    "# Set working directory to earth-analytics\n",
    "os.chdir(os.path.join(et.io.HOME, \"earth-analytics\"))\n",
    "\n",
    "# Create a path to the data folder\n",
    "data_folder = os.path.join(\"data\", \"earthpy-downloads\", \n",
    "                           \"avg-monthly-temp-fahr\")"
   ]
  },
  {
   "cell_type": "markdown",
   "id": "068dbecf",
   "metadata": {},
   "source": [
    "## Glob in Python\n",
    "glob is a powerful tool in Python to help with file management and filtering. While os helps manage and create specific paths that are friendly to whatever machine they are used on, glob helps to filter through large datasets and pull out only files that are of interest."
   ]
  },
  {
   "cell_type": "markdown",
   "id": "7ba74591",
   "metadata": {},
   "source": [
    "The glob() function uses the rules of Unix shell to help users organize their files. Unix shell follows fairly straight-forward rules to search for items, which you will explore below."
   ]
  },
  {
   "cell_type": "markdown",
   "id": "26086d48",
   "metadata": {},
   "source": [
    "#### Search for a Specific Folder or File\n",
    "The glob function can be used to find just one folder or file. This can be done by just giving glob the path of the item you are trying to find."
   ]
  },
  {
   "cell_type": "code",
   "execution_count": 22,
   "id": "832809ec",
   "metadata": {},
   "outputs": [
    {
     "data": {
      "text/plain": [
       "['data\\\\earthpy-downloads\\\\avg-monthly-temp-fahr']"
      ]
     },
     "execution_count": 22,
     "metadata": {},
     "output_type": "execute_result"
    }
   ],
   "source": [
    "# Get a specific directory\n",
    "file_list = glob(data_folder)\n",
    "\n",
    "file_list"
   ]
  },
  {
   "cell_type": "markdown",
   "id": "0a37d15a",
   "metadata": {},
   "source": [
    "This is not very useful, as you already have the data path if you are using it to search for something.\n",
    "\n",
    "Notice, however, that glob returns a list of all items that match your search, not as individual strings."
   ]
  },
  {
   "cell_type": "code",
   "execution_count": 23,
   "id": "81a0ba21",
   "metadata": {},
   "outputs": [
    {
     "data": {
      "text/plain": [
       "list"
      ]
     },
     "execution_count": 23,
     "metadata": {},
     "output_type": "execute_result"
    }
   ],
   "source": [
    "type(file_list)"
   ]
  },
  {
   "cell_type": "markdown",
   "id": "336199db",
   "metadata": {},
   "source": [
    "You can also use the glob() function in combination with the os.path.join() function to create lists of paths that are built programmatically."
   ]
  },
  {
   "cell_type": "code",
   "execution_count": 24,
   "id": "629e6b4d",
   "metadata": {},
   "outputs": [
    {
     "data": {
      "text/plain": [
       "['data\\\\earthpy-downloads\\\\avg-monthly-temp-fahr\\\\San-Diego\\\\San-Diego-1999-temp.csv']"
      ]
     },
     "execution_count": 24,
     "metadata": {},
     "output_type": "execute_result"
    }
   ],
   "source": [
    "# Create a list containing a specific file name\n",
    "glob(os.path.join(data_folder, 'San-Diego', 'San-Diego-1999-temp.csv'))"
   ]
  },
  {
   "cell_type": "markdown",
   "id": "2245ff8c",
   "metadata": {},
   "source": [
    "### * Operator\n",
    "glob uses different operators to broaden its searching abilities. The primary operator is *.\n",
    "\n",
    "The * is a sort of wildcard that can be used to search for items that have differences in their names. Whatever text doesn’t match can be replaced by a *.\n",
    "\n",
    "For example, if you want every file in a directory to be returned to you, you can put a * at the end of a directory path.\n",
    "\n",
    "glob will return a list of all of the files in that directory."
   ]
  },
  {
   "cell_type": "code",
   "execution_count": 25,
   "id": "f56ddc5f",
   "metadata": {},
   "outputs": [
    {
     "data": {
      "text/plain": [
       "['data\\\\earthpy-downloads\\\\avg-monthly-temp-fahr\\\\San-Diego',\n",
       " 'data\\\\earthpy-downloads\\\\avg-monthly-temp-fahr\\\\Sonoma']"
      ]
     },
     "execution_count": 25,
     "metadata": {},
     "output_type": "execute_result"
    }
   ],
   "source": [
    "# Get list of all files/dirs in data folder\n",
    "glob(os.path.join(data_folder, '*'))"
   ]
  },
  {
   "cell_type": "code",
   "execution_count": 26,
   "id": "23310b0e",
   "metadata": {},
   "outputs": [
    {
     "data": {
      "text/plain": [
       "['data\\\\earthpy-downloads\\\\avg-monthly-temp-fahr\\\\San-Diego\\\\San-Diego-1999-temp.csv',\n",
       " 'data\\\\earthpy-downloads\\\\avg-monthly-temp-fahr\\\\San-Diego\\\\San-Diego-2000-temp.csv',\n",
       " 'data\\\\earthpy-downloads\\\\avg-monthly-temp-fahr\\\\San-Diego\\\\San-Diego-2001-temp.csv',\n",
       " 'data\\\\earthpy-downloads\\\\avg-monthly-temp-fahr\\\\San-Diego\\\\San-Diego-2002-temp.csv',\n",
       " 'data\\\\earthpy-downloads\\\\avg-monthly-temp-fahr\\\\San-Diego\\\\San-Diego-2003-temp.csv']"
      ]
     },
     "execution_count": 26,
     "metadata": {},
     "output_type": "execute_result"
    }
   ],
   "source": [
    "# Get list of all files/dirs in San-Diego folder\n",
    "glob(os.path.join(data_folder, 'San-Diego', '*'))"
   ]
  },
  {
   "cell_type": "markdown",
   "id": "6cbae399",
   "metadata": {},
   "source": [
    "If you only want .csv files, than *.csv will return every file that ends with .csv."
   ]
  },
  {
   "cell_type": "code",
   "execution_count": 27,
   "id": "2f00eb42",
   "metadata": {
    "scrolled": true
   },
   "outputs": [
    {
     "data": {
      "text/plain": [
       "['data\\\\earthpy-downloads\\\\avg-monthly-temp-fahr\\\\San-Diego\\\\San-Diego-1999-temp.csv',\n",
       " 'data\\\\earthpy-downloads\\\\avg-monthly-temp-fahr\\\\San-Diego\\\\San-Diego-2000-temp.csv',\n",
       " 'data\\\\earthpy-downloads\\\\avg-monthly-temp-fahr\\\\San-Diego\\\\San-Diego-2001-temp.csv',\n",
       " 'data\\\\earthpy-downloads\\\\avg-monthly-temp-fahr\\\\San-Diego\\\\San-Diego-2002-temp.csv',\n",
       " 'data\\\\earthpy-downloads\\\\avg-monthly-temp-fahr\\\\San-Diego\\\\San-Diego-2003-temp.csv']"
      ]
     },
     "execution_count": 27,
     "metadata": {},
     "output_type": "execute_result"
    }
   ],
   "source": [
    "# Get only csv files\n",
    "glob(os.path.join(data_folder, 'San-Diego', '*.csv'))"
   ]
  },
  {
   "cell_type": "markdown",
   "id": "92c09a8a",
   "metadata": {},
   "source": [
    "If you only want .csv files with the number 2 somewhere in the file name, than *2*.csv will return that list."
   ]
  },
  {
   "cell_type": "code",
   "execution_count": 28,
   "id": "3758d2fc",
   "metadata": {},
   "outputs": [
    {
     "data": {
      "text/plain": [
       "['data\\\\earthpy-downloads\\\\avg-monthly-temp-fahr\\\\San-Diego\\\\San-Diego-2000-temp.csv',\n",
       " 'data\\\\earthpy-downloads\\\\avg-monthly-temp-fahr\\\\San-Diego\\\\San-Diego-2001-temp.csv',\n",
       " 'data\\\\earthpy-downloads\\\\avg-monthly-temp-fahr\\\\San-Diego\\\\San-Diego-2002-temp.csv',\n",
       " 'data\\\\earthpy-downloads\\\\avg-monthly-temp-fahr\\\\San-Diego\\\\San-Diego-2003-temp.csv']"
      ]
     },
     "execution_count": 28,
     "metadata": {},
     "output_type": "execute_result"
    }
   ],
   "source": [
    "# Use multiple wildcards\n",
    "glob(os.path.join(data_folder, 'San-Diego', '*2*.csv'))"
   ]
  },
  {
   "cell_type": "markdown",
   "id": "deb17a10",
   "metadata": {},
   "source": [
    "Note that 2*.csv would only return files that start with the number 2."
   ]
  },
  {
   "cell_type": "code",
   "execution_count": 29,
   "id": "151c50c7",
   "metadata": {},
   "outputs": [
    {
     "data": {
      "text/plain": [
       "[]"
      ]
     },
     "execution_count": 29,
     "metadata": {},
     "output_type": "execute_result"
    }
   ],
   "source": [
    "# Create empty list (no file names begin with 2)\n",
    "glob(os.path.join(data_folder, 'San-Diego', '2*.csv'))"
   ]
  },
  {
   "cell_type": "markdown",
   "id": "7f4f42ce",
   "metadata": {},
   "source": [
    "The additional asterix in front of 2 (e.g. *2*.csv) allows the 2 to be anywhere in the path.\n",
    "\n",
    "The * is meant to replace all text that does not matter to your search."
   ]
  },
  {
   "cell_type": "markdown",
   "id": "8d3e3b3b",
   "metadata": {},
   "source": [
    "#### Recursive Searches\n",
    "If you are trying to operate on files across multiple directories, you can use multiple * in a file path to indicate that you want every file in all folders in a directory.\n",
    "\n",
    "The first * is to access all directories in the starting directory (e.g. data_folder).\n",
    "\n",
    "This followed by the second * operator, which loops through all subdirectories to make a list of all their contents."
   ]
  },
  {
   "cell_type": "code",
   "execution_count": 30,
   "id": "d166708a",
   "metadata": {},
   "outputs": [
    {
     "data": {
      "text/plain": [
       "['data\\\\earthpy-downloads\\\\avg-monthly-temp-fahr\\\\San-Diego\\\\San-Diego-1999-temp.csv',\n",
       " 'data\\\\earthpy-downloads\\\\avg-monthly-temp-fahr\\\\San-Diego\\\\San-Diego-2000-temp.csv',\n",
       " 'data\\\\earthpy-downloads\\\\avg-monthly-temp-fahr\\\\San-Diego\\\\San-Diego-2001-temp.csv',\n",
       " 'data\\\\earthpy-downloads\\\\avg-monthly-temp-fahr\\\\San-Diego\\\\San-Diego-2002-temp.csv',\n",
       " 'data\\\\earthpy-downloads\\\\avg-monthly-temp-fahr\\\\San-Diego\\\\San-Diego-2003-temp.csv',\n",
       " 'data\\\\earthpy-downloads\\\\avg-monthly-temp-fahr\\\\Sonoma\\\\Sonoma-1999-temp.csv',\n",
       " 'data\\\\earthpy-downloads\\\\avg-monthly-temp-fahr\\\\Sonoma\\\\Sonoma-2000-temp.csv',\n",
       " 'data\\\\earthpy-downloads\\\\avg-monthly-temp-fahr\\\\Sonoma\\\\Sonoma-2001-temp.csv',\n",
       " 'data\\\\earthpy-downloads\\\\avg-monthly-temp-fahr\\\\Sonoma\\\\Sonoma-2002-temp.csv',\n",
       " 'data\\\\earthpy-downloads\\\\avg-monthly-temp-fahr\\\\Sonoma\\\\Sonoma-2003-temp.csv']"
      ]
     },
     "execution_count": 30,
     "metadata": {},
     "output_type": "execute_result"
    }
   ],
   "source": [
    "# Search recursively through both site folders\n",
    "glob(os.path.join(data_folder, '*', '*'))"
   ]
  },
  {
   "cell_type": "markdown",
   "id": "786abad2",
   "metadata": {},
   "source": [
    "### Sorting glob Lists\n",
    "Notice that the lists provided by glob are not sorted."
   ]
  },
  {
   "cell_type": "code",
   "execution_count": 31,
   "id": "ff20c436",
   "metadata": {},
   "outputs": [
    {
     "data": {
      "text/plain": [
       "['data\\\\earthpy-downloads\\\\avg-monthly-temp-fahr\\\\Sonoma\\\\Sonoma-1999-temp.csv',\n",
       " 'data\\\\earthpy-downloads\\\\avg-monthly-temp-fahr\\\\Sonoma\\\\Sonoma-2000-temp.csv',\n",
       " 'data\\\\earthpy-downloads\\\\avg-monthly-temp-fahr\\\\Sonoma\\\\Sonoma-2001-temp.csv',\n",
       " 'data\\\\earthpy-downloads\\\\avg-monthly-temp-fahr\\\\Sonoma\\\\Sonoma-2002-temp.csv',\n",
       " 'data\\\\earthpy-downloads\\\\avg-monthly-temp-fahr\\\\Sonoma\\\\Sonoma-2003-temp.csv']"
      ]
     },
     "execution_count": 31,
     "metadata": {},
     "output_type": "execute_result"
    }
   ],
   "source": [
    "# Get list of CSVs in Sonoma directory\n",
    "sonoma_files = glob(os.path.join(data_folder, 'Sonoma', '*.csv'))\n",
    "sonoma_files"
   ]
  },
  {
   "cell_type": "markdown",
   "id": "fbf614b8",
   "metadata": {},
   "source": [
    "If it’s important for a list to be in a certain order, then always make sure to sort the list returned by glob using the .sort() method for lists."
   ]
  },
  {
   "cell_type": "code",
   "execution_count": 32,
   "id": "417b573f",
   "metadata": {},
   "outputs": [],
   "source": [
    "# Sort glob list\n",
    "sonoma_files.sort()"
   ]
  },
  {
   "cell_type": "code",
   "execution_count": 33,
   "id": "ba2f1ad3",
   "metadata": {},
   "outputs": [
    {
     "data": {
      "text/plain": [
       "['data\\\\earthpy-downloads\\\\avg-monthly-temp-fahr\\\\Sonoma\\\\Sonoma-1999-temp.csv',\n",
       " 'data\\\\earthpy-downloads\\\\avg-monthly-temp-fahr\\\\Sonoma\\\\Sonoma-2000-temp.csv',\n",
       " 'data\\\\earthpy-downloads\\\\avg-monthly-temp-fahr\\\\Sonoma\\\\Sonoma-2001-temp.csv',\n",
       " 'data\\\\earthpy-downloads\\\\avg-monthly-temp-fahr\\\\Sonoma\\\\Sonoma-2002-temp.csv',\n",
       " 'data\\\\earthpy-downloads\\\\avg-monthly-temp-fahr\\\\Sonoma\\\\Sonoma-2003-temp.csv']"
      ]
     },
     "execution_count": 33,
     "metadata": {},
     "output_type": "execute_result"
    }
   ],
   "source": [
    "# Another option for sorting lists\n",
    "sonoma_files = sorted(glob(os.path.join(data_folder, 'Sonoma', '*.csv')))\n",
    "sonoma_files"
   ]
  },
  {
   "cell_type": "markdown",
   "id": "2f86f323",
   "metadata": {},
   "source": [
    "### Why Sort glob Lists?\n",
    "The order in which glob returns files from a folder can vary drastically. Depending on the operating system being used, or the way the files are stored, different people may get results from a glob list in different orders."
   ]
  },
  {
   "cell_type": "markdown",
   "id": "ffc66d09",
   "metadata": {},
   "source": [
    "For example, consider how sorting a glob list changes what files you access when getting an index from the list, such as index [4] to access the 5th item in the list.\n",
    "\n"
   ]
  },
  {
   "cell_type": "code",
   "execution_count": 34,
   "id": "41cb46a0",
   "metadata": {},
   "outputs": [
    {
     "name": "stdout",
     "output_type": "stream",
     "text": [
      "data\\earthpy-downloads\\avg-monthly-temp-fahr\\Sonoma\\Sonoma-2003-temp.csv\n"
     ]
    }
   ],
   "source": [
    "unsorted_sonoma = glob(os.path.join(data_folder, 'Sonoma', '*'))\n",
    "print(unsorted_sonoma[4])"
   ]
  },
  {
   "cell_type": "code",
   "execution_count": 35,
   "id": "6382bc34",
   "metadata": {},
   "outputs": [
    {
     "name": "stdout",
     "output_type": "stream",
     "text": [
      "data\\earthpy-downloads\\avg-monthly-temp-fahr\\Sonoma\\Sonoma-2003-temp.csv\n"
     ]
    }
   ],
   "source": [
    "# Indexes change once a list is sorted!\n",
    "sorted_sonoma = glob(os.path.join(data_folder, 'Sonoma', '*'))\n",
    "sorted_sonoma.sort() \n",
    "\n",
    "print(sorted_sonoma[4])"
   ]
  },
  {
   "cell_type": "markdown",
   "id": "d171ce64",
   "metadata": {},
   "source": [
    "### Using Ranges\n",
    "In addition to using * to specify which parts of a file name are important to you, you can use [] to specify a range of characters to search for.\n",
    "\n",
    "For example, you can create a search for all files with 2001 to 2003 in the name by using *200 and adding [1-3]* to it."
   ]
  },
  {
   "cell_type": "code",
   "execution_count": 37,
   "id": "dd684dd5",
   "metadata": {},
   "outputs": [
    {
     "data": {
      "text/plain": [
       "['data\\\\earthpy-downloads\\\\avg-monthly-temp-fahr\\\\San-Diego\\\\San-Diego-2001-temp.csv',\n",
       " 'data\\\\earthpy-downloads\\\\avg-monthly-temp-fahr\\\\San-Diego\\\\San-Diego-2002-temp.csv',\n",
       " 'data\\\\earthpy-downloads\\\\avg-monthly-temp-fahr\\\\San-Diego\\\\San-Diego-2003-temp.csv',\n",
       " 'data\\\\earthpy-downloads\\\\avg-monthly-temp-fahr\\\\Sonoma\\\\Sonoma-2001-temp.csv',\n",
       " 'data\\\\earthpy-downloads\\\\avg-monthly-temp-fahr\\\\Sonoma\\\\Sonoma-2002-temp.csv',\n",
       " 'data\\\\earthpy-downloads\\\\avg-monthly-temp-fahr\\\\Sonoma\\\\Sonoma-2003-temp.csv']"
      ]
     },
     "execution_count": 37,
     "metadata": {},
     "output_type": "execute_result"
    }
   ],
   "source": [
    "# Get files for 2001-2003\n",
    "glob(os.path.join(data_folder, '*', '*200[1-3]*'))"
   ]
  },
  {
   "cell_type": "markdown",
   "id": "e084bf20",
   "metadata": {},
   "source": [
    "### ? Operator\n",
    "The ? operator functions similarly to the * operator but is used for a single character.\n",
    "\n",
    "If one character in the file name can be variable, but everything else must stay the same, than ? is a good way to just replace that one character."
   ]
  },
  {
   "cell_type": "code",
   "execution_count": 39,
   "id": "79a0307e",
   "metadata": {},
   "outputs": [
    {
     "data": {
      "text/plain": [
       "['data\\\\earthpy-downloads\\\\avg-monthly-temp-fahr\\\\Sonoma\\\\Sonoma-2000-temp.csv',\n",
       " 'data\\\\earthpy-downloads\\\\avg-monthly-temp-fahr\\\\Sonoma\\\\Sonoma-2001-temp.csv',\n",
       " 'data\\\\earthpy-downloads\\\\avg-monthly-temp-fahr\\\\Sonoma\\\\Sonoma-2002-temp.csv',\n",
       " 'data\\\\earthpy-downloads\\\\avg-monthly-temp-fahr\\\\Sonoma\\\\Sonoma-2003-temp.csv']"
      ]
     },
     "execution_count": 39,
     "metadata": {},
     "output_type": "execute_result"
    }
   ],
   "source": [
    "# ? operator used for last value in year\n",
    "glob(os.path.join(data_folder, 'Sonoma', '*200?-temp.csv'))"
   ]
  },
  {
   "cell_type": "code",
   "execution_count": 40,
   "id": "7d543ec9",
   "metadata": {},
   "outputs": [
    {
     "data": {
      "text/plain": [
       "['data\\\\earthpy-downloads\\\\avg-monthly-temp-fahr\\\\Sonoma\\\\Sonoma-1999-temp.csv']"
      ]
     },
     "execution_count": 40,
     "metadata": {},
     "output_type": "execute_result"
    }
   ],
   "source": [
    "# Multiple ? operators\n",
    "glob(os.path.join(data_folder, 'Sonoma', '*19??-temp.csv'))"
   ]
  },
  {
   "cell_type": "markdown",
   "id": "d2328296",
   "metadata": {},
   "source": [
    "#### Saving a glob Output to a Variable\n",
    "In order to use the output of glob later in a script, be sure to save it to a variable! It can be done easily by just assigning the glob function output a variable name."
   ]
  },
  {
   "cell_type": "code",
   "execution_count": 41,
   "id": "4ac78e34",
   "metadata": {},
   "outputs": [
    {
     "data": {
      "text/plain": [
       "['data\\\\earthpy-downloads\\\\avg-monthly-temp-fahr\\\\San-Diego\\\\San-Diego-1999-temp.csv',\n",
       " 'data\\\\earthpy-downloads\\\\avg-monthly-temp-fahr\\\\San-Diego\\\\San-Diego-2000-temp.csv',\n",
       " 'data\\\\earthpy-downloads\\\\avg-monthly-temp-fahr\\\\San-Diego\\\\San-Diego-2001-temp.csv',\n",
       " 'data\\\\earthpy-downloads\\\\avg-monthly-temp-fahr\\\\San-Diego\\\\San-Diego-2002-temp.csv',\n",
       " 'data\\\\earthpy-downloads\\\\avg-monthly-temp-fahr\\\\San-Diego\\\\San-Diego-2003-temp.csv']"
      ]
     },
     "execution_count": 41,
     "metadata": {},
     "output_type": "execute_result"
    }
   ],
   "source": [
    "sd_data = glob(os.path.join(data_folder, 'San-Diego', '*'))\n",
    "sd_data.sort()\n",
    "\n",
    "sd_data"
   ]
  },
  {
   "cell_type": "markdown",
   "id": "fa9d4745",
   "metadata": {},
   "source": [
    "### os Advanced Functionality\n",
    "os is another very powerful tool and has additional functionality that can be useful when dealing with file paths, such as advanced parsing abilities.\n",
    "\n",
    "For example, os.path.normpath() is a great way to clean up file paths. It takes out any unnecessary characters to make the path more easily read.\n",
    "\n",
    "It is a good way to make sure your path is properly formatted before using other os functions on the path"
   ]
  },
  {
   "cell_type": "code",
   "execution_count": 42,
   "id": "eaaedee4",
   "metadata": {},
   "outputs": [
    {
     "data": {
      "text/plain": [
       "'home\\\\user\\\\example_dir'"
      ]
     },
     "execution_count": 42,
     "metadata": {},
     "output_type": "execute_result"
    }
   ],
   "source": [
    "# Example of normpath cleaning up path\n",
    "example_path = \"home//user//example_dir\"\n",
    "os.path.normpath(example_path)"
   ]
  },
  {
   "cell_type": "markdown",
   "id": "316ae372",
   "metadata": {},
   "source": [
    "os.path.commonpath() is a very useful when combined with glob. This function will take a list of file paths and find the lowest directory that all the files have in common.\n",
    "\n",
    "So if there were two files, one stored in home/user/dir/dir2/example.txt and one stored in home/user/dir/example.txt, then os.path.commonpath() would return home/user/dir as it’s the lowest common directory the two folders share."
   ]
  },
  {
   "cell_type": "code",
   "execution_count": 43,
   "id": "c7a87ec7",
   "metadata": {},
   "outputs": [
    {
     "data": {
      "text/plain": [
       "['data\\\\earthpy-downloads\\\\avg-monthly-temp-fahr\\\\San-Diego\\\\San-Diego-1999-temp.csv',\n",
       " 'data\\\\earthpy-downloads\\\\avg-monthly-temp-fahr\\\\San-Diego\\\\San-Diego-2000-temp.csv',\n",
       " 'data\\\\earthpy-downloads\\\\avg-monthly-temp-fahr\\\\San-Diego\\\\San-Diego-2001-temp.csv',\n",
       " 'data\\\\earthpy-downloads\\\\avg-monthly-temp-fahr\\\\San-Diego\\\\San-Diego-2002-temp.csv',\n",
       " 'data\\\\earthpy-downloads\\\\avg-monthly-temp-fahr\\\\San-Diego\\\\San-Diego-2003-temp.csv']"
      ]
     },
     "execution_count": 43,
     "metadata": {},
     "output_type": "execute_result"
    }
   ],
   "source": [
    "# Print list of files\n",
    "sd_data"
   ]
  },
  {
   "cell_type": "code",
   "execution_count": 44,
   "id": "68aa7dfb",
   "metadata": {},
   "outputs": [
    {
     "data": {
      "text/plain": [
       "'data\\\\earthpy-downloads\\\\avg-monthly-temp-fahr\\\\San-Diego'"
      ]
     },
     "execution_count": 44,
     "metadata": {},
     "output_type": "execute_result"
    }
   ],
   "source": [
    "# Get a shared directory from a list of files\n",
    "os.path.commonpath(sd_data)"
   ]
  },
  {
   "cell_type": "markdown",
   "id": "6c59a1b7",
   "metadata": {},
   "source": [
    "os.path.basename() finds the last section of a path and returns that. If a file path is passed in, the file name will be parsed out and returned."
   ]
  },
  {
   "cell_type": "code",
   "execution_count": 45,
   "id": "a7ad8507",
   "metadata": {},
   "outputs": [
    {
     "data": {
      "text/plain": [
       "'data\\\\earthpy-downloads\\\\avg-monthly-temp-fahr'"
      ]
     },
     "execution_count": 45,
     "metadata": {},
     "output_type": "execute_result"
    }
   ],
   "source": [
    "# Print normalized path\n",
    "os.path.normpath(data_folder)"
   ]
  },
  {
   "cell_type": "code",
   "execution_count": 46,
   "id": "d3ed9fe8",
   "metadata": {},
   "outputs": [
    {
     "data": {
      "text/plain": [
       "'avg-monthly-temp-fahr'"
      ]
     },
     "execution_count": 46,
     "metadata": {},
     "output_type": "execute_result"
    }
   ],
   "source": [
    "# Get the last part of a file path with basename\n",
    "os.path.basename(os.path.normpath(data_folder))"
   ]
  },
  {
   "cell_type": "markdown",
   "id": "a5359aa0",
   "metadata": {},
   "source": [
    "os.path.split() will split a path into two parts:\n",
    "\n",
    "- the last part of the path.\n",
    "- the rest of the path.\n",
    "\n",
    "It returns the same output as os.path.basename() with the addition of the rest of the path that was left out as another ."
   ]
  },
  {
   "cell_type": "code",
   "execution_count": 47,
   "id": "ae253a10",
   "metadata": {},
   "outputs": [
    {
     "data": {
      "text/plain": [
       "('data\\\\earthpy-downloads', 'avg-monthly-temp-fahr')"
      ]
     },
     "execution_count": 47,
     "metadata": {},
     "output_type": "execute_result"
    }
   ],
   "source": [
    "# Get the last part of a file path and the rest of the path\n",
    "os.path.split(os.path.normpath(data_folder))"
   ]
  },
  {
   "cell_type": "markdown",
   "id": "c421f35c",
   "metadata": {},
   "source": [
    "You can then use indexing on the result to get each piece of the split path."
   ]
  },
  {
   "cell_type": "code",
   "execution_count": 48,
   "id": "d66691f4",
   "metadata": {},
   "outputs": [
    {
     "data": {
      "text/plain": [
       "'data\\\\earthpy-downloads'"
      ]
     },
     "execution_count": 48,
     "metadata": {},
     "output_type": "execute_result"
    }
   ],
   "source": [
    "os.path.split(os.path.normpath(data_folder))[0]"
   ]
  },
  {
   "cell_type": "code",
   "execution_count": 49,
   "id": "3d56c8cb",
   "metadata": {},
   "outputs": [
    {
     "data": {
      "text/plain": [
       "'avg-monthly-temp-fahr'"
      ]
     },
     "execution_count": 49,
     "metadata": {},
     "output_type": "execute_result"
    }
   ],
   "source": [
    "os.path.split(os.path.normpath(data_folder))[1]"
   ]
  },
  {
   "cell_type": "markdown",
   "id": "fb45f99a",
   "metadata": {},
   "source": [
    "## String Manipulation\n",
    "Recall that when you create a file path using os.path.join(), it will properly format a string of the file path, so it can be used on any operating systems.\n",
    "\n",
    "Note, however, that the file path is still just a string. Thus, you can parse file paths, just like you would strings, and extract information from them that you may need for a project.\n",
    "\n",
    ".split() is a built-in Python function that splits a string into a list of strings based on a separator character, and can be used in combination with os.sep to separate directories in file paths into their base parts. os.sepis a data value stored in os that will return the character used to separate pathname components, such as directory or file names. This is \\\\ for Windows and / for POSIX systems, such as Mac or Linux."
   ]
  },
  {
   "cell_type": "code",
   "execution_count": 51,
   "id": "5e798745",
   "metadata": {},
   "outputs": [
    {
     "data": {
      "text/plain": [
       "['data', 'earthpy-downloads', 'avg-monthly-temp-fahr']"
      ]
     },
     "execution_count": 51,
     "metadata": {},
     "output_type": "execute_result"
    }
   ],
   "source": [
    "# Separate a path into parts\n",
    "file_path_list = data_folder.split(os.sep)\n",
    "file_path_list"
   ]
  },
  {
   "cell_type": "code",
   "execution_count": 52,
   "id": "18a439c3",
   "metadata": {},
   "outputs": [
    {
     "data": {
      "text/plain": [
       "'avg-monthly-temp-fahr'"
      ]
     },
     "execution_count": 52,
     "metadata": {},
     "output_type": "execute_result"
    }
   ],
   "source": [
    "file_path_list[2]"
   ]
  },
  {
   "cell_type": "markdown",
   "id": "d86f57b4",
   "metadata": {},
   "source": [
    "In addition to built-in functions, file paths can be parsed with string[start_index:end_index] like a normal string. This can help get important infromation from a file path, such as a date."
   ]
  },
  {
   "cell_type": "code",
   "execution_count": 54,
   "id": "c838a589",
   "metadata": {},
   "outputs": [
    {
     "data": {
      "text/plain": [
       "['data\\\\earthpy-downloads\\\\avg-monthly-temp-fahr\\\\San-Diego\\\\San-Diego-1999-temp.csv',\n",
       " 'data\\\\earthpy-downloads\\\\avg-monthly-temp-fahr\\\\San-Diego\\\\San-Diego-2000-temp.csv',\n",
       " 'data\\\\earthpy-downloads\\\\avg-monthly-temp-fahr\\\\San-Diego\\\\San-Diego-2001-temp.csv',\n",
       " 'data\\\\earthpy-downloads\\\\avg-monthly-temp-fahr\\\\San-Diego\\\\San-Diego-2002-temp.csv',\n",
       " 'data\\\\earthpy-downloads\\\\avg-monthly-temp-fahr\\\\San-Diego\\\\San-Diego-2003-temp.csv']"
      ]
     },
     "execution_count": 54,
     "metadata": {},
     "output_type": "execute_result"
    }
   ],
   "source": [
    "# Print list of files\n",
    "sd_data"
   ]
  },
  {
   "cell_type": "code",
   "execution_count": 55,
   "id": "26c3b31a",
   "metadata": {},
   "outputs": [
    {
     "name": "stdout",
     "output_type": "stream",
     "text": [
      "San-Diego-1999-temp.csv\n"
     ]
    }
   ],
   "source": [
    "# Get file name\n",
    "year_path = sd_data[0]\n",
    "file_name = os.path.basename(year_path)\n",
    "print(file_name)"
   ]
  },
  {
   "cell_type": "code",
   "execution_count": 56,
   "id": "a2697190",
   "metadata": {},
   "outputs": [
    {
     "name": "stdout",
     "output_type": "stream",
     "text": [
      "1999\n"
     ]
    }
   ],
   "source": [
    "# Parse a date from file name\n",
    "year = file_name[10:14]\n",
    "print(year)"
   ]
  },
  {
   "cell_type": "markdown",
   "id": "c84dd275",
   "metadata": {},
   "source": [
    "Notice that the range includes the first index value but not the second index value (e.g. 1999 are index values 10 through 13)."
   ]
  }
 ],
 "metadata": {
  "kernelspec": {
   "display_name": "Python 3",
   "language": "python",
   "name": "python3"
  },
  "language_info": {
   "codemirror_mode": {
    "name": "ipython",
    "version": 3
   },
   "file_extension": ".py",
   "mimetype": "text/x-python",
   "name": "python",
   "nbconvert_exporter": "python",
   "pygments_lexer": "ipython3",
   "version": "3.9.4"
  }
 },
 "nbformat": 4,
 "nbformat_minor": 5
}
