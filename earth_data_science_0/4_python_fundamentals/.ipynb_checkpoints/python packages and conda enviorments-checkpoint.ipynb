{
 "cells": [
  {
   "cell_type": "markdown",
   "id": "3afca9c8",
   "metadata": {},
   "source": [
    "### What is a Python Package\n",
    "In Python, a package is a bundle of pre-built functionality that adds to the functionality available in base Python. Base Python can do many things such as perform math and other operations. However, Python packages can significantly extend this functionality.\n",
    "\n",
    "You can think of a Python package as a toolbox filled with tools. The tools in the toolbox can be used to do things that you would have to otherwise hand code in base Python. These tasks are things that many people might want to do in Python, thus warranting the creation of a package. After all, it doesn’t make sense for everyone to hand code everything!\n",
    "\n",
    "For example, the matplotlib package allows you to create plots of data. "
   ]
  },
  {
   "cell_type": "markdown",
   "id": "3db67def",
   "metadata": {},
   "source": [
    "- os: handle files and directories.\n",
    "- glob: create lists of files and directories for batch processing.\n",
    "- matplotlib: plot data.\n",
    "- numpy: work with data in array formats (often related to imagery and raster format data).\n",
    "- pandas: work with tabular data in a DataFrame format.\n",
    "- rasterio: work with raster (image and arrays) data.\n",
    "- geopandas: work with vector format (shapefiles, geojson - points, lines and polygons) using a geodataframe format.\n",
    "- earthpy: plot and manipulate spatial data (raster and vector)."
   ]
  },
  {
   "cell_type": "markdown",
   "id": "b2b5388c",
   "metadata": {},
   "source": [
    "#Alias\n",
    "package.module\talias\n",
    "\n",
    "matplotlib\tmpl\n",
    "\n",
    "matplotlib.pyplot\tplt\n",
    "\n",
    "numpy\tnp\n",
    "\n",
    "pandas\tpd\n",
    "\n",
    "rasterio\trio\n",
    "\n",
    "geopandas\tgpd\n",
    "\n",
    "earthpy\tet"
   ]
  },
  {
   "cell_type": "markdown",
   "id": "350b4544",
   "metadata": {},
   "source": [
    "# 2. Use Conda Environments to Manage Python Dependencies: "
   ]
  },
  {
   "cell_type": "markdown",
   "id": "1f1d00e6",
   "metadata": {},
   "source": [
    "In Python, regardless of what project you are working on, your computer will store third party libraries in the same location. This means that if you depend on GDAL 2.4.2 in an older project and GDAL 3.0.1 in your brand new project, you will need a way to store these dependencies separately. If they aren’t stored separately, Python will not be able to tell the difference between the two that are both installed in the same location."
   ]
  },
  {
   "cell_type": "markdown",
   "id": "e5a07dca",
   "metadata": {},
   "source": [
    "#### Python Environments\n",
    "A Python environment is a dedicated directory where specific dependencies can be stored and maintained. Environments have unique names and can be activated when you need them, allowing you to have ultimate control over the libraries that are installed at any given time.\n",
    "\n",
    "You can create as many environments as you want. Because each one is independent, they will not interact or “mess up” the other. Thus, it is common for programmers to create new environments for each project that they work on.\n",
    "\n",
    "Often times, information about your environment can assist you in debugging certain errors. Starting with a clean environment for each project can help you control the number of variables to consider when looking for bugs.\n",
    "\n",
    "When it comes to creating environments, you have two choices:\n",
    "\n",
    "- you can create a virtual environment (venv) using pip to install packages or\n",
    "- create a conda environment with conda installing packages for you.\n",
    "\n",
    "On this page, you will learn about conda environments due to several strengths that it has, as compared to *pip and virtual environments."
   ]
  },
  {
   "cell_type": "markdown",
   "id": "757364a4",
   "metadata": {},
   "source": [
    "#### What is Conda\n",
    "Conda is a package and environment management tool that allows you to install Python packages on your computer as well as create and manage multiple Python environments, each containing different packages"
   ]
  },
  {
   "cell_type": "markdown",
   "id": "7101e116",
   "metadata": {},
   "source": [
    "There are several reasons that make conda such a strong contender for managing your Python environments over pip.\n",
    "\n",
    "- 1. Conda is Cross Platform\n",
    "Libraries available on conda are stored on the Anaconda Cloud and can easily be installed on any system. Conda libraries are stored as binary files, which makes them easy for conda to unpack anywhere you have Anaconda or Miniconda installed.\n",
    "\n",
    "Pip packages, on the other hand, are stored in a more more complex way (as wheels or source distributions). This storage format requires a compiler to unpack. This means that you need to have Python installed to install packages with pip, which brings up the next point.\n",
    "\n",
    "- 2. Conda Can Install Specific Versions of Python\n",
    "Conda allows you to install and run a specific version of Python. Anything installed with pip requires a wheel or source distribution for the Python compiler to break down.\n",
    "\n",
    "Unfortunately, this means that pip cannot directly install versions of Python. It also means that you have to install your preferred Python distribution before even starting the process of working with a new virtual environment.\n",
    "\n",
    "- 3. Environments are Native to Conda\n",
    "As discussed previously, when using pip, you must use a virtual environment as your environment for managing dependencies. However, virtualenv is a Python library itself. With some configuration and other wrappers, virtual environments can provide a satisfactory development environment, but conda environments are ready to go from the get go.\n",
    "\n",
    "- 4. Conda is Better at Dependency Management\n",
    "Pip makes no attempt to check if all of your dependencies are satisfied at once. Instead, pip may allow incompatible dependencies to be installed depending on the order you install packages.\n",
    "\n",
    "Conda instead uses what they call a “satisfiability solver”, which checks that all dependencies are met at all times. This comes with a performance hit due to having to comb through every dependency on each install, but will save you headaches down the road.\n",
    "\n",
    "- 5. Conda Manages External Dependencies\n",
    "Pip is lacking when it comes to managing and tracking external dependencies and accessing all of the available libraries out there."
   ]
  },
  {
   "cell_type": "markdown",
   "id": "ab7017ce",
   "metadata": {},
   "source": [
    "**GDAL** is a prime example of a package that can be installed easily through conda, but is difficult to install any other way. Part of this is due to the fact that GDAL is not a native Python application, and conda has a much easier time dealing with that."
   ]
  },
  {
   "cell_type": "markdown",
   "id": "7ed46a59",
   "metadata": {},
   "source": [
    " Data Tip: Sometimes Python libraries are on Github.com. You can install Python libraries from Github.com using pip install git+git://github.com/path-to-github-user/repo-name.git"
   ]
  },
  {
   "cell_type": "markdown",
   "id": "a1b839b4",
   "metadata": {},
   "source": [
    "**conda-forge**: This channel is community maintained, and we have found that installing many of the spatial packages using conda-forge will minimize conflicts between packages. To install libraries from conda-forge, you use the syntax conda install -c conda-forge package-name at the command line."
   ]
  },
  {
   "cell_type": "markdown",
   "id": "a8cae6e7",
   "metadata": {},
   "source": [
    "#### Conda-Forge\n",
    "The Python community has responded to this mixing channel issue and created a community managed channel that solves the channel mixing issues associated with default conda channels. This community managed channel is called conda-forge.\n",
    "\n",
    "Conda-forge has thousands of contributers and functions very similar to PyPi (pip’s central package repository). Conda-forge mandates that your dependencies all be installed via conda-forge or the default channels. By requiring packages to be installed via conda-forge by default, any package installed via conda-forge should not have issues with mixing channels of dependencies.\n",
    "\n",
    "Conda-forge aims to do better than PyPi by providing an automated testing suite along with more peer review of code before it is published. These extra rules make conda-forge an ideal choice for creating Python environments for science."
   ]
  },
  {
   "cell_type": "markdown",
   "id": "c9e18d7a",
   "metadata": {},
   "source": [
    "# Lesson 3. Install Packages in Python"
   ]
  },
  {
   "cell_type": "markdown",
   "id": "2609e124",
   "metadata": {},
   "source": [
    "## Create Conda Environments"
   ]
  },
  {
   "cell_type": "markdown",
   "id": "ad78e7f2",
   "metadata": {},
   "source": [
    "$ conda create -n myenv"
   ]
  },
  {
   "cell_type": "markdown",
   "id": "f2b1d267",
   "metadata": {},
   "source": [
    "conda create -n myenv Python=3.7"
   ]
  },
  {
   "cell_type": "markdown",
   "id": "0cd9bc98",
   "metadata": {},
   "source": [
    "conda env list"
   ]
  },
  {
   "cell_type": "markdown",
   "id": "7d4da70d",
   "metadata": {},
   "source": [
    " conda activate myenv"
   ]
  },
  {
   "cell_type": "markdown",
   "id": "6deaac1b",
   "metadata": {},
   "source": [
    " conda install -c conda-forge earthpy\n"
   ]
  },
  {
   "cell_type": "markdown",
   "id": "7b1465c8",
   "metadata": {},
   "source": [
    "Here, the -c means --channel and tells conda to use the conda-forge channel when installing earthpy."
   ]
  },
  {
   "cell_type": "markdown",
   "id": "301b7094",
   "metadata": {},
   "source": [
    "List Installed Dependencies Within an Environment\n",
    "\n",
    "conda list"
   ]
  },
  {
   "cell_type": "markdown",
   "id": "e00f6aae",
   "metadata": {},
   "source": [
    "The results of conda list will show you:\n",
    "\n",
    "- What packages are installed\n",
    "- What version of each package is installed\n",
    "- Which channel you installed each package from (pip, conda, conda-forge)"
   ]
  },
  {
   "cell_type": "markdown",
   "id": "88c3c7b0",
   "metadata": {},
   "source": [
    "Conda list is also a great way to create a list to share your environment specs with other users online."
   ]
  },
  {
   "cell_type": "code",
   "execution_count": null,
   "id": "d144d5b5",
   "metadata": {},
   "outputs": [],
   "source": []
  }
 ],
 "metadata": {
  "kernelspec": {
   "display_name": "Python 3",
   "language": "python",
   "name": "python3"
  },
  "language_info": {
   "codemirror_mode": {
    "name": "ipython",
    "version": 3
   },
   "file_extension": ".py",
   "mimetype": "text/x-python",
   "name": "python",
   "nbconvert_exporter": "python",
   "pygments_lexer": "ipython3",
   "version": "3.9.4"
  }
 },
 "nbformat": 4,
 "nbformat_minor": 5
}
