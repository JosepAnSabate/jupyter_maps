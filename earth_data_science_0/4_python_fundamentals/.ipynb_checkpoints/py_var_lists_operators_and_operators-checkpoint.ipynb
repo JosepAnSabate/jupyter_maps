{
 "cells": [
  {
   "cell_type": "markdown",
   "id": "320a2ad6",
   "metadata": {},
   "source": [
    "Object-Oriented: Python is most often used in an object-oriented way, which allows data to be stored as objects that have unique characteristics and functionality. "
   ]
  },
  {
   "cell_type": "markdown",
   "id": "c2d80997",
   "metadata": {},
   "source": [
    "#### Write Scripts That Can Run in the terminal\n",
    "Alternatively, a more efficient approach to using the terminal with Python is to write Python scripts. These script files have a .py extension. You can then call the script at the terminal using:\n",
    "\n",
    "$ # Execute a python script named myscript.py at the command line\n",
    "\n",
    "$ python myscript.py"
   ]
  },
  {
   "cell_type": "markdown",
   "id": "41b9b6e4",
   "metadata": {},
   "source": [
    "#### What are Variables in Python?\n",
    "A variable in programming is used to store information that you want to re-use in your code. Examples of things that you may wish to save in your code include:\n",
    "\n",
    "- numeric values\n",
    "- filenames\n",
    "- paths\n",
    "- or even larger datasets such as a remote sensing image or a terrain model"
   ]
  },
  {
   "cell_type": "code",
   "execution_count": 1,
   "id": "51a2dd8b",
   "metadata": {},
   "outputs": [
    {
     "data": {
      "text/plain": [
       "5"
      ]
     },
     "execution_count": 1,
     "metadata": {},
     "output_type": "execute_result"
    }
   ],
   "source": [
    "# Try it out\n",
    "my_variable = 5\n",
    "\n",
    "my_variable"
   ]
  },
  {
   "cell_type": "markdown",
   "id": "7007c4ba",
   "metadata": {},
   "source": [
    "### About Data Types in Python\n",
    "Python data types are important to understand when coding. Below you will learn more about the different types of variables that you can store including:\n",
    "\n",
    "- Numbers (integers and floats)\n",
    "- Strings (letters / characters and words)"
   ]
  },
  {
   "cell_type": "markdown",
   "id": "b6325f74",
   "metadata": {},
   "source": [
    "#### Numeric Variables in Python\n",
    "In Python, you can create variables to store numeric values such as integers (int) which represent whole numbers and floating point numbers which represent decimal values (float)."
   ]
  },
  {
   "cell_type": "code",
   "execution_count": 2,
   "id": "91cf5110",
   "metadata": {},
   "outputs": [
    {
     "data": {
      "text/plain": [
       "int"
      ]
     },
     "execution_count": 2,
     "metadata": {},
     "output_type": "execute_result"
    }
   ],
   "source": [
    "type(my_variable)"
   ]
  },
  {
   "cell_type": "code",
   "execution_count": 3,
   "id": "5ce30486",
   "metadata": {},
   "outputs": [
    {
     "data": {
      "text/plain": [
       "20.23"
      ]
     },
     "execution_count": 3,
     "metadata": {},
     "output_type": "execute_result"
    }
   ],
   "source": [
    "boulder_precip_float = 20.23\n",
    "\n",
    "boulder_precip_float"
   ]
  },
  {
   "cell_type": "markdown",
   "id": "7840fc46",
   "metadata": {},
   "source": [
    "##### Check Variable Type"
   ]
  },
  {
   "cell_type": "code",
   "execution_count": 4,
   "id": "ad3b07dd",
   "metadata": {},
   "outputs": [
    {
     "data": {
      "text/plain": [
       "float"
      ]
     },
     "execution_count": 4,
     "metadata": {},
     "output_type": "execute_result"
    }
   ],
   "source": [
    "type(boulder_precip_float)"
   ]
  },
  {
   "cell_type": "markdown",
   "id": "26eed93b",
   "metadata": {},
   "source": [
    "#### How to Store Text Variables: Strings in Python\n",
    "To create a variable containing a text string (str), you use quotation marks (\"\") around the value. For example:\n",
    "\n",
    "variable_name = \"text\""
   ]
  },
  {
   "cell_type": "code",
   "execution_count": 5,
   "id": "8c110e27",
   "metadata": {},
   "outputs": [
    {
     "data": {
      "text/plain": [
       "'Boulder, CO is the home of the University of Colorado, Boulder campus.'"
      ]
     },
     "execution_count": 5,
     "metadata": {},
     "output_type": "execute_result"
    }
   ],
   "source": [
    "city_description = \"Boulder, CO is the home of the University of Colorado, Boulder campus.\"\n",
    "\n",
    "city_description"
   ]
  },
  {
   "cell_type": "code",
   "execution_count": 6,
   "id": "79e1f3e3",
   "metadata": {},
   "outputs": [
    {
     "name": "stdout",
     "output_type": "stream",
     "text": [
      "75 75.0\n"
     ]
    }
   ],
   "source": [
    "# Run the code below - what does the float() function do? \n",
    "a = 75\n",
    "b = float(a)\n",
    "print(a, b)"
   ]
  },
  {
   "cell_type": "code",
   "execution_count": 8,
   "id": "c219d2d4",
   "metadata": {},
   "outputs": [],
   "source": [
    "a = 5\n",
    "b = 3\n",
    "c = a/b"
   ]
  },
  {
   "cell_type": "code",
   "execution_count": 10,
   "id": "26b9d772",
   "metadata": {},
   "outputs": [
    {
     "data": {
      "text/plain": [
       "float"
      ]
     },
     "execution_count": 10,
     "metadata": {},
     "output_type": "execute_result"
    }
   ],
   "source": [
    "type(c)"
   ]
  },
  {
   "cell_type": "markdown",
   "id": "add8f1bc",
   "metadata": {},
   "source": [
    "## Lists in Python\n"
   ]
  },
  {
   "cell_type": "code",
   "execution_count": 11,
   "id": "df94b3be",
   "metadata": {},
   "outputs": [
    {
     "data": {
      "text/plain": [
       "[1, 0.7, 'January']"
      ]
     },
     "execution_count": 11,
     "metadata": {},
     "output_type": "execute_result"
    }
   ],
   "source": [
    "jan = 0.70\n",
    "\n",
    "boulder_avg_precip = [1, jan, \"January\"]\n",
    "\n",
    "boulder_avg_precip"
   ]
  },
  {
   "cell_type": "code",
   "execution_count": 12,
   "id": "c788b936",
   "metadata": {},
   "outputs": [
    {
     "data": {
      "text/plain": [
       "0.7"
      ]
     },
     "execution_count": 12,
     "metadata": {},
     "output_type": "execute_result"
    }
   ],
   "source": [
    "boulder_avg_precip[1]"
   ]
  },
  {
   "cell_type": "code",
   "execution_count": 13,
   "id": "9e78b8f0",
   "metadata": {},
   "outputs": [
    {
     "data": {
      "text/plain": [
       "['January', 'February', 'March']"
      ]
     },
     "execution_count": 13,
     "metadata": {},
     "output_type": "execute_result"
    }
   ],
   "source": [
    "months = [\"January\", \"February\", \"March\"]\n",
    "\n",
    "months"
   ]
  },
  {
   "cell_type": "code",
   "execution_count": 14,
   "id": "6228813e",
   "metadata": {},
   "outputs": [
    {
     "data": {
      "text/plain": [
       "list"
      ]
     },
     "execution_count": 14,
     "metadata": {},
     "output_type": "execute_result"
    }
   ],
   "source": [
    "type(months)"
   ]
  },
  {
   "cell_type": "code",
   "execution_count": 15,
   "id": "944967aa",
   "metadata": {},
   "outputs": [
    {
     "name": "stdout",
     "output_type": "stream",
     "text": [
      "The length of the months list is: 3\n"
     ]
    }
   ],
   "source": [
    "print(\"The length of the months list is:\", len(months))"
   ]
  },
  {
   "cell_type": "markdown",
   "id": "456d612b",
   "metadata": {},
   "source": [
    "#### Update Items in Python Lists"
   ]
  },
  {
   "cell_type": "code",
   "execution_count": 16,
   "id": "ea7bf570",
   "metadata": {},
   "outputs": [
    {
     "data": {
      "text/plain": [
       "['January', 'Feb', 'March']"
      ]
     },
     "execution_count": 16,
     "metadata": {},
     "output_type": "execute_result"
    }
   ],
   "source": [
    "months[1] = \"Feb\"\n",
    "\n",
    "months"
   ]
  },
  {
   "cell_type": "markdown",
   "id": "929eaab6",
   "metadata": {},
   "source": [
    "#### Insert Items into Lists\n"
   ]
  },
  {
   "cell_type": "code",
   "execution_count": 22,
   "id": "9ac1c98c",
   "metadata": {},
   "outputs": [
    {
     "data": {
      "text/plain": [
       "'February'"
      ]
     },
     "execution_count": 22,
     "metadata": {},
     "output_type": "execute_result"
    }
   ],
   "source": [
    "# Month list missing the first value for January\n",
    "months = [\"February\"]\n",
    "\n",
    "# Check index value at 0\n",
    "months[0]"
   ]
  },
  {
   "cell_type": "code",
   "execution_count": 23,
   "id": "f0ac2188",
   "metadata": {},
   "outputs": [
    {
     "data": {
      "text/plain": [
       "['January', 'February']"
      ]
     },
     "execution_count": 23,
     "metadata": {},
     "output_type": "execute_result"
    }
   ],
   "source": [
    "# Modify list to add January at the beginning\n",
    "months.insert(0, \"January\")\n",
    "\n",
    "months"
   ]
  },
  {
   "cell_type": "markdown",
   "id": "29dc03c0",
   "metadata": {},
   "source": [
    "#### Append an Item to a Python List\n",
    "To add an item to the **end of a list**, you can use the .append()"
   ]
  },
  {
   "cell_type": "code",
   "execution_count": 24,
   "id": "2cf26d03",
   "metadata": {},
   "outputs": [
    {
     "data": {
      "text/plain": [
       "['January', 'February', 'March']"
      ]
     },
     "execution_count": 24,
     "metadata": {},
     "output_type": "execute_result"
    }
   ],
   "source": [
    "months.append(\"March\")\n",
    "\n",
    "months"
   ]
  },
  {
   "cell_type": "markdown",
   "id": "1955e12d",
   "metadata": {},
   "source": [
    "####  Delete Items From a Python List"
   ]
  },
  {
   "cell_type": "code",
   "execution_count": 20,
   "id": "0f7bf993",
   "metadata": {},
   "outputs": [
    {
     "data": {
      "text/plain": [
       "['January', 'February']"
      ]
     },
     "execution_count": 20,
     "metadata": {},
     "output_type": "execute_result"
    }
   ],
   "source": [
    "del months[2]\n",
    "\n",
    "months"
   ]
  },
  {
   "cell_type": "code",
   "execution_count": 21,
   "id": "d4b27553",
   "metadata": {},
   "outputs": [
    {
     "data": {
      "text/plain": [
       "['January', 'February', 'March']"
      ]
     },
     "execution_count": 21,
     "metadata": {},
     "output_type": "execute_result"
    }
   ],
   "source": [
    "months.append(\"March\")\n",
    "\n",
    "months"
   ]
  },
  {
   "cell_type": "markdown",
   "id": "4529fce5",
   "metadata": {},
   "source": [
    "#### Add Items to List\n",
    "You can also add items to a list using the addition operation +.\n",
    "\n",
    "For example, you can add items to the beginning of a list using the following syntax:\n",
    "\n",
    "listname = [value] + listname"
   ]
  },
  {
   "cell_type": "markdown",
   "id": "384929fa",
   "metadata": {},
   "source": [
    "##### inici"
   ]
  },
  {
   "cell_type": "code",
   "execution_count": 26,
   "id": "d1825034",
   "metadata": {},
   "outputs": [
    {
     "data": {
      "text/plain": [
       "[-9999, 'January', 'February', 'March']"
      ]
     },
     "execution_count": 26,
     "metadata": {},
     "output_type": "execute_result"
    }
   ],
   "source": [
    "additemslist = [-9999] + months\n",
    "\n",
    "additemslist"
   ]
  },
  {
   "cell_type": "markdown",
   "id": "c5249afa",
   "metadata": {},
   "source": [
    "#####  final"
   ]
  },
  {
   "cell_type": "code",
   "execution_count": 29,
   "id": "24426c45",
   "metadata": {},
   "outputs": [
    {
     "data": {
      "text/plain": [
       "[-9999, 'January', 'February', 'March', 'xxx']"
      ]
     },
     "execution_count": 29,
     "metadata": {},
     "output_type": "execute_result"
    }
   ],
   "source": [
    "additemslist += ['xxx']\n",
    "\n",
    "additemslist"
   ]
  },
  {
   "cell_type": "markdown",
   "id": "fcfcc195",
   "metadata": {},
   "source": [
    "#### Create a List of Lists"
   ]
  },
  {
   "cell_type": "code",
   "execution_count": 27,
   "id": "88f401de",
   "metadata": {},
   "outputs": [
    {
     "data": {
      "text/plain": [
       "[[1, 2, 3], [8, 9, 10]]"
      ]
     },
     "execution_count": 27,
     "metadata": {},
     "output_type": "execute_result"
    }
   ],
   "source": [
    "list_of_lists = [[1,2,3], [8,9,10]]\n",
    "list_of_lists"
   ]
  },
  {
   "cell_type": "code",
   "execution_count": 28,
   "id": "d7e0b920",
   "metadata": {},
   "outputs": [
    {
     "data": {
      "text/plain": [
       "2"
      ]
     },
     "execution_count": 28,
     "metadata": {},
     "output_type": "execute_result"
    }
   ],
   "source": [
    "# The syntax for accessing the second item in the first sublist is as follows:\n",
    "list_of_lists[0][1]"
   ]
  },
  {
   "cell_type": "markdown",
   "id": "8b977602",
   "metadata": {},
   "source": [
    "# 4. Basic Operators in Python "
   ]
  },
  {
   "cell_type": "markdown",
   "id": "8bf4ea06",
   "metadata": {},
   "source": [
    "#### Arithmetic Operators In Python\n",
    "In Python, there are many arithmetic operations that can be completed, including operators for:\n",
    "\n",
    "- addition (+)\n",
    "- subtraction (-)\n",
    "- multiplication (*)\n",
    "- division (/)\n",
    "- exponents (**)\n"
   ]
  },
  {
   "cell_type": "code",
   "execution_count": 30,
   "id": "cc09ae53",
   "metadata": {},
   "outputs": [
    {
     "data": {
      "text/plain": [
       "17.779999999999998"
      ]
     },
     "execution_count": 30,
     "metadata": {},
     "output_type": "execute_result"
    }
   ],
   "source": [
    "jan_precip = 0.70\n",
    "inches_to_mm = 25.4\n",
    "\n",
    "jan_precip *= inches_to_mm\n",
    "\n",
    "jan_precip"
   ]
  },
  {
   "cell_type": "code",
   "execution_count": 31,
   "id": "242e409b",
   "metadata": {},
   "outputs": [
    {
     "data": {
      "text/plain": [
       "['January', 'February']"
      ]
     },
     "execution_count": 31,
     "metadata": {},
     "output_type": "execute_result"
    }
   ],
   "source": [
    "months = [\"January\", \"February\"]\n",
    "\n",
    "months"
   ]
  },
  {
   "cell_type": "code",
   "execution_count": 32,
   "id": "7695c28c",
   "metadata": {},
   "outputs": [
    {
     "data": {
      "text/plain": [
       "['January', 'February', 'March', 'April']"
      ]
     },
     "execution_count": 32,
     "metadata": {},
     "output_type": "execute_result"
    }
   ],
   "source": [
    "months += [\"March\", \"April\"]\n",
    "\n",
    "months"
   ]
  },
  {
   "cell_type": "markdown",
   "id": "99b00119",
   "metadata": {},
   "source": [
    "#### Relational Operators in Python\n",
    "- equal (==)\n",
    "- not equal (!=)\n",
    "- greater than (>)\n",
    "- greater than or equal (>=)\n",
    "- less than (<)\n",
    "- less than or equal (<=)\n"
   ]
  },
  {
   "cell_type": "code",
   "execution_count": 35,
   "id": "164f8206",
   "metadata": {},
   "outputs": [
    {
     "data": {
      "text/plain": [
       "True"
      ]
     },
     "execution_count": 35,
     "metadata": {},
     "output_type": "execute_result"
    }
   ],
   "source": [
    "3 < 4"
   ]
  },
  {
   "cell_type": "code",
   "execution_count": 36,
   "id": "01d08d5c",
   "metadata": {},
   "outputs": [
    {
     "data": {
      "text/plain": [
       "True"
      ]
     },
     "execution_count": 36,
     "metadata": {},
     "output_type": "execute_result"
    }
   ],
   "source": [
    "3 == 3"
   ]
  },
  {
   "cell_type": "code",
   "execution_count": 37,
   "id": "bcb950dc",
   "metadata": {},
   "outputs": [
    {
     "data": {
      "text/plain": [
       "True"
      ]
     },
     "execution_count": 37,
     "metadata": {},
     "output_type": "execute_result"
    }
   ],
   "source": [
    "3 != 4"
   ]
  },
  {
   "cell_type": "code",
   "execution_count": 38,
   "id": "becef9cb",
   "metadata": {},
   "outputs": [
    {
     "data": {
      "text/plain": [
       "True"
      ]
     },
     "execution_count": 38,
     "metadata": {},
     "output_type": "execute_result"
    }
   ],
   "source": [
    "is_greater = (3 > 2)\n",
    "\n",
    "is_greater\n"
   ]
  },
  {
   "cell_type": "code",
   "execution_count": 40,
   "id": "38e546bf",
   "metadata": {},
   "outputs": [],
   "source": [
    "#rainfall = 3\n",
    "\n",
    "#if rainfall > 2:\n",
    "    # Perform some calculation "
   ]
  },
  {
   "cell_type": "markdown",
   "id": "0c33a3d2",
   "metadata": {},
   "source": [
    "#### Membership Operators in Python\n",
    "A membership operator, such as **in**, will **check if one item contains another item**. This can be useful with strings, lists, or other data storage objects that you will learn about in later lessons, such as dataframes."
   ]
  },
  {
   "cell_type": "code",
   "execution_count": 41,
   "id": "4757f88b",
   "metadata": {},
   "outputs": [
    {
     "data": {
      "text/plain": [
       "True"
      ]
     },
     "execution_count": 41,
     "metadata": {},
     "output_type": "execute_result"
    }
   ],
   "source": [
    "precip = \"Precipitation\"\n",
    "\n",
    "# Are the characters `Precip` in the object called precip?\n",
    "\"Precip\" in precip"
   ]
  },
  {
   "cell_type": "code",
   "execution_count": 42,
   "id": "5d5d8201",
   "metadata": {},
   "outputs": [
    {
     "data": {
      "text/plain": [
       "True"
      ]
     },
     "execution_count": 42,
     "metadata": {},
     "output_type": "execute_result"
    }
   ],
   "source": [
    "temp_1 = [70, 68, 74]\n",
    "\n",
    "68 in temp_1"
   ]
  },
  {
   "cell_type": "code",
   "execution_count": 43,
   "id": "5aa2c53d",
   "metadata": {},
   "outputs": [
    {
     "data": {
      "text/plain": [
       "True"
      ]
     },
     "execution_count": 43,
     "metadata": {},
     "output_type": "execute_result"
    }
   ],
   "source": [
    "69 not in temp_1"
   ]
  },
  {
   "cell_type": "markdown",
   "id": "f24172bb",
   "metadata": {},
   "source": [
    "####  Logical Operators\n"
   ]
  },
  {
   "cell_type": "code",
   "execution_count": 45,
   "id": "26303220",
   "metadata": {},
   "outputs": [
    {
     "data": {
      "text/plain": [
       "True"
      ]
     },
     "execution_count": 45,
     "metadata": {},
     "output_type": "execute_result"
    }
   ],
   "source": [
    "# True and True\n",
    "68 in temp_1 and 70 in temp_1"
   ]
  },
  {
   "cell_type": "code",
   "execution_count": 46,
   "id": "e42f7aaa",
   "metadata": {},
   "outputs": [
    {
     "data": {
      "text/plain": [
       "False"
      ]
     },
     "execution_count": 46,
     "metadata": {},
     "output_type": "execute_result"
    }
   ],
   "source": [
    "# True and False\n",
    "68 in temp_1 and 69 in temp_1"
   ]
  },
  {
   "cell_type": "code",
   "execution_count": 47,
   "id": "c09dff4d",
   "metadata": {},
   "outputs": [
    {
     "data": {
      "text/plain": [
       "True"
      ]
     },
     "execution_count": 47,
     "metadata": {},
     "output_type": "execute_result"
    }
   ],
   "source": [
    "# True or True\n",
    "68 in temp_1 or 70 in temp_1"
   ]
  },
  {
   "cell_type": "code",
   "execution_count": 48,
   "id": "eae35580",
   "metadata": {},
   "outputs": [
    {
     "data": {
      "text/plain": [
       "True"
      ]
     },
     "execution_count": 48,
     "metadata": {},
     "output_type": "execute_result"
    }
   ],
   "source": [
    "# True or False\n",
    "68 in temp_1 or 69 in temp_1"
   ]
  },
  {
   "cell_type": "markdown",
   "id": "f335483c",
   "metadata": {},
   "source": [
    "#### Identity Operators in Python"
   ]
  },
  {
   "cell_type": "markdown",
   "id": "20cc6e20",
   "metadata": {},
   "source": [
    "An identity operator, such as **is**, will check if two variables are referring to the same object. It is similar to the == operator, except that it will not only check that the values of two variables are identical, but it will check that they are referring to the exact same thing in Python. It’s a subtle distinction, but can be very useful."
   ]
  },
  {
   "cell_type": "markdown",
   "id": "6553b932",
   "metadata": {},
   "source": [
    "To understand the difference between is and ==, first you need to know a little bit about how Python stores data. In Python, when a variable is declared, there’s a certain place on your computer that is reserved to store that data. This place has a **memory address**."
   ]
  },
  {
   "cell_type": "markdown",
   "id": "02441288",
   "metadata": {},
   "source": [
    "In Python, you can see the memory id of a variable using the id() function. This will print out a long integer that is how Python identifies the object. It’s what Python uses to find the variable in the computer’s memory.\n",
    "\n",
    "When you create a variable, let’s say a = 3, if you run id(a) or id(3), you’ll get the same output.\n",
    "\n",
    "For me, it was 94641000121024. This is the memory address where Python stores the variable 3 for your script.\n",
    "\n",
    "When you create a list, a new id is created for your list, as it is a new variable in Python. So let’s say you make a list like so: list1 = [1, 2, 3]. This list would be given a new id, such as 140657632719088.\n",
    "\n",
    "If you create an identical list like this: list2 = [1, 2, 3] and check its id, it’s stored at a different location, such as 140657632694912. This is because the list is a new variable that’s stored in a new place in the memory.\n",
    "\n",
    "Because of this, list1 == list2 will return True, because their values are equal. However, list1 is list2 will return False, since they are stored in different parts of your computer’s memory.\n",
    "\n",
    "However, if you make a list by assigning it to the old list, a.k.a list1 = list2, they will both have the memory address of list1, 140657632719088. This is because you were not creating a new variable, and thus making a new memory address.\n",
    "\n",
    "You were instead pointing to an old memory address when creating list2. Because of this, list1 == list2 will return True, because their values are equal, AND list1 is list2 will also return True, since they are stored at the same location."
   ]
  },
  {
   "cell_type": "code",
   "execution_count": 50,
   "id": "cb0e2399",
   "metadata": {},
   "outputs": [],
   "source": [
    "# Create variables to compare\n",
    "temp_1 = [70, 68, 74]\n",
    "temp_2 = [70, 68, 74]\n",
    "\n",
    "# Create a new variable called temp_3 from temp_1\n",
    "temp_3 = temp_1"
   ]
  },
  {
   "cell_type": "code",
   "execution_count": 51,
   "id": "42ad6c4c",
   "metadata": {},
   "outputs": [
    {
     "data": {
      "text/plain": [
       "True"
      ]
     },
     "execution_count": 51,
     "metadata": {},
     "output_type": "execute_result"
    }
   ],
   "source": [
    "# Test that temp_3 the same as temp_1\n",
    "temp_1 is temp_3"
   ]
  },
  {
   "cell_type": "code",
   "execution_count": 52,
   "id": "3d892d77",
   "metadata": {},
   "outputs": [
    {
     "data": {
      "text/plain": [
       "True"
      ]
     },
     "execution_count": 52,
     "metadata": {},
     "output_type": "execute_result"
    }
   ],
   "source": [
    "# While temp_1 and temp_2 contain the same values...\n",
    "temp_1 == temp_2"
   ]
  },
  {
   "cell_type": "code",
   "execution_count": 53,
   "id": "c32ec3f9",
   "metadata": {},
   "outputs": [
    {
     "data": {
      "text/plain": [
       "False"
      ]
     },
     "execution_count": 53,
     "metadata": {},
     "output_type": "execute_result"
    }
   ],
   "source": [
    "# They have been created independently\n",
    "temp_1 is temp_2"
   ]
  },
  {
   "cell_type": "markdown",
   "id": "60855599",
   "metadata": {},
   "source": [
    "Like all other types of boolean values, the outputs of these operations can be assigned to variables as well."
   ]
  },
  {
   "cell_type": "code",
   "execution_count": 54,
   "id": "a828fdd6",
   "metadata": {
    "scrolled": true
   },
   "outputs": [
    {
     "data": {
      "text/plain": [
       "False"
      ]
     },
     "execution_count": 54,
     "metadata": {},
     "output_type": "execute_result"
    }
   ],
   "source": [
    "is_the_same = (temp_1 is temp_2)\n",
    "\n",
    "is_the_same"
   ]
  },
  {
   "cell_type": "markdown",
   "id": "61cf403c",
   "metadata": {},
   "source": [
    "## Exercicis"
   ]
  },
  {
   "cell_type": "code",
   "execution_count": 61,
   "id": "0d1acb9b",
   "metadata": {},
   "outputs": [],
   "source": [
    "# Modify relational operation so the assigned variable returns True\n",
    "relational = (3 >= 2)\n",
    "\n",
    "# Modify identity operation so the assigned variable returns True\n",
    "identity = (4 != 3)\n",
    "\n",
    "# Modify membership operation so the assigned variable returns True\n",
    "membership = (72 not in temp_1)\n",
    "\n",
    "# Modify logical operation so the assigned variable returns True\n",
    "temp_1 = [70, 68, 74]\n",
    "logical = (68 in temp_1 and 69 not in temp_1)"
   ]
  },
  {
   "cell_type": "code",
   "execution_count": 62,
   "id": "c7c085c1",
   "metadata": {},
   "outputs": [
    {
     "name": "stdout",
     "output_type": "stream",
     "text": [
      "True True True True\n"
     ]
    }
   ],
   "source": [
    "# Currently all of these objects return True. \n",
    "# Modify the code above so they all return True!\n",
    "print(relational, identity, membership, logical)"
   ]
  },
  {
   "cell_type": "code",
   "execution_count": 64,
   "id": "0484fbe5",
   "metadata": {},
   "outputs": [],
   "source": [
    "### Challenge 1: Create Lists from Data\n",
    "#the first list should contain the month abbreviations and should be called boulder_precip_months.\n",
    "boulder_precip_months=[\"jan\", \"feb\", \"mar\", \"apr\", \"may\", \"june\", \"july\", \"aug\", \"sept\", \"oct\", \"nov\", \"dec\"]\n",
    "\n",
    "# the second list should be a list of precipitation values and should be called boulder_precip_inches.\n",
    "boulder_precip_inches=[0.70, 0.75, 1.85 , 2.93, 3.05 , 2.02, 1.93, 1.62, 1.84, 1.31, 1.39, 0.84]\n"
   ]
  },
  {
   "cell_type": "markdown",
   "id": "e55ab0af",
   "metadata": {},
   "source": [
    "### Challenge 2: Modify Values in Existing List\n",
    "Next, convert each floating point value in the boulder_precip_inches to millimeters by creating a new list variable called boulder_precip_mm."
   ]
  },
  {
   "cell_type": "code",
   "execution_count": 67,
   "id": "fcfa455f",
   "metadata": {},
   "outputs": [
    {
     "data": {
      "text/plain": [
       "[17.779999999999998,\n",
       " 19.049999999999997,\n",
       " 46.99,\n",
       " 74.422,\n",
       " 77.46999999999998,\n",
       " 51.308,\n",
       " 49.022,\n",
       " 41.148,\n",
       " 46.736,\n",
       " 33.274,\n",
       " 35.306,\n",
       " 21.336]"
      ]
     },
     "execution_count": 67,
     "metadata": {},
     "output_type": "execute_result"
    }
   ],
   "source": [
    "#boulder_precip_inches to mm   (1 inch = 25.4 mm).\n",
    "boulder_precip_mm = boulder_precip_inches.copy()\n",
    "boulder_precip_mm = [element *25.4 for element in boulder_precip_mm #loop\n",
    "boulder_precip_mm "
   ]
  },
  {
   "cell_type": "markdown",
   "id": "e41d5d69",
   "metadata": {},
   "source": [
    "## Challenge 3: Create a List of Lists"
   ]
  },
  {
   "cell_type": "code",
   "execution_count": 69,
   "id": "af1f80cc",
   "metadata": {},
   "outputs": [
    {
     "data": {
      "text/plain": [
       "[['a', 'b'], [True, True]]"
      ]
     },
     "execution_count": 69,
     "metadata": {},
     "output_type": "execute_result"
    }
   ],
   "source": [
    "list_of_lists = [[\"a\",\"b\"], [True, True]]\n",
    "list_of_lists"
   ]
  },
  {
   "cell_type": "code",
   "execution_count": 70,
   "id": "58747f4d",
   "metadata": {},
   "outputs": [],
   "source": [
    "all_boulder_data = [boulder_precip_months, boulder_precip_mm]"
   ]
  },
  {
   "cell_type": "markdown",
   "id": "a4661206",
   "metadata": {},
   "source": [
    "### Challenge 4: Plot the Data in the List of Lists\n",
    "Modify the following code to create a plot of your data. Be sure to use the all_boulder_data object for your plot:\n",
    "\n",
    "HINT: you will need to properly index the all_boulder_data object to access each sublist within it."
   ]
  },
  {
   "cell_type": "code",
   "execution_count": 76,
   "id": "d00528aa",
   "metadata": {},
   "outputs": [
    {
     "data": {
      "image/png": "[encoded data removed]",
      "text/plain": [
       "<Figure size 648x648 with 1 Axes>"
      ]
     },
     "metadata": {
      "needs_background": "light"
     },
     "output_type": "display_data"
    }
   ],
   "source": [
    "# Import necessary plot package\n",
    "import matplotlib.pyplot as plt\n",
    "\n",
    "# Plot monthly precipitation values\n",
    "fig, ax = plt.subplots(figsize=(9, 9))\n",
    "ax.bar(all_boulder_data[0], #[0] indexing\n",
    "       all_boulder_data[-1], \n",
    "       color=\"aqua\")\n",
    "\n",
    "ax.set(title=\"Average monthly precipitation\",\n",
    "       xlabel=\"Month\", \n",
    "       ylabel=\"Precipitation (mm)\")\n",
    "plt.show()"
   ]
  },
  {
   "cell_type": "code",
   "execution_count": null,
   "id": "91813aba",
   "metadata": {},
   "outputs": [],
   "source": []
  }
 ],
 "metadata": {
  "kernelspec": {
   "display_name": "Python 3",
   "language": "python",
   "name": "python3"
  },
  "language_info": {
   "codemirror_mode": {
    "name": "ipython",
    "version": 3
   },
   "file_extension": ".py",
   "mimetype": "text/x-python",
   "name": "python",
   "nbconvert_exporter": "python",
   "pygments_lexer": "ipython3",
   "version": "3.9.4"
  }
 },
 "nbformat": 4,
 "nbformat_minor": 5
}
