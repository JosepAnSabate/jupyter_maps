{
 "cells": [
  {
   "cell_type": "markdown",
   "id": "7cd98894",
   "metadata": {},
   "source": [
    "After completing this section of the introduction to earth data science online textbook, you will be able to:\n",
    "\n",
    "- Describe the key characteristics of numpy arrays.\n",
    "- Import data from text files (.txt, .csv) into numpy arrays.\n",
    "- Run calculations and summarize data in numpy arrays.\n",
    "- Use indexing to slice (i.e. select) data from numpy arrays."
   ]
  },
  {
   "cell_type": "markdown",
   "id": "d037267c",
   "metadata": {},
   "source": [
    "# Lesson 1. Intro to Numpy Arrays"
   ]
  },
  {
   "cell_type": "markdown",
   "id": "285a335c",
   "metadata": {},
   "source": [
    "After completing this chapter, you will be able to:\n",
    "\n",
    "- Describe the key characteristics of numpy arrays.\n",
    "- Import data from text files (.txt, .csv) into numpy arrays.\n",
    "- Run calculations and summarize data in numpy arrays.\n",
    "- Use indexing to slice (i.e. select) data from numpy arrays."
   ]
  },
  {
   "cell_type": "markdown",
   "id": "c0d1c462",
   "metadata": {},
   "source": [
    "Like Python lists, numpy arrays are also composed of ordered values (called elements) and also use indexing to organize and manipulate the elements in the numpy arrays.\n",
    "\n",
    "A key characteristic of numpy arrays is that all elements in the array must be the same type of data (i.e. all integers, floats, text strings, etc).\n",
    "\n",
    "Unlike lists which do not require a specific Python package to be defined (or worked with), numpy arrays are defined using the array() function from the numpy package."
   ]
  },
  {
   "cell_type": "markdown",
   "id": "1a38a096",
   "metadata": {},
   "source": [
    "- array = numpy.array([0.7 , 0.75, 1.85])"
   ]
  },
  {
   "cell_type": "markdown",
   "id": "5a37afab",
   "metadata": {},
   "source": [
    "The example above creates a numpy array with a simple grid structure along one dimension, . However, the grid structure of numpy arrays allow them to store data along multiple dimensions (e.g. rows, columns) that are relative to each other. "
   ]
  },
  {
   "cell_type": "markdown",
   "id": "a382cc7f",
   "metadata": {},
   "source": [
    "- Unlike a Python list, a numpy array is not edited by adding/removing/replacing elements in the array. Instead, each time that the numpy array is manipulated in some way, it is actually deleted and recreated each time.\n",
    "\n",
    "- Numpy arrays can store data along multiple dimensions (e.g. rows, columns) that are relative to each other. This makes numpy arrays a very efficient data structure for large datasets."
   ]
  },
  {
   "cell_type": "markdown",
   "id": "5d77ec94",
   "metadata": {},
   "source": [
    "### Dimensionality of Numpy Arrays\n",
    "\n",
    "Numpy arrays can be:\n",
    "\n",
    "- one-dimensional composed of values along one dimension (resembling a Python list).\n",
    "- two-dimensional composed of rows of individual arrays with one or more columns.\n",
    "- multi-dimensional composed of nested arrays with one or more dimensions."
   ]
  },
  {
   "cell_type": "code",
   "execution_count": 1,
   "id": "aaf9b7b1",
   "metadata": {},
   "outputs": [],
   "source": [
    "# Import numpy with alias np\n",
    "import numpy as np"
   ]
  },
  {
   "cell_type": "code",
   "execution_count": 2,
   "id": "c7099e10",
   "metadata": {},
   "outputs": [
    {
     "name": "stdout",
     "output_type": "stream",
     "text": [
      "[0.7  0.75 1.85]\n"
     ]
    }
   ],
   "source": [
    "# Monthly avg precip for Jan through Mar in Boulder, CO\n",
    "avg_monthly_precip = np.array([0.70, 0.75, 1.85])\n",
    "\n",
    "print(avg_monthly_precip)"
   ]
  },
  {
   "cell_type": "markdown",
   "id": "5b9e4f1b",
   "metadata": {},
   "source": [
    "### 2d"
   ]
  },
  {
   "cell_type": "code",
   "execution_count": 3,
   "id": "ff9f2e5d",
   "metadata": {},
   "outputs": [
    {
     "name": "stdout",
     "output_type": "stream",
     "text": [
      "[[1.07 0.44 1.5 ]\n",
      " [0.27 1.13 1.72]]\n"
     ]
    }
   ],
   "source": [
    "# Monthly precip for Jan through Mar in 2002 and 2013\n",
    "precip_2002_2013 = np.array([\n",
    "    [1.07, 0.44, 1.50],\n",
    "    [0.27, 1.13, 1.72]\n",
    "])\n",
    "\n",
    "print(precip_2002_2013)"
   ]
  },
  {
   "cell_type": "markdown",
   "id": "fb6a1b27",
   "metadata": {},
   "source": [
    "# Lesson 2. Import Text Files Into Numpy Arrays"
   ]
  },
  {
   "cell_type": "markdown",
   "id": "f84d1b9a",
   "metadata": {},
   "source": [
    "- Import data from text files (.txt, .csv) into numpy arrays."
   ]
  },
  {
   "cell_type": "code",
   "execution_count": 4,
   "id": "0f159d82",
   "metadata": {},
   "outputs": [],
   "source": [
    "# Import necessary packages\n",
    "import os\n",
    "\n",
    "import numpy as np\n",
    "import earthpy as et"
   ]
  },
  {
   "cell_type": "code",
   "execution_count": null,
   "id": "f4ce0c95",
   "metadata": {},
   "outputs": [],
   "source": []
  }
 ],
 "metadata": {
  "kernelspec": {
   "display_name": "Python 3",
   "language": "python",
   "name": "python3"
  },
  "language_info": {
   "codemirror_mode": {
    "name": "ipython",
    "version": 3
   },
   "file_extension": ".py",
   "mimetype": "text/x-python",
   "name": "python",
   "nbconvert_exporter": "python",
   "pygments_lexer": "ipython3",
   "version": "3.9.4"
  }
 },
 "nbformat": 4,
 "nbformat_minor": 5
}
