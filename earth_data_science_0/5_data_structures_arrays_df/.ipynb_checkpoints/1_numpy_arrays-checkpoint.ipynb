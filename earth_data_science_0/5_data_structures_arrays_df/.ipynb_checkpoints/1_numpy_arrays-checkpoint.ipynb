{
 "cells": [
  {
   "cell_type": "markdown",
   "id": "73dbd2a7",
   "metadata": {},
   "source": [
    "After completing this section of the introduction to earth data science online textbook, you will be able to:\n",
    "\n",
    "- Describe the key characteristics of numpy arrays.\n",
    "- Import data from text files (.txt, .csv) into numpy arrays.\n",
    "- Run calculations and summarize data in numpy arrays.\n",
    "- Use indexing to slice (i.e. select) data from numpy arrays."
   ]
  },
  {
   "cell_type": "markdown",
   "id": "ffd9e36d",
   "metadata": {},
   "source": [
    "# Lesson 1. Intro to Numpy Arrays"
   ]
  },
  {
   "cell_type": "markdown",
   "id": "78f64d4a",
   "metadata": {},
   "source": [
    "After completing this chapter, you will be able to:\n",
    "\n",
    "- Describe the key characteristics of numpy arrays.\n",
    "- Import data from text files (.txt, .csv) into numpy arrays.\n",
    "- Run calculations and summarize data in numpy arrays.\n",
    "- Use indexing to slice (i.e. select) data from numpy arrays."
   ]
  },
  {
   "cell_type": "markdown",
   "id": "db968fd3",
   "metadata": {},
   "source": [
    "Like Python lists, numpy arrays are also composed of ordered values (called elements) and also use indexing to organize and manipulate the elements in the numpy arrays.\n",
    "\n",
    "A key characteristic of numpy arrays is that all elements in the array must be the same type of data (i.e. all integers, floats, text strings, etc).\n",
    "\n",
    "Unlike lists which do not require a specific Python package to be defined (or worked with), numpy arrays are defined using the array() function from the numpy package."
   ]
  },
  {
   "cell_type": "markdown",
   "id": "607be13c",
   "metadata": {},
   "source": [
    "- array = numpy.array([0.7 , 0.75, 1.85])"
   ]
  },
  {
   "cell_type": "markdown",
   "id": "148bd4a4",
   "metadata": {},
   "source": [
    "The example above creates a numpy array with a simple grid structure along one dimension, . However, the grid structure of numpy arrays allow them to store data along multiple dimensions (e.g. rows, columns) that are relative to each other. "
   ]
  },
  {
   "cell_type": "markdown",
   "id": "38ff4c98",
   "metadata": {},
   "source": [
    "- Unlike a Python list, a numpy array is not edited by adding/removing/replacing elements in the array. Instead, each time that the numpy array is manipulated in some way, it is actually deleted and recreated each time.\n",
    "\n",
    "- Numpy arrays can store data along multiple dimensions (e.g. rows, columns) that are relative to each other. This makes numpy arrays a very efficient data structure for large datasets."
   ]
  },
  {
   "cell_type": "markdown",
   "id": "bb7d1242",
   "metadata": {},
   "source": [
    "### Dimensionality of Numpy Arrays\n",
    "\n",
    "Numpy arrays can be:\n",
    "\n",
    "- one-dimensional composed of values along one dimension (resembling a Python list).\n",
    "- two-dimensional composed of rows of individual arrays with one or more columns.\n",
    "- multi-dimensional composed of nested arrays with one or more dimensions."
   ]
  },
  {
   "cell_type": "code",
   "execution_count": 1,
   "id": "d488a8c5",
   "metadata": {},
   "outputs": [],
   "source": [
    "# Import numpy with alias np\n",
    "import numpy as np"
   ]
  },
  {
   "cell_type": "code",
   "execution_count": 2,
   "id": "eba9144b",
   "metadata": {},
   "outputs": [
    {
     "name": "stdout",
     "output_type": "stream",
     "text": [
      "[0.7  0.75 1.85]\n"
     ]
    }
   ],
   "source": [
    "# Monthly avg precip for Jan through Mar in Boulder, CO\n",
    "avg_monthly_precip = np.array([0.70, 0.75, 1.85])\n",
    "\n",
    "print(avg_monthly_precip)"
   ]
  },
  {
   "cell_type": "markdown",
   "id": "e50bd4cb",
   "metadata": {},
   "source": [
    "### 2d"
   ]
  },
  {
   "cell_type": "code",
   "execution_count": 3,
   "id": "fdf6bdf2",
   "metadata": {},
   "outputs": [
    {
     "name": "stdout",
     "output_type": "stream",
     "text": [
      "[[1.07 0.44 1.5 ]\n",
      " [0.27 1.13 1.72]]\n"
     ]
    }
   ],
   "source": [
    "# Monthly precip for Jan through Mar in 2002 and 2013\n",
    "precip_2002_2013 = np.array([\n",
    "    [1.07, 0.44, 1.50],\n",
    "    [0.27, 1.13, 1.72]\n",
    "])\n",
    "\n",
    "print(precip_2002_2013)"
   ]
  },
  {
   "cell_type": "markdown",
   "id": "a8dcfeee",
   "metadata": {},
   "source": [
    "# Lesson 2. Import Text Files Into Numpy Arrays"
   ]
  },
  {
   "cell_type": "markdown",
   "id": "891e5b63",
   "metadata": {},
   "source": [
    "- Import data from text files (.txt, .csv) into numpy arrays."
   ]
  },
  {
   "cell_type": "code",
   "execution_count": 4,
   "id": "385bd3fd",
   "metadata": {},
   "outputs": [],
   "source": [
    "# Import necessary packages\n",
    "import os\n",
    "\n",
    "import numpy as np\n",
    "import earthpy as et"
   ]
  },
  {
   "cell_type": "markdown",
   "id": "e06cba47",
   "metadata": {},
   "source": [
    "#### Download Data from URL Using EarthPy\n",
    "You can use the function data.get_data() from the earthpy package (which you imported with the alias et) to download data from online sources such as the Figshare.com data repository.\n",
    "\n"
   ]
  },
  {
   "cell_type": "markdown",
   "id": "10704a4f",
   "metadata": {},
   "source": [
    "Begin by downloading a .txt file for average monthly precipitation (inches) for Boulder, CO collected by the U.S. National Oceanic and Atmospheric Administration (NOAA) from the following URL:"
   ]
  },
  {
   "cell_type": "code",
   "execution_count": 5,
   "id": "14ff5850",
   "metadata": {},
   "outputs": [
    {
     "data": {
      "text/plain": [
       "'C:\\\\Users\\\\34639\\\\earth-analytics\\\\data\\\\earthpy-downloads\\\\avg-monthly-precip.txt'"
      ]
     },
     "execution_count": 5,
     "metadata": {},
     "output_type": "execute_result"
    }
   ],
   "source": [
    "# Define variable for URL to .txt with avg monthly precip data\n",
    "monthly_precip_url = 'https://ndownloader.figshare.com/files/12565616'\n",
    "\n",
    "# Provide variable as parameter value for `url`\n",
    "et.data.get_data(url=monthly_precip_url)"
   ]
  },
  {
   "cell_type": "code",
   "execution_count": 6,
   "id": "f7e9a8c6",
   "metadata": {},
   "outputs": [
    {
     "data": {
      "text/plain": [
       "'C:\\\\Users\\\\34639\\\\earth-analytics\\\\data\\\\earthpy-downloads\\\\months.txt'"
      ]
     },
     "execution_count": 6,
     "metadata": {},
     "output_type": "execute_result"
    }
   ],
   "source": [
    "# Download data from URL to .txt with month names\n",
    "month_names_url = 'https://ndownloader.figshare.com/files/12565619'\n",
    "et.data.get_data(url=month_names_url)"
   ]
  },
  {
   "cell_type": "markdown",
   "id": "f217f970",
   "metadata": {},
   "source": [
    "Next, download a .csv file that contains the monthly precipitation (inches) for Boulder, CO for the years 2002 and 2013, collected by the U.S. National Oceanic and Atmospheric Administration (NOAA)."
   ]
  },
  {
   "cell_type": "code",
   "execution_count": 7,
   "id": "dcda511e",
   "metadata": {},
   "outputs": [
    {
     "data": {
      "text/plain": [
       "'C:\\\\Users\\\\34639\\\\earth-analytics\\\\data\\\\earthpy-downloads\\\\monthly-precip-2002-2013.csv'"
      ]
     },
     "execution_count": 7,
     "metadata": {},
     "output_type": "execute_result"
    }
   ],
   "source": [
    "# Download data from URL to .csv of precip data for 2002 and 2013\n",
    "precip_2002_2013_url = 'https://ndownloader.figshare.com/files/12707792'\n",
    "et.data.get_data(url=precip_2002_2013_url)"
   ]
  },
  {
   "cell_type": "markdown",
   "id": "99b7e30e",
   "metadata": {},
   "source": [
    "### Import Numeric Data from Text Files Into Numpy Arrays\n",
    "You can easily create new numpy arrays by importing numeric data from text files (.txt and .csv) using the loadtxt() function from numpy (which you imported with the alias np) .\n",
    "\n",
    "Begin by setting the working directory to your earth-analytics directory using the os package and the HOME attribute of the earthpy package."
   ]
  },
  {
   "cell_type": "code",
   "execution_count": 8,
   "id": "45a6fd9d",
   "metadata": {},
   "outputs": [],
   "source": [
    "# Set working directory to earth-analytics\n",
    "os.chdir(os.path.join(et.io.HOME, 'earth-analytics'))"
   ]
  },
  {
   "cell_type": "markdown",
   "id": "b45d1175",
   "metadata": {},
   "source": [
    "### Import Data From TXT File\n",
    "To import data from a .txt file, you simply need to specify a value for the parameter called fname for the file name:\n",
    "\n",
    "np.loadtxt(fname)\n",
    "\n",
    "Recall from the chapter on working with paths and directories that you can use os.path.join() to create paths that will work on any operating system.\n",
    "\n",
    "In the example below, the fname is defined using os.path.join() with a relative path to the avg-monthly-precip.txt file because you previously set the working directory to earth-analytics."
   ]
  },
  {
   "cell_type": "code",
   "execution_count": 9,
   "id": "cfdbd6cf",
   "metadata": {},
   "outputs": [
    {
     "name": "stdout",
     "output_type": "stream",
     "text": [
      "[0.7  0.75 1.85 2.93 3.05 2.02 1.93 1.62 1.84 1.31 1.39 0.84]\n"
     ]
    }
   ],
   "source": [
    "# Define path to file using os.path.join\n",
    "fname = os.path.join(\"data\", \"earthpy-downloads\",\n",
    "                     \"avg-monthly-precip.txt\")\n",
    "\n",
    "# Import average monthly precip to numpy array\n",
    "avg_monthly_precip = np.loadtxt(fname)\n",
    "\n",
    "print(avg_monthly_precip)"
   ]
  },
  {
   "cell_type": "markdown",
   "id": "8010894f",
   "metadata": {},
   "source": [
    "Notice that the data from the .txt file has been imported as a one-dimensional array (avg_monthly_precip), contained within a single set of brackets []."
   ]
  },
  {
   "cell_type": "code",
   "execution_count": 10,
   "id": "51fe4336",
   "metadata": {},
   "outputs": [
    {
     "data": {
      "text/plain": [
       "numpy.ndarray"
      ]
     },
     "execution_count": 10,
     "metadata": {},
     "output_type": "execute_result"
    }
   ],
   "source": [
    "# Check type\n",
    "type(avg_monthly_precip)"
   ]
  },
  {
   "cell_type": "markdown",
   "id": "8d7963e5",
   "metadata": {},
   "source": [
    "## Import Data From CSV File\n",
    "You can also use np.loadtxt(fname) to import data from .csv files that contain rows and columns of data.\n",
    "\n",
    "You will need to specify both the fname parameter as well as the delimiter parameter to indicate the character that is being used to separate values in the file (e.g. commas, semi-colons):\n",
    "\n",
    "np.loadtxt(fname, delimiter = \",\")\n",
    "\n"
   ]
  },
  {
   "cell_type": "code",
   "execution_count": 11,
   "id": "6125094d",
   "metadata": {},
   "outputs": [],
   "source": [
    "# Import monthly precip for 2002 and 2013 to numpy array\n",
    "fname = os.path.join(\"data\", \"earthpy-downloads\",\n",
    "                     \"monthly-precip-2002-2013.csv\")\n",
    "precip_2002_2013 = np.loadtxt(fname, delimiter=\",\") ##delimiter and load txt no csv"
   ]
  },
  {
   "cell_type": "code",
   "execution_count": 12,
   "id": "32d5d2b5",
   "metadata": {},
   "outputs": [
    {
     "data": {
      "text/plain": [
       "numpy.ndarray"
      ]
     },
     "execution_count": 12,
     "metadata": {},
     "output_type": "execute_result"
    }
   ],
   "source": [
    "# Check type\n",
    "type(precip_2002_2013)"
   ]
  },
  {
   "cell_type": "code",
   "execution_count": 13,
   "id": "3fd265f9",
   "metadata": {},
   "outputs": [
    {
     "name": "stdout",
     "output_type": "stream",
     "text": [
      "[[ 1.07  0.44  1.5   0.2   3.2   1.18  0.09  1.44  1.52  2.44  0.78  0.02]\n",
      " [ 0.27  1.13  1.72  4.14  2.66  0.61  1.03  1.4  18.16  2.24  0.29  0.5 ]]\n"
     ]
    }
   ],
   "source": [
    "print(precip_2002_2013)"
   ]
  },
  {
   "cell_type": "markdown",
   "id": "b82c56dd",
   "metadata": {},
   "source": [
    "Notice that the data from the .csv file has been imported as a two-dimensional array (precip_2002_2013), contained within two set of brackets []."
   ]
  },
  {
   "cell_type": "markdown",
   "id": "908c1ab8",
   "metadata": {},
   "source": [
    "## Import Text String Data from Text Files Into Numpy Arrays\n",
    "As needed, you can also import text files with text string values (such as month names) to numpy arrays using the genfromtxt() function from numpy.\n",
    "\n",
    "You need to specify a parameter value for fname as well as a parameter value for the data type as dtype='str':\n",
    "\n",
    "np.genfromtxt(fname, dtype='str')"
   ]
  },
  {
   "cell_type": "code",
   "execution_count": 14,
   "id": "f84549d1",
   "metadata": {},
   "outputs": [
    {
     "data": {
      "text/plain": [
       "numpy.ndarray"
      ]
     },
     "execution_count": 14,
     "metadata": {},
     "output_type": "execute_result"
    }
   ],
   "source": [
    "# Import month names\n",
    "fname = os.path.join(\"data\", \"earthpy-downloads\", \"months.txt\")\n",
    "months = np.genfromtxt(fname, dtype='str')\n",
    "\n",
    "type(months)"
   ]
  },
  {
   "cell_type": "code",
   "execution_count": 15,
   "id": "ed8140f1",
   "metadata": {},
   "outputs": [
    {
     "name": "stdout",
     "output_type": "stream",
     "text": [
      "['Jan' 'Feb' 'Mar' 'Apr' 'May' 'June' 'July' 'Aug' 'Sept' 'Oct' 'Nov'\n",
      " 'Dec']\n"
     ]
    }
   ],
   "source": [
    "print(months)"
   ]
  },
  {
   "cell_type": "markdown",
   "id": "4fedfc17",
   "metadata": {},
   "source": [
    "# Lesson 3. Run Calculations and Summary Statistics on Numpy Arrays"
   ]
  },
  {
   "cell_type": "markdown",
   "id": "343fa47f",
   "metadata": {},
   "source": [
    "After completing this page, you will be able to:\n",
    "\n",
    "- Check the dimensions and shape of numpy arrays.\n",
    "- Run calculations and summary statistics (e.g. mean, minimum, maximum) on one-dimensional and two-dimensional numpy arrays."
   ]
  },
  {
   "cell_type": "code",
   "execution_count": 16,
   "id": "adf003c8",
   "metadata": {},
   "outputs": [],
   "source": [
    "# Import necessary packages\n",
    "import os\n",
    "import numpy as np\n",
    "import earthpy as et"
   ]
  },
  {
   "cell_type": "code",
   "execution_count": 17,
   "id": "1966dea0",
   "metadata": {},
   "outputs": [
    {
     "data": {
      "text/plain": [
       "'C:\\\\Users\\\\34639\\\\earth-analytics\\\\data\\\\earthpy-downloads\\\\monthly-precip-2002-2013.csv'"
      ]
     },
     "execution_count": 17,
     "metadata": {},
     "output_type": "execute_result"
    }
   ],
   "source": [
    "# Download .txt with avg monthly precip (inches)\n",
    "monthly_precip_url = 'https://ndownloader.figshare.com/files/12565616'\n",
    "et.data.get_data(url=monthly_precip_url)\n",
    "\n",
    "# Download .csv of precip data for 2002 and 2013 (inches)\n",
    "precip_2002_2013_url = 'https://ndownloader.figshare.com/files/12707792'\n",
    "et.data.get_data(url=precip_2002_2013_url)"
   ]
  },
  {
   "cell_type": "code",
   "execution_count": 18,
   "id": "e56d2d4c",
   "metadata": {},
   "outputs": [],
   "source": [
    "# Set working directory to earth-analytics\n",
    "os.chdir(os.path.join(et.io.HOME, 'earth-analytics'))"
   ]
  },
  {
   "cell_type": "code",
   "execution_count": 19,
   "id": "8e5da471",
   "metadata": {},
   "outputs": [
    {
     "name": "stdout",
     "output_type": "stream",
     "text": [
      "[0.7  0.75 1.85 2.93 3.05 2.02 1.93 1.62 1.84 1.31 1.39 0.84]\n"
     ]
    }
   ],
   "source": [
    "# Import average monthly precip to numpy array\n",
    "fname = os.path.join(\"data\", \"earthpy-downloads\",\n",
    "                     \"avg-monthly-precip.txt\")\n",
    "\n",
    "avg_monthly_precip = np.loadtxt(fname)\n",
    "\n",
    "print(avg_monthly_precip)"
   ]
  },
  {
   "cell_type": "code",
   "execution_count": 20,
   "id": "ab00c7c2",
   "metadata": {},
   "outputs": [
    {
     "name": "stdout",
     "output_type": "stream",
     "text": [
      "[[ 1.07  0.44  1.5   0.2   3.2   1.18  0.09  1.44  1.52  2.44  0.78  0.02]\n",
      " [ 0.27  1.13  1.72  4.14  2.66  0.61  1.03  1.4  18.16  2.24  0.29  0.5 ]]\n"
     ]
    }
   ],
   "source": [
    "# Import monthly precip for 2002 and 2013 to numpy array\n",
    "fname = os.path.join(\"data\", \"earthpy-downloads\",\n",
    "                     \"monthly-precip-2002-2013.csv\")\n",
    "\n",
    "precip_2002_2013 = np.loadtxt(fname, delimiter = \",\")\n",
    "\n",
    "print(precip_2002_2013)"
   ]
  },
  {
   "cell_type": "markdown",
   "id": "05e86a3c",
   "metadata": {},
   "source": [
    "Numpy arrays have two attributes (i.e. built-in characteristics automatically assigned to objects) that provide useful information on their dimensions and shape: ndim and .shape."
   ]
  },
  {
   "cell_type": "markdown",
   "id": "5bd5b1f2",
   "metadata": {},
   "source": [
    "You can use **.ndim** attribute of numpy arrays (e.g. array.ndim) to get the **number dimensions** of the numpy array."
   ]
  },
  {
   "cell_type": "code",
   "execution_count": 21,
   "id": "b1ad8c8a",
   "metadata": {},
   "outputs": [
    {
     "data": {
      "text/plain": [
       "1"
      ]
     },
     "execution_count": 21,
     "metadata": {},
     "output_type": "execute_result"
    }
   ],
   "source": [
    "# Check dimensions of avg_monthly_precip\n",
    "avg_monthly_precip.ndim"
   ]
  },
  {
   "cell_type": "code",
   "execution_count": 22,
   "id": "bdb17f38",
   "metadata": {},
   "outputs": [
    {
     "data": {
      "text/plain": [
       "2"
      ]
     },
     "execution_count": 22,
     "metadata": {},
     "output_type": "execute_result"
    }
   ],
   "source": [
    "# Check dimensions of precip_2002_2013\n",
    "precip_2002_2013.ndim"
   ]
  },
  {
   "cell_type": "markdown",
   "id": "630a34cb",
   "metadata": {},
   "source": [
    "Another useful attribute of numpy arrays is the .shape attribute, which provides specific information on how the data is stored within the numpy array.\n",
    "\n",
    "For an one-dimensional numpy array, the .shape attribute returns the number of elements, while for a two-dimensional numpy array, the .shape attribute returns the number of rows and columns.\n",
    "\n",
    "For example, the .shape attribute of precip_2002_2013 tells us that it has two dimensions because there are two values returned. The first value is the number of rows, while the second value is the number of columns"
   ]
  },
  {
   "cell_type": "code",
   "execution_count": 23,
   "id": "bebed920",
   "metadata": {},
   "outputs": [
    {
     "data": {
      "text/plain": [
       "(2, 12)"
      ]
     },
     "execution_count": 23,
     "metadata": {},
     "output_type": "execute_result"
    }
   ],
   "source": [
    "# Check shape of precip_2002_2013\n",
    "precip_2002_2013.shape  # if 2 dim return rows and col"
   ]
  },
  {
   "cell_type": "code",
   "execution_count": 24,
   "id": "fae7eb47",
   "metadata": {},
   "outputs": [
    {
     "data": {
      "text/plain": [
       "(12,)"
      ]
     },
     "execution_count": 24,
     "metadata": {},
     "output_type": "execute_result"
    }
   ],
   "source": [
    "# Check shape of avg_monthly_precip\n",
    "avg_monthly_precip.shape #1d array"
   ]
  },
  {
   "cell_type": "markdown",
   "id": "0ebc3956",
   "metadata": {},
   "source": [
    "In the case of avg_monthly_precip, there are only 12 elements, one value of average monthly precipitation for each month (an average value across all years of data).\n",
    "\n",
    "Run Calculations on Numpy Arrays"
   ]
  },
  {
   "cell_type": "markdown",
   "id": "9c4cd3f9",
   "metadata": {},
   "source": [
    "Run Calculations on Numpy Arrays\n",
    "A key benefit of numpy arrays is that they support mathematical operations on an element-by-element basis, meaning that you can actually run one operation (e.g. array *= 25.4) on the entire array with a single line of code.\n",
    "\n",
    "For example, you can run a calculation to convert the values avg_monthly_precip from inches to millimeters (1 inch = 25.4 millimeters) and save it to a new numpy array as follows:"
   ]
  },
  {
   "cell_type": "markdown",
   "id": "6727b879",
   "metadata": {},
   "source": [
    "- avg_monthly_precip_mm = avg_monthly_precip * 25.4"
   ]
  },
  {
   "cell_type": "markdown",
   "id": "e65795e6",
   "metadata": {},
   "source": [
    "Or, if you do not need to retain the original numpy array, you can use an assignment operator as shown below to assign the new values to the original variable."
   ]
  },
  {
   "cell_type": "code",
   "execution_count": 25,
   "id": "54f8dd3c",
   "metadata": {},
   "outputs": [
    {
     "name": "stdout",
     "output_type": "stream",
     "text": [
      "[0.7  0.75 1.85 2.93 3.05 2.02 1.93 1.62 1.84 1.31 1.39 0.84]\n"
     ]
    }
   ],
   "source": [
    "# Check the original values\n",
    "print(avg_monthly_precip)"
   ]
  },
  {
   "cell_type": "code",
   "execution_count": 26,
   "id": "d4b747bd",
   "metadata": {},
   "outputs": [
    {
     "name": "stdout",
     "output_type": "stream",
     "text": [
      "[17.78  19.05  46.99  74.422 77.47  51.308 49.022 41.148 46.736 33.274\n",
      " 35.306 21.336]\n"
     ]
    }
   ],
   "source": [
    "# Use assignment operator to convert values from in to mm\n",
    "avg_monthly_precip *= 25.4\n",
    "\n",
    "# Print new values\n",
    "print(avg_monthly_precip)"
   ]
  },
  {
   "cell_type": "code",
   "execution_count": 27,
   "id": "145f12e0",
   "metadata": {},
   "outputs": [
    {
     "name": "stdout",
     "output_type": "stream",
     "text": [
      "[[ 1.07  0.44  1.5   0.2   3.2   1.18  0.09  1.44  1.52  2.44  0.78  0.02]\n",
      " [ 0.27  1.13  1.72  4.14  2.66  0.61  1.03  1.4  18.16  2.24  0.29  0.5 ]]\n"
     ]
    }
   ],
   "source": [
    "# Check the original values\n",
    "print(precip_2002_2013)"
   ]
  },
  {
   "cell_type": "code",
   "execution_count": 28,
   "id": "9a337f1d",
   "metadata": {},
   "outputs": [
    {
     "name": "stdout",
     "output_type": "stream",
     "text": [
      "[[ 27.178  11.176  38.1     5.08   81.28   29.972   2.286  36.576  38.608\n",
      "   61.976  19.812   0.508]\n",
      " [  6.858  28.702  43.688 105.156  67.564  15.494  26.162  35.56  461.264\n",
      "   56.896   7.366  12.7  ]]\n"
     ]
    }
   ],
   "source": [
    "# Use assignment operator to convert values from in to mm\n",
    "precip_2002_2013 *= 25.4\n",
    "\n",
    "# Print new values\n",
    "print(precip_2002_2013)"
   ]
  },
  {
   "cell_type": "markdown",
   "id": "6ca09f3a",
   "metadata": {},
   "source": [
    "## Run Summary Statistics on One-dimensional Numpy Arrays\n",
    "### Calculate Mean and Median\n",
    "Another useful feature of numpy arrays is the ability to run summary statistics (e.g. calculating averages, finding minimum or maximum values) across the entire array of values.\n",
    "\n",
    "For example, you can use the np.mean() function to calculate the average value across an array (e.g. np.mean(array)) or np.median() to identify the median value across an array (e.g. np.median(array))."
   ]
  },
  {
   "cell_type": "code",
   "execution_count": 29,
   "id": "4b68c629",
   "metadata": {},
   "outputs": [
    {
     "name": "stdout",
     "output_type": "stream",
     "text": [
      "mean average monthly precipitation: 42.820166666666665\n"
     ]
    }
   ],
   "source": [
    "# Create variable with mean value\n",
    "mean_avg_precip = np.mean(avg_monthly_precip)\n",
    "\n",
    "print(\"mean average monthly precipitation:\", mean_avg_precip)"
   ]
  },
  {
   "cell_type": "code",
   "execution_count": 30,
   "id": "179d1edc",
   "metadata": {},
   "outputs": [
    {
     "name": "stdout",
     "output_type": "stream",
     "text": [
      "median average monthly precipitation: 43.942\n"
     ]
    }
   ],
   "source": [
    "# Create variable with median value\n",
    "median_avg_precip = np.median(avg_monthly_precip)\n",
    "\n",
    "print(\"median average monthly precipitation:\", median_avg_precip)"
   ]
  },
  {
   "cell_type": "markdown",
   "id": "3794326f",
   "metadata": {},
   "source": [
    "### Find Other Summary Statistics Functions Including Minimum and Maximum Values"
   ]
  },
  {
   "cell_type": "markdown",
   "id": "edbd7d92",
   "metadata": {},
   "source": [
    " np.std for identifying the standard deviation or np.sum for calculating the sum of elements.\n",
    "\n",
    "If you provide letter such as .np.m and hit the tab key, you will see options for other summary functions that begin with the letter m, such as np.min() and np.max() to find the minimum and maximum values in an array."
   ]
  },
  {
   "cell_type": "code",
   "execution_count": 31,
   "id": "44c530b7",
   "metadata": {},
   "outputs": [
    {
     "name": "stdout",
     "output_type": "stream",
     "text": [
      "minimum average monthly precipitation: 17.779999999999998\n",
      "maximum average monthly precipitation: 77.46999999999998\n"
     ]
    }
   ],
   "source": [
    "# Calculate and print minimum and maximum values\n",
    "print(\"minimum average monthly precipitation:\", np.min(avg_monthly_precip))\n",
    "print(\"maximum average monthly precipitation:\", np.max(avg_monthly_precip))"
   ]
  },
  {
   "cell_type": "markdown",
   "id": "f04a766d",
   "metadata": {},
   "source": [
    "# Run Summary Statistics Across Axes of Two-dimensional Numpy Arrays"
   ]
  },
  {
   "cell_type": "markdown",
   "id": "7bd3feb7",
   "metadata": {},
   "source": [
    "To calculate statistics on two-dimensional arrays, you can use the axis argument in the same functions (e.g. np.max) to specify which axis you would like to summarize:\n",
    "\n",
    "- vertical axis downwards, summarizing across rows (axis=0)\n",
    "- hortizontal axis, summarizing across columns (axis=1)"
   ]
  },
  {
   "cell_type": "markdown",
   "id": "ed20aa22",
   "metadata": {},
   "source": [
    "When using axis=0 to calculate summary statistics, you are requesting the summary of each column across all rows of data. For example, running axis=0 on an array with 2 rows and 12 columns will result in an output with 12 values: one value summarized across 2 rows for each column in the array. There are 12 columns, and thus, 12 summary values.\n",
    "\n",
    "When using axis=1, you are requesting the summary of each row across all columns of data. For example, running axis=1 on an array with 2 rows and 12 columns will result in an output with 2 values: one value summarized across 12 columns for each row in the array. There are 2 rows, and thus, 2 summary values."
   ]
  },
  {
   "cell_type": "markdown",
   "id": "07901ee9",
   "metadata": {},
   "source": [
    "## Calculate Summary Statistics Across Rows"
   ]
  },
  {
   "cell_type": "code",
   "execution_count": 32,
   "id": "4ac20872",
   "metadata": {},
   "outputs": [
    {
     "name": "stdout",
     "output_type": "stream",
     "text": [
      "[[ 27.178  11.176  38.1     5.08   81.28   29.972   2.286  36.576  38.608\n",
      "   61.976  19.812   0.508]\n",
      " [  6.858  28.702  43.688 105.156  67.564  15.494  26.162  35.56  461.264\n",
      "   56.896   7.366  12.7  ]]\n"
     ]
    }
   ],
   "source": [
    "# Visually identify max value across the rows of precip_2002_2013\n",
    "print(precip_2002_2013)"
   ]
  },
  {
   "cell_type": "markdown",
   "id": "85934b9c",
   "metadata": {},
   "source": [
    "The maximum value across the two rows is 27.178, which is the first value in the output of the function."
   ]
  },
  {
   "cell_type": "code",
   "execution_count": 33,
   "id": "e8d77d4e",
   "metadata": {},
   "outputs": [
    {
     "name": "stdout",
     "output_type": "stream",
     "text": [
      "[ 27.178  28.702  43.688 105.156  81.28   29.972  26.162  36.576 461.264\n",
      "  61.976  19.812  12.7  ]\n"
     ]
    }
   ],
   "source": [
    "# Maximum value for each month across years 2002 and 2013\n",
    "print(np.max(precip_2002_2013, axis=0))"
   ]
  },
  {
   "cell_type": "markdown",
   "id": "40976023",
   "metadata": {},
   "source": [
    "Note that you can then save the output to a new numpy arrays for additional use."
   ]
  },
  {
   "cell_type": "code",
   "execution_count": 34,
   "id": "1f6b5714",
   "metadata": {},
   "outputs": [
    {
     "data": {
      "text/plain": [
       "numpy.ndarray"
      ]
     },
     "execution_count": 34,
     "metadata": {},
     "output_type": "execute_result"
    }
   ],
   "source": [
    "# Create new array of the maximum value for each month\n",
    "precip_2002_2013_monthly_max = np.max(precip_2002_2013, axis=0)\n",
    "\n",
    "type(precip_2002_2013_monthly_max)"
   ]
  },
  {
   "cell_type": "markdown",
   "id": "3e7b8288",
   "metadata": {},
   "source": [
    "### Calculate Summary Statistics Across Columns\n",
    "You can use np.max(array, axis=1) to identify the maximum value from each row across all columns. In the case of precip_2002_2013, this identifies the maximum value for each row (or year) of data.\n",
    "\n",
    "Again, compare the output of np.max(precip_2002_2013, axis=1) to your visual inspection of the maximum value in each row. In the first row, the maximum value is 81.28, while in the second row, the maximum value is 461.264.\n",
    "\n"
   ]
  },
  {
   "cell_type": "code",
   "execution_count": 35,
   "id": "c73b57c0",
   "metadata": {},
   "outputs": [
    {
     "name": "stdout",
     "output_type": "stream",
     "text": [
      "[[ 27.178  11.176  38.1     5.08   81.28   29.972   2.286  36.576  38.608\n",
      "   61.976  19.812   0.508]\n",
      " [  6.858  28.702  43.688 105.156  67.564  15.494  26.162  35.56  461.264\n",
      "   56.896   7.366  12.7  ]]\n"
     ]
    }
   ],
   "source": [
    "# Visually identify max value across the rows of precip_2002_2013\n",
    "print(precip_2002_2013)"
   ]
  },
  {
   "cell_type": "markdown",
   "id": "1c864a38",
   "metadata": {},
   "source": [
    "Since you requested the maximum value of each row across all the columns, your output returns the maximum value for each row (or year) of data."
   ]
  },
  {
   "cell_type": "code",
   "execution_count": 36,
   "id": "fb01e573",
   "metadata": {},
   "outputs": [
    {
     "name": "stdout",
     "output_type": "stream",
     "text": [
      "[ 81.28  461.264]\n"
     ]
    }
   ],
   "source": [
    "# Maximum value for each year 2002 and 2013\n",
    "print(np.max(precip_2002_2013, axis=1))"
   ]
  },
  {
   "cell_type": "markdown",
   "id": "05954369",
   "metadata": {},
   "source": [
    "These summary statistics make it easy to quickly summarize large amounts of data using numpy arrays."
   ]
  },
  {
   "cell_type": "markdown",
   "id": "62c717b2",
   "metadata": {},
   "source": [
    "# Lesson 4. Slice (or Select) Data From Numpy Arrays"
   ]
  },
  {
   "cell_type": "markdown",
   "id": "ce10a82b",
   "metadata": {},
   "source": [
    "After completing this page, you will be able to:\n",
    "\n",
    "- Explain the difference in indexing between one-dimensional and two-dimensional numpy arrays.\n",
    "- Use indexing to slice (i.e. select) data from one-dimensional and two-dimensional numpy arrays."
   ]
  },
  {
   "cell_type": "markdown",
   "id": "3b4b2cc2",
   "metadata": {},
   "source": [
    "### Indexing on One-dimensional Numpy Arrays\n",
    "For one-dimensional numpy arrays, you only need to specify one index value, which is the position of the element in the numpy array (e.g. arrayname[index])."
   ]
  },
  {
   "cell_type": "code",
   "execution_count": 37,
   "id": "59f839b7",
   "metadata": {},
   "outputs": [],
   "source": [
    "avg_monthly_precip = np.array([0.70, 0.75, 1.85])"
   ]
  },
  {
   "cell_type": "code",
   "execution_count": 38,
   "id": "fa6a6a0a",
   "metadata": {},
   "outputs": [
    {
     "data": {
      "text/plain": [
       "1.85"
      ]
     },
     "execution_count": 38,
     "metadata": {},
     "output_type": "execute_result"
    }
   ],
   "source": [
    "avg_monthly_precip[2]"
   ]
  },
  {
   "cell_type": "markdown",
   "id": "9c573a05",
   "metadata": {},
   "source": [
    "### Indexing on Two-dimensional Numpy Arrays\n",
    "For two-dimensional numpy arrays, you need to specify both a row index and a column index for the element (or range of elements) that you want to access."
   ]
  },
  {
   "cell_type": "code",
   "execution_count": 39,
   "id": "524cae4a",
   "metadata": {},
   "outputs": [],
   "source": [
    "precip_2002_2013 = np.array([[1.07, 0.44, 1.5],\n",
    "                              [0.27, 1.13, 1.72]])"
   ]
  },
  {
   "cell_type": "markdown",
   "id": "74b65206",
   "metadata": {},
   "source": [
    "To select the element in the second row, third column (1.72), you can use:"
   ]
  },
  {
   "cell_type": "code",
   "execution_count": 40,
   "id": "124ce625",
   "metadata": {},
   "outputs": [
    {
     "data": {
      "text/plain": [
       "1.72"
      ]
     },
     "execution_count": 40,
     "metadata": {},
     "output_type": "execute_result"
    }
   ],
   "source": [
    "precip_2002_2013[1, 2] # row and col"
   ]
  },
  {
   "cell_type": "markdown",
   "id": "e087d3a8",
   "metadata": {},
   "source": [
    "---"
   ]
  },
  {
   "cell_type": "code",
   "execution_count": 41,
   "id": "716192b1",
   "metadata": {},
   "outputs": [
    {
     "data": {
      "text/plain": [
       "'C:\\\\Users\\\\34639\\\\earth-analytics\\\\data\\\\earthpy-downloads\\\\monthly-precip-2002-2013.csv'"
      ]
     },
     "execution_count": 41,
     "metadata": {},
     "output_type": "execute_result"
    }
   ],
   "source": [
    "# Download .txt with avg monthly precip (inches)\n",
    "monthly_precip_url = 'https://ndownloader.figshare.com/files/12565616'\n",
    "et.data.get_data(url=monthly_precip_url)\n",
    "\n",
    "# Download .csv of precip data for 2002 and 2013 (inches)\n",
    "precip_2002_2013_url = 'https://ndownloader.figshare.com/files/12707792'\n",
    "et.data.get_data(url=precip_2002_2013_url)"
   ]
  },
  {
   "cell_type": "code",
   "execution_count": 42,
   "id": "f2441b29",
   "metadata": {},
   "outputs": [],
   "source": [
    "# Set working directory to earth-analytics\n",
    "os.chdir(os.path.join(et.io.HOME, 'earth-analytics'))"
   ]
  },
  {
   "cell_type": "code",
   "execution_count": 43,
   "id": "e7a98f43",
   "metadata": {},
   "outputs": [
    {
     "name": "stdout",
     "output_type": "stream",
     "text": [
      "[0.7  0.75 1.85 2.93 3.05 2.02 1.93 1.62 1.84 1.31 1.39 0.84]\n"
     ]
    }
   ],
   "source": [
    "# Import average monthly precip\n",
    "fname = os.path.join(\"data\", \"earthpy-downloads\",\n",
    "                     \"avg-monthly-precip.txt\")\n",
    "\n",
    "avg_monthly_precip = np.loadtxt(fname)\n",
    "\n",
    "print(avg_monthly_precip)"
   ]
  },
  {
   "cell_type": "code",
   "execution_count": 44,
   "id": "e0ccff86",
   "metadata": {},
   "outputs": [
    {
     "name": "stdout",
     "output_type": "stream",
     "text": [
      "[[ 1.07  0.44  1.5   0.2   3.2   1.18  0.09  1.44  1.52  2.44  0.78  0.02]\n",
      " [ 0.27  1.13  1.72  4.14  2.66  0.61  1.03  1.4  18.16  2.24  0.29  0.5 ]]\n"
     ]
    }
   ],
   "source": [
    "# Import monthly precip for 2002 and 2013\n",
    "fname = os.path.join(\"data\", \"earthpy-downloads\",\n",
    "                     \"monthly-precip-2002-2013.csv\")\n",
    "\n",
    "precip_2002_2013 = np.loadtxt(fname, delimiter=\",\")\n",
    "\n",
    "print(precip_2002_2013)"
   ]
  },
  {
   "cell_type": "markdown",
   "id": "e7e28a1e",
   "metadata": {},
   "source": [
    "## Slice One-dimensional Numpy Arrays\n",
    "By checking the shape of avg_monthly_precip using .shape, you know that it contains 12 elements along one dimension (e.g. [12,])."
   ]
  },
  {
   "cell_type": "code",
   "execution_count": 45,
   "id": "8511782f",
   "metadata": {},
   "outputs": [
    {
     "data": {
      "text/plain": [
       "(12,)"
      ]
     },
     "execution_count": 45,
     "metadata": {},
     "output_type": "execute_result"
    }
   ],
   "source": [
    "# Check shape\n",
    "avg_monthly_precip.shape"
   ]
  },
  {
   "cell_type": "markdown",
   "id": "070816f1",
   "metadata": {},
   "source": [
    "If you to select the last element of the array, you can use index [11], as you know that indexing in Python begins with [0]."
   ]
  },
  {
   "cell_type": "code",
   "execution_count": 46,
   "id": "d22267e3",
   "metadata": {},
   "outputs": [
    {
     "data": {
      "text/plain": [
       "0.84"
      ]
     },
     "execution_count": 46,
     "metadata": {},
     "output_type": "execute_result"
    }
   ],
   "source": [
    "# Select the last element of 12 elements\n",
    "avg_monthly_precip[11]"
   ]
  },
  {
   "cell_type": "code",
   "execution_count": 47,
   "id": "09f532db",
   "metadata": {},
   "outputs": [
    {
     "data": {
      "text/plain": [
       "0.84"
      ]
     },
     "execution_count": 47,
     "metadata": {},
     "output_type": "execute_result"
    }
   ],
   "source": [
    "# Select the last element of the array\n",
    "avg_monthly_precip[-1]"
   ]
  },
  {
   "cell_type": "markdown",
   "id": "9fa74b7c",
   "metadata": {},
   "source": [
    "### Slice a Range of Values from One-dimensional Numpy Arrays\n",
    "You can slice a range of elements from one-dimensional numpy arrays such as the third, fourth and fifth elements, by specifying an index range: [starting_value, ending_value]."
   ]
  },
  {
   "cell_type": "code",
   "execution_count": 48,
   "id": "8496ed5b",
   "metadata": {},
   "outputs": [
    {
     "name": "stdout",
     "output_type": "stream",
     "text": [
      "[1.85 2.93 3.05]\n"
     ]
    }
   ],
   "source": [
    "# Slice range from 3rd to 5th elements\n",
    "print(avg_monthly_precip[2:5])"
   ]
  },
  {
   "cell_type": "markdown",
   "id": "c932935d",
   "metadata": {},
   "source": [
    "## Slice Two-dimensional Numpy Arrays\n",
    "Using .shape, you can confirm that precip_2002_2013 is a two-dimensional array with a row count of 2 with a column count of 12."
   ]
  },
  {
   "cell_type": "code",
   "execution_count": 49,
   "id": "987f36ef",
   "metadata": {},
   "outputs": [
    {
     "data": {
      "text/plain": [
       "(2, 12)"
      ]
     },
     "execution_count": 49,
     "metadata": {},
     "output_type": "execute_result"
    }
   ],
   "source": [
    "# Check shape\n",
    "precip_2002_2013.shape"
   ]
  },
  {
   "cell_type": "code",
   "execution_count": 50,
   "id": "442309d8",
   "metadata": {},
   "outputs": [
    {
     "data": {
      "text/plain": [
       "1.72"
      ]
     },
     "execution_count": 50,
     "metadata": {},
     "output_type": "execute_result"
    }
   ],
   "source": [
    "# Select element in 2nd row, 3rd column\n",
    "precip_2002_2013[1, 2]"
   ]
  },
  {
   "cell_type": "code",
   "execution_count": 51,
   "id": "c3d6e54e",
   "metadata": {},
   "outputs": [
    {
     "data": {
      "text/plain": [
       "0.5"
      ]
     },
     "execution_count": 51,
     "metadata": {},
     "output_type": "execute_result"
    }
   ],
   "source": [
    "# Select element in 2nd row, 12th column\n",
    "precip_2002_2013[1, 11]"
   ]
  },
  {
   "cell_type": "code",
   "execution_count": 52,
   "id": "5b569c95",
   "metadata": {},
   "outputs": [
    {
     "data": {
      "text/plain": [
       "0.5"
      ]
     },
     "execution_count": 52,
     "metadata": {},
     "output_type": "execute_result"
    }
   ],
   "source": [
    "# Select element in last row, last column\n",
    "precip_2002_2013[-1, -1]"
   ]
  },
  {
   "cell_type": "markdown",
   "id": "392c13ed",
   "metadata": {},
   "source": [
    "## Slice a Range of Values from Two-dimensional Numpy Arrays\n",
    "You can also use a range for the row index and/or column index to slice multiple elements using:\n",
    "\n",
    "[start_row_index:end_row_index, start_column_index:end_column_index]"
   ]
  },
  {
   "cell_type": "code",
   "execution_count": 53,
   "id": "4ce63e8e",
   "metadata": {},
   "outputs": [
    {
     "name": "stdout",
     "output_type": "stream",
     "text": [
      "[[1.07 0.44]]\n"
     ]
    }
   ],
   "source": [
    "# Slice first row, first two columns\n",
    "print(precip_2002_2013[0:1, 0:2])"
   ]
  },
  {
   "cell_type": "markdown",
   "id": "989013e3",
   "metadata": {},
   "source": [
    "You can flip these index values to select elements in the first two rows, first column."
   ]
  },
  {
   "cell_type": "code",
   "execution_count": 54,
   "id": "69cc1ab2",
   "metadata": {},
   "outputs": [
    {
     "name": "stdout",
     "output_type": "stream",
     "text": [
      "[[1.07]\n",
      " [0.27]]\n"
     ]
    }
   ],
   "source": [
    "# Slice first two rows, first column\n",
    "print(precip_2002_2013[0:2, 0:1])"
   ]
  },
  {
   "cell_type": "code",
   "execution_count": 55,
   "id": "c0b6b945",
   "metadata": {},
   "outputs": [
    {
     "name": "stdout",
     "output_type": "stream",
     "text": [
      "[[1.13 1.72]]\n"
     ]
    }
   ],
   "source": [
    "# Slice 2nd row, 2nd and 3rd columns\n",
    "print(precip_2002_2013[1:2, 1:3])"
   ]
  },
  {
   "cell_type": "code",
   "execution_count": 56,
   "id": "75598b19",
   "metadata": {},
   "outputs": [
    {
     "name": "stdout",
     "output_type": "stream",
     "text": [
      "[[1.07 0.44]\n",
      " [0.27 1.13]]\n"
     ]
    }
   ],
   "source": [
    "# Slice first two rows, first two columns,  omitting the first index value 0 to start a slice at the beginning\n",
    "print(precip_2002_2013[:2, :2])"
   ]
  },
  {
   "cell_type": "markdown",
   "id": "90da1fa8",
   "metadata": {},
   "source": [
    "## Use Shortcuts to Create New One-dimensional Array From Row or Column Slice"
   ]
  },
  {
   "cell_type": "markdown",
   "id": "abcd5a42",
   "metadata": {},
   "source": [
    "Recall that precip_2002_2013 contains two rows (or years) of data for average monthly precipitation (one row for 2002 and one row for 2013) and twelve columns (one for each month).\n",
    "\n",
    "You can use shortcuts to easily select an entire row or column by simply specifying the index of the row or column (e.g. 0 for the first, 1 for the second, etc) and providing : for the other index (meaning all of the row or column).\n",
    "\n",
    "The output of these shortcuts will be one-dimensional arrays, which is very useful if you want to easily plot the data."
   ]
  },
  {
   "cell_type": "markdown",
   "id": "9cfb5037",
   "metadata": {},
   "source": [
    "For example, you can use [:, 0] to select the entire first column of precip_2002_2013, which are all of the values for January (in this case, for 2002 and 2013)."
   ]
  },
  {
   "cell_type": "code",
   "execution_count": 57,
   "id": "7ff71d50",
   "metadata": {},
   "outputs": [
    {
     "name": "stdout",
     "output_type": "stream",
     "text": [
      "[1.07 0.27]\n"
     ]
    }
   ],
   "source": [
    "# Select 1st column and tranf to 1d matrix\n",
    "print(precip_2002_2013[:, 0])"
   ]
  },
  {
   "cell_type": "code",
   "execution_count": 58,
   "id": "903589c8",
   "metadata": {},
   "outputs": [
    {
     "name": "stdout",
     "output_type": "stream",
     "text": [
      "[1.07 0.44 1.5  0.2  3.2  1.18 0.09 1.44 1.52 2.44 0.78 0.02]\n"
     ]
    }
   ],
   "source": [
    "# Select 1st row\n",
    "print(precip_2002_2013[0, :])"
   ]
  },
  {
   "cell_type": "code",
   "execution_count": 59,
   "id": "931bc6b8",
   "metadata": {},
   "outputs": [
    {
     "name": "stdout",
     "output_type": "stream",
     "text": [
      "(12,)\n",
      "[1.07 0.44 1.5  0.2  3.2  1.18 0.09 1.44 1.52 2.44 0.78 0.02]\n"
     ]
    }
   ],
   "source": [
    "# Select 1st row of data for 2002\n",
    "precip_2002 = precip_2002_2013[0, :]\n",
    "\n",
    "print(precip_2002.shape)\n",
    "print(precip_2002)"
   ]
  },
  {
   "cell_type": "markdown",
   "id": "97a0e2f5",
   "metadata": {},
   "source": [
    "To select rows, there is an even shorter shortcut - you can provide an index for the desired row by itself!"
   ]
  },
  {
   "cell_type": "code",
   "execution_count": 60,
   "id": "b209bbf2",
   "metadata": {},
   "outputs": [
    {
     "name": "stdout",
     "output_type": "stream",
     "text": [
      "(12,)\n",
      "[ 0.27  1.13  1.72  4.14  2.66  0.61  1.03  1.4  18.16  2.24  0.29  0.5 ]\n"
     ]
    }
   ],
   "source": [
    "# Select 2nd row of data for 2013\n",
    "precip_2013 = precip_2002_2013[1]\n",
    "\n",
    "print(precip_2013.shape)\n",
    "print(precip_2013)"
   ]
  },
  {
   "cell_type": "markdown",
   "id": "39321166",
   "metadata": {},
   "source": [
    "## Practice Your Numpy Array Skills"
   ]
  },
  {
   "cell_type": "markdown",
   "id": "b580958a",
   "metadata": {},
   "source": [
    "### 1.Review how to download and import data files into numpy arrays to create an array of month names from months.txt which is available for download at “https://ndownloader.figshare.com/files/12565619”.\n",
    "\n"
   ]
  },
  {
   "cell_type": "code",
   "execution_count": 61,
   "id": "066b61f1",
   "metadata": {},
   "outputs": [
    {
     "data": {
      "text/plain": [
       "'C:\\\\Users\\\\34639\\\\earth-analytics\\\\data\\\\earthpy-downloads\\\\months.txt'"
      ]
     },
     "execution_count": 61,
     "metadata": {},
     "output_type": "execute_result"
    }
   ],
   "source": [
    "# Download data from URL to .txt with month names\n",
    "month_names_url = 'https://ndownloader.figshare.com/files/12565619'\n",
    "et.data.get_data(url=month_names_url)"
   ]
  },
  {
   "cell_type": "code",
   "execution_count": 62,
   "id": "e31706cc",
   "metadata": {},
   "outputs": [
    {
     "data": {
      "text/plain": [
       "'C:\\\\Users\\\\34639\\\\earth-analytics'"
      ]
     },
     "execution_count": 62,
     "metadata": {},
     "output_type": "execute_result"
    }
   ],
   "source": [
    "os.getcwd()"
   ]
  },
  {
   "cell_type": "code",
   "execution_count": 63,
   "id": "c18c6133",
   "metadata": {},
   "outputs": [
    {
     "name": "stdout",
     "output_type": "stream",
     "text": [
      "['Jan' 'Feb' 'Mar' 'Apr' 'May' 'June' 'July' 'Aug' 'Sept' 'Oct' 'Nov'\n",
      " 'Dec']\n"
     ]
    }
   ],
   "source": [
    "# Import average monthly precip to numpy array\n",
    "months = np.loadtxt(\"./dades/months.txt\", dtype='str')\n",
    "\n",
    "print(months)"
   ]
  },
  {
   "cell_type": "markdown",
   "id": "857ea28a",
   "metadata": {},
   "source": [
    "### 2.Create a new numpy array for the average monthly precipitation in 2013 by selecting all data values in the last row in precip_2002_2013 (i.e. data for the year 2013).\n",
    "\n"
   ]
  },
  {
   "cell_type": "code",
   "execution_count": 64,
   "id": "e26fd985",
   "metadata": {},
   "outputs": [
    {
     "name": "stdout",
     "output_type": "stream",
     "text": [
      "[ 0.27  1.13  1.72  4.14  2.66  0.61  1.03  1.4  18.16  2.24  0.29  0.5 ]\n"
     ]
    }
   ],
   "source": [
    " pp_2013 = precip_2002_2013[-1]\n",
    "print(pp_2013)"
   ]
  },
  {
   "cell_type": "markdown",
   "id": "25ab971c",
   "metadata": {},
   "source": [
    "### 3. Convert the values in the numpy array from inches to millimeters (1 inch = 25.4 millimeters)."
   ]
  },
  {
   "cell_type": "code",
   "execution_count": 65,
   "id": "cfa0b012",
   "metadata": {},
   "outputs": [
    {
     "name": "stdout",
     "output_type": "stream",
     "text": [
      "[  6.858  28.702  43.688 105.156  67.564  15.494  26.162  35.56  461.264\n",
      "  56.896   7.366  12.7  ]\n"
     ]
    }
   ],
   "source": [
    "pp_2013 *= 25.4\n",
    "print(pp_2013)"
   ]
  },
  {
   "cell_type": "markdown",
   "id": "d6f5594d",
   "metadata": {},
   "source": [
    "### 4. Use the converted numpy array for 2013 and the numpy array of month names to create plot of Average Monthly Precipitation in 2013 for Boulder, CO."
   ]
  },
  {
   "cell_type": "code",
   "execution_count": 69,
   "id": "800ecdb2",
   "metadata": {},
   "outputs": [],
   "source": [
    "import matplotlib.pyplot as plt #sublots"
   ]
  },
  {
   "cell_type": "code",
   "execution_count": 71,
   "id": "092f2f5f",
   "metadata": {},
   "outputs": [
    {
     "data": {
      "image/png": "[encoded data removed]",
      "text/plain": [
       "<Figure size 864x864 with 2 Axes>"
      ]
     },
     "metadata": {
      "needs_background": "light"
     },
     "output_type": "display_data"
    }
   ],
   "source": [
    "# Define plot space\n",
    "fig, (ax1, ax2) = plt.subplots(2, 1, figsize=(12, 12))\n",
    "\n",
    "# Define x and y axes\n",
    "ax1.bar(months, \n",
    "       pp_2013,\n",
    "       color = 'cyan', \n",
    "       edgecolor = 'darkblue')\n",
    "\n",
    "# Set plot title and axes labels\n",
    "ax1.set(title = \"Bar Plot of Average Monthly Precipitation\",\n",
    "       xlabel = \"Month\",\n",
    "       ylabel = \"Precipitation\\n(inches)\");\n",
    "\n",
    "# Define x and y axes\n",
    "ax2.scatter(months, \n",
    "        pp_2013,\n",
    "        c = pp_2013,\n",
    "        cmap = 'viridis')\n",
    "\n",
    "# Set plot title and axes labels\n",
    "ax2.set(title = \"Scatter Plot of Average Monthly Precipitation 2013\",\n",
    "       xlabel = \"Month\",\n",
    "       ylabel = \"Precipitation\\n(inches)\")\n",
    "\n",
    "plt.show()"
   ]
  },
  {
   "cell_type": "code",
   "execution_count": null,
   "id": "f6ce266d",
   "metadata": {},
   "outputs": [],
   "source": []
  }
 ],
 "metadata": {
  "kernelspec": {
   "display_name": "Python 3",
   "language": "python",
   "name": "python3"
  },
  "language_info": {
   "codemirror_mode": {
    "name": "ipython",
    "version": 3
   },
   "file_extension": ".py",
   "mimetype": "text/x-python",
   "name": "python",
   "nbconvert_exporter": "python",
   "pygments_lexer": "ipython3",
   "version": "3.9.4"
  }
 },
 "nbformat": 4,
 "nbformat_minor": 5
}
