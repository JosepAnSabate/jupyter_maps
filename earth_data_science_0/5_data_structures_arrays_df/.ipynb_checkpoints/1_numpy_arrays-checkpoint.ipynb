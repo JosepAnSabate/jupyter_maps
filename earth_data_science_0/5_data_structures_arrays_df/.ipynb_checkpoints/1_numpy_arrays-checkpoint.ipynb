{
 "cells": [
  {
   "cell_type": "markdown",
   "id": "b7385128",
   "metadata": {},
   "source": [
    "After completing this section of the introduction to earth data science online textbook, you will be able to:\n",
    "\n",
    "- Describe the key characteristics of numpy arrays.\n",
    "- Import data from text files (.txt, .csv) into numpy arrays.\n",
    "- Run calculations and summarize data in numpy arrays.\n",
    "- Use indexing to slice (i.e. select) data from numpy arrays."
   ]
  },
  {
   "cell_type": "markdown",
   "id": "087ace17",
   "metadata": {},
   "source": [
    "# Lesson 1. Intro to Numpy Arrays"
   ]
  },
  {
   "cell_type": "markdown",
   "id": "d4ef0f13",
   "metadata": {},
   "source": [
    "After completing this chapter, you will be able to:\n",
    "\n",
    "- Describe the key characteristics of numpy arrays.\n",
    "- Import data from text files (.txt, .csv) into numpy arrays.\n",
    "- Run calculations and summarize data in numpy arrays.\n",
    "- Use indexing to slice (i.e. select) data from numpy arrays."
   ]
  },
  {
   "cell_type": "markdown",
   "id": "4d4efc64",
   "metadata": {},
   "source": [
    "Like Python lists, numpy arrays are also composed of ordered values (called elements) and also use indexing to organize and manipulate the elements in the numpy arrays.\n",
    "\n",
    "A key characteristic of numpy arrays is that all elements in the array must be the same type of data (i.e. all integers, floats, text strings, etc).\n",
    "\n",
    "Unlike lists which do not require a specific Python package to be defined (or worked with), numpy arrays are defined using the array() function from the numpy package."
   ]
  },
  {
   "cell_type": "markdown",
   "id": "68360621",
   "metadata": {},
   "source": [
    "- array = numpy.array([0.7 , 0.75, 1.85])"
   ]
  },
  {
   "cell_type": "markdown",
   "id": "8a751a7e",
   "metadata": {},
   "source": [
    "The example above creates a numpy array with a simple grid structure along one dimension, . However, the grid structure of numpy arrays allow them to store data along multiple dimensions (e.g. rows, columns) that are relative to each other. "
   ]
  },
  {
   "cell_type": "markdown",
   "id": "2adb3e17",
   "metadata": {},
   "source": [
    "- Unlike a Python list, a numpy array is not edited by adding/removing/replacing elements in the array. Instead, each time that the numpy array is manipulated in some way, it is actually deleted and recreated each time.\n",
    "\n",
    "- Numpy arrays can store data along multiple dimensions (e.g. rows, columns) that are relative to each other. This makes numpy arrays a very efficient data structure for large datasets."
   ]
  },
  {
   "cell_type": "markdown",
   "id": "5f43d7fc",
   "metadata": {},
   "source": [
    "### Dimensionality of Numpy Arrays\n",
    "\n",
    "Numpy arrays can be:\n",
    "\n",
    "- one-dimensional composed of values along one dimension (resembling a Python list).\n",
    "- two-dimensional composed of rows of individual arrays with one or more columns.\n",
    "- multi-dimensional composed of nested arrays with one or more dimensions."
   ]
  },
  {
   "cell_type": "code",
   "execution_count": 1,
   "id": "8a0633eb",
   "metadata": {},
   "outputs": [],
   "source": [
    "# Import numpy with alias np\n",
    "import numpy as np"
   ]
  },
  {
   "cell_type": "code",
   "execution_count": 2,
   "id": "725c2aa5",
   "metadata": {},
   "outputs": [
    {
     "name": "stdout",
     "output_type": "stream",
     "text": [
      "[0.7  0.75 1.85]\n"
     ]
    }
   ],
   "source": [
    "# Monthly avg precip for Jan through Mar in Boulder, CO\n",
    "avg_monthly_precip = np.array([0.70, 0.75, 1.85])\n",
    "\n",
    "print(avg_monthly_precip)"
   ]
  },
  {
   "cell_type": "markdown",
   "id": "026178f5",
   "metadata": {},
   "source": [
    "### 2d"
   ]
  },
  {
   "cell_type": "code",
   "execution_count": 3,
   "id": "8fe22bb9",
   "metadata": {},
   "outputs": [
    {
     "name": "stdout",
     "output_type": "stream",
     "text": [
      "[[1.07 0.44 1.5 ]\n",
      " [0.27 1.13 1.72]]\n"
     ]
    }
   ],
   "source": [
    "# Monthly precip for Jan through Mar in 2002 and 2013\n",
    "precip_2002_2013 = np.array([\n",
    "    [1.07, 0.44, 1.50],\n",
    "    [0.27, 1.13, 1.72]\n",
    "])\n",
    "\n",
    "print(precip_2002_2013)"
   ]
  },
  {
   "cell_type": "markdown",
   "id": "3cc95123",
   "metadata": {},
   "source": [
    "# Lesson 2. Import Text Files Into Numpy Arrays"
   ]
  },
  {
   "cell_type": "code",
   "execution_count": null,
   "id": "ea983697",
   "metadata": {},
   "outputs": [],
   "source": []
  }
 ],
 "metadata": {
  "kernelspec": {
   "display_name": "Python 3",
   "language": "python",
   "name": "python3"
  },
  "language_info": {
   "codemirror_mode": {
    "name": "ipython",
    "version": 3
   },
   "file_extension": ".py",
   "mimetype": "text/x-python",
   "name": "python",
   "nbconvert_exporter": "python",
   "pygments_lexer": "ipython3",
   "version": "3.9.4"
  }
 },
 "nbformat": 4,
 "nbformat_minor": 5
}
