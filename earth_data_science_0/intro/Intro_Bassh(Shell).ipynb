{
 "cells": [
  {
   "cell_type": "markdown",
   "id": "ccf762d3",
   "metadata": {},
   "source": [
    "![title](./img/org1.JPG)"
   ]
  },
  {
   "cell_type": "markdown",
   "id": "ff78f230",
   "metadata": {},
   "source": [
    "The readme is a text file that describes data / software packages and tools used to process data in your project. The readme should also describe files and associated naming conventions. Finally, the readme can be used to document any abbreviations used, units, etc as needed.\n",
    "\n"
   ]
  },
  {
   "cell_type": "markdown",
   "id": "7f36bf83",
   "metadata": {},
   "source": [
    "## Introduction to Bash (Shell) and Manipulating Files and Directores at the Command Line"
   ]
  },
  {
   "cell_type": "markdown",
   "id": "9958b185",
   "metadata": {},
   "source": [
    "After completing this chapter, you will be able to:\n",
    "\n",
    "- Explain the roles of Terminal, Shell, and Bash for accessing programs and other items on your computer.\n",
    "- Launch a Terminal session to access Bash.\n",
    "- Run Bash commands in the terminal to work with files and directories on your computer.\n",
    "- Test that Bash is ready for use on your computer."
   ]
  },
  {
   "cell_type": "markdown",
   "id": "56f8b28a",
   "metadata": {},
   "source": [
    "## Terminal, Shell, and Bash - An Overview\n",
    "#### Terminal"
   ]
  },
  {
   "cell_type": "markdown",
   "id": "df34f853",
   "metadata": {},
   "source": [
    "accessing the command line or terminal can often be more efficient than using GUIs for certain tasks, and you can send commands via the terminal to programmatically accomplish these tasks. "
   ]
  },
  {
   "cell_type": "markdown",
   "id": "5c87db23",
   "metadata": {},
   "source": [
    "#### Shell and Bash, en windows git bash"
   ]
  },
  {
   "cell_type": "markdown",
   "id": "d443d2e8",
   "metadata": {},
   "source": [
    "Shell is the primary program that computers use to receive code (i.e. commands) and return information produced by executing these commands (i.e. output).\n",
    "\n",
    "These commands can be entered and executed via the terminal. This allows you to control your computer by typing in commands with a keyboard, instead of using buttons or drop down menus in a GUI with a mouse/keyboard."
   ]
  },
  {
   "cell_type": "markdown",
   "id": "3dcae1e8",
   "metadata": {},
   "source": [
    "**Bash** (also known as the “Bourne Again SHell”) is an implementation of Shell and allows you to efficiently perform many tasks. For example, you can use Bash to perform operations on multiple files quickly via the command line.\n",
    "\n",
    "You can also write and execute scripts in Bash, just like you can in R or Python, that can be executed across different operating systems."
   ]
  },
  {
   "cell_type": "markdown",
   "id": "4e731a95",
   "metadata": {},
   "source": [
    " Sometimes you will hear Bash and Shell used interchangeably; this textbook uses the term Bash."
   ]
  },
  {
   "cell_type": "markdown",
   "id": "26adfb32",
   "metadata": {},
   "source": [
    "# Bash Commands to Manage Directories and Files"
   ]
  },
  {
   "cell_type": "markdown",
   "id": "75d73e01",
   "metadata": {},
   "source": [
    "Run Bash commands to complete the following tasks:\n",
    "-  print the current working directory (pwd)\n",
    "- navigate between directories on your computer (cd)\n",
    "- create new directories (mkdir)\n",
    "- print a list of files and subdirectories within directories (ls)\n",
    "- delete files (rm ) and directories (rm -r)\n",
    "- copy files (cp) and directories (cp -r) to another directory\n",
    "- easily create new files using a single command (touch)"
   ]
  },
  {
   "cell_type": "markdown",
   "id": "7dbdf2d5",
   "metadata": {},
   "source": [
    "# Introduction to Jupyter For Python"
   ]
  },
  {
   "cell_type": "markdown",
   "id": "1abfc3d7",
   "metadata": {},
   "source": [
    "Jupyter Notebook is an Integrated Development Environment (IDE) that allows you to write code, navigate files on our computer, inspect variables and more.\n",
    "\n"
   ]
  },
  {
   "cell_type": "markdown",
   "id": "90b0fd5c",
   "metadata": {},
   "source": [
    "A kernel runs your code in a specific programming language. Jupyter Notebook supports over 40 different languages. In this class, you will use the Python kernel within the Jupyter Notebook IDE."
   ]
  },
  {
   "cell_type": "markdown",
   "id": "68d858b7",
   "metadata": {},
   "source": [
    "m markdown"
   ]
  },
  {
   "cell_type": "code",
   "execution_count": null,
   "id": "87f8effa",
   "metadata": {},
   "outputs": [],
   "source": []
  }
 ],
 "metadata": {
  "kernelspec": {
   "display_name": "Python 3",
   "language": "python",
   "name": "python3"
  },
  "language_info": {
   "codemirror_mode": {
    "name": "ipython",
    "version": 3
   },
   "file_extension": ".py",
   "mimetype": "text/x-python",
   "name": "python",
   "nbconvert_exporter": "python",
   "pygments_lexer": "ipython3",
   "version": "3.9.4"
  }
 },
 "nbformat": 4,
 "nbformat_minor": 5
}
