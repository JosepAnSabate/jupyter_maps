{
 "cells": [
  {
   "cell_type": "markdown",
   "id": "4605707e",
   "metadata": {},
   "source": [
    "# Markdown\n",
    "\n",
    "* This is a bullet list\n",
    "* This is a bullet list\n",
    "* This is a bullet list\n",
    "\n",
    "\n",
    "1. And you can also create ordered lists\n",
    "2. by using numbers\n",
    "3. and listing new items in the lists \n",
    "4. on their own lines"
   ]
  },
  {
   "cell_type": "markdown",
   "id": "05623491",
   "metadata": {},
   "source": [
    "### Highlight Code\n",
    "If you want to highlight a function or some code within a plain text paragraph, you can use one backtick on each side of the text like this:"
   ]
  },
  {
   "cell_type": "markdown",
   "id": "d265a49e",
   "metadata": {},
   "source": [
    "`Here is some code!`"
   ]
  },
  {
   "cell_type": "markdown",
   "id": "969d4cb0",
   "metadata": {},
   "source": [
    "`codi`"
   ]
  },
  {
   "cell_type": "markdown",
   "id": "173bf3c9",
   "metadata": {},
   "source": [
    "***"
   ]
  },
  {
   "cell_type": "markdown",
   "id": "26989563",
   "metadata": {},
   "source": [
    "Hyperlinks\n",
    "You can also use HTML in Markdown cells to create hyperlinks to websites using the following syntax:\n",
    "\n",
    "<a href=\"url\" target=\"_blank\">hyperlinked words</a>"
   ]
  },
  {
   "cell_type": "markdown",
   "id": "651c9684",
   "metadata": {},
   "source": [
    "Render Images\n",
    "You can also use Markdown to link to images on the web using the following syntax:\n",
    "\n",
    "![alt text here](url-to-image-here)"
   ]
  },
  {
   "cell_type": "markdown",
   "id": "12b46be1",
   "metadata": {},
   "source": [
    "# Spatial Data Formats"
   ]
  },
  {
   "cell_type": "markdown",
   "id": "2d9c3b00",
   "metadata": {},
   "source": [
    "#### vector and raster."
   ]
  },
  {
   "cell_type": "markdown",
   "id": "1a9dc48c",
   "metadata": {},
   "source": [
    "## Fundamentals of Raster Data in Python\n",
    "In this lesson, you will learn fundamental concepts related to working with raster data in Python, including understanding the spatial attributes of raster data, how to open raster data, and how to visually plot the data.\n",
    "\n",
    "## Learning Objectives\n",
    "After completing this lesson, you will be able to:\n",
    "\n",
    "- Open raster data using Rasterio in Python.\n",
    "- Be able to plot spatial raster data using EarthPy in Python."
   ]
  },
  {
   "cell_type": "markdown",
   "id": "ce08b9f2",
   "metadata": {},
   "source": [
    "## Vector Data in Python\n",
    "In this lesson, you will be introduced to the spatial vector data structure and the shapefile file format (.shp). You will also learn how to open, explore and plot vector data using the Geopandas package in Python.\n",
    "\n",
    " ### Learning Objectives\n",
    "After completing this lesson, you will be able to:\n",
    "\n",
    "- Describe the characteristics of 3 key vector data structures: points, lines and polygons.\n",
    "- Open a shapefile in Python using Geopandas - gpd.read_file().\n",
    "- Plot a shapfile in Python using Geopandas - gpd.plot()."
   ]
  },
  {
   "cell_type": "markdown",
   "id": "b4926f3d",
   "metadata": {},
   "source": [
    "The shapefile is not the only way that vector data are stored. Geospatial data can also be delivered in a GeoJSON format, or even a tabular format where the spatial information is contained in columns."
   ]
  },
  {
   "cell_type": "markdown",
   "id": "e2801d26",
   "metadata": {},
   "source": [
    "### Challenge 2: Create a Spatial GeoDataframe From a DataFrame\n",
    "You can create a Geopandas GeoDataFrame from a Pandas DataFrame if there is coordinate data in the DataFrame. In the data that you opened above, there are columns for the X and Y coordinates of each rock formation - with headers named X and Y.\n",
    "\n",
    "You can convert columns containing x,y coordinate data using the GeoPandas points_from_xy() function as follows:\n",
    "\n",
    "coordinates = gpd.points_from_xy(column-with-x-data, column-with-y-data.Y)\n",
    "\n",
    "You can then set the geometry column for the new GeoDataFrame to the x,y data that you extracted from the data frame.\n",
    "\n",
    "gpd.GeoDataFrame(data=boulder_climbing, \n",
    "                 geometry=coordinates)\n",
    "GeoDataFrame. Copy the code below to create a new GeoDataFrame containing the boulder climbing area data in a spatial format that you can plot.\n",
    "\n",
    "IMPORTANT: be sure to assign the output of the code below to a new variable name called boulder_climbing_gdf.\n",
    "\n",
    "\n",
    "coordinates = gpd.points_from_xy(boulder_climbing.X, boulder_climbing.Y)\n",
    "\n",
    "gpd.GeoDataFrame(data=boulder_climbing, \n",
    "                 geometry=coordinates)\n",
    "In your code:\n",
    "\n",
    "Copy the code above to create a GeoDataFrame from the DataFrame that you created above.\n",
    "Next, plot your data using .plot()\n"
   ]
  },
  {
   "cell_type": "code",
   "execution_count": null,
   "id": "b74c0be3",
   "metadata": {},
   "outputs": [],
   "source": []
  }
 ],
 "metadata": {
  "kernelspec": {
   "display_name": "Python 3",
   "language": "python",
   "name": "python3"
  },
  "language_info": {
   "codemirror_mode": {
    "name": "ipython",
    "version": 3
   },
   "file_extension": ".py",
   "mimetype": "text/x-python",
   "name": "python",
   "nbconvert_exporter": "python",
   "pygments_lexer": "ipython3",
   "version": "3.9.4"
  }
 },
 "nbformat": 4,
 "nbformat_minor": 5
}
