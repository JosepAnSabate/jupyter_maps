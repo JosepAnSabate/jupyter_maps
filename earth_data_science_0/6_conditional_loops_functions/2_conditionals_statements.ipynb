{
 "cells": [
  {
   "cell_type": "markdown",
   "id": "790e0b92",
   "metadata": {},
   "source": [
    "A conditional statement is used to determine whether a certain condition exists before code is executed."
   ]
  },
  {
   "cell_type": "code",
   "execution_count": 1,
   "id": "4de48cbc",
   "metadata": {},
   "outputs": [
    {
     "ename": "SyntaxError",
     "evalue": "invalid syntax (<ipython-input-1-5878f545e8c4>, line 2)",
     "output_type": "error",
     "traceback": [
      "\u001b[1;36m  File \u001b[1;32m\"<ipython-input-1-5878f545e8c4>\"\u001b[1;36m, line \u001b[1;32m2\u001b[0m\n\u001b[1;33m    some code here\u001b[0m\n\u001b[1;37m         ^\u001b[0m\n\u001b[1;31mSyntaxError\u001b[0m\u001b[1;31m:\u001b[0m invalid syntax\n"
     ]
    }
   ],
   "source": [
    "if condition:\n",
    "    some code here\n",
    "else:\n",
    "    some other code here"
   ]
  },
  {
   "cell_type": "code",
   "execution_count": 2,
   "id": "0eb327ee",
   "metadata": {},
   "outputs": [
    {
     "ename": "NameError",
     "evalue": "name 'condition' is not defined",
     "output_type": "error",
     "traceback": [
      "\u001b[1;31m---------------------------------------------------------------------------\u001b[0m",
      "\u001b[1;31mNameError\u001b[0m                                 Traceback (most recent call last)",
      "\u001b[1;32m<ipython-input-2-edd24049c32c>\u001b[0m in \u001b[0;36m<module>\u001b[1;34m\u001b[0m\n\u001b[1;32m----> 1\u001b[1;33m \u001b[1;32mif\u001b[0m \u001b[0mcondition\u001b[0m\u001b[1;33m:\u001b[0m\u001b[1;33m\u001b[0m\u001b[1;33m\u001b[0m\u001b[0m\n\u001b[0m\u001b[0;32m      2\u001b[0m     \u001b[0mprint\u001b[0m\u001b[1;33m(\u001b[0m\u001b[1;34m\"Condition is true, and this statement is printed.\"\u001b[0m\u001b[1;33m)\u001b[0m\u001b[1;33m\u001b[0m\u001b[1;33m\u001b[0m\u001b[0m\n\u001b[0;32m      3\u001b[0m \u001b[1;32melse\u001b[0m\u001b[1;33m:\u001b[0m\u001b[1;33m\u001b[0m\u001b[1;33m\u001b[0m\u001b[0m\n\u001b[0;32m      4\u001b[0m     \u001b[0mprint\u001b[0m\u001b[1;33m(\u001b[0m\u001b[1;34m\"Condition is false (i.e. not true), so a different statement is printed.\"\u001b[0m\u001b[1;33m)\u001b[0m\u001b[1;33m\u001b[0m\u001b[1;33m\u001b[0m\u001b[0m\n",
      "\u001b[1;31mNameError\u001b[0m: name 'condition' is not defined"
     ]
    }
   ],
   "source": [
    "if condition:\n",
    "    print(\"Condition is true, and this statement is printed.\")\n",
    "else:\n",
    "    print(\"Condition is false (i.e. not true), so a different statement is printed.\")"
   ]
  },
  {
   "cell_type": "markdown",
   "id": "ffc98e91",
   "metadata": {},
   "source": [
    "## Compare Numeric Values Using Conditional Statements"
   ]
  },
  {
   "cell_type": "markdown",
   "id": "04fe3ae0",
   "metadata": {},
   "source": [
    "You can write conditional statements that use comparison operators (e.g. **equal to ==, less than <**) to check the value of a variable against some other value or variable."
   ]
  },
  {
   "cell_type": "code",
   "execution_count": 3,
   "id": "fee06bfa",
   "metadata": {},
   "outputs": [
    {
     "name": "stdout",
     "output_type": "stream",
     "text": [
      "x is equal to 10.\n"
     ]
    }
   ],
   "source": [
    "# Set x to 10\n",
    "x = 10\n",
    "\n",
    "# Compare x to 10\n",
    "if x == 10:\n",
    "    print(\"x is equal to 10.\")    \n",
    "else:\n",
    "    print(\"x has a value of\", x, \"which is not equal to 10.\")   "
   ]
  },
  {
   "cell_type": "code",
   "execution_count": 4,
   "id": "25c1ac2a",
   "metadata": {},
   "outputs": [
    {
     "name": "stdout",
     "output_type": "stream",
     "text": [
      "x has a value of 0 which is not equal to 10.\n"
     ]
    }
   ],
   "source": [
    "# Set x to 0\n",
    "x = 0\n",
    "\n",
    "# Compare x to 10\n",
    "if x == 10:\n",
    "    print(\"x is equal to 10.\")    \n",
    "else:\n",
    "    print(\"x has a value of\", x, \"which is not equal to 10.\")    "
   ]
  },
  {
   "cell_type": "code",
   "execution_count": 5,
   "id": "c7de415f",
   "metadata": {},
   "outputs": [
    {
     "name": "stdout",
     "output_type": "stream",
     "text": [
      "x has a value of 0 which is less than 10.\n"
     ]
    }
   ],
   "source": [
    "# Set x to 0\n",
    "x = 0\n",
    "\n",
    "# Check whether x is less than 10\n",
    "if x < 10:\n",
    "    print(\"x has a value of\", x, \"which is less than 10.\")    \n",
    "else:\n",
    "    print(\"x has a value of\", x, \"which is greater than 10.\")    "
   ]
  },
  {
   "cell_type": "markdown",
   "id": "95fc69f2",
   "metadata": {},
   "source": [
    "## Check For Values Using Conditional Statements\n",
    "You can use membership operators (e.g. **in or not in**) to write conditional statements to **check whether certain values are contained within a data structure**, such as a list, or even a text string."
   ]
  },
  {
   "cell_type": "code",
   "execution_count": 6,
   "id": "7b76ddb9",
   "metadata": {},
   "outputs": [
    {
     "name": "stdout",
     "output_type": "stream",
     "text": [
      "Value is in list.\n"
     ]
    }
   ],
   "source": [
    "# Create list of average monthly precip (inches) in Boulder, CO\n",
    "avg_monthly_precip = [0.70,  0.75, 1.85, 2.93, 3.05, 2.02, \n",
    "                      1.93, 1.62, 1.84, 1.31, 1.39, 0.84]\n",
    "\n",
    "# Check for value 0.70 in list\n",
    "if 0.70 in avg_monthly_precip: # in\n",
    "    print(\"Value is in list.\")\n",
    "else:     \n",
    "    print(\"Value is not in list.\")"
   ]
  },
  {
   "cell_type": "markdown",
   "id": "a46c93b1",
   "metadata": {},
   "source": [
    "The condition above could also be checked in the opposite manner using not in to check that the value is not in the list:"
   ]
  },
  {
   "cell_type": "code",
   "execution_count": 8,
   "id": "ece23403",
   "metadata": {},
   "outputs": [
    {
     "name": "stdout",
     "output_type": "stream",
     "text": [
      "Value is not in list.\n"
     ]
    }
   ],
   "source": [
    "# Check that value 0.71 not in list\n",
    "if 0.71 not in avg_monthly_precip: # not in\n",
    "    print(\"Value is not in list.\")\n",
    "else:     \n",
    "    print(\"Value is in list.\")"
   ]
  },
  {
   "cell_type": "markdown",
   "id": "d8b6a102",
   "metadata": {},
   "source": [
    "You can also use membership operators to check for specific words within a text string."
   ]
  },
  {
   "cell_type": "code",
   "execution_count": 11,
   "id": "344241ce",
   "metadata": {},
   "outputs": [
    {
     "name": "stdout",
     "output_type": "stream",
     "text": [
      "This textstring does not contain the word precip.\n"
     ]
    }
   ],
   "source": [
    "# Check for string \"precip\" within text string \"avg_monthly_temp\"\n",
    "if \"precip\" in \"avg_monthly_temp\":\n",
    "    print(\"This textstring contains the word precip.\")\n",
    "    \n",
    "else:\n",
    "    print(\"This textstring does not contain the word precip.\")"
   ]
  },
  {
   "cell_type": "markdown",
   "id": "c74cbe13",
   "metadata": {},
   "source": [
    "Note that with this syntax, you are simply checking whether one text string is contained within another text string.\n",
    "\n",
    "Thus, if you check for a specific text string within the name of an object, such as a list (e.g. avg_monthly_precip), you are not actually checking the values contained with the object.\n",
    "\n",
    "Instead, specifying the object name using quotations \"\" (e.g. \"list_name\") identifies that you are referring to the name as text string."
   ]
  },
  {
   "cell_type": "code",
   "execution_count": 12,
   "id": "60639ef0",
   "metadata": {},
   "outputs": [
    {
     "name": "stdout",
     "output_type": "stream",
     "text": [
      "This textstring contains the word precip.\n"
     ]
    }
   ],
   "source": [
    "# Check for string \"precip\" within text string \"avg_monthly_precip\"\n",
    "if \"precip\" in \"avg_monthly_precip\":\n",
    "    print(\"This textstring contains the word precip.\")\n",
    "    \n",
    "else:\n",
    "    print(\"This textstring does not contain the word precip.\")"
   ]
  },
  {
   "cell_type": "markdown",
   "id": "f47d6b20",
   "metadata": {},
   "source": [
    "## Check Paths Using Conditional Statements\n",
    "You can also use conditional statements to check paths using a familiar function: **os.path.exists()**.\n",
    "\n"
   ]
  },
  {
   "cell_type": "code",
   "execution_count": 13,
   "id": "852d65fb",
   "metadata": {},
   "outputs": [],
   "source": [
    "# Import necessary packages\n",
    "import os\n",
    "import numpy as np\n",
    "import earthpy as et"
   ]
  },
  {
   "cell_type": "code",
   "execution_count": 14,
   "id": "b34a0ccd",
   "metadata": {},
   "outputs": [
    {
     "data": {
      "text/plain": [
       "'C:\\\\Users\\\\34639\\\\earth-analytics\\\\data\\\\earthpy-downloads\\\\avg-monthly-precip.txt'"
      ]
     },
     "execution_count": 14,
     "metadata": {},
     "output_type": "execute_result"
    }
   ],
   "source": [
    "# Avg monthly precip (inches) of Boulder, CO for 1-d array\n",
    "avg_month_precip_url = 'https://ndownloader.figshare.com/files/12565616'\n",
    "et.data.get_data(url=avg_month_precip_url)"
   ]
  },
  {
   "cell_type": "code",
   "execution_count": 15,
   "id": "41d75444",
   "metadata": {},
   "outputs": [],
   "source": [
    "# Set working directory to earth-analytics\n",
    "os.chdir(os.path.join(et.io.HOME, 'earth-analytics'))"
   ]
  },
  {
   "cell_type": "code",
   "execution_count": 16,
   "id": "6cc1b357",
   "metadata": {},
   "outputs": [],
   "source": [
    "# Path relative to working directory\n",
    "avg_month_precip_path = os.path.join(\"data\", \"earthpy-downloads\", \n",
    "                                     \"avg-monthly-precip.txt\")"
   ]
  },
  {
   "cell_type": "markdown",
   "id": "e0b0b0a9",
   "metadata": {},
   "source": [
    "Last, add the defined path to the conditional statement to check whether the path exists."
   ]
  },
  {
   "cell_type": "code",
   "execution_count": 17,
   "id": "366279c4",
   "metadata": {},
   "outputs": [
    {
     "name": "stdout",
     "output_type": "stream",
     "text": [
      "This is a valid path.\n"
     ]
    }
   ],
   "source": [
    "# Check path\n",
    "if os.path.exists(avg_month_precip_path):\n",
    "    print(\"This is a valid path.\")\n",
    "else:\n",
    "    print(\"This path does not exist.\")"
   ]
  },
  {
   "cell_type": "markdown",
   "id": "62571bc6",
   "metadata": {},
   "source": [
    "You can expand on the conditional statement to execute additional code if the path is valid, such as code to import the file into a numpy array."
   ]
  },
  {
   "cell_type": "code",
   "execution_count": 18,
   "id": "791b3555",
   "metadata": {},
   "outputs": [
    {
     "name": "stdout",
     "output_type": "stream",
     "text": [
      "[0.7  0.75 1.85 2.93 3.05 2.02 1.93 1.62 1.84 1.31 1.39 0.84]\n"
     ]
    }
   ],
   "source": [
    "# Import data into array if path exists\n",
    "if os.path.exists(avg_month_precip_path):\n",
    "    avg_month_precip = np.loadtxt(avg_month_precip_path)\n",
    "    print(avg_month_precip)\n",
    "else:\n",
    "    print(\"This path does not exist.\")"
   ]
  },
  {
   "cell_type": "markdown",
   "id": "cafe41e0",
   "metadata": {},
   "source": [
    "# Lesson 2. Conditional Statements with Alternative or Combined Conditions"
   ]
  },
  {
   "cell_type": "markdown",
   "id": "904c6e52",
   "metadata": {},
   "source": [
    "#### elif"
   ]
  },
  {
   "cell_type": "code",
   "execution_count": 22,
   "id": "862656f2",
   "metadata": {},
   "outputs": [
    {
     "ename": "NameError",
     "evalue": "name 'condition' is not defined",
     "output_type": "error",
     "traceback": [
      "\u001b[1;31m---------------------------------------------------------------------------\u001b[0m",
      "\u001b[1;31mNameError\u001b[0m                                 Traceback (most recent call last)",
      "\u001b[1;32m<ipython-input-22-4d12158e2908>\u001b[0m in \u001b[0;36m<module>\u001b[1;34m\u001b[0m\n\u001b[1;32m----> 1\u001b[1;33m \u001b[1;32mif\u001b[0m \u001b[0mcondition\u001b[0m\u001b[1;33m:\u001b[0m\u001b[1;33m\u001b[0m\u001b[1;33m\u001b[0m\u001b[0m\n\u001b[0m\u001b[0;32m      2\u001b[0m     \u001b[0mprint\u001b[0m\u001b[1;33m(\u001b[0m\u001b[1;34m\"First condition is true.\"\u001b[0m\u001b[1;33m)\u001b[0m\u001b[1;33m\u001b[0m\u001b[1;33m\u001b[0m\u001b[0m\n\u001b[0;32m      3\u001b[0m \u001b[1;33m\u001b[0m\u001b[0m\n\u001b[0;32m      4\u001b[0m \u001b[1;32melif\u001b[0m \u001b[0malternative_condition\u001b[0m\u001b[1;33m:\u001b[0m\u001b[1;33m\u001b[0m\u001b[1;33m\u001b[0m\u001b[0m\n\u001b[0;32m      5\u001b[0m     \u001b[0mprint\u001b[0m\u001b[1;33m(\u001b[0m\u001b[1;34m\"First condition is not true but alternative condition is true.\"\u001b[0m\u001b[1;33m)\u001b[0m\u001b[1;33m\u001b[0m\u001b[1;33m\u001b[0m\u001b[0m\n",
      "\u001b[1;31mNameError\u001b[0m: name 'condition' is not defined"
     ]
    }
   ],
   "source": [
    "if condition:\n",
    "    print(\"First condition is true.\")\n",
    "\n",
    "elif alternative_condition:\n",
    "    print(\"First condition is not true but alternative condition is true.\")\n",
    "\n",
    "else:\n",
    "    print(\"Neither of these conditions is true, so this statement is printed.\")"
   ]
  },
  {
   "cell_type": "code",
   "execution_count": 23,
   "id": "ab7d133e",
   "metadata": {},
   "outputs": [
    {
     "name": "stdout",
     "output_type": "stream",
     "text": [
      "x started with value of 5\n",
      "It now has a value of 10 which is equal to y.\n"
     ]
    }
   ],
   "source": [
    "# Set x equal to 5 and y equal to 10\n",
    "x = 5\n",
    "y = 10\n",
    "\n",
    "# Execute code based on comparison of x to y\n",
    "if x < y:\n",
    "    print(\"x started with value of\", x)\n",
    "    x += 5\n",
    "    print(\"It now has a value of\", x, \"which is equal to y.\")\n",
    "\n",
    "elif x > y:\n",
    "    print(\"x started with value of\", x)\n",
    "    x -= 5\n",
    "    print(\"It now has a value of\", x, \"which is equal to y.\")\n",
    "\n",
    "else:\n",
    "    print(\"x started with a value of\", x, \"which is already equal to y.\")"
   ]
  },
  {
   "cell_type": "markdown",
   "id": "c2bfc164",
   "metadata": {},
   "source": [
    "In this second example below, x is equal to a value greater than y, so the first condition is no longer satisfied. However, the second condition is satisfied, which results in a value of 5 being subtracted from x."
   ]
  },
  {
   "cell_type": "code",
   "execution_count": 24,
   "id": "8c471923",
   "metadata": {},
   "outputs": [
    {
     "name": "stdout",
     "output_type": "stream",
     "text": [
      "x started with value of 15\n",
      "It now has a value of 10 which is equal to y.\n"
     ]
    }
   ],
   "source": [
    "# Set x equal to 15 \n",
    "x = 15\n",
    "\n",
    "# Execute code based on comparison of x to y\n",
    "if x < y:\n",
    "    print(\"x started with value of\", x)\n",
    "    x += 5\n",
    "    print(\"It now has a value of\", x, \"which is equal to y.\")\n",
    "\n",
    "elif x > y:\n",
    "    print(\"x started with value of\", x)\n",
    "    x -= 5\n",
    "    print(\"It now has a value of\", x, \"which is equal to y.\")\n",
    "\n",
    "else:\n",
    "    print(\"x started with a value of\", x, \"which is already equal to y.\")"
   ]
  },
  {
   "cell_type": "markdown",
   "id": "33e0c25a",
   "metadata": {},
   "source": [
    "However, if x is set to same value as y, neither the first nor second conditions are met, and the code provided with else is executed."
   ]
  },
  {
   "cell_type": "code",
   "execution_count": 25,
   "id": "c1e9f895",
   "metadata": {},
   "outputs": [
    {
     "name": "stdout",
     "output_type": "stream",
     "text": [
      "x started with a value of 10 which is already equal to y.\n"
     ]
    }
   ],
   "source": [
    "# Set x equal to 10 \n",
    "x = 10\n",
    "\n",
    "# Execute code based on comparison of x to y\n",
    "if x < y:\n",
    "    print(\"x started with value of\", x)\n",
    "    x += 5\n",
    "    print(\"It now has a value of\", x, \"which is equal to y.\")\n",
    "\n",
    "elif x > y:\n",
    "    print(\"x started with value of\", x)\n",
    "    x -= 5\n",
    "    print(\"It now has a value of\", x, \"which is equal to y.\")\n",
    "\n",
    "else:\n",
    "    print(\"x started with a value of\", x, \"which is already equal to y.\")"
   ]
  },
  {
   "cell_type": "markdown",
   "id": "ad240d13",
   "metadata": {},
   "source": [
    "You can also apply the elif syntax to structure conditional statements that use other operators or check values for text strings or objects.\n",
    "\n",
    "For example, you can check if a text string is contained within another text string and define a filename based on which condition is satisfied."
   ]
  },
  {
   "cell_type": "code",
   "execution_count": 26,
   "id": "f863378a",
   "metadata": {},
   "outputs": [
    {
     "name": "stdout",
     "output_type": "stream",
     "text": [
      "avg_monthly_precip\n"
     ]
    }
   ],
   "source": [
    "# Set fname based on which text string contains \"precip\"\n",
    "if \"precip\" in \"avg_monthly_temp\":\n",
    "    fname = \"avg_monthly_temp\"\n",
    "    print(fname)\n",
    "\n",
    "elif \"precip\" in \"avg_monthly_precip\":\n",
    "    fname = \"avg_monthly_precip\"\n",
    "    print(fname)  \n",
    "\n",
    "else:\n",
    "    print(\"Neither textstring contains the word precip.\")"
   ]
  },
  {
   "cell_type": "markdown",
   "id": "e2fd5ce5",
   "metadata": {},
   "source": [
    "In the example below, the first condition checks whether the last value of the list (using index [-1]) is equal to 0.84, the average precipitation value for December."
   ]
  },
  {
   "cell_type": "code",
   "execution_count": 28,
   "id": "060fad46",
   "metadata": {},
   "outputs": [
    {
     "name": "stdout",
     "output_type": "stream",
     "text": [
      "[0.7, 0.75, 1.85, 2.93, 3.05, 2.02, 1.93, 1.62, 1.84, 1.31, 1.39, 0.84]\n"
     ]
    }
   ],
   "source": [
    "# List of average monthly precip (inches) in Boulder, CO without Dec value\n",
    "avg_monthly_precip = [0.70,  0.75, 1.85, 2.93, 3.05, 2.02, \n",
    "                      1.93, 1.62, 1.84, 1.31, 1.39]\n",
    "\n",
    "# Add value to list depending on existing last value\n",
    "if avg_monthly_precip[-1] == 0.84:   \n",
    "    print(avg_monthly_precip[-1]) # Print last value in the list\n",
    "\n",
    "elif avg_monthly_precip[-1] == 1.39:   \n",
    "    avg_monthly_precip += [0.84] # Add Dec value\n",
    "    print(avg_monthly_precip)    \n",
    "\n",
    "else:     \n",
    "    print(\"The last item in the list is neither 0.84 nor 1.39.\")"
   ]
  },
  {
   "cell_type": "markdown",
   "id": "e468c1f8",
   "metadata": {},
   "source": [
    "## Conditional Statements With Combinations of Conditions\n",
    "Logical operators (e.g. and, or, not) allow you to create conditional statements that can check for combinations of conditions. You can use:\n",
    "\n",
    "- and to execute code if all specified conditions have been met\n",
    "- or to execute code if at least one specified condition has been met\n",
    "- not to execute code only if the specified condition has not been met (note that you can use not in combination with and or or to check whether multiple conditions are not met)"
   ]
  },
  {
   "cell_type": "markdown",
   "id": "91ea46be",
   "metadata": {},
   "source": [
    "## and"
   ]
  },
  {
   "cell_type": "code",
   "execution_count": 29,
   "id": "38305e97",
   "metadata": {},
   "outputs": [
    {
     "name": "stdout",
     "output_type": "stream",
     "text": [
      "15\n"
     ]
    }
   ],
   "source": [
    "# Set x equal to 5 and y equal to 10\n",
    "x = 5\n",
    "y = 10\n",
    "\n",
    "# Add x and y if they are both integers\n",
    "if type(x) is int and type(y) is int:\n",
    "    print(x + y)\n",
    "else:\n",
    "    print(\"Either x or y is not an integer.\")"
   ]
  },
  {
   "cell_type": "code",
   "execution_count": 30,
   "id": "fafaad18",
   "metadata": {},
   "outputs": [
    {
     "name": "stdout",
     "output_type": "stream",
     "text": [
      "Either x or y is not an integer, so they cannot be added.\n"
     ]
    }
   ],
   "source": [
    "# Set x equal to 5 and y equal to text string\n",
    "x = 5\n",
    "y = \"Some text\"\n",
    "\n",
    "# Add x and y if they are both integers\n",
    "if type(x) is int and type(y) is int:\n",
    "    print(x + y)\n",
    "else:\n",
    "    print(\"Either x or y is not an integer, so they cannot be added.\")"
   ]
  },
  {
   "cell_type": "markdown",
   "id": "68bee067",
   "metadata": {},
   "source": [
    "---"
   ]
  },
  {
   "cell_type": "code",
   "execution_count": 31,
   "id": "c4aa83f6",
   "metadata": {},
   "outputs": [
    {
     "name": "stdout",
     "output_type": "stream",
     "text": [
      "12\n",
      "11\n"
     ]
    }
   ],
   "source": [
    "# Create list of abbreviated month names without Dec\n",
    "months = [\"Jan\", \"Feb\", \"Mar\", \"Apr\", \"May\", \"June\",\n",
    "          \"July\", \"Aug\", \"Sept\", \"Oct\", \"Nov\"]\n",
    "\n",
    "# Length of avg_monthly_precip\n",
    "precip_len = len(avg_monthly_precip) \n",
    "print(precip_len)\n",
    "\n",
    "# Length of months\n",
    "months_len = len(months)\n",
    "print(months_len)"
   ]
  },
  {
   "cell_type": "code",
   "execution_count": 32,
   "id": "e6b0c946",
   "metadata": {},
   "outputs": [
    {
     "name": "stdout",
     "output_type": "stream",
     "text": [
      "Objects are not of the same type or do not have same length.\n"
     ]
    }
   ],
   "source": [
    "# Check whether both type and length of avg_monthly_precip and months match\n",
    "if type(avg_monthly_precip) is type(months) and precip_len == months_len:\n",
    "    print(\"Objects are of the same type and have the same length.\")\n",
    "else:\n",
    "    print(\"Objects are not of the same type or do not have same length.\")"
   ]
  },
  {
   "cell_type": "markdown",
   "id": "ae3e6891",
   "metadata": {},
   "source": [
    "However, the second condition is not satistifed because the months list is missing Dec (leaving it with only 11 values)."
   ]
  },
  {
   "cell_type": "markdown",
   "id": "1e2538c2",
   "metadata": {},
   "source": [
    "## or"
   ]
  },
  {
   "cell_type": "code",
   "execution_count": 33,
   "id": "9bfab5f9",
   "metadata": {},
   "outputs": [
    {
     "name": "stdout",
     "output_type": "stream",
     "text": [
      "Either x or y is equal to 0.\n",
      "x is now 1 and y is now 11\n"
     ]
    }
   ],
   "source": [
    "# Set x equal to 0 and y equal to 10\n",
    "x = 0\n",
    "y = 10\n",
    "\n",
    "# Check whether either is equal to zero\n",
    "if x == 0 or y == 0:\n",
    "    print(\"Either x or y is equal to 0.\")\n",
    "    x += 1\n",
    "    y += 1\n",
    "    print(\"x is now\", x, \"and y is now\", y)\n",
    "\n",
    "else:\n",
    "    print(\"Neither x nor y is equal to 0.\")"
   ]
  },
  {
   "cell_type": "markdown",
   "id": "6c3c4076",
   "metadata": {},
   "source": [
    "For another example, recall the conditional statement comparing the types and lengths of two lists.\n",
    "\n",
    "The first condition is true, as both objects are lists, but the second condition is not true because the months list is missing Dec (leaving it with only 11 values).\n",
    "\n",
    "By using the or statement, only one condition has to be true, in order for the if statement to be satisfied and for the code provided with if to execute."
   ]
  },
  {
   "cell_type": "code",
   "execution_count": 34,
   "id": "1fa41e1a",
   "metadata": {},
   "outputs": [
    {
     "name": "stdout",
     "output_type": "stream",
     "text": [
      "Objects have either the same type or length.\n"
     ]
    }
   ],
   "source": [
    "# Check match for either type and length of avg_monthly_precip and months\n",
    "if type(avg_monthly_precip) is type(months) or precip_len == months_len:\n",
    "    print(\"Objects have either the same type or length.\")\n",
    "else:\n",
    "    print(\"Objects either do not have the same type or same length.\")"
   ]
  },
  {
   "cell_type": "code",
   "execution_count": null,
   "id": "76fedb1b",
   "metadata": {},
   "outputs": [],
   "source": []
  }
 ],
 "metadata": {
  "kernelspec": {
   "display_name": "Python 3",
   "language": "python",
   "name": "python3"
  },
  "language_info": {
   "codemirror_mode": {
    "name": "ipython",
    "version": 3
   },
   "file_extension": ".py",
   "mimetype": "text/x-python",
   "name": "python",
   "nbconvert_exporter": "python",
   "pygments_lexer": "ipython3",
   "version": "3.9.4"
  }
 },
 "nbformat": 4,
 "nbformat_minor": 5
}
