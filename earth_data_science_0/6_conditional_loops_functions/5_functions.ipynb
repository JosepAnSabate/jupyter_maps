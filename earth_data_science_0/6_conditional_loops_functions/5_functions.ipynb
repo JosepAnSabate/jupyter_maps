{
 "cells": [
  {
   "cell_type": "markdown",
   "id": "2ee40660",
   "metadata": {},
   "source": [
    "# Lesson 1. Introduction to Writing Functions"
   ]
  },
  {
   "cell_type": "markdown",
   "id": "d7398f40",
   "metadata": {},
   "source": [
    "After completing this chapter, you will be able to:\n",
    "\n",
    "- Explain how using functions help you to write DRY (Don’t Repeat Yourself) code in Python.\n",
    "- Describe the components needed to define a function in Python.\n",
    "- Write and execute a custom function in Python.\n",
    "- Write nested functions (functions inside of other functions) in Python"
   ]
  },
  {
   "cell_type": "markdown",
   "id": "147e4c41",
   "metadata": {},
   "source": [
    "A function is a reusable block of code that performs a specific task. Functions receive inputs to which code is applied and return outputs (or results) of the code.\n",
    "\n",
    "#### input parameter –> function does something –> output results\n",
    "\n",
    "For example:"
   ]
  },
  {
   "cell_type": "code",
   "execution_count": 2,
   "id": "6a167ab1",
   "metadata": {},
   "outputs": [
    {
     "name": "stdout",
     "output_type": "stream",
     "text": [
      "5\n"
     ]
    }
   ],
   "source": [
    "x = 5\n",
    "\n",
    "# Print value of input\n",
    "print(x)"
   ]
  },
  {
   "cell_type": "markdown",
   "id": "448ff561",
   "metadata": {},
   "source": [
    "## The Benefits of Functions\n",
    "- Modularity: Functions only need to be defined once in a workflow (e.g. Jupyter Notebook file, script). Functions that you write for specific tasks can be used over and over, without needing to redefine the function again. A function that you write for one Python workflow can also be reused in other workflows!\n",
    "\n",
    "- Fewer variables: When you run a function, the intermediate variables (i.e. placeholders) that it creates are not stored as explicit variables unless you specify otherwise. This saves memory and keeps your Python environment cleaner.\n",
    "\n",
    "- Better documentation: Well-documented functions help other users understand the steps of your processing and helps your future self to understand previously written code.\n",
    "\n",
    "- Easier to maintain and edit your code: Because a function is only defined once in the workflow, you can simply just update the original function definition. Then, each instance in which you call that function in your code (i.e. when same task is performed) is automatically updated.\n",
    "\n",
    "- Testing: You won’t learn about this in this class, but writing functions allows you to more easily test your code to identify issues (i.e. bugs)."
   ]
  },
  {
   "cell_type": "markdown",
   "id": "786672ef",
   "metadata": {},
   "source": [
    "### Write Modular Functions and Code\n",
    "A well-defined function only does one thing, but it does it well and often in a variety of contexts. Often, the operations contained in a good function are generally useful for many tasks.\n",
    "\n",
    "Take, for instance, the numpy function called mean(), which computes mean values from a numpy array.\n",
    "\n",
    "This function only does one thing (i.e. computes a mean); however, you may use the np.mean() function many times in your code on multiple numpy arrays because it has been defined to take any numpy array as an input."
   ]
  },
  {
   "cell_type": "markdown",
   "id": "cdf5b2e4",
   "metadata": {},
   "source": [
    "Well-written functions help you document your workflow because:\n",
    "\n",
    "- They are well-documented by clearly outlining the inputs and outputs.\n",
    "- They use descriptive names that help you better understand the task that the function performs."
   ]
  },
  {
   "cell_type": "markdown",
   "id": "12532396",
   "metadata": {},
   "source": [
    "It is a good idea to learn how to:\n",
    "\n",
    "- Modularize your code into generalizable tasks using functions.\n",
    "- Write functions for parts of your code which include repeated steps.\n",
    "- Document your functions clearly, specifying the structure of the inputs and outputs with clear comments about what the function can do."
   ]
  },
  {
   "cell_type": "markdown",
   "id": "980c7305",
   "metadata": {},
   "source": [
    "# Lesson 2. Write Functions"
   ]
  },
  {
   "cell_type": "markdown",
   "id": "e12d171f",
   "metadata": {},
   "source": [
    "There are several components needed to define a function in Python, including the def keyword, function name, parameters (inputs), and the return statement, which specifies the output of the function."
   ]
  },
  {
   "cell_type": "code",
   "execution_count": 4,
   "id": "ba4abd16",
   "metadata": {},
   "outputs": [],
   "source": [
    "# def function_name(parameter):\n",
    "#    some code here    \n",
    "#    return output"
   ]
  },
  {
   "cell_type": "markdown",
   "id": "b5b5e452",
   "metadata": {},
   "source": [
    "Note that functions in Python can be defined with multiple input parameters as needed:\n",
    "\n",
    "#### def function_name(arr_1, arr_2):"
   ]
  },
  {
   "cell_type": "markdown",
   "id": "0dce8b47",
   "metadata": {},
   "source": [
    "### Return Statement\n",
    "In Python, function definitions need a return statement to specify the output that will be returned by the function."
   ]
  },
  {
   "cell_type": "markdown",
   "id": "6ff12cc0",
   "metadata": {},
   "source": [
    "The return statement can return one or more values or objects and can follow multiple lines of code as needed to complete the task (i.e. code to create the output that will be returned by the function)."
   ]
  },
  {
   "cell_type": "markdown",
   "id": "2602d9a6",
   "metadata": {},
   "source": [
    "###  Docstring\n",
    "In Python, functions should also contain a docstring, or a multi-line documentation comment, that provides details about the function, including the specifics of the input parameters and the returns (e.g. type of objects, additional description) and any other important documentation about how to use the function. "
   ]
  },
  {
   "cell_type": "code",
   "execution_count": 5,
   "id": "c7fbd3d4",
   "metadata": {},
   "outputs": [],
   "source": [
    "def function_name(data):\n",
    "    \"\"\"Docstrings should include a description of the function here \n",
    "    as well as identify the parameters (inputs) that the function \n",
    "    can take and the return (output) provided by the function,\n",
    "    as shown below. \n",
    "    \n",
    "    Parameters\n",
    "    ----------\n",
    "    input : type\n",
    "        Description of input.\n",
    "    \n",
    "    Returns\n",
    "    ------\n",
    "    output : type\n",
    "        Description of output.\n",
    "    \"\"\"\n",
    "   # some code here\n",
    "    \n",
    "    return output"
   ]
  },
  {
   "cell_type": "markdown",
   "id": "f6cabdaa",
   "metadata": {},
   "source": [
    "## Write a Function in Python"
   ]
  },
  {
   "cell_type": "code",
   "execution_count": 8,
   "id": "9784d761",
   "metadata": {},
   "outputs": [],
   "source": [
    "def mm_to_in(mm):\n",
    "    \"\"\"Convert input from millimeters to inches. \n",
    "    \n",
    "    Parameters\n",
    "    ----------\n",
    "    mm : int or float\n",
    "        Numeric value with units in millimeters.\n",
    "\n",
    "    Returns\n",
    "    ------\n",
    "    inches : int or float\n",
    "        Numeric value with units in inches.\n",
    "    \"\"\"\n",
    "    inches = mm / 25.4    \n",
    "    return inches"
   ]
  },
  {
   "cell_type": "markdown",
   "id": "fffcb14a",
   "metadata": {},
   "source": [
    "## Call Custom Functions in Python\n",
    "Now that you have defined the function mm_to_in(), you can call it as needed to convert units."
   ]
  },
  {
   "cell_type": "code",
   "execution_count": 9,
   "id": "2c0ec91a",
   "metadata": {},
   "outputs": [
    {
     "data": {
      "text/plain": [
       "0.7000000000000001"
      ]
     },
     "execution_count": 9,
     "metadata": {},
     "output_type": "execute_result"
    }
   ],
   "source": [
    "# Average monthly precip (mm) in Jan for Boulder, CO\n",
    "precip_jan_mm = 17.78\n",
    "\n",
    "# Convert to inches\n",
    "mm_to_in(mm = precip_jan_mm)"
   ]
  },
  {
   "cell_type": "code",
   "execution_count": 10,
   "id": "7251a3a9",
   "metadata": {},
   "outputs": [],
   "source": [
    "# You can create a new variable to store the output of the function as follows"
   ]
  },
  {
   "cell_type": "code",
   "execution_count": 11,
   "id": "767664b6",
   "metadata": {},
   "outputs": [
    {
     "data": {
      "text/plain": [
       "0.7000000000000001"
      ]
     },
     "execution_count": 11,
     "metadata": {},
     "output_type": "execute_result"
    }
   ],
   "source": [
    "# Create new variable with converted values\n",
    "precip_jan_in = mm_to_in(mm = precip_jan_mm)\n",
    "\n",
    "precip_jan_in"
   ]
  },
  {
   "cell_type": "markdown",
   "id": "06aa5150",
   "metadata": {},
   "source": [
    "### Applying the Same Function to Multiple Object Types\n",
    "Since you know that numeric values can also be stored in numpy arrays, you can also provide a numpy array as an input to the function."
   ]
  },
  {
   "cell_type": "code",
   "execution_count": 12,
   "id": "c06eb02f",
   "metadata": {},
   "outputs": [],
   "source": [
    "# Import necessary packages\n",
    "import numpy as np"
   ]
  },
  {
   "cell_type": "code",
   "execution_count": 13,
   "id": "bcc16d77",
   "metadata": {},
   "outputs": [
    {
     "data": {
      "text/plain": [
       "array([0.7 , 0.75, 1.85, 2.93, 3.05, 2.02, 1.93, 1.62, 1.84, 1.31, 1.39,\n",
       "       0.84])"
      ]
     },
     "execution_count": 13,
     "metadata": {},
     "output_type": "execute_result"
    }
   ],
   "source": [
    "# Average monthly precip (mm) for Boulder, CO\n",
    "avg_monthly_precip_mm = np.array([17.78, 19.05, 46.99, 74.422, \n",
    "                                  77.47, 51.308, 49.022, 41.148, \n",
    "                                  46.736, 33.274, 35.306, 21.336])\n",
    "\n",
    "# Convert to inches\n",
    "mm_to_in(mm = avg_monthly_precip_mm)"
   ]
  },
  {
   "cell_type": "markdown",
   "id": "b3f3221f",
   "metadata": {},
   "source": [
    "Similarly, you know that numeric values can be stored in a column in a **pandas dataframe**, so you can also provide a column in a pandas dataframe as an input to the function and store the results of the function in a new column."
   ]
  },
  {
   "cell_type": "code",
   "execution_count": 14,
   "id": "042efe74",
   "metadata": {},
   "outputs": [],
   "source": [
    "# Import necessary packages\n",
    "import pandas as pd"
   ]
  },
  {
   "cell_type": "code",
   "execution_count": 15,
   "id": "7bba1312",
   "metadata": {},
   "outputs": [],
   "source": [
    "# Average monthly precip (mm) in 2002 for Boulder, CO\n",
    "precip_2002 = pd.DataFrame(columns=[\"month\", \"precip_mm\"],\n",
    "                           data=[\n",
    "                                [\"Jan\", 27.178],  [\"Feb\", 11.176],\n",
    "                                [\"Mar\", 38.100],  [\"Apr\", 5.080],\n",
    "                                [\"May\", 81.280],  [\"June\", 29.972],\n",
    "                                [\"July\", 2.286],  [\"Aug\", 36.576],\n",
    "                                [\"Sept\", 38.608], [\"Oct\", 61.976],\n",
    "                                [\"Nov\", 19.812],  [\"Dec\", 0.508]\n",
    "                           ])"
   ]
  },
  {
   "cell_type": "code",
   "execution_count": 16,
   "id": "3be9aa6e",
   "metadata": {},
   "outputs": [
    {
     "data": {
      "text/html": [
       "<div>\n",
       "<style scoped>\n",
       "    .dataframe tbody tr th:only-of-type {\n",
       "        vertical-align: middle;\n",
       "    }\n",
       "\n",
       "    .dataframe tbody tr th {\n",
       "        vertical-align: top;\n",
       "    }\n",
       "\n",
       "    .dataframe thead th {\n",
       "        text-align: right;\n",
       "    }\n",
       "</style>\n",
       "<table border=\"1\" class=\"dataframe\">\n",
       "  <thead>\n",
       "    <tr style=\"text-align: right;\">\n",
       "      <th></th>\n",
       "      <th>month</th>\n",
       "      <th>precip_mm</th>\n",
       "      <th>precip_in</th>\n",
       "    </tr>\n",
       "  </thead>\n",
       "  <tbody>\n",
       "    <tr>\n",
       "      <th>0</th>\n",
       "      <td>Jan</td>\n",
       "      <td>27.178</td>\n",
       "      <td>1.07</td>\n",
       "    </tr>\n",
       "    <tr>\n",
       "      <th>1</th>\n",
       "      <td>Feb</td>\n",
       "      <td>11.176</td>\n",
       "      <td>0.44</td>\n",
       "    </tr>\n",
       "    <tr>\n",
       "      <th>2</th>\n",
       "      <td>Mar</td>\n",
       "      <td>38.100</td>\n",
       "      <td>1.50</td>\n",
       "    </tr>\n",
       "    <tr>\n",
       "      <th>3</th>\n",
       "      <td>Apr</td>\n",
       "      <td>5.080</td>\n",
       "      <td>0.20</td>\n",
       "    </tr>\n",
       "    <tr>\n",
       "      <th>4</th>\n",
       "      <td>May</td>\n",
       "      <td>81.280</td>\n",
       "      <td>3.20</td>\n",
       "    </tr>\n",
       "    <tr>\n",
       "      <th>5</th>\n",
       "      <td>June</td>\n",
       "      <td>29.972</td>\n",
       "      <td>1.18</td>\n",
       "    </tr>\n",
       "    <tr>\n",
       "      <th>6</th>\n",
       "      <td>July</td>\n",
       "      <td>2.286</td>\n",
       "      <td>0.09</td>\n",
       "    </tr>\n",
       "    <tr>\n",
       "      <th>7</th>\n",
       "      <td>Aug</td>\n",
       "      <td>36.576</td>\n",
       "      <td>1.44</td>\n",
       "    </tr>\n",
       "    <tr>\n",
       "      <th>8</th>\n",
       "      <td>Sept</td>\n",
       "      <td>38.608</td>\n",
       "      <td>1.52</td>\n",
       "    </tr>\n",
       "    <tr>\n",
       "      <th>9</th>\n",
       "      <td>Oct</td>\n",
       "      <td>61.976</td>\n",
       "      <td>2.44</td>\n",
       "    </tr>\n",
       "    <tr>\n",
       "      <th>10</th>\n",
       "      <td>Nov</td>\n",
       "      <td>19.812</td>\n",
       "      <td>0.78</td>\n",
       "    </tr>\n",
       "    <tr>\n",
       "      <th>11</th>\n",
       "      <td>Dec</td>\n",
       "      <td>0.508</td>\n",
       "      <td>0.02</td>\n",
       "    </tr>\n",
       "  </tbody>\n",
       "</table>\n",
       "</div>"
      ],
      "text/plain": [
       "   month  precip_mm  precip_in\n",
       "0    Jan     27.178       1.07\n",
       "1    Feb     11.176       0.44\n",
       "2    Mar     38.100       1.50\n",
       "3    Apr      5.080       0.20\n",
       "4    May     81.280       3.20\n",
       "5   June     29.972       1.18\n",
       "6   July      2.286       0.09\n",
       "7    Aug     36.576       1.44\n",
       "8   Sept     38.608       1.52\n",
       "9    Oct     61.976       2.44\n",
       "10   Nov     19.812       0.78\n",
       "11   Dec      0.508       0.02"
      ]
     },
     "execution_count": 16,
     "metadata": {},
     "output_type": "execute_result"
    }
   ],
   "source": [
    "# Create new column with precip in inches\n",
    "precip_2002[\"precip_in\"] = mm_to_in(mm = precip_2002[\"precip_mm\"])\n",
    "\n",
    "precip_2002"
   ]
  },
  {
   "cell_type": "markdown",
   "id": "8ba84994",
   "metadata": {},
   "source": [
    "Since you know that numeric calculations cannot be performed directly on a list, you know that this function will not execute successfully if provided a list as an input.\n",
    "\n",
    "This is an important idea to keep in mind as you write functions in Python."
   ]
  },
  {
   "cell_type": "markdown",
   "id": "058338ed",
   "metadata": {},
   "source": [
    "# Call Help on a Custom Function\n",
    "Just like you can call help() on a function provided by a Python package such as numpy (e.g. help(np.mean), you can also call help() on custom functions."
   ]
  },
  {
   "cell_type": "code",
   "execution_count": 18,
   "id": "0e28b63d",
   "metadata": {},
   "outputs": [
    {
     "name": "stdout",
     "output_type": "stream",
     "text": [
      "Help on function mm_to_in in module __main__:\n",
      "\n",
      "mm_to_in(mm)\n",
      "    Convert input from millimeters to inches. \n",
      "    \n",
      "    Parameters\n",
      "    ----------\n",
      "    mm : int or float\n",
      "        Numeric value with units in millimeters.\n",
      "    \n",
      "    Returns\n",
      "    ------\n",
      "    inches : int or float\n",
      "        Numeric value with units in inches.\n",
      "\n"
     ]
    }
   ],
   "source": [
    "# Call help on custom function\n",
    "help(mm_to_in)"
   ]
  },
  {
   "cell_type": "markdown",
   "id": "44907ec1",
   "metadata": {},
   "source": [
    "## Combine Multiple Function Calls on a Single Object in Python\n",
    "Imagine that you want to convert the units of a numpy array using the function mm_to_in() and then calculate a mean using np.mean()."
   ]
  },
  {
   "cell_type": "code",
   "execution_count": 19,
   "id": "e81a00af",
   "metadata": {},
   "outputs": [
    {
     "data": {
      "text/plain": [
       "1.6858333333333333"
      ]
     },
     "execution_count": 19,
     "metadata": {},
     "output_type": "execute_result"
    }
   ],
   "source": [
    "# Convert to inches and calculate mean\n",
    "avg_monthly_precip_mean_in = np.mean(mm_to_in(mm = avg_monthly_precip_mm))\n",
    "\n",
    "avg_monthly_precip_mean_in"
   ]
  },
  {
   "cell_type": "markdown",
   "id": "1326585f",
   "metadata": {},
   "source": [
    "# Lesson 3. Write Functions with Multiple Parameters in Python"
   ]
  },
  {
   "cell_type": "markdown",
   "id": "0cc93b61",
   "metadata": {},
   "source": [
    "Learning Objectives\n",
    "- Write and execute custom functions with multiple input parameters in Python.\n",
    "- Write and execute custom functions with optional input parameters in Python."
   ]
  },
  {
   "cell_type": "markdown",
   "id": "07894fed",
   "metadata": {},
   "source": [
    "You can write functions that take in more than one parameter by defining as many parameters as needed, for example:\n",
    "\n"
   ]
  },
  {
   "cell_type": "code",
   "execution_count": 20,
   "id": "50f7371d",
   "metadata": {},
   "outputs": [],
   "source": [
    "def multiply_values(x,y):\n",
    "    z = x * y\n",
    "    return z"
   ]
  },
  {
   "cell_type": "code",
   "execution_count": 21,
   "id": "184dfde0",
   "metadata": {
    "scrolled": true
   },
   "outputs": [
    {
     "data": {
      "text/plain": [
       "17.779999999999998"
      ]
     },
     "execution_count": 21,
     "metadata": {},
     "output_type": "execute_result"
    }
   ],
   "source": [
    "# Call function with numeric values\n",
    "multiply_values(x = 0.7, y = 25.4)"
   ]
  },
  {
   "cell_type": "code",
   "execution_count": 23,
   "id": "826eb655",
   "metadata": {},
   "outputs": [],
   "source": [
    "# Average monthly precip (inches) for Jan in Boulder, CO\n",
    "precip_jan_in = 0.7\n",
    "\n",
    "# Conversion factor from inches to millimeters\n",
    "to_mm = 25.4"
   ]
  },
  {
   "cell_type": "code",
   "execution_count": 24,
   "id": "92f62f77",
   "metadata": {},
   "outputs": [
    {
     "data": {
      "text/plain": [
       "17.779999999999998"
      ]
     },
     "execution_count": 24,
     "metadata": {},
     "output_type": "execute_result"
    }
   ],
   "source": [
    "# Call function with pre-defined variables\n",
    "precip_jan_mm = multiply_values(\n",
    "    x = precip_jan_in, \n",
    "    y = to_mm)\n",
    "\n",
    "precip_jan_mm"
   ]
  },
  {
   "cell_type": "markdown",
   "id": "ab7ed309",
   "metadata": {},
   "source": [
    "## Combine Unit Conversion and Calculation of Statistics into One Function"
   ]
  },
  {
   "cell_type": "markdown",
   "id": "d0cba779",
   "metadata": {},
   "source": [
    "Now imagine that you want to both convert the units of a numpy array from millimeters to inches and calculate the mean value along a specified axis for either columns or rows."
   ]
  },
  {
   "cell_type": "markdown",
   "id": "7b5a4567",
   "metadata": {},
   "source": [
    "Begin by defining the function with a descriptive name and the two necessary parameters:\n",
    "\n",
    "- the input array with values in millimeters\n",
    "- the axis value for the mean calculation"
   ]
  },
  {
   "cell_type": "code",
   "execution_count": 25,
   "id": "78360c17",
   "metadata": {},
   "outputs": [],
   "source": [
    "def mean_mm_to_in_arr(arr_mm, axis_value):\n",
    "    mean_arr_mm = np.mean(arr_mm, axis = axis_value) # a mean along a specified axis.\n",
    "    mean_arr_in = mean_arr_mm / 25.4 \n",
    "        \n",
    "    return mean_arr_in"
   ]
  },
  {
   "cell_type": "code",
   "execution_count": 26,
   "id": "c862f58c",
   "metadata": {},
   "outputs": [],
   "source": [
    "# Import necessary package to run function\n",
    "import numpy as np"
   ]
  },
  {
   "cell_type": "code",
   "execution_count": 27,
   "id": "e423373b",
   "metadata": {},
   "outputs": [],
   "source": [
    "# 2d array of average monthly precip (mm) for 2002 and 2013 in Boulder, CO\n",
    "precip_2002_2013_mm = np.array([[27.178, 11.176, 38.1, 5.08, 81.28, 29.972, \n",
    "                                 2.286, 36.576, 38.608, 61.976, 19.812, 0.508],\n",
    "                                [6.858, 28.702, 43.688, 105.156, 67.564, 15.494,  \n",
    "                                 26.162, 35.56 , 461.264, 56.896, 7.366, 12.7]\n",
    "                               ])"
   ]
  },
  {
   "cell_type": "code",
   "execution_count": 29,
   "id": "acec9aa2",
   "metadata": {},
   "outputs": [
    {
     "data": {
      "text/plain": [
       "array([0.67 , 0.785, 1.61 , 2.17 , 2.93 , 0.895, 0.56 , 1.42 , 9.84 ,\n",
       "       2.34 , 0.535, 0.26 ])"
      ]
     },
     "execution_count": 29,
     "metadata": {},
     "output_type": "execute_result"
    }
   ],
   "source": [
    "# Calculate monthly mean (inches) for precip_2002_2013\n",
    "monthly_mean_in = mean_mm_to_in_arr(arr_mm = precip_2002_2013_mm, \n",
    "                                    axis_value = 0) # rows\n",
    "\n",
    "monthly_mean_in"
   ]
  },
  {
   "cell_type": "code",
   "execution_count": 30,
   "id": "96863c9d",
   "metadata": {},
   "outputs": [
    {
     "data": {
      "text/plain": [
       "array([1.15666667, 2.84583333])"
      ]
     },
     "execution_count": 30,
     "metadata": {},
     "output_type": "execute_result"
    }
   ],
   "source": [
    "# Calculate yearly mean (inches) for precip_2002_2013\n",
    "yearly_mean_in = mean_mm_to_in_arr(arr_mm = precip_2002_2013_mm, \n",
    "                                   axis_value = 1) # col\n",
    "\n",
    "yearly_mean_in"
   ]
  },
  {
   "cell_type": "markdown",
   "id": "6f6cdc30",
   "metadata": {},
   "source": [
    "## Define Optional Input Parameters for a Function"
   ]
  },
  {
   "cell_type": "code",
   "execution_count": 31,
   "id": "52209d10",
   "metadata": {},
   "outputs": [],
   "source": [
    "def mean_mm_to_in_arr(arr_mm, axis_value=None):\n",
    "    \"\"\"Calculate mean values of input array and convert values \n",
    "    from millimeters to inches. If an axis is specified,\n",
    "    the mean will be calculated along that axis. \n",
    "\n",
    "    \n",
    "    Parameters\n",
    "    ----------\n",
    "    arr_mm : numpy array\n",
    "        Numeric values in millimeters.\n",
    "    axis_value : int (optional)\n",
    "        0 to calculate mean for each column.\n",
    "        1 to calculate mean for each row.\n",
    "\n",
    "    Returns\n",
    "    ------\n",
    "    mean_arr_in : numpy array\n",
    "        Mean values of input array in inches.\n",
    "    \"\"\"   \n",
    "    if axis_value is None:\n",
    "        mean_arr_mm = np.mean(arr_mm)        \n",
    "    else:\n",
    "        mean_arr_mm = np.mean(arr_mm, axis = axis_value)\n",
    "    \n",
    "    mean_arr_in = mean_arr_mm / 25.4 \n",
    "        \n",
    "    return mean_arr_in"
   ]
  },
  {
   "cell_type": "code",
   "execution_count": 32,
   "id": "080f05b0",
   "metadata": {},
   "outputs": [
    {
     "data": {
      "text/plain": [
       "array([0.67 , 0.785, 1.61 , 2.17 , 2.93 , 0.895, 0.56 , 1.42 , 9.84 ,\n",
       "       2.34 , 0.535, 0.26 ])"
      ]
     },
     "execution_count": 32,
     "metadata": {},
     "output_type": "execute_result"
    }
   ],
   "source": [
    "# Calculate monthly mean (inches) for precip_2002_2013\n",
    "monthly_mean_in = mean_mm_to_in_arr(arr_mm = precip_2002_2013_mm, \n",
    "                                    axis_value = 0)\n",
    "\n",
    "monthly_mean_in"
   ]
  },
  {
   "cell_type": "markdown",
   "id": "de8ae589",
   "metadata": {},
   "source": [
    "However, now you can also provide a one-dimensional array as an input without a specified axis and receive the appropriate output."
   ]
  },
  {
   "cell_type": "code",
   "execution_count": 35,
   "id": "87cdea4d",
   "metadata": {},
   "outputs": [],
   "source": [
    "precip_2002_mm =  arr_mm = precip_2002_2013_mm[0]"
   ]
  },
  {
   "cell_type": "code",
   "execution_count": 36,
   "id": "3b904ad2",
   "metadata": {},
   "outputs": [
    {
     "data": {
      "text/plain": [
       "1.1566666666666667"
      ]
     },
     "execution_count": 36,
     "metadata": {},
     "output_type": "execute_result"
    }
   ],
   "source": [
    "# Calculate mean (inches) for precip_2002\n",
    "monthly_mean_in = mean_mm_to_in_arr(arr_mm = precip_2002_mm)\n",
    "\n",
    "monthly_mean_in"
   ]
  },
  {
   "cell_type": "markdown",
   "id": "aa0c5105",
   "metadata": {},
   "source": [
    "## Combine Download and Import of Data Files into One Function\n",
    "You can also write multi-parameter functions to combine other tasks into one function, such as downloading and importing data files into a pandas dataframe.\n",
    "\n",
    "Think about the code that you need to include in the function:\n",
    "\n",
    "- download data file from URL: et.data.get_data(url=file_url)\n",
    "- import data file into pandas dataframe: pd.read_csv(path)\n",
    "\n",
    "From this code, you can see that you will need two input parameters for the combined function:\n",
    "\n",
    "- the URL to the data file\n",
    "- the path to the downloaded file\n",
    "Begin by specifying a function name and the placeholder variable names for the necessary input parameters."
   ]
  },
  {
   "cell_type": "code",
   "execution_count": 37,
   "id": "35cae729",
   "metadata": {},
   "outputs": [],
   "source": [
    "def download_import_df(file_url, path):    \n",
    "    \n",
    "    et.data.get_data(url=file_url)      \n",
    "    os.chdir(os.path.join(et.io.HOME, \"earth-analytics\"))    \n",
    "    df = pd.read_csv(path)\n",
    "    \n",
    "    return df"
   ]
  },
  {
   "cell_type": "markdown",
   "id": "30915963",
   "metadata": {},
   "source": [
    "Documentació:"
   ]
  },
  {
   "cell_type": "code",
   "execution_count": 39,
   "id": "d1bf140d",
   "metadata": {},
   "outputs": [],
   "source": [
    "def download_import_df(file_url, path):   \n",
    "    \"\"\"Download file from specified URL and import file\n",
    "    into a pandas dataframe from a specified path. \n",
    "    \n",
    "    Working directory is set to earth-analytics directory \n",
    "    under home, which is automatically created by the\n",
    "    download. \n",
    "\n",
    "    \n",
    "    Parameters\n",
    "    ----------\n",
    "    file_url : str\n",
    "        URL to CSV file (http or https).\n",
    "    path : str\n",
    "        Path to CSV file using relative path\n",
    "        to earth-analytics directory under home.        \n",
    "\n",
    "    Returns\n",
    "    ------\n",
    "    df : pandas dataframe\n",
    "        Dataframe imported from downloaded CSV file.\n",
    "    \"\"\" \n",
    "    \n",
    "    et.data.get_data(url=file_url)      \n",
    "    os.chdir(os.path.join(et.io.HOME, \"earth-analytics\"))    \n",
    "    df = pd.read_csv(path)\n",
    "    \n",
    "    return df"
   ]
  },
  {
   "cell_type": "code",
   "execution_count": 40,
   "id": "bb697254",
   "metadata": {},
   "outputs": [],
   "source": [
    "# Import necessary packages to run function\n",
    "import os\n",
    "import pandas as pd\n",
    "import earthpy as et"
   ]
  },
  {
   "cell_type": "code",
   "execution_count": 41,
   "id": "4ffad58c",
   "metadata": {},
   "outputs": [],
   "source": [
    "# URL for average monthly precip (inches) for 2002 and 2013 in Boulder, CO\n",
    "precip_2002_2013_df_url = \"https://ndownloader.figshare.com/files/12710621\"\n",
    "\n",
    "# Path to downloaded .csv file with headers\n",
    "precip_2002_2013_df_path = os.path.join(\"data\", \"earthpy-downloads\", \n",
    "                                        \"precip-2002-2013-months-seasons.csv\")"
   ]
  },
  {
   "cell_type": "markdown",
   "id": "5896102d",
   "metadata": {},
   "source": [
    "Using these variables, you can now call the function to download and import the file into a pandas dataframe."
   ]
  },
  {
   "cell_type": "code",
   "execution_count": 42,
   "id": "a4eb660d",
   "metadata": {},
   "outputs": [
    {
     "data": {
      "text/html": [
       "<div>\n",
       "<style scoped>\n",
       "    .dataframe tbody tr th:only-of-type {\n",
       "        vertical-align: middle;\n",
       "    }\n",
       "\n",
       "    .dataframe tbody tr th {\n",
       "        vertical-align: top;\n",
       "    }\n",
       "\n",
       "    .dataframe thead th {\n",
       "        text-align: right;\n",
       "    }\n",
       "</style>\n",
       "<table border=\"1\" class=\"dataframe\">\n",
       "  <thead>\n",
       "    <tr style=\"text-align: right;\">\n",
       "      <th></th>\n",
       "      <th>months</th>\n",
       "      <th>precip_2002</th>\n",
       "      <th>precip_2013</th>\n",
       "      <th>seasons</th>\n",
       "    </tr>\n",
       "  </thead>\n",
       "  <tbody>\n",
       "    <tr>\n",
       "      <th>0</th>\n",
       "      <td>Jan</td>\n",
       "      <td>1.07</td>\n",
       "      <td>0.27</td>\n",
       "      <td>Winter</td>\n",
       "    </tr>\n",
       "    <tr>\n",
       "      <th>1</th>\n",
       "      <td>Feb</td>\n",
       "      <td>0.44</td>\n",
       "      <td>1.13</td>\n",
       "      <td>Winter</td>\n",
       "    </tr>\n",
       "    <tr>\n",
       "      <th>2</th>\n",
       "      <td>Mar</td>\n",
       "      <td>1.50</td>\n",
       "      <td>1.72</td>\n",
       "      <td>Spring</td>\n",
       "    </tr>\n",
       "    <tr>\n",
       "      <th>3</th>\n",
       "      <td>Apr</td>\n",
       "      <td>0.20</td>\n",
       "      <td>4.14</td>\n",
       "      <td>Spring</td>\n",
       "    </tr>\n",
       "    <tr>\n",
       "      <th>4</th>\n",
       "      <td>May</td>\n",
       "      <td>3.20</td>\n",
       "      <td>2.66</td>\n",
       "      <td>Spring</td>\n",
       "    </tr>\n",
       "    <tr>\n",
       "      <th>5</th>\n",
       "      <td>June</td>\n",
       "      <td>1.18</td>\n",
       "      <td>0.61</td>\n",
       "      <td>Summer</td>\n",
       "    </tr>\n",
       "    <tr>\n",
       "      <th>6</th>\n",
       "      <td>July</td>\n",
       "      <td>0.09</td>\n",
       "      <td>1.03</td>\n",
       "      <td>Summer</td>\n",
       "    </tr>\n",
       "    <tr>\n",
       "      <th>7</th>\n",
       "      <td>Aug</td>\n",
       "      <td>1.44</td>\n",
       "      <td>1.40</td>\n",
       "      <td>Summer</td>\n",
       "    </tr>\n",
       "    <tr>\n",
       "      <th>8</th>\n",
       "      <td>Sept</td>\n",
       "      <td>1.52</td>\n",
       "      <td>18.16</td>\n",
       "      <td>Fall</td>\n",
       "    </tr>\n",
       "    <tr>\n",
       "      <th>9</th>\n",
       "      <td>Oct</td>\n",
       "      <td>2.44</td>\n",
       "      <td>2.24</td>\n",
       "      <td>Fall</td>\n",
       "    </tr>\n",
       "    <tr>\n",
       "      <th>10</th>\n",
       "      <td>Nov</td>\n",
       "      <td>0.78</td>\n",
       "      <td>0.29</td>\n",
       "      <td>Fall</td>\n",
       "    </tr>\n",
       "    <tr>\n",
       "      <th>11</th>\n",
       "      <td>Dec</td>\n",
       "      <td>0.02</td>\n",
       "      <td>0.50</td>\n",
       "      <td>Winter</td>\n",
       "    </tr>\n",
       "  </tbody>\n",
       "</table>\n",
       "</div>"
      ],
      "text/plain": [
       "   months  precip_2002  precip_2013 seasons\n",
       "0     Jan         1.07         0.27  Winter\n",
       "1     Feb         0.44         1.13  Winter\n",
       "2     Mar         1.50         1.72  Spring\n",
       "3     Apr         0.20         4.14  Spring\n",
       "4     May         3.20         2.66  Spring\n",
       "5    June         1.18         0.61  Summer\n",
       "6    July         0.09         1.03  Summer\n",
       "7     Aug         1.44         1.40  Summer\n",
       "8    Sept         1.52        18.16    Fall\n",
       "9     Oct         2.44         2.24    Fall\n",
       "10    Nov         0.78         0.29    Fall\n",
       "11    Dec         0.02         0.50  Winter"
      ]
     },
     "execution_count": 42,
     "metadata": {},
     "output_type": "execute_result"
    }
   ],
   "source": [
    "# Create dataframe using download/import function\n",
    "precip_2002_2013_df = download_import_df(\n",
    "    file_url = precip_2002_2013_df_url, \n",
    "    path = precip_2002_2013_df_path)\n",
    "\n",
    "precip_2002_2013_df"
   ]
  },
  {
   "cell_type": "markdown",
   "id": "8dd0d9b1",
   "metadata": {},
   "source": [
    "# Exercici: Practice Writing Multi-Parameter Functions for Pandas Dataframes"
   ]
  },
  {
   "cell_type": "markdown",
   "id": "3ab6ea14",
   "metadata": {},
   "source": [
    "You have a function that combines the mean calculation along a specified axis and the conversion from millimeters to inches for a numpy array.\n",
    "\n",
    "How might you need to change this function to create a similar function for pandas dataframe, but now converting from inches to millimeters?\n",
    "\n",
    "For the mean, you can run summary statistics on pandas using a specified axis (just like a numpy array) with the following code:\n",
    "\n",
    "df.mean(axis = axis_value) \n",
    "With the axis value 0, the code will calculate a mean for each numeric column in the dataframe.\n",
    "\n",
    "With the axis value 1, the code will calculate a mean for each row with numeric values in the dataframe.\n",
    "\n",
    "Think about which code lines in the existing function mean_mm_to_in_arr() can be modified to run the equivalent code on a pandas dataframe.\n",
    "\n",
    "Note that the df.mean(axis = axis_value) returns the mean values of a dataframe (along the specified axis) as a pandas series."
   ]
  },
  {
   "cell_type": "code",
   "execution_count": 52,
   "id": "7784f9f0",
   "metadata": {},
   "outputs": [],
   "source": [
    "def mean_inch_to_mm_arr(arr_inch, axis_value):\n",
    "    mean_arr_inch = arr_inch.mean(axis = axis_value) # a mean along a specified axis.\n",
    "    mean_arr_mm = 25.4 * mean_arr_inch \n",
    "        \n",
    "    return mean_arr_mm"
   ]
  },
  {
   "cell_type": "code",
   "execution_count": 54,
   "id": "38ee5fcd",
   "metadata": {
    "scrolled": false
   },
   "outputs": [
    {
     "data": {
      "text/plain": [
       "0      17.018\n",
       "1      19.939\n",
       "2      40.894\n",
       "3      55.118\n",
       "4      74.422\n",
       "5      22.733\n",
       "6      14.224\n",
       "7      36.068\n",
       "8     249.936\n",
       "9      59.436\n",
       "10     13.589\n",
       "11      6.604\n",
       "dtype: float64"
      ]
     },
     "execution_count": 54,
     "metadata": {},
     "output_type": "execute_result"
    }
   ],
   "source": [
    "# Calculate monthly mean (inches) for precip_2002_2013\n",
    "monthly_mean_in = mean_inch_to_mm_arr(arr_inch = precip_2002_2013_df, \n",
    "                                    axis_value = 1)\n",
    "\n",
    "monthly_mean_in"
   ]
  },
  {
   "cell_type": "code",
   "execution_count": 55,
   "id": "04bccfd6",
   "metadata": {},
   "outputs": [
    {
     "data": {
      "text/plain": [
       "precip_2002    29.379333\n",
       "precip_2013    72.284167\n",
       "dtype: float64"
      ]
     },
     "execution_count": 55,
     "metadata": {},
     "output_type": "execute_result"
    }
   ],
   "source": [
    "# Calculate monthly mean (inches) for precip_2002_2013\n",
    "monthly_mean_in = mean_inch_to_mm_arr(arr_inch = precip_2002_2013_df, \n",
    "                                    axis_value = 0)\n",
    "\n",
    "monthly_mean_in"
   ]
  },
  {
   "cell_type": "code",
   "execution_count": null,
   "id": "9ea53ff9",
   "metadata": {},
   "outputs": [],
   "source": []
  }
 ],
 "metadata": {
  "kernelspec": {
   "display_name": "Python 3",
   "language": "python",
   "name": "python3"
  },
  "language_info": {
   "codemirror_mode": {
    "name": "ipython",
    "version": 3
   },
   "file_extension": ".py",
   "mimetype": "text/x-python",
   "name": "python",
   "nbconvert_exporter": "python",
   "pygments_lexer": "ipython3",
   "version": "3.9.4"
  }
 },
 "nbformat": 4,
 "nbformat_minor": 5
}
