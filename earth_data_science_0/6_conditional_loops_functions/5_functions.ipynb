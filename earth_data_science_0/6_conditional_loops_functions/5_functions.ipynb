{
 "cells": [
  {
   "cell_type": "markdown",
   "id": "5250c723",
   "metadata": {},
   "source": [
    "# Lesson 1. Introduction to Writing Functions"
   ]
  },
  {
   "cell_type": "markdown",
   "id": "0c7d136e",
   "metadata": {},
   "source": [
    "After completing this chapter, you will be able to:\n",
    "\n",
    "- Explain how using functions help you to write DRY (Don’t Repeat Yourself) code in Python.\n",
    "- Describe the components needed to define a function in Python.\n",
    "- Write and execute a custom function in Python.\n",
    "- Write nested functions (functions inside of other functions) in Python"
   ]
  },
  {
   "cell_type": "markdown",
   "id": "c05169b1",
   "metadata": {},
   "source": [
    "A function is a reusable block of code that performs a specific task. Functions receive inputs to which code is applied and return outputs (or results) of the code.\n",
    "\n",
    "#### input parameter –> function does something –> output results\n",
    "\n",
    "For example:"
   ]
  },
  {
   "cell_type": "code",
   "execution_count": 2,
   "id": "f040916b",
   "metadata": {},
   "outputs": [
    {
     "name": "stdout",
     "output_type": "stream",
     "text": [
      "5\n"
     ]
    }
   ],
   "source": [
    "x = 5\n",
    "\n",
    "# Print value of input\n",
    "print(x)"
   ]
  },
  {
   "cell_type": "markdown",
   "id": "63f36d1f",
   "metadata": {},
   "source": [
    "## The Benefits of Functions\n",
    "- Modularity: Functions only need to be defined once in a workflow (e.g. Jupyter Notebook file, script). Functions that you write for specific tasks can be used over and over, without needing to redefine the function again. A function that you write for one Python workflow can also be reused in other workflows!\n",
    "\n",
    "- Fewer variables: When you run a function, the intermediate variables (i.e. placeholders) that it creates are not stored as explicit variables unless you specify otherwise. This saves memory and keeps your Python environment cleaner.\n",
    "\n",
    "- Better documentation: Well-documented functions help other users understand the steps of your processing and helps your future self to understand previously written code.\n",
    "\n",
    "- Easier to maintain and edit your code: Because a function is only defined once in the workflow, you can simply just update the original function definition. Then, each instance in which you call that function in your code (i.e. when same task is performed) is automatically updated.\n",
    "\n",
    "- Testing: You won’t learn about this in this class, but writing functions allows you to more easily test your code to identify issues (i.e. bugs)."
   ]
  },
  {
   "cell_type": "markdown",
   "id": "fc884fcd",
   "metadata": {},
   "source": [
    "### Write Modular Functions and Code\n",
    "A well-defined function only does one thing, but it does it well and often in a variety of contexts. Often, the operations contained in a good function are generally useful for many tasks.\n",
    "\n",
    "Take, for instance, the numpy function called mean(), which computes mean values from a numpy array.\n",
    "\n",
    "This function only does one thing (i.e. computes a mean); however, you may use the np.mean() function many times in your code on multiple numpy arrays because it has been defined to take any numpy array as an input."
   ]
  },
  {
   "cell_type": "markdown",
   "id": "844a3727",
   "metadata": {},
   "source": [
    "Well-written functions help you document your workflow because:\n",
    "\n",
    "- They are well-documented by clearly outlining the inputs and outputs.\n",
    "- They use descriptive names that help you better understand the task that the function performs."
   ]
  },
  {
   "cell_type": "markdown",
   "id": "9cc14152",
   "metadata": {},
   "source": [
    "It is a good idea to learn how to:\n",
    "\n",
    "- Modularize your code into generalizable tasks using functions.\n",
    "- Write functions for parts of your code which include repeated steps.\n",
    "- Document your functions clearly, specifying the structure of the inputs and outputs with clear comments about what the function can do."
   ]
  },
  {
   "cell_type": "markdown",
   "id": "ba66d02f",
   "metadata": {},
   "source": [
    "# Lesson 2. Write Functions"
   ]
  },
  {
   "cell_type": "code",
   "execution_count": null,
   "id": "fe76f888",
   "metadata": {},
   "outputs": [],
   "source": []
  }
 ],
 "metadata": {
  "kernelspec": {
   "display_name": "Python 3",
   "language": "python",
   "name": "python3"
  },
  "language_info": {
   "codemirror_mode": {
    "name": "ipython",
    "version": 3
   },
   "file_extension": ".py",
   "mimetype": "text/x-python",
   "name": "python",
   "nbconvert_exporter": "python",
   "pygments_lexer": "ipython3",
   "version": "3.9.4"
  }
 },
 "nbformat": 4,
 "nbformat_minor": 5
}
