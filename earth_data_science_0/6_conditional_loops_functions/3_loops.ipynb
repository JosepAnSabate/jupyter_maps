{
 "cells": [
  {
   "cell_type": "markdown",
   "id": "9e7aec72",
   "metadata": {},
   "source": [
    "# Lesson 1. Introduction to Using Loops to Automate Workflows "
   ]
  },
  {
   "cell_type": "markdown",
   "id": "f5cc95ea",
   "metadata": {},
   "source": [
    "After completing this chapter, you will be able to:\n",
    "\n",
    "- Explain how using loops help you to write DRY (Don’t Repeat Yourself) code in Python.\n",
    "- Describe the syntax for two basic looping structures used in Python: while and for.\n",
    "- Remove repetition in code by using loops to automate data tasks."
   ]
  },
  {
   "cell_type": "markdown",
   "id": "8653f7db",
   "metadata": {},
   "source": [
    "A loop is a sequence of operations that are performed over and over in some specified order. "
   ]
  },
  {
   "cell_type": "code",
   "execution_count": 1,
   "id": "5e515c44",
   "metadata": {},
   "outputs": [
    {
     "name": "stdout",
     "output_type": "stream",
     "text": [
      "[1, 2, 3, 4, 5]\n"
     ]
    }
   ],
   "source": [
    "# Create 5 objects\n",
    "list_of_values = [1, 2, 3, 4, 5]\n",
    "\n",
    "# Print each object separately\n",
    "print(list_of_values)"
   ]
  },
  {
   "cell_type": "markdown",
   "id": "a5d45b66",
   "metadata": {},
   "source": [
    "You can create a loop that will iterate through each value and print it."
   ]
  },
  {
   "cell_type": "code",
   "execution_count": 2,
   "id": "1c8fe03e",
   "metadata": {},
   "outputs": [
    {
     "name": "stdout",
     "output_type": "stream",
     "text": [
      "1\n",
      "2\n",
      "3\n",
      "4\n",
      "5\n"
     ]
    }
   ],
   "source": [
    "# Cycle through each object and print\n",
    "for avalue in list_of_values:\n",
    "    print(avalue)"
   ]
  },
  {
   "cell_type": "markdown",
   "id": "208adc8d",
   "metadata": {},
   "source": [
    "Once you have your list of values, you can enhance the print statement by adding text."
   ]
  },
  {
   "cell_type": "code",
   "execution_count": 3,
   "id": "93b78d63",
   "metadata": {},
   "outputs": [
    {
     "name": "stdout",
     "output_type": "stream",
     "text": [
      "the current value is: 1\n",
      "the current value is: 2\n",
      "the current value is: 3\n",
      "the current value is: 4\n",
      "the current value is: 5\n"
     ]
    }
   ],
   "source": [
    "# Cycle through each object and print with enchancement\n",
    "for avalue in list_of_values:\n",
    "    print(\"the current value is:\", avalue)"
   ]
  },
  {
   "cell_type": "markdown",
   "id": "933618dc",
   "metadata": {},
   "source": [
    "You can also use a loop to iteratively adjust each value. Below you add 1 to each value in the list, using your loop."
   ]
  },
  {
   "cell_type": "code",
   "execution_count": 6,
   "id": "a285c0aa",
   "metadata": {},
   "outputs": [
    {
     "name": "stdout",
     "output_type": "stream",
     "text": [
      "the current value is: 2\n",
      "the current value is: 3\n",
      "the current value is: 4\n",
      "the current value is: 5\n",
      "the current value is: 6\n"
     ]
    }
   ],
   "source": [
    "# Cycle through each object and print\n",
    "for avalue in list_of_values:\n",
    "    print(\"the current value is:\", avalue+1) #+1\n",
    "    "
   ]
  },
  {
   "cell_type": "markdown",
   "id": "18453f78",
   "metadata": {},
   "source": [
    "## For"
   ]
  },
  {
   "cell_type": "code",
   "execution_count": 7,
   "id": "4a7b288d",
   "metadata": {},
   "outputs": [
    {
     "name": "stdout",
     "output_type": "stream",
     "text": [
      "22\n",
      "15\n",
      "146\n",
      "57\n"
     ]
    }
   ],
   "source": [
    "# Create list of integers\n",
    "num_list = [12, 5, 136, 47]\n",
    "\n",
    "# For each item in list, add 10 and print new value\n",
    "for i in num_list:\n",
    "    i += 10\n",
    "    print(i)"
   ]
  },
  {
   "cell_type": "code",
   "execution_count": 8,
   "id": "e325a711",
   "metadata": {},
   "outputs": [
    {
     "name": "stdout",
     "output_type": "stream",
     "text": [
      "The value of the variable 'x' is: 22\n",
      "The value of the variable 'x' is: 15\n",
      "The value of the variable 'x' is: 146\n",
      "The value of the variable 'x' is: 57\n"
     ]
    }
   ],
   "source": [
    "# Create list of integers\n",
    "num_list = [12, 5, 136, 47]\n",
    "\n",
    "# For each item in list, add 10 and print new value\n",
    "for x in num_list:\n",
    "    x += 10\n",
    "    print(\"The value of the variable 'x' is:\", x)"
   ]
  },
  {
   "cell_type": "markdown",
   "id": "95411bca",
   "metadata": {},
   "source": [
    "### Create For Loops with Text Strings"
   ]
  },
  {
   "cell_type": "code",
   "execution_count": 9,
   "id": "455e75be",
   "metadata": {},
   "outputs": [
    {
     "name": "stdout",
     "output_type": "stream",
     "text": [
      "The value of the variable 'fname' is: months.txt\n",
      "The value of the variable 'fname' is: avg-monthly-precip.txt\n"
     ]
    }
   ],
   "source": [
    "# List of filenames\n",
    "files = [\"months.txt\", \"avg-monthly-precip.txt\"]\n",
    "\n",
    "# For each item in list, print value\n",
    "for fname in files:\n",
    "    print(\"The value of the variable 'fname' is:\", fname)"
   ]
  },
  {
   "cell_type": "markdown",
   "id": "549ff6ba",
   "metadata": {},
   "source": [
    "### For Loops on Data Structures"
   ]
  },
  {
   "cell_type": "markdown",
   "id": "14f3cf31",
   "metadata": {},
   "source": [
    "For example, you can define a list that contains multiple objects (say, other lists). In the example below, the print() returns the actual values in each item in the list because the items are defined objects (in this example, each item is its own list of data values).\n",
    "\n",
    "In each iteration of the loop, dlist represents the data lists that you defined: in first iteration, months, and avg_monthly_precip in the second iteration."
   ]
  },
  {
   "cell_type": "code",
   "execution_count": 10,
   "id": "d2bb31e4",
   "metadata": {},
   "outputs": [
    {
     "name": "stdout",
     "output_type": "stream",
     "text": [
      "The value of the variable 'dlist' is: ['Jan', 'Feb', 'Mar', 'Apr', 'May', 'June', 'July', 'Aug', 'Sept', 'Oct', 'Nov', 'Dec']\n",
      "The value of the variable 'dlist' is: [0.7, 0.75, 1.85, 2.93, 3.05, 2.02, 1.93, 1.62, 1.84, 1.31, 1.39, 0.84]\n"
     ]
    }
   ],
   "source": [
    "# Create list of abbreviated month names\n",
    "months = [\"Jan\", \"Feb\", \"Mar\", \"Apr\", \"May\", \"June\",\n",
    "          \"July\", \"Aug\", \"Sept\", \"Oct\", \"Nov\", \"Dec\"]\n",
    "\n",
    "# Create list of average monthly precip (inches) in Boulder, CO\n",
    "avg_monthly_precip = [0.70,  0.75, 1.85, 2.93, 3.05, 2.02,\n",
    "                      1.93, 1.62, 1.84, 1.31, 1.39, 0.84]\n",
    "\n",
    "# List of list names\n",
    "lists = [months, avg_monthly_precip]\n",
    "\n",
    "# For each item in list, print value\n",
    "for dlist in lists:\n",
    "    print(\"The value of the variable 'dlist' is:\", dlist)"
   ]
  },
  {
   "cell_type": "markdown",
   "id": "928d6b8d",
   "metadata": {},
   "source": [
    "When working with data structures such as lists, numpy arrays, or pandas dataframes, the code that is executed in the loop is still subject to the object type that is provided. For example, because the items in lists are lists, then you can execute any code that can run on the list object type, such as querying the length of the list or for a specific index value."
   ]
  },
  {
   "cell_type": "code",
   "execution_count": 11,
   "id": "0db3c0a4",
   "metadata": {},
   "outputs": [
    {
     "name": "stdout",
     "output_type": "stream",
     "text": [
      "The length of the variable 'dlist' is: 12\n",
      "The length of the variable 'dlist' is: 12\n"
     ]
    }
   ],
   "source": [
    "# For each list in lists, print the length\n",
    "for dlist in lists:\n",
    "    print(\"The length of the variable 'dlist' is:\", len(dlist))"
   ]
  },
  {
   "cell_type": "code",
   "execution_count": 13,
   "id": "bf83b151",
   "metadata": {},
   "outputs": [
    {
     "name": "stdout",
     "output_type": "stream",
     "text": [
      "Dec\n",
      "0.84\n"
     ]
    }
   ],
   "source": [
    "# For each list in lists, print the value at last index\n",
    "for dlist in lists:\n",
    "    print(dlist[-1]) #indexing"
   ]
  },
  {
   "cell_type": "markdown",
   "id": "7807f89c",
   "metadata": {},
   "source": [
    "# While Loops"
   ]
  },
  {
   "cell_type": "markdown",
   "id": "789ebb54",
   "metadata": {},
   "source": [
    "A while loop is used to iteratively execute code until a pre-defined condition is no longer satisfied (i.e. results in a value of False). That condition could be a limit on how many times you want the code to run, or that results of the code reach a certain value (e.g. code will iteratively execute as long as the current value of the results is less than 5). After the pre-defined condition is no longer True, the loop will not execute another iteration."
   ]
  },
  {
   "cell_type": "code",
   "execution_count": 14,
   "id": "9f19218a",
   "metadata": {},
   "outputs": [],
   "source": [
    "#while x < 5:\n",
    "#    execute some code here"
   ]
  },
  {
   "cell_type": "markdown",
   "id": "51d5602b",
   "metadata": {},
   "source": [
    "the code below the while statement is indented. "
   ]
  },
  {
   "cell_type": "code",
   "execution_count": 15,
   "id": "8c7a64c1",
   "metadata": {},
   "outputs": [
    {
     "name": "stdout",
     "output_type": "stream",
     "text": [
      "1\n",
      "2\n",
      "3\n",
      "4\n",
      "5\n",
      "6\n",
      "7\n",
      "8\n",
      "9\n",
      "10\n"
     ]
    }
   ],
   "source": [
    "# Set x equal to 0\n",
    "x = 0\n",
    "\n",
    "# Add 1 to x until x is no longer less than 10\n",
    "while x < 10:\n",
    "    x += 1\n",
    "    print(x)"
   ]
  },
  {
   "cell_type": "code",
   "execution_count": 16,
   "id": "a53c9416",
   "metadata": {
    "scrolled": true
   },
   "outputs": [
    {
     "name": "stdout",
     "output_type": "stream",
     "text": [
      "0\n",
      "1\n",
      "2\n",
      "3\n",
      "4\n",
      "5\n",
      "6\n",
      "7\n",
      "8\n",
      "9\n",
      "Final value: 10\n"
     ]
    }
   ],
   "source": [
    "# Reset x equal to 0\n",
    "x = 0\n",
    "\n",
    "# Add 1 to x until x is no longer less than 10\n",
    "while x < 10:\n",
    "    print(x)\n",
    "    x += 1\n",
    "\n",
    "print(\"Final value:\", x)"
   ]
  },
  {
   "cell_type": "markdown",
   "id": "9273249e",
   "metadata": {},
   "source": [
    "The range is inclusive of the starting value, but not of the ending value."
   ]
  },
  {
   "cell_type": "code",
   "execution_count": 18,
   "id": "ac236d54",
   "metadata": {},
   "outputs": [
    {
     "name": "stdout",
     "output_type": "stream",
     "text": [
      "2\n",
      "3\n",
      "4\n",
      "5\n"
     ]
    }
   ],
   "source": [
    "# Set x equal to 1\n",
    "x = 1\n",
    "\n",
    "# Add 1 to x, while x is between 1 and 5\n",
    "while x in range(1, 5):\n",
    "    x += 1\n",
    "    print(x)"
   ]
  },
  {
   "cell_type": "markdown",
   "id": "5ffb706e",
   "metadata": {},
   "source": [
    "# Lesson 2. Automate Data Tasks With Loops in Python"
   ]
  },
  {
   "cell_type": "markdown",
   "id": "3da054b0",
   "metadata": {},
   "source": [
    "After completing this chapter, you will be able to:\n",
    "\n",
    "- Automate tasks using data structures such as lists, numpy arrays, and pandas dataframe.\n",
    "- Add the results of a loop to a new list.\n",
    "- Automate data downloads with earthpy."
   ]
  },
  {
   "cell_type": "code",
   "execution_count": 21,
   "id": "71a5e4aa",
   "metadata": {},
   "outputs": [],
   "source": [
    "# Create list of average monthly precip (inches) in Boulder, CO\n",
    "avg_monthly_precip_in = [0.70,  0.75, 1.85, 2.93, 3.05, 2.02, \n",
    "                         1.93, 1.62, 1.84, 1.31, 1.39, 0.84]"
   ]
  },
  {
   "cell_type": "code",
   "execution_count": 20,
   "id": "1d43d5ec",
   "metadata": {},
   "outputs": [
    {
     "name": "stdout",
     "output_type": "stream",
     "text": [
      "17.779999999999998\n",
      "19.049999999999997\n",
      "46.99\n",
      "74.422\n",
      "77.46999999999998\n",
      "51.308\n",
      "49.022\n",
      "41.148\n",
      "46.736\n",
      "33.274\n",
      "35.306\n",
      "21.336\n"
     ]
    }
   ],
   "source": [
    "# Convert each item in list from inches to mm\n",
    "for month in avg_monthly_precip_in:\n",
    "    month *= 25.4\n",
    "    print(month)"
   ]
  },
  {
   "cell_type": "markdown",
   "id": "701a5a19",
   "metadata": {},
   "source": [
    "### Expand Loop To Add Results to New List"
   ]
  },
  {
   "cell_type": "code",
   "execution_count": 22,
   "id": "25f9d5e7",
   "metadata": {},
   "outputs": [],
   "source": [
    "# Create new empty to receive values\n",
    "avg_monthly_precip_mm = []\n",
    "\n",
    "# Convert each item from in to mm and add to new list\n",
    "for month in avg_monthly_precip_in:\n",
    "    month *= 25.4 \n",
    "    avg_monthly_precip_mm.append(month)"
   ]
  },
  {
   "cell_type": "code",
   "execution_count": 23,
   "id": "7b921cc8",
   "metadata": {},
   "outputs": [
    {
     "name": "stdout",
     "output_type": "stream",
     "text": [
      "[0.7, 0.75, 1.85, 2.93, 3.05, 2.02, 1.93, 1.62, 1.84, 1.31, 1.39, 0.84]\n",
      "[17.779999999999998, 19.049999999999997, 46.99, 74.422, 77.46999999999998, 51.308, 49.022, 41.148, 46.736, 33.274, 35.306, 21.336]\n"
     ]
    }
   ],
   "source": [
    "# Print original list in inches\n",
    "print(avg_monthly_precip_in) \n",
    "    \n",
    "# Print new list after loop is complete\n",
    "print(avg_monthly_precip_mm) "
   ]
  },
  {
   "cell_type": "code",
   "execution_count": 24,
   "id": "00753901",
   "metadata": {},
   "outputs": [
    {
     "data": {
      "text/plain": [
       "21.336"
      ]
     },
     "execution_count": 24,
     "metadata": {},
     "output_type": "execute_result"
    }
   ],
   "source": [
    "# Final value of month\n",
    "month"
   ]
  },
  {
   "cell_type": "markdown",
   "id": "38c80537",
   "metadata": {},
   "source": [
    "# Automate Summary Statistics on Multiple Numpy Arrays"
   ]
  },
  {
   "cell_type": "code",
   "execution_count": 25,
   "id": "e3140702",
   "metadata": {},
   "outputs": [],
   "source": [
    "# Import necessary packages\n",
    "import numpy as np\n",
    "\n",
    "# Array of average monthly precip (inches) for 2002 in Boulder, CO\n",
    "precip_2002_arr = np.array([1.07, 0.44, 1.50, 0.20, 3.20, 1.18, \n",
    "                            0.09, 1.44, 1.52, 2.44, 0.78, 0.02])\n",
    "\n",
    "# Array of average monthly precip (inches) for 2013 in Boulder, CO\n",
    "precip_2013_arr = np.array([0.27, 1.13, 1.72, 4.14, 2.66, 0.61, \n",
    "                            1.03, 1.40, 18.16, 2.24, 0.29, 0.50])"
   ]
  },
  {
   "cell_type": "code",
   "execution_count": 26,
   "id": "944fec19",
   "metadata": {},
   "outputs": [],
   "source": [
    "# Create list of numpy arrays\n",
    "arr_list = [precip_2002_arr, precip_2013_arr]"
   ]
  },
  {
   "cell_type": "code",
   "execution_count": 27,
   "id": "e07080df",
   "metadata": {},
   "outputs": [
    {
     "name": "stdout",
     "output_type": "stream",
     "text": [
      "sum: 13.879999999999999\n",
      "median: 1.125\n",
      "sum: 34.15\n",
      "median: 1.265\n"
     ]
    }
   ],
   "source": [
    "# Calculate sum and median for each numpy array in list\n",
    "for arr in arr_list:    \n",
    "    arr_sum = np.sum(arr)\n",
    "    print(\"sum:\", arr_sum)\n",
    "    \n",
    "    arr_median = np.median(arr)    \n",
    "    print(\"median:\", arr_median)    "
   ]
  },
  {
   "cell_type": "markdown",
   "id": "9270d25d",
   "metadata": {},
   "source": [
    "Again, you can capture these values in new, separate lists by defining empty lists and using the assignment operator (listname += [value]) to add the results to each list."
   ]
  },
  {
   "cell_type": "code",
   "execution_count": 28,
   "id": "c9ef7718",
   "metadata": {},
   "outputs": [],
   "source": [
    "# Create new empty lists to receive values\n",
    "monthly_precip_sum = []\n",
    "monthly_precip_median = []\n",
    "\n",
    "# Calculate sum and median for each numpy array and add to new lists\n",
    "for arr in arr_list:    \n",
    "    arr_sum = np.sum(arr)\n",
    "    monthly_precip_sum.append(arr_sum)\n",
    "    \n",
    "    arr_median = np.median(arr)    \n",
    "    monthly_precip_median.append(arr_median)"
   ]
  },
  {
   "cell_type": "code",
   "execution_count": 29,
   "id": "ac53552e",
   "metadata": {},
   "outputs": [
    {
     "data": {
      "text/plain": [
       "1.265"
      ]
     },
     "execution_count": 29,
     "metadata": {},
     "output_type": "execute_result"
    }
   ],
   "source": [
    "arr_median"
   ]
  },
  {
   "cell_type": "code",
   "execution_count": 30,
   "id": "789a8966",
   "metadata": {},
   "outputs": [
    {
     "data": {
      "text/plain": [
       "[1.125, 1.265]"
      ]
     },
     "execution_count": 30,
     "metadata": {},
     "output_type": "execute_result"
    }
   ],
   "source": [
    "   monthly_precip_median"
   ]
  },
  {
   "cell_type": "markdown",
   "id": "12353ada",
   "metadata": {},
   "source": [
    "### Review the List Being Iterated Upon and the Placeholder in Loop"
   ]
  },
  {
   "cell_type": "code",
   "execution_count": 31,
   "id": "1b63ad2b",
   "metadata": {},
   "outputs": [
    {
     "name": "stdout",
     "output_type": "stream",
     "text": [
      "[13.879999999999999, 34.15]\n",
      "[1.125, 1.265]\n"
     ]
    }
   ],
   "source": [
    "# Lists contain the calculated values\n",
    "print(monthly_precip_sum)\n",
    "print(monthly_precip_median)"
   ]
  },
  {
   "cell_type": "markdown",
   "id": "0eec54b4",
   "metadata": {},
   "source": [
    "The variable arr is the placeholder variable that is created as part of the loop and serves as a placeholder to represent each item from the original list (arr_list), as the loop iterates. At the end of the loop, arr is equal to the last value that it was assigned (e.g. precip_2013_arr, the last array in the list)."
   ]
  },
  {
   "cell_type": "markdown",
   "id": "15fde70a",
   "metadata": {},
   "source": [
    "Similarly, at the end of the loop, arr_sum and arr_median are also equal to the last value that was calculated for each (e.g. the sum and median values for precip_2013_arr."
   ]
  },
  {
   "cell_type": "code",
   "execution_count": 32,
   "id": "99e0bc6e",
   "metadata": {},
   "outputs": [
    {
     "name": "stdout",
     "output_type": "stream",
     "text": [
      "[ 0.27  1.13  1.72  4.14  2.66  0.61  1.03  1.4  18.16  2.24  0.29  0.5 ]\n",
      "34.15\n",
      "1.265\n"
     ]
    }
   ],
   "source": [
    "# Final value of arr\n",
    "print(arr)\n",
    "\n",
    "# Final value of arr_sum\n",
    "print(arr_sum)\n",
    "\n",
    "# Final value of arr_median\n",
    "print(arr_median)"
   ]
  },
  {
   "cell_type": "markdown",
   "id": "72353768",
   "metadata": {},
   "source": [
    "## Automate Calculation on Multiple Columns in Pandas Dataframe"
   ]
  },
  {
   "cell_type": "code",
   "execution_count": 33,
   "id": "bb265bfc",
   "metadata": {},
   "outputs": [
    {
     "data": {
      "text/html": [
       "<div>\n",
       "<style scoped>\n",
       "    .dataframe tbody tr th:only-of-type {\n",
       "        vertical-align: middle;\n",
       "    }\n",
       "\n",
       "    .dataframe tbody tr th {\n",
       "        vertical-align: top;\n",
       "    }\n",
       "\n",
       "    .dataframe thead th {\n",
       "        text-align: right;\n",
       "    }\n",
       "</style>\n",
       "<table border=\"1\" class=\"dataframe\">\n",
       "  <thead>\n",
       "    <tr style=\"text-align: right;\">\n",
       "      <th></th>\n",
       "      <th>month</th>\n",
       "      <th>precip_2002</th>\n",
       "      <th>precip_2013</th>\n",
       "    </tr>\n",
       "  </thead>\n",
       "  <tbody>\n",
       "    <tr>\n",
       "      <th>0</th>\n",
       "      <td>Jan</td>\n",
       "      <td>1.07</td>\n",
       "      <td>0.27</td>\n",
       "    </tr>\n",
       "    <tr>\n",
       "      <th>1</th>\n",
       "      <td>Feb</td>\n",
       "      <td>0.44</td>\n",
       "      <td>1.13</td>\n",
       "    </tr>\n",
       "    <tr>\n",
       "      <th>2</th>\n",
       "      <td>Mar</td>\n",
       "      <td>1.50</td>\n",
       "      <td>1.72</td>\n",
       "    </tr>\n",
       "    <tr>\n",
       "      <th>3</th>\n",
       "      <td>Apr</td>\n",
       "      <td>0.20</td>\n",
       "      <td>4.14</td>\n",
       "    </tr>\n",
       "    <tr>\n",
       "      <th>4</th>\n",
       "      <td>May</td>\n",
       "      <td>3.20</td>\n",
       "      <td>2.66</td>\n",
       "    </tr>\n",
       "    <tr>\n",
       "      <th>5</th>\n",
       "      <td>June</td>\n",
       "      <td>1.18</td>\n",
       "      <td>0.61</td>\n",
       "    </tr>\n",
       "    <tr>\n",
       "      <th>6</th>\n",
       "      <td>July</td>\n",
       "      <td>0.09</td>\n",
       "      <td>1.03</td>\n",
       "    </tr>\n",
       "    <tr>\n",
       "      <th>7</th>\n",
       "      <td>Aug</td>\n",
       "      <td>1.44</td>\n",
       "      <td>1.40</td>\n",
       "    </tr>\n",
       "    <tr>\n",
       "      <th>8</th>\n",
       "      <td>Sept</td>\n",
       "      <td>1.52</td>\n",
       "      <td>18.16</td>\n",
       "    </tr>\n",
       "    <tr>\n",
       "      <th>9</th>\n",
       "      <td>Oct</td>\n",
       "      <td>2.44</td>\n",
       "      <td>2.24</td>\n",
       "    </tr>\n",
       "    <tr>\n",
       "      <th>10</th>\n",
       "      <td>Nov</td>\n",
       "      <td>0.78</td>\n",
       "      <td>0.29</td>\n",
       "    </tr>\n",
       "    <tr>\n",
       "      <th>11</th>\n",
       "      <td>Dec</td>\n",
       "      <td>0.02</td>\n",
       "      <td>0.50</td>\n",
       "    </tr>\n",
       "  </tbody>\n",
       "</table>\n",
       "</div>"
      ],
      "text/plain": [
       "   month  precip_2002  precip_2013\n",
       "0    Jan         1.07         0.27\n",
       "1    Feb         0.44         1.13\n",
       "2    Mar         1.50         1.72\n",
       "3    Apr         0.20         4.14\n",
       "4    May         3.20         2.66\n",
       "5   June         1.18         0.61\n",
       "6   July         0.09         1.03\n",
       "7    Aug         1.44         1.40\n",
       "8   Sept         1.52        18.16\n",
       "9    Oct         2.44         2.24\n",
       "10   Nov         0.78         0.29\n",
       "11   Dec         0.02         0.50"
      ]
     },
     "execution_count": 33,
     "metadata": {},
     "output_type": "execute_result"
    }
   ],
   "source": [
    "# Import necessary packages\n",
    "import pandas as pd\n",
    "\n",
    "# Average monthly precip (inches) in 2002 and 2013 for Boulder, CO\n",
    "precip_2002_2013_df = pd.DataFrame(columns=[\"month\", \"precip_2002\", \"precip_2013\"],\n",
    "                                   data=[\n",
    "                                        [\"Jan\", 1.07, 0.27],   [\"Feb\", 0.44, 1.13],\n",
    "                                        [\"Mar\", 1.50, 1.72],   [\"Apr\", 0.20, 4.14],\n",
    "                                        [\"May\", 3.20, 2.66],   [\"June\", 1.18, 0.61],\n",
    "                                        [\"July\", 0.09, 1.03],  [\"Aug\", 1.44, 1.40],\n",
    "                                        [\"Sept\", 1.52, 18.16], [\"Oct\", 2.44, 2.24],\n",
    "                                        [\"Nov\", 0.78, 0.29],   [\"Dec\", 0.02, 0.50]\n",
    "                                   ])\n",
    "\n",
    "precip_2002_2013_df"
   ]
  },
  {
   "cell_type": "markdown",
   "id": "27544518",
   "metadata": {},
   "source": [
    "#### Create List of Column Names"
   ]
  },
  {
   "cell_type": "code",
   "execution_count": 34,
   "id": "2e38fa9a",
   "metadata": {},
   "outputs": [],
   "source": [
    "# Create a list of column names\n",
    "cols = [\"precip_2002\", \"precip_2013\"]"
   ]
  },
  {
   "cell_type": "markdown",
   "id": "82f4d300",
   "metadata": {},
   "source": [
    "#### Write Loop\n",
    "\n",
    "##### df[\"column_name\"] *= 25.4"
   ]
  },
  {
   "cell_type": "code",
   "execution_count": 35,
   "id": "9ec5c13d",
   "metadata": {},
   "outputs": [
    {
     "data": {
      "text/html": [
       "<div>\n",
       "<style scoped>\n",
       "    .dataframe tbody tr th:only-of-type {\n",
       "        vertical-align: middle;\n",
       "    }\n",
       "\n",
       "    .dataframe tbody tr th {\n",
       "        vertical-align: top;\n",
       "    }\n",
       "\n",
       "    .dataframe thead th {\n",
       "        text-align: right;\n",
       "    }\n",
       "</style>\n",
       "<table border=\"1\" class=\"dataframe\">\n",
       "  <thead>\n",
       "    <tr style=\"text-align: right;\">\n",
       "      <th></th>\n",
       "      <th>month</th>\n",
       "      <th>precip_2002</th>\n",
       "      <th>precip_2013</th>\n",
       "    </tr>\n",
       "  </thead>\n",
       "  <tbody>\n",
       "    <tr>\n",
       "      <th>0</th>\n",
       "      <td>Jan</td>\n",
       "      <td>27.178</td>\n",
       "      <td>6.858</td>\n",
       "    </tr>\n",
       "    <tr>\n",
       "      <th>1</th>\n",
       "      <td>Feb</td>\n",
       "      <td>11.176</td>\n",
       "      <td>28.702</td>\n",
       "    </tr>\n",
       "    <tr>\n",
       "      <th>2</th>\n",
       "      <td>Mar</td>\n",
       "      <td>38.100</td>\n",
       "      <td>43.688</td>\n",
       "    </tr>\n",
       "    <tr>\n",
       "      <th>3</th>\n",
       "      <td>Apr</td>\n",
       "      <td>5.080</td>\n",
       "      <td>105.156</td>\n",
       "    </tr>\n",
       "    <tr>\n",
       "      <th>4</th>\n",
       "      <td>May</td>\n",
       "      <td>81.280</td>\n",
       "      <td>67.564</td>\n",
       "    </tr>\n",
       "    <tr>\n",
       "      <th>5</th>\n",
       "      <td>June</td>\n",
       "      <td>29.972</td>\n",
       "      <td>15.494</td>\n",
       "    </tr>\n",
       "    <tr>\n",
       "      <th>6</th>\n",
       "      <td>July</td>\n",
       "      <td>2.286</td>\n",
       "      <td>26.162</td>\n",
       "    </tr>\n",
       "    <tr>\n",
       "      <th>7</th>\n",
       "      <td>Aug</td>\n",
       "      <td>36.576</td>\n",
       "      <td>35.560</td>\n",
       "    </tr>\n",
       "    <tr>\n",
       "      <th>8</th>\n",
       "      <td>Sept</td>\n",
       "      <td>38.608</td>\n",
       "      <td>461.264</td>\n",
       "    </tr>\n",
       "    <tr>\n",
       "      <th>9</th>\n",
       "      <td>Oct</td>\n",
       "      <td>61.976</td>\n",
       "      <td>56.896</td>\n",
       "    </tr>\n",
       "    <tr>\n",
       "      <th>10</th>\n",
       "      <td>Nov</td>\n",
       "      <td>19.812</td>\n",
       "      <td>7.366</td>\n",
       "    </tr>\n",
       "    <tr>\n",
       "      <th>11</th>\n",
       "      <td>Dec</td>\n",
       "      <td>0.508</td>\n",
       "      <td>12.700</td>\n",
       "    </tr>\n",
       "  </tbody>\n",
       "</table>\n",
       "</div>"
      ],
      "text/plain": [
       "   month  precip_2002  precip_2013\n",
       "0    Jan       27.178        6.858\n",
       "1    Feb       11.176       28.702\n",
       "2    Mar       38.100       43.688\n",
       "3    Apr        5.080      105.156\n",
       "4    May       81.280       67.564\n",
       "5   June       29.972       15.494\n",
       "6   July        2.286       26.162\n",
       "7    Aug       36.576       35.560\n",
       "8   Sept       38.608      461.264\n",
       "9    Oct       61.976       56.896\n",
       "10   Nov       19.812        7.366\n",
       "11   Dec        0.508       12.700"
      ]
     },
     "execution_count": 35,
     "metadata": {},
     "output_type": "execute_result"
    }
   ],
   "source": [
    "# Convert values for each column in cols list\n",
    "for column in cols:    \n",
    "    precip_2002_2013_df[column] *= 25.4\n",
    "\n",
    "# Print new values    \n",
    "precip_2002_2013_df"
   ]
  },
  {
   "cell_type": "markdown",
   "id": "97349ea0",
   "metadata": {},
   "source": [
    "## Automate Data Downloads Using EarthPy"
   ]
  },
  {
   "cell_type": "code",
   "execution_count": 36,
   "id": "2e179792",
   "metadata": {},
   "outputs": [],
   "source": [
    "# Import necessary packages\n",
    "import os\n",
    "import earthpy as et"
   ]
  },
  {
   "cell_type": "markdown",
   "id": "c67ba250",
   "metadata": {},
   "source": [
    "Imagine that you have multiple URLs from which you need to download data for a workflow. Rather than writing out the same code to download each file at time, you can use a loop to download all of these files using one set of code."
   ]
  },
  {
   "cell_type": "markdown",
   "id": "1d94fba3",
   "metadata": {},
   "source": [
    "#### Create List of URLs For Loop"
   ]
  },
  {
   "cell_type": "code",
   "execution_count": 38,
   "id": "274c9f71",
   "metadata": {},
   "outputs": [],
   "source": [
    "# URL for avg monthly precip (inches) for Boulder, CO\n",
    "avg_month_precip_url = 'https://ndownloader.figshare.com/files/12565616'\n",
    "\n",
    "# URL for precip data for 2002 and 2013 (inches) for array\n",
    "precip_2002_2013_url = 'https://ndownloader.figshare.com/files/12707792'\n",
    "\n",
    "# Create list of URLs\n",
    "urls = [avg_month_precip_url, precip_2002_2013_url]"
   ]
  },
  {
   "cell_type": "markdown",
   "id": "83b8b147",
   "metadata": {},
   "source": [
    "#### Write Loop"
   ]
  },
  {
   "cell_type": "code",
   "execution_count": 39,
   "id": "eca42927",
   "metadata": {},
   "outputs": [],
   "source": [
    "# Download each url in list\n",
    "for file_url in urls:\n",
    "    et.data.get_data(url=file_url)"
   ]
  },
  {
   "cell_type": "markdown",
   "id": "edc331f6",
   "metadata": {},
   "source": [
    "#### Check Files in Directory"
   ]
  },
  {
   "cell_type": "code",
   "execution_count": 41,
   "id": "59991c8f",
   "metadata": {},
   "outputs": [
    {
     "data": {
      "text/plain": [
       "['avg-monthly-precip.txt',\n",
       " 'avg-monthly-temp-fahr',\n",
       " 'avg-precip-months-seasons.csv',\n",
       " 'monthly-precip-2002-2013.csv',\n",
       " 'months.txt',\n",
       " 'precip-2002-2013-months-seasons.csv']"
      ]
     },
     "execution_count": 41,
     "metadata": {},
     "output_type": "execute_result"
    }
   ],
   "source": [
    "# Create path for data directory\n",
    "data_dir = os.path.join(et.io.HOME, \n",
    "                        \"earth-analytics\", \n",
    "                        \"data\", \n",
    "                        \"earthpy-downloads\")\n",
    "\n",
    "os.listdir(data_dir) # list out the contents of that directory"
   ]
  },
  {
   "cell_type": "markdown",
   "id": "b71c21d0",
   "metadata": {},
   "source": [
    "# Lesson 3. Create Data Workflows with Loops"
   ]
  },
  {
   "cell_type": "markdown",
   "id": "510dc454",
   "metadata": {},
   "source": [
    "After completing this chapter, you will be able to:\n",
    "\n",
    "- Iterate through multiple directories to access data within.\n",
    "- Nest loops in each other to run more complicated loops.\n",
    "- Use for loops to combine multiple datasets into one Pandas DataFrame."
   ]
  },
  {
   "cell_type": "markdown",
   "id": "7f861fb2",
   "metadata": {},
   "source": [
    "## Build a Data Workflow"
   ]
  },
  {
   "cell_type": "markdown",
   "id": "b080a6dc",
   "metadata": {},
   "source": [
    "Often, the data that you need for your workflow is messy and sometimes difficult to access. It can be spread out over multiple files in many directories. Manually processing data in multiple files and directories manually is time consuming. It can be much easier to automate the process in Python with for loops!"
   ]
  },
  {
   "cell_type": "code",
   "execution_count": 43,
   "id": "8318afbc",
   "metadata": {},
   "outputs": [],
   "source": [
    "import os\n",
    "from glob import glob\n",
    "import matplotlib.pyplot as plt\n",
    "import pandas as pd\n",
    "import earthpy as et\n",
    "\n",
    "# Download data on average monthly temp for two California sites\n",
    "file_url = \"https://ndownloader.figshare.com/files/21894528\"\n",
    "data_path = et.data.get_data(url=file_url)\n",
    "data_path\n",
    "\n",
    "# Set working directory to earth-analytics\n",
    "os.chdir(os.path.join(et.io.HOME,\n",
    "                      \"earth-analytics\",\n",
    "                      \"data\",\n",
    "                      \"earthpy-downloads\"))"
   ]
  },
  {
   "cell_type": "code",
   "execution_count": 44,
   "id": "65f11bc8",
   "metadata": {},
   "outputs": [
    {
     "data": {
      "text/plain": [
       "['San-Diego', 'Sonoma']"
      ]
     },
     "execution_count": 44,
     "metadata": {},
     "output_type": "execute_result"
    }
   ],
   "source": [
    "# List directories for the data\n",
    "os.listdir(data_path)"
   ]
  },
  {
   "cell_type": "markdown",
   "id": "d3bc0953",
   "metadata": {},
   "source": [
    "Your analysis goal is to create a plot of temperature across all years that you have data for in both locations. To create this plot, you will need to:\n",
    "\n",
    "- open each file\n",
    "- combine the data for each year into a single dataframe\n",
    "- add an attribute that specifies the location and year to the data.frame"
   ]
  },
  {
   "cell_type": "markdown",
   "id": "6f6d11fb",
   "metadata": {},
   "source": [
    "#### Explore Your Data Using Loops"
   ]
  },
  {
   "cell_type": "code",
   "execution_count": 46,
   "id": "89bc971e",
   "metadata": {},
   "outputs": [
    {
     "name": "stdout",
     "output_type": "stream",
     "text": [
      "C:\\Users\\34639\\earth-analytics\\data\\earthpy-downloads\\avg-monthly-temp-fahr\\San-Diego\n",
      "C:\\Users\\34639\\earth-analytics\\data\\earthpy-downloads\\avg-monthly-temp-fahr\\Sonoma\n"
     ]
    }
   ],
   "source": [
    "# Print all dirs found by glob\n",
    "data_dirs = os.path.join(data_path, \"*\")\n",
    "all_dirs = glob(data_dirs)\n",
    "\n",
    "for a_dir in all_dirs:\n",
    "    print(a_dir)"
   ]
  },
  {
   "cell_type": "markdown",
   "id": "ad4cf3e7",
   "metadata": {},
   "source": [
    "#### Use glob Inside a for Loop"
   ]
  },
  {
   "cell_type": "markdown",
   "id": "d02eca4a",
   "metadata": {},
   "source": [
    "The folders printed out above are interesting, but they are not the files you want to work on. The files are another directory down, stored within the folders printed above. To access these files, you can use glob once again. Inside the for loop, you can use glob to create a list of all of the files within each folder in the original list."
   ]
  },
  {
   "cell_type": "code",
   "execution_count": 48,
   "id": "178f3bcf",
   "metadata": {},
   "outputs": [
    {
     "name": "stdout",
     "output_type": "stream",
     "text": [
      "['C:\\\\Users\\\\34639\\\\earth-analytics\\\\data\\\\earthpy-downloads\\\\avg-monthly-temp-fahr\\\\San-Diego\\\\San-Diego-1999-temp.csv', 'C:\\\\Users\\\\34639\\\\earth-analytics\\\\data\\\\earthpy-downloads\\\\avg-monthly-temp-fahr\\\\San-Diego\\\\San-Diego-2000-temp.csv', 'C:\\\\Users\\\\34639\\\\earth-analytics\\\\data\\\\earthpy-downloads\\\\avg-monthly-temp-fahr\\\\San-Diego\\\\San-Diego-2001-temp.csv', 'C:\\\\Users\\\\34639\\\\earth-analytics\\\\data\\\\earthpy-downloads\\\\avg-monthly-temp-fahr\\\\San-Diego\\\\San-Diego-2002-temp.csv', 'C:\\\\Users\\\\34639\\\\earth-analytics\\\\data\\\\earthpy-downloads\\\\avg-monthly-temp-fahr\\\\San-Diego\\\\San-Diego-2003-temp.csv']\n",
      "['C:\\\\Users\\\\34639\\\\earth-analytics\\\\data\\\\earthpy-downloads\\\\avg-monthly-temp-fahr\\\\Sonoma\\\\Sonoma-1999-temp.csv', 'C:\\\\Users\\\\34639\\\\earth-analytics\\\\data\\\\earthpy-downloads\\\\avg-monthly-temp-fahr\\\\Sonoma\\\\Sonoma-2000-temp.csv', 'C:\\\\Users\\\\34639\\\\earth-analytics\\\\data\\\\earthpy-downloads\\\\avg-monthly-temp-fahr\\\\Sonoma\\\\Sonoma-2001-temp.csv', 'C:\\\\Users\\\\34639\\\\earth-analytics\\\\data\\\\earthpy-downloads\\\\avg-monthly-temp-fahr\\\\Sonoma\\\\Sonoma-2002-temp.csv', 'C:\\\\Users\\\\34639\\\\earth-analytics\\\\data\\\\earthpy-downloads\\\\avg-monthly-temp-fahr\\\\Sonoma\\\\Sonoma-2003-temp.csv']\n"
     ]
    }
   ],
   "source": [
    "# Create lists inside a for loop\n",
    "for a_dir in all_dirs:\n",
    "    all_files = os.path.join(a_dir, \"*\")\n",
    "    print(glob(all_files))"
   ]
  },
  {
   "cell_type": "markdown",
   "id": "0dfb029c",
   "metadata": {},
   "source": [
    "#### Nesting for Loops"
   ]
  },
  {
   "cell_type": "markdown",
   "id": "b7596802",
   "metadata": {},
   "source": [
    "Nesting for loops is a powerful tool, but can also be computationally expensive. Each time the outer loop executes one cycle, the for loop that’s nested inside must complete it’s entire loop before the outer loop executes it’s next cycle. You can nest as many for loops as you want, but it’s good to keep this in mind. The more for loops that are nested, the longer each cycle of the outer for loop will take."
   ]
  },
  {
   "cell_type": "code",
   "execution_count": 51,
   "id": "d8a58e82",
   "metadata": {},
   "outputs": [
    {
     "name": "stdout",
     "output_type": "stream",
     "text": [
      "C:\\Users\\34639\\earth-analytics\\data\\earthpy-downloads\\avg-monthly-temp-fahr\\San-Diego\\San-Diego-1999-temp.csv\n",
      "C:\\Users\\34639\\earth-analytics\\data\\earthpy-downloads\\avg-monthly-temp-fahr\\San-Diego\\San-Diego-2000-temp.csv\n",
      "C:\\Users\\34639\\earth-analytics\\data\\earthpy-downloads\\avg-monthly-temp-fahr\\San-Diego\\San-Diego-2001-temp.csv\n",
      "C:\\Users\\34639\\earth-analytics\\data\\earthpy-downloads\\avg-monthly-temp-fahr\\San-Diego\\San-Diego-2002-temp.csv\n",
      "C:\\Users\\34639\\earth-analytics\\data\\earthpy-downloads\\avg-monthly-temp-fahr\\San-Diego\\San-Diego-2003-temp.csv\n",
      "C:\\Users\\34639\\earth-analytics\\data\\earthpy-downloads\\avg-monthly-temp-fahr\\Sonoma\\Sonoma-1999-temp.csv\n",
      "C:\\Users\\34639\\earth-analytics\\data\\earthpy-downloads\\avg-monthly-temp-fahr\\Sonoma\\Sonoma-2000-temp.csv\n",
      "C:\\Users\\34639\\earth-analytics\\data\\earthpy-downloads\\avg-monthly-temp-fahr\\Sonoma\\Sonoma-2001-temp.csv\n",
      "C:\\Users\\34639\\earth-analytics\\data\\earthpy-downloads\\avg-monthly-temp-fahr\\Sonoma\\Sonoma-2002-temp.csv\n",
      "C:\\Users\\34639\\earth-analytics\\data\\earthpy-downloads\\avg-monthly-temp-fahr\\Sonoma\\Sonoma-2003-temp.csv\n"
     ]
    }
   ],
   "source": [
    "# Nesting for loops\n",
    "for a_dir in all_dirs:\n",
    "    dir_path = os.path.join(a_dir, \"*\")\n",
    "    all_file_paths = (glob(dir_path))\n",
    "    # Create a nested loop which loops through each directory\n",
    "    for a_file_path in all_file_paths:\n",
    "        print(a_file_path)\n",
    "        "
   ]
  },
  {
   "cell_type": "code",
   "execution_count": 52,
   "id": "762e4cd0",
   "metadata": {},
   "outputs": [
    {
     "name": "stdout",
     "output_type": "stream",
     "text": [
      "C:\\Users\\34639\\earth-analytics\\data\\earthpy-downloads\\avg-monthly-temp-fahr\\San-Diego\\San-Diego-1999-temp.csv\n",
      "C:\\Users\\34639\\earth-analytics\\data\\earthpy-downloads\\avg-monthly-temp-fahr\\San-Diego\\San-Diego-2000-temp.csv\n",
      "C:\\Users\\34639\\earth-analytics\\data\\earthpy-downloads\\avg-monthly-temp-fahr\\San-Diego\\San-Diego-2001-temp.csv\n",
      "C:\\Users\\34639\\earth-analytics\\data\\earthpy-downloads\\avg-monthly-temp-fahr\\San-Diego\\San-Diego-2002-temp.csv\n",
      "C:\\Users\\34639\\earth-analytics\\data\\earthpy-downloads\\avg-monthly-temp-fahr\\San-Diego\\San-Diego-2003-temp.csv\n",
      "C:\\Users\\34639\\earth-analytics\\data\\earthpy-downloads\\avg-monthly-temp-fahr\\Sonoma\\Sonoma-1999-temp.csv\n",
      "C:\\Users\\34639\\earth-analytics\\data\\earthpy-downloads\\avg-monthly-temp-fahr\\Sonoma\\Sonoma-2000-temp.csv\n",
      "C:\\Users\\34639\\earth-analytics\\data\\earthpy-downloads\\avg-monthly-temp-fahr\\Sonoma\\Sonoma-2001-temp.csv\n",
      "C:\\Users\\34639\\earth-analytics\\data\\earthpy-downloads\\avg-monthly-temp-fahr\\Sonoma\\Sonoma-2002-temp.csv\n",
      "C:\\Users\\34639\\earth-analytics\\data\\earthpy-downloads\\avg-monthly-temp-fahr\\Sonoma\\Sonoma-2003-temp.csv\n"
     ]
    },
    {
     "data": {
      "text/html": [
       "<div>\n",
       "<style scoped>\n",
       "    .dataframe tbody tr th:only-of-type {\n",
       "        vertical-align: middle;\n",
       "    }\n",
       "\n",
       "    .dataframe tbody tr th {\n",
       "        vertical-align: top;\n",
       "    }\n",
       "\n",
       "    .dataframe thead th {\n",
       "        text-align: right;\n",
       "    }\n",
       "</style>\n",
       "<table border=\"1\" class=\"dataframe\">\n",
       "  <thead>\n",
       "    <tr style=\"text-align: right;\">\n",
       "      <th></th>\n",
       "      <th>Year</th>\n",
       "      <th>January</th>\n",
       "      <th>February</th>\n",
       "      <th>March</th>\n",
       "      <th>April</th>\n",
       "      <th>May</th>\n",
       "      <th>June</th>\n",
       "      <th>July</th>\n",
       "      <th>August</th>\n",
       "      <th>September</th>\n",
       "      <th>October</th>\n",
       "      <th>November</th>\n",
       "      <th>December</th>\n",
       "    </tr>\n",
       "  </thead>\n",
       "  <tbody>\n",
       "    <tr>\n",
       "      <th>0</th>\n",
       "      <td>2003</td>\n",
       "      <td>58.9</td>\n",
       "      <td>61.8</td>\n",
       "      <td>66.4</td>\n",
       "      <td>61.5</td>\n",
       "      <td>74.2</td>\n",
       "      <td>81.1</td>\n",
       "      <td>87</td>\n",
       "      <td>83.5</td>\n",
       "      <td>85</td>\n",
       "      <td>82.7</td>\n",
       "      <td>61</td>\n",
       "      <td>56.4</td>\n",
       "    </tr>\n",
       "  </tbody>\n",
       "</table>\n",
       "</div>"
      ],
      "text/plain": [
       "   Year  January  February  March  April   May  June  July  August  September  \\\n",
       "0  2003     58.9      61.8   66.4   61.5  74.2  81.1    87    83.5         85   \n",
       "\n",
       "   October  November  December  \n",
       "0     82.7        61      56.4  "
      ]
     },
     "execution_count": 52,
     "metadata": {},
     "output_type": "execute_result"
    }
   ],
   "source": [
    "for a_dir in all_dirs:\n",
    "    dir_path = os.path.join(a_dir, \"*\")\n",
    "    all_file_paths = (glob(dir_path))\n",
    "    # Create a nested loop which loops through each directory\n",
    "    for a_file_path in all_file_paths:\n",
    "        print(a_file_path)\n",
    "        # Read the file into a pandas dataframe and assign it to a variable\n",
    "        temp_data_df = pd.read_csv(a_file_path)\n",
    "temp_data_df"
   ]
  },
  {
   "cell_type": "markdown",
   "id": "677c4519",
   "metadata": {},
   "source": [
    "#### Combining Pandas Datasets in a List"
   ]
  },
  {
   "cell_type": "markdown",
   "id": "e9b2cb8d",
   "metadata": {},
   "source": [
    "#### concat"
   ]
  },
  {
   "cell_type": "code",
   "execution_count": 53,
   "id": "4469ddaf",
   "metadata": {},
   "outputs": [
    {
     "data": {
      "text/html": [
       "<div>\n",
       "<style scoped>\n",
       "    .dataframe tbody tr th:only-of-type {\n",
       "        vertical-align: middle;\n",
       "    }\n",
       "\n",
       "    .dataframe tbody tr th {\n",
       "        vertical-align: top;\n",
       "    }\n",
       "\n",
       "    .dataframe thead th {\n",
       "        text-align: right;\n",
       "    }\n",
       "</style>\n",
       "<table border=\"1\" class=\"dataframe\">\n",
       "  <thead>\n",
       "    <tr style=\"text-align: right;\">\n",
       "      <th></th>\n",
       "      <th>Year</th>\n",
       "      <th>January</th>\n",
       "      <th>February</th>\n",
       "      <th>March</th>\n",
       "      <th>April</th>\n",
       "      <th>May</th>\n",
       "      <th>June</th>\n",
       "      <th>July</th>\n",
       "      <th>August</th>\n",
       "      <th>September</th>\n",
       "      <th>October</th>\n",
       "      <th>November</th>\n",
       "      <th>December</th>\n",
       "    </tr>\n",
       "  </thead>\n",
       "  <tbody>\n",
       "    <tr>\n",
       "      <th>0</th>\n",
       "      <td>1999</td>\n",
       "      <td>65.2</td>\n",
       "      <td>64.9</td>\n",
       "      <td>63.6</td>\n",
       "      <td>64.6</td>\n",
       "      <td>64.4</td>\n",
       "      <td>66.9</td>\n",
       "      <td>72.7</td>\n",
       "      <td>72.7</td>\n",
       "      <td>71.4</td>\n",
       "      <td>77.7</td>\n",
       "      <td>67.4</td>\n",
       "      <td>67.6</td>\n",
       "    </tr>\n",
       "    <tr>\n",
       "      <th>0</th>\n",
       "      <td>2000</td>\n",
       "      <td>65.8</td>\n",
       "      <td>65.3</td>\n",
       "      <td>63.7</td>\n",
       "      <td>67.7</td>\n",
       "      <td>69.1</td>\n",
       "      <td>72.4</td>\n",
       "      <td>73.5</td>\n",
       "      <td>76.3</td>\n",
       "      <td>75.5</td>\n",
       "      <td>69.5</td>\n",
       "      <td>66.0</td>\n",
       "      <td>66.9</td>\n",
       "    </tr>\n",
       "    <tr>\n",
       "      <th>0</th>\n",
       "      <td>2001</td>\n",
       "      <td>62.2</td>\n",
       "      <td>61.7</td>\n",
       "      <td>63.7</td>\n",
       "      <td>63.6</td>\n",
       "      <td>67.5</td>\n",
       "      <td>72.0</td>\n",
       "      <td>73.0</td>\n",
       "      <td>73.5</td>\n",
       "      <td>73.2</td>\n",
       "      <td>71.1</td>\n",
       "      <td>66.9</td>\n",
       "      <td>63.3</td>\n",
       "    </tr>\n",
       "    <tr>\n",
       "      <th>0</th>\n",
       "      <td>2002</td>\n",
       "      <td>63.0</td>\n",
       "      <td>66.2</td>\n",
       "      <td>63.6</td>\n",
       "      <td>63.7</td>\n",
       "      <td>66.1</td>\n",
       "      <td>68.7</td>\n",
       "      <td>71.8</td>\n",
       "      <td>73.4</td>\n",
       "      <td>75.5</td>\n",
       "      <td>68.4</td>\n",
       "      <td>71.4</td>\n",
       "      <td>63.7</td>\n",
       "    </tr>\n",
       "    <tr>\n",
       "      <th>0</th>\n",
       "      <td>2003</td>\n",
       "      <td>71.4</td>\n",
       "      <td>64.6</td>\n",
       "      <td>66.5</td>\n",
       "      <td>65.2</td>\n",
       "      <td>66.9</td>\n",
       "      <td>67.4</td>\n",
       "      <td>74.3</td>\n",
       "      <td>77.5</td>\n",
       "      <td>74.0</td>\n",
       "      <td>73.1</td>\n",
       "      <td>67.4</td>\n",
       "      <td>64.6</td>\n",
       "    </tr>\n",
       "    <tr>\n",
       "      <th>0</th>\n",
       "      <td>1999</td>\n",
       "      <td>56.1</td>\n",
       "      <td>56.6</td>\n",
       "      <td>58.7</td>\n",
       "      <td>68.3</td>\n",
       "      <td>72.7</td>\n",
       "      <td>80.6</td>\n",
       "      <td>80.9</td>\n",
       "      <td>82.9</td>\n",
       "      <td>81.3</td>\n",
       "      <td>79.1</td>\n",
       "      <td>64.2</td>\n",
       "      <td>61.5</td>\n",
       "    </tr>\n",
       "    <tr>\n",
       "      <th>0</th>\n",
       "      <td>2000</td>\n",
       "      <td>56.8</td>\n",
       "      <td>58.0</td>\n",
       "      <td>64.8</td>\n",
       "      <td>69.5</td>\n",
       "      <td>75.0</td>\n",
       "      <td>79.5</td>\n",
       "      <td>81.4</td>\n",
       "      <td>83.7</td>\n",
       "      <td>83.4</td>\n",
       "      <td>71.8</td>\n",
       "      <td>60.7</td>\n",
       "      <td>58.5</td>\n",
       "    </tr>\n",
       "    <tr>\n",
       "      <th>0</th>\n",
       "      <td>2001</td>\n",
       "      <td>56.5</td>\n",
       "      <td>58.4</td>\n",
       "      <td>68.0</td>\n",
       "      <td>66.7</td>\n",
       "      <td>83.1</td>\n",
       "      <td>86.1</td>\n",
       "      <td>81.2</td>\n",
       "      <td>85.3</td>\n",
       "      <td>81.0</td>\n",
       "      <td>78.4</td>\n",
       "      <td>64.0</td>\n",
       "      <td>55.6</td>\n",
       "    </tr>\n",
       "    <tr>\n",
       "      <th>0</th>\n",
       "      <td>2002</td>\n",
       "      <td>55.8</td>\n",
       "      <td>62.9</td>\n",
       "      <td>63.5</td>\n",
       "      <td>66.9</td>\n",
       "      <td>74.5</td>\n",
       "      <td>84.2</td>\n",
       "      <td>82.8</td>\n",
       "      <td>82.1</td>\n",
       "      <td>84.5</td>\n",
       "      <td>75.7</td>\n",
       "      <td>67.6</td>\n",
       "      <td>57.4</td>\n",
       "    </tr>\n",
       "    <tr>\n",
       "      <th>0</th>\n",
       "      <td>2003</td>\n",
       "      <td>58.9</td>\n",
       "      <td>61.8</td>\n",
       "      <td>66.4</td>\n",
       "      <td>61.5</td>\n",
       "      <td>74.2</td>\n",
       "      <td>81.1</td>\n",
       "      <td>87.0</td>\n",
       "      <td>83.5</td>\n",
       "      <td>85.0</td>\n",
       "      <td>82.7</td>\n",
       "      <td>61.0</td>\n",
       "      <td>56.4</td>\n",
       "    </tr>\n",
       "  </tbody>\n",
       "</table>\n",
       "</div>"
      ],
      "text/plain": [
       "   Year  January  February  March  April   May  June  July  August  September  \\\n",
       "0  1999     65.2      64.9   63.6   64.6  64.4  66.9  72.7    72.7       71.4   \n",
       "0  2000     65.8      65.3   63.7   67.7  69.1  72.4  73.5    76.3       75.5   \n",
       "0  2001     62.2      61.7   63.7   63.6  67.5  72.0  73.0    73.5       73.2   \n",
       "0  2002     63.0      66.2   63.6   63.7  66.1  68.7  71.8    73.4       75.5   \n",
       "0  2003     71.4      64.6   66.5   65.2  66.9  67.4  74.3    77.5       74.0   \n",
       "0  1999     56.1      56.6   58.7   68.3  72.7  80.6  80.9    82.9       81.3   \n",
       "0  2000     56.8      58.0   64.8   69.5  75.0  79.5  81.4    83.7       83.4   \n",
       "0  2001     56.5      58.4   68.0   66.7  83.1  86.1  81.2    85.3       81.0   \n",
       "0  2002     55.8      62.9   63.5   66.9  74.5  84.2  82.8    82.1       84.5   \n",
       "0  2003     58.9      61.8   66.4   61.5  74.2  81.1  87.0    83.5       85.0   \n",
       "\n",
       "   October  November  December  \n",
       "0     77.7      67.4      67.6  \n",
       "0     69.5      66.0      66.9  \n",
       "0     71.1      66.9      63.3  \n",
       "0     68.4      71.4      63.7  \n",
       "0     73.1      67.4      64.6  \n",
       "0     79.1      64.2      61.5  \n",
       "0     71.8      60.7      58.5  \n",
       "0     78.4      64.0      55.6  \n",
       "0     75.7      67.6      57.4  \n",
       "0     82.7      61.0      56.4  "
      ]
     },
     "execution_count": 53,
     "metadata": {},
     "output_type": "execute_result"
    }
   ],
   "source": [
    "# Create a list outside of the for loop to store data\n",
    "all_df = []\n",
    "\n",
    "for a_dir in all_dirs:\n",
    "    dir_path = os.path.join(a_dir, \"*\")\n",
    "    all_file_paths = (glob(dir_path))\n",
    "    for a_file_path in all_file_paths:\n",
    "        temp_data_df = pd.read_csv(a_file_path)\n",
    "        # Append the data to the list you made to prevent it from being overwritten\n",
    "        all_df.append(temp_data_df)\n",
    "\n",
    "# Combine all the dataframes stored in the all_df list into one pandas dataframe\n",
    "pd.concat(all_df)"
   ]
  },
  {
   "cell_type": "markdown",
   "id": "aa8a1496",
   "metadata": {},
   "source": [
    "#### Extracting Data from Pathnames\n",
    "\n",
    "##### os.path.basename()\n",
    "Often times when data is stored in many directories, the name of the folder that the data is stored in can have useful information. Some examples of this include:\n",
    "\n",
    "- The date the data was collected\n",
    "- The location where the data was collected\n",
    "- Physical attributes of the data\n",
    "- The resolution of the data"
   ]
  },
  {
   "cell_type": "markdown",
   "id": "97a5a145",
   "metadata": {},
   "source": [
    "In this example, the two folders that store all of the files contain useful information in the folder names. Specifically, the names, San-Diego and Sonoma, are indicative of where the data was collected. You can add this information to a new column in the pandas DataFrames you are creating."
   ]
  },
  {
   "cell_type": "code",
   "execution_count": 54,
   "id": "a7ae7da7",
   "metadata": {},
   "outputs": [
    {
     "name": "stdout",
     "output_type": "stream",
     "text": [
      "The pathname without running os.path.basename():\n",
      "C:\\Users\\34639\\earth-analytics\\data\\earthpy-downloads\\avg-monthly-temp-fahr\\San-Diego\n",
      "\n",
      "The infromation extracted from the pathname by os.path.basename():\n",
      "San-Diego\n"
     ]
    }
   ],
   "source": [
    "# Get the basename from a pathname\n",
    "\n",
    "basename = os.path.basename(all_dirs[0])\n",
    "\n",
    "print(\"The pathname without running os.path.basename():\\n\" + all_dirs[0])\n",
    "print(\"\\nThe infromation extracted from the pathname by os.path.basename():\\n\" + basename)"
   ]
  },
  {
   "cell_type": "code",
   "execution_count": 57,
   "id": "9a3f8891",
   "metadata": {},
   "outputs": [
    {
     "data": {
      "text/html": [
       "<div>\n",
       "<style scoped>\n",
       "    .dataframe tbody tr th:only-of-type {\n",
       "        vertical-align: middle;\n",
       "    }\n",
       "\n",
       "    .dataframe tbody tr th {\n",
       "        vertical-align: top;\n",
       "    }\n",
       "\n",
       "    .dataframe thead th {\n",
       "        text-align: right;\n",
       "    }\n",
       "</style>\n",
       "<table border=\"1\" class=\"dataframe\">\n",
       "  <thead>\n",
       "    <tr style=\"text-align: right;\">\n",
       "      <th></th>\n",
       "      <th>Year</th>\n",
       "      <th>January</th>\n",
       "      <th>February</th>\n",
       "      <th>March</th>\n",
       "      <th>April</th>\n",
       "      <th>May</th>\n",
       "      <th>June</th>\n",
       "      <th>July</th>\n",
       "      <th>August</th>\n",
       "      <th>September</th>\n",
       "      <th>October</th>\n",
       "      <th>November</th>\n",
       "      <th>December</th>\n",
       "      <th>location</th>\n",
       "    </tr>\n",
       "  </thead>\n",
       "  <tbody>\n",
       "    <tr>\n",
       "      <th>0</th>\n",
       "      <td>1999</td>\n",
       "      <td>65.2</td>\n",
       "      <td>64.9</td>\n",
       "      <td>63.6</td>\n",
       "      <td>64.6</td>\n",
       "      <td>64.4</td>\n",
       "      <td>66.9</td>\n",
       "      <td>72.7</td>\n",
       "      <td>72.7</td>\n",
       "      <td>71.4</td>\n",
       "      <td>77.7</td>\n",
       "      <td>67.4</td>\n",
       "      <td>67.6</td>\n",
       "      <td>C:\\Users\\34639\\earth-analytics\\data\\earthpy-do...</td>\n",
       "    </tr>\n",
       "    <tr>\n",
       "      <th>0</th>\n",
       "      <td>2000</td>\n",
       "      <td>65.8</td>\n",
       "      <td>65.3</td>\n",
       "      <td>63.7</td>\n",
       "      <td>67.7</td>\n",
       "      <td>69.1</td>\n",
       "      <td>72.4</td>\n",
       "      <td>73.5</td>\n",
       "      <td>76.3</td>\n",
       "      <td>75.5</td>\n",
       "      <td>69.5</td>\n",
       "      <td>66.0</td>\n",
       "      <td>66.9</td>\n",
       "      <td>C:\\Users\\34639\\earth-analytics\\data\\earthpy-do...</td>\n",
       "    </tr>\n",
       "    <tr>\n",
       "      <th>0</th>\n",
       "      <td>2001</td>\n",
       "      <td>62.2</td>\n",
       "      <td>61.7</td>\n",
       "      <td>63.7</td>\n",
       "      <td>63.6</td>\n",
       "      <td>67.5</td>\n",
       "      <td>72.0</td>\n",
       "      <td>73.0</td>\n",
       "      <td>73.5</td>\n",
       "      <td>73.2</td>\n",
       "      <td>71.1</td>\n",
       "      <td>66.9</td>\n",
       "      <td>63.3</td>\n",
       "      <td>C:\\Users\\34639\\earth-analytics\\data\\earthpy-do...</td>\n",
       "    </tr>\n",
       "    <tr>\n",
       "      <th>0</th>\n",
       "      <td>2002</td>\n",
       "      <td>63.0</td>\n",
       "      <td>66.2</td>\n",
       "      <td>63.6</td>\n",
       "      <td>63.7</td>\n",
       "      <td>66.1</td>\n",
       "      <td>68.7</td>\n",
       "      <td>71.8</td>\n",
       "      <td>73.4</td>\n",
       "      <td>75.5</td>\n",
       "      <td>68.4</td>\n",
       "      <td>71.4</td>\n",
       "      <td>63.7</td>\n",
       "      <td>C:\\Users\\34639\\earth-analytics\\data\\earthpy-do...</td>\n",
       "    </tr>\n",
       "    <tr>\n",
       "      <th>0</th>\n",
       "      <td>2003</td>\n",
       "      <td>71.4</td>\n",
       "      <td>64.6</td>\n",
       "      <td>66.5</td>\n",
       "      <td>65.2</td>\n",
       "      <td>66.9</td>\n",
       "      <td>67.4</td>\n",
       "      <td>74.3</td>\n",
       "      <td>77.5</td>\n",
       "      <td>74.0</td>\n",
       "      <td>73.1</td>\n",
       "      <td>67.4</td>\n",
       "      <td>64.6</td>\n",
       "      <td>C:\\Users\\34639\\earth-analytics\\data\\earthpy-do...</td>\n",
       "    </tr>\n",
       "    <tr>\n",
       "      <th>0</th>\n",
       "      <td>1999</td>\n",
       "      <td>56.1</td>\n",
       "      <td>56.6</td>\n",
       "      <td>58.7</td>\n",
       "      <td>68.3</td>\n",
       "      <td>72.7</td>\n",
       "      <td>80.6</td>\n",
       "      <td>80.9</td>\n",
       "      <td>82.9</td>\n",
       "      <td>81.3</td>\n",
       "      <td>79.1</td>\n",
       "      <td>64.2</td>\n",
       "      <td>61.5</td>\n",
       "      <td>C:\\Users\\34639\\earth-analytics\\data\\earthpy-do...</td>\n",
       "    </tr>\n",
       "    <tr>\n",
       "      <th>0</th>\n",
       "      <td>2000</td>\n",
       "      <td>56.8</td>\n",
       "      <td>58.0</td>\n",
       "      <td>64.8</td>\n",
       "      <td>69.5</td>\n",
       "      <td>75.0</td>\n",
       "      <td>79.5</td>\n",
       "      <td>81.4</td>\n",
       "      <td>83.7</td>\n",
       "      <td>83.4</td>\n",
       "      <td>71.8</td>\n",
       "      <td>60.7</td>\n",
       "      <td>58.5</td>\n",
       "      <td>C:\\Users\\34639\\earth-analytics\\data\\earthpy-do...</td>\n",
       "    </tr>\n",
       "    <tr>\n",
       "      <th>0</th>\n",
       "      <td>2001</td>\n",
       "      <td>56.5</td>\n",
       "      <td>58.4</td>\n",
       "      <td>68.0</td>\n",
       "      <td>66.7</td>\n",
       "      <td>83.1</td>\n",
       "      <td>86.1</td>\n",
       "      <td>81.2</td>\n",
       "      <td>85.3</td>\n",
       "      <td>81.0</td>\n",
       "      <td>78.4</td>\n",
       "      <td>64.0</td>\n",
       "      <td>55.6</td>\n",
       "      <td>C:\\Users\\34639\\earth-analytics\\data\\earthpy-do...</td>\n",
       "    </tr>\n",
       "    <tr>\n",
       "      <th>0</th>\n",
       "      <td>2002</td>\n",
       "      <td>55.8</td>\n",
       "      <td>62.9</td>\n",
       "      <td>63.5</td>\n",
       "      <td>66.9</td>\n",
       "      <td>74.5</td>\n",
       "      <td>84.2</td>\n",
       "      <td>82.8</td>\n",
       "      <td>82.1</td>\n",
       "      <td>84.5</td>\n",
       "      <td>75.7</td>\n",
       "      <td>67.6</td>\n",
       "      <td>57.4</td>\n",
       "      <td>C:\\Users\\34639\\earth-analytics\\data\\earthpy-do...</td>\n",
       "    </tr>\n",
       "    <tr>\n",
       "      <th>0</th>\n",
       "      <td>2003</td>\n",
       "      <td>58.9</td>\n",
       "      <td>61.8</td>\n",
       "      <td>66.4</td>\n",
       "      <td>61.5</td>\n",
       "      <td>74.2</td>\n",
       "      <td>81.1</td>\n",
       "      <td>87.0</td>\n",
       "      <td>83.5</td>\n",
       "      <td>85.0</td>\n",
       "      <td>82.7</td>\n",
       "      <td>61.0</td>\n",
       "      <td>56.4</td>\n",
       "      <td>C:\\Users\\34639\\earth-analytics\\data\\earthpy-do...</td>\n",
       "    </tr>\n",
       "  </tbody>\n",
       "</table>\n",
       "</div>"
      ],
      "text/plain": [
       "   Year  January  February  March  April   May  June  July  August  September  \\\n",
       "0  1999     65.2      64.9   63.6   64.6  64.4  66.9  72.7    72.7       71.4   \n",
       "0  2000     65.8      65.3   63.7   67.7  69.1  72.4  73.5    76.3       75.5   \n",
       "0  2001     62.2      61.7   63.7   63.6  67.5  72.0  73.0    73.5       73.2   \n",
       "0  2002     63.0      66.2   63.6   63.7  66.1  68.7  71.8    73.4       75.5   \n",
       "0  2003     71.4      64.6   66.5   65.2  66.9  67.4  74.3    77.5       74.0   \n",
       "0  1999     56.1      56.6   58.7   68.3  72.7  80.6  80.9    82.9       81.3   \n",
       "0  2000     56.8      58.0   64.8   69.5  75.0  79.5  81.4    83.7       83.4   \n",
       "0  2001     56.5      58.4   68.0   66.7  83.1  86.1  81.2    85.3       81.0   \n",
       "0  2002     55.8      62.9   63.5   66.9  74.5  84.2  82.8    82.1       84.5   \n",
       "0  2003     58.9      61.8   66.4   61.5  74.2  81.1  87.0    83.5       85.0   \n",
       "\n",
       "   October  November  December  \\\n",
       "0     77.7      67.4      67.6   \n",
       "0     69.5      66.0      66.9   \n",
       "0     71.1      66.9      63.3   \n",
       "0     68.4      71.4      63.7   \n",
       "0     73.1      67.4      64.6   \n",
       "0     79.1      64.2      61.5   \n",
       "0     71.8      60.7      58.5   \n",
       "0     78.4      64.0      55.6   \n",
       "0     75.7      67.6      57.4   \n",
       "0     82.7      61.0      56.4   \n",
       "\n",
       "                                            location  \n",
       "0  C:\\Users\\34639\\earth-analytics\\data\\earthpy-do...  \n",
       "0  C:\\Users\\34639\\earth-analytics\\data\\earthpy-do...  \n",
       "0  C:\\Users\\34639\\earth-analytics\\data\\earthpy-do...  \n",
       "0  C:\\Users\\34639\\earth-analytics\\data\\earthpy-do...  \n",
       "0  C:\\Users\\34639\\earth-analytics\\data\\earthpy-do...  \n",
       "0  C:\\Users\\34639\\earth-analytics\\data\\earthpy-do...  \n",
       "0  C:\\Users\\34639\\earth-analytics\\data\\earthpy-do...  \n",
       "0  C:\\Users\\34639\\earth-analytics\\data\\earthpy-do...  \n",
       "0  C:\\Users\\34639\\earth-analytics\\data\\earthpy-do...  \n",
       "0  C:\\Users\\34639\\earth-analytics\\data\\earthpy-do...  "
      ]
     },
     "execution_count": 57,
     "metadata": {},
     "output_type": "execute_result"
    }
   ],
   "source": [
    "#without basename()\n",
    "# Read in filenames without modifying the pathnames\n",
    "\n",
    "all_df = []\n",
    "for a_dir in all_dirs:\n",
    "    dir_path = os.path.join(a_dir, \"*\")\n",
    "    all_file_paths = (glob(dir_path))\n",
    "    for a_file_path in all_file_paths:\n",
    "        temp_data_df = pd.read_csv(a_file_path)\n",
    "        # Reading the pathname from each directory into the dataframe.\n",
    "        # Notice how it reads in the entire pathname.\n",
    "        temp_data_df[\"location\"] = a_dir\n",
    "        all_df.append(temp_data_df)\n",
    "\n",
    "pd.concat(all_df)"
   ]
  },
  {
   "cell_type": "code",
   "execution_count": 58,
   "id": "72b0fd01",
   "metadata": {},
   "outputs": [
    {
     "data": {
      "text/html": [
       "<div>\n",
       "<style scoped>\n",
       "    .dataframe tbody tr th:only-of-type {\n",
       "        vertical-align: middle;\n",
       "    }\n",
       "\n",
       "    .dataframe tbody tr th {\n",
       "        vertical-align: top;\n",
       "    }\n",
       "\n",
       "    .dataframe thead th {\n",
       "        text-align: right;\n",
       "    }\n",
       "</style>\n",
       "<table border=\"1\" class=\"dataframe\">\n",
       "  <thead>\n",
       "    <tr style=\"text-align: right;\">\n",
       "      <th></th>\n",
       "      <th>Year</th>\n",
       "      <th>January</th>\n",
       "      <th>February</th>\n",
       "      <th>March</th>\n",
       "      <th>April</th>\n",
       "      <th>May</th>\n",
       "      <th>June</th>\n",
       "      <th>July</th>\n",
       "      <th>August</th>\n",
       "      <th>September</th>\n",
       "      <th>October</th>\n",
       "      <th>November</th>\n",
       "      <th>December</th>\n",
       "      <th>location</th>\n",
       "    </tr>\n",
       "  </thead>\n",
       "  <tbody>\n",
       "    <tr>\n",
       "      <th>0</th>\n",
       "      <td>1999</td>\n",
       "      <td>65.2</td>\n",
       "      <td>64.9</td>\n",
       "      <td>63.6</td>\n",
       "      <td>64.6</td>\n",
       "      <td>64.4</td>\n",
       "      <td>66.9</td>\n",
       "      <td>72.7</td>\n",
       "      <td>72.7</td>\n",
       "      <td>71.4</td>\n",
       "      <td>77.7</td>\n",
       "      <td>67.4</td>\n",
       "      <td>67.6</td>\n",
       "      <td>San-Diego</td>\n",
       "    </tr>\n",
       "    <tr>\n",
       "      <th>0</th>\n",
       "      <td>2000</td>\n",
       "      <td>65.8</td>\n",
       "      <td>65.3</td>\n",
       "      <td>63.7</td>\n",
       "      <td>67.7</td>\n",
       "      <td>69.1</td>\n",
       "      <td>72.4</td>\n",
       "      <td>73.5</td>\n",
       "      <td>76.3</td>\n",
       "      <td>75.5</td>\n",
       "      <td>69.5</td>\n",
       "      <td>66.0</td>\n",
       "      <td>66.9</td>\n",
       "      <td>San-Diego</td>\n",
       "    </tr>\n",
       "    <tr>\n",
       "      <th>0</th>\n",
       "      <td>2001</td>\n",
       "      <td>62.2</td>\n",
       "      <td>61.7</td>\n",
       "      <td>63.7</td>\n",
       "      <td>63.6</td>\n",
       "      <td>67.5</td>\n",
       "      <td>72.0</td>\n",
       "      <td>73.0</td>\n",
       "      <td>73.5</td>\n",
       "      <td>73.2</td>\n",
       "      <td>71.1</td>\n",
       "      <td>66.9</td>\n",
       "      <td>63.3</td>\n",
       "      <td>San-Diego</td>\n",
       "    </tr>\n",
       "    <tr>\n",
       "      <th>0</th>\n",
       "      <td>2002</td>\n",
       "      <td>63.0</td>\n",
       "      <td>66.2</td>\n",
       "      <td>63.6</td>\n",
       "      <td>63.7</td>\n",
       "      <td>66.1</td>\n",
       "      <td>68.7</td>\n",
       "      <td>71.8</td>\n",
       "      <td>73.4</td>\n",
       "      <td>75.5</td>\n",
       "      <td>68.4</td>\n",
       "      <td>71.4</td>\n",
       "      <td>63.7</td>\n",
       "      <td>San-Diego</td>\n",
       "    </tr>\n",
       "    <tr>\n",
       "      <th>0</th>\n",
       "      <td>2003</td>\n",
       "      <td>71.4</td>\n",
       "      <td>64.6</td>\n",
       "      <td>66.5</td>\n",
       "      <td>65.2</td>\n",
       "      <td>66.9</td>\n",
       "      <td>67.4</td>\n",
       "      <td>74.3</td>\n",
       "      <td>77.5</td>\n",
       "      <td>74.0</td>\n",
       "      <td>73.1</td>\n",
       "      <td>67.4</td>\n",
       "      <td>64.6</td>\n",
       "      <td>San-Diego</td>\n",
       "    </tr>\n",
       "    <tr>\n",
       "      <th>0</th>\n",
       "      <td>1999</td>\n",
       "      <td>56.1</td>\n",
       "      <td>56.6</td>\n",
       "      <td>58.7</td>\n",
       "      <td>68.3</td>\n",
       "      <td>72.7</td>\n",
       "      <td>80.6</td>\n",
       "      <td>80.9</td>\n",
       "      <td>82.9</td>\n",
       "      <td>81.3</td>\n",
       "      <td>79.1</td>\n",
       "      <td>64.2</td>\n",
       "      <td>61.5</td>\n",
       "      <td>Sonoma</td>\n",
       "    </tr>\n",
       "    <tr>\n",
       "      <th>0</th>\n",
       "      <td>2000</td>\n",
       "      <td>56.8</td>\n",
       "      <td>58.0</td>\n",
       "      <td>64.8</td>\n",
       "      <td>69.5</td>\n",
       "      <td>75.0</td>\n",
       "      <td>79.5</td>\n",
       "      <td>81.4</td>\n",
       "      <td>83.7</td>\n",
       "      <td>83.4</td>\n",
       "      <td>71.8</td>\n",
       "      <td>60.7</td>\n",
       "      <td>58.5</td>\n",
       "      <td>Sonoma</td>\n",
       "    </tr>\n",
       "    <tr>\n",
       "      <th>0</th>\n",
       "      <td>2001</td>\n",
       "      <td>56.5</td>\n",
       "      <td>58.4</td>\n",
       "      <td>68.0</td>\n",
       "      <td>66.7</td>\n",
       "      <td>83.1</td>\n",
       "      <td>86.1</td>\n",
       "      <td>81.2</td>\n",
       "      <td>85.3</td>\n",
       "      <td>81.0</td>\n",
       "      <td>78.4</td>\n",
       "      <td>64.0</td>\n",
       "      <td>55.6</td>\n",
       "      <td>Sonoma</td>\n",
       "    </tr>\n",
       "    <tr>\n",
       "      <th>0</th>\n",
       "      <td>2002</td>\n",
       "      <td>55.8</td>\n",
       "      <td>62.9</td>\n",
       "      <td>63.5</td>\n",
       "      <td>66.9</td>\n",
       "      <td>74.5</td>\n",
       "      <td>84.2</td>\n",
       "      <td>82.8</td>\n",
       "      <td>82.1</td>\n",
       "      <td>84.5</td>\n",
       "      <td>75.7</td>\n",
       "      <td>67.6</td>\n",
       "      <td>57.4</td>\n",
       "      <td>Sonoma</td>\n",
       "    </tr>\n",
       "    <tr>\n",
       "      <th>0</th>\n",
       "      <td>2003</td>\n",
       "      <td>58.9</td>\n",
       "      <td>61.8</td>\n",
       "      <td>66.4</td>\n",
       "      <td>61.5</td>\n",
       "      <td>74.2</td>\n",
       "      <td>81.1</td>\n",
       "      <td>87.0</td>\n",
       "      <td>83.5</td>\n",
       "      <td>85.0</td>\n",
       "      <td>82.7</td>\n",
       "      <td>61.0</td>\n",
       "      <td>56.4</td>\n",
       "      <td>Sonoma</td>\n",
       "    </tr>\n",
       "  </tbody>\n",
       "</table>\n",
       "</div>"
      ],
      "text/plain": [
       "   Year  January  February  March  April   May  June  July  August  September  \\\n",
       "0  1999     65.2      64.9   63.6   64.6  64.4  66.9  72.7    72.7       71.4   \n",
       "0  2000     65.8      65.3   63.7   67.7  69.1  72.4  73.5    76.3       75.5   \n",
       "0  2001     62.2      61.7   63.7   63.6  67.5  72.0  73.0    73.5       73.2   \n",
       "0  2002     63.0      66.2   63.6   63.7  66.1  68.7  71.8    73.4       75.5   \n",
       "0  2003     71.4      64.6   66.5   65.2  66.9  67.4  74.3    77.5       74.0   \n",
       "0  1999     56.1      56.6   58.7   68.3  72.7  80.6  80.9    82.9       81.3   \n",
       "0  2000     56.8      58.0   64.8   69.5  75.0  79.5  81.4    83.7       83.4   \n",
       "0  2001     56.5      58.4   68.0   66.7  83.1  86.1  81.2    85.3       81.0   \n",
       "0  2002     55.8      62.9   63.5   66.9  74.5  84.2  82.8    82.1       84.5   \n",
       "0  2003     58.9      61.8   66.4   61.5  74.2  81.1  87.0    83.5       85.0   \n",
       "\n",
       "   October  November  December   location  \n",
       "0     77.7      67.4      67.6  San-Diego  \n",
       "0     69.5      66.0      66.9  San-Diego  \n",
       "0     71.1      66.9      63.3  San-Diego  \n",
       "0     68.4      71.4      63.7  San-Diego  \n",
       "0     73.1      67.4      64.6  San-Diego  \n",
       "0     79.1      64.2      61.5     Sonoma  \n",
       "0     71.8      60.7      58.5     Sonoma  \n",
       "0     78.4      64.0      55.6     Sonoma  \n",
       "0     75.7      67.6      57.4     Sonoma  \n",
       "0     82.7      61.0      56.4     Sonoma  "
      ]
     },
     "execution_count": 58,
     "metadata": {},
     "output_type": "execute_result"
    }
   ],
   "source": [
    "#with basename\n",
    "# Read in filenames using os to modify the pathnames\n",
    "\n",
    "all_df = []\n",
    "for a_dir in all_dirs:\n",
    "    dir_path = os.path.join(a_dir, \"*\")\n",
    "    all_file_paths = (glob(dir_path))\n",
    "    for a_file_path in all_file_paths:\n",
    "        temp_data_df = pd.read_csv(a_file_path)\n",
    "        # Read the pathname from each directory into the dataframe. \n",
    "        # Notice how it reads just the last folder name into the column now.\n",
    "        temp_data_df[\"location\"] = os.path.basename(a_dir)              #basename\n",
    "        all_df.append(temp_data_df)\n",
    "\n",
    "all_data = pd.concat(all_df)\n",
    "all_data"
   ]
  },
  {
   "cell_type": "markdown",
   "id": "03bd7d94",
   "metadata": {},
   "source": [
    "#### Plot Your Temperature Data  groupby\n",
    "With the new column that specifies where the data was collected, you can use the pandas groupby function to plot a chart for each location! "
   ]
  },
  {
   "cell_type": "code",
   "execution_count": 67,
   "id": "806c00f0",
   "metadata": {},
   "outputs": [
    {
     "data": {
      "text/html": [
       "<div>\n",
       "<style scoped>\n",
       "    .dataframe tbody tr th:only-of-type {\n",
       "        vertical-align: middle;\n",
       "    }\n",
       "\n",
       "    .dataframe tbody tr th {\n",
       "        vertical-align: top;\n",
       "    }\n",
       "\n",
       "    .dataframe thead th {\n",
       "        text-align: right;\n",
       "    }\n",
       "</style>\n",
       "<table border=\"1\" class=\"dataframe\">\n",
       "  <thead>\n",
       "    <tr style=\"text-align: right;\">\n",
       "      <th></th>\n",
       "      <th>Year</th>\n",
       "      <th>January</th>\n",
       "      <th>February</th>\n",
       "      <th>March</th>\n",
       "      <th>April</th>\n",
       "      <th>May</th>\n",
       "      <th>June</th>\n",
       "      <th>July</th>\n",
       "      <th>August</th>\n",
       "      <th>September</th>\n",
       "      <th>October</th>\n",
       "      <th>November</th>\n",
       "      <th>December</th>\n",
       "      <th>location</th>\n",
       "      <th>annual_average_temp</th>\n",
       "      <th>annual_max_temp</th>\n",
       "    </tr>\n",
       "  </thead>\n",
       "  <tbody>\n",
       "    <tr>\n",
       "      <th>0</th>\n",
       "      <td>1999</td>\n",
       "      <td>65.2</td>\n",
       "      <td>64.9</td>\n",
       "      <td>63.6</td>\n",
       "      <td>64.6</td>\n",
       "      <td>64.4</td>\n",
       "      <td>66.9</td>\n",
       "      <td>72.7</td>\n",
       "      <td>72.7</td>\n",
       "      <td>71.4</td>\n",
       "      <td>77.7</td>\n",
       "      <td>67.4</td>\n",
       "      <td>67.6</td>\n",
       "      <td>San-Diego</td>\n",
       "      <td>68.258333</td>\n",
       "      <td>77.7</td>\n",
       "    </tr>\n",
       "    <tr>\n",
       "      <th>0</th>\n",
       "      <td>1999</td>\n",
       "      <td>56.1</td>\n",
       "      <td>56.6</td>\n",
       "      <td>58.7</td>\n",
       "      <td>68.3</td>\n",
       "      <td>72.7</td>\n",
       "      <td>80.6</td>\n",
       "      <td>80.9</td>\n",
       "      <td>82.9</td>\n",
       "      <td>81.3</td>\n",
       "      <td>79.1</td>\n",
       "      <td>64.2</td>\n",
       "      <td>61.5</td>\n",
       "      <td>Sonoma</td>\n",
       "      <td>70.241667</td>\n",
       "      <td>76.3</td>\n",
       "    </tr>\n",
       "    <tr>\n",
       "      <th>0</th>\n",
       "      <td>2000</td>\n",
       "      <td>65.8</td>\n",
       "      <td>65.3</td>\n",
       "      <td>63.7</td>\n",
       "      <td>67.7</td>\n",
       "      <td>69.1</td>\n",
       "      <td>72.4</td>\n",
       "      <td>73.5</td>\n",
       "      <td>76.3</td>\n",
       "      <td>75.5</td>\n",
       "      <td>69.5</td>\n",
       "      <td>66.0</td>\n",
       "      <td>66.9</td>\n",
       "      <td>San-Diego</td>\n",
       "      <td>69.308333</td>\n",
       "      <td>73.5</td>\n",
       "    </tr>\n",
       "    <tr>\n",
       "      <th>0</th>\n",
       "      <td>2000</td>\n",
       "      <td>56.8</td>\n",
       "      <td>58.0</td>\n",
       "      <td>64.8</td>\n",
       "      <td>69.5</td>\n",
       "      <td>75.0</td>\n",
       "      <td>79.5</td>\n",
       "      <td>81.4</td>\n",
       "      <td>83.7</td>\n",
       "      <td>83.4</td>\n",
       "      <td>71.8</td>\n",
       "      <td>60.7</td>\n",
       "      <td>58.5</td>\n",
       "      <td>Sonoma</td>\n",
       "      <td>70.258333</td>\n",
       "      <td>75.5</td>\n",
       "    </tr>\n",
       "    <tr>\n",
       "      <th>0</th>\n",
       "      <td>2001</td>\n",
       "      <td>62.2</td>\n",
       "      <td>61.7</td>\n",
       "      <td>63.7</td>\n",
       "      <td>63.6</td>\n",
       "      <td>67.5</td>\n",
       "      <td>72.0</td>\n",
       "      <td>73.0</td>\n",
       "      <td>73.5</td>\n",
       "      <td>73.2</td>\n",
       "      <td>71.1</td>\n",
       "      <td>66.9</td>\n",
       "      <td>63.3</td>\n",
       "      <td>San-Diego</td>\n",
       "      <td>67.641667</td>\n",
       "      <td>77.5</td>\n",
       "    </tr>\n",
       "    <tr>\n",
       "      <th>0</th>\n",
       "      <td>2001</td>\n",
       "      <td>56.5</td>\n",
       "      <td>58.4</td>\n",
       "      <td>68.0</td>\n",
       "      <td>66.7</td>\n",
       "      <td>83.1</td>\n",
       "      <td>86.1</td>\n",
       "      <td>81.2</td>\n",
       "      <td>85.3</td>\n",
       "      <td>81.0</td>\n",
       "      <td>78.4</td>\n",
       "      <td>64.0</td>\n",
       "      <td>55.6</td>\n",
       "      <td>Sonoma</td>\n",
       "      <td>72.025000</td>\n",
       "      <td>82.9</td>\n",
       "    </tr>\n",
       "    <tr>\n",
       "      <th>0</th>\n",
       "      <td>2002</td>\n",
       "      <td>63.0</td>\n",
       "      <td>66.2</td>\n",
       "      <td>63.6</td>\n",
       "      <td>63.7</td>\n",
       "      <td>66.1</td>\n",
       "      <td>68.7</td>\n",
       "      <td>71.8</td>\n",
       "      <td>73.4</td>\n",
       "      <td>75.5</td>\n",
       "      <td>68.4</td>\n",
       "      <td>71.4</td>\n",
       "      <td>63.7</td>\n",
       "      <td>San-Diego</td>\n",
       "      <td>67.958333</td>\n",
       "      <td>83.7</td>\n",
       "    </tr>\n",
       "    <tr>\n",
       "      <th>0</th>\n",
       "      <td>2002</td>\n",
       "      <td>55.8</td>\n",
       "      <td>62.9</td>\n",
       "      <td>63.5</td>\n",
       "      <td>66.9</td>\n",
       "      <td>74.5</td>\n",
       "      <td>84.2</td>\n",
       "      <td>82.8</td>\n",
       "      <td>82.1</td>\n",
       "      <td>84.5</td>\n",
       "      <td>75.7</td>\n",
       "      <td>67.6</td>\n",
       "      <td>57.4</td>\n",
       "      <td>Sonoma</td>\n",
       "      <td>71.491667</td>\n",
       "      <td>86.1</td>\n",
       "    </tr>\n",
       "    <tr>\n",
       "      <th>0</th>\n",
       "      <td>2003</td>\n",
       "      <td>71.4</td>\n",
       "      <td>64.6</td>\n",
       "      <td>66.5</td>\n",
       "      <td>65.2</td>\n",
       "      <td>66.9</td>\n",
       "      <td>67.4</td>\n",
       "      <td>74.3</td>\n",
       "      <td>77.5</td>\n",
       "      <td>74.0</td>\n",
       "      <td>73.1</td>\n",
       "      <td>67.4</td>\n",
       "      <td>64.6</td>\n",
       "      <td>San-Diego</td>\n",
       "      <td>69.408333</td>\n",
       "      <td>84.5</td>\n",
       "    </tr>\n",
       "    <tr>\n",
       "      <th>0</th>\n",
       "      <td>2003</td>\n",
       "      <td>58.9</td>\n",
       "      <td>61.8</td>\n",
       "      <td>66.4</td>\n",
       "      <td>61.5</td>\n",
       "      <td>74.2</td>\n",
       "      <td>81.1</td>\n",
       "      <td>87.0</td>\n",
       "      <td>83.5</td>\n",
       "      <td>85.0</td>\n",
       "      <td>82.7</td>\n",
       "      <td>61.0</td>\n",
       "      <td>56.4</td>\n",
       "      <td>Sonoma</td>\n",
       "      <td>71.625000</td>\n",
       "      <td>87.0</td>\n",
       "    </tr>\n",
       "  </tbody>\n",
       "</table>\n",
       "</div>"
      ],
      "text/plain": [
       "   Year  January  February  March  April   May  June  July  August  September  \\\n",
       "0  1999     65.2      64.9   63.6   64.6  64.4  66.9  72.7    72.7       71.4   \n",
       "0  1999     56.1      56.6   58.7   68.3  72.7  80.6  80.9    82.9       81.3   \n",
       "0  2000     65.8      65.3   63.7   67.7  69.1  72.4  73.5    76.3       75.5   \n",
       "0  2000     56.8      58.0   64.8   69.5  75.0  79.5  81.4    83.7       83.4   \n",
       "0  2001     62.2      61.7   63.7   63.6  67.5  72.0  73.0    73.5       73.2   \n",
       "0  2001     56.5      58.4   68.0   66.7  83.1  86.1  81.2    85.3       81.0   \n",
       "0  2002     63.0      66.2   63.6   63.7  66.1  68.7  71.8    73.4       75.5   \n",
       "0  2002     55.8      62.9   63.5   66.9  74.5  84.2  82.8    82.1       84.5   \n",
       "0  2003     71.4      64.6   66.5   65.2  66.9  67.4  74.3    77.5       74.0   \n",
       "0  2003     58.9      61.8   66.4   61.5  74.2  81.1  87.0    83.5       85.0   \n",
       "\n",
       "   October  November  December   location  annual_average_temp  \\\n",
       "0     77.7      67.4      67.6  San-Diego            68.258333   \n",
       "0     79.1      64.2      61.5     Sonoma            70.241667   \n",
       "0     69.5      66.0      66.9  San-Diego            69.308333   \n",
       "0     71.8      60.7      58.5     Sonoma            70.258333   \n",
       "0     71.1      66.9      63.3  San-Diego            67.641667   \n",
       "0     78.4      64.0      55.6     Sonoma            72.025000   \n",
       "0     68.4      71.4      63.7  San-Diego            67.958333   \n",
       "0     75.7      67.6      57.4     Sonoma            71.491667   \n",
       "0     73.1      67.4      64.6  San-Diego            69.408333   \n",
       "0     82.7      61.0      56.4     Sonoma            71.625000   \n",
       "\n",
       "   annual_max_temp  \n",
       "0             77.7  \n",
       "0             76.3  \n",
       "0             73.5  \n",
       "0             75.5  \n",
       "0             77.5  \n",
       "0             82.9  \n",
       "0             83.7  \n",
       "0             86.1  \n",
       "0             84.5  \n",
       "0             87.0  "
      ]
     },
     "execution_count": 67,
     "metadata": {},
     "output_type": "execute_result"
    }
   ],
   "source": [
    "# Creating a dataframe that is just the columns for temperature from each month.\n",
    "just_monthly_data_df = all_data.loc[:, \"January\":\"December\"]\n",
    "\n",
    "# Get the average of each row in that dataframe and assigning the output to a new column in the original dataframe\n",
    "all_data['annual_average_temp'] = just_monthly_data_df.mean(axis=1)\n",
    "all_data"
   ]
  },
  {
   "cell_type": "code",
   "execution_count": 63,
   "id": "1bdd7371",
   "metadata": {},
   "outputs": [
    {
     "data": {
      "text/html": [
       "<div>\n",
       "<style scoped>\n",
       "    .dataframe tbody tr th:only-of-type {\n",
       "        vertical-align: middle;\n",
       "    }\n",
       "\n",
       "    .dataframe tbody tr th {\n",
       "        vertical-align: top;\n",
       "    }\n",
       "\n",
       "    .dataframe thead th {\n",
       "        text-align: right;\n",
       "    }\n",
       "</style>\n",
       "<table border=\"1\" class=\"dataframe\">\n",
       "  <thead>\n",
       "    <tr style=\"text-align: right;\">\n",
       "      <th></th>\n",
       "      <th>Year</th>\n",
       "      <th>January</th>\n",
       "      <th>February</th>\n",
       "      <th>March</th>\n",
       "      <th>April</th>\n",
       "      <th>May</th>\n",
       "      <th>June</th>\n",
       "      <th>July</th>\n",
       "      <th>August</th>\n",
       "      <th>September</th>\n",
       "      <th>October</th>\n",
       "      <th>November</th>\n",
       "      <th>December</th>\n",
       "      <th>location</th>\n",
       "      <th>annual_average_temp</th>\n",
       "    </tr>\n",
       "  </thead>\n",
       "  <tbody>\n",
       "    <tr>\n",
       "      <th>0</th>\n",
       "      <td>1999</td>\n",
       "      <td>65.2</td>\n",
       "      <td>64.9</td>\n",
       "      <td>63.6</td>\n",
       "      <td>64.6</td>\n",
       "      <td>64.4</td>\n",
       "      <td>66.9</td>\n",
       "      <td>72.7</td>\n",
       "      <td>72.7</td>\n",
       "      <td>71.4</td>\n",
       "      <td>77.7</td>\n",
       "      <td>67.4</td>\n",
       "      <td>67.6</td>\n",
       "      <td>San-Diego</td>\n",
       "      <td>68.258333</td>\n",
       "    </tr>\n",
       "    <tr>\n",
       "      <th>0</th>\n",
       "      <td>1999</td>\n",
       "      <td>56.1</td>\n",
       "      <td>56.6</td>\n",
       "      <td>58.7</td>\n",
       "      <td>68.3</td>\n",
       "      <td>72.7</td>\n",
       "      <td>80.6</td>\n",
       "      <td>80.9</td>\n",
       "      <td>82.9</td>\n",
       "      <td>81.3</td>\n",
       "      <td>79.1</td>\n",
       "      <td>64.2</td>\n",
       "      <td>61.5</td>\n",
       "      <td>Sonoma</td>\n",
       "      <td>70.241667</td>\n",
       "    </tr>\n",
       "    <tr>\n",
       "      <th>0</th>\n",
       "      <td>2000</td>\n",
       "      <td>65.8</td>\n",
       "      <td>65.3</td>\n",
       "      <td>63.7</td>\n",
       "      <td>67.7</td>\n",
       "      <td>69.1</td>\n",
       "      <td>72.4</td>\n",
       "      <td>73.5</td>\n",
       "      <td>76.3</td>\n",
       "      <td>75.5</td>\n",
       "      <td>69.5</td>\n",
       "      <td>66.0</td>\n",
       "      <td>66.9</td>\n",
       "      <td>San-Diego</td>\n",
       "      <td>69.308333</td>\n",
       "    </tr>\n",
       "    <tr>\n",
       "      <th>0</th>\n",
       "      <td>2000</td>\n",
       "      <td>56.8</td>\n",
       "      <td>58.0</td>\n",
       "      <td>64.8</td>\n",
       "      <td>69.5</td>\n",
       "      <td>75.0</td>\n",
       "      <td>79.5</td>\n",
       "      <td>81.4</td>\n",
       "      <td>83.7</td>\n",
       "      <td>83.4</td>\n",
       "      <td>71.8</td>\n",
       "      <td>60.7</td>\n",
       "      <td>58.5</td>\n",
       "      <td>Sonoma</td>\n",
       "      <td>70.258333</td>\n",
       "    </tr>\n",
       "    <tr>\n",
       "      <th>0</th>\n",
       "      <td>2001</td>\n",
       "      <td>62.2</td>\n",
       "      <td>61.7</td>\n",
       "      <td>63.7</td>\n",
       "      <td>63.6</td>\n",
       "      <td>67.5</td>\n",
       "      <td>72.0</td>\n",
       "      <td>73.0</td>\n",
       "      <td>73.5</td>\n",
       "      <td>73.2</td>\n",
       "      <td>71.1</td>\n",
       "      <td>66.9</td>\n",
       "      <td>63.3</td>\n",
       "      <td>San-Diego</td>\n",
       "      <td>67.641667</td>\n",
       "    </tr>\n",
       "  </tbody>\n",
       "</table>\n",
       "</div>"
      ],
      "text/plain": [
       "   Year  January  February  March  April   May  June  July  August  September  \\\n",
       "0  1999     65.2      64.9   63.6   64.6  64.4  66.9  72.7    72.7       71.4   \n",
       "0  1999     56.1      56.6   58.7   68.3  72.7  80.6  80.9    82.9       81.3   \n",
       "0  2000     65.8      65.3   63.7   67.7  69.1  72.4  73.5    76.3       75.5   \n",
       "0  2000     56.8      58.0   64.8   69.5  75.0  79.5  81.4    83.7       83.4   \n",
       "0  2001     62.2      61.7   63.7   63.6  67.5  72.0  73.0    73.5       73.2   \n",
       "\n",
       "   October  November  December   location  annual_average_temp  \n",
       "0     77.7      67.4      67.6  San-Diego            68.258333  \n",
       "0     79.1      64.2      61.5     Sonoma            70.241667  \n",
       "0     69.5      66.0      66.9  San-Diego            69.308333  \n",
       "0     71.8      60.7      58.5     Sonoma            70.258333  \n",
       "0     71.1      66.9      63.3  San-Diego            67.641667  "
      ]
     },
     "execution_count": 63,
     "metadata": {},
     "output_type": "execute_result"
    }
   ],
   "source": [
    "# Sort the data by year for nicer plotting\n",
    "all_data.sort_values(\"Year\", inplace=True) #inplace sobreescriu\n",
    "all_data.head()"
   ]
  },
  {
   "cell_type": "code",
   "execution_count": 64,
   "id": "b6e96e0b",
   "metadata": {},
   "outputs": [
    {
     "data": {
      "image/png": "[encoded data removed]",
      "text/plain": [
       "<Figure size 432x288 with 1 Axes>"
      ]
     },
     "metadata": {
      "needs_background": "light"
     },
     "output_type": "display_data"
    }
   ],
   "source": [
    "f, ax = plt.subplots()\n",
    "\n",
    "for title, group in all_data.groupby('location'):\n",
    "    group.groupby('location').plot(x='Year', \n",
    "                                   y='annual_average_temp',\n",
    "                                   title=\"Annual Average Temperature ºF\",\n",
    "                                   label=title,\n",
    "                                   style='.--',\n",
    "                                   ax=ax, \n",
    "                                   alpha=.8)\n",
    "\n",
    "    \n",
    "ax.set(xlabel=\"Year\", ylabel=\"Temperature (F)\", xticks=[1999, 2000, 2001, 2002, 2003])\n",
    "\n",
    "plt.show()"
   ]
  },
  {
   "cell_type": "markdown",
   "id": "4b6a6900",
   "metadata": {},
   "source": [
    "## Challenge 1: Plot Temperature by Maximum Value\n",
    "Above, you summarized the year by the average temperature for each year, plotted the two locations to compare their average annual temperatures. In this challenge, plot the maximum annual temperature for each location annually. Your graph should look similar to the one above, but it should display the maximum annual temperature instead of the average. You can use a similar method to getting the average to get the maximum temperature. Using max instead of mean of the just_monthly_data_df should return a series of data that’s the maximum values, which you can then assign to a column in the main dataframe and plot like above."
   ]
  },
  {
   "cell_type": "code",
   "execution_count": 68,
   "id": "63f9b703",
   "metadata": {},
   "outputs": [
    {
     "data": {
      "text/html": [
       "<div>\n",
       "<style scoped>\n",
       "    .dataframe tbody tr th:only-of-type {\n",
       "        vertical-align: middle;\n",
       "    }\n",
       "\n",
       "    .dataframe tbody tr th {\n",
       "        vertical-align: top;\n",
       "    }\n",
       "\n",
       "    .dataframe thead th {\n",
       "        text-align: right;\n",
       "    }\n",
       "</style>\n",
       "<table border=\"1\" class=\"dataframe\">\n",
       "  <thead>\n",
       "    <tr style=\"text-align: right;\">\n",
       "      <th></th>\n",
       "      <th>Year</th>\n",
       "      <th>January</th>\n",
       "      <th>February</th>\n",
       "      <th>March</th>\n",
       "      <th>April</th>\n",
       "      <th>May</th>\n",
       "      <th>June</th>\n",
       "      <th>July</th>\n",
       "      <th>August</th>\n",
       "      <th>September</th>\n",
       "      <th>October</th>\n",
       "      <th>November</th>\n",
       "      <th>December</th>\n",
       "      <th>location</th>\n",
       "      <th>annual_average_temp</th>\n",
       "      <th>annual_max_temp</th>\n",
       "    </tr>\n",
       "  </thead>\n",
       "  <tbody>\n",
       "    <tr>\n",
       "      <th>0</th>\n",
       "      <td>1999</td>\n",
       "      <td>65.2</td>\n",
       "      <td>64.9</td>\n",
       "      <td>63.6</td>\n",
       "      <td>64.6</td>\n",
       "      <td>64.4</td>\n",
       "      <td>66.9</td>\n",
       "      <td>72.7</td>\n",
       "      <td>72.7</td>\n",
       "      <td>71.4</td>\n",
       "      <td>77.7</td>\n",
       "      <td>67.4</td>\n",
       "      <td>67.6</td>\n",
       "      <td>San-Diego</td>\n",
       "      <td>68.258333</td>\n",
       "      <td>77.7</td>\n",
       "    </tr>\n",
       "    <tr>\n",
       "      <th>0</th>\n",
       "      <td>1999</td>\n",
       "      <td>56.1</td>\n",
       "      <td>56.6</td>\n",
       "      <td>58.7</td>\n",
       "      <td>68.3</td>\n",
       "      <td>72.7</td>\n",
       "      <td>80.6</td>\n",
       "      <td>80.9</td>\n",
       "      <td>82.9</td>\n",
       "      <td>81.3</td>\n",
       "      <td>79.1</td>\n",
       "      <td>64.2</td>\n",
       "      <td>61.5</td>\n",
       "      <td>Sonoma</td>\n",
       "      <td>70.241667</td>\n",
       "      <td>82.9</td>\n",
       "    </tr>\n",
       "    <tr>\n",
       "      <th>0</th>\n",
       "      <td>2000</td>\n",
       "      <td>65.8</td>\n",
       "      <td>65.3</td>\n",
       "      <td>63.7</td>\n",
       "      <td>67.7</td>\n",
       "      <td>69.1</td>\n",
       "      <td>72.4</td>\n",
       "      <td>73.5</td>\n",
       "      <td>76.3</td>\n",
       "      <td>75.5</td>\n",
       "      <td>69.5</td>\n",
       "      <td>66.0</td>\n",
       "      <td>66.9</td>\n",
       "      <td>San-Diego</td>\n",
       "      <td>69.308333</td>\n",
       "      <td>76.3</td>\n",
       "    </tr>\n",
       "    <tr>\n",
       "      <th>0</th>\n",
       "      <td>2000</td>\n",
       "      <td>56.8</td>\n",
       "      <td>58.0</td>\n",
       "      <td>64.8</td>\n",
       "      <td>69.5</td>\n",
       "      <td>75.0</td>\n",
       "      <td>79.5</td>\n",
       "      <td>81.4</td>\n",
       "      <td>83.7</td>\n",
       "      <td>83.4</td>\n",
       "      <td>71.8</td>\n",
       "      <td>60.7</td>\n",
       "      <td>58.5</td>\n",
       "      <td>Sonoma</td>\n",
       "      <td>70.258333</td>\n",
       "      <td>83.7</td>\n",
       "    </tr>\n",
       "    <tr>\n",
       "      <th>0</th>\n",
       "      <td>2001</td>\n",
       "      <td>62.2</td>\n",
       "      <td>61.7</td>\n",
       "      <td>63.7</td>\n",
       "      <td>63.6</td>\n",
       "      <td>67.5</td>\n",
       "      <td>72.0</td>\n",
       "      <td>73.0</td>\n",
       "      <td>73.5</td>\n",
       "      <td>73.2</td>\n",
       "      <td>71.1</td>\n",
       "      <td>66.9</td>\n",
       "      <td>63.3</td>\n",
       "      <td>San-Diego</td>\n",
       "      <td>67.641667</td>\n",
       "      <td>73.5</td>\n",
       "    </tr>\n",
       "    <tr>\n",
       "      <th>0</th>\n",
       "      <td>2001</td>\n",
       "      <td>56.5</td>\n",
       "      <td>58.4</td>\n",
       "      <td>68.0</td>\n",
       "      <td>66.7</td>\n",
       "      <td>83.1</td>\n",
       "      <td>86.1</td>\n",
       "      <td>81.2</td>\n",
       "      <td>85.3</td>\n",
       "      <td>81.0</td>\n",
       "      <td>78.4</td>\n",
       "      <td>64.0</td>\n",
       "      <td>55.6</td>\n",
       "      <td>Sonoma</td>\n",
       "      <td>72.025000</td>\n",
       "      <td>86.1</td>\n",
       "    </tr>\n",
       "    <tr>\n",
       "      <th>0</th>\n",
       "      <td>2002</td>\n",
       "      <td>63.0</td>\n",
       "      <td>66.2</td>\n",
       "      <td>63.6</td>\n",
       "      <td>63.7</td>\n",
       "      <td>66.1</td>\n",
       "      <td>68.7</td>\n",
       "      <td>71.8</td>\n",
       "      <td>73.4</td>\n",
       "      <td>75.5</td>\n",
       "      <td>68.4</td>\n",
       "      <td>71.4</td>\n",
       "      <td>63.7</td>\n",
       "      <td>San-Diego</td>\n",
       "      <td>67.958333</td>\n",
       "      <td>75.5</td>\n",
       "    </tr>\n",
       "    <tr>\n",
       "      <th>0</th>\n",
       "      <td>2002</td>\n",
       "      <td>55.8</td>\n",
       "      <td>62.9</td>\n",
       "      <td>63.5</td>\n",
       "      <td>66.9</td>\n",
       "      <td>74.5</td>\n",
       "      <td>84.2</td>\n",
       "      <td>82.8</td>\n",
       "      <td>82.1</td>\n",
       "      <td>84.5</td>\n",
       "      <td>75.7</td>\n",
       "      <td>67.6</td>\n",
       "      <td>57.4</td>\n",
       "      <td>Sonoma</td>\n",
       "      <td>71.491667</td>\n",
       "      <td>84.5</td>\n",
       "    </tr>\n",
       "    <tr>\n",
       "      <th>0</th>\n",
       "      <td>2003</td>\n",
       "      <td>71.4</td>\n",
       "      <td>64.6</td>\n",
       "      <td>66.5</td>\n",
       "      <td>65.2</td>\n",
       "      <td>66.9</td>\n",
       "      <td>67.4</td>\n",
       "      <td>74.3</td>\n",
       "      <td>77.5</td>\n",
       "      <td>74.0</td>\n",
       "      <td>73.1</td>\n",
       "      <td>67.4</td>\n",
       "      <td>64.6</td>\n",
       "      <td>San-Diego</td>\n",
       "      <td>69.408333</td>\n",
       "      <td>77.5</td>\n",
       "    </tr>\n",
       "    <tr>\n",
       "      <th>0</th>\n",
       "      <td>2003</td>\n",
       "      <td>58.9</td>\n",
       "      <td>61.8</td>\n",
       "      <td>66.4</td>\n",
       "      <td>61.5</td>\n",
       "      <td>74.2</td>\n",
       "      <td>81.1</td>\n",
       "      <td>87.0</td>\n",
       "      <td>83.5</td>\n",
       "      <td>85.0</td>\n",
       "      <td>82.7</td>\n",
       "      <td>61.0</td>\n",
       "      <td>56.4</td>\n",
       "      <td>Sonoma</td>\n",
       "      <td>71.625000</td>\n",
       "      <td>87.0</td>\n",
       "    </tr>\n",
       "  </tbody>\n",
       "</table>\n",
       "</div>"
      ],
      "text/plain": [
       "   Year  January  February  March  April   May  June  July  August  September  \\\n",
       "0  1999     65.2      64.9   63.6   64.6  64.4  66.9  72.7    72.7       71.4   \n",
       "0  1999     56.1      56.6   58.7   68.3  72.7  80.6  80.9    82.9       81.3   \n",
       "0  2000     65.8      65.3   63.7   67.7  69.1  72.4  73.5    76.3       75.5   \n",
       "0  2000     56.8      58.0   64.8   69.5  75.0  79.5  81.4    83.7       83.4   \n",
       "0  2001     62.2      61.7   63.7   63.6  67.5  72.0  73.0    73.5       73.2   \n",
       "0  2001     56.5      58.4   68.0   66.7  83.1  86.1  81.2    85.3       81.0   \n",
       "0  2002     63.0      66.2   63.6   63.7  66.1  68.7  71.8    73.4       75.5   \n",
       "0  2002     55.8      62.9   63.5   66.9  74.5  84.2  82.8    82.1       84.5   \n",
       "0  2003     71.4      64.6   66.5   65.2  66.9  67.4  74.3    77.5       74.0   \n",
       "0  2003     58.9      61.8   66.4   61.5  74.2  81.1  87.0    83.5       85.0   \n",
       "\n",
       "   October  November  December   location  annual_average_temp  \\\n",
       "0     77.7      67.4      67.6  San-Diego            68.258333   \n",
       "0     79.1      64.2      61.5     Sonoma            70.241667   \n",
       "0     69.5      66.0      66.9  San-Diego            69.308333   \n",
       "0     71.8      60.7      58.5     Sonoma            70.258333   \n",
       "0     71.1      66.9      63.3  San-Diego            67.641667   \n",
       "0     78.4      64.0      55.6     Sonoma            72.025000   \n",
       "0     68.4      71.4      63.7  San-Diego            67.958333   \n",
       "0     75.7      67.6      57.4     Sonoma            71.491667   \n",
       "0     73.1      67.4      64.6  San-Diego            69.408333   \n",
       "0     82.7      61.0      56.4     Sonoma            71.625000   \n",
       "\n",
       "   annual_max_temp  \n",
       "0             77.7  \n",
       "0             82.9  \n",
       "0             76.3  \n",
       "0             83.7  \n",
       "0             73.5  \n",
       "0             86.1  \n",
       "0             75.5  \n",
       "0             84.5  \n",
       "0             77.5  \n",
       "0             87.0  "
      ]
     },
     "execution_count": 68,
     "metadata": {},
     "output_type": "execute_result"
    }
   ],
   "source": [
    "# Get the average of each row in that dataframe and assigning the output to a new column in the original dataframe\n",
    "all_data['annual_max_temp'] = just_monthly_data_df.max(axis=1)\n",
    "all_data"
   ]
  },
  {
   "cell_type": "code",
   "execution_count": 70,
   "id": "7dd1b79b",
   "metadata": {
    "scrolled": true
   },
   "outputs": [
    {
     "data": {
      "image/png": "[encoded data removed]",
      "text/plain": [
       "<Figure size 432x288 with 1 Axes>"
      ]
     },
     "metadata": {
      "needs_background": "light"
     },
     "output_type": "display_data"
    }
   ],
   "source": [
    "f, ax = plt.subplots()\n",
    "\n",
    "for title, group in all_data.groupby('location'):\n",
    "    group.groupby('location').plot(x='Year', \n",
    "                                   y='annual_max_temp',\n",
    "                                   title=\"Annual Maximum Temperature ºF\",\n",
    "                                   label=title,\n",
    "                                   style='.--',\n",
    "                                   ax=ax, \n",
    "                                   alpha=.8)\n",
    "\n",
    "    \n",
    "ax.set(xlabel=\"Year\", ylabel=\"Temperature (F)\", xticks=[1999, 2000, 2001, 2002, 2003])\n",
    "\n",
    "plt.show()"
   ]
  },
  {
   "cell_type": "code",
   "execution_count": null,
   "id": "a57982ed",
   "metadata": {},
   "outputs": [],
   "source": []
  }
 ],
 "metadata": {
  "kernelspec": {
   "display_name": "Python 3",
   "language": "python",
   "name": "python3"
  },
  "language_info": {
   "codemirror_mode": {
    "name": "ipython",
    "version": 3
   },
   "file_extension": ".py",
   "mimetype": "text/x-python",
   "name": "python",
   "nbconvert_exporter": "python",
   "pygments_lexer": "ipython3",
   "version": "3.9.4"
  }
 },
 "nbformat": 4,
 "nbformat_minor": 5
}
