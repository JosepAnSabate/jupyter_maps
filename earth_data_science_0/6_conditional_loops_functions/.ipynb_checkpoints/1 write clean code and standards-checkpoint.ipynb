{
 "cells": [
  {
   "cell_type": "markdown",
   "id": "6b1c15f0",
   "metadata": {},
   "source": [
    "Clean code refers to code that is written in a way that is:\n",
    "\n",
    "- easy to understand,\n",
    "- is efficient when run, and\n",
    "- is well-documented."
   ]
  },
  {
   "cell_type": "markdown",
   "id": "c727cb45",
   "metadata": {},
   "source": [
    "# 2. Introduction to PEP 8 Style Guide"
   ]
  },
  {
   "cell_type": "markdown",
   "id": "85f8d1fe",
   "metadata": {},
   "source": [
    "PEP 8 is the style guide that is widely used in the Python community. This guide includes rules about naming objects, spacing rules and even how the code is laid out."
   ]
  },
  {
   "cell_type": "markdown",
   "id": "575d9619",
   "metadata": {},
   "source": [
    "- naming conventions\n",
    "- use of comments\n",
    "- line lengths\n",
    "- use of white space"
   ]
  },
  {
   "cell_type": "markdown",
   "id": "6a2857a4",
   "metadata": {},
   "source": [
    "##  a) Naming Convention Terminology Review\n",
    "First, let’s review some terminology associated with naming conventions.\n",
    "\n",
    "Lowercase letter: b\n",
    "\n",
    "Uppercase letter: B\n",
    "\n",
    "lowercase: this is all lowercase words\n",
    "\n",
    "snake case: when words are separated by underscores: lower_case_with_underscores\n",
    "\n",
    "Uppercase: All words are all uppercase letters: UPPERCASE\n",
    "\n",
    "Snake case upper case: UPPER_CASE_WITH_UNDERSCORES\n",
    "\n",
    "CamelCase: Every word is capitalized so they visually stand out: CapitalizedWords. This is sometimes also referred to as CapWords or StudlyCaps.\n",
    "\n",
    "Note: When using acronyms in CamelCase, capitalize all the letters of the acronym. Thus HTTPServerError is better than HttpServerError.\n",
    "mixedCase: (differs from CapitalizedWords by initial lowercase character!)\n",
    "\n",
    "Capitalized_Words_With_Underscores: This approach is not recommended. Use one convention and stick with it."
   ]
  },
  {
   "cell_type": "markdown",
   "id": "4a6ee037",
   "metadata": {},
   "source": [
    "#### Name Variables Using snake_case And All Lower Case\n"
   ]
  },
  {
   "cell_type": "code",
   "execution_count": 1,
   "id": "8047a8aa",
   "metadata": {},
   "outputs": [],
   "source": [
    "# variable_one\n",
    "\n",
    "# variable_two"
   ]
  },
  {
   "cell_type": "markdown",
   "id": "4e6f32b6",
   "metadata": {},
   "source": [
    "#### Name Classes Using CamelCase or CapsCase\n"
   ]
  },
  {
   "cell_type": "code",
   "execution_count": 2,
   "id": "a1eb1db7",
   "metadata": {},
   "outputs": [],
   "source": [
    "# class PlotBasicObject(object):"
   ]
  },
  {
   "cell_type": "markdown",
   "id": "5e123677",
   "metadata": {},
   "source": [
    "#### Avoid Using Single Character Letters That Could Be Confused with Numbers\n",
    "Avoid using the characters:\n",
    "\n",
    "- -‘l’ (lowercase letter el),\n",
    "- ‘O’ (uppercase letter oh), or\n",
    "- ‘I’ (uppercase letter eye)"
   ]
  },
  {
   "cell_type": "markdown",
   "id": "6e1ec5d7",
   "metadata": {},
   "source": [
    "## Python PEP 8 Documentation Standards for Comments\n",
    "Documentation is an important part of writing great code. Below are some of the important PEP 8 conventions associated with documentation."
   ]
  },
  {
   "cell_type": "code",
   "execution_count": 3,
   "id": "8736d0a0",
   "metadata": {},
   "outputs": [],
   "source": [
    "# This is a PEP 8 conforming comment\n",
    "#this comment does not conform to PEP 8 standards"
   ]
  },
  {
   "cell_type": "markdown",
   "id": "37f56a7c",
   "metadata": {},
   "source": [
    "####  Multi-line comments Used in Functions (docstrings) Should Have a Short Single Line Description Followed By More Text\n",
    "Multi-line comments are most commonly used when creating docstrings. A docstring is the text that follows a function definition. This text helps you or someone using a function understand what the function does. You will learn more about docstrings later in this textbook."
   ]
  },
  {
   "cell_type": "code",
   "execution_count": 9,
   "id": "04a1cde1",
   "metadata": {},
   "outputs": [
    {
     "ename": "IndentationError",
     "evalue": "expected an indented block (<ipython-input-9-bbbef4edb06f>, line 3)",
     "output_type": "error",
     "traceback": [
      "\u001b[1;36m  File \u001b[1;32m\"<ipython-input-9-bbbef4edb06f>\"\u001b[1;36m, line \u001b[1;32m3\u001b[0m\n\u001b[1;33m    \"\"\"\u001b[0m\n\u001b[1;37m    ^\u001b[0m\n\u001b[1;31mIndentationError\u001b[0m\u001b[1;31m:\u001b[0m expected an indented block\n"
     ]
    }
   ],
   "source": [
    "\n",
    "def calculate_sum(rainfall, time=\"month\"):\n",
    "\n",
    "\"\"\" \n",
    "Returns a single sum value of all precipitation. \n",
    "\n",
    "This function takes a pandas dataframe with time series as the index, \n",
    "and calculates the total sum, aggregated by month. \n",
    "\"\"\"\n",
    "# Code here \n",
    "\n",
    "return the_total_sum"
   ]
  },
  {
   "cell_type": "code",
   "execution_count": 10,
   "id": "a59569bd",
   "metadata": {},
   "outputs": [
    {
     "name": "stdout",
     "output_type": "stream",
     "text": [
      "Hello, World!\n"
     ]
    }
   ],
   "source": [
    "\"\"\"\n",
    "This is a comment\n",
    "written in\n",
    "more than just one line\n",
    "\"\"\"\n",
    "print(\"Hello, World!\") \n"
   ]
  },
  {
   "cell_type": "markdown",
   "id": "e9f3d2ee",
   "metadata": {},
   "source": [
    "#### Line Length\n",
    "\n",
    "PEP 8 guidelines suggest that each line of code (as well as comment lines) should be 79 characters wide or less."
   ]
  },
  {
   "cell_type": "markdown",
   "id": "33900403",
   "metadata": {},
   "source": [
    "#### Add blank line before a single line comment (unless it is the first line of a cell in Jupyter Notebook)"
   ]
  },
  {
   "cell_type": "code",
   "execution_count": 12,
   "id": "d398a8ab",
   "metadata": {},
   "outputs": [],
   "source": [
    "# Perform some math\n",
    "a = 1+2\n",
    "b = 3+4\n",
    "c = a+b \n",
    "\n",
    "# Read in and plot some \n",
    "# precip_timeseries = pd.readcsv(\"precip-2019.csv\")\n",
    "# precip_timeseries.plot()"
   ]
  },
  {
   "cell_type": "markdown",
   "id": "27648f89",
   "metadata": {},
   "source": [
    "#### Break up sections of code with white space: "
   ]
  },
  {
   "cell_type": "code",
   "execution_count": 13,
   "id": "a91f52b4",
   "metadata": {},
   "outputs": [],
   "source": [
    "# Process some data here \n",
    "#data=pd.readcsv(\"precip-2019.csv\")\n",
    "\n",
    "# Plot data - notice how separating code into sections makes it easier to read\n",
    "#fig, ax = plot.subplots()\n",
    "#data.plot(ax=ax)\n",
    "#plt.show()"
   ]
  },
  {
   "cell_type": "markdown",
   "id": "8a3e30e9",
   "metadata": {},
   "source": [
    "- pep8, a Python package that can help you check your code for adherence to the PEP 8 style guide.\n",
    "- autopep8, another Python package that can be used to modify files to the PEP 8 style guide."
   ]
  },
  {
   "cell_type": "markdown",
   "id": "9477aa7d",
   "metadata": {},
   "source": [
    "# Lesson 3. Make Your Code Easier to Read By Using Expressive Variable Names in Python"
   ]
  },
  {
   "cell_type": "markdown",
   "id": "83061aa3",
   "metadata": {},
   "source": [
    "- Learn how using expressive names can help you to write code that is clean and readable.\n",
    "- Create expressive names for objects in your Python code."
   ]
  },
  {
   "cell_type": "markdown",
   "id": "ec25a176",
   "metadata": {},
   "source": [
    "### Best Practices For Naming Objects\n",
    "PEP 8 style guide has a suite of recommendations that focus on making Python code more readable. Below are some of the PEP 8 guidelines related to expressive object names.\n",
    "\n",
    "- Keep object names short: this makes them easier to read when scanning through code.\n",
    "\n",
    "- Use meaningful names: A meaningful or expressive variable name will be eaiser for someone to understand. For example: precip is a more useful name that tells us something about the object compared to x or a.\n",
    "\n",
    "- Do not start names with numbers Objects that start with a number are NOT VALID in Python.\n",
    "\n",
    "- Avoid names that are existing functions in Python: e.g., if, else, forBest Practices For Naming Objects\n"
   ]
  },
  {
   "cell_type": "markdown",
   "id": "611976d1",
   "metadata": {},
   "source": [
    "A few other notes about object names in Python:\n",
    "\n",
    "- Python is case sensitive (e.g., weight_kg is different from Weight_kg).\n",
    "- Avoid existing function names (e.g. mean), though you can combine these with other words to create a more descriptive name (e.g. precip_mean).\n",
    "- Use nouns for variable names (e.g. weight_kg), and verbs for function names (e.g. convert_kg_lb).\n",
    "- Avoid using dots in object names - e.g. precip.boulder - dots have a special meaning in Python (for methods - the dot indicates a function that is connected to a particular Python object) and other programming languages.\n",
    "    Instead, use underscores precip_boulder."
   ]
  },
  {
   "cell_type": "markdown",
   "id": "7db27020",
   "metadata": {},
   "source": [
    "#### Best Practices for Directory and File Names\n",
    "We suggest that you use directory and file names that contain words that describe the contents of the file or directory, separated using dashes - like this:\n",
    "\n",
    "lower-case-with-dashes\n",
    "\n",
    "Directory and files names should be kept as short and concise as possible, while also clearly indicating what is contained within the directory or file."
   ]
  },
  {
   "cell_type": "markdown",
   "id": "34914c63",
   "metadata": {},
   "source": [
    "#### Best Practices Variable Names In Python"
   ]
  },
  {
   "cell_type": "markdown",
   "id": "ae8e704e",
   "metadata": {},
   "source": [
    "- **precip**: to indicate a simple variable (either single value or data structure without temporal or spatial variation in coverage)\n",
    "- **boulder_precip**: to indicate the location of the data collection\n",
    "- **max_precip:** to indicate the result of a summary statistic\n",
    "- **precip_2002**: to indicate a particular year of data included\n",
    "- **precip_2002_2013**: to indicate the particular years of data included\n",
    "- **precip_2000_to_2010**: to indicate a range of years of data included\n",
    "- **precip_in or precip_mm**: to indicate the measurement units"
   ]
  },
  {
   "cell_type": "markdown",
   "id": "3c1ca59e",
   "metadata": {},
   "source": [
    "#### Example Function"
   ]
  },
  {
   "cell_type": "code",
   "execution_count": 15,
   "id": "fda3806b",
   "metadata": {},
   "outputs": [],
   "source": [
    "def fahr_to_kelvin(fahr):\n",
    "    \"\"\"Convert temperature in Fahrenheit to kelvin.\n",
    "    \n",
    "    Parameters:\n",
    "    -----------\n",
    "    fahr: int or float\n",
    "        The tempature in Fahrenheit.\n",
    "    \n",
    "    Returns:\n",
    "    -----------\n",
    "    kelvin : int or float\n",
    "        The temperature in kelvin.\n",
    "    \"\"\"\n",
    "    kelvin = ((fahr - 32) * (5 / 9)) + 273.15\n",
    "    return kelvin\n"
   ]
  },
  {
   "cell_type": "markdown",
   "id": "bd8cdbd8",
   "metadata": {},
   "source": [
    "# Lesson 4. DRY Code and Modularity"
   ]
  },
  {
   "cell_type": "markdown",
   "id": "a351c5e0",
   "metadata": {},
   "source": [
    "## Don’t Repeat Yourself (DRY)"
   ]
  },
  {
   "cell_type": "markdown",
   "id": "8ba80ce9",
   "metadata": {},
   "source": [
    "DRY code relates to reproducible science because one component of reproducibility is writing code that is easy to read. If your code is easy to read, it will in turn be easier for your future self to understand that code. It will also be easier for your colleagues to work with and contribute to your code. This is important, but there is an even more selfish reason to consider writing efficient code."
   ]
  },
  {
   "cell_type": "markdown",
   "id": "6f8d9c98",
   "metadata": {},
   "source": [
    "## Strategies For Writing DRY Code\n",
    "Below you will learn about three commonly used strategies associated with writing clean code:\n",
    "\n",
    "- Write functions for a task that is performed over and over.\n",
    "- Create loops that iterate over repetitive tasks.\n",
    "- Use conditional statements to control if and when code is executed.\n",
    "\n",
    "##### Exemple"
   ]
  },
  {
   "cell_type": "code",
   "execution_count": 16,
   "id": "0afe7d70",
   "metadata": {},
   "outputs": [
    {
     "ename": "SyntaxError",
     "evalue": "invalid syntax (<ipython-input-16-df3bb49d12cb>, line 1)",
     "output_type": "error",
     "traceback": [
      "\u001b[1;36m  File \u001b[1;32m\"<ipython-input-16-df3bb49d12cb>\"\u001b[1;36m, line \u001b[1;32m1\u001b[0m\n\u001b[1;33m    def fahr_to_kelvin(fahr)\u001b[0m\n\u001b[1;37m                             ^\u001b[0m\n\u001b[1;31mSyntaxError\u001b[0m\u001b[1;31m:\u001b[0m invalid syntax\n"
     ]
    }
   ],
   "source": [
    "def fahr_to_kelvin(fahr) \n",
    "    \"\"\"Convert temperature in Fahrenheit to kelvin.\n",
    "\n",
    "    Parameters:\n",
    "    -----------\n",
    "    fahr: int or float\n",
    "        The temperature in Fahrenheit.\n",
    "    \n",
    "    Returns:\n",
    "    -----------\n",
    "    kelvin : int or float\n",
    "        The temperature in kelvin.\n",
    "    \"\"\"\n",
    "    kelvin = ((fahr - 32) * (5 / 9)) + 273.15\n",
    "    return kelvin"
   ]
  },
  {
   "cell_type": "code",
   "execution_count": 18,
   "id": "46a9c0ba",
   "metadata": {},
   "outputs": [],
   "source": [
    "temp = 55\n",
    "new_temp = fahr_to_kelvin(fahr = temp)\n",
    "\n",
    "temp2 = 46 \n",
    "new_temp_k = fahr_to_kelvin(fahr = temp2)"
   ]
  },
  {
   "cell_type": "markdown",
   "id": "a360d046",
   "metadata": {},
   "source": [
    "millor que"
   ]
  },
  {
   "cell_type": "code",
   "execution_count": 17,
   "id": "26a7fd26",
   "metadata": {},
   "outputs": [],
   "source": [
    "temp = 55\n",
    "new_temp = ((temp - 32) * (5 / 9)) + 273.15\n",
    "\n",
    "temp2 = 46 \n",
    "new_temp_k = ((temp2 - 32) * (5 / 9)) + 273.15"
   ]
  },
  {
   "cell_type": "code",
   "execution_count": null,
   "id": "4cf25330",
   "metadata": {},
   "outputs": [],
   "source": []
  }
 ],
 "metadata": {
  "kernelspec": {
   "display_name": "Python 3",
   "language": "python",
   "name": "python3"
  },
  "language_info": {
   "codemirror_mode": {
    "name": "ipython",
    "version": 3
   },
   "file_extension": ".py",
   "mimetype": "text/x-python",
   "name": "python",
   "nbconvert_exporter": "python",
   "pygments_lexer": "ipython3",
   "version": "3.9.4"
  }
 },
 "nbformat": 4,
 "nbformat_minor": 5
}
