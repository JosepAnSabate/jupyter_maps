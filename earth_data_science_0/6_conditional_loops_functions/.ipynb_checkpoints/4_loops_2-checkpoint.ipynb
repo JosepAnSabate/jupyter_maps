{
 "cells": [
  {
   "cell_type": "markdown",
   "id": "cae4d2e8",
   "metadata": {},
   "source": [
    "# Lesson 4. Introduction to List Comprehensions in Python: Write More Efficient Loops"
   ]
  },
  {
   "cell_type": "markdown",
   "id": "febd64fc",
   "metadata": {},
   "source": [
    "After completing this chapter, you will be able to:\n",
    "\n",
    "- Modify values in a list using a list comprehension\n",
    "- Apply a function to values in a list using a list comprehension\n",
    "- Use conditional statements within a list comprehension to control list outputs"
   ]
  },
  {
   "cell_type": "markdown",
   "id": "97b484bc",
   "metadata": {},
   "source": [
    "## List Comprehension Basics\n",
    "Loops, as you’ve seen, can be a very powerful tool to manipulate and create data. However, they’re not the only option when it comes to these types of operations. Another popular method is list comprehension. It’s a concise and quick way to modify values in a list and create a new list from the output. It works in a similar way to a for loop, but has slightly different syntax. One can be translated to the other fairly easily!\n",
    "\n",
    "To perform list comprehension, you have to put the for loop and the desired outcome inside of a list. So this:"
   ]
  },
  {
   "cell_type": "code",
   "execution_count": 2,
   "id": "5824b6f4",
   "metadata": {},
   "outputs": [],
   "source": [
    "#new_list = []\n",
    "#for i in list:\n",
    "#    new_list.append(i*i)"
   ]
  },
  {
   "cell_type": "markdown",
   "id": "c8aa02ab",
   "metadata": {},
   "source": [
    "becomes this:"
   ]
  },
  {
   "cell_type": "code",
   "execution_count": 4,
   "id": "d43c791a",
   "metadata": {},
   "outputs": [],
   "source": [
    "#new_list = [i*i for i in list]"
   ]
  },
  {
   "cell_type": "markdown",
   "id": "b8658f2d",
   "metadata": {},
   "source": [
    "You can see that the code takes up less space, and uses similar words to the for loop. However, the execution is different."
   ]
  },
  {
   "cell_type": "markdown",
   "id": "fc1f0124",
   "metadata": {},
   "source": [
    "#### Benefits and Downsides of List Comprehension\n",
    "There are many pros and cons to consider when using list comprehension.\n",
    "\n",
    "Pros:\n",
    "\n",
    "- Generally faster than for loops, especially for large datasets.\n",
    "- Takes less code to write and fits in a smaller space than a for loop.\n",
    "\n",
    "Cons:\n",
    "\n",
    "- Can be less legible in certain situations.\n",
    "- Can be harder to implement for complicated operations in for loops."
   ]
  },
  {
   "cell_type": "markdown",
   "id": "3ece14c1",
   "metadata": {},
   "source": [
    "###   Time Saved with List Comprehension"
   ]
  },
  {
   "cell_type": "code",
   "execution_count": 5,
   "id": "6666e439",
   "metadata": {},
   "outputs": [
    {
     "name": "stdout",
     "output_type": "stream",
     "text": [
      "Wall time: 9.97 ms\n"
     ]
    }
   ],
   "source": [
    "%%time\n",
    "# Time a cell using a for loop\n",
    "for_list = []\n",
    "for i in range(50000):\n",
    "    for_list.append(i*i)"
   ]
  },
  {
   "cell_type": "code",
   "execution_count": 6,
   "id": "803277d4",
   "metadata": {},
   "outputs": [
    {
     "name": "stdout",
     "output_type": "stream",
     "text": [
      "Wall time: 3.99 ms\n"
     ]
    }
   ],
   "source": [
    "%%time\n",
    "# Time a cell using list comprehension\n",
    "comp_list = [i*i for i in range(50000)]"
   ]
  },
  {
   "cell_type": "markdown",
   "id": "4af2a468",
   "metadata": {},
   "source": [
    "### Modify Values with List Comprehension"
   ]
  },
  {
   "cell_type": "code",
   "execution_count": 7,
   "id": "47e493ca",
   "metadata": {},
   "outputs": [
    {
     "data": {
      "text/plain": [
       "[17.779999999999998,\n",
       " 19.049999999999997,\n",
       " 46.99,\n",
       " 74.422,\n",
       " 77.46999999999998,\n",
       " 51.308,\n",
       " 49.022,\n",
       " 41.148,\n",
       " 46.736,\n",
       " 33.274,\n",
       " 35.306,\n",
       " 21.336]"
      ]
     },
     "execution_count": 7,
     "metadata": {},
     "output_type": "execute_result"
    }
   ],
   "source": [
    "# Create list of average monthly precip (inches) in Boulder, CO\n",
    "avg_monthly_precip_in = [0.70,  0.75, 1.85, 2.93, 3.05, 2.02, \n",
    "                         1.93, 1.62, 1.84, 1.31, 1.39, 0.84]\n",
    "\n",
    "# Convert each item in list from in to mm\n",
    "[month * 25.4 for month in avg_monthly_precip_in]"
   ]
  },
  {
   "cell_type": "markdown",
   "id": "69fe92a3",
   "metadata": {},
   "source": [
    "## Apply a Function to a List\n",
    "Similar to modifying a value in a list, it’s possible to use list comprehension to apply a function to every value in a list. This can be useful for more complicated operations that need to be performed. This can also be done with the map function. More info on mapping can be found in the Data Tip below."
   ]
  },
  {
   "cell_type": "markdown",
   "id": "300f752f",
   "metadata": {},
   "source": [
    "##### Data Tip: map in Python\n",
    "\n",
    "While a list comprehension is one way to apply a function to every variable in a list, Python has functions more suited for this type of operation, namely the map() function. Although it can be more complicated, it is very useful for the type of situation where you would be applying a complicated function to every variable in a list, pandas DataFrame, or other data storage object. For further reading on map(), see this website explaining the fundamentals."
   ]
  },
  {
   "cell_type": "code",
   "execution_count": 8,
   "id": "8a2a33b9",
   "metadata": {},
   "outputs": [
    {
     "data": {
      "text/plain": [
       "[17.779999999999998,\n",
       " 19.049999999999997,\n",
       " 46.99,\n",
       " 74.422,\n",
       " 77.46999999999998,\n",
       " 51.308,\n",
       " 49.022,\n",
       " 41.148,\n",
       " 46.736,\n",
       " 33.274,\n",
       " 35.306,\n",
       " 21.336]"
      ]
     },
     "execution_count": 8,
     "metadata": {},
     "output_type": "execute_result"
    }
   ],
   "source": [
    "# Function written to convert from inches to mm\n",
    "def convert_in_to_mm(num):\n",
    "    return num * 25.4\n",
    "\n",
    "# Using list comprehension to convert all the variables in the list\n",
    "[convert_in_to_mm(month) for month in avg_monthly_precip_in]"
   ]
  },
  {
   "cell_type": "markdown",
   "id": "7f20ae2f",
   "metadata": {},
   "source": [
    "#### If Condition Only\n",
    "Conditionals can be implemented in list comprehension. This is can be an easy way to filter out unwanted variables from a list. If the conditional doesn’t have an else statement, the if condition is put after the for loop."
   ]
  },
  {
   "cell_type": "code",
   "execution_count": 9,
   "id": "eb7a1169",
   "metadata": {},
   "outputs": [
    {
     "data": {
      "text/plain": [
       "[1.85, 2.93, 3.05, 2.02, 1.93, 1.62, 1.84]"
      ]
     },
     "execution_count": 9,
     "metadata": {},
     "output_type": "execute_result"
    }
   ],
   "source": [
    "# Filtering out values in a month that are less than 1.5\n",
    "[month for month in avg_monthly_precip_in if month > 1.5]"
   ]
  },
  {
   "cell_type": "markdown",
   "id": "13b80ffb",
   "metadata": {},
   "source": [
    "#### If Else Conditionals\n",
    "If your conditional has an else statement, it is formatted differently. In this case, it would go before the for loop, with the operation for the if condition going before if, and the operation for the else condition going after else."
   ]
  },
  {
   "cell_type": "code",
   "execution_count": 10,
   "id": "1635f000",
   "metadata": {},
   "outputs": [
    {
     "data": {
      "text/plain": [
       "[1.4, 1.5, -3.7, -5.86, -6.1, -4.04, -3.86, -3.24, -3.68, 2.62, 2.78, 1.68]"
      ]
     },
     "execution_count": 10,
     "metadata": {},
     "output_type": "execute_result"
    }
   ],
   "source": [
    "# Performing two different operations on the variables depending on if they are more or less than 1.5. \n",
    "# If they are more then 1.5, they are multiplied by negative 2. Otherwise, they are multiplied by positive 2. \n",
    "[month * -2 if month > 1.5 else month * 2 for month in avg_monthly_precip_in]"
   ]
  },
  {
   "cell_type": "markdown",
   "id": "e9139322",
   "metadata": {},
   "source": [
    "# Lesson 5. Loops in Python Exercise"
   ]
  },
  {
   "cell_type": "markdown",
   "id": "dc7df929",
   "metadata": {},
   "source": [
    "## Challenge 1: Print Numbers in a list\n",
    "The list below contains temperature values for a location in Boulder, Colorado. Create a for loop that loops through each value in the list and prints the value like this: `\n",
    "\n",
    "temp: 47"
   ]
  },
  {
   "cell_type": "code",
   "execution_count": 11,
   "id": "6579fd97",
   "metadata": {},
   "outputs": [
    {
     "data": {
      "text/plain": [
       "[47, 49, 57, 64, 72, 83, 89, 87, 79, 67, 55, 47]"
      ]
     },
     "execution_count": 11,
     "metadata": {},
     "output_type": "execute_result"
    }
   ],
   "source": [
    "# Data to convert to celsius\n",
    "\n",
    "boulder_avg_high_temp_f = [\n",
    "    47,\n",
    "    49,\n",
    "    57,\n",
    "    64,\n",
    "    72,\n",
    "    83,\n",
    "    89,\n",
    "    87,\n",
    "    79,\n",
    "    67,\n",
    "    55,\n",
    "    47\n",
    "]\n",
    "\n",
    "boulder_avg_high_temp_f"
   ]
  },
  {
   "cell_type": "code",
   "execution_count": 20,
   "id": "bc30e686",
   "metadata": {},
   "outputs": [
    {
     "name": "stdout",
     "output_type": "stream",
     "text": [
      "temp: 47\n",
      "temp: 49\n",
      "temp: 57\n",
      "temp: 64\n",
      "temp: 72\n",
      "temp: 83\n",
      "temp: 89\n",
      "temp: 87\n",
      "temp: 79\n",
      "temp: 67\n",
      "temp: 55\n",
      "temp: 47\n"
     ]
    },
    {
     "data": {
      "text/plain": [
       "[None, None, None, None, None, None, None, None, None, None, None, None]"
      ]
     },
     "execution_count": 20,
     "metadata": {},
     "output_type": "execute_result"
    }
   ],
   "source": [
    "[ print(\"temp:\", month) for month in boulder_avg_high_temp_f]"
   ]
  },
  {
   "cell_type": "code",
   "execution_count": 21,
   "id": "b3c47735",
   "metadata": {
    "scrolled": true
   },
   "outputs": [
    {
     "name": "stdout",
     "output_type": "stream",
     "text": [
      "temp: 47\n",
      "temp: 49\n",
      "temp: 57\n",
      "temp: 64\n",
      "temp: 72\n",
      "temp: 83\n",
      "temp: 89\n",
      "temp: 87\n",
      "temp: 79\n",
      "temp: 67\n",
      "temp: 55\n",
      "temp: 47\n"
     ]
    }
   ],
   "source": [
    "#for loop\n",
    "for x in boulder_avg_high_temp_f:\n",
    "    print(\"temp:\", x)"
   ]
  },
  {
   "cell_type": "markdown",
   "id": "28be707a",
   "metadata": {},
   "source": [
    "# 2: Modify Numeric Values in a List\n",
    "Below is a list of values that represents the average monthly high temperature in Boulder, CO., collected by NOAA. They are currently in Fahrenheit, but can be converted to Celsius by subtracting 32, and multiplying by 5/9."
   ]
  },
  {
   "cell_type": "markdown",
   "id": "cf9f831b",
   "metadata": {},
   "source": [
    "#### celcius = (fahrenheit - 32) * 5/9"
   ]
  },
  {
   "cell_type": "markdown",
   "id": "faf867d3",
   "metadata": {},
   "source": [
    "Create a new list with these same temperatures converted to Celsius using a for loop. Call your new list: **boulder_avg_high_temp_c**\n",
    "    \n",
    "HINT: to complete this challenge you may want to create a new empty list first. Then you can use list_name.append() in each loop iteration to add a new value to your list."
   ]
  },
  {
   "cell_type": "code",
   "execution_count": 23,
   "id": "b4516843",
   "metadata": {},
   "outputs": [
    {
     "name": "stdout",
     "output_type": "stream",
     "text": [
      "[8.333333333333334, 9.444444444444445, 13.88888888888889, 17.77777777777778, 22.22222222222222, 28.333333333333332, 31.666666666666668, 30.555555555555557, 26.11111111111111, 19.444444444444443, 12.777777777777779, 8.333333333333334]\n"
     ]
    }
   ],
   "source": [
    "boulder_avg_high_temp_c = []\n",
    "for fahrenheit in boulder_avg_high_temp_f:\n",
    "    celcius = (fahrenheit - 32) * 5/9\n",
    "    boulder_avg_high_temp_c.append(celcius)\n",
    "\n",
    "print(boulder_avg_high_temp_c)"
   ]
  },
  {
   "cell_type": "markdown",
   "id": "eddc28f3",
   "metadata": {},
   "source": [
    "## Challenge 3: Round Values In a List\n",
    "Create a loop that rounds the values in the list that you created above: boulder_avg_high_temp_c to only two decimal places.\n",
    "\n",
    "To round your data, you can use the Python function round(). The first argument in the round() function is the number to round, and the second argument is the number of decimals you want after it’s been rounded. See how this works below."
   ]
  },
  {
   "cell_type": "code",
   "execution_count": 24,
   "id": "8915c34b",
   "metadata": {},
   "outputs": [
    {
     "data": {
      "text/plain": [
       "7.38"
      ]
     },
     "execution_count": 24,
     "metadata": {},
     "output_type": "execute_result"
    }
   ],
   "source": [
    "# exemple\n",
    "c = 7.3848234\n",
    "round(c, 2)"
   ]
  },
  {
   "cell_type": "code",
   "execution_count": 25,
   "id": "72e84fe0",
   "metadata": {},
   "outputs": [
    {
     "data": {
      "text/plain": [
       "[8.33,\n",
       " 9.44,\n",
       " 13.89,\n",
       " 17.78,\n",
       " 22.22,\n",
       " 28.33,\n",
       " 31.67,\n",
       " 30.56,\n",
       " 26.11,\n",
       " 19.44,\n",
       " 12.78,\n",
       " 8.33]"
      ]
     },
     "execution_count": 25,
     "metadata": {},
     "output_type": "execute_result"
    }
   ],
   "source": [
    "[ round( month, 2) for month in boulder_avg_high_temp_c]"
   ]
  },
  {
   "cell_type": "markdown",
   "id": "2dda86c1",
   "metadata": {},
   "source": [
    "## Challenge 4: Print A List of Directories\n",
    "The code below creates a list of directories called all_dirs. Create a for loop that prints each directory name."
   ]
  },
  {
   "cell_type": "code",
   "execution_count": 31,
   "id": "bd76f9ad",
   "metadata": {},
   "outputs": [],
   "source": [
    "import os \n",
    "import pandas as pd\n",
    "from glob import glob\n",
    "import earthpy as et \n",
    "\n",
    "# Download data on average monthly temp for two California sites\n",
    "file_url = \"https://ndownloader.figshare.com/files/21894528\"\n",
    "out_path = et.data.get_data(url = file_url)\n",
    "\n",
    "\n",
    "# Set working directory to earth-analytics\n",
    "os.chdir(os.path.join(et.io.HOME, \n",
    "                      \"earth-analytics\", \n",
    "                      \"data\",\n",
    "                      \"earthpy-downloads\"))\n",
    "\n",
    "# Creating all_dirs list of directories to loop through\n",
    "\n",
    "data_dirs = os.path.join(out_path, \"*\")\n",
    "all_dirs = glob(data_dirs)\n"
   ]
  },
  {
   "cell_type": "code",
   "execution_count": 33,
   "id": "249493e8",
   "metadata": {},
   "outputs": [
    {
     "name": "stdout",
     "output_type": "stream",
     "text": [
      "C:\\Users\\34639\\earth-analytics\\data\\earthpy-downloads\\avg-monthly-temp-fahr\\San-Diego\\San-Diego-1999-temp.csv\n",
      "C:\\Users\\34639\\earth-analytics\\data\\earthpy-downloads\\avg-monthly-temp-fahr\\San-Diego\\San-Diego-2000-temp.csv\n",
      "C:\\Users\\34639\\earth-analytics\\data\\earthpy-downloads\\avg-monthly-temp-fahr\\San-Diego\\San-Diego-2001-temp.csv\n",
      "C:\\Users\\34639\\earth-analytics\\data\\earthpy-downloads\\avg-monthly-temp-fahr\\San-Diego\\San-Diego-2002-temp.csv\n",
      "C:\\Users\\34639\\earth-analytics\\data\\earthpy-downloads\\avg-monthly-temp-fahr\\San-Diego\\San-Diego-2003-temp.csv\n",
      "C:\\Users\\34639\\earth-analytics\\data\\earthpy-downloads\\avg-monthly-temp-fahr\\Sonoma\\Sonoma-1999-temp.csv\n",
      "C:\\Users\\34639\\earth-analytics\\data\\earthpy-downloads\\avg-monthly-temp-fahr\\Sonoma\\Sonoma-2000-temp.csv\n",
      "C:\\Users\\34639\\earth-analytics\\data\\earthpy-downloads\\avg-monthly-temp-fahr\\Sonoma\\Sonoma-2001-temp.csv\n",
      "C:\\Users\\34639\\earth-analytics\\data\\earthpy-downloads\\avg-monthly-temp-fahr\\Sonoma\\Sonoma-2002-temp.csv\n",
      "C:\\Users\\34639\\earth-analytics\\data\\earthpy-downloads\\avg-monthly-temp-fahr\\Sonoma\\Sonoma-2003-temp.csv\n"
     ]
    },
    {
     "data": {
      "text/html": [
       "<div>\n",
       "<style scoped>\n",
       "    .dataframe tbody tr th:only-of-type {\n",
       "        vertical-align: middle;\n",
       "    }\n",
       "\n",
       "    .dataframe tbody tr th {\n",
       "        vertical-align: top;\n",
       "    }\n",
       "\n",
       "    .dataframe thead th {\n",
       "        text-align: right;\n",
       "    }\n",
       "</style>\n",
       "<table border=\"1\" class=\"dataframe\">\n",
       "  <thead>\n",
       "    <tr style=\"text-align: right;\">\n",
       "      <th></th>\n",
       "      <th>Year</th>\n",
       "      <th>January</th>\n",
       "      <th>February</th>\n",
       "      <th>March</th>\n",
       "      <th>April</th>\n",
       "      <th>May</th>\n",
       "      <th>June</th>\n",
       "      <th>July</th>\n",
       "      <th>August</th>\n",
       "      <th>September</th>\n",
       "      <th>October</th>\n",
       "      <th>November</th>\n",
       "      <th>December</th>\n",
       "    </tr>\n",
       "  </thead>\n",
       "  <tbody>\n",
       "    <tr>\n",
       "      <th>0</th>\n",
       "      <td>2003</td>\n",
       "      <td>58.9</td>\n",
       "      <td>61.8</td>\n",
       "      <td>66.4</td>\n",
       "      <td>61.5</td>\n",
       "      <td>74.2</td>\n",
       "      <td>81.1</td>\n",
       "      <td>87</td>\n",
       "      <td>83.5</td>\n",
       "      <td>85</td>\n",
       "      <td>82.7</td>\n",
       "      <td>61</td>\n",
       "      <td>56.4</td>\n",
       "    </tr>\n",
       "  </tbody>\n",
       "</table>\n",
       "</div>"
      ],
      "text/plain": [
       "   Year  January  February  March  April   May  June  July  August  September  \\\n",
       "0  2003     58.9      61.8   66.4   61.5  74.2  81.1    87    83.5         85   \n",
       "\n",
       "   October  November  December  \n",
       "0     82.7        61      56.4  "
      ]
     },
     "execution_count": 33,
     "metadata": {},
     "output_type": "execute_result"
    }
   ],
   "source": [
    "# files\n",
    "for a_dir in all_dirs:\n",
    "    dir_path = os.path.join(a_dir, \"*\")\n",
    "    all_file_paths = (glob(dir_path))\n",
    "    # Create a nested loop which loops through each directory\n",
    "    for a_file_path in all_file_paths:\n",
    "        print(a_file_path)\n",
    "        # Read the file into a pandas dataframe and assign it to a variable\n",
    "        temp_data_df = pd.read_csv(a_file_path)\n",
    "temp_data_df"
   ]
  },
  {
   "cell_type": "code",
   "execution_count": 41,
   "id": "5e510265",
   "metadata": {},
   "outputs": [
    {
     "name": "stdout",
     "output_type": "stream",
     "text": [
      "C:\\Users\\34639\\earth-analytics\\data\\earthpy-downloads\\avg-monthly-temp-fahr\\San-Diego\n",
      "C:\\Users\\34639\\earth-analytics\\data\\earthpy-downloads\\avg-monthly-temp-fahr\\Sonoma\n"
     ]
    }
   ],
   "source": [
    "# dirs\n",
    "for a_dir in all_dirs:\n",
    "    print(a_dir)"
   ]
  },
  {
   "cell_type": "code",
   "execution_count": null,
   "id": "db1fe64d",
   "metadata": {},
   "outputs": [],
   "source": []
  }
 ],
 "metadata": {
  "kernelspec": {
   "display_name": "Python 3",
   "language": "python",
   "name": "python3"
  },
  "language_info": {
   "codemirror_mode": {
    "name": "ipython",
    "version": 3
   },
   "file_extension": ".py",
   "mimetype": "text/x-python",
   "name": "python",
   "nbconvert_exporter": "python",
   "pygments_lexer": "ipython3",
   "version": "3.9.4"
  }
 },
 "nbformat": 4,
 "nbformat_minor": 5
}
