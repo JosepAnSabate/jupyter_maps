{
 "cells": [
  {
   "cell_type": "code",
   "execution_count": 31,
   "id": "e11d66a6",
   "metadata": {},
   "outputs": [],
   "source": [
    "import folium\n",
    "import geopandas \n",
    "import pandas as pd\n",
    "import json\n",
    "import random\n",
    "import requests\n",
    "import os\n",
    "import numpy as np\n",
    "from branca.colormap import linear\n",
    "import plotly.express as px"
   ]
  },
  {
   "cell_type": "code",
   "execution_count": 42,
   "id": "f35a91ce",
   "metadata": {},
   "outputs": [],
   "source": [
    "import plotly.io as pio  \n",
    "pio.renderers.default = 'browser' #map in the browser"
   ]
  },
  {
   "cell_type": "markdown",
   "id": "39200098",
   "metadata": {},
   "source": [
    "# Import data"
   ]
  },
  {
   "cell_type": "code",
   "execution_count": 43,
   "id": "da150e36",
   "metadata": {},
   "outputs": [
    {
     "data": {
      "text/html": [
       "<div>\n",
       "<style scoped>\n",
       "    .dataframe tbody tr th:only-of-type {\n",
       "        vertical-align: middle;\n",
       "    }\n",
       "\n",
       "    .dataframe tbody tr th {\n",
       "        vertical-align: top;\n",
       "    }\n",
       "\n",
       "    .dataframe thead th {\n",
       "        text-align: right;\n",
       "    }\n",
       "</style>\n",
       "<table border=\"1\" class=\"dataframe\">\n",
       "  <thead>\n",
       "    <tr style=\"text-align: right;\">\n",
       "      <th></th>\n",
       "      <th>Unnamed: 0</th>\n",
       "      <th>Codi municipi</th>\n",
       "      <th>Habitants</th>\n",
       "      <th>Municipi</th>\n",
       "      <th>MUNICIPI_CODI</th>\n",
       "      <th>RECOMPTE</th>\n",
       "      <th>Taxa_vacunacio</th>\n",
       "    </tr>\n",
       "  </thead>\n",
       "  <tbody>\n",
       "    <tr>\n",
       "      <th>0</th>\n",
       "      <td>0</td>\n",
       "      <td>25501938</td>\n",
       "      <td>366</td>\n",
       "      <td>ABELLA DE LA CONCA</td>\n",
       "      <td>NaN</td>\n",
       "      <td>NaN</td>\n",
       "      <td>NaN</td>\n",
       "    </tr>\n",
       "    <tr>\n",
       "      <th>1</th>\n",
       "      <td>1</td>\n",
       "      <td>8161836</td>\n",
       "      <td>12550</td>\n",
       "      <td>ABRERA</td>\n",
       "      <td>7704963.0</td>\n",
       "      <td>11226.0</td>\n",
       "      <td>89.450199</td>\n",
       "    </tr>\n",
       "    <tr>\n",
       "      <th>2</th>\n",
       "      <td>2</td>\n",
       "      <td>25503060</td>\n",
       "      <td>5416</td>\n",
       "      <td>AGRAMUNT</td>\n",
       "      <td>16401968.0</td>\n",
       "      <td>5619.0</td>\n",
       "      <td>103.748154</td>\n",
       "    </tr>\n",
       "  </tbody>\n",
       "</table>\n",
       "</div>"
      ],
      "text/plain": [
       "   Unnamed: 0  Codi municipi  Habitants            Municipi  MUNICIPI_CODI  \\\n",
       "0           0       25501938        366  ABELLA DE LA CONCA            NaN   \n",
       "1           1        8161836      12550              ABRERA      7704963.0   \n",
       "2           2       25503060       5416            AGRAMUNT     16401968.0   \n",
       "\n",
       "   RECOMPTE  Taxa_vacunacio  \n",
       "0       NaN             NaN  \n",
       "1   11226.0       89.450199  \n",
       "2    5619.0      103.748154  "
      ]
     },
     "execution_count": 43,
     "metadata": {},
     "output_type": "execute_result"
    }
   ],
   "source": [
    "vac_csv = f\"C:/Users/34639/wa/jupyter/dades_covid/vacunesxmuni.csv\"\n",
    "df = pd.read_csv(vac_csv, sep=',')\n",
    "df.head(3)"
   ]
  },
  {
   "cell_type": "code",
   "execution_count": 44,
   "id": "6c4608a0",
   "metadata": {},
   "outputs": [],
   "source": [
    "geojson = geopandas.read_file(\"C:/capes_sql/limits_muni_catalunya.geojson\")"
   ]
  },
  {
   "cell_type": "code",
   "execution_count": 45,
   "id": "a154ad41",
   "metadata": {},
   "outputs": [],
   "source": [
    "geo_data=geojson\n",
    "geo_data['nom_muni'] = geo_data['nom_muni'].str.upper()"
   ]
  },
  {
   "cell_type": "code",
   "execution_count": 46,
   "id": "a2a0b7a6",
   "metadata": {},
   "outputs": [
    {
     "data": {
      "text/html": [
       "<div>\n",
       "<style scoped>\n",
       "    .dataframe tbody tr th:only-of-type {\n",
       "        vertical-align: middle;\n",
       "    }\n",
       "\n",
       "    .dataframe tbody tr th {\n",
       "        vertical-align: top;\n",
       "    }\n",
       "\n",
       "    .dataframe thead th {\n",
       "        text-align: right;\n",
       "    }\n",
       "</style>\n",
       "<table border=\"1\" class=\"dataframe\">\n",
       "  <thead>\n",
       "    <tr style=\"text-align: right;\">\n",
       "      <th></th>\n",
       "      <th>codi_ine_6</th>\n",
       "      <th>provincia1</th>\n",
       "      <th>codi_costa</th>\n",
       "      <th>codi_ptgc_</th>\n",
       "      <th>comarca1</th>\n",
       "      <th>id</th>\n",
       "      <th>nom_muni</th>\n",
       "      <th>municipi</th>\n",
       "      <th>codi_cadas</th>\n",
       "      <th>codi_aft</th>\n",
       "      <th>_feature_id</th>\n",
       "      <th>codi_ptgc</th>\n",
       "      <th>cap_muni</th>\n",
       "      <th>codiine</th>\n",
       "      <th>geometry</th>\n",
       "    </tr>\n",
       "  </thead>\n",
       "  <tbody>\n",
       "    <tr>\n",
       "      <th>0</th>\n",
       "      <td>0.0</td>\n",
       "      <td></td>\n",
       "      <td>0.0</td>\n",
       "      <td></td>\n",
       "      <td></td>\n",
       "      <td>301.0</td>\n",
       "      <td>PUIG-REIG</td>\n",
       "      <td>081751</td>\n",
       "      <td></td>\n",
       "      <td></td>\n",
       "      <td>4</td>\n",
       "      <td></td>\n",
       "      <td>Puig-reig</td>\n",
       "      <td>08175</td>\n",
       "      <td>MULTIPOLYGON (((1.86341 41.91648, 1.86089 41.9...</td>\n",
       "    </tr>\n",
       "  </tbody>\n",
       "</table>\n",
       "</div>"
      ],
      "text/plain": [
       "  codi_ine_6 provincia1 codi_costa codi_ptgc_ comarca1     id   nom_muni  \\\n",
       "0        0.0                   0.0                      301.0  PUIG-REIG   \n",
       "\n",
       "  municipi codi_cadas codi_aft _feature_id codi_ptgc   cap_muni codiine  \\\n",
       "0   081751                               4            Puig-reig   08175   \n",
       "\n",
       "                                            geometry  \n",
       "0  MULTIPOLYGON (((1.86341 41.91648, 1.86089 41.9...  "
      ]
     },
     "execution_count": 46,
     "metadata": {},
     "output_type": "execute_result"
    }
   ],
   "source": [
    "geo_data.head(1)"
   ]
  },
  {
   "cell_type": "code",
   "execution_count": 47,
   "id": "3783eeb4",
   "metadata": {},
   "outputs": [
    {
     "data": {
      "text/plain": [
       "<AxesSubplot:>"
      ]
     },
     "execution_count": 47,
     "metadata": {},
     "output_type": "execute_result"
    },
    {
     "data": {
      "image/png": "[encoded data removed]",
      "text/plain": [
       "<Figure size 432x288 with 1 Axes>"
      ]
     },
     "metadata": {
      "needs_background": "light"
     },
     "output_type": "display_data"
    }
   ],
   "source": [
    "geo_data.plot()"
   ]
  },
  {
   "cell_type": "code",
   "execution_count": 48,
   "id": "c45c9939",
   "metadata": {},
   "outputs": [],
   "source": [
    "df = df.rename(columns={\"Municipi\": \"nom_muni\"}, errors=\"raise\")"
   ]
  },
  {
   "cell_type": "code",
   "execution_count": 41,
   "id": "f243b6b8",
   "metadata": {},
   "outputs": [],
   "source": [
    "fig = px.choropleth(\n",
    "    df,\n",
    "    locations=\"nom_muni\",\n",
    "    geojson=geo_data,\n",
    "    color=\"Taxa_vacunacio\"\n",
    ")\n",
    "\n",
    "fig.show()"
   ]
  },
  {
   "cell_type": "code",
   "execution_count": null,
   "id": "371f454e",
   "metadata": {},
   "outputs": [],
   "source": [
    "px.data"
   ]
  }
 ],
 "metadata": {
  "kernelspec": {
   "display_name": "Python 3",
   "language": "python",
   "name": "python3"
  },
  "language_info": {
   "codemirror_mode": {
    "name": "ipython",
    "version": 3
   },
   "file_extension": ".py",
   "mimetype": "text/x-python",
   "name": "python",
   "nbconvert_exporter": "python",
   "pygments_lexer": "ipython3",
   "version": "3.9.4"
  }
 },
 "nbformat": 4,
 "nbformat_minor": 5
}
