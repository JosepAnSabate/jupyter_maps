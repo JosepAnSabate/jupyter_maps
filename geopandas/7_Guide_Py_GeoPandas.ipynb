{
 "cells": [
  {
   "cell_type": "code",
   "execution_count": 2,
   "id": "77450a77",
   "metadata": {},
   "outputs": [
    {
     "name": "stdout",
     "output_type": "stream",
     "text": [
      "Requirement already satisfied: descartes in c:\\users\\34639\\anaconda3\\envs\\geo_env\\lib\\site-packages (1.1.0)\n",
      "Requirement already satisfied: matplotlib in c:\\users\\34639\\anaconda3\\envs\\geo_env\\lib\\site-packages (from descartes) (3.4.2)\n",
      "Requirement already satisfied: numpy>=1.16 in c:\\users\\34639\\anaconda3\\envs\\geo_env\\lib\\site-packages (from matplotlib->descartes) (1.20.3)\n",
      "Requirement already satisfied: pillow>=6.2.0 in c:\\users\\34639\\anaconda3\\envs\\geo_env\\lib\\site-packages (from matplotlib->descartes) (8.2.0)\n",
      "Requirement already satisfied: kiwisolver>=1.0.1 in c:\\users\\34639\\anaconda3\\envs\\geo_env\\lib\\site-packages (from matplotlib->descartes) (1.3.1)\n",
      "Requirement already satisfied: pyparsing>=2.2.1 in c:\\users\\34639\\anaconda3\\envs\\geo_env\\lib\\site-packages (from matplotlib->descartes) (2.4.7)\n",
      "Requirement already satisfied: cycler>=0.10 in c:\\users\\34639\\anaconda3\\envs\\geo_env\\lib\\site-packages (from matplotlib->descartes) (0.10.0)\n",
      "Requirement already satisfied: python-dateutil>=2.7 in c:\\users\\34639\\anaconda3\\envs\\geo_env\\lib\\site-packages (from matplotlib->descartes) (2.8.1)\n",
      "Requirement already satisfied: six in c:\\users\\34639\\anaconda3\\envs\\geo_env\\lib\\site-packages (from cycler>=0.10->matplotlib->descartes) (1.16.0)\n"
     ]
    }
   ],
   "source": [
    "!pip install descartes\n",
    "import geopandas"
   ]
  },
  {
   "cell_type": "code",
   "execution_count": null,
   "id": "ed42c250",
   "metadata": {},
   "outputs": [],
   "source": []
  }
 ],
 "metadata": {
  "kernelspec": {
   "display_name": "Python 3",
   "language": "python",
   "name": "python3"
  },
  "language_info": {
   "codemirror_mode": {
    "name": "ipython",
    "version": 3
   },
   "file_extension": ".py",
   "mimetype": "text/x-python",
   "name": "python",
   "nbconvert_exporter": "python",
   "pygments_lexer": "ipython3",
   "version": "3.9.4"
  }
 },
 "nbformat": 4,
 "nbformat_minor": 5
}
