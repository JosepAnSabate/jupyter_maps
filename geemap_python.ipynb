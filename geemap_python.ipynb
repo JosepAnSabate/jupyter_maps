{
 "cells": [
  {
   "cell_type": "markdown",
   "id": "38cccea5",
   "metadata": {},
   "source": [
    "# Interactive mapping and analysis of geospatial big data using geemap and Google Earth Engine\n",
    "\n"
   ]
  },
  {
   "cell_type": "markdown",
   "id": "996f2de1",
   "metadata": {},
   "source": [
    "## geemap basics"
   ]
  },
  {
   "cell_type": "code",
   "execution_count": 1,
   "id": "34d3b6a8",
   "metadata": {},
   "outputs": [],
   "source": [
    "import os\n",
    "import ee\n",
    "import geemap"
   ]
  },
  {
   "cell_type": "code",
   "execution_count": 2,
   "id": "afd514f1",
   "metadata": {},
   "outputs": [
    {
     "data": {
      "application/vnd.jupyter.widget-view+json": {
       "model_id": "1ff9f06f9c23450dade761ebe28fcb17",
       "version_major": 2,
       "version_minor": 0
      },
      "text/plain": [
       "Map(center=[40, -100], controls=(WidgetControl(options=['position'], widget=HBox(children=(ToggleButton(value=…"
      ]
     },
     "metadata": {},
     "output_type": "display_data"
    }
   ],
   "source": [
    "Map = geemap.Map()\n",
    "Map"
   ]
  },
  {
   "cell_type": "code",
   "execution_count": 3,
   "id": "ff1fa5e9",
   "metadata": {},
   "outputs": [
    {
     "data": {
      "application/vnd.jupyter.widget-view+json": {
       "model_id": "09a01776a03e4511ab85f80647f4db70",
       "version_major": 2,
       "version_minor": 0
      },
      "text/plain": [
       "Map(center=[40, -100], controls=(ZoomControl(options=['position', 'zoom_in_text', 'zoom_in_title', 'zoom_out_t…"
      ]
     },
     "metadata": {},
     "output_type": "display_data"
    }
   ],
   "source": [
    "Map = geemap.Map(center=(40, -100), zoom=4, lite_mode=True) \n",
    "Map"
   ]
  },
  {
   "cell_type": "markdown",
   "id": "13a4bea2",
   "metadata": {},
   "source": [
    "## Add basemaps"
   ]
  },
  {
   "cell_type": "code",
   "execution_count": 4,
   "id": "6600284c",
   "metadata": {
    "scrolled": true
   },
   "outputs": [
    {
     "data": {
      "application/vnd.jupyter.widget-view+json": {
       "model_id": "17b520c2a50240ab9455a12d216ab3fb",
       "version_major": 2,
       "version_minor": 0
      },
      "text/plain": [
       "Map(center=[40, -100], controls=(WidgetControl(options=['position'], widget=HBox(children=(ToggleButton(value=…"
      ]
     },
     "metadata": {},
     "output_type": "display_data"
    }
   ],
   "source": [
    "Map = geemap.Map()\n",
    "Map.add_basemap('HYBRID')\n",
    "Map"
   ]
  },
  {
   "cell_type": "code",
   "execution_count": 5,
   "id": "3b8293d9",
   "metadata": {},
   "outputs": [],
   "source": [
    "from geemap.basemaps import basemaps"
   ]
  },
  {
   "cell_type": "code",
   "execution_count": 6,
   "id": "3b5502bd",
   "metadata": {},
   "outputs": [],
   "source": [
    "Map.add_basemap(basemaps.OpenTopoMap)\n"
   ]
  },
  {
   "cell_type": "markdown",
   "id": "a3699218",
   "metadata": {},
   "source": [
    "## Add WMS and XYZ tile layers"
   ]
  },
  {
   "cell_type": "markdown",
   "id": "221e7fc0",
   "metadata": {},
   "source": [
    "Examples: https://viewer.nationalmap.gov/services/\n",
    "\n"
   ]
  },
  {
   "cell_type": "code",
   "execution_count": 7,
   "id": "e8d62703",
   "metadata": {},
   "outputs": [
    {
     "data": {
      "application/vnd.jupyter.widget-view+json": {
       "model_id": "63e05cfae99b4c9a96bac17dd2d5d0ae",
       "version_major": 2,
       "version_minor": 0
      },
      "text/plain": [
       "Map(center=[40, -100], controls=(WidgetControl(options=['position'], widget=HBox(children=(ToggleButton(value=…"
      ]
     },
     "metadata": {},
     "output_type": "display_data"
    }
   ],
   "source": [
    "Map = geemap.Map()\n",
    "\n",
    "url = 'https://mt1.google.com/vt/lyrs=p&x={x}&y={y}&z={z}'\n",
    "Map.add_tile_layer(url, name='Google Terrain', attribution='Google')\n",
    "Map"
   ]
  },
  {
   "cell_type": "code",
   "execution_count": 8,
   "id": "cc58a6c9",
   "metadata": {},
   "outputs": [],
   "source": [
    "naip_url = 'https://services.nationalmap.gov/arcgis/services/USGSNAIPImagery/ImageServer/WMSServer?'\n",
    "Map.add_wms_layer(url=naip_url, layers='0', name='NAIP Imagery', format='image/png', shown=True)"
   ]
  },
  {
   "cell_type": "markdown",
   "id": "c729f4e9",
   "metadata": {},
   "source": [
    "# Earth Engine datasets"
   ]
  },
  {
   "cell_type": "markdown",
   "id": "0deef478",
   "metadata": {},
   "source": [
    "## Load Earth Engine datasets"
   ]
  },
  {
   "cell_type": "code",
   "execution_count": 9,
   "id": "f8fe7f96",
   "metadata": {},
   "outputs": [
    {
     "data": {
      "application/vnd.jupyter.widget-view+json": {
       "model_id": "d2826bba24f448169a1600e17c020609",
       "version_major": 2,
       "version_minor": 0
      },
      "text/plain": [
       "Map(center=[40, -100], controls=(WidgetControl(options=['position'], widget=HBox(children=(ToggleButton(value=…"
      ]
     },
     "metadata": {},
     "output_type": "display_data"
    }
   ],
   "source": [
    "Map = geemap.Map()\n",
    "\n",
    "# Add Earth Engine datasets\n",
    "dem = ee.Image('USGS/SRTMGL1_003')\n",
    "landcover = ee.Image(\"ESA/GLOBCOVER_L4_200901_200912_V2_3\").select('landcover')\n",
    "landsat7 = ee.Image('LE7_TOA_5YEAR/1999_2003')\n",
    "states = ee.FeatureCollection(\"TIGER/2018/States\")\n",
    "\n",
    "# Set visualization parameters.\n",
    "vis_params = {\n",
    "  'min': 0,\n",
    "  'max': 4000,\n",
    "  'palette': ['006633', 'E5FFCC', '662A00', 'D8D8D8', 'F5F5F5']}\n",
    "\n",
    "# Add Earth Eninge layers to Map\n",
    "Map.addLayer(dem, vis_params, 'SRTM DEM', True, 0.5)\n",
    "Map.addLayer(landcover, {}, 'Land cover')\n",
    "Map.addLayer(landsat7, {'bands': ['B4', 'B3', 'B2'], 'min': 20, 'max': 200, 'gamma': 1.5}, 'Landsat 7')\n",
    "Map.addLayer(states, {}, \"US States\")\n",
    "\n",
    "Map"
   ]
  },
  {
   "cell_type": "markdown",
   "id": "a9edda74",
   "metadata": {},
   "source": [
    "# Search the Earth Engine Data Catalog¶\n"
   ]
  },
  {
   "cell_type": "code",
   "execution_count": 10,
   "id": "9bbca910",
   "metadata": {},
   "outputs": [
    {
     "data": {
      "application/vnd.jupyter.widget-view+json": {
       "model_id": "8edeefc4431c41b9b55eb3612528e6d7",
       "version_major": 2,
       "version_minor": 0
      },
      "text/plain": [
       "Map(center=[40, -100], controls=(WidgetControl(options=['position'], widget=HBox(children=(ToggleButton(value=…"
      ]
     },
     "metadata": {},
     "output_type": "display_data"
    }
   ],
   "source": [
    "Map = geemap.Map()\n",
    "Map"
   ]
  },
  {
   "cell_type": "code",
   "execution_count": 11,
   "id": "b3fdb4f4",
   "metadata": {},
   "outputs": [],
   "source": [
    "dem = ee.Image('CGIAR/SRTM90_V4')\n",
    "Map.addLayer(dem, {}, \"CGIAR/SRTM90_V4\")"
   ]
  },
  {
   "cell_type": "code",
   "execution_count": 12,
   "id": "c0730415",
   "metadata": {},
   "outputs": [],
   "source": [
    "vis_params = {\n",
    "  'min': 0,\n",
    "  'max': 4000,\n",
    "  'palette': ['006633', 'E5FFCC', '662A00', 'D8D8D8', 'F5F5F5']}\n",
    "\n",
    "Map.addLayer(dem, vis_params, \"DEM\")"
   ]
  },
  {
   "cell_type": "markdown",
   "id": "6e7289e3",
   "metadata": {},
   "source": [
    "## Use the datasets module"
   ]
  },
  {
   "cell_type": "code",
   "execution_count": 13,
   "id": "3145861b",
   "metadata": {},
   "outputs": [],
   "source": [
    "from geemap.datasets import DATA\n"
   ]
  },
  {
   "cell_type": "code",
   "execution_count": 14,
   "id": "dd404c4b",
   "metadata": {},
   "outputs": [
    {
     "data": {
      "application/vnd.jupyter.widget-view+json": {
       "model_id": "62c158c7f9724459aa56c23011285e2f",
       "version_major": 2,
       "version_minor": 0
      },
      "text/plain": [
       "Map(center=[40, -100], controls=(WidgetControl(options=['position'], widget=HBox(children=(ToggleButton(value=…"
      ]
     },
     "metadata": {},
     "output_type": "display_data"
    }
   ],
   "source": [
    "Map = geemap.Map()\n",
    "\n",
    "dem = ee.Image(DATA.USGS_SRTMGL1_003)\n",
    "\n",
    "vis_params = {\n",
    "  'min': 0,\n",
    "  'max': 4000,\n",
    "  'palette': ['006633', 'E5FFCC', '662A00', 'D8D8D8', 'F5F5F5']}\n",
    "\n",
    "Map.addLayer(dem, vis_params, 'SRTM DEM')\n",
    "Map"
   ]
  },
  {
   "cell_type": "markdown",
   "id": "3145c6c4",
   "metadata": {},
   "source": [
    "## Change layer opacity"
   ]
  },
  {
   "cell_type": "code",
   "execution_count": 15,
   "id": "f84dfcb7",
   "metadata": {},
   "outputs": [
    {
     "data": {
      "application/vnd.jupyter.widget-view+json": {
       "model_id": "936d58eddfed4534b60133d2adca52ac",
       "version_major": 2,
       "version_minor": 0
      },
      "text/plain": [
       "Map(center=[40, -100], controls=(WidgetControl(options=['position'], widget=HBox(children=(ToggleButton(value=…"
      ]
     },
     "metadata": {},
     "output_type": "display_data"
    }
   ],
   "source": [
    "Map = geemap.Map(center=(40, -100), zoom=4)\n",
    "\n",
    "dem = ee.Image('USGS/SRTMGL1_003')\n",
    "states = ee.FeatureCollection(\"TIGER/2018/States\")\n",
    "\n",
    "vis_params = {\n",
    "  'min': 0,\n",
    "  'max': 4000,\n",
    "  'palette': ['006633', 'E5FFCC', '662A00', 'D8D8D8', 'F5F5F5']}\n",
    "\n",
    "Map.addLayer(dem, vis_params, 'SRTM DEM', True, 1)\n",
    "Map.addLayer(states, {}, \"US States\", True)\n",
    "\n",
    "Map\n"
   ]
  },
  {
   "cell_type": "markdown",
   "id": "9126d653",
   "metadata": {},
   "source": [
    "## Visualize raster data"
   ]
  },
  {
   "cell_type": "code",
   "execution_count": 16,
   "id": "c2ff4a0e",
   "metadata": {},
   "outputs": [
    {
     "data": {
      "application/vnd.jupyter.widget-view+json": {
       "model_id": "039123fb31db4e858416d639d656e7f9",
       "version_major": 2,
       "version_minor": 0
      },
      "text/plain": [
       "Map(center=[40, -100], controls=(WidgetControl(options=['position'], widget=HBox(children=(ToggleButton(value=…"
      ]
     },
     "metadata": {},
     "output_type": "display_data"
    }
   ],
   "source": [
    "Map = geemap.Map(center=(40, -100), zoom=4)\n",
    "\n",
    "# Add Earth Engine dataset\n",
    "dem = ee.Image('USGS/SRTMGL1_003')\n",
    "landsat7 = ee.Image('LE7_TOA_5YEAR/1999_2003').select(['B1', 'B2', 'B3', 'B4', 'B5', 'B7'])\n",
    "\n",
    "vis_params = {\n",
    "  'min': 0,\n",
    "  'max': 4000,\n",
    "  'palette': ['006633', 'E5FFCC', '662A00', 'D8D8D8', 'F5F5F5']}\n",
    "\n",
    "Map.addLayer(dem, vis_params, 'SRTM DEM', True, 1)\n",
    "Map.addLayer(landsat7, {'bands': ['B4', 'B3', 'B2'], 'min': 20, 'max': 200, 'gamma': 2}, 'Landsat 7')\n",
    "Map"
   ]
  },
  {
   "cell_type": "markdown",
   "id": "41b0a77b",
   "metadata": {},
   "source": [
    "## Visualize vector data"
   ]
  },
  {
   "cell_type": "code",
   "execution_count": 17,
   "id": "ee0ca33d",
   "metadata": {},
   "outputs": [
    {
     "data": {
      "application/vnd.jupyter.widget-view+json": {
       "model_id": "a650abb2acfb44749f50be5f060890ce",
       "version_major": 2,
       "version_minor": 0
      },
      "text/plain": [
       "Map(center=[40, -100], controls=(WidgetControl(options=['position'], widget=HBox(children=(ToggleButton(value=…"
      ]
     },
     "metadata": {},
     "output_type": "display_data"
    }
   ],
   "source": [
    "Map = geemap.Map()\n",
    "\n",
    "states = ee.FeatureCollection(\"TIGER/2018/States\")\n",
    "Map.addLayer(states, {}, \"US States\")\n",
    "Map"
   ]
  },
  {
   "cell_type": "code",
   "execution_count": 18,
   "id": "b21d729c",
   "metadata": {},
   "outputs": [],
   "source": [
    "vis_params = {\n",
    "    'color': '000000', \n",
    "    'colorOpacity': 1,\n",
    "    'pointSize': 3,\n",
    "    'pointShape': 'circle',\n",
    "    'width': 2,\n",
    "    'lineType': 'solid', \n",
    "    'fillColorOpacity': 0.66    \n",
    "}\n",
    "\n",
    "palette = ['006633', 'E5FFCC', '662A00', 'D8D8D8', 'F5F5F5']\n",
    "\n",
    "Map.add_styled_vector(states, column=\"NAME\", palette=palette, layer_name=\"Styled vector\", **vis_params)"
   ]
  },
  {
   "cell_type": "markdown",
   "id": "f9c995cb",
   "metadata": {},
   "source": [
    "## Add a legend"
   ]
  },
  {
   "cell_type": "code",
   "execution_count": 19,
   "id": "cb96b198",
   "metadata": {},
   "outputs": [
    {
     "name": "stdout",
     "output_type": "stream",
     "text": [
      "NLCD\n",
      "NWI\n",
      "MODIS/051/MCD12Q1\n",
      "GLOBCOVER\n",
      "JAXA/PALSAR\n",
      "MODIS/006/MCD12Q1\n",
      "Oxford\n",
      "AAFC/ACI\n",
      "COPERNICUS/CORINE/V20/100m\n",
      "COPERNICUS/Landcover/100m/Proba-V/Global\n",
      "USDA/NASS/CDL\n"
     ]
    }
   ],
   "source": [
    "legends = geemap.builtin_legends\n",
    "for legend in legends:\n",
    "    print(legend)"
   ]
  },
  {
   "cell_type": "code",
   "execution_count": 20,
   "id": "3f3b5928",
   "metadata": {},
   "outputs": [
    {
     "data": {
      "application/vnd.jupyter.widget-view+json": {
       "model_id": "93fe264bbb0b4c878c6107d316f78bb1",
       "version_major": 2,
       "version_minor": 0
      },
      "text/plain": [
       "Map(center=[40, -100], controls=(WidgetControl(options=['position'], widget=HBox(children=(ToggleButton(value=…"
      ]
     },
     "metadata": {},
     "output_type": "display_data"
    }
   ],
   "source": [
    "Map = geemap.Map()\n",
    "Map.add_basemap('HYBRID')\n",
    "landcover = ee.Image('USGS/NLCD/NLCD2016').select('landcover')\n",
    "Map.addLayer(landcover, {}, 'NLCD Land Cover')\n",
    "Map.add_legend(builtin_legend='NLCD')\n",
    "Map"
   ]
  },
  {
   "cell_type": "code",
   "execution_count": 21,
   "id": "5d9aa671",
   "metadata": {},
   "outputs": [],
   "source": [
    "Map = geemap.Map()\n",
    "\n",
    "legend_dict = {\n",
    "    '11 Open Water': '466b9f',\n",
    "    '12 Perennial Ice/Snow': 'd1def8',\n",
    "    '21 Developed, Open Space': 'dec5c5',\n",
    "    '22 Developed, Low Intensity': 'd99282',\n",
    "    '23 Developed, Medium Intensity': 'eb0000',\n",
    "    '24 Developed High Intensity': 'ab0000',\n",
    "    '31 Barren Land (Rock/Sand/Clay)': 'b3ac9f',\n",
    "    '41 Deciduous Forest': '68ab5f',\n",
    "    '42 Evergreen Forest': '1c5f2c',\n",
    "    '43 Mixed Forest': 'b5c58f',\n",
    "    '51 Dwarf Scrub': 'af963c',\n",
    "    '52 Shrub/Scrub': 'ccb879',\n",
    "    '71 Grassland/Herbaceous': 'dfdfc2',\n",
    "    '72 Sedge/Herbaceous': 'd1d182',\n",
    "    '73 Lichens': 'a3cc51',\n",
    "    '74 Moss': '82ba9e',\n",
    "    '81 Pasture/Hay': 'dcd939',\n",
    "    '82 Cultivated Crops': 'ab6c28',\n",
    "    '90 Woody Wetlands': 'b8d9eb',\n",
    "    '95 Emergent Herbaceous Wetlands': '6c9fb8'\n",
    "}\n",
    "\n",
    "landcover = ee.Image('USGS/NLCD/NLCD2016').select('landcover')\n",
    "Map.addLayer(landcover, {}, 'NLCD Land Cover')\n",
    "\n",
    "Map.add_legend(legend_title=\"NLCD Land Cover Classification\", legend_dict=legend_dict)"
   ]
  },
  {
   "cell_type": "markdown",
   "id": "d76cf9fb",
   "metadata": {},
   "source": [
    "## Add a colorbar"
   ]
  },
  {
   "cell_type": "code",
   "execution_count": 22,
   "id": "d37efc08",
   "metadata": {},
   "outputs": [
    {
     "data": {
      "application/vnd.jupyter.widget-view+json": {
       "model_id": "1ad6f5aa9db34cc2a82de58ce4d681ff",
       "version_major": 2,
       "version_minor": 0
      },
      "text/plain": [
       "Map(center=[40, -100], controls=(WidgetControl(options=['position'], widget=HBox(children=(ToggleButton(value=…"
      ]
     },
     "metadata": {},
     "output_type": "display_data"
    }
   ],
   "source": [
    "Map = geemap.Map()\n",
    "\n",
    "dem = ee.Image('USGS/SRTMGL1_003')\n",
    "vis_params = {\n",
    "  'min': 0,\n",
    "  'max': 4000,\n",
    "  'palette': ['006633', 'E5FFCC', '662A00', 'D8D8D8', 'F5F5F5']}\n",
    "\n",
    "Map.addLayer(dem, vis_params, 'SRTM DEM')\n",
    "\n",
    "colors = vis_params['palette']\n",
    "vmin = vis_params['min']\n",
    "vmax = vis_params['max']\n",
    "\n",
    "Map.add_colorbar(vis_params, label=\"Elevation (m)\", layer_name=\"SRTM DEM\")\n",
    "Map"
   ]
  },
  {
   "cell_type": "code",
   "execution_count": 23,
   "id": "56e291c9",
   "metadata": {},
   "outputs": [],
   "source": [
    "Map.add_colorbar(vis_params, label=\"Elevation (m)\", layer_name=\"SRTM DEM\", orientation=\"vertical\")\n"
   ]
  },
  {
   "cell_type": "code",
   "execution_count": 24,
   "id": "7635858d",
   "metadata": {},
   "outputs": [],
   "source": [
    "Map.add_colorbar(vis_params, label=\"Elevation (m)\", layer_name=\"SRTM DEM\", orientation=\"vertical\", transparent_bg=True)\n"
   ]
  },
  {
   "cell_type": "code",
   "execution_count": 25,
   "id": "03c2db6b",
   "metadata": {},
   "outputs": [],
   "source": [
    "Map.add_colorbar(vis_params, label=\"Elevation (m)\", layer_name=\"SRTM DEM\", orientation=\"vertical\", transparent_bg=True, discrete=True)\n"
   ]
  },
  {
   "cell_type": "markdown",
   "id": "6e1c9aa0",
   "metadata": {},
   "source": [
    "## Create a split-panel map"
   ]
  },
  {
   "cell_type": "code",
   "execution_count": 26,
   "id": "c86c54f2",
   "metadata": {},
   "outputs": [
    {
     "data": {
      "application/vnd.jupyter.widget-view+json": {
       "model_id": "6dadcef502424352b44dec6464d476a6",
       "version_major": 2,
       "version_minor": 0
      },
      "text/plain": [
       "Map(center=[40, -100], controls=(WidgetControl(options=['position'], widget=HBox(children=(ToggleButton(value=…"
      ]
     },
     "metadata": {},
     "output_type": "display_data"
    }
   ],
   "source": [
    "Map = geemap.Map()\n",
    "Map.split_map(left_layer='HYBRID', right_layer='TERRAIN')\n",
    "Map"
   ]
  },
  {
   "cell_type": "code",
   "execution_count": 27,
   "id": "8883c0ea",
   "metadata": {},
   "outputs": [
    {
     "data": {
      "application/vnd.jupyter.widget-view+json": {
       "model_id": "ec6bca16fca34d9c82aa42b284b64258",
       "version_major": 2,
       "version_minor": 0
      },
      "text/plain": [
       "Map(center=[40, -100], controls=(WidgetControl(options=['position'], widget=HBox(children=(ToggleButton(value=…"
      ]
     },
     "metadata": {},
     "output_type": "display_data"
    }
   ],
   "source": [
    "Map = geemap.Map()\n",
    "Map.split_map(left_layer='NLCD 2016 CONUS Land Cover', right_layer='NLCD 2001 CONUS Land Cover')\n",
    "Map"
   ]
  },
  {
   "cell_type": "code",
   "execution_count": 28,
   "id": "9821324b",
   "metadata": {},
   "outputs": [
    {
     "data": {
      "application/vnd.jupyter.widget-view+json": {
       "model_id": "323e9d783d2845c6bae1e077c90af7f3",
       "version_major": 2,
       "version_minor": 0
      },
      "text/plain": [
       "Map(center=[40, -100], controls=(WidgetControl(options=['position'], widget=HBox(children=(ToggleButton(value=…"
      ]
     },
     "metadata": {},
     "output_type": "display_data"
    }
   ],
   "source": [
    "nlcd_2001 = ee.Image('USGS/NLCD/NLCD2001').select('landcover')\n",
    "nlcd_2016 = ee.Image('USGS/NLCD/NLCD2016').select('landcover')\n",
    "\n",
    "left_layer = geemap.ee_tile_layer(nlcd_2001, {}, 'NLCD 2001')\n",
    "right_layer = geemap.ee_tile_layer(nlcd_2016, {}, 'NLCD 2016')\n",
    "\n",
    "Map = geemap.Map()\n",
    "Map.split_map(left_layer, right_layer)\n",
    "Map"
   ]
  },
  {
   "cell_type": "markdown",
   "id": "1c8f2476",
   "metadata": {},
   "source": [
    "## Create linked maps\n"
   ]
  },
  {
   "cell_type": "code",
   "execution_count": 29,
   "id": "4d8eb1a2",
   "metadata": {},
   "outputs": [
    {
     "data": {
      "application/vnd.jupyter.widget-view+json": {
       "model_id": "bda24c565c8549bd8f69c64e995ccf64",
       "version_major": 2,
       "version_minor": 0
      },
      "text/plain": [
       "GridspecLayout(children=(Output(layout=Layout(grid_area='widget001')), Output(layout=Layout(grid_area='widget0…"
      ]
     },
     "metadata": {},
     "output_type": "display_data"
    }
   ],
   "source": [
    "image = ee.ImageCollection('COPERNICUS/S2') \\\n",
    "    .filterDate('2018-09-01', '2018-09-30') \\\n",
    "    .map(lambda img: img.divide(10000)) \\\n",
    "    .median()\n",
    "\n",
    "vis_params = [\n",
    "    {'bands': ['B4', 'B3', 'B2'], 'min': 0, 'max': 0.3, 'gamma': 1.3}, \n",
    "    {'bands': ['B8', 'B11', 'B4'], 'min': 0, 'max': 0.3, 'gamma': 1.3},\n",
    "    {'bands': ['B8', 'B4', 'B3'], 'min': 0, 'max': 0.3, 'gamma': 1.3},\n",
    "    {'bands': ['B12', 'B12', 'B4'], 'min': 0, 'max': 0.3, 'gamma': 1.3}\n",
    "]\n",
    "\n",
    "labels = [\n",
    "    'Natural Color (B4/B3/B2)',\n",
    "    'Land/Water (B8/B11/B4)',\n",
    "    'Color Infrared (B8/B4/B3)',\n",
    "    'Vegetation (B12/B11/B4)'\n",
    "]\n",
    "\n",
    "geemap.linked_maps(rows=2, cols=2, height=\"400px\", center=[38.4151, 21.2712], zoom=12, \n",
    "                   ee_objects=[image], vis_params=vis_params, labels=labels, label_position=\"topright\")\n"
   ]
  },
  {
   "cell_type": "markdown",
   "id": "cc549956",
   "metadata": {},
   "source": [
    "# Data analysis"
   ]
  },
  {
   "cell_type": "markdown",
   "id": "7bb40446",
   "metadata": {},
   "source": [
    "## Descriptive statistics"
   ]
  },
  {
   "cell_type": "code",
   "execution_count": 30,
   "id": "d2dbbda2",
   "metadata": {},
   "outputs": [
    {
     "data": {
      "application/vnd.jupyter.widget-view+json": {
       "model_id": "c30e13bb583c437a8ea816bd37c8bd59",
       "version_major": 2,
       "version_minor": 0
      },
      "text/plain": [
       "Map(center=[37.75379999999999, -122.44390000000001], controls=(WidgetControl(options=['position'], widget=HBox…"
      ]
     },
     "metadata": {},
     "output_type": "display_data"
    }
   ],
   "source": [
    "Map = geemap.Map()\n",
    "\n",
    "centroid = ee.Geometry.Point([-122.4439, 37.7538])\n",
    "\n",
    "image = ee.ImageCollection('LANDSAT/LC08/C01/T1_SR') \\\n",
    "    .filterBounds(centroid) \\\n",
    "    .first()\n",
    "\n",
    "vis = {\n",
    "    'min': 0,\n",
    "    'max': 3000,\n",
    "    'bands': ['B5', 'B4', 'B3']\n",
    "}\n",
    "\n",
    "Map.centerObject(centroid, 8)\n",
    "Map.addLayer(image, vis, \"Landsat-8\")\n",
    "Map"
   ]
  },
  {
   "cell_type": "code",
   "execution_count": 31,
   "id": "77d8d807",
   "metadata": {},
   "outputs": [
    {
     "data": {
      "text/plain": [
       "['IMAGE_QUALITY_TIRS',\n",
       " 'CLOUD_COVER',\n",
       " 'system:id',\n",
       " 'EARTH_SUN_DISTANCE',\n",
       " 'LANDSAT_ID',\n",
       " 'system:footprint',\n",
       " 'system:version',\n",
       " 'CLOUD_COVER_LAND',\n",
       " 'GEOMETRIC_RMSE_MODEL',\n",
       " 'SR_APP_VERSION',\n",
       " 'SATELLITE',\n",
       " 'SOLAR_AZIMUTH_ANGLE',\n",
       " 'IMAGE_QUALITY_OLI',\n",
       " 'system:time_end',\n",
       " 'WRS_PATH',\n",
       " 'system:time_start',\n",
       " 'SENSING_TIME',\n",
       " 'ESPA_VERSION',\n",
       " 'SOLAR_ZENITH_ANGLE',\n",
       " 'WRS_ROW',\n",
       " 'GEOMETRIC_RMSE_MODEL_Y',\n",
       " 'LEVEL1_PRODUCTION_DATE',\n",
       " 'GEOMETRIC_RMSE_MODEL_X',\n",
       " 'system:asset_size',\n",
       " 'PIXEL_QA_VERSION',\n",
       " 'system:index',\n",
       " 'system:bands',\n",
       " 'system:band_names']"
      ]
     },
     "execution_count": 31,
     "metadata": {},
     "output_type": "execute_result"
    }
   ],
   "source": [
    "image.propertyNames().getInfo()"
   ]
  },
  {
   "cell_type": "code",
   "execution_count": 32,
   "id": "a27eb11b",
   "metadata": {},
   "outputs": [
    {
     "data": {
      "text/plain": [
       "0.05"
      ]
     },
     "execution_count": 32,
     "metadata": {},
     "output_type": "execute_result"
    }
   ],
   "source": [
    "image.get('CLOUD_COVER').getInfo()"
   ]
  },
  {
   "cell_type": "code",
   "execution_count": 33,
   "id": "ed81d6db",
   "metadata": {},
   "outputs": [
    {
     "data": {
      "text/plain": [
       "{'CLOUD_COVER': 0.05,\n",
       " 'CLOUD_COVER_LAND': 0.06,\n",
       " 'EARTH_SUN_DISTANCE': 1.001791,\n",
       " 'ESPA_VERSION': '2_23_0_1b',\n",
       " 'GEOMETRIC_RMSE_MODEL': 6.678,\n",
       " 'GEOMETRIC_RMSE_MODEL_X': 4.663,\n",
       " 'GEOMETRIC_RMSE_MODEL_Y': 4.78,\n",
       " 'IMAGE_DATE': '2013-04-09',\n",
       " 'IMAGE_QUALITY_OLI': 9,\n",
       " 'IMAGE_QUALITY_TIRS': 9,\n",
       " 'LANDSAT_ID': 'LC08_L1TP_044034_20130409_20170310_01_T1',\n",
       " 'LEVEL1_PRODUCTION_DATE': 1489126619000,\n",
       " 'NOMINAL_SCALE': 30,\n",
       " 'PIXEL_QA_VERSION': 'generate_pixel_qa_1.6.0',\n",
       " 'SATELLITE': 'LANDSAT_8',\n",
       " 'SENSING_TIME': '2013-04-09T18:46:34.7579070Z',\n",
       " 'SOLAR_AZIMUTH_ANGLE': 142.742508,\n",
       " 'SOLAR_ZENITH_ANGLE': 34.973495,\n",
       " 'SR_APP_VERSION': 'LaSRC_1.3.0',\n",
       " 'WRS_PATH': 44,\n",
       " 'WRS_ROW': 34,\n",
       " 'system:asset_size': '558.682087 MB',\n",
       " 'system:band_names': ['B1',\n",
       "  'B2',\n",
       "  'B3',\n",
       "  'B4',\n",
       "  'B5',\n",
       "  'B6',\n",
       "  'B7',\n",
       "  'B10',\n",
       "  'B11',\n",
       "  'sr_aerosol',\n",
       "  'pixel_qa',\n",
       "  'radsat_qa'],\n",
       " 'system:id': 'LANDSAT/LC08/C01/T1_SR/LC08_044034_20130409',\n",
       " 'system:index': 'LC08_044034_20130409',\n",
       " 'system:time_end': '2013-04-09 18:46:34',\n",
       " 'system:time_start': '2013-04-09 18:46:34',\n",
       " 'system:version': 1581684730621653}"
      ]
     },
     "execution_count": 33,
     "metadata": {},
     "output_type": "execute_result"
    }
   ],
   "source": [
    "props = geemap.image_props(image)\n",
    "props.getInfo()"
   ]
  },
  {
   "cell_type": "code",
   "execution_count": 34,
   "id": "022f31cf",
   "metadata": {},
   "outputs": [
    {
     "data": {
      "text/plain": [
       "{'max': {'B1': 7624,\n",
       "  'B10': 3155,\n",
       "  'B11': 3127,\n",
       "  'B2': 8471,\n",
       "  'B3': 9778,\n",
       "  'B4': 10679,\n",
       "  'B5': 11606,\n",
       "  'B6': 13054,\n",
       "  'B7': 12327,\n",
       "  'pixel_qa': 480,\n",
       "  'radsat_qa': 254,\n",
       "  'sr_aerosol': 228},\n",
       " 'mean': {'B1': 373.10984680942875,\n",
       "  'B10': 2933.4637979167587,\n",
       "  'B11': 2916.2783879093463,\n",
       "  'B2': 427.40213139234174,\n",
       "  'B3': 614.9744637045824,\n",
       "  'B4': 591.3781773385492,\n",
       "  'B5': 1954.1344781864764,\n",
       "  'B6': 1472.071307222312,\n",
       "  'B7': 996.8232780577416,\n",
       "  'pixel_qa': 322.84337032413475,\n",
       "  'radsat_qa': 0.00019878780091270895,\n",
       "  'sr_aerosol': 87.74885862483127},\n",
       " 'min': {'B1': -1432,\n",
       "  'B10': 2759,\n",
       "  'B11': 2702,\n",
       "  'B2': -1129,\n",
       "  'B3': -345,\n",
       "  'B4': -403,\n",
       "  'B5': 35,\n",
       "  'B6': 10,\n",
       "  'B7': 5,\n",
       "  'pixel_qa': 322,\n",
       "  'radsat_qa': 0,\n",
       "  'sr_aerosol': 8},\n",
       " 'std': {'B1': 201.9355685609457,\n",
       "  'B10': 67.57460806939051,\n",
       "  'B11': 63.85549758560136,\n",
       "  'B2': 230.81296623126636,\n",
       "  'B3': 296.8097076885089,\n",
       "  'B4': 393.63764571402265,\n",
       "  'B5': 1202.7937141588027,\n",
       "  'B6': 926.420271742664,\n",
       "  'B7': 729.0233711578251,\n",
       "  'pixel_qa': 4.9833065816273345,\n",
       "  'radsat_qa': 0.1664709111036373,\n",
       "  'sr_aerosol': 25.1855827242985},\n",
       " 'sum': {'B1': 1557981451.9372544,\n",
       "  'B10': 12249159935.513742,\n",
       "  'B11': 12177399433.172562,\n",
       "  'B2': 1784687804.2,\n",
       "  'B3': 2567926888.180393,\n",
       "  'B4': 2469396718.5607834,\n",
       "  'B5': 8159809497.49804,\n",
       "  'B6': 6146875544.007842,\n",
       "  'B7': 4162399334.5490217,\n",
       "  'pixel_qa': 1347970027.027451,\n",
       "  'radsat_qa': 830,\n",
       "  'sr_aerosol': 366378380.98823535}}"
      ]
     },
     "execution_count": 34,
     "metadata": {},
     "output_type": "execute_result"
    }
   ],
   "source": [
    "stats = geemap.image_stats(image, scale=90)\n",
    "stats.getInfo()"
   ]
  },
  {
   "cell_type": "markdown",
   "id": "6e8dedc9",
   "metadata": {},
   "source": [
    "##  Zonal statistics"
   ]
  },
  {
   "cell_type": "code",
   "execution_count": 35,
   "id": "b83610e9",
   "metadata": {
    "scrolled": true
   },
   "outputs": [
    {
     "data": {
      "application/vnd.jupyter.widget-view+json": {
       "model_id": "e09e9f58d03b493cad5a99b1ec0e0e8d",
       "version_major": 2,
       "version_minor": 0
      },
      "text/plain": [
       "Map(center=[40, -100], controls=(WidgetControl(options=['position'], widget=HBox(children=(ToggleButton(value=…"
      ]
     },
     "metadata": {},
     "output_type": "display_data"
    }
   ],
   "source": [
    "Map = geemap.Map()\n",
    "\n",
    "# Add Earth Engine dataset\n",
    "dem = ee.Image('USGS/SRTMGL1_003')\n",
    "\n",
    "# Set visualization parameters.\n",
    "dem_vis = {\n",
    "  'min': 0,\n",
    "  'max': 4000,\n",
    "  'palette': ['006633', 'E5FFCC', '662A00', 'D8D8D8', 'F5F5F5']}\n",
    "\n",
    "# Add Earth Engine DEM to map\n",
    "Map.addLayer(dem, dem_vis, 'SRTM DEM')\n",
    "\n",
    "# Add Landsat data to map\n",
    "landsat = ee.Image('LE7_TOA_5YEAR/1999_2003')\n",
    "\n",
    "landsat_vis = {\n",
    "    'bands': ['B4', 'B3', 'B2'], \n",
    "    'gamma': 1.4\n",
    "}\n",
    "Map.addLayer(landsat, landsat_vis, \"LE7_TOA_5YEAR/1999_2003\")\n",
    "\n",
    "states = ee.FeatureCollection(\"TIGER/2018/States\")\n",
    "Map.addLayer(states, {}, 'US States')\n",
    "Map"
   ]
  },
  {
   "cell_type": "code",
   "execution_count": 36,
   "id": "6c96e7f5",
   "metadata": {},
   "outputs": [
    {
     "name": "stdout",
     "output_type": "stream",
     "text": [
      "Computing statistics ...\n",
      "Generating URL ...\n",
      "Downloading data from https://earthengine.googleapis.com/v1alpha/projects/earthengine-legacy/tables/820ac64dc8048c25674eba479669e07e-f5c7c1a5b2448c4133b662d2fd5f5c4a:getFeatures\n",
      "Please wait ...\n",
      "Data downloaded to C:\\Users\\34639\\wa\\jupyter\\images\\dem_stats.csv\n"
     ]
    }
   ],
   "source": [
    "# create a csv exporting the zonal data\n",
    "out_dir = os.path.expanduser('./images')\n",
    "out_dem_stats = os.path.join(out_dir, 'dem_stats.csv')  \n",
    "\n",
    "if not os.path.exists(out_dir):\n",
    "    os.makedirs(out_dir)\n",
    "\n",
    "# Allowed output formats: csv, shp, json, kml, kmz\n",
    "# Allowed statistics type: MEAN, MAXIMUM, MINIMUM, MEDIAN, STD, MIN_MAX, VARIANCE, SUM\n",
    "geemap.zonal_statistics(dem, states, out_dem_stats, statistics_type='MEAN', scale=1000)\n"
   ]
  },
  {
   "cell_type": "code",
   "execution_count": 37,
   "id": "032d95c7",
   "metadata": {},
   "outputs": [
    {
     "name": "stdout",
     "output_type": "stream",
     "text": [
      "Computing statistics ...\n",
      "Generating URL ...\n",
      "Downloading data from https://earthengine.googleapis.com/v1alpha/projects/earthengine-legacy/tables/ef7da058fa8cecffdece8d714da68ec8-d30b7e2add5284f7b35a5092a7125ea5:getFeatures\n",
      "Please wait ...\n",
      "Data downloaded to C:\\Users\\34639\\wa\\jupyter\\images\\landsat_stats.csv\n"
     ]
    }
   ],
   "source": [
    "out_landsat_stats = os.path.join(out_dir, 'landsat_stats.csv')  \n",
    "geemap.zonal_statistics(landsat, states, out_landsat_stats, statistics_type='SUM', scale=1000)"
   ]
  },
  {
   "cell_type": "markdown",
   "id": "8e3c743a",
   "metadata": {},
   "source": [
    "## Zonal statistics by group"
   ]
  },
  {
   "cell_type": "code",
   "execution_count": 38,
   "id": "c3bb38e7",
   "metadata": {},
   "outputs": [
    {
     "data": {
      "application/vnd.jupyter.widget-view+json": {
       "model_id": "cfac2b4c4eab454d8e62573b6980f15d",
       "version_major": 2,
       "version_minor": 0
      },
      "text/plain": [
       "Map(center=[40, -100], controls=(WidgetControl(options=['position'], widget=HBox(children=(ToggleButton(value=…"
      ]
     },
     "metadata": {},
     "output_type": "display_data"
    }
   ],
   "source": [
    "Map = geemap.Map()\n",
    "\n",
    "dataset = ee.Image('USGS/NLCD/NLCD2016')\n",
    "landcover = ee.Image(dataset.select('landcover'))\n",
    "Map.addLayer(landcover, {}, 'NLCD 2016')\n",
    "\n",
    "states = ee.FeatureCollection(\"TIGER/2018/States\")\n",
    "Map.addLayer(states, {}, 'US States')\n",
    "Map.add_legend(builtin_legend='NLCD')\n",
    "Map"
   ]
  },
  {
   "cell_type": "code",
   "execution_count": 39,
   "id": "6a392f0e",
   "metadata": {},
   "outputs": [
    {
     "name": "stdout",
     "output_type": "stream",
     "text": [
      "Computing ... \n",
      "Generating URL ...\n",
      "Downloading data from https://earthengine.googleapis.com/v1alpha/projects/earthengine-legacy/tables/0141af5bb8f77d1e17479d663fad25e4-2055547023a572d6f2fe7ee237afcbc1:getFeatures\n",
      "Please wait ...\n",
      "Data downloaded to C:\\Users\\34639\\Downloads\\nlcd_stats.csv\n"
     ]
    }
   ],
   "source": [
    "out_dir = os.path.expanduser('~/Downloads')\n",
    "nlcd_stats = os.path.join(out_dir, 'nlcd_stats.csv')  \n",
    "\n",
    "if not os.path.exists(out_dir):\n",
    "    os.makedirs(out_dir)\n",
    "    \n",
    "# statistics_type can be either 'SUM' or 'PERCENTAGE'\n",
    "# denominator can be used to convert square meters to other areal units, such as square kilimeters\n",
    "geemap.zonal_statistics_by_group(landcover, states, nlcd_stats, statistics_type='SUM', denominator=1000000, decimal_places=2)"
   ]
  },
  {
   "cell_type": "markdown",
   "id": "5d44d5fd",
   "metadata": {},
   "source": [
    "# Unsupervised classification"
   ]
  },
  {
   "cell_type": "markdown",
   "id": "21b99eb1",
   "metadata": {},
   "source": [
    "he ee.Clusterer package handles unsupervised classification (or clustering) in Earth Engine. These algorithms are currently based on the algorithms with the same name in Weka. More details about each Clusterer are available in the reference docs in the Code Editor.\n",
    "\n",
    "Clusterers are used in the same manner as classifiers in Earth Engine. The general workflow for clustering is:\n",
    "\n",
    "    1.Assemble features with numeric properties in which to find clusters.\n",
    "    2.Instantiate a clusterer. Set its parameters if necessary.\n",
    "    3.Train the clusterer using the training data.\n",
    "    4.Apply the clusterer to an image or feature collection.\n",
    "    5.Label the clusters."
   ]
  },
  {
   "cell_type": "markdown",
   "id": "2e7d68fa",
   "metadata": {},
   "source": [
    "Add data to the map\n",
    "\n"
   ]
  },
  {
   "cell_type": "code",
   "execution_count": 40,
   "id": "a23c423b",
   "metadata": {
    "scrolled": true
   },
   "outputs": [
    {
     "data": {
      "application/vnd.jupyter.widget-view+json": {
       "model_id": "e4a487a523884a54b47425411a10b47b",
       "version_major": 2,
       "version_minor": 0
      },
      "text/plain": [
       "Map(center=[41.8799, -87.7719], controls=(WidgetControl(options=['position'], widget=HBox(children=(ToggleButt…"
      ]
     },
     "metadata": {},
     "output_type": "display_data"
    }
   ],
   "source": [
    "Map = geemap.Map()\n",
    "\n",
    "point = ee.Geometry.Point([-87.7719, 41.8799])\n",
    "\n",
    "image = ee.ImageCollection('LANDSAT/LC08/C01/T1_SR') \\\n",
    "    .filterBounds(point) \\\n",
    "    .filterDate('2019-01-01', '2019-12-31') \\\n",
    "    .sort('CLOUD_COVER') \\\n",
    "    .first() \\\n",
    "    .select('B[1-7]')\n",
    "\n",
    "vis_params = {\n",
    "    'min': 0,\n",
    "    'max': 3000,\n",
    "    'bands': ['B5', 'B4', 'B3']\n",
    "}\n",
    "\n",
    "Map.centerObject(point, 8)\n",
    "Map.addLayer(image, vis_params, \"Landsat-8\")\n",
    "\n",
    "Map"
   ]
  },
  {
   "cell_type": "markdown",
   "id": "1b598673",
   "metadata": {},
   "source": [
    "Make training dataset"
   ]
  },
  {
   "cell_type": "code",
   "execution_count": 41,
   "id": "b8041999",
   "metadata": {},
   "outputs": [],
   "source": [
    "region = ee.Geometry.Rectangle([-122.6003, 37.4831, -121.8036, 37.8288])"
   ]
  },
  {
   "cell_type": "code",
   "execution_count": 42,
   "id": "a4e7b9c4",
   "metadata": {},
   "outputs": [],
   "source": [
    "training = image.sample(**{\n",
    "#     'region': region,\n",
    "    'scale': 30,\n",
    "    'numPixels': 5000,\n",
    "    'seed': 0,\n",
    "    'geometries': True  # Set this to False to ignore geometries\n",
    "})\n",
    "\n",
    "Map.addLayer(training, {}, 'training', False)"
   ]
  },
  {
   "cell_type": "markdown",
   "id": "f81f3ed6",
   "metadata": {},
   "source": [
    "Train the clusterer\n",
    "\n"
   ]
  },
  {
   "cell_type": "code",
   "execution_count": 43,
   "id": "11a58be1",
   "metadata": {},
   "outputs": [],
   "source": [
    "# Instantiate the clusterer and train it.\n",
    "n_clusters = 5\n",
    "clusterer = ee.Clusterer.wekaKMeans(n_clusters).train(training)"
   ]
  },
  {
   "cell_type": "markdown",
   "id": "533247e6",
   "metadata": {},
   "source": [
    "Classify the image"
   ]
  },
  {
   "cell_type": "code",
   "execution_count": 44,
   "id": "4999873b",
   "metadata": {},
   "outputs": [
    {
     "data": {
      "application/vnd.jupyter.widget-view+json": {
       "model_id": "e4a487a523884a54b47425411a10b47b",
       "version_major": 2,
       "version_minor": 0
      },
      "text/plain": [
       "Map(center=[41.8799, -87.7719], controls=(WidgetControl(options=['position'], widget=HBox(children=(ToggleButt…"
      ]
     },
     "metadata": {},
     "output_type": "display_data"
    }
   ],
   "source": [
    "# Cluster the input using the trained clusterer.\n",
    "result = image.cluster(clusterer)\n",
    "\n",
    "# # Display the clusters with random colors.\n",
    "Map.addLayer(result.randomVisualizer(), {}, 'clusters')\n",
    "Map"
   ]
  },
  {
   "cell_type": "markdown",
   "id": "f27644ec",
   "metadata": {},
   "source": [
    "Label the clusters"
   ]
  },
  {
   "cell_type": "code",
   "execution_count": 45,
   "id": "345e081e",
   "metadata": {},
   "outputs": [],
   "source": [
    "legend_keys = ['One', 'Two', 'Three', 'Four', 'ect']\n",
    "legend_colors = ['#8DD3C7', '#FFFFB3', '#BEBADA', '#FB8072', '#80B1D3']\n",
    "\n",
    "# Reclassify the map\n",
    "result = result.remap([0, 1, 2, 3, 4], [1, 2, 3, 4, 5])\n",
    "\n",
    "Map.addLayer(result, {'min': 1, 'max': 5, 'palette': legend_colors}, 'Labelled clusters')\n",
    "Map.add_legend(legend_keys=legend_keys, legend_colors=legend_colors, position='bottomright')"
   ]
  },
  {
   "cell_type": "markdown",
   "id": "3427722a",
   "metadata": {},
   "source": [
    "Visualize the result"
   ]
  },
  {
   "cell_type": "code",
   "execution_count": 46,
   "id": "7b9b84ab",
   "metadata": {},
   "outputs": [
    {
     "name": "stdout",
     "output_type": "stream",
     "text": [
      "Change layer opacity:\n"
     ]
    },
    {
     "data": {
      "application/vnd.jupyter.widget-view+json": {
       "model_id": "a8f8052884c44d74afe88e6301860ad9",
       "version_major": 2,
       "version_minor": 0
      },
      "text/plain": [
       "Box(children=(FloatSlider(value=1.0, description='opacity', max=1.0),))"
      ]
     },
     "metadata": {},
     "output_type": "display_data"
    }
   ],
   "source": [
    "print('Change layer opacity:')\n",
    "cluster_layer = Map.layers[-1]\n",
    "cluster_layer.interact(opacity=(0, 1, 0.1))"
   ]
  },
  {
   "cell_type": "code",
   "execution_count": 47,
   "id": "6954d95b",
   "metadata": {},
   "outputs": [
    {
     "data": {
      "application/vnd.jupyter.widget-view+json": {
       "model_id": "e4a487a523884a54b47425411a10b47b",
       "version_major": 2,
       "version_minor": 0
      },
      "text/plain": [
       "Map(center=[41.8799, -87.7719], controls=(WidgetControl(options=['position'], widget=HBox(children=(ToggleButt…"
      ]
     },
     "metadata": {},
     "output_type": "display_data"
    }
   ],
   "source": [
    "Map"
   ]
  },
  {
   "cell_type": "markdown",
   "id": "e977b571",
   "metadata": {},
   "source": [
    "Export the result"
   ]
  },
  {
   "cell_type": "code",
   "execution_count": 48,
   "id": "fa37b97d",
   "metadata": {},
   "outputs": [
    {
     "name": "stdout",
     "output_type": "stream",
     "text": [
      "Generating URL ...\n",
      "Downloading data from https://earthengine.googleapis.com/v1alpha/projects/earthengine-legacy/thumbnails/881c89861814744c5c69a4a87e42dcd3-fad4746210302a18ed256315be128c10:getPixels\n",
      "Please wait ...\n",
      "Data downloaded to C:\\Users\\34639\\wa\\jupyter\\images\\cluster.tif\n"
     ]
    }
   ],
   "source": [
    "out_dir = os.path.expanduser('./images')\n",
    "out_file = os.path.join(out_dir, 'cluster.tif')\n",
    "geemap.ee_export_image(result, filename=out_file, scale=90)"
   ]
  },
  {
   "cell_type": "code",
   "execution_count": null,
   "id": "b2dcb02d",
   "metadata": {},
   "outputs": [],
   "source": []
  }
 ],
 "metadata": {
  "kernelspec": {
   "display_name": "Python 3",
   "language": "python",
   "name": "python3"
  },
  "language_info": {
   "codemirror_mode": {
    "name": "ipython",
    "version": 3
   },
   "file_extension": ".py",
   "mimetype": "text/x-python",
   "name": "python",
   "nbconvert_exporter": "python",
   "pygments_lexer": "ipython3",
   "version": "3.9.4"
  }
 },
 "nbformat": 4,
 "nbformat_minor": 5
}
