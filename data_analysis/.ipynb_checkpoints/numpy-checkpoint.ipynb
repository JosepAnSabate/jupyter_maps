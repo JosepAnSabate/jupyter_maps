{
 "cells": [
  {
   "cell_type": "code",
   "execution_count": 1,
   "id": "635a2771",
   "metadata": {},
   "outputs": [],
   "source": [
    "#numpy: down level instructions, fast arrays processing"
   ]
  },
  {
   "cell_type": "code",
   "execution_count": 2,
   "id": "c25a7fd7",
   "metadata": {},
   "outputs": [],
   "source": [
    "import sys\n",
    "import numpy as np"
   ]
  },
  {
   "cell_type": "markdown",
   "id": "bba57719",
   "metadata": {},
   "source": [
    "# Basic numpy arrays"
   ]
  },
  {
   "cell_type": "code",
   "execution_count": 3,
   "id": "cc2f2538",
   "metadata": {},
   "outputs": [
    {
     "data": {
      "text/plain": [
       "array([1, 2, 3, 4])"
      ]
     },
     "execution_count": 3,
     "metadata": {},
     "output_type": "execute_result"
    }
   ],
   "source": [
    "np.array([1,2,3,4])"
   ]
  },
  {
   "cell_type": "code",
   "execution_count": 4,
   "id": "8aaee5ff",
   "metadata": {},
   "outputs": [],
   "source": [
    "a = np.array([1,2,3,4])"
   ]
  },
  {
   "cell_type": "code",
   "execution_count": 5,
   "id": "7aa0db14",
   "metadata": {},
   "outputs": [],
   "source": [
    "b = np.array([0,.5,1.5,2])"
   ]
  },
  {
   "cell_type": "code",
   "execution_count": 6,
   "id": "b0b9a0c8",
   "metadata": {},
   "outputs": [
    {
     "data": {
      "text/plain": [
       "(1, 2)"
      ]
     },
     "execution_count": 6,
     "metadata": {},
     "output_type": "execute_result"
    }
   ],
   "source": [
    "#acces individual elements of a numpy array\n",
    "a[0], a[1]# same way as a python array"
   ]
  },
  {
   "cell_type": "code",
   "execution_count": 7,
   "id": "bd533365",
   "metadata": {},
   "outputs": [
    {
     "data": {
      "text/plain": [
       "array([1, 2, 3, 4])"
      ]
     },
     "execution_count": 7,
     "metadata": {},
     "output_type": "execute_result"
    }
   ],
   "source": [
    "a[0:]"
   ]
  },
  {
   "cell_type": "code",
   "execution_count": 8,
   "id": "a766ae33",
   "metadata": {},
   "outputs": [
    {
     "data": {
      "text/plain": [
       "array([2, 3])"
      ]
     },
     "execution_count": 8,
     "metadata": {},
     "output_type": "execute_result"
    }
   ],
   "source": [
    "a[1:3]"
   ]
  },
  {
   "cell_type": "code",
   "execution_count": 9,
   "id": "eaa22369",
   "metadata": {},
   "outputs": [
    {
     "data": {
      "text/plain": [
       "array([0. , 1.5, 0.5, 2. ])"
      ]
     },
     "execution_count": 9,
     "metadata": {},
     "output_type": "execute_result"
    }
   ],
   "source": [
    "#select elements\n",
    "b[[0,2,1,-1]]#-1 the last"
   ]
  },
  {
   "cell_type": "markdown",
   "id": "b74ca3eb",
   "metadata": {},
   "source": [
    "# Array types"
   ]
  },
  {
   "cell_type": "code",
   "execution_count": 10,
   "id": "e5c521da",
   "metadata": {},
   "outputs": [
    {
     "data": {
      "text/plain": [
       "array([1, 2, 3, 4])"
      ]
     },
     "execution_count": 10,
     "metadata": {},
     "output_type": "execute_result"
    }
   ],
   "source": [
    "a"
   ]
  },
  {
   "cell_type": "code",
   "execution_count": 11,
   "id": "eedc49cf",
   "metadata": {},
   "outputs": [
    {
     "data": {
      "text/plain": [
       "dtype('int32')"
      ]
     },
     "execution_count": 11,
     "metadata": {},
     "output_type": "execute_result"
    }
   ],
   "source": [
    "a.dtype"
   ]
  },
  {
   "cell_type": "code",
   "execution_count": 12,
   "id": "a296cc4e",
   "metadata": {},
   "outputs": [
    {
     "data": {
      "text/plain": [
       "dtype('float64')"
      ]
     },
     "execution_count": 12,
     "metadata": {},
     "output_type": "execute_result"
    }
   ],
   "source": [
    "b.dtype"
   ]
  },
  {
   "cell_type": "markdown",
   "id": "0f256dd7",
   "metadata": {},
   "source": [
    "# change data type"
   ]
  },
  {
   "cell_type": "code",
   "execution_count": 13,
   "id": "47ecd77e",
   "metadata": {},
   "outputs": [
    {
     "data": {
      "text/plain": [
       "array([1., 2., 3., 4.])"
      ]
     },
     "execution_count": 13,
     "metadata": {},
     "output_type": "execute_result"
    }
   ],
   "source": [
    "np.array([1,2,3,4], dtype=float)"
   ]
  },
  {
   "cell_type": "markdown",
   "id": "0626b78d",
   "metadata": {},
   "source": [
    "# Dimensions and shapes"
   ]
  },
  {
   "cell_type": "code",
   "execution_count": 14,
   "id": "48894a5b",
   "metadata": {},
   "outputs": [],
   "source": [
    "A = np.array([\n",
    "        [1,2,3],\n",
    "        [4,5,6]\n",
    "])"
   ]
  },
  {
   "cell_type": "code",
   "execution_count": 15,
   "id": "10775f49",
   "metadata": {},
   "outputs": [
    {
     "data": {
      "text/plain": [
       "(2, 3)"
      ]
     },
     "execution_count": 15,
     "metadata": {},
     "output_type": "execute_result"
    }
   ],
   "source": [
    "A.shape"
   ]
  },
  {
   "cell_type": "code",
   "execution_count": 16,
   "id": "3a77843c",
   "metadata": {},
   "outputs": [
    {
     "data": {
      "text/plain": [
       "2"
      ]
     },
     "execution_count": 16,
     "metadata": {},
     "output_type": "execute_result"
    }
   ],
   "source": [
    "A.ndim"
   ]
  },
  {
   "cell_type": "code",
   "execution_count": 17,
   "id": "01a97b63",
   "metadata": {},
   "outputs": [
    {
     "data": {
      "text/plain": [
       "6"
      ]
     },
     "execution_count": 17,
     "metadata": {},
     "output_type": "execute_result"
    }
   ],
   "source": [
    "A.size"
   ]
  },
  {
   "cell_type": "code",
   "execution_count": 18,
   "id": "a1afb119",
   "metadata": {},
   "outputs": [],
   "source": [
    "B = np.array([\n",
    "    [\n",
    "        [12,11,10],\n",
    "        [2,5,7],\n",
    "    ],[\n",
    "        [3,5,9],\n",
    "        [6,8,3]\n",
    "    ]\n",
    "])"
   ]
  },
  {
   "cell_type": "code",
   "execution_count": 19,
   "id": "6cc74648",
   "metadata": {},
   "outputs": [
    {
     "data": {
      "text/plain": [
       "array([[[12, 11, 10],\n",
       "        [ 2,  5,  7]],\n",
       "\n",
       "       [[ 3,  5,  9],\n",
       "        [ 6,  8,  3]]])"
      ]
     },
     "execution_count": 19,
     "metadata": {},
     "output_type": "execute_result"
    }
   ],
   "source": [
    "B"
   ]
  },
  {
   "cell_type": "code",
   "execution_count": 20,
   "id": "c7022b0e",
   "metadata": {},
   "outputs": [
    {
     "data": {
      "text/plain": [
       "(2, 2, 3)"
      ]
     },
     "execution_count": 20,
     "metadata": {},
     "output_type": "execute_result"
    }
   ],
   "source": [
    "B.shape"
   ]
  },
  {
   "cell_type": "code",
   "execution_count": 21,
   "id": "f592e209",
   "metadata": {},
   "outputs": [
    {
     "data": {
      "text/plain": [
       "3"
      ]
     },
     "execution_count": 21,
     "metadata": {},
     "output_type": "execute_result"
    }
   ],
   "source": [
    "B.ndim"
   ]
  },
  {
   "cell_type": "code",
   "execution_count": 22,
   "id": "93c733b4",
   "metadata": {},
   "outputs": [
    {
     "data": {
      "text/plain": [
       "12"
      ]
     },
     "execution_count": 22,
     "metadata": {},
     "output_type": "execute_result"
    }
   ],
   "source": [
    "B.size"
   ]
  },
  {
   "cell_type": "code",
   "execution_count": 23,
   "id": "f45b93ee",
   "metadata": {},
   "outputs": [
    {
     "data": {
      "text/plain": [
       "dtype('int32')"
      ]
     },
     "execution_count": 23,
     "metadata": {},
     "output_type": "execute_result"
    }
   ],
   "source": [
    "B.dtype"
   ]
  },
  {
   "cell_type": "markdown",
   "id": "a7ae6d6a",
   "metadata": {},
   "source": [
    "# Indexing and Slicing of Matrices"
   ]
  },
  {
   "cell_type": "code",
   "execution_count": 24,
   "id": "b6210538",
   "metadata": {},
   "outputs": [],
   "source": [
    "#square matrix \n",
    "A = np.array([\n",
    "        [1,2,3], #0\n",
    "        [4,5,6], #1\n",
    "        [7,8,9] #2\n",
    "])     # 0 1 2"
   ]
  },
  {
   "cell_type": "code",
   "execution_count": 25,
   "id": "fd2a2a3a",
   "metadata": {},
   "outputs": [
    {
     "data": {
      "text/plain": [
       "array([4, 5, 6])"
      ]
     },
     "execution_count": 25,
     "metadata": {},
     "output_type": "execute_result"
    }
   ],
   "source": [
    "A[1] # row 1"
   ]
  },
  {
   "cell_type": "code",
   "execution_count": 26,
   "id": "33575951",
   "metadata": {},
   "outputs": [
    {
     "data": {
      "text/plain": [
       "4"
      ]
     },
     "execution_count": 26,
     "metadata": {},
     "output_type": "execute_result"
    }
   ],
   "source": [
    "A[1][0] # second row first column"
   ]
  },
  {
   "cell_type": "code",
   "execution_count": 27,
   "id": "c7df640a",
   "metadata": {},
   "outputs": [
    {
     "data": {
      "text/plain": [
       "4"
      ]
     },
     "execution_count": 27,
     "metadata": {},
     "output_type": "execute_result"
    }
   ],
   "source": [
    "A[1,0] # second row first column"
   ]
  },
  {
   "cell_type": "code",
   "execution_count": 28,
   "id": "2d0e3313",
   "metadata": {},
   "outputs": [
    {
     "data": {
      "text/plain": [
       "array([[1, 2, 3],\n",
       "       [4, 5, 6]])"
      ]
     },
     "execution_count": 28,
     "metadata": {},
     "output_type": "execute_result"
    }
   ],
   "source": [
    "A[0:2] #everythink from row 0 to one"
   ]
  },
  {
   "cell_type": "code",
   "execution_count": 29,
   "id": "089eb0e9",
   "metadata": {},
   "outputs": [
    {
     "data": {
      "text/plain": [
       "array([[1, 2],\n",
       "       [4, 5],\n",
       "       [7, 8]])"
      ]
     },
     "execution_count": 29,
     "metadata": {},
     "output_type": "execute_result"
    }
   ],
   "source": [
    "A[:, :2] #every row, columns 0 and 1"
   ]
  },
  {
   "cell_type": "code",
   "execution_count": 30,
   "id": "01b9c842",
   "metadata": {},
   "outputs": [
    {
     "data": {
      "text/plain": [
       "array([[1, 2],\n",
       "       [4, 5]])"
      ]
     },
     "execution_count": 30,
     "metadata": {},
     "output_type": "execute_result"
    }
   ],
   "source": [
    "A[:2, :2] # 0,1 row, 0,1 col"
   ]
  },
  {
   "cell_type": "code",
   "execution_count": 34,
   "id": "67b63ad7",
   "metadata": {},
   "outputs": [
    {
     "data": {
      "text/plain": [
       "array([[3],\n",
       "       [6],\n",
       "       [9]])"
      ]
     },
     "execution_count": 34,
     "metadata": {},
     "output_type": "execute_result"
    }
   ],
   "source": [
    "A[:, 2:] #all rows col 2"
   ]
  },
  {
   "cell_type": "code",
   "execution_count": 35,
   "id": "7edcf945",
   "metadata": {},
   "outputs": [
    {
     "data": {
      "text/plain": [
       "array([[1, 2, 3],\n",
       "       [4, 5, 6],\n",
       "       [7, 8, 9]])"
      ]
     },
     "execution_count": 35,
     "metadata": {},
     "output_type": "execute_result"
    }
   ],
   "source": [
    "A"
   ]
  },
  {
   "cell_type": "code",
   "execution_count": 36,
   "id": "28a09be3",
   "metadata": {},
   "outputs": [],
   "source": [
    "A[1] = np.array([10,10,10])"
   ]
  },
  {
   "cell_type": "code",
   "execution_count": 37,
   "id": "50768b81",
   "metadata": {},
   "outputs": [
    {
     "data": {
      "text/plain": [
       "array([[ 1,  2,  3],\n",
       "       [10, 10, 10],\n",
       "       [ 7,  8,  9]])"
      ]
     },
     "execution_count": 37,
     "metadata": {},
     "output_type": "execute_result"
    }
   ],
   "source": [
    "A"
   ]
  },
  {
   "cell_type": "code",
   "execution_count": 38,
   "id": "d4119639",
   "metadata": {},
   "outputs": [],
   "source": [
    "A[2] = 99"
   ]
  },
  {
   "cell_type": "code",
   "execution_count": 39,
   "id": "2fb64f63",
   "metadata": {},
   "outputs": [
    {
     "data": {
      "text/plain": [
       "array([[ 1,  2,  3],\n",
       "       [10, 10, 10],\n",
       "       [99, 99, 99]])"
      ]
     },
     "execution_count": 39,
     "metadata": {},
     "output_type": "execute_result"
    }
   ],
   "source": [
    "A"
   ]
  },
  {
   "cell_type": "markdown",
   "id": "38fe7604",
   "metadata": {},
   "source": [
    "# Summary statistics"
   ]
  },
  {
   "cell_type": "code",
   "execution_count": 40,
   "id": "2cf0f71d",
   "metadata": {},
   "outputs": [],
   "source": [
    "a = np.array([1,2,3,4])"
   ]
  },
  {
   "cell_type": "code",
   "execution_count": 41,
   "id": "de80a870",
   "metadata": {},
   "outputs": [
    {
     "data": {
      "text/plain": [
       "10"
      ]
     },
     "execution_count": 41,
     "metadata": {},
     "output_type": "execute_result"
    }
   ],
   "source": [
    "a.sum()"
   ]
  },
  {
   "cell_type": "code",
   "execution_count": 42,
   "id": "a36d6ccb",
   "metadata": {},
   "outputs": [
    {
     "data": {
      "text/plain": [
       "2.5"
      ]
     },
     "execution_count": 42,
     "metadata": {},
     "output_type": "execute_result"
    }
   ],
   "source": [
    "a.mean()"
   ]
  },
  {
   "cell_type": "code",
   "execution_count": 43,
   "id": "1f648101",
   "metadata": {},
   "outputs": [
    {
     "data": {
      "text/plain": [
       "1.118033988749895"
      ]
     },
     "execution_count": 43,
     "metadata": {},
     "output_type": "execute_result"
    }
   ],
   "source": [
    "a.std()"
   ]
  },
  {
   "cell_type": "code",
   "execution_count": 44,
   "id": "11ddc991",
   "metadata": {},
   "outputs": [
    {
     "data": {
      "text/plain": [
       "1.25"
      ]
     },
     "execution_count": 44,
     "metadata": {},
     "output_type": "execute_result"
    }
   ],
   "source": [
    "a.var()"
   ]
  },
  {
   "cell_type": "code",
   "execution_count": 45,
   "id": "38840f5d",
   "metadata": {},
   "outputs": [],
   "source": [
    "A = np.array([\n",
    "        [1,2,3], #0\n",
    "        [4,5,6], #1\n",
    "        [7,8,9] #2\n",
    "])     # 0 1 2"
   ]
  },
  {
   "cell_type": "code",
   "execution_count": 46,
   "id": "59258088",
   "metadata": {},
   "outputs": [
    {
     "data": {
      "text/plain": [
       "45"
      ]
     },
     "execution_count": 46,
     "metadata": {},
     "output_type": "execute_result"
    }
   ],
   "source": [
    " A.sum()"
   ]
  },
  {
   "cell_type": "code",
   "execution_count": 47,
   "id": "0e414642",
   "metadata": {},
   "outputs": [
    {
     "data": {
      "text/plain": [
       "5.0"
      ]
     },
     "execution_count": 47,
     "metadata": {},
     "output_type": "execute_result"
    }
   ],
   "source": [
    "A.mean()"
   ]
  },
  {
   "cell_type": "code",
   "execution_count": 48,
   "id": "46773e6e",
   "metadata": {},
   "outputs": [
    {
     "data": {
      "text/plain": [
       "2.581988897471611"
      ]
     },
     "execution_count": 48,
     "metadata": {},
     "output_type": "execute_result"
    }
   ],
   "source": [
    "A.std()"
   ]
  },
  {
   "cell_type": "code",
   "execution_count": 49,
   "id": "8f4f6d82",
   "metadata": {},
   "outputs": [
    {
     "data": {
      "text/plain": [
       "array([12, 15, 18])"
      ]
     },
     "execution_count": 49,
     "metadata": {},
     "output_type": "execute_result"
    }
   ],
   "source": [
    "A.sum(axis=0) # axis=0 per columnes"
   ]
  },
  {
   "cell_type": "code",
   "execution_count": 50,
   "id": "dc6775a2",
   "metadata": {},
   "outputs": [
    {
     "data": {
      "text/plain": [
       "array([ 6, 15, 24])"
      ]
     },
     "execution_count": 50,
     "metadata": {},
     "output_type": "execute_result"
    }
   ],
   "source": [
    "A.sum(axis=1) #axis 1 per rows"
   ]
  },
  {
   "cell_type": "code",
   "execution_count": 51,
   "id": "ee5f51ff",
   "metadata": {},
   "outputs": [
    {
     "data": {
      "text/plain": [
       "array([4., 5., 6.])"
      ]
     },
     "execution_count": 51,
     "metadata": {},
     "output_type": "execute_result"
    }
   ],
   "source": [
    "A.mean(axis=0) #axis 0 per col"
   ]
  },
  {
   "cell_type": "code",
   "execution_count": 52,
   "id": "98dd952d",
   "metadata": {},
   "outputs": [
    {
     "data": {
      "text/plain": [
       "array([2., 5., 8.])"
      ]
     },
     "execution_count": 52,
     "metadata": {},
     "output_type": "execute_result"
    }
   ],
   "source": [
    "A.mean(axis=1) #axis=1 row"
   ]
  },
  {
   "cell_type": "markdown",
   "id": "4b855813",
   "metadata": {},
   "source": [
    " # Broadcasting and vectorized operations"
   ]
  },
  {
   "cell_type": "code",
   "execution_count": 66,
   "id": "826aa05e",
   "metadata": {},
   "outputs": [],
   "source": [
    "a = np.arange(4)"
   ]
  },
  {
   "cell_type": "code",
   "execution_count": 67,
   "id": "859162e3",
   "metadata": {},
   "outputs": [
    {
     "data": {
      "text/plain": [
       "array([0, 1, 2, 3])"
      ]
     },
     "execution_count": 67,
     "metadata": {},
     "output_type": "execute_result"
    }
   ],
   "source": [
    "a"
   ]
  },
  {
   "cell_type": "code",
   "execution_count": 76,
   "id": "1bdde1fc",
   "metadata": {},
   "outputs": [
    {
     "data": {
      "text/plain": [
       "array([210, 211, 212, 213])"
      ]
     },
     "execution_count": 76,
     "metadata": {},
     "output_type": "execute_result"
    }
   ],
   "source": [
    "a + 10"
   ]
  },
  {
   "cell_type": "code",
   "execution_count": 69,
   "id": "2e9a5a01",
   "metadata": {},
   "outputs": [
    {
     "data": {
      "text/plain": [
       "array([ 0.,  5., 15., 20.])"
      ]
     },
     "execution_count": 69,
     "metadata": {},
     "output_type": "execute_result"
    }
   ],
   "source": [
    "b * 10"
   ]
  },
  {
   "cell_type": "code",
   "execution_count": 70,
   "id": "c23010f1",
   "metadata": {},
   "outputs": [
    {
     "data": {
      "text/plain": [
       "array([0, 1, 2, 3])"
      ]
     },
     "execution_count": 70,
     "metadata": {},
     "output_type": "execute_result"
    }
   ],
   "source": [
    "a"
   ]
  },
  {
   "cell_type": "code",
   "execution_count": 78,
   "id": "e84da4d2",
   "metadata": {},
   "outputs": [
    {
     "data": {
      "text/plain": [
       "array([400, 401, 402, 403])"
      ]
     },
     "execution_count": 78,
     "metadata": {},
     "output_type": "execute_result"
    }
   ],
   "source": [
    "a += 100 #+= modify de var\n",
    "a"
   ]
  },
  {
   "cell_type": "code",
   "execution_count": 74,
   "id": "809807e2",
   "metadata": {},
   "outputs": [
    {
     "data": {
      "text/plain": [
       "array([200, 201, 202, 203])"
      ]
     },
     "execution_count": 74,
     "metadata": {},
     "output_type": "execute_result"
    }
   ],
   "source": [
    "a"
   ]
  },
  {
   "cell_type": "code",
   "execution_count": 79,
   "id": "843b5ac3",
   "metadata": {},
   "outputs": [],
   "source": [
    "l = [0,1,2,3]"
   ]
  },
  {
   "cell_type": "code",
   "execution_count": 80,
   "id": "6ce92c5c",
   "metadata": {},
   "outputs": [
    {
     "data": {
      "text/plain": [
       "[0, 10, 20, 30]"
      ]
     },
     "execution_count": 80,
     "metadata": {},
     "output_type": "execute_result"
    }
   ],
   "source": [
    "[i * 10 for i in l]"
   ]
  },
  {
   "cell_type": "code",
   "execution_count": 81,
   "id": "c7be1c7f",
   "metadata": {},
   "outputs": [],
   "source": [
    "a = np.arange(4)"
   ]
  },
  {
   "cell_type": "code",
   "execution_count": 82,
   "id": "9a05cc4e",
   "metadata": {},
   "outputs": [
    {
     "data": {
      "text/plain": [
       "array([0, 1, 2, 3])"
      ]
     },
     "execution_count": 82,
     "metadata": {},
     "output_type": "execute_result"
    }
   ],
   "source": [
    "a"
   ]
  },
  {
   "cell_type": "code",
   "execution_count": 83,
   "id": "11fa5f23",
   "metadata": {},
   "outputs": [
    {
     "data": {
      "text/plain": [
       "array([10, 10, 10, 10])"
      ]
     },
     "execution_count": 83,
     "metadata": {},
     "output_type": "execute_result"
    }
   ],
   "source": [
    "b = np.array([10, 10, 10, 10])\n",
    "b"
   ]
  },
  {
   "cell_type": "code",
   "execution_count": 84,
   "id": "82b8909b",
   "metadata": {},
   "outputs": [
    {
     "data": {
      "text/plain": [
       "array([10, 11, 12, 13])"
      ]
     },
     "execution_count": 84,
     "metadata": {},
     "output_type": "execute_result"
    }
   ],
   "source": [
    "a+b"
   ]
  },
  {
   "cell_type": "code",
   "execution_count": 85,
   "id": "ca046917",
   "metadata": {},
   "outputs": [
    {
     "data": {
      "text/plain": [
       "array([ 0, 10, 20, 30])"
      ]
     },
     "execution_count": 85,
     "metadata": {},
     "output_type": "execute_result"
    }
   ],
   "source": [
    "a*b"
   ]
  },
  {
   "cell_type": "markdown",
   "id": "c8f1835a",
   "metadata": {},
   "source": [
    "# Boolean arrays"
   ]
  },
  {
   "cell_type": "code",
   "execution_count": 86,
   "id": "7deb87f6",
   "metadata": {},
   "outputs": [],
   "source": [
    "a = np.arange(4)"
   ]
  },
  {
   "cell_type": "code",
   "execution_count": 88,
   "id": "d46c4dc3",
   "metadata": {},
   "outputs": [
    {
     "data": {
      "text/plain": [
       "array([0, 1, 2, 3])"
      ]
     },
     "execution_count": 88,
     "metadata": {},
     "output_type": "execute_result"
    }
   ],
   "source": [
    "a"
   ]
  },
  {
   "cell_type": "code",
   "execution_count": 89,
   "id": "9f5274ff",
   "metadata": {},
   "outputs": [
    {
     "data": {
      "text/plain": [
       "(0, 3)"
      ]
     },
     "execution_count": 89,
     "metadata": {},
     "output_type": "execute_result"
    }
   ],
   "source": [
    "a[0], a[-1]"
   ]
  },
  {
   "cell_type": "code",
   "execution_count": 90,
   "id": "0b2a5dcb",
   "metadata": {},
   "outputs": [
    {
     "data": {
      "text/plain": [
       "array([0, 3])"
      ]
     },
     "execution_count": 90,
     "metadata": {},
     "output_type": "execute_result"
    }
   ],
   "source": [
    "a[[0,-1]]"
   ]
  },
  {
   "cell_type": "code",
   "execution_count": 92,
   "id": "c4e66293",
   "metadata": {},
   "outputs": [
    {
     "data": {
      "text/plain": [
       "array([0, 3])"
      ]
     },
     "execution_count": 92,
     "metadata": {},
     "output_type": "execute_result"
    }
   ],
   "source": [
    "#boolean arrays\n",
    "a[[True, False, False, True]]"
   ]
  },
  {
   "cell_type": "markdown",
   "id": "fbf2d61c",
   "metadata": {},
   "source": [
    "### use of boolean arrays for filtering"
   ]
  },
  {
   "cell_type": "code",
   "execution_count": 93,
   "id": "7b80eb75",
   "metadata": {},
   "outputs": [
    {
     "data": {
      "text/plain": [
       "array([False, False,  True,  True])"
      ]
     },
     "execution_count": 93,
     "metadata": {},
     "output_type": "execute_result"
    }
   ],
   "source": [
    "a >= 2"
   ]
  },
  {
   "cell_type": "code",
   "execution_count": 94,
   "id": "85b9ce93",
   "metadata": {},
   "outputs": [
    {
     "data": {
      "text/plain": [
       "array([2, 3])"
      ]
     },
     "execution_count": 94,
     "metadata": {},
     "output_type": "execute_result"
    }
   ],
   "source": [
    "a[a >= 2]"
   ]
  },
  {
   "cell_type": "code",
   "execution_count": 95,
   "id": "2fbcc683",
   "metadata": {},
   "outputs": [
    {
     "data": {
      "text/plain": [
       "1.5"
      ]
     },
     "execution_count": 95,
     "metadata": {},
     "output_type": "execute_result"
    }
   ],
   "source": [
    "a.mean()"
   ]
  },
  {
   "cell_type": "code",
   "execution_count": 96,
   "id": "c71bc131",
   "metadata": {},
   "outputs": [
    {
     "data": {
      "text/plain": [
       "array([2, 3])"
      ]
     },
     "execution_count": 96,
     "metadata": {},
     "output_type": "execute_result"
    }
   ],
   "source": [
    "a[a > a.mean()]"
   ]
  },
  {
   "cell_type": "code",
   "execution_count": 97,
   "id": "2628fbbe",
   "metadata": {},
   "outputs": [
    {
     "data": {
      "text/plain": [
       "array([0, 1])"
      ]
     },
     "execution_count": 97,
     "metadata": {},
     "output_type": "execute_result"
    }
   ],
   "source": [
    "a[(a == 0) | (a == 1)] #or"
   ]
  },
  {
   "cell_type": "code",
   "execution_count": 102,
   "id": "65701808",
   "metadata": {},
   "outputs": [
    {
     "data": {
      "text/plain": [
       "array([1])"
      ]
     },
     "execution_count": 102,
     "metadata": {},
     "output_type": "execute_result"
    }
   ],
   "source": [
    "a[(a <= 2) & (a % 2 == 1)]"
   ]
  },
  {
   "cell_type": "code",
   "execution_count": 103,
   "id": "f3db6a86",
   "metadata": {},
   "outputs": [],
   "source": [
    "A = np.random.randint(100, size=(3,3))"
   ]
  },
  {
   "cell_type": "code",
   "execution_count": 104,
   "id": "a539c0fa",
   "metadata": {},
   "outputs": [
    {
     "data": {
      "text/plain": [
       "array([[54, 73, 11],\n",
       "       [26, 39, 17],\n",
       "       [97, 82, 48]])"
      ]
     },
     "execution_count": 104,
     "metadata": {},
     "output_type": "execute_result"
    }
   ],
   "source": [
    "A"
   ]
  },
  {
   "cell_type": "code",
   "execution_count": 105,
   "id": "a4e34dff",
   "metadata": {},
   "outputs": [
    {
     "data": {
      "text/plain": [
       "array([[ True,  True, False],\n",
       "       [False,  True, False],\n",
       "       [ True,  True,  True]])"
      ]
     },
     "execution_count": 105,
     "metadata": {},
     "output_type": "execute_result"
    }
   ],
   "source": [
    "A > 30"
   ]
  },
  {
   "cell_type": "code",
   "execution_count": 106,
   "id": "eecf231b",
   "metadata": {},
   "outputs": [
    {
     "data": {
      "text/plain": [
       "array([54, 73, 39, 97, 82, 48])"
      ]
     },
     "execution_count": 106,
     "metadata": {},
     "output_type": "execute_result"
    }
   ],
   "source": [
    "A[A > 30]"
   ]
  },
  {
   "cell_type": "markdown",
   "id": "d455bc2a",
   "metadata": {},
   "source": [
    "# Linear Algebra"
   ]
  },
  {
   "cell_type": "code",
   "execution_count": 108,
   "id": "0852e1f8",
   "metadata": {},
   "outputs": [],
   "source": [
    "A = np.array([\n",
    "        [1,2,3], #0\n",
    "        [4,5,6], #1\n",
    "        [7,8,9] #2\n",
    "])     # 0 1 2"
   ]
  },
  {
   "cell_type": "code",
   "execution_count": 109,
   "id": "17a2e77b",
   "metadata": {},
   "outputs": [],
   "source": [
    "B = np.array([\n",
    "        [6,5], #0\n",
    "        [4,3], #1\n",
    "        [2,1] #2\n",
    "])     "
   ]
  },
  {
   "cell_type": "code",
   "execution_count": 110,
   "id": "d58b2955",
   "metadata": {},
   "outputs": [
    {
     "data": {
      "text/plain": [
       "array([[20, 14],\n",
       "       [56, 41],\n",
       "       [92, 68]])"
      ]
     },
     "execution_count": 110,
     "metadata": {},
     "output_type": "execute_result"
    }
   ],
   "source": [
    "A.dot(B)"
   ]
  },
  {
   "cell_type": "code",
   "execution_count": 111,
   "id": "261a4fea",
   "metadata": {},
   "outputs": [
    {
     "data": {
      "text/plain": [
       "array([[20, 14],\n",
       "       [56, 41],\n",
       "       [92, 68]])"
      ]
     },
     "execution_count": 111,
     "metadata": {},
     "output_type": "execute_result"
    }
   ],
   "source": [
    "A @ B"
   ]
  },
  {
   "cell_type": "code",
   "execution_count": 112,
   "id": "8e0a6e46",
   "metadata": {},
   "outputs": [
    {
     "data": {
      "text/plain": [
       "array([[6, 4, 2],\n",
       "       [5, 3, 1]])"
      ]
     },
     "execution_count": 112,
     "metadata": {},
     "output_type": "execute_result"
    }
   ],
   "source": [
    "B.T"
   ]
  },
  {
   "cell_type": "code",
   "execution_count": 113,
   "id": "b42aaad8",
   "metadata": {},
   "outputs": [
    {
     "data": {
      "text/plain": [
       "array([[1, 2, 3],\n",
       "       [4, 5, 6],\n",
       "       [7, 8, 9]])"
      ]
     },
     "execution_count": 113,
     "metadata": {},
     "output_type": "execute_result"
    }
   ],
   "source": [
    "A"
   ]
  },
  {
   "cell_type": "code",
   "execution_count": 114,
   "id": "b647b6d8",
   "metadata": {},
   "outputs": [
    {
     "data": {
      "text/plain": [
       "array([[36, 48, 60],\n",
       "       [24, 33, 42]])"
      ]
     },
     "execution_count": 114,
     "metadata": {},
     "output_type": "execute_result"
    }
   ],
   "source": [
    "B.T @ A"
   ]
  },
  {
   "cell_type": "markdown",
   "id": "fa25b24e",
   "metadata": {},
   "source": [
    "# Size of objects in Memory"
   ]
  },
  {
   "cell_type": "markdown",
   "id": "2dcd4c21",
   "metadata": {},
   "source": [
    "## Int, floats"
   ]
  },
  {
   "cell_type": "code",
   "execution_count": 116,
   "id": "fcfac2b9",
   "metadata": {},
   "outputs": [
    {
     "data": {
      "text/plain": [
       "28"
      ]
     },
     "execution_count": 116,
     "metadata": {},
     "output_type": "execute_result"
    }
   ],
   "source": [
    "#An integer in Python is > 24bytes\n",
    "sys.getsizeof(1)"
   ]
  },
  {
   "cell_type": "code",
   "execution_count": 118,
   "id": "e4f80cc4",
   "metadata": {},
   "outputs": [
    {
     "data": {
      "text/plain": [
       "72"
      ]
     },
     "execution_count": 118,
     "metadata": {},
     "output_type": "execute_result"
    }
   ],
   "source": [
    "# longs are even larger\n",
    "sys.getsizeof(10**100)"
   ]
  },
  {
   "cell_type": "code",
   "execution_count": 120,
   "id": "4a53e365",
   "metadata": {},
   "outputs": [
    {
     "data": {
      "text/plain": [
       "4"
      ]
     },
     "execution_count": 120,
     "metadata": {},
     "output_type": "execute_result"
    }
   ],
   "source": [
    "# numpy as size is much smaller\n",
    "np.dtype(int).itemsize"
   ]
  },
  {
   "cell_type": "code",
   "execution_count": 121,
   "id": "8df0fbd8",
   "metadata": {},
   "outputs": [
    {
     "data": {
      "text/plain": [
       "8"
      ]
     },
     "execution_count": 121,
     "metadata": {},
     "output_type": "execute_result"
    }
   ],
   "source": [
    "np.dtype(float).itemsize"
   ]
  },
  {
   "cell_type": "markdown",
   "id": "8e178d89",
   "metadata": {},
   "source": [
    "## Lists are even larger\n"
   ]
  },
  {
   "cell_type": "code",
   "execution_count": 122,
   "id": "064ecd8b",
   "metadata": {},
   "outputs": [
    {
     "data": {
      "text/plain": [
       "64"
      ]
     },
     "execution_count": 122,
     "metadata": {},
     "output_type": "execute_result"
    }
   ],
   "source": [
    "# A one element list\n",
    "sys.getsizeof([1])"
   ]
  },
  {
   "cell_type": "code",
   "execution_count": 123,
   "id": "103d6cfb",
   "metadata": {},
   "outputs": [
    {
     "data": {
      "text/plain": [
       "4"
      ]
     },
     "execution_count": 123,
     "metadata": {},
     "output_type": "execute_result"
    }
   ],
   "source": [
    "np.array([1]).nbytes"
   ]
  },
  {
   "cell_type": "code",
   "execution_count": 125,
   "id": "fd3d6086",
   "metadata": {},
   "outputs": [],
   "source": [
    "# numpy is much more fast"
   ]
  },
  {
   "cell_type": "code",
   "execution_count": null,
   "id": "157c6697",
   "metadata": {},
   "outputs": [],
   "source": []
  }
 ],
 "metadata": {
  "kernelspec": {
   "display_name": "Python 3",
   "language": "python",
   "name": "python3"
  },
  "language_info": {
   "codemirror_mode": {
    "name": "ipython",
    "version": 3
   },
   "file_extension": ".py",
   "mimetype": "text/x-python",
   "name": "python",
   "nbconvert_exporter": "python",
   "pygments_lexer": "ipython3",
   "version": "3.9.4"
  }
 },
 "nbformat": 4,
 "nbformat_minor": 5
}
