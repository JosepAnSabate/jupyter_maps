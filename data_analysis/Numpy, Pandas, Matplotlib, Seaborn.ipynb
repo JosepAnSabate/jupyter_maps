{
 "cells": [
  {
   "cell_type": "code",
   "execution_count": 39,
   "id": "88f81263",
   "metadata": {},
   "outputs": [],
   "source": [
    "import pandas as pd"
   ]
  },
  {
   "cell_type": "code",
   "execution_count": 40,
   "id": "86d5418a",
   "metadata": {},
   "outputs": [],
   "source": [
    "vac_csv = f\"C:/capes_sql/vacunacio.csv\"\n",
    "vdf= pd.read_csv(vac_csv, sep=',')"
   ]
  },
  {
   "cell_type": "code",
   "execution_count": 41,
   "id": "4b2f06ac",
   "metadata": {},
   "outputs": [
    {
     "data": {
      "text/html": [
       "<div>\n",
       "<style scoped>\n",
       "    .dataframe tbody tr th:only-of-type {\n",
       "        vertical-align: middle;\n",
       "    }\n",
       "\n",
       "    .dataframe tbody tr th {\n",
       "        vertical-align: top;\n",
       "    }\n",
       "\n",
       "    .dataframe thead th {\n",
       "        text-align: right;\n",
       "    }\n",
       "</style>\n",
       "<table border=\"1\" class=\"dataframe\">\n",
       "  <thead>\n",
       "    <tr style=\"text-align: right;\">\n",
       "      <th></th>\n",
       "      <th>SEXE_CODI</th>\n",
       "      <th>PROVINCIA_CODI</th>\n",
       "      <th>COMARCA_CODI</th>\n",
       "      <th>MUNICIPI_CODI</th>\n",
       "      <th>DISTRICTE_CODI</th>\n",
       "      <th>DOSI</th>\n",
       "      <th>RECOMPTE</th>\n",
       "    </tr>\n",
       "  </thead>\n",
       "  <tbody>\n",
       "    <tr>\n",
       "      <th>count</th>\n",
       "      <td>418272.000000</td>\n",
       "      <td>416909.000000</td>\n",
       "      <td>416909.000000</td>\n",
       "      <td>416910.000000</td>\n",
       "      <td>17529.000000</td>\n",
       "      <td>419155.000000</td>\n",
       "      <td>419155.000000</td>\n",
       "    </tr>\n",
       "    <tr>\n",
       "      <th>mean</th>\n",
       "      <td>0.519399</td>\n",
       "      <td>17.616338</td>\n",
       "      <td>20.778537</td>\n",
       "      <td>17762.667055</td>\n",
       "      <td>5.554852</td>\n",
       "      <td>1.374391</td>\n",
       "      <td>16.979227</td>\n",
       "    </tr>\n",
       "    <tr>\n",
       "      <th>std</th>\n",
       "      <td>0.499624</td>\n",
       "      <td>12.727305</td>\n",
       "      <td>12.728745</td>\n",
       "      <td>12725.612267</td>\n",
       "      <td>2.876464</td>\n",
       "      <td>0.483966</td>\n",
       "      <td>56.088077</td>\n",
       "    </tr>\n",
       "    <tr>\n",
       "      <th>min</th>\n",
       "      <td>0.000000</td>\n",
       "      <td>8.000000</td>\n",
       "      <td>1.000000</td>\n",
       "      <td>8001.000000</td>\n",
       "      <td>1.000000</td>\n",
       "      <td>1.000000</td>\n",
       "      <td>1.000000</td>\n",
       "    </tr>\n",
       "    <tr>\n",
       "      <th>25%</th>\n",
       "      <td>0.000000</td>\n",
       "      <td>8.000000</td>\n",
       "      <td>11.000000</td>\n",
       "      <td>8134.000000</td>\n",
       "      <td>3.000000</td>\n",
       "      <td>1.000000</td>\n",
       "      <td>1.000000</td>\n",
       "    </tr>\n",
       "    <tr>\n",
       "      <th>50%</th>\n",
       "      <td>1.000000</td>\n",
       "      <td>8.000000</td>\n",
       "      <td>20.000000</td>\n",
       "      <td>8298.000000</td>\n",
       "      <td>6.000000</td>\n",
       "      <td>1.000000</td>\n",
       "      <td>3.000000</td>\n",
       "    </tr>\n",
       "    <tr>\n",
       "      <th>75%</th>\n",
       "      <td>1.000000</td>\n",
       "      <td>25.000000</td>\n",
       "      <td>33.000000</td>\n",
       "      <td>25072.000000</td>\n",
       "      <td>8.000000</td>\n",
       "      <td>2.000000</td>\n",
       "      <td>10.000000</td>\n",
       "    </tr>\n",
       "    <tr>\n",
       "      <th>max</th>\n",
       "      <td>1.000000</td>\n",
       "      <td>43.000000</td>\n",
       "      <td>42.000000</td>\n",
       "      <td>43907.000000</td>\n",
       "      <td>10.000000</td>\n",
       "      <td>2.000000</td>\n",
       "      <td>1870.000000</td>\n",
       "    </tr>\n",
       "  </tbody>\n",
       "</table>\n",
       "</div>"
      ],
      "text/plain": [
       "           SEXE_CODI  PROVINCIA_CODI   COMARCA_CODI  MUNICIPI_CODI  \\\n",
       "count  418272.000000   416909.000000  416909.000000  416910.000000   \n",
       "mean        0.519399       17.616338      20.778537   17762.667055   \n",
       "std         0.499624       12.727305      12.728745   12725.612267   \n",
       "min         0.000000        8.000000       1.000000    8001.000000   \n",
       "25%         0.000000        8.000000      11.000000    8134.000000   \n",
       "50%         1.000000        8.000000      20.000000    8298.000000   \n",
       "75%         1.000000       25.000000      33.000000   25072.000000   \n",
       "max         1.000000       43.000000      42.000000   43907.000000   \n",
       "\n",
       "       DISTRICTE_CODI           DOSI       RECOMPTE  \n",
       "count    17529.000000  419155.000000  419155.000000  \n",
       "mean         5.554852       1.374391      16.979227  \n",
       "std          2.876464       0.483966      56.088077  \n",
       "min          1.000000       1.000000       1.000000  \n",
       "25%          3.000000       1.000000       1.000000  \n",
       "50%          6.000000       1.000000       3.000000  \n",
       "75%          8.000000       2.000000      10.000000  \n",
       "max         10.000000       2.000000    1870.000000  "
      ]
     },
     "execution_count": 41,
     "metadata": {},
     "output_type": "execute_result"
    }
   ],
   "source": [
    "vdf.describe()"
   ]
  },
  {
   "cell_type": "code",
   "execution_count": 42,
   "id": "a4bf5747",
   "metadata": {},
   "outputs": [
    {
     "data": {
      "text/html": [
       "<div>\n",
       "<style scoped>\n",
       "    .dataframe tbody tr th:only-of-type {\n",
       "        vertical-align: middle;\n",
       "    }\n",
       "\n",
       "    .dataframe tbody tr th {\n",
       "        vertical-align: top;\n",
       "    }\n",
       "\n",
       "    .dataframe thead th {\n",
       "        text-align: right;\n",
       "    }\n",
       "</style>\n",
       "<table border=\"1\" class=\"dataframe\">\n",
       "  <thead>\n",
       "    <tr style=\"text-align: right;\">\n",
       "      <th></th>\n",
       "      <th>SEXE_CODI</th>\n",
       "      <th>SEXE</th>\n",
       "      <th>PROVINCIA_CODI</th>\n",
       "      <th>PROVINCIA</th>\n",
       "      <th>COMARCA_CODI</th>\n",
       "      <th>COMARCA</th>\n",
       "      <th>MUNICIPI_CODI</th>\n",
       "      <th>MUNICIPI</th>\n",
       "      <th>DISTRICTE_CODI</th>\n",
       "      <th>DISTRICTE</th>\n",
       "      <th>DOSI</th>\n",
       "      <th>DATA</th>\n",
       "      <th>FABRICANT</th>\n",
       "      <th>NO_VACUNAT</th>\n",
       "      <th>RECOMPTE</th>\n",
       "    </tr>\n",
       "  </thead>\n",
       "  <tbody>\n",
       "    <tr>\n",
       "      <th>0</th>\n",
       "      <td>0.0</td>\n",
       "      <td>Home</td>\n",
       "      <td>8.0</td>\n",
       "      <td>Barcelona</td>\n",
       "      <td>17.0</td>\n",
       "      <td>GARRAF</td>\n",
       "      <td>8270.0</td>\n",
       "      <td>SITGES</td>\n",
       "      <td>NaN</td>\n",
       "      <td>No classificat</td>\n",
       "      <td>2</td>\n",
       "      <td>16/03/2021</td>\n",
       "      <td>BioNTech / Pfizer</td>\n",
       "      <td>NaN</td>\n",
       "      <td>56</td>\n",
       "    </tr>\n",
       "    <tr>\n",
       "      <th>1</th>\n",
       "      <td>1.0</td>\n",
       "      <td>Dona</td>\n",
       "      <td>8.0</td>\n",
       "      <td>Barcelona</td>\n",
       "      <td>41.0</td>\n",
       "      <td>VALLES ORIENTAL</td>\n",
       "      <td>8209.0</td>\n",
       "      <td>SANT FOST DE CAMPSENTELLES</td>\n",
       "      <td>NaN</td>\n",
       "      <td>No classificat</td>\n",
       "      <td>1</td>\n",
       "      <td>11/01/2021</td>\n",
       "      <td>BioNTech / Pfizer</td>\n",
       "      <td>NaN</td>\n",
       "      <td>43</td>\n",
       "    </tr>\n",
       "    <tr>\n",
       "      <th>2</th>\n",
       "      <td>1.0</td>\n",
       "      <td>Dona</td>\n",
       "      <td>8.0</td>\n",
       "      <td>Barcelona</td>\n",
       "      <td>11.0</td>\n",
       "      <td>BAIX LLOBREGAT</td>\n",
       "      <td>8073.0</td>\n",
       "      <td>CORNELLÀ DE LLOBREGAT</td>\n",
       "      <td>NaN</td>\n",
       "      <td>No classificat</td>\n",
       "      <td>2</td>\n",
       "      <td>31/01/2021</td>\n",
       "      <td>BioNTech / Pfizer</td>\n",
       "      <td>NaN</td>\n",
       "      <td>18</td>\n",
       "    </tr>\n",
       "    <tr>\n",
       "      <th>3</th>\n",
       "      <td>1.0</td>\n",
       "      <td>Dona</td>\n",
       "      <td>43.0</td>\n",
       "      <td>Tarragona</td>\n",
       "      <td>30.0</td>\n",
       "      <td>RIBERA D'EBRE</td>\n",
       "      <td>43019.0</td>\n",
       "      <td>ASCÓ</td>\n",
       "      <td>NaN</td>\n",
       "      <td>No classificat</td>\n",
       "      <td>2</td>\n",
       "      <td>06/05/2021</td>\n",
       "      <td>BioNTech / Pfizer</td>\n",
       "      <td>NaN</td>\n",
       "      <td>11</td>\n",
       "    </tr>\n",
       "    <tr>\n",
       "      <th>4</th>\n",
       "      <td>1.0</td>\n",
       "      <td>Dona</td>\n",
       "      <td>8.0</td>\n",
       "      <td>Barcelona</td>\n",
       "      <td>24.0</td>\n",
       "      <td>OSONA</td>\n",
       "      <td>8233.0</td>\n",
       "      <td>SANT PERE DE TORELLÓ</td>\n",
       "      <td>NaN</td>\n",
       "      <td>No classificat</td>\n",
       "      <td>2</td>\n",
       "      <td>13/05/2021</td>\n",
       "      <td>BioNTech / Pfizer</td>\n",
       "      <td>NaN</td>\n",
       "      <td>1</td>\n",
       "    </tr>\n",
       "  </tbody>\n",
       "</table>\n",
       "</div>"
      ],
      "text/plain": [
       "   SEXE_CODI  SEXE  PROVINCIA_CODI  PROVINCIA  COMARCA_CODI          COMARCA  \\\n",
       "0        0.0  Home             8.0  Barcelona          17.0           GARRAF   \n",
       "1        1.0  Dona             8.0  Barcelona          41.0  VALLES ORIENTAL   \n",
       "2        1.0  Dona             8.0  Barcelona          11.0   BAIX LLOBREGAT   \n",
       "3        1.0  Dona            43.0  Tarragona          30.0    RIBERA D'EBRE   \n",
       "4        1.0  Dona             8.0  Barcelona          24.0            OSONA   \n",
       "\n",
       "   MUNICIPI_CODI                    MUNICIPI  DISTRICTE_CODI       DISTRICTE  \\\n",
       "0         8270.0                      SITGES             NaN  No classificat   \n",
       "1         8209.0  SANT FOST DE CAMPSENTELLES             NaN  No classificat   \n",
       "2         8073.0       CORNELLÀ DE LLOBREGAT             NaN  No classificat   \n",
       "3        43019.0                        ASCÓ             NaN  No classificat   \n",
       "4         8233.0        SANT PERE DE TORELLÓ             NaN  No classificat   \n",
       "\n",
       "   DOSI        DATA          FABRICANT NO_VACUNAT  RECOMPTE  \n",
       "0     2  16/03/2021  BioNTech / Pfizer        NaN        56  \n",
       "1     1  11/01/2021  BioNTech / Pfizer        NaN        43  \n",
       "2     2  31/01/2021  BioNTech / Pfizer        NaN        18  \n",
       "3     2  06/05/2021  BioNTech / Pfizer        NaN        11  \n",
       "4     2  13/05/2021  BioNTech / Pfizer        NaN         1  "
      ]
     },
     "execution_count": 42,
     "metadata": {},
     "output_type": "execute_result"
    }
   ],
   "source": [
    "vdf.head()"
   ]
  },
  {
   "cell_type": "code",
   "execution_count": 43,
   "id": "b5624a11",
   "metadata": {},
   "outputs": [],
   "source": [
    "url = (\n",
    "    \"https://raw.githubusercontent.com/ine-rmotr-curriculum/FreeCodeCamp-Pandas-Real-Life-Example/master/data\"\n",
    ")\n",
    "sales = f\"{url}/sales_data.csv\"\n",
    "\n",
    "sales = pd.read_csv(sales)\n"
   ]
  },
  {
   "cell_type": "code",
   "execution_count": 44,
   "id": "75cb8827",
   "metadata": {},
   "outputs": [
    {
     "data": {
      "text/html": [
       "<div>\n",
       "<style scoped>\n",
       "    .dataframe tbody tr th:only-of-type {\n",
       "        vertical-align: middle;\n",
       "    }\n",
       "\n",
       "    .dataframe tbody tr th {\n",
       "        vertical-align: top;\n",
       "    }\n",
       "\n",
       "    .dataframe thead th {\n",
       "        text-align: right;\n",
       "    }\n",
       "</style>\n",
       "<table border=\"1\" class=\"dataframe\">\n",
       "  <thead>\n",
       "    <tr style=\"text-align: right;\">\n",
       "      <th></th>\n",
       "      <th>Day</th>\n",
       "      <th>Year</th>\n",
       "      <th>Customer_Age</th>\n",
       "      <th>Order_Quantity</th>\n",
       "      <th>Unit_Cost</th>\n",
       "      <th>Unit_Price</th>\n",
       "      <th>Profit</th>\n",
       "      <th>Cost</th>\n",
       "      <th>Revenue</th>\n",
       "    </tr>\n",
       "  </thead>\n",
       "  <tbody>\n",
       "    <tr>\n",
       "      <th>count</th>\n",
       "      <td>113036.000000</td>\n",
       "      <td>113036.000000</td>\n",
       "      <td>113036.000000</td>\n",
       "      <td>113036.000000</td>\n",
       "      <td>113036.000000</td>\n",
       "      <td>113036.000000</td>\n",
       "      <td>113036.000000</td>\n",
       "      <td>113036.000000</td>\n",
       "      <td>113036.000000</td>\n",
       "    </tr>\n",
       "    <tr>\n",
       "      <th>mean</th>\n",
       "      <td>15.665753</td>\n",
       "      <td>2014.401739</td>\n",
       "      <td>35.919212</td>\n",
       "      <td>11.901660</td>\n",
       "      <td>267.296366</td>\n",
       "      <td>452.938427</td>\n",
       "      <td>285.051665</td>\n",
       "      <td>469.318695</td>\n",
       "      <td>754.370360</td>\n",
       "    </tr>\n",
       "    <tr>\n",
       "      <th>std</th>\n",
       "      <td>8.781567</td>\n",
       "      <td>1.272510</td>\n",
       "      <td>11.021936</td>\n",
       "      <td>9.561857</td>\n",
       "      <td>549.835483</td>\n",
       "      <td>922.071219</td>\n",
       "      <td>453.887443</td>\n",
       "      <td>884.866118</td>\n",
       "      <td>1309.094674</td>\n",
       "    </tr>\n",
       "    <tr>\n",
       "      <th>min</th>\n",
       "      <td>1.000000</td>\n",
       "      <td>2011.000000</td>\n",
       "      <td>17.000000</td>\n",
       "      <td>1.000000</td>\n",
       "      <td>1.000000</td>\n",
       "      <td>2.000000</td>\n",
       "      <td>-30.000000</td>\n",
       "      <td>1.000000</td>\n",
       "      <td>2.000000</td>\n",
       "    </tr>\n",
       "    <tr>\n",
       "      <th>25%</th>\n",
       "      <td>8.000000</td>\n",
       "      <td>2013.000000</td>\n",
       "      <td>28.000000</td>\n",
       "      <td>2.000000</td>\n",
       "      <td>2.000000</td>\n",
       "      <td>5.000000</td>\n",
       "      <td>29.000000</td>\n",
       "      <td>28.000000</td>\n",
       "      <td>63.000000</td>\n",
       "    </tr>\n",
       "    <tr>\n",
       "      <th>50%</th>\n",
       "      <td>16.000000</td>\n",
       "      <td>2014.000000</td>\n",
       "      <td>35.000000</td>\n",
       "      <td>10.000000</td>\n",
       "      <td>9.000000</td>\n",
       "      <td>24.000000</td>\n",
       "      <td>101.000000</td>\n",
       "      <td>108.000000</td>\n",
       "      <td>223.000000</td>\n",
       "    </tr>\n",
       "    <tr>\n",
       "      <th>75%</th>\n",
       "      <td>23.000000</td>\n",
       "      <td>2016.000000</td>\n",
       "      <td>43.000000</td>\n",
       "      <td>20.000000</td>\n",
       "      <td>42.000000</td>\n",
       "      <td>70.000000</td>\n",
       "      <td>358.000000</td>\n",
       "      <td>432.000000</td>\n",
       "      <td>800.000000</td>\n",
       "    </tr>\n",
       "    <tr>\n",
       "      <th>max</th>\n",
       "      <td>31.000000</td>\n",
       "      <td>2016.000000</td>\n",
       "      <td>87.000000</td>\n",
       "      <td>32.000000</td>\n",
       "      <td>2171.000000</td>\n",
       "      <td>3578.000000</td>\n",
       "      <td>15096.000000</td>\n",
       "      <td>42978.000000</td>\n",
       "      <td>58074.000000</td>\n",
       "    </tr>\n",
       "  </tbody>\n",
       "</table>\n",
       "</div>"
      ],
      "text/plain": [
       "                 Day           Year   Customer_Age  Order_Quantity  \\\n",
       "count  113036.000000  113036.000000  113036.000000   113036.000000   \n",
       "mean       15.665753    2014.401739      35.919212       11.901660   \n",
       "std         8.781567       1.272510      11.021936        9.561857   \n",
       "min         1.000000    2011.000000      17.000000        1.000000   \n",
       "25%         8.000000    2013.000000      28.000000        2.000000   \n",
       "50%        16.000000    2014.000000      35.000000       10.000000   \n",
       "75%        23.000000    2016.000000      43.000000       20.000000   \n",
       "max        31.000000    2016.000000      87.000000       32.000000   \n",
       "\n",
       "           Unit_Cost     Unit_Price         Profit           Cost  \\\n",
       "count  113036.000000  113036.000000  113036.000000  113036.000000   \n",
       "mean      267.296366     452.938427     285.051665     469.318695   \n",
       "std       549.835483     922.071219     453.887443     884.866118   \n",
       "min         1.000000       2.000000     -30.000000       1.000000   \n",
       "25%         2.000000       5.000000      29.000000      28.000000   \n",
       "50%         9.000000      24.000000     101.000000     108.000000   \n",
       "75%        42.000000      70.000000     358.000000     432.000000   \n",
       "max      2171.000000    3578.000000   15096.000000   42978.000000   \n",
       "\n",
       "             Revenue  \n",
       "count  113036.000000  \n",
       "mean      754.370360  \n",
       "std      1309.094674  \n",
       "min         2.000000  \n",
       "25%        63.000000  \n",
       "50%       223.000000  \n",
       "75%       800.000000  \n",
       "max     58074.000000  "
      ]
     },
     "execution_count": 44,
     "metadata": {},
     "output_type": "execute_result"
    }
   ],
   "source": [
    "sales.describe()"
   ]
  },
  {
   "cell_type": "code",
   "execution_count": 45,
   "id": "d6ca2a19",
   "metadata": {},
   "outputs": [
    {
     "data": {
      "text/plain": [
       "267.296365759581"
      ]
     },
     "execution_count": 45,
     "metadata": {},
     "output_type": "execute_result"
    }
   ],
   "source": [
    "sales['Unit_Cost'].mean()"
   ]
  },
  {
   "cell_type": "code",
   "execution_count": 46,
   "id": "96444683",
   "metadata": {},
   "outputs": [
    {
     "data": {
      "text/plain": [
       "9.0"
      ]
     },
     "execution_count": 46,
     "metadata": {},
     "output_type": "execute_result"
    }
   ],
   "source": [
    "sales['Unit_Cost'].median()\n",
    "#mediana és el valor de la puntuació que deixa per baix la meitat de les dades."
   ]
  },
  {
   "cell_type": "code",
   "execution_count": 47,
   "id": "e6547b48",
   "metadata": {
    "scrolled": true
   },
   "outputs": [
    {
     "data": {
      "text/plain": [
       "<AxesSubplot:>"
      ]
     },
     "execution_count": 47,
     "metadata": {},
     "output_type": "execute_result"
    },
    {
     "data": {
      "image/png": "[encoded data removed]",
      "text/plain": [
       "<Figure size 1008x432 with 1 Axes>"
      ]
     },
     "metadata": {
      "needs_background": "light"
     },
     "output_type": "display_data"
    }
   ],
   "source": [
    "sales['Unit_Cost'].plot(kind='box', vert=False, figsize=(14,6))\n",
    "#let see outliers"
   ]
  },
  {
   "cell_type": "code",
   "execution_count": 48,
   "id": "9ebf86f6",
   "metadata": {
    "scrolled": true
   },
   "outputs": [
    {
     "data": {
      "text/plain": [
       "<AxesSubplot:ylabel='Density'>"
      ]
     },
     "execution_count": 48,
     "metadata": {},
     "output_type": "execute_result"
    },
    {
     "data": {
      "image/png": "[encoded data removed]",
      "text/plain": [
       "<Figure size 1008x432 with 1 Axes>"
      ]
     },
     "metadata": {
      "needs_background": "light"
     },
     "output_type": "display_data"
    }
   ],
   "source": [
    "sales['Unit_Cost'].plot(kind='density',  figsize=(14,6))#density plot "
   ]
  },
  {
   "cell_type": "code",
   "execution_count": null,
   "id": "d1d75502",
   "metadata": {},
   "outputs": [],
   "source": []
  },
  {
   "cell_type": "code",
   "execution_count": null,
   "id": "cc73f66c",
   "metadata": {},
   "outputs": [],
   "source": []
  }
 ],
 "metadata": {
  "kernelspec": {
   "display_name": "Python 3",
   "language": "python",
   "name": "python3"
  },
  "language_info": {
   "codemirror_mode": {
    "name": "ipython",
    "version": 3
   },
   "file_extension": ".py",
   "mimetype": "text/x-python",
   "name": "python",
   "nbconvert_exporter": "python",
   "pygments_lexer": "ipython3",
   "version": "3.9.4"
  }
 },
 "nbformat": 4,
 "nbformat_minor": 5
}
